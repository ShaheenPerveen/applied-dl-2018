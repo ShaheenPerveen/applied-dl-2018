{
 "cells": [
  {
   "cell_type": "markdown",
   "metadata": {},
   "source": [
    "# SeNet Generic multi"
   ]
  },
  {
   "cell_type": "code",
   "execution_count": 1,
   "metadata": {
    "_cell_guid": "42dcf0c0-28f0-4386-9ee3-367f3606aa30",
    "_uuid": "33595673f3f93faf28ed0ac10f0a7c0e59a9c0ad"
   },
   "outputs": [
    {
     "name": "stdout",
     "output_type": "stream",
     "text": [
      "__Python VERSION: 3.6.2 |Anaconda custom (64-bit)| (default, Sep 19 2017, 08:03:39) [MSC v.1900 64 bit (AMD64)]\n",
      "__pyTorch VERSION: 0.3.1.post2\n",
      "__CUDA VERSION\n",
      "nvcc: NVIDIA (R) Cuda compiler driver\n",
      "Copyright (c) 2005-2017 NVIDIA Corporation\n",
      "Built on Fri_Sep__1_21:08:32_Central_Daylight_Time_2017\n",
      "Cuda compilation tools, release 9.0, V9.0.176\n",
      "__CUDNN VERSION: 7003\n",
      "__Number CUDA Devices: 1\n",
      "__Devices\n",
      "Active CUDA Device: GPU 0\n",
      "Available devices  1\n",
      "Current cuda device  0\n",
      "USE CUDA=True\n"
     ]
    }
   ],
   "source": [
    "%reset -f \n",
    "%matplotlib inline\n",
    "import matplotlib.pyplot as plt\n",
    "import time\n",
    "from shutil import copyfile\n",
    "from os.path import isfile, join, abspath, exists, isdir, expanduser\n",
    "from os import listdir, makedirs, getcwd, remove\n",
    "from PIL import Image\n",
    "from mpl_toolkits.axes_grid1 import ImageGrid\n",
    "import pandas as pd\n",
    "import numpy as np\n",
    "import torch\n",
    "from torch.optim import lr_scheduler\n",
    "from torch.autograd import Variable\n",
    "from torch.utils.data import Dataset, DataLoader\n",
    "import torch.nn.functional as func\n",
    "import torchvision\n",
    "from torchvision import transforms, datasets, models\n",
    "import random \n",
    "\n",
    "\n",
    "import sys\n",
    "print('__Python VERSION:', sys.version)\n",
    "print('__pyTorch VERSION:', torch.__version__)\n",
    "print('__CUDA VERSION')\n",
    "from subprocess import call\n",
    "# call([\"nvcc\", \"--version\"]) does not work\n",
    "! nvcc --version\n",
    "print('__CUDNN VERSION:', torch.backends.cudnn.version())\n",
    "print('__Number CUDA Devices:', torch.cuda.device_count())\n",
    "print('__Devices')\n",
    "# call([\"nvidia-smi\", \"--format=csv\", \"--query-gpu=index,name,driver_version,memory.total,memory.used,memory.free\"])\n",
    "print('Active CUDA Device: GPU', torch.cuda.current_device())\n",
    "\n",
    "print ('Available devices ', torch.cuda.device_count())\n",
    "print ('Current cuda device ', torch.cuda.current_device())\n",
    "\n",
    "use_cuda = torch.cuda.is_available()\n",
    "# use_cuda = False\n",
    "\n",
    "print(\"USE CUDA=\" + str (use_cuda))\n",
    "FloatTensor = torch.cuda.FloatTensor if use_cuda else torch.FloatTensor\n",
    "LongTensor = torch.cuda.LongTensor if use_cuda else torch.LongTensor\n",
    "Tensor = FloatTensor\n",
    "\n",
    "manualSeed = None\n",
    "def fixSeed(seed):\n",
    "    random.seed(seed)\n",
    "    np.random.seed(seed)\n",
    "    torch.manual_seed(seed)\n",
    "    if use_cuda:\n",
    "        torch.cuda.manual_seed(seed)\n",
    "        torch.cuda.manual_seed_all(seed)\n",
    "\n",
    "\n",
    "if manualSeed is None:\n",
    "        manualSeed = 999\n",
    "fixSeed(manualSeed)\n",
    "\n"
   ]
  },
  {
   "cell_type": "code",
   "execution_count": 2,
   "metadata": {
    "collapsed": true
   },
   "outputs": [],
   "source": [
    "import os,sys,inspect\n",
    "currentdir = os.path.dirname(os.path.abspath(inspect.getfile(inspect.currentframe())))\n",
    "parentdir = os.path.dirname(currentdir)\n",
    "sys.path.insert(0,parentdir) \n",
    "\n",
    "from kmodels import *\n",
    "from kdataset import *"
   ]
  },
  {
   "cell_type": "markdown",
   "metadata": {
    "_cell_guid": "579bc4ea-49c2-4413-a4bf-57472a155db4",
    "_uuid": "ab87c9fc87053c27d96e4765be8a942e91bf79bd"
   },
   "source": [
    "### Define Custom Dataset"
   ]
  },
  {
   "cell_type": "code",
   "execution_count": 3,
   "metadata": {
    "_cell_guid": "796ac7f9-d66a-4856-acba-b1be8f4960b6",
    "_uuid": "e32251e2e44d9bf3b14af6153643b36110cb17ef"
   },
   "outputs": [
    {
     "name": "stdout",
     "output_type": "stream",
     "text": [
      "['cat', 'dog']\n",
      "{'cat': 0, 'dog': 1}\n",
      "{0: 'cat', 1: 'dog'}\n"
     ]
    },
    {
     "data": {
      "text/html": [
       "<div>\n",
       "<style scoped>\n",
       "    .dataframe tbody tr th:only-of-type {\n",
       "        vertical-align: middle;\n",
       "    }\n",
       "\n",
       "    .dataframe tbody tr th {\n",
       "        vertical-align: top;\n",
       "    }\n",
       "\n",
       "    .dataframe thead th {\n",
       "        text-align: right;\n",
       "    }\n",
       "</style>\n",
       "<table border=\"1\" class=\"dataframe\">\n",
       "  <thead>\n",
       "    <tr style=\"text-align: right;\">\n",
       "      <th></th>\n",
       "      <th>file</th>\n",
       "      <th>category</th>\n",
       "      <th>category_id</th>\n",
       "    </tr>\n",
       "  </thead>\n",
       "  <tbody>\n",
       "    <tr>\n",
       "      <th>0</th>\n",
       "      <td>cat/cat.0.jpg</td>\n",
       "      <td>cat</td>\n",
       "      <td>0</td>\n",
       "    </tr>\n",
       "    <tr>\n",
       "      <th>1</th>\n",
       "      <td>cat/cat.1.jpg</td>\n",
       "      <td>cat</td>\n",
       "      <td>0</td>\n",
       "    </tr>\n",
       "    <tr>\n",
       "      <th>2</th>\n",
       "      <td>cat/cat.10.jpg</td>\n",
       "      <td>cat</td>\n",
       "      <td>0</td>\n",
       "    </tr>\n",
       "    <tr>\n",
       "      <th>3</th>\n",
       "      <td>cat/cat.100.jpg</td>\n",
       "      <td>cat</td>\n",
       "      <td>0</td>\n",
       "    </tr>\n",
       "    <tr>\n",
       "      <th>4</th>\n",
       "      <td>cat/cat.1000.jpg</td>\n",
       "      <td>cat</td>\n",
       "      <td>0</td>\n",
       "    </tr>\n",
       "  </tbody>\n",
       "</table>\n",
       "</div>"
      ],
      "text/plain": [
       "               file category  category_id\n",
       "0     cat/cat.0.jpg      cat            0\n",
       "1     cat/cat.1.jpg      cat            0\n",
       "2    cat/cat.10.jpg      cat            0\n",
       "3   cat/cat.100.jpg      cat            0\n",
       "4  cat/cat.1000.jpg      cat            0"
      ]
     },
     "execution_count": 3,
     "metadata": {},
     "output_type": "execute_result"
    }
   ],
   "source": [
    "import os\n",
    "dataset='cat-dog' # bone , cat-dog   d:/db/data/cat-dog/train/ ISIC2017\n",
    "data_dir= 'd:/db/data/' +  dataset + '/train/'\n",
    "# data_dir_valid= 'd:/db/data/' +  dataset + '/valid/'\n",
    "\n",
    "classes, class_to_idx, num_to_class, df =GenericDataset.find_classes (data_dir )\n",
    "\n",
    "print (classes)\n",
    "print (class_to_idx)\n",
    "print (num_to_class)\n",
    "df.head(5)    "
   ]
  },
  {
   "cell_type": "code",
   "execution_count": 4,
   "metadata": {},
   "outputs": [
    {
     "data": {
      "text/plain": [
       "2"
      ]
     },
     "execution_count": 4,
     "metadata": {},
     "output_type": "execute_result"
    }
   ],
   "source": [
    "len(classes)"
   ]
  },
  {
   "cell_type": "markdown",
   "metadata": {},
   "source": [
    "# Target distribution : Train set"
   ]
  },
  {
   "cell_type": "code",
   "execution_count": 5,
   "metadata": {},
   "outputs": [
    {
     "name": "stderr",
     "output_type": "stream",
     "text": [
      "c:\\Anaconda3\\lib\\site-packages\\seaborn\\categorical.py:1460: FutureWarning: remove_na is deprecated and is a private function. Do not use.\n",
      "  stat_data = remove_na(group_data)\n"
     ]
    },
    {
     "data": {
      "image/png": "[encoded data removed]",
      "text/plain": [
       "<matplotlib.figure.Figure at 0x1cc5f40f4e0>"
      ]
     },
     "metadata": {},
     "output_type": "display_data"
    }
   ],
   "source": [
    "import seaborn as sns\n",
    "sns.set(color_codes=True)\n",
    "pal = sns.color_palette()\n",
    "sns.set_style(\"whitegrid\")\n",
    "\n",
    "labels = df['category'].apply(lambda x: x.split(' '))\n",
    "from collections import Counter, defaultdict\n",
    "counts = defaultdict(int)\n",
    "for l in labels:\n",
    "    for l2 in l:\n",
    "        counts[l2] += 1\n",
    "\n",
    "counts_df = pd.DataFrame.from_dict(counts, orient='index')\n",
    "counts_df.columns = ['count']\n",
    "counts_df.sort_values('count', ascending=False, inplace=True)\n",
    "\n",
    "fig, ax = plt.subplots()\n",
    "ax = sns.barplot(x=counts_df.index, y=counts_df['count'], ax=ax)\n",
    "fig.set_size_inches(20,8)\n",
    "ax.set_xticklabels(ax.xaxis.get_majorticklabels(), rotation=-45);"
   ]
  },
  {
   "cell_type": "markdown",
   "metadata": {},
   "source": [
    "# Augmentation "
   ]
  },
  {
   "cell_type": "code",
   "execution_count": 6,
   "metadata": {
    "collapsed": true
   },
   "outputs": [],
   "source": [
    "from __future__ import absolute_import\n",
    "\n",
    "from torchvision.transforms import *\n",
    "\n",
    "from PIL import Image, ImageDraw\n",
    "import numpy as np\n",
    "import torch\n",
    "\n",
    "import torchvision\n",
    "import random\n",
    "from PIL import Image, ImageOps\n",
    "import numpy as np\n",
    "import numbers\n",
    "import math\n",
    "import torch\n",
    "import torch\n",
    "import random\n",
    "import PIL.ImageEnhance as ie\n",
    "import PIL.Image as im\n",
    "\n",
    "# adapted from https://github.com/kuangliu/pytorch-retinanet/blob/master/transform.py\n",
    "# https://github.com/mratsim/Amazon-Forest-Computer-Vision/blob/master/src/p_data_augmentation.py\n",
    "\n",
    "normalize_img = torchvision.transforms.Normalize(mean=[0.485, 0.456, 0.406],\n",
    "                                     std=[0.229, 0.224, 0.225])\n",
    "\n",
    "from ktransforms import *"
   ]
  },
  {
   "cell_type": "markdown",
   "metadata": {
    "_cell_guid": "bc8a9969-280a-4ec8-850b-25aed1ee38d6",
    "_uuid": "0163fcd2a2ea5a4e93bc87f47a96f404bcad6a83"
   },
   "source": [
    "## Setup transforms, datasets, and dataloaders\n",
    "\n",
    "- Data loaders spit out data from a dataset in batches. This is what you actually feed the neural network during training."
   ]
  },
  {
   "cell_type": "code",
   "execution_count": 7,
   "metadata": {
    "_cell_guid": "f94cb9fa-e76a-46d5-a363-8856b45c59e1",
    "_uuid": "fe82da4f8b1501203d12027200d1f8d2209f0057"
   },
   "outputs": [
    {
     "name": "stdout",
     "output_type": "stream",
     "text": [
      "{'train': 19125, 'valid': 3375}\n",
      "0    9570\n",
      "1    9555\n",
      "Name: category_id, dtype: int64\n"
     ]
    },
    {
     "data": {
      "text/plain": [
       "<matplotlib.axes._subplots.AxesSubplot at 0x1cc60253518>"
      ]
     },
     "execution_count": 7,
     "metadata": {},
     "output_type": "execute_result"
    },
    {
     "data": {
      "image/png": "[encoded data removed]",
      "text/plain": [
       "<matplotlib.figure.Figure at 0x1cc6023dda0>"
      ]
     },
     "metadata": {},
     "output_type": "display_data"
    }
   ],
   "source": [
    "image_size = 224\n",
    "\n",
    "normalize_img = torchvision.transforms.Normalize(mean=[0.485, 0.456, 0.406],\n",
    "                                     std=[0.229, 0.224, 0.225])\n",
    "\n",
    "\n",
    "train_trans = transforms.Compose([\n",
    "    transforms.RandomSizedCrop(image_size),\n",
    "    PowerPIL(),\n",
    "    transforms.ToTensor(),\n",
    "#     normalize_img,\n",
    "    RandomErasing()\n",
    "])\n",
    "\n",
    "## Normalization only for validation and test\n",
    "valid_trans = transforms.Compose([\n",
    "    transforms.Scale(256),\n",
    "    transforms.CenterCrop(image_size),\n",
    "    transforms.ToTensor(),\n",
    "#     normalize_img\n",
    "])\n",
    "\n",
    "batch_size = 8\n",
    "train_data = df.sample(frac=0.85)\n",
    "valid_data = df[~df['file'].isin(train_data['file'])]\n",
    "\n",
    "train_set = GenericDataset(train_data, data_dir, transform = train_trans)\n",
    "valid_set = GenericDataset(valid_data, data_dir, transform = valid_trans)\n",
    "        \n",
    "\n",
    "t_loader = DataLoader(train_set, batch_size=batch_size, shuffle=True, num_workers=0)\n",
    "v_loader = DataLoader(valid_set, batch_size=batch_size, shuffle=True, num_workers=0)\n",
    "# test_loader  = DataLoader(test_set, batch_size=batch_size, shuffle=False, num_workers=4)\n",
    "\n",
    "dataset_sizes = {\n",
    "    'train': len(t_loader.dataset), \n",
    "    'valid': len(v_loader.dataset)\n",
    "}\n",
    "\n",
    "\n",
    "print (dataset_sizes)\n",
    "print (train_data[\"category_id\"].value_counts())\n",
    "\n",
    "train_data['category_id'].value_counts().plot(kind='bar')"
   ]
  },
  {
   "cell_type": "code",
   "execution_count": 8,
   "metadata": {},
   "outputs": [
    {
     "data": {
      "text/plain": [
       "<matplotlib.axes._subplots.AxesSubplot at 0x1cc60287ba8>"
      ]
     },
     "execution_count": 8,
     "metadata": {},
     "output_type": "execute_result"
    },
    {
     "data": {
      "image/png": "[encoded data removed]",
      "text/plain": [
       "<matplotlib.figure.Figure at 0x1cc60220f98>"
      ]
     },
     "metadata": {},
     "output_type": "display_data"
    }
   ],
   "source": [
    "valid_data['category_id'].value_counts().plot(kind='bar')"
   ]
  },
  {
   "cell_type": "markdown",
   "metadata": {},
   "source": [
    "### Test the DataLoader Class"
   ]
  },
  {
   "cell_type": "code",
   "execution_count": 9,
   "metadata": {},
   "outputs": [
    {
     "name": "stdout",
     "output_type": "stream",
     "text": [
      "i=0: \n",
      "i=1: \n",
      "i=2: \n",
      "i=3: \n"
     ]
    },
    {
     "data": {
      "image/png": "[encoded data removed]",
      "text/plain": [
       "<matplotlib.figure.Figure at 0x1cc5faf7470>"
      ]
     },
     "metadata": {},
     "output_type": "display_data"
    }
   ],
   "source": [
    "imagesToShow=4\n",
    "\n",
    "def flaotTensorToImage(img, mean=0, std=1):\n",
    "        \"\"\"convert a tensor to an image\"\"\"\n",
    "        img = np.transpose(img.numpy(), (1, 2, 0))\n",
    "        img = (img*std+ mean)*255\n",
    "        img = img.astype(np.uint8)    \n",
    "        return img    \n",
    "\n",
    "if __name__ == '__main__':  \n",
    "    for i, data in enumerate(t_loader, 0):\n",
    "        print('i=%d: '%(i))            \n",
    "        images, labels = data            \n",
    "        num = len(images)\n",
    "\n",
    "        ax = plt.subplot(1, imagesToShow, i + 1)\n",
    "        plt.tight_layout()\n",
    "        ax.set_title('Sample #{}'.format(i))\n",
    "        ax.axis('off')\n",
    "\n",
    "        for n in range(num):\n",
    "            image=images[n]\n",
    "            label=labels[n]\n",
    "            plt.imshow (flaotTensorToImage(image))\n",
    "\n",
    "        if i==imagesToShow-1:\n",
    "            break"
   ]
  },
  {
   "cell_type": "markdown",
   "metadata": {
    "_cell_guid": "d966c8a9-d189-4b76-8def-6180f9498154",
    "_uuid": "fde155bdd9ce81e2598146c263cedfa65eaba806"
   },
   "source": [
    "## Define the model\n",
    "- A simple CNN with great performance (95% accuracy) \n",
    "- In PyTorch, a model is defined by a subclass of nn.Module. It has two methods:\n",
    "\n",
    "`__init__:` constructor. Create layers here. Note that we don't define the connections between layers in this function.\n",
    "\n",
    "`forward(x):` forward function. Receives an input variable x. Returns a output variable. Note that we actually connect the layers here dynamically."
   ]
  },
  {
   "cell_type": "code",
   "execution_count": 10,
   "metadata": {
    "_cell_guid": "f2eb7b14-c63b-4fdf-8370-baabd48a9943",
    "_uuid": "29184efaeb75c7105b9f144550b68814c577534a"
   },
   "outputs": [
    {
     "name": "stdout",
     "output_type": "stream",
     "text": [
      "SimpleNet(\n",
      "  (avgpool): AdaptiveAvgPool2d(output_size=1)\n",
      "  (cnn1): ConvCNN(\n",
      "    (math): Sequential(\n",
      "      (0): Conv2d(3, 64, kernel_size=(7, 7), stride=(1, 1), padding=(2, 2))\n",
      "      (1): BatchNorm2d(64, eps=1e-05, momentum=0.1, affine=True)\n",
      "      (2): LeakyReLU(0.01)\n",
      "      (3): MaxPool2d(kernel_size=(4, 4), stride=(4, 4), dilation=(1, 1), ceil_mode=False)\n",
      "    )\n",
      "    (avgpool): AvgPool2d(kernel_size=4, stride=4, padding=0, ceil_mode=False, count_include_pad=True)\n",
      "  )\n",
      "  (cnn2): ConvCNN(\n",
      "    (math): Sequential(\n",
      "      (0): Conv2d(64, 64, kernel_size=(5, 5), stride=(1, 1), padding=(2, 2))\n",
      "      (1): BatchNorm2d(64, eps=1e-05, momentum=0.1, affine=True)\n",
      "      (2): LeakyReLU(0.01)\n",
      "      (3): MaxPool2d(kernel_size=(2, 2), stride=(2, 2), dilation=(1, 1), ceil_mode=False)\n",
      "    )\n",
      "    (avgpool): AvgPool2d(kernel_size=2, stride=2, padding=0, ceil_mode=False, count_include_pad=True)\n",
      "  )\n",
      "  (cnn3): ConvCNN(\n",
      "    (math): Sequential(\n",
      "      (0): Conv2d(64, 512, kernel_size=(5, 5), stride=(1, 1), padding=(2, 2))\n",
      "      (1): BatchNorm2d(512, eps=1e-05, momentum=0.1, affine=True)\n",
      "      (2): LeakyReLU(0.01)\n",
      "      (3): MaxPool2d(kernel_size=(2, 2), stride=(2, 2), dilation=(1, 1), ceil_mode=False)\n",
      "    )\n",
      "    (avgpool): AvgPool2d(kernel_size=2, stride=2, padding=0, ceil_mode=False, count_include_pad=True)\n",
      "  )\n",
      "  (res1): ConvRes(\n",
      "    (math): Sequential(\n",
      "      (0): BatchNorm2d(512, eps=1e-05, momentum=0.1, affine=True)\n",
      "      (1): Dropout(p=0.3)\n",
      "      (2): Conv2d(512, 64, kernel_size=(2, 2), stride=(1, 1), padding=(2, 2))\n",
      "      (3): PReLU(num_parameters=1)\n",
      "    )\n",
      "  )\n",
      "  (features): Sequential(\n",
      "    (0): ConvCNN(\n",
      "      (math): Sequential(\n",
      "        (0): Conv2d(3, 64, kernel_size=(7, 7), stride=(1, 1), padding=(2, 2))\n",
      "        (1): BatchNorm2d(64, eps=1e-05, momentum=0.1, affine=True)\n",
      "        (2): LeakyReLU(0.01)\n",
      "        (3): MaxPool2d(kernel_size=(4, 4), stride=(4, 4), dilation=(1, 1), ceil_mode=False)\n",
      "      )\n",
      "      (avgpool): AvgPool2d(kernel_size=4, stride=4, padding=0, ceil_mode=False, count_include_pad=True)\n",
      "    )\n",
      "    (1): Dropout(p=0.6)\n",
      "    (2): ConvCNN(\n",
      "      (math): Sequential(\n",
      "        (0): Conv2d(64, 64, kernel_size=(5, 5), stride=(1, 1), padding=(2, 2))\n",
      "        (1): BatchNorm2d(64, eps=1e-05, momentum=0.1, affine=True)\n",
      "        (2): LeakyReLU(0.01)\n",
      "        (3): MaxPool2d(kernel_size=(2, 2), stride=(2, 2), dilation=(1, 1), ceil_mode=False)\n",
      "      )\n",
      "      (avgpool): AvgPool2d(kernel_size=2, stride=2, padding=0, ceil_mode=False, count_include_pad=True)\n",
      "    )\n",
      "    (3): ConvCNN(\n",
      "      (math): Sequential(\n",
      "        (0): Conv2d(64, 512, kernel_size=(5, 5), stride=(1, 1), padding=(2, 2))\n",
      "        (1): BatchNorm2d(512, eps=1e-05, momentum=0.1, affine=True)\n",
      "        (2): LeakyReLU(0.01)\n",
      "        (3): MaxPool2d(kernel_size=(2, 2), stride=(2, 2), dilation=(1, 1), ceil_mode=False)\n",
      "      )\n",
      "      (avgpool): AvgPool2d(kernel_size=2, stride=2, padding=0, ceil_mode=False, count_include_pad=True)\n",
      "    )\n",
      "    (4): ConvRes(\n",
      "      (math): Sequential(\n",
      "        (0): BatchNorm2d(512, eps=1e-05, momentum=0.1, affine=True)\n",
      "        (1): Dropout(p=0.3)\n",
      "        (2): Conv2d(512, 64, kernel_size=(2, 2), stride=(1, 1), padding=(2, 2))\n",
      "        (3): PReLU(num_parameters=1)\n",
      "      )\n",
      "    )\n",
      "  )\n",
      "  (classifier): Sequential(\n",
      "    (0): Linear(in_features=2304, out_features=2, bias=True)\n",
      "  )\n",
      ")\n"
     ]
    }
   ],
   "source": [
    "import torch\n",
    "import torch.nn as nn\n",
    "import torch.nn.functional as F\n",
    "import torch.optim as optim\n",
    "from torchvision import datasets, transforms\n",
    "from torch.autograd import Variable\n",
    "import math \n",
    "import torch\n",
    "import torch.nn as nn\n",
    "import torch.nn.functional as F\n",
    "from torch.autograd import Variable\n",
    "from collections import OrderedDict\n",
    "from torch.nn import init\n",
    "import numpy as np\n",
    "\n",
    "model = SimpleNet(len(classes), 3)\n",
    "# model =vggnetXX_generic(len(classes), 3)\n",
    "# model =lenetXX_generic(len(classes), 3)\n",
    "# model =resnetxtXX_generic(len(classes), 3)\n",
    "# model =wrnXX_generic(len(classes), 3)\n",
    "# model = senetXX_generic(len(classes), 3, 32)\n",
    "\n",
    "\n",
    "criterion = torch.nn.CrossEntropyLoss()\n",
    "lr= 0.00005 * 2 * 2\n",
    "optimizer = torch.optim.Adam(model.parameters(),lr=lr)\n",
    "\n",
    "if use_cuda:\n",
    "    model = model.cuda()\n",
    "# model = senetXX_generic(len(classes), 3, 32)\n",
    "model_name = (type(model).__name__) # remember the real name\n",
    "# model = torch.nn.DataParallel(model, device_ids=list(range(4)))\n",
    "print(model)"
   ]
  },
  {
   "cell_type": "markdown",
   "metadata": {},
   "source": [
    "# Metrics and Tensorboard"
   ]
  },
  {
   "cell_type": "code",
   "execution_count": 11,
   "metadata": {},
   "outputs": [
    {
     "data": {
      "text/plain": [
       "'0:16:40.00'"
      ]
     },
     "execution_count": 11,
     "metadata": {},
     "output_type": "execute_result"
    }
   ],
   "source": [
    "import datetime \n",
    "\n",
    "from utils import *\n",
    "\n",
    "NOW_TIME = datetime.datetime.now()\n",
    "NOW_TIME =NOW_TIME.strftime(\"%Y-%m-%d %H:%M\")\n",
    "\n",
    "use_tensorboard=False\n",
    "\n",
    "hms_string(1000)"
   ]
  },
  {
   "cell_type": "markdown",
   "metadata": {
    "_cell_guid": "0cd8c571-5d93-42b6-9ef0-9c16b6d43ef7",
    "_uuid": "1257d2cc10e64019a8ca94c814d4e179a45e04cd"
   },
   "source": [
    "### Training"
   ]
  },
  {
   "cell_type": "code",
   "execution_count": 12,
   "metadata": {
    "_cell_guid": "f2cd5d63-c765-476a-9258-0152d8a06360",
    "_uuid": "d5ecfa57978ed8afd52e1551f6f5688ce9e16a5c"
   },
   "outputs": [
    {
     "name": "stderr",
     "output_type": "stream",
     "text": [
      "c:\\Anaconda3\\lib\\site-packages\\sklearn\\cross_validation.py:41: DeprecationWarning: This module was deprecated in version 0.18 in favor of the model_selection module into which all the refactored classes and functions are moved. Also note that the interface of the new CV iterators are different from that of this module. This module will be removed in 0.20.\n",
      "  \"This module will be removed in 0.20.\", DeprecationWarning)\n"
     ]
    }
   ],
   "source": [
    "from tqdm import tqdm \n",
    "from sklearn import metrics\n",
    "import torch\n",
    "import numpy as np\n",
    "from sklearn import cross_validation\n",
    "from sklearn import metrics\n",
    "from sklearn.metrics import roc_auc_score, log_loss, roc_auc_score, roc_curve, auc\n",
    "\n",
    "def train(train_loader, model, epoch, optimizer):\n",
    "    if use_cuda:\n",
    "        model.cuda()\n",
    "        criterion.cuda()\n",
    "\n",
    "    batch_time = AverageMeter()\n",
    "    data_time = AverageMeter()\n",
    "    losses = AverageMeter()\n",
    "    acc = AverageMeter()\n",
    "   \n",
    "    # switch to train mode\n",
    "    model.train()\n",
    "\n",
    "    end = time.time()\n",
    "    for batch_idx, (images, target) in enumerate(train_loader): \n",
    "        correct = 0\n",
    "        # measure data loading time\n",
    "        data_time.update(time.time() - end)\n",
    "\n",
    "        if use_cuda:\n",
    "            images, target = images.cuda(), target.cuda()\n",
    "            images, target = Variable(images), Variable(target)\n",
    "        # compute y_pred\n",
    "        y_pred = model(images)\n",
    "        loss = criterion(y_pred, target)\n",
    "\n",
    "        # measure accuracy and record loss\n",
    "        prec1, prec1 = accuracy2(y_pred.data, target.data, topk=(1, 1))\n",
    "        losses.update(loss.data[0], images.size(0))\n",
    "        acc.update(prec1[0], images.size(0))\n",
    "        \n",
    "        pred = y_pred.data.max(1)[1] # get the index of the max log-probability\n",
    "        correct += pred.eq(target.data).cpu().sum()\n",
    "        accuracy = 100. * correct / len(images)\n",
    "        \n",
    "        # compute gradient and do SGD step\n",
    "        optimizer.zero_grad()\n",
    "        loss.backward()\n",
    "        optimizer.step()\n",
    "\n",
    "        # measure elapsed time\n",
    "        batch_time.update(time.time() - end)\n",
    "        end = time.time()\n",
    "\n",
    "        if batch_idx % 200  == 0:\n",
    "            print('TRAIN: LOSS-->{loss.val:.4f} ({loss.avg:.4f})\\t' 'ACC-->{acc.val:.3f}% ({acc.avg:.3f}%)'.format(loss=losses, acc=acc))\n",
    "            if use_tensorboard:\n",
    "                exp.add_scalar_value('tr_epoch_loss', losses.avg, step=epoch)\n",
    "                exp.add_scalar_value('tr_epoch_acc', acc.avg, step=epoch)\n",
    "                \n",
    "            print('TRAIN: {} [{}/{} ({:.0f}%)]\\tLoss: {:.6f}, Accuracy: {}/{} ({:.3f}%)'.format(\n",
    "                epoch, batch_idx * len(images), len(train_loader.dataset),\n",
    "                100. * batch_idx / len(train_loader), loss.data[0],\n",
    "                correct, len(images),\n",
    "                accuracy))            \n",
    "    \n",
    "\n",
    "    return float('{loss.avg:.4f}'.format(loss=losses)), float('{acc.avg:.4f}'.format(acc=acc))\n",
    "\n",
    "def validate(val_loader, model, epoch):\n",
    "    if use_cuda:\n",
    "        model.cuda()\n",
    "        criterion.cuda()\n",
    "\n",
    "    batch_time = AverageMeter()\n",
    "    losses = AverageMeter()\n",
    "    acc = AverageMeter()\n",
    "\n",
    "    # switch to evaluate mode\n",
    "    model.eval()\n",
    "\n",
    "    end = time.time()\n",
    "    for i, (images, labels) in enumerate(val_loader):\n",
    "\n",
    "        if use_cuda:\n",
    "            images, labels = images.cuda(), labels.cuda()\n",
    "            images, labels = Variable(images, volatile=True), Variable(labels)\n",
    "\n",
    "        # compute y_pred\n",
    "        y_pred = model(images)\n",
    "        loss = criterion(y_pred, labels)\n",
    "\n",
    "        # measure accuracy and record loss\n",
    "        prec1, temp_var = accuracy2(y_pred.data, labels.data, topk=(1, 1))\n",
    "        losses.update(loss.data[0], images.size(0))\n",
    "        acc.update(prec1[0], images.size(0))\n",
    "\n",
    "        # measure elapsed time\n",
    "        batch_time.update(time.time() - end)\n",
    "        end = time.time()\n",
    "\n",
    "        if i % 200== 0:\n",
    "            print('VAL:   LOSS--> {loss.val:.4f} ({loss.avg:.4f})\\t''ACC-->{acc.val:.3f} ({acc.avg:.3f})'.format(loss=losses, acc=acc))\n",
    "\n",
    "        if i % 50 == 0:\n",
    "            if use_tensorboard:\n",
    "                exp.add_scalar_value('val_epoch_loss', losses.avg, step=epoch)\n",
    "                exp.add_scalar_value('val_epoch_acc', acc.avg, step=epoch)\n",
    "\n",
    "    print(' * Accuracy {acc.avg:.4f}'.format(acc=acc))\n",
    "    return float('{loss.avg:.6f}'.format(loss=losses)), float('{acc.avg:.6f}'.format(acc=acc))\n",
    "\n",
    "\n",
    "def testImageLoader(image_name):\n",
    "    \"\"\"load image, returns cuda tensor\"\"\"\n",
    "#     image = Image.open(image_name)\n",
    "    image = Image.open(image_name).convert('RGB')\n",
    "    image = test_trans(image)\n",
    "#     image = Variable(image, requires_grad=True)\n",
    "    image = image.unsqueeze(0)  \n",
    "    if use_cuda:\n",
    "#         print (\"cuda\")\n",
    "        image.cuda()         \n",
    "    return image  \n",
    "\n",
    "def testModel(test_dir, local_model):    \n",
    "    if use_cuda:\n",
    "        local_model.cuda()\n",
    "    \n",
    "    local_model.eval()\n",
    "    \n",
    "    columns = ['file', 'species']\n",
    "    df_pred = pd.DataFrame(data=np.zeros((0, len(columns))), columns=columns)\n",
    "#     df_pred.species.astype(int)\n",
    "    for index, row in (sample_submission.iterrows()):\n",
    "#         for file in os.listdir(test_dir):            \n",
    "        currImage=os.path.join(test_dir, row['file'])\n",
    "        if os.path.isfile(currImage):\n",
    "            X_tensor_test=testImageLoader (currImage)            \n",
    "#             print (type(X_tensor_test))\n",
    "            if use_cuda:\n",
    "                X_tensor_test = Variable(X_tensor_test.cuda()) \n",
    "            else:\n",
    "                X_tensor_test = Variable(X_tensor_test)        \n",
    "            \n",
    "            # get the index of the max log-probability\n",
    "            predicted_val = (local_model(X_tensor_test)).data.max(1)[1] # get the index of the max log-probability\n",
    "#             predicted_val = predicted_val.data.max(1, keepdim=True)[1]\n",
    "            p_test = (predicted_val.cpu().numpy().item())\n",
    "            df_pred = df_pred.append({'file': row['file'], 'species': num_to_class[int(p_test)]}, ignore_index=True)             \n",
    "    \n",
    "    return df_pred"
   ]
  },
  {
   "cell_type": "code",
   "execution_count": 13,
   "metadata": {
    "collapsed": true
   },
   "outputs": [],
   "source": [
    "test_trans = valid_trans\n",
    "test_data_dir = 'd:/db/data/seedlings/test/'"
   ]
  },
  {
   "cell_type": "markdown",
   "metadata": {
    "_cell_guid": "7b939262-bef9-4384-9e65-1c6f19b0e7af",
    "_uuid": "c89aec6e431baa5ad878aa07c30faef161dea697"
   },
   "source": [
    "### Train the model"
   ]
  },
  {
   "cell_type": "code",
   "execution_count": 13,
   "metadata": {
    "_cell_guid": "c75d0756-757e-4cdb-b3e3-43d0ae2110eb",
    "_uuid": "56b469e006382a0c93c7ce30b7976783257762b9"
   },
   "outputs": [
    {
     "name": "stdout",
     "output_type": "stream",
     "text": [
      "Random Seed: 999\n",
      "python version : 3.6.2 |Anaconda custom (64-bit)| (default, Sep 19 2017, 08:03:39) [MSC v.1900 64 bit (AMD64)]\n",
      "torch  version : 0.3.1.post2\n",
      "cudnn  version : 7003\n",
      "=> Final model name 'SimpleNet'\n",
      "MODEL: SimpleNet\n",
      "dataset: cat-dog\n",
      "    Total params: 1.07M\n",
      "MODEL: SimpleNet\n"
     ]
    },
    {
     "name": "stderr",
     "output_type": "stream",
     "text": [
      "\r",
      "  0%|                                                                                                                                                           | 0/150 [00:00<?, ?it/s]"
     ]
    },
    {
     "name": "stdout",
     "output_type": "stream",
     "text": [
      "TRAIN: LOSS-->0.6986 (0.6986)\tACC-->50.000% (50.000%)\n",
      "TRAIN: 0 [0/19125 (0%)]\tLoss: 0.698567, Accuracy: 4/8 (50.000%)\n",
      "TRAIN: LOSS-->0.6930 (0.6956)\tACC-->50.000% (55.037%)\n",
      "TRAIN: 0 [1600/19125 (8%)]\tLoss: 0.692995, Accuracy: 4/8 (50.000%)\n",
      "TRAIN: LOSS-->0.7244 (0.6892)\tACC-->62.500% (55.486%)\n",
      "TRAIN: 0 [3200/19125 (17%)]\tLoss: 0.724389, Accuracy: 5/8 (62.500%)\n",
      "TRAIN: LOSS-->0.5915 (0.6875)\tACC-->87.500% (55.720%)\n",
      "TRAIN: 0 [4800/19125 (25%)]\tLoss: 0.591453, Accuracy: 7/8 (87.500%)\n",
      "TRAIN: LOSS-->0.6773 (0.6849)\tACC-->75.000% (55.993%)\n",
      "TRAIN: 0 [6400/19125 (33%)]\tLoss: 0.677267, Accuracy: 6/8 (75.000%)\n",
      "TRAIN: LOSS-->0.6527 (0.6844)\tACC-->37.500% (55.907%)\n",
      "TRAIN: 0 [8000/19125 (42%)]\tLoss: 0.652670, Accuracy: 3/8 (37.500%)\n",
      "TRAIN: LOSS-->0.7184 (0.6831)\tACC-->50.000% (55.985%)\n",
      "TRAIN: 0 [9600/19125 (50%)]\tLoss: 0.718363, Accuracy: 4/8 (50.000%)\n",
      "TRAIN: LOSS-->0.7776 (0.6811)\tACC-->37.500% (56.254%)\n",
      "TRAIN: 0 [11200/19125 (59%)]\tLoss: 0.777606, Accuracy: 3/8 (37.500%)\n",
      "TRAIN: LOSS-->0.8200 (0.6807)\tACC-->12.500% (56.340%)\n",
      "TRAIN: 0 [12800/19125 (67%)]\tLoss: 0.820015, Accuracy: 1/8 (12.500%)\n",
      "TRAIN: LOSS-->0.6216 (0.6795)\tACC-->62.500% (56.510%)\n",
      "TRAIN: 0 [14400/19125 (75%)]\tLoss: 0.621599, Accuracy: 5/8 (62.500%)\n",
      "TRAIN: LOSS-->0.6487 (0.6789)\tACC-->62.500% (56.597%)\n",
      "TRAIN: 0 [16000/19125 (84%)]\tLoss: 0.648652, Accuracy: 5/8 (62.500%)\n",
      "TRAIN: LOSS-->0.5957 (0.6782)\tACC-->62.500% (56.662%)\n",
      "TRAIN: 0 [17600/19125 (92%)]\tLoss: 0.595714, Accuracy: 5/8 (62.500%)\n",
      "VAL:   LOSS--> 0.6783 (0.6783)\tACC-->62.500 (62.500)\n",
      "VAL:   LOSS--> 0.5459 (0.6119)\tACC-->87.500 (65.858)\n",
      "VAL:   LOSS--> 0.5993 (0.6232)\tACC-->50.000 (63.840)\n",
      " * Accuracy 63.7630\n"
     ]
    },
    {
     "name": "stderr",
     "output_type": "stream",
     "text": [
      "\r",
      "  1%|▉                                                                                                                                               | 1/150 [03:36<8:58:42, 216.93s/it]"
     ]
    },
    {
     "name": "stdout",
     "output_type": "stream",
     "text": [
      "TRAIN: LOSS-->0.6848 (0.6848)\tACC-->25.000% (25.000%)\n",
      "TRAIN: 1 [0/19125 (0%)]\tLoss: 0.684819, Accuracy: 2/8 (25.000%)\n",
      "TRAIN: LOSS-->0.8114 (0.6602)\tACC-->37.500% (58.209%)\n",
      "TRAIN: 1 [1600/19125 (8%)]\tLoss: 0.811428, Accuracy: 3/8 (37.500%)\n",
      "TRAIN: LOSS-->0.6233 (0.6625)\tACC-->62.500% (58.666%)\n",
      "TRAIN: 1 [3200/19125 (17%)]\tLoss: 0.623326, Accuracy: 5/8 (62.500%)\n",
      "TRAIN: LOSS-->0.5415 (0.6612)\tACC-->75.000% (58.715%)\n",
      "TRAIN: 1 [4800/19125 (25%)]\tLoss: 0.541461, Accuracy: 6/8 (75.000%)\n",
      "TRAIN: LOSS-->0.5788 (0.6618)\tACC-->62.500% (58.521%)\n",
      "TRAIN: 1 [6400/19125 (33%)]\tLoss: 0.578793, Accuracy: 5/8 (62.500%)\n",
      "TRAIN: LOSS-->0.6641 (0.6609)\tACC-->50.000% (58.641%)\n",
      "TRAIN: 1 [8000/19125 (42%)]\tLoss: 0.664068, Accuracy: 4/8 (50.000%)\n",
      "TRAIN: LOSS-->0.6207 (0.6609)\tACC-->75.000% (58.701%)\n",
      "TRAIN: 1 [9600/19125 (50%)]\tLoss: 0.620719, Accuracy: 6/8 (75.000%)\n",
      "TRAIN: LOSS-->0.6115 (0.6617)\tACC-->75.000% (58.878%)\n",
      "TRAIN: 1 [11200/19125 (59%)]\tLoss: 0.611548, Accuracy: 6/8 (75.000%)\n",
      "TRAIN: LOSS-->0.6278 (0.6591)\tACC-->50.000% (59.088%)\n",
      "TRAIN: 1 [12800/19125 (67%)]\tLoss: 0.627829, Accuracy: 4/8 (50.000%)\n",
      "TRAIN: LOSS-->1.0318 (0.6597)\tACC-->25.000% (59.064%)\n",
      "TRAIN: 1 [14400/19125 (75%)]\tLoss: 1.031826, Accuracy: 2/8 (25.000%)\n",
      "TRAIN: LOSS-->0.7089 (0.6601)\tACC-->50.000% (59.058%)\n",
      "TRAIN: 1 [16000/19125 (84%)]\tLoss: 0.708871, Accuracy: 4/8 (50.000%)\n",
      "TRAIN: LOSS-->0.6661 (0.6604)\tACC-->50.000% (59.013%)\n",
      "TRAIN: 1 [17600/19125 (92%)]\tLoss: 0.666101, Accuracy: 4/8 (50.000%)\n",
      "VAL:   LOSS--> 0.4784 (0.4784)\tACC-->75.000 (75.000)\n",
      "VAL:   LOSS--> 0.6674 (0.5974)\tACC-->75.000 (69.030)\n",
      "VAL:   LOSS--> 0.7378 (0.5963)\tACC-->50.000 (68.423)\n",
      " * Accuracy 68.1185\n"
     ]
    },
    {
     "name": "stderr",
     "output_type": "stream",
     "text": [
      "\r",
      "  1%|█▉                                                                                                                                              | 2/150 [05:56<7:19:51, 178.32s/it]"
     ]
    },
    {
     "name": "stdout",
     "output_type": "stream",
     "text": [
      "TRAIN: LOSS-->0.6175 (0.6175)\tACC-->75.000% (75.000%)\n",
      "TRAIN: 2 [0/19125 (0%)]\tLoss: 0.617476, Accuracy: 6/8 (75.000%)\n",
      "TRAIN: LOSS-->0.5044 (0.6437)\tACC-->62.500% (62.002%)\n",
      "TRAIN: 2 [1600/19125 (8%)]\tLoss: 0.504426, Accuracy: 5/8 (62.500%)\n",
      "TRAIN: LOSS-->0.6918 (0.6518)\tACC-->50.000% (61.222%)\n",
      "TRAIN: 2 [3200/19125 (17%)]\tLoss: 0.691843, Accuracy: 4/8 (50.000%)\n",
      "TRAIN: LOSS-->0.5628 (0.6518)\tACC-->62.500% (61.002%)\n",
      "TRAIN: 2 [4800/19125 (25%)]\tLoss: 0.562829, Accuracy: 5/8 (62.500%)\n",
      "TRAIN: LOSS-->1.3664 (0.6527)\tACC-->25.000% (61.205%)\n",
      "TRAIN: 2 [6400/19125 (33%)]\tLoss: 1.366443, Accuracy: 2/8 (25.000%)\n",
      "TRAIN: LOSS-->0.6178 (0.6531)\tACC-->62.500% (61.039%)\n",
      "TRAIN: 2 [8000/19125 (42%)]\tLoss: 0.617778, Accuracy: 5/8 (62.500%)\n",
      "TRAIN: LOSS-->0.8665 (0.6529)\tACC-->37.500% (61.043%)\n",
      "TRAIN: 2 [9600/19125 (50%)]\tLoss: 0.866491, Accuracy: 3/8 (37.500%)\n",
      "TRAIN: LOSS-->0.9350 (0.6520)\tACC-->12.500% (61.162%)\n",
      "TRAIN: 2 [11200/19125 (59%)]\tLoss: 0.934992, Accuracy: 1/8 (12.500%)\n",
      "TRAIN: LOSS-->0.6367 (0.6515)\tACC-->37.500% (61.048%)\n",
      "TRAIN: 2 [12800/19125 (67%)]\tLoss: 0.636696, Accuracy: 3/8 (37.500%)\n",
      "TRAIN: LOSS-->0.5431 (0.6511)\tACC-->62.500% (60.994%)\n",
      "TRAIN: 2 [14400/19125 (75%)]\tLoss: 0.543100, Accuracy: 5/8 (62.500%)\n",
      "TRAIN: LOSS-->0.4800 (0.6513)\tACC-->75.000% (60.795%)\n",
      "TRAIN: 2 [16000/19125 (84%)]\tLoss: 0.480005, Accuracy: 6/8 (75.000%)\n",
      "TRAIN: LOSS-->0.5574 (0.6509)\tACC-->62.500% (60.870%)\n",
      "TRAIN: 2 [17600/19125 (92%)]\tLoss: 0.557395, Accuracy: 5/8 (62.500%)\n",
      "VAL:   LOSS--> 0.7425 (0.7425)\tACC-->50.000 (50.000)\n",
      "VAL:   LOSS--> 0.5593 (0.6086)\tACC-->75.000 (65.361)\n",
      "VAL:   LOSS--> 0.5901 (0.6032)\tACC-->50.000 (66.646)\n",
      " * Accuracy 66.7259\n"
     ]
    },
    {
     "name": "stderr",
     "output_type": "stream",
     "text": [
      "\r",
      "  2%|██▉                                                                                                                                             | 3/150 [08:15<6:44:31, 165.12s/it]"
     ]
    },
    {
     "name": "stdout",
     "output_type": "stream",
     "text": [
      "TRAIN: LOSS-->0.6886 (0.6886)\tACC-->37.500% (37.500%)\n",
      "TRAIN: 3 [0/19125 (0%)]\tLoss: 0.688599, Accuracy: 3/8 (37.500%)\n",
      "TRAIN: LOSS-->0.7439 (0.6530)\tACC-->50.000% (62.065%)\n",
      "TRAIN: 3 [1600/19125 (8%)]\tLoss: 0.743916, Accuracy: 4/8 (50.000%)\n",
      "TRAIN: LOSS-->0.6067 (0.6479)\tACC-->75.000% (62.687%)\n",
      "TRAIN: 3 [3200/19125 (17%)]\tLoss: 0.606678, Accuracy: 6/8 (75.000%)\n",
      "TRAIN: LOSS-->0.8053 (0.6447)\tACC-->37.500% (62.542%)\n",
      "TRAIN: 3 [4800/19125 (25%)]\tLoss: 0.805318, Accuracy: 3/8 (37.500%)\n",
      "TRAIN: LOSS-->0.6503 (0.6417)\tACC-->50.000% (62.406%)\n",
      "TRAIN: 3 [6400/19125 (33%)]\tLoss: 0.650341, Accuracy: 4/8 (50.000%)\n",
      "TRAIN: LOSS-->0.8258 (0.6422)\tACC-->25.000% (62.025%)\n",
      "TRAIN: 3 [8000/19125 (42%)]\tLoss: 0.825844, Accuracy: 2/8 (25.000%)\n",
      "TRAIN: LOSS-->0.5404 (0.6416)\tACC-->75.000% (62.052%)\n",
      "TRAIN: 3 [9600/19125 (50%)]\tLoss: 0.540358, Accuracy: 6/8 (75.000%)\n",
      "TRAIN: LOSS-->0.5863 (0.6397)\tACC-->75.000% (62.232%)\n",
      "TRAIN: 3 [11200/19125 (59%)]\tLoss: 0.586307, Accuracy: 6/8 (75.000%)\n",
      "TRAIN: LOSS-->0.6278 (0.6401)\tACC-->62.500% (62.164%)\n",
      "TRAIN: 3 [12800/19125 (67%)]\tLoss: 0.627784, Accuracy: 5/8 (62.500%)\n",
      "TRAIN: LOSS-->0.5826 (0.6401)\tACC-->62.500% (62.313%)\n",
      "TRAIN: 3 [14400/19125 (75%)]\tLoss: 0.582592, Accuracy: 5/8 (62.500%)\n",
      "TRAIN: LOSS-->0.5192 (0.6401)\tACC-->75.000% (62.206%)\n",
      "TRAIN: 3 [16000/19125 (84%)]\tLoss: 0.519174, Accuracy: 6/8 (75.000%)\n",
      "TRAIN: LOSS-->0.5829 (0.6382)\tACC-->62.500% (62.364%)\n",
      "TRAIN: 3 [17600/19125 (92%)]\tLoss: 0.582901, Accuracy: 5/8 (62.500%)\n",
      "VAL:   LOSS--> 0.6490 (0.6490)\tACC-->62.500 (62.500)\n",
      "VAL:   LOSS--> 0.4785 (0.5574)\tACC-->75.000 (69.341)\n",
      "VAL:   LOSS--> 0.3419 (0.5726)\tACC-->87.500 (68.392)\n",
      " * Accuracy 68.6519\n"
     ]
    },
    {
     "name": "stderr",
     "output_type": "stream",
     "text": [
      "\r",
      "  3%|███▊                                                                                                                                            | 4/150 [10:32<6:24:54, 158.18s/it]"
     ]
    },
    {
     "name": "stdout",
     "output_type": "stream",
     "text": [
      "TRAIN: LOSS-->0.7552 (0.7552)\tACC-->62.500% (62.500%)\n",
      "TRAIN: 4 [0/19125 (0%)]\tLoss: 0.755189, Accuracy: 5/8 (62.500%)\n",
      "TRAIN: LOSS-->0.5495 (0.6361)\tACC-->75.000% (62.749%)\n",
      "TRAIN: 4 [1600/19125 (8%)]\tLoss: 0.549512, Accuracy: 6/8 (75.000%)\n",
      "TRAIN: LOSS-->0.5109 (0.6350)\tACC-->100.000% (62.562%)\n",
      "TRAIN: 4 [3200/19125 (17%)]\tLoss: 0.510865, Accuracy: 8/8 (100.000%)\n",
      "TRAIN: LOSS-->0.5095 (0.6379)\tACC-->75.000% (62.292%)\n",
      "TRAIN: 4 [4800/19125 (25%)]\tLoss: 0.509454, Accuracy: 6/8 (75.000%)\n",
      "TRAIN: LOSS-->0.8429 (0.6341)\tACC-->37.500% (62.828%)\n",
      "TRAIN: 4 [6400/19125 (33%)]\tLoss: 0.842910, Accuracy: 3/8 (37.500%)\n",
      "TRAIN: LOSS-->0.5206 (0.6344)\tACC-->75.000% (62.925%)\n",
      "TRAIN: 4 [8000/19125 (42%)]\tLoss: 0.520587, Accuracy: 6/8 (75.000%)\n",
      "TRAIN: LOSS-->0.6001 (0.6325)\tACC-->75.000% (63.301%)\n",
      "TRAIN: 4 [9600/19125 (50%)]\tLoss: 0.600125, Accuracy: 6/8 (75.000%)\n",
      "TRAIN: LOSS-->0.5393 (0.6342)\tACC-->75.000% (62.982%)\n",
      "TRAIN: 4 [11200/19125 (59%)]\tLoss: 0.539286, Accuracy: 6/8 (75.000%)\n",
      "TRAIN: LOSS-->0.6717 (0.6341)\tACC-->62.500% (63.132%)\n",
      "TRAIN: 4 [12800/19125 (67%)]\tLoss: 0.671712, Accuracy: 5/8 (62.500%)\n",
      "TRAIN: LOSS-->0.8863 (0.6343)\tACC-->37.500% (63.132%)\n",
      "TRAIN: 4 [14400/19125 (75%)]\tLoss: 0.886334, Accuracy: 3/8 (37.500%)\n",
      "TRAIN: LOSS-->0.5751 (0.6339)\tACC-->75.000% (63.143%)\n",
      "TRAIN: 4 [16000/19125 (84%)]\tLoss: 0.575094, Accuracy: 6/8 (75.000%)\n",
      "TRAIN: LOSS-->0.7252 (0.6335)\tACC-->62.500% (63.318%)\n",
      "TRAIN: 4 [17600/19125 (92%)]\tLoss: 0.725175, Accuracy: 5/8 (62.500%)\n",
      "VAL:   LOSS--> 0.6358 (0.6358)\tACC-->50.000 (50.000)\n",
      "VAL:   LOSS--> 0.4404 (0.5984)\tACC-->87.500 (67.662)\n",
      "VAL:   LOSS--> 0.3919 (0.5889)\tACC-->87.500 (68.142)\n",
      " * Accuracy 67.9407\n"
     ]
    },
    {
     "name": "stderr",
     "output_type": "stream",
     "text": [
      "\r",
      "  3%|████▊                                                                                                                                           | 5/150 [12:50<6:12:17, 154.05s/it]"
     ]
    },
    {
     "name": "stdout",
     "output_type": "stream",
     "text": [
      "TRAIN: LOSS-->0.7188 (0.7188)\tACC-->75.000% (75.000%)\n",
      "TRAIN: 5 [0/19125 (0%)]\tLoss: 0.718801, Accuracy: 6/8 (75.000%)\n",
      "TRAIN: LOSS-->0.4474 (0.6380)\tACC-->75.000% (61.629%)\n",
      "TRAIN: 5 [1600/19125 (8%)]\tLoss: 0.447413, Accuracy: 6/8 (75.000%)\n",
      "TRAIN: LOSS-->0.7447 (0.6280)\tACC-->62.500% (63.373%)\n",
      "TRAIN: 5 [3200/19125 (17%)]\tLoss: 0.744703, Accuracy: 5/8 (62.500%)\n",
      "TRAIN: LOSS-->0.6662 (0.6287)\tACC-->37.500% (63.519%)\n",
      "TRAIN: 5 [4800/19125 (25%)]\tLoss: 0.666195, Accuracy: 3/8 (37.500%)\n",
      "TRAIN: LOSS-->0.6061 (0.6258)\tACC-->62.500% (63.686%)\n",
      "TRAIN: 5 [6400/19125 (33%)]\tLoss: 0.606122, Accuracy: 5/8 (62.500%)\n",
      "TRAIN: LOSS-->0.4757 (0.6261)\tACC-->75.000% (63.449%)\n",
      "TRAIN: 5 [8000/19125 (42%)]\tLoss: 0.475726, Accuracy: 6/8 (75.000%)\n",
      "TRAIN: LOSS-->0.5640 (0.6279)\tACC-->62.500% (63.166%)\n",
      "TRAIN: 5 [9600/19125 (50%)]\tLoss: 0.563981, Accuracy: 5/8 (62.500%)\n",
      "TRAIN: LOSS-->0.9591 (0.6280)\tACC-->25.000% (63.223%)\n",
      "TRAIN: 5 [11200/19125 (59%)]\tLoss: 0.959062, Accuracy: 2/8 (25.000%)\n",
      "TRAIN: LOSS-->0.7141 (0.6267)\tACC-->62.500% (63.367%)\n",
      "TRAIN: 5 [12800/19125 (67%)]\tLoss: 0.714091, Accuracy: 5/8 (62.500%)\n",
      "TRAIN: LOSS-->0.8138 (0.6269)\tACC-->62.500% (63.319%)\n",
      "TRAIN: 5 [14400/19125 (75%)]\tLoss: 0.813812, Accuracy: 5/8 (62.500%)\n",
      "TRAIN: LOSS-->0.6650 (0.6272)\tACC-->62.500% (63.481%)\n",
      "TRAIN: 5 [16000/19125 (84%)]\tLoss: 0.664991, Accuracy: 5/8 (62.500%)\n",
      "TRAIN: LOSS-->0.7543 (0.6259)\tACC-->50.000% (63.704%)\n",
      "TRAIN: 5 [17600/19125 (92%)]\tLoss: 0.754250, Accuracy: 4/8 (50.000%)\n",
      "VAL:   LOSS--> 0.3954 (0.3954)\tACC-->100.000 (100.000)\n",
      "VAL:   LOSS--> 0.5517 (0.5467)\tACC-->75.000 (71.642)\n",
      "VAL:   LOSS--> 0.3604 (0.5599)\tACC-->87.500 (71.478)\n",
      " * Accuracy 71.4370\n"
     ]
    },
    {
     "name": "stderr",
     "output_type": "stream",
     "text": [
      "\r",
      "  4%|█████▊                                                                                                                                          | 6/150 [15:07<6:03:06, 151.30s/it]"
     ]
    },
    {
     "name": "stdout",
     "output_type": "stream",
     "text": [
      "TRAIN: LOSS-->0.6539 (0.6539)\tACC-->75.000% (75.000%)\n",
      "TRAIN: 6 [0/19125 (0%)]\tLoss: 0.653912, Accuracy: 6/8 (75.000%)\n",
      "TRAIN: LOSS-->0.5631 (0.6216)\tACC-->87.500% (64.677%)\n",
      "TRAIN: 6 [1600/19125 (8%)]\tLoss: 0.563074, Accuracy: 7/8 (87.500%)\n",
      "TRAIN: LOSS-->0.6335 (0.6186)\tACC-->75.000% (65.305%)\n",
      "TRAIN: 6 [3200/19125 (17%)]\tLoss: 0.633465, Accuracy: 6/8 (75.000%)\n",
      "TRAIN: LOSS-->0.4718 (0.6144)\tACC-->75.000% (65.807%)\n",
      "TRAIN: 6 [4800/19125 (25%)]\tLoss: 0.471786, Accuracy: 6/8 (75.000%)\n",
      "TRAIN: LOSS-->0.5170 (0.6166)\tACC-->87.500% (65.527%)\n",
      "TRAIN: 6 [6400/19125 (33%)]\tLoss: 0.517014, Accuracy: 7/8 (87.500%)\n",
      "TRAIN: LOSS-->0.4999 (0.6172)\tACC-->87.500% (65.509%)\n",
      "TRAIN: 6 [8000/19125 (42%)]\tLoss: 0.499902, Accuracy: 7/8 (87.500%)\n",
      "TRAIN: LOSS-->0.4534 (0.6169)\tACC-->100.000% (65.810%)\n",
      "TRAIN: 6 [9600/19125 (50%)]\tLoss: 0.453399, Accuracy: 8/8 (100.000%)\n",
      "TRAIN: LOSS-->0.5929 (0.6165)\tACC-->75.000% (65.605%)\n",
      "TRAIN: 6 [11200/19125 (59%)]\tLoss: 0.592934, Accuracy: 6/8 (75.000%)\n",
      "TRAIN: LOSS-->0.6572 (0.6168)\tACC-->62.500% (65.568%)\n",
      "TRAIN: 6 [12800/19125 (67%)]\tLoss: 0.657170, Accuracy: 5/8 (62.500%)\n",
      "TRAIN: LOSS-->0.5601 (0.6181)\tACC-->87.500% (65.450%)\n",
      "TRAIN: 6 [14400/19125 (75%)]\tLoss: 0.560086, Accuracy: 7/8 (87.500%)\n",
      "TRAIN: LOSS-->0.6227 (0.6179)\tACC-->62.500% (65.698%)\n",
      "TRAIN: 6 [16000/19125 (84%)]\tLoss: 0.622733, Accuracy: 5/8 (62.500%)\n",
      "TRAIN: LOSS-->0.6087 (0.6174)\tACC-->50.000% (65.686%)\n",
      "TRAIN: 6 [17600/19125 (92%)]\tLoss: 0.608674, Accuracy: 4/8 (50.000%)\n",
      "VAL:   LOSS--> 0.4204 (0.4204)\tACC-->75.000 (75.000)\n",
      "VAL:   LOSS--> 0.5250 (0.5208)\tACC-->75.000 (74.005)\n",
      "VAL:   LOSS--> 0.3685 (0.5255)\tACC-->87.500 (73.504)\n",
      " * Accuracy 73.3037\n"
     ]
    },
    {
     "name": "stderr",
     "output_type": "stream",
     "text": [
      "\r",
      "  5%|██████▋                                                                                                                                         | 7/150 [17:25<5:56:01, 149.38s/it]"
     ]
    },
    {
     "name": "stdout",
     "output_type": "stream",
     "text": [
      "TRAIN: LOSS-->0.6487 (0.6487)\tACC-->62.500% (62.500%)\n",
      "TRAIN: 7 [0/19125 (0%)]\tLoss: 0.648745, Accuracy: 5/8 (62.500%)\n",
      "TRAIN: LOSS-->0.6811 (0.6066)\tACC-->62.500% (66.231%)\n",
      "TRAIN: 7 [1600/19125 (8%)]\tLoss: 0.681138, Accuracy: 5/8 (62.500%)\n",
      "TRAIN: LOSS-->0.6004 (0.6078)\tACC-->75.000% (66.178%)\n",
      "TRAIN: 7 [3200/19125 (17%)]\tLoss: 0.600371, Accuracy: 6/8 (75.000%)\n",
      "TRAIN: LOSS-->0.6236 (0.6072)\tACC-->62.500% (66.493%)\n",
      "TRAIN: 7 [4800/19125 (25%)]\tLoss: 0.623622, Accuracy: 5/8 (62.500%)\n",
      "TRAIN: LOSS-->0.8204 (0.6087)\tACC-->50.000% (66.417%)\n",
      "TRAIN: 7 [6400/19125 (33%)]\tLoss: 0.820379, Accuracy: 4/8 (50.000%)\n",
      "TRAIN: LOSS-->0.6409 (0.6080)\tACC-->75.000% (66.334%)\n",
      "TRAIN: 7 [8000/19125 (42%)]\tLoss: 0.640859, Accuracy: 6/8 (75.000%)\n",
      "TRAIN: LOSS-->0.5361 (0.6070)\tACC-->75.000% (66.372%)\n",
      "TRAIN: 7 [9600/19125 (50%)]\tLoss: 0.536092, Accuracy: 6/8 (75.000%)\n",
      "TRAIN: LOSS-->0.5695 (0.6074)\tACC-->75.000% (66.345%)\n",
      "TRAIN: 7 [11200/19125 (59%)]\tLoss: 0.569519, Accuracy: 6/8 (75.000%)\n",
      "TRAIN: LOSS-->0.4610 (0.6077)\tACC-->87.500% (66.224%)\n",
      "TRAIN: 7 [12800/19125 (67%)]\tLoss: 0.460993, Accuracy: 7/8 (87.500%)\n",
      "TRAIN: LOSS-->0.5937 (0.6097)\tACC-->75.000% (65.963%)\n",
      "TRAIN: 7 [14400/19125 (75%)]\tLoss: 0.593657, Accuracy: 6/8 (75.000%)\n",
      "TRAIN: LOSS-->0.7640 (0.6116)\tACC-->37.500% (65.761%)\n",
      "TRAIN: 7 [16000/19125 (84%)]\tLoss: 0.763999, Accuracy: 3/8 (37.500%)\n",
      "TRAIN: LOSS-->0.5479 (0.6091)\tACC-->75.000% (65.964%)\n",
      "TRAIN: 7 [17600/19125 (92%)]\tLoss: 0.547853, Accuracy: 6/8 (75.000%)\n",
      "VAL:   LOSS--> 0.6111 (0.6111)\tACC-->75.000 (75.000)\n",
      "VAL:   LOSS--> 0.6591 (0.5081)\tACC-->62.500 (74.378)\n",
      "VAL:   LOSS--> 0.1959 (0.5111)\tACC-->100.000 (74.408)\n",
      " * Accuracy 74.4593\n"
     ]
    },
    {
     "name": "stderr",
     "output_type": "stream",
     "text": [
      "\r",
      "  5%|███████▋                                                                                                                                        | 8/150 [19:43<5:50:04, 147.92s/it]"
     ]
    },
    {
     "name": "stdout",
     "output_type": "stream",
     "text": [
      "TRAIN: LOSS-->0.7365 (0.7365)\tACC-->75.000% (75.000%)\n",
      "TRAIN: 8 [0/19125 (0%)]\tLoss: 0.736523, Accuracy: 6/8 (75.000%)\n",
      "TRAIN: LOSS-->0.6379 (0.6075)\tACC-->62.500% (66.542%)\n",
      "TRAIN: 8 [1600/19125 (8%)]\tLoss: 0.637891, Accuracy: 5/8 (62.500%)\n",
      "TRAIN: LOSS-->0.7550 (0.6052)\tACC-->37.500% (66.584%)\n",
      "TRAIN: 8 [3200/19125 (17%)]\tLoss: 0.754952, Accuracy: 3/8 (37.500%)\n",
      "TRAIN: LOSS-->0.4615 (0.6033)\tACC-->75.000% (66.618%)\n",
      "TRAIN: 8 [4800/19125 (25%)]\tLoss: 0.461460, Accuracy: 6/8 (75.000%)\n",
      "TRAIN: LOSS-->0.6556 (0.6017)\tACC-->75.000% (66.932%)\n",
      "TRAIN: 8 [6400/19125 (33%)]\tLoss: 0.655572, Accuracy: 6/8 (75.000%)\n",
      "TRAIN: LOSS-->0.6806 (0.5988)\tACC-->50.000% (67.208%)\n",
      "TRAIN: 8 [8000/19125 (42%)]\tLoss: 0.680601, Accuracy: 4/8 (50.000%)\n",
      "TRAIN: LOSS-->0.5340 (0.6007)\tACC-->87.500% (66.975%)\n",
      "TRAIN: 8 [9600/19125 (50%)]\tLoss: 0.534042, Accuracy: 7/8 (87.500%)\n",
      "TRAIN: LOSS-->0.6405 (0.6012)\tACC-->62.500% (66.899%)\n",
      "TRAIN: 8 [11200/19125 (59%)]\tLoss: 0.640453, Accuracy: 5/8 (62.500%)\n",
      "TRAIN: LOSS-->0.6059 (0.6013)\tACC-->50.000% (66.786%)\n",
      "TRAIN: 8 [12800/19125 (67%)]\tLoss: 0.605913, Accuracy: 4/8 (50.000%)\n",
      "TRAIN: LOSS-->0.6171 (0.5996)\tACC-->50.000% (66.775%)\n",
      "TRAIN: 8 [14400/19125 (75%)]\tLoss: 0.617139, Accuracy: 4/8 (50.000%)\n",
      "TRAIN: LOSS-->0.5839 (0.5992)\tACC-->50.000% (66.910%)\n",
      "TRAIN: 8 [16000/19125 (84%)]\tLoss: 0.583889, Accuracy: 4/8 (50.000%)\n",
      "TRAIN: LOSS-->0.4512 (0.5995)\tACC-->75.000% (66.822%)\n",
      "TRAIN: 8 [17600/19125 (92%)]\tLoss: 0.451176, Accuracy: 6/8 (75.000%)\n",
      "VAL:   LOSS--> 0.4418 (0.4418)\tACC-->75.000 (75.000)\n",
      "VAL:   LOSS--> 0.5378 (0.4929)\tACC-->62.500 (75.871)\n",
      "VAL:   LOSS--> 0.5693 (0.4966)\tACC-->75.000 (75.592)\n",
      " * Accuracy 75.7630\n"
     ]
    },
    {
     "name": "stderr",
     "output_type": "stream",
     "text": [
      "\r",
      "  6%|████████▋                                                                                                                                       | 9/150 [22:01<5:44:57, 146.79s/it]"
     ]
    },
    {
     "name": "stdout",
     "output_type": "stream",
     "text": [
      "TRAIN: LOSS-->0.6030 (0.6030)\tACC-->50.000% (50.000%)\n",
      "TRAIN: 9 [0/19125 (0%)]\tLoss: 0.602962, Accuracy: 4/8 (50.000%)\n",
      "TRAIN: LOSS-->0.4461 (0.5899)\tACC-->87.500% (67.848%)\n",
      "TRAIN: 9 [1600/19125 (8%)]\tLoss: 0.446077, Accuracy: 7/8 (87.500%)\n",
      "TRAIN: LOSS-->0.4888 (0.5969)\tACC-->87.500% (67.082%)\n",
      "TRAIN: 9 [3200/19125 (17%)]\tLoss: 0.488839, Accuracy: 7/8 (87.500%)\n",
      "TRAIN: LOSS-->0.5983 (0.5983)\tACC-->50.000% (67.180%)\n",
      "TRAIN: 9 [4800/19125 (25%)]\tLoss: 0.598293, Accuracy: 4/8 (50.000%)\n",
      "TRAIN: LOSS-->0.6036 (0.5965)\tACC-->75.000% (67.634%)\n",
      "TRAIN: 9 [6400/19125 (33%)]\tLoss: 0.603618, Accuracy: 6/8 (75.000%)\n",
      "TRAIN: LOSS-->0.9398 (0.5987)\tACC-->25.000% (67.420%)\n",
      "TRAIN: 9 [8000/19125 (42%)]\tLoss: 0.939830, Accuracy: 2/8 (25.000%)\n",
      "TRAIN: LOSS-->0.5055 (0.5950)\tACC-->87.500% (67.642%)\n",
      "TRAIN: 9 [9600/19125 (50%)]\tLoss: 0.505474, Accuracy: 7/8 (87.500%)\n",
      "TRAIN: LOSS-->0.3879 (0.5953)\tACC-->87.500% (67.666%)\n",
      "TRAIN: 9 [11200/19125 (59%)]\tLoss: 0.387923, Accuracy: 7/8 (87.500%)\n",
      "TRAIN: LOSS-->0.5173 (0.5945)\tACC-->62.500% (67.739%)\n",
      "TRAIN: 9 [12800/19125 (67%)]\tLoss: 0.517341, Accuracy: 5/8 (62.500%)\n",
      "TRAIN: LOSS-->0.4844 (0.5949)\tACC-->87.500% (67.858%)\n",
      "TRAIN: 9 [14400/19125 (75%)]\tLoss: 0.484389, Accuracy: 7/8 (87.500%)\n",
      "TRAIN: LOSS-->0.5441 (0.5951)\tACC-->62.500% (67.810%)\n",
      "TRAIN: 9 [16000/19125 (84%)]\tLoss: 0.544138, Accuracy: 5/8 (62.500%)\n",
      "TRAIN: LOSS-->0.6471 (0.5949)\tACC-->50.000% (67.850%)\n",
      "TRAIN: 9 [17600/19125 (92%)]\tLoss: 0.647110, Accuracy: 4/8 (50.000%)\n",
      "VAL:   LOSS--> 0.3271 (0.3271)\tACC-->87.500 (87.500)\n",
      "VAL:   LOSS--> 0.4823 (0.4886)\tACC-->75.000 (76.119)\n",
      "VAL:   LOSS--> 0.4188 (0.4779)\tACC-->87.500 (77.057)\n",
      " * Accuracy 77.1556\n"
     ]
    },
    {
     "name": "stderr",
     "output_type": "stream",
     "text": [
      "\r",
      "  7%|█████████▌                                                                                                                                     | 10/150 [24:18<5:40:23, 145.88s/it]"
     ]
    },
    {
     "name": "stdout",
     "output_type": "stream",
     "text": [
      "TRAIN: LOSS-->0.9294 (0.9294)\tACC-->37.500% (37.500%)\n",
      "TRAIN: 10 [0/19125 (0%)]\tLoss: 0.929357, Accuracy: 3/8 (37.500%)\n",
      "TRAIN: LOSS-->0.6532 (0.5905)\tACC-->62.500% (68.035%)\n",
      "TRAIN: 10 [1600/19125 (8%)]\tLoss: 0.653156, Accuracy: 5/8 (62.500%)\n",
      "TRAIN: LOSS-->0.7842 (0.5899)\tACC-->50.000% (67.612%)\n",
      "TRAIN: 10 [3200/19125 (17%)]\tLoss: 0.784203, Accuracy: 4/8 (50.000%)\n",
      "TRAIN: LOSS-->0.6275 (0.5916)\tACC-->50.000% (67.783%)\n",
      "TRAIN: 10 [4800/19125 (25%)]\tLoss: 0.627487, Accuracy: 4/8 (50.000%)\n",
      "TRAIN: LOSS-->0.5775 (0.5915)\tACC-->62.500% (68.009%)\n",
      "TRAIN: 10 [6400/19125 (33%)]\tLoss: 0.577494, Accuracy: 5/8 (62.500%)\n",
      "TRAIN: LOSS-->0.7942 (0.5914)\tACC-->37.500% (67.932%)\n",
      "TRAIN: 10 [8000/19125 (42%)]\tLoss: 0.794184, Accuracy: 3/8 (37.500%)\n",
      "TRAIN: LOSS-->0.6086 (0.5898)\tACC-->75.000% (67.964%)\n",
      "TRAIN: 10 [9600/19125 (50%)]\tLoss: 0.608567, Accuracy: 6/8 (75.000%)\n",
      "TRAIN: LOSS-->0.4808 (0.5909)\tACC-->75.000% (67.951%)\n",
      "TRAIN: 10 [11200/19125 (59%)]\tLoss: 0.480772, Accuracy: 6/8 (75.000%)\n",
      "TRAIN: LOSS-->0.5391 (0.5918)\tACC-->62.500% (67.801%)\n",
      "TRAIN: 10 [12800/19125 (67%)]\tLoss: 0.539074, Accuracy: 5/8 (62.500%)\n",
      "TRAIN: LOSS-->0.6495 (0.5911)\tACC-->37.500% (67.754%)\n",
      "TRAIN: 10 [14400/19125 (75%)]\tLoss: 0.649521, Accuracy: 3/8 (37.500%)\n",
      "TRAIN: LOSS-->0.5255 (0.5908)\tACC-->87.500% (67.716%)\n",
      "TRAIN: 10 [16000/19125 (84%)]\tLoss: 0.525529, Accuracy: 7/8 (87.500%)\n",
      "TRAIN: LOSS-->0.4221 (0.5903)\tACC-->75.000% (67.748%)\n",
      "TRAIN: 10 [17600/19125 (92%)]\tLoss: 0.422135, Accuracy: 6/8 (75.000%)\n",
      "VAL:   LOSS--> 0.7569 (0.7569)\tACC-->75.000 (75.000)\n",
      "VAL:   LOSS--> 0.2632 (0.4683)\tACC-->87.500 (78.296)\n",
      "VAL:   LOSS--> 0.6937 (0.4759)\tACC-->62.500 (77.556)\n",
      " * Accuracy 77.7778\n"
     ]
    },
    {
     "name": "stderr",
     "output_type": "stream",
     "text": [
      "\r",
      "  7%|██████████▍                                                                                                                                    | 11/150 [26:36<5:36:11, 145.12s/it]"
     ]
    },
    {
     "name": "stdout",
     "output_type": "stream",
     "text": [
      "TRAIN: LOSS-->0.5199 (0.5199)\tACC-->62.500% (62.500%)\n",
      "TRAIN: 11 [0/19125 (0%)]\tLoss: 0.519943, Accuracy: 5/8 (62.500%)\n",
      "TRAIN: LOSS-->0.7896 (0.5947)\tACC-->37.500% (67.475%)\n",
      "TRAIN: 11 [1600/19125 (8%)]\tLoss: 0.789596, Accuracy: 3/8 (37.500%)\n",
      "TRAIN: LOSS-->0.3505 (0.5852)\tACC-->87.500% (68.298%)\n",
      "TRAIN: 11 [3200/19125 (17%)]\tLoss: 0.350481, Accuracy: 7/8 (87.500%)\n",
      "TRAIN: LOSS-->0.6634 (0.5833)\tACC-->62.500% (68.615%)\n",
      "TRAIN: 11 [4800/19125 (25%)]\tLoss: 0.663365, Accuracy: 5/8 (62.500%)\n",
      "TRAIN: LOSS-->0.3925 (0.5795)\tACC-->87.500% (69.117%)\n",
      "TRAIN: 11 [6400/19125 (33%)]\tLoss: 0.392470, Accuracy: 7/8 (87.500%)\n",
      "TRAIN: LOSS-->0.4919 (0.5821)\tACC-->75.000% (68.631%)\n",
      "TRAIN: 11 [8000/19125 (42%)]\tLoss: 0.491883, Accuracy: 6/8 (75.000%)\n",
      "TRAIN: LOSS-->0.6326 (0.5810)\tACC-->50.000% (68.766%)\n",
      "TRAIN: 11 [9600/19125 (50%)]\tLoss: 0.632642, Accuracy: 4/8 (50.000%)\n",
      "TRAIN: LOSS-->0.8992 (0.5802)\tACC-->25.000% (68.719%)\n",
      "TRAIN: 11 [11200/19125 (59%)]\tLoss: 0.899175, Accuracy: 2/8 (25.000%)\n",
      "TRAIN: LOSS-->0.5236 (0.5796)\tACC-->50.000% (68.801%)\n",
      "TRAIN: 11 [12800/19125 (67%)]\tLoss: 0.523588, Accuracy: 4/8 (50.000%)\n",
      "TRAIN: LOSS-->0.6696 (0.5822)\tACC-->62.500% (68.601%)\n",
      "TRAIN: 11 [14400/19125 (75%)]\tLoss: 0.669582, Accuracy: 5/8 (62.500%)\n",
      "TRAIN: LOSS-->0.6694 (0.5838)\tACC-->50.000% (68.497%)\n",
      "TRAIN: 11 [16000/19125 (84%)]\tLoss: 0.669420, Accuracy: 4/8 (50.000%)\n",
      "TRAIN: LOSS-->0.6768 (0.5836)\tACC-->50.000% (68.531%)\n",
      "TRAIN: 11 [17600/19125 (92%)]\tLoss: 0.676832, Accuracy: 4/8 (50.000%)\n",
      "VAL:   LOSS--> 0.6034 (0.6034)\tACC-->62.500 (62.500)\n",
      "VAL:   LOSS--> 0.4151 (0.5045)\tACC-->87.500 (75.124)\n",
      "VAL:   LOSS--> 0.4727 (0.5009)\tACC-->62.500 (74.813)\n",
      " * Accuracy 74.8444\n"
     ]
    },
    {
     "name": "stderr",
     "output_type": "stream",
     "text": [
      "\r",
      "  8%|███████████▍                                                                                                                                   | 12/150 [28:53<5:32:16, 144.47s/it]"
     ]
    },
    {
     "name": "stdout",
     "output_type": "stream",
     "text": [
      "TRAIN: LOSS-->0.4726 (0.4726)\tACC-->62.500% (62.500%)\n",
      "TRAIN: 12 [0/19125 (0%)]\tLoss: 0.472639, Accuracy: 5/8 (62.500%)\n",
      "TRAIN: LOSS-->0.6975 (0.5915)\tACC-->75.000% (68.097%)\n",
      "TRAIN: 12 [1600/19125 (8%)]\tLoss: 0.697494, Accuracy: 6/8 (75.000%)\n",
      "TRAIN: LOSS-->0.5785 (0.5786)\tACC-->75.000% (68.423%)\n",
      "TRAIN: 12 [3200/19125 (17%)]\tLoss: 0.578469, Accuracy: 6/8 (75.000%)\n",
      "TRAIN: LOSS-->0.5888 (0.5807)\tACC-->75.000% (68.864%)\n",
      "TRAIN: 12 [4800/19125 (25%)]\tLoss: 0.588817, Accuracy: 6/8 (75.000%)\n",
      "TRAIN: LOSS-->0.8764 (0.5800)\tACC-->37.500% (68.805%)\n",
      "TRAIN: 12 [6400/19125 (33%)]\tLoss: 0.876410, Accuracy: 3/8 (37.500%)\n",
      "TRAIN: LOSS-->0.5734 (0.5782)\tACC-->62.500% (69.068%)\n",
      "TRAIN: 12 [8000/19125 (42%)]\tLoss: 0.573372, Accuracy: 5/8 (62.500%)\n",
      "TRAIN: LOSS-->0.5906 (0.5771)\tACC-->75.000% (69.109%)\n",
      "TRAIN: 12 [9600/19125 (50%)]\tLoss: 0.590628, Accuracy: 6/8 (75.000%)\n",
      "TRAIN: LOSS-->0.8458 (0.5772)\tACC-->75.000% (68.870%)\n",
      "TRAIN: 12 [11200/19125 (59%)]\tLoss: 0.845817, Accuracy: 6/8 (75.000%)\n",
      "TRAIN: LOSS-->0.6008 (0.5770)\tACC-->75.000% (68.832%)\n",
      "TRAIN: 12 [12800/19125 (67%)]\tLoss: 0.600820, Accuracy: 6/8 (75.000%)\n",
      "TRAIN: LOSS-->0.7501 (0.5776)\tACC-->62.500% (68.788%)\n",
      "TRAIN: 12 [14400/19125 (75%)]\tLoss: 0.750067, Accuracy: 5/8 (62.500%)\n",
      "TRAIN: LOSS-->0.7527 (0.5781)\tACC-->37.500% (68.753%)\n",
      "TRAIN: 12 [16000/19125 (84%)]\tLoss: 0.752665, Accuracy: 3/8 (37.500%)\n",
      "TRAIN: LOSS-->0.6174 (0.5778)\tACC-->75.000% (68.764%)\n",
      "TRAIN: 12 [17600/19125 (92%)]\tLoss: 0.617361, Accuracy: 6/8 (75.000%)\n",
      "VAL:   LOSS--> 0.2807 (0.2807)\tACC-->87.500 (87.500)\n",
      "VAL:   LOSS--> 0.3806 (0.4439)\tACC-->87.500 (79.291)\n",
      "VAL:   LOSS--> 0.2724 (0.4581)\tACC-->87.500 (78.585)\n",
      " * Accuracy 78.8444\n"
     ]
    },
    {
     "name": "stderr",
     "output_type": "stream",
     "text": [
      "\r",
      "  9%|████████████▍                                                                                                                                  | 13/150 [31:11<5:28:39, 143.93s/it]"
     ]
    },
    {
     "name": "stdout",
     "output_type": "stream",
     "text": [
      "TRAIN: LOSS-->0.6538 (0.6538)\tACC-->50.000% (50.000%)\n",
      "TRAIN: 13 [0/19125 (0%)]\tLoss: 0.653829, Accuracy: 4/8 (50.000%)\n",
      "TRAIN: LOSS-->0.3183 (0.5782)\tACC-->100.000% (68.408%)\n",
      "TRAIN: 13 [1600/19125 (8%)]\tLoss: 0.318308, Accuracy: 8/8 (100.000%)\n",
      "TRAIN: LOSS-->0.6664 (0.5640)\tACC-->75.000% (70.200%)\n",
      "TRAIN: 13 [3200/19125 (17%)]\tLoss: 0.666379, Accuracy: 6/8 (75.000%)\n",
      "TRAIN: LOSS-->0.4799 (0.5633)\tACC-->75.000% (69.967%)\n",
      "TRAIN: 13 [4800/19125 (25%)]\tLoss: 0.479933, Accuracy: 6/8 (75.000%)\n",
      "TRAIN: LOSS-->0.8134 (0.5687)\tACC-->50.000% (69.772%)\n",
      "TRAIN: 13 [6400/19125 (33%)]\tLoss: 0.813377, Accuracy: 4/8 (50.000%)\n",
      "TRAIN: LOSS-->0.8533 (0.5687)\tACC-->50.000% (69.955%)\n",
      "TRAIN: 13 [8000/19125 (42%)]\tLoss: 0.853276, Accuracy: 4/8 (50.000%)\n",
      "TRAIN: LOSS-->0.6920 (0.5698)\tACC-->37.500% (69.640%)\n",
      "TRAIN: 13 [9600/19125 (50%)]\tLoss: 0.691966, Accuracy: 3/8 (37.500%)\n",
      "TRAIN: LOSS-->0.5920 (0.5722)\tACC-->50.000% (69.415%)\n",
      "TRAIN: 13 [11200/19125 (59%)]\tLoss: 0.591975, Accuracy: 4/8 (50.000%)\n",
      "TRAIN: LOSS-->0.5826 (0.5721)\tACC-->75.000% (69.488%)\n",
      "TRAIN: 13 [12800/19125 (67%)]\tLoss: 0.582572, Accuracy: 6/8 (75.000%)\n",
      "TRAIN: LOSS-->0.6527 (0.5727)\tACC-->62.500% (69.524%)\n",
      "TRAIN: 13 [14400/19125 (75%)]\tLoss: 0.652680, Accuracy: 5/8 (62.500%)\n",
      "TRAIN: LOSS-->0.5482 (0.5738)\tACC-->62.500% (69.347%)\n",
      "TRAIN: 13 [16000/19125 (84%)]\tLoss: 0.548168, Accuracy: 5/8 (62.500%)\n",
      "TRAIN: LOSS-->0.6985 (0.5731)\tACC-->62.500% (69.502%)\n",
      "TRAIN: 13 [17600/19125 (92%)]\tLoss: 0.698468, Accuracy: 5/8 (62.500%)\n",
      "VAL:   LOSS--> 0.3867 (0.3867)\tACC-->87.500 (87.500)\n",
      "VAL:   LOSS--> 0.4250 (0.4575)\tACC-->75.000 (78.483)\n",
      "VAL:   LOSS--> 0.4227 (0.4789)\tACC-->87.500 (76.901)\n",
      " * Accuracy 77.1259\n"
     ]
    },
    {
     "name": "stderr",
     "output_type": "stream",
     "text": [
      "\r",
      "  9%|█████████████▎                                                                                                                                 | 14/150 [33:28<5:25:13, 143.48s/it]"
     ]
    },
    {
     "name": "stdout",
     "output_type": "stream",
     "text": [
      "TRAIN: LOSS-->1.0128 (1.0128)\tACC-->37.500% (37.500%)\n",
      "TRAIN: 14 [0/19125 (0%)]\tLoss: 1.012827, Accuracy: 3/8 (37.500%)\n",
      "TRAIN: LOSS-->0.7502 (0.5546)\tACC-->75.000% (71.331%)\n",
      "TRAIN: 14 [1600/19125 (8%)]\tLoss: 0.750176, Accuracy: 6/8 (75.000%)\n",
      "TRAIN: LOSS-->0.6779 (0.5540)\tACC-->50.000% (71.540%)\n",
      "TRAIN: 14 [3200/19125 (17%)]\tLoss: 0.677864, Accuracy: 4/8 (50.000%)\n",
      "TRAIN: LOSS-->0.3657 (0.5580)\tACC-->87.500% (71.319%)\n",
      "TRAIN: 14 [4800/19125 (25%)]\tLoss: 0.365710, Accuracy: 7/8 (87.500%)\n",
      "TRAIN: LOSS-->0.4811 (0.5659)\tACC-->75.000% (70.568%)\n",
      "TRAIN: 14 [6400/19125 (33%)]\tLoss: 0.481134, Accuracy: 6/8 (75.000%)\n",
      "TRAIN: LOSS-->0.6035 (0.5695)\tACC-->87.500% (70.042%)\n",
      "TRAIN: 14 [8000/19125 (42%)]\tLoss: 0.603468, Accuracy: 7/8 (87.500%)\n",
      "TRAIN: LOSS-->0.4889 (0.5698)\tACC-->87.500% (69.890%)\n",
      "TRAIN: 14 [9600/19125 (50%)]\tLoss: 0.488912, Accuracy: 7/8 (87.500%)\n",
      "TRAIN: LOSS-->0.5873 (0.5705)\tACC-->50.000% (69.870%)\n",
      "TRAIN: 14 [11200/19125 (59%)]\tLoss: 0.587265, Accuracy: 4/8 (50.000%)\n",
      "TRAIN: LOSS-->0.6136 (0.5724)\tACC-->50.000% (69.652%)\n",
      "TRAIN: 14 [12800/19125 (67%)]\tLoss: 0.613598, Accuracy: 4/8 (50.000%)\n",
      "TRAIN: LOSS-->0.6145 (0.5740)\tACC-->50.000% (69.572%)\n",
      "TRAIN: 14 [14400/19125 (75%)]\tLoss: 0.614455, Accuracy: 4/8 (50.000%)\n",
      "TRAIN: LOSS-->0.6475 (0.5736)\tACC-->50.000% (69.453%)\n",
      "TRAIN: 14 [16000/19125 (84%)]\tLoss: 0.647470, Accuracy: 4/8 (50.000%)\n",
      "TRAIN: LOSS-->0.5557 (0.5735)\tACC-->62.500% (69.406%)\n",
      "TRAIN: 14 [17600/19125 (92%)]\tLoss: 0.555660, Accuracy: 5/8 (62.500%)\n",
      "VAL:   LOSS--> 0.3366 (0.3366)\tACC-->87.500 (87.500)\n",
      "VAL:   LOSS--> 0.5651 (0.4336)\tACC-->75.000 (78.669)\n",
      "VAL:   LOSS--> 0.1574 (0.4412)\tACC-->100.000 (78.803)\n",
      " * Accuracy 79.0519\n"
     ]
    },
    {
     "name": "stderr",
     "output_type": "stream",
     "text": [
      "\r",
      " 10%|██████████████▎                                                                                                                                | 15/150 [35:46<5:21:57, 143.09s/it]"
     ]
    },
    {
     "name": "stdout",
     "output_type": "stream",
     "text": [
      "TRAIN: LOSS-->0.5717 (0.5717)\tACC-->75.000% (75.000%)\n",
      "TRAIN: 15 [0/19125 (0%)]\tLoss: 0.571714, Accuracy: 6/8 (75.000%)\n",
      "TRAIN: LOSS-->0.4313 (0.5724)\tACC-->87.500% (69.030%)\n",
      "TRAIN: 15 [1600/19125 (8%)]\tLoss: 0.431258, Accuracy: 7/8 (87.500%)\n",
      "TRAIN: LOSS-->0.5699 (0.5621)\tACC-->75.000% (69.607%)\n",
      "TRAIN: 15 [3200/19125 (17%)]\tLoss: 0.569939, Accuracy: 6/8 (75.000%)\n",
      "TRAIN: LOSS-->0.7043 (0.5624)\tACC-->62.500% (69.988%)\n",
      "TRAIN: 15 [4800/19125 (25%)]\tLoss: 0.704343, Accuracy: 5/8 (62.500%)\n",
      "TRAIN: LOSS-->0.5145 (0.5654)\tACC-->75.000% (69.679%)\n",
      "TRAIN: 15 [6400/19125 (33%)]\tLoss: 0.514494, Accuracy: 6/8 (75.000%)\n",
      "TRAIN: LOSS-->0.2746 (0.5683)\tACC-->100.000% (69.718%)\n",
      "TRAIN: 15 [8000/19125 (42%)]\tLoss: 0.274618, Accuracy: 8/8 (100.000%)\n",
      "TRAIN: LOSS-->0.6768 (0.5696)\tACC-->75.000% (69.598%)\n",
      "TRAIN: 15 [9600/19125 (50%)]\tLoss: 0.676785, Accuracy: 6/8 (75.000%)\n",
      "TRAIN: LOSS-->0.2994 (0.5702)\tACC-->87.500% (69.772%)\n",
      "TRAIN: 15 [11200/19125 (59%)]\tLoss: 0.299362, Accuracy: 7/8 (87.500%)\n",
      "TRAIN: LOSS-->0.4329 (0.5702)\tACC-->75.000% (69.847%)\n",
      "TRAIN: 15 [12800/19125 (67%)]\tLoss: 0.432949, Accuracy: 6/8 (75.000%)\n",
      "TRAIN: LOSS-->0.4280 (0.5706)\tACC-->87.500% (69.808%)\n",
      "TRAIN: 15 [14400/19125 (75%)]\tLoss: 0.427978, Accuracy: 7/8 (87.500%)\n",
      "TRAIN: LOSS-->0.4480 (0.5698)\tACC-->100.000% (69.809%)\n",
      "TRAIN: 15 [16000/19125 (84%)]\tLoss: 0.447993, Accuracy: 8/8 (100.000%)\n",
      "TRAIN: LOSS-->0.6831 (0.5680)\tACC-->50.000% (69.855%)\n",
      "TRAIN: 15 [17600/19125 (92%)]\tLoss: 0.683136, Accuracy: 4/8 (50.000%)\n",
      "VAL:   LOSS--> 0.6529 (0.6529)\tACC-->75.000 (75.000)\n",
      "VAL:   LOSS--> 0.1938 (0.5166)\tACC-->87.500 (74.751)\n",
      "VAL:   LOSS--> 0.3374 (0.4968)\tACC-->75.000 (76.403)\n",
      " * Accuracy 76.5037\n"
     ]
    },
    {
     "name": "stderr",
     "output_type": "stream",
     "text": [
      "\r",
      " 11%|███████████████▎                                                                                                                               | 16/150 [38:04<5:18:48, 142.75s/it]"
     ]
    },
    {
     "name": "stdout",
     "output_type": "stream",
     "text": [
      "TRAIN: LOSS-->0.4490 (0.4490)\tACC-->87.500% (87.500%)\n",
      "TRAIN: 16 [0/19125 (0%)]\tLoss: 0.448974, Accuracy: 7/8 (87.500%)\n",
      "TRAIN: LOSS-->0.5860 (0.5564)\tACC-->37.500% (71.828%)\n",
      "TRAIN: 16 [1600/19125 (8%)]\tLoss: 0.585994, Accuracy: 3/8 (37.500%)\n",
      "TRAIN: LOSS-->0.6192 (0.5640)\tACC-->62.500% (70.231%)\n",
      "TRAIN: 16 [3200/19125 (17%)]\tLoss: 0.619201, Accuracy: 5/8 (62.500%)\n",
      "TRAIN: LOSS-->0.7774 (0.5612)\tACC-->50.000% (70.112%)\n",
      "TRAIN: 16 [4800/19125 (25%)]\tLoss: 0.777414, Accuracy: 4/8 (50.000%)\n",
      "TRAIN: LOSS-->0.6633 (0.5605)\tACC-->50.000% (70.474%)\n",
      "TRAIN: 16 [6400/19125 (33%)]\tLoss: 0.663272, Accuracy: 4/8 (50.000%)\n",
      "TRAIN: LOSS-->0.6767 (0.5591)\tACC-->62.500% (70.692%)\n",
      "TRAIN: 16 [8000/19125 (42%)]\tLoss: 0.676675, Accuracy: 5/8 (62.500%)\n",
      "TRAIN: LOSS-->0.5450 (0.5586)\tACC-->62.500% (70.629%)\n",
      "TRAIN: 16 [9600/19125 (50%)]\tLoss: 0.545000, Accuracy: 5/8 (62.500%)\n",
      "TRAIN: LOSS-->1.0132 (0.5582)\tACC-->37.500% (70.610%)\n",
      "TRAIN: 16 [11200/19125 (59%)]\tLoss: 1.013187, Accuracy: 3/8 (37.500%)\n",
      "TRAIN: LOSS-->0.8980 (0.5614)\tACC-->62.500% (70.292%)\n",
      "TRAIN: 16 [12800/19125 (67%)]\tLoss: 0.898009, Accuracy: 5/8 (62.500%)\n",
      "TRAIN: LOSS-->0.5679 (0.5619)\tACC-->62.500% (70.246%)\n",
      "TRAIN: 16 [14400/19125 (75%)]\tLoss: 0.567942, Accuracy: 5/8 (62.500%)\n",
      "TRAIN: LOSS-->0.7535 (0.5622)\tACC-->50.000% (70.215%)\n",
      "TRAIN: 16 [16000/19125 (84%)]\tLoss: 0.753515, Accuracy: 4/8 (50.000%)\n",
      "TRAIN: LOSS-->0.6210 (0.5616)\tACC-->50.000% (70.292%)\n",
      "TRAIN: 16 [17600/19125 (92%)]\tLoss: 0.620958, Accuracy: 4/8 (50.000%)\n",
      "VAL:   LOSS--> 0.3887 (0.3887)\tACC-->87.500 (87.500)\n",
      "VAL:   LOSS--> 0.6703 (0.4416)\tACC-->50.000 (79.789)\n",
      "VAL:   LOSS--> 0.6932 (0.4336)\tACC-->62.500 (80.019)\n",
      " * Accuracy 79.7037\n"
     ]
    },
    {
     "name": "stderr",
     "output_type": "stream",
     "text": [
      "\r",
      " 11%|████████████████▏                                                                                                                              | 17/150 [40:21<5:15:44, 142.44s/it]"
     ]
    },
    {
     "name": "stdout",
     "output_type": "stream",
     "text": [
      "TRAIN: LOSS-->1.0269 (1.0269)\tACC-->50.000% (50.000%)\n",
      "TRAIN: 17 [0/19125 (0%)]\tLoss: 1.026872, Accuracy: 4/8 (50.000%)\n",
      "TRAIN: LOSS-->0.5529 (0.5546)\tACC-->75.000% (71.393%)\n",
      "TRAIN: 17 [1600/19125 (8%)]\tLoss: 0.552851, Accuracy: 6/8 (75.000%)\n",
      "TRAIN: LOSS-->0.4253 (0.5657)\tACC-->87.500% (70.355%)\n",
      "TRAIN: 17 [3200/19125 (17%)]\tLoss: 0.425251, Accuracy: 7/8 (87.500%)\n",
      "TRAIN: LOSS-->0.5327 (0.5626)\tACC-->62.500% (70.570%)\n",
      "TRAIN: 17 [4800/19125 (25%)]\tLoss: 0.532688, Accuracy: 5/8 (62.500%)\n",
      "TRAIN: LOSS-->0.6458 (0.5571)\tACC-->50.000% (71.426%)\n",
      "TRAIN: 17 [6400/19125 (33%)]\tLoss: 0.645839, Accuracy: 4/8 (50.000%)\n",
      "TRAIN: LOSS-->1.0126 (0.5627)\tACC-->37.500% (70.954%)\n",
      "TRAIN: 17 [8000/19125 (42%)]\tLoss: 1.012571, Accuracy: 3/8 (37.500%)\n",
      "TRAIN: LOSS-->0.4562 (0.5626)\tACC-->87.500% (70.795%)\n",
      "TRAIN: 17 [9600/19125 (50%)]\tLoss: 0.456157, Accuracy: 7/8 (87.500%)\n",
      "TRAIN: LOSS-->0.3342 (0.5632)\tACC-->87.500% (70.628%)\n",
      "TRAIN: 17 [11200/19125 (59%)]\tLoss: 0.334177, Accuracy: 7/8 (87.500%)\n",
      "TRAIN: LOSS-->0.6814 (0.5640)\tACC-->62.500% (70.386%)\n",
      "TRAIN: 17 [12800/19125 (67%)]\tLoss: 0.681448, Accuracy: 5/8 (62.500%)\n",
      "TRAIN: LOSS-->0.5439 (0.5612)\tACC-->75.000% (70.537%)\n",
      "TRAIN: 17 [14400/19125 (75%)]\tLoss: 0.543919, Accuracy: 6/8 (75.000%)\n",
      "TRAIN: LOSS-->0.5451 (0.5594)\tACC-->62.500% (70.571%)\n",
      "TRAIN: 17 [16000/19125 (84%)]\tLoss: 0.545098, Accuracy: 5/8 (62.500%)\n",
      "TRAIN: LOSS-->0.4975 (0.5588)\tACC-->75.000% (70.661%)\n",
      "TRAIN: 17 [17600/19125 (92%)]\tLoss: 0.497473, Accuracy: 6/8 (75.000%)\n",
      "VAL:   LOSS--> 0.1026 (0.1026)\tACC-->100.000 (100.000)\n",
      "VAL:   LOSS--> 0.7020 (0.4460)\tACC-->50.000 (78.545)\n",
      "VAL:   LOSS--> 0.5845 (0.4460)\tACC-->75.000 (78.491)\n",
      " * Accuracy 78.2815\n"
     ]
    },
    {
     "name": "stderr",
     "output_type": "stream",
     "text": [
      "\r",
      " 12%|█████████████████▏                                                                                                                             | 18/150 [42:39<5:12:46, 142.17s/it]"
     ]
    },
    {
     "name": "stdout",
     "output_type": "stream",
     "text": [
      "TRAIN: LOSS-->0.2832 (0.2832)\tACC-->87.500% (87.500%)\n",
      "TRAIN: 18 [0/19125 (0%)]\tLoss: 0.283203, Accuracy: 7/8 (87.500%)\n",
      "TRAIN: LOSS-->0.3898 (0.5627)\tACC-->75.000% (71.704%)\n",
      "TRAIN: 18 [1600/19125 (8%)]\tLoss: 0.389754, Accuracy: 6/8 (75.000%)\n",
      "TRAIN: LOSS-->0.2836 (0.5528)\tACC-->100.000% (71.446%)\n",
      "TRAIN: 18 [3200/19125 (17%)]\tLoss: 0.283601, Accuracy: 8/8 (100.000%)\n",
      "TRAIN: LOSS-->0.5768 (0.5484)\tACC-->75.000% (71.631%)\n",
      "TRAIN: 18 [4800/19125 (25%)]\tLoss: 0.576788, Accuracy: 6/8 (75.000%)\n",
      "TRAIN: LOSS-->1.0992 (0.5467)\tACC-->50.000% (71.442%)\n",
      "TRAIN: 18 [6400/19125 (33%)]\tLoss: 1.099176, Accuracy: 4/8 (50.000%)\n",
      "TRAIN: LOSS-->0.3619 (0.5483)\tACC-->87.500% (70.992%)\n",
      "TRAIN: 18 [8000/19125 (42%)]\tLoss: 0.361918, Accuracy: 7/8 (87.500%)\n",
      "TRAIN: LOSS-->0.5050 (0.5448)\tACC-->87.500% (71.368%)\n",
      "TRAIN: 18 [9600/19125 (50%)]\tLoss: 0.505000, Accuracy: 7/8 (87.500%)\n",
      "TRAIN: LOSS-->0.5958 (0.5433)\tACC-->62.500% (71.699%)\n",
      "TRAIN: 18 [11200/19125 (59%)]\tLoss: 0.595826, Accuracy: 5/8 (62.500%)\n",
      "TRAIN: LOSS-->0.5169 (0.5442)\tACC-->87.500% (71.658%)\n",
      "TRAIN: 18 [12800/19125 (67%)]\tLoss: 0.516866, Accuracy: 7/8 (87.500%)\n",
      "TRAIN: LOSS-->0.8386 (0.5453)\tACC-->62.500% (71.551%)\n",
      "TRAIN: 18 [14400/19125 (75%)]\tLoss: 0.838619, Accuracy: 5/8 (62.500%)\n",
      "TRAIN: LOSS-->0.4742 (0.5465)\tACC-->75.000% (71.402%)\n",
      "TRAIN: 18 [16000/19125 (84%)]\tLoss: 0.474218, Accuracy: 6/8 (75.000%)\n",
      "TRAIN: LOSS-->0.4726 (0.5482)\tACC-->75.000% (71.280%)\n",
      "TRAIN: 18 [17600/19125 (92%)]\tLoss: 0.472607, Accuracy: 6/8 (75.000%)\n",
      "VAL:   LOSS--> 0.7949 (0.7949)\tACC-->75.000 (75.000)\n",
      "VAL:   LOSS--> 0.2939 (0.4315)\tACC-->87.500 (80.037)\n",
      "VAL:   LOSS--> 0.5379 (0.4263)\tACC-->75.000 (79.738)\n",
      " * Accuracy 79.8222\n"
     ]
    },
    {
     "name": "stderr",
     "output_type": "stream",
     "text": [
      "\r",
      " 13%|██████████████████                                                                                                                             | 19/150 [44:56<5:09:51, 141.92s/it]"
     ]
    },
    {
     "name": "stdout",
     "output_type": "stream",
     "text": [
      "TRAIN: LOSS-->0.7293 (0.7293)\tACC-->50.000% (50.000%)\n",
      "TRAIN: 19 [0/19125 (0%)]\tLoss: 0.729319, Accuracy: 4/8 (50.000%)\n",
      "TRAIN: LOSS-->0.4668 (0.5526)\tACC-->87.500% (71.331%)\n",
      "TRAIN: 19 [1600/19125 (8%)]\tLoss: 0.466766, Accuracy: 7/8 (87.500%)\n",
      "TRAIN: LOSS-->0.5718 (0.5522)\tACC-->62.500% (71.197%)\n",
      "TRAIN: 19 [3200/19125 (17%)]\tLoss: 0.571751, Accuracy: 5/8 (62.500%)\n",
      "TRAIN: LOSS-->0.5231 (0.5512)\tACC-->75.000% (71.651%)\n",
      "TRAIN: 19 [4800/19125 (25%)]\tLoss: 0.523127, Accuracy: 6/8 (75.000%)\n",
      "TRAIN: LOSS-->0.6127 (0.5531)\tACC-->75.000% (71.161%)\n",
      "TRAIN: 19 [6400/19125 (33%)]\tLoss: 0.612658, Accuracy: 6/8 (75.000%)\n",
      "TRAIN: LOSS-->0.7022 (0.5512)\tACC-->62.500% (70.954%)\n",
      "TRAIN: 19 [8000/19125 (42%)]\tLoss: 0.702211, Accuracy: 5/8 (62.500%)\n",
      "TRAIN: LOSS-->0.6001 (0.5519)\tACC-->62.500% (70.847%)\n",
      "TRAIN: 19 [9600/19125 (50%)]\tLoss: 0.600119, Accuracy: 5/8 (62.500%)\n",
      "TRAIN: LOSS-->0.8277 (0.5528)\tACC-->75.000% (70.708%)\n",
      "TRAIN: 19 [11200/19125 (59%)]\tLoss: 0.827657, Accuracy: 6/8 (75.000%)\n",
      "TRAIN: LOSS-->0.6221 (0.5512)\tACC-->75.000% (70.604%)\n",
      "TRAIN: 19 [12800/19125 (67%)]\tLoss: 0.622123, Accuracy: 6/8 (75.000%)\n",
      "TRAIN: LOSS-->0.5419 (0.5504)\tACC-->75.000% (70.711%)\n",
      "TRAIN: 19 [14400/19125 (75%)]\tLoss: 0.541890, Accuracy: 6/8 (75.000%)\n",
      "TRAIN: LOSS-->1.1132 (0.5508)\tACC-->37.500% (70.727%)\n",
      "TRAIN: 19 [16000/19125 (84%)]\tLoss: 1.113206, Accuracy: 3/8 (37.500%)\n",
      "TRAIN: LOSS-->0.5288 (0.5493)\tACC-->75.000% (70.888%)\n",
      "TRAIN: 19 [17600/19125 (92%)]\tLoss: 0.528761, Accuracy: 6/8 (75.000%)\n",
      "VAL:   LOSS--> 0.2946 (0.2946)\tACC-->100.000 (100.000)\n",
      "VAL:   LOSS--> 0.5821 (0.4372)\tACC-->75.000 (79.042)\n",
      "VAL:   LOSS--> 0.3793 (0.4445)\tACC-->75.000 (78.335)\n",
      " * Accuracy 78.4296\n"
     ]
    },
    {
     "name": "stderr",
     "output_type": "stream",
     "text": [
      "\r",
      " 13%|███████████████████                                                                                                                            | 20/150 [47:14<5:07:02, 141.71s/it]"
     ]
    },
    {
     "name": "stdout",
     "output_type": "stream",
     "text": [
      "TRAIN: LOSS-->0.2606 (0.2606)\tACC-->100.000% (100.000%)\n",
      "TRAIN: 20 [0/19125 (0%)]\tLoss: 0.260579, Accuracy: 8/8 (100.000%)\n",
      "TRAIN: LOSS-->0.7185 (0.5608)\tACC-->75.000% (70.398%)\n",
      "TRAIN: 20 [1600/19125 (8%)]\tLoss: 0.718460, Accuracy: 6/8 (75.000%)\n",
      "TRAIN: LOSS-->0.3277 (0.5462)\tACC-->87.500% (71.228%)\n",
      "TRAIN: 20 [3200/19125 (17%)]\tLoss: 0.327712, Accuracy: 7/8 (87.500%)\n",
      "TRAIN: LOSS-->0.2200 (0.5372)\tACC-->100.000% (72.463%)\n",
      "TRAIN: 20 [4800/19125 (25%)]\tLoss: 0.220003, Accuracy: 8/8 (100.000%)\n",
      "TRAIN: LOSS-->0.5919 (0.5401)\tACC-->75.000% (72.253%)\n",
      "TRAIN: 20 [6400/19125 (33%)]\tLoss: 0.591874, Accuracy: 6/8 (75.000%)\n",
      "TRAIN: LOSS-->0.3287 (0.5407)\tACC-->87.500% (72.240%)\n",
      "TRAIN: 20 [8000/19125 (42%)]\tLoss: 0.328693, Accuracy: 7/8 (87.500%)\n",
      "TRAIN: LOSS-->0.4157 (0.5418)\tACC-->75.000% (72.107%)\n",
      "TRAIN: 20 [9600/19125 (50%)]\tLoss: 0.415731, Accuracy: 6/8 (75.000%)\n",
      "TRAIN: LOSS-->0.5337 (0.5425)\tACC-->75.000% (72.198%)\n",
      "TRAIN: 20 [11200/19125 (59%)]\tLoss: 0.533745, Accuracy: 6/8 (75.000%)\n",
      "TRAIN: LOSS-->0.3626 (0.5440)\tACC-->75.000% (72.127%)\n",
      "TRAIN: 20 [12800/19125 (67%)]\tLoss: 0.362568, Accuracy: 6/8 (75.000%)\n",
      "TRAIN: LOSS-->0.4528 (0.5437)\tACC-->75.000% (72.189%)\n",
      "TRAIN: 20 [14400/19125 (75%)]\tLoss: 0.452802, Accuracy: 6/8 (75.000%)\n",
      "TRAIN: LOSS-->0.5271 (0.5436)\tACC-->62.500% (72.064%)\n",
      "TRAIN: 20 [16000/19125 (84%)]\tLoss: 0.527096, Accuracy: 5/8 (62.500%)\n",
      "TRAIN: LOSS-->0.4553 (0.5427)\tACC-->75.000% (72.087%)\n",
      "TRAIN: 20 [17600/19125 (92%)]\tLoss: 0.455296, Accuracy: 6/8 (75.000%)\n",
      "VAL:   LOSS--> 0.5996 (0.5996)\tACC-->62.500 (62.500)\n",
      "VAL:   LOSS--> 0.6718 (0.4271)\tACC-->75.000 (80.535)\n",
      "VAL:   LOSS--> 0.7579 (0.4376)\tACC-->50.000 (80.050)\n",
      " * Accuracy 79.9704\n"
     ]
    },
    {
     "name": "stderr",
     "output_type": "stream",
     "text": [
      "\r",
      " 14%|████████████████████                                                                                                                           | 21/150 [49:31<5:04:15, 141.52s/it]"
     ]
    },
    {
     "name": "stdout",
     "output_type": "stream",
     "text": [
      "TRAIN: LOSS-->0.8169 (0.8169)\tACC-->62.500% (62.500%)\n",
      "TRAIN: 21 [0/19125 (0%)]\tLoss: 0.816949, Accuracy: 5/8 (62.500%)\n",
      "TRAIN: LOSS-->0.8378 (0.5467)\tACC-->50.000% (71.642%)\n",
      "TRAIN: 21 [1600/19125 (8%)]\tLoss: 0.837767, Accuracy: 4/8 (50.000%)\n",
      "TRAIN: LOSS-->0.6113 (0.5394)\tACC-->75.000% (72.288%)\n",
      "TRAIN: 21 [3200/19125 (17%)]\tLoss: 0.611325, Accuracy: 6/8 (75.000%)\n",
      "TRAIN: LOSS-->0.6973 (0.5414)\tACC-->50.000% (72.171%)\n",
      "TRAIN: 21 [4800/19125 (25%)]\tLoss: 0.697263, Accuracy: 4/8 (50.000%)\n",
      "TRAIN: LOSS-->0.4955 (0.5446)\tACC-->62.500% (72.253%)\n",
      "TRAIN: 21 [6400/19125 (33%)]\tLoss: 0.495498, Accuracy: 5/8 (62.500%)\n",
      "TRAIN: LOSS-->0.6353 (0.5397)\tACC-->62.500% (72.415%)\n",
      "TRAIN: 21 [8000/19125 (42%)]\tLoss: 0.635274, Accuracy: 5/8 (62.500%)\n",
      "TRAIN: LOSS-->0.3588 (0.5384)\tACC-->87.500% (72.471%)\n",
      "TRAIN: 21 [9600/19125 (50%)]\tLoss: 0.358816, Accuracy: 7/8 (87.500%)\n",
      "TRAIN: LOSS-->0.5357 (0.5364)\tACC-->62.500% (72.743%)\n",
      "TRAIN: 21 [11200/19125 (59%)]\tLoss: 0.535715, Accuracy: 5/8 (62.500%)\n",
      "TRAIN: LOSS-->0.4885 (0.5360)\tACC-->87.500% (72.666%)\n",
      "TRAIN: 21 [12800/19125 (67%)]\tLoss: 0.488491, Accuracy: 7/8 (87.500%)\n",
      "TRAIN: LOSS-->0.8562 (0.5341)\tACC-->37.500% (72.751%)\n",
      "TRAIN: 21 [14400/19125 (75%)]\tLoss: 0.856158, Accuracy: 3/8 (37.500%)\n",
      "TRAIN: LOSS-->0.5382 (0.5347)\tACC-->62.500% (72.539%)\n",
      "TRAIN: 21 [16000/19125 (84%)]\tLoss: 0.538197, Accuracy: 5/8 (62.500%)\n",
      "TRAIN: LOSS-->0.3263 (0.5365)\tACC-->87.500% (72.376%)\n",
      "TRAIN: 21 [17600/19125 (92%)]\tLoss: 0.326272, Accuracy: 7/8 (87.500%)\n",
      "VAL:   LOSS--> 0.4417 (0.4417)\tACC-->62.500 (62.500)\n",
      "VAL:   LOSS--> 0.4781 (0.3717)\tACC-->75.000 (83.396)\n",
      "VAL:   LOSS--> 0.4852 (0.3867)\tACC-->75.000 (82.263)\n",
      " * Accuracy 82.5185\n"
     ]
    },
    {
     "name": "stderr",
     "output_type": "stream",
     "text": [
      "\r",
      " 15%|████████████████████▉                                                                                                                          | 22/150 [51:49<5:01:31, 141.34s/it]"
     ]
    },
    {
     "name": "stdout",
     "output_type": "stream",
     "text": [
      "TRAIN: LOSS-->0.6939 (0.6939)\tACC-->75.000% (75.000%)\n",
      "TRAIN: 22 [0/19125 (0%)]\tLoss: 0.693940, Accuracy: 6/8 (75.000%)\n",
      "TRAIN: LOSS-->0.6870 (0.5365)\tACC-->62.500% (71.766%)\n",
      "TRAIN: 22 [1600/19125 (8%)]\tLoss: 0.686980, Accuracy: 5/8 (62.500%)\n",
      "TRAIN: LOSS-->0.4426 (0.5325)\tACC-->75.000% (71.820%)\n",
      "TRAIN: 22 [3200/19125 (17%)]\tLoss: 0.442604, Accuracy: 6/8 (75.000%)\n",
      "TRAIN: LOSS-->0.4848 (0.5308)\tACC-->75.000% (72.047%)\n",
      "TRAIN: 22 [4800/19125 (25%)]\tLoss: 0.484811, Accuracy: 6/8 (75.000%)\n",
      "TRAIN: LOSS-->0.6526 (0.5296)\tACC-->62.500% (72.409%)\n",
      "TRAIN: 22 [6400/19125 (33%)]\tLoss: 0.652633, Accuracy: 5/8 (62.500%)\n",
      "TRAIN: LOSS-->0.6867 (0.5306)\tACC-->75.000% (72.453%)\n",
      "TRAIN: 22 [8000/19125 (42%)]\tLoss: 0.686717, Accuracy: 6/8 (75.000%)\n",
      "TRAIN: LOSS-->0.9317 (0.5329)\tACC-->50.000% (72.221%)\n",
      "TRAIN: 22 [9600/19125 (50%)]\tLoss: 0.931686, Accuracy: 4/8 (50.000%)\n",
      "TRAIN: LOSS-->0.6873 (0.5331)\tACC-->62.500% (72.109%)\n",
      "TRAIN: 22 [11200/19125 (59%)]\tLoss: 0.687317, Accuracy: 5/8 (62.500%)\n",
      "TRAIN: LOSS-->0.7427 (0.5343)\tACC-->62.500% (72.119%)\n",
      "TRAIN: 22 [12800/19125 (67%)]\tLoss: 0.742712, Accuracy: 5/8 (62.500%)\n",
      "TRAIN: LOSS-->0.5081 (0.5316)\tACC-->75.000% (72.307%)\n",
      "TRAIN: 22 [14400/19125 (75%)]\tLoss: 0.508114, Accuracy: 6/8 (75.000%)\n",
      "TRAIN: LOSS-->0.5399 (0.5288)\tACC-->75.000% (72.376%)\n",
      "TRAIN: 22 [16000/19125 (84%)]\tLoss: 0.539896, Accuracy: 6/8 (75.000%)\n",
      "TRAIN: LOSS-->0.5083 (0.5286)\tACC-->87.500% (72.530%)\n",
      "TRAIN: 22 [17600/19125 (92%)]\tLoss: 0.508321, Accuracy: 7/8 (87.500%)\n",
      "VAL:   LOSS--> 0.4658 (0.4658)\tACC-->75.000 (75.000)\n",
      "VAL:   LOSS--> 0.7796 (0.3704)\tACC-->62.500 (82.836)\n",
      "VAL:   LOSS--> 0.4992 (0.3835)\tACC-->87.500 (82.544)\n",
      " * Accuracy 82.3111\n"
     ]
    },
    {
     "name": "stderr",
     "output_type": "stream",
     "text": [
      "\r",
      " 15%|█████████████████████▉                                                                                                                         | 23/150 [54:06<4:58:48, 141.17s/it]"
     ]
    },
    {
     "name": "stdout",
     "output_type": "stream",
     "text": [
      "TRAIN: LOSS-->0.4761 (0.4761)\tACC-->75.000% (75.000%)\n",
      "TRAIN: 23 [0/19125 (0%)]\tLoss: 0.476116, Accuracy: 6/8 (75.000%)\n",
      "TRAIN: LOSS-->0.5948 (0.5408)\tACC-->62.500% (71.517%)\n",
      "TRAIN: 23 [1600/19125 (8%)]\tLoss: 0.594843, Accuracy: 5/8 (62.500%)\n",
      "TRAIN: LOSS-->0.9120 (0.5318)\tACC-->50.000% (72.569%)\n",
      "TRAIN: 23 [3200/19125 (17%)]\tLoss: 0.912034, Accuracy: 4/8 (50.000%)\n",
      "TRAIN: LOSS-->0.5954 (0.5287)\tACC-->62.500% (73.003%)\n",
      "TRAIN: 23 [4800/19125 (25%)]\tLoss: 0.595397, Accuracy: 5/8 (62.500%)\n",
      "TRAIN: LOSS-->0.7235 (0.5284)\tACC-->75.000% (72.893%)\n",
      "TRAIN: 23 [6400/19125 (33%)]\tLoss: 0.723487, Accuracy: 6/8 (75.000%)\n",
      "TRAIN: LOSS-->0.7824 (0.5263)\tACC-->75.000% (72.790%)\n",
      "TRAIN: 23 [8000/19125 (42%)]\tLoss: 0.782398, Accuracy: 6/8 (75.000%)\n",
      "TRAIN: LOSS-->0.4830 (0.5287)\tACC-->100.000% (72.856%)\n",
      "TRAIN: 23 [9600/19125 (50%)]\tLoss: 0.483004, Accuracy: 8/8 (100.000%)\n",
      "TRAIN: LOSS-->0.6812 (0.5280)\tACC-->37.500% (72.805%)\n",
      "TRAIN: 23 [11200/19125 (59%)]\tLoss: 0.681157, Accuracy: 3/8 (37.500%)\n",
      "TRAIN: LOSS-->0.4991 (0.5284)\tACC-->75.000% (72.783%)\n",
      "TRAIN: 23 [12800/19125 (67%)]\tLoss: 0.499103, Accuracy: 6/8 (75.000%)\n",
      "TRAIN: LOSS-->0.6108 (0.5275)\tACC-->62.500% (72.897%)\n",
      "TRAIN: 23 [14400/19125 (75%)]\tLoss: 0.610848, Accuracy: 5/8 (62.500%)\n",
      "TRAIN: LOSS-->0.7657 (0.5279)\tACC-->62.500% (72.839%)\n",
      "TRAIN: 23 [16000/19125 (84%)]\tLoss: 0.765706, Accuracy: 5/8 (62.500%)\n",
      "TRAIN: LOSS-->0.2511 (0.5281)\tACC-->100.000% (72.916%)\n",
      "TRAIN: 23 [17600/19125 (92%)]\tLoss: 0.251101, Accuracy: 8/8 (100.000%)\n",
      "VAL:   LOSS--> 0.2807 (0.2807)\tACC-->87.500 (87.500)\n",
      "VAL:   LOSS--> 0.1265 (0.3890)\tACC-->100.000 (81.654)\n",
      "VAL:   LOSS--> 0.4173 (0.3833)\tACC-->75.000 (82.107)\n",
      " * Accuracy 82.0741\n"
     ]
    },
    {
     "name": "stderr",
     "output_type": "stream",
     "text": [
      "\r",
      " 16%|██████████████████████▉                                                                                                                        | 24/150 [56:24<4:56:08, 141.02s/it]"
     ]
    },
    {
     "name": "stdout",
     "output_type": "stream",
     "text": [
      "TRAIN: LOSS-->0.4973 (0.4973)\tACC-->75.000% (75.000%)\n",
      "TRAIN: 24 [0/19125 (0%)]\tLoss: 0.497332, Accuracy: 6/8 (75.000%)\n",
      "TRAIN: LOSS-->0.5465 (0.5016)\tACC-->75.000% (73.943%)\n",
      "TRAIN: 24 [1600/19125 (8%)]\tLoss: 0.546479, Accuracy: 6/8 (75.000%)\n",
      "TRAIN: LOSS-->0.5827 (0.5139)\tACC-->75.000% (73.691%)\n",
      "TRAIN: 24 [3200/19125 (17%)]\tLoss: 0.582745, Accuracy: 6/8 (75.000%)\n",
      "TRAIN: LOSS-->0.7203 (0.5152)\tACC-->50.000% (73.586%)\n",
      "TRAIN: 24 [4800/19125 (25%)]\tLoss: 0.720281, Accuracy: 4/8 (50.000%)\n",
      "TRAIN: LOSS-->0.4223 (0.5212)\tACC-->87.500% (73.549%)\n",
      "TRAIN: 24 [6400/19125 (33%)]\tLoss: 0.422293, Accuracy: 7/8 (87.500%)\n",
      "TRAIN: LOSS-->0.5265 (0.5242)\tACC-->62.500% (73.364%)\n",
      "TRAIN: 24 [8000/19125 (42%)]\tLoss: 0.526532, Accuracy: 5/8 (62.500%)\n",
      "TRAIN: LOSS-->0.5994 (0.5216)\tACC-->62.500% (73.522%)\n",
      "TRAIN: 24 [9600/19125 (50%)]\tLoss: 0.599439, Accuracy: 5/8 (62.500%)\n",
      "TRAIN: LOSS-->0.5052 (0.5166)\tACC-->87.500% (73.885%)\n",
      "TRAIN: 24 [11200/19125 (59%)]\tLoss: 0.505225, Accuracy: 7/8 (87.500%)\n",
      "TRAIN: LOSS-->0.8864 (0.5177)\tACC-->50.000% (73.899%)\n",
      "TRAIN: 24 [12800/19125 (67%)]\tLoss: 0.886360, Accuracy: 4/8 (50.000%)\n",
      "TRAIN: LOSS-->0.5465 (0.5187)\tACC-->62.500% (73.855%)\n",
      "TRAIN: 24 [14400/19125 (75%)]\tLoss: 0.546496, Accuracy: 5/8 (62.500%)\n",
      "TRAIN: LOSS-->0.5011 (0.5170)\tACC-->75.000% (73.907%)\n",
      "TRAIN: 24 [16000/19125 (84%)]\tLoss: 0.501121, Accuracy: 6/8 (75.000%)\n",
      "TRAIN: LOSS-->0.3582 (0.5178)\tACC-->87.500% (73.864%)\n",
      "TRAIN: 24 [17600/19125 (92%)]\tLoss: 0.358219, Accuracy: 7/8 (87.500%)\n",
      "VAL:   LOSS--> 0.2692 (0.2692)\tACC-->87.500 (87.500)\n",
      "VAL:   LOSS--> 0.2903 (0.3845)\tACC-->87.500 (83.396)\n",
      "VAL:   LOSS--> 0.6196 (0.3841)\tACC-->75.000 (83.229)\n",
      " * Accuracy 83.1407\n"
     ]
    },
    {
     "name": "stderr",
     "output_type": "stream",
     "text": [
      "\r",
      " 17%|███████████████████████▊                                                                                                                       | 25/150 [58:41<4:53:29, 140.87s/it]"
     ]
    },
    {
     "name": "stdout",
     "output_type": "stream",
     "text": [
      "TRAIN: LOSS-->0.2639 (0.2639)\tACC-->100.000% (100.000%)\n",
      "TRAIN: 25 [0/19125 (0%)]\tLoss: 0.263908, Accuracy: 8/8 (100.000%)\n",
      "TRAIN: LOSS-->0.5477 (0.4960)\tACC-->62.500% (75.684%)\n",
      "TRAIN: 25 [1600/19125 (8%)]\tLoss: 0.547682, Accuracy: 5/8 (62.500%)\n",
      "TRAIN: LOSS-->0.7136 (0.5075)\tACC-->62.500% (74.408%)\n",
      "TRAIN: 25 [3200/19125 (17%)]\tLoss: 0.713574, Accuracy: 5/8 (62.500%)\n",
      "TRAIN: LOSS-->0.4655 (0.5165)\tACC-->75.000% (73.502%)\n",
      "TRAIN: 25 [4800/19125 (25%)]\tLoss: 0.465487, Accuracy: 6/8 (75.000%)\n",
      "TRAIN: LOSS-->0.2601 (0.5166)\tACC-->87.500% (73.486%)\n",
      "TRAIN: 25 [6400/19125 (33%)]\tLoss: 0.260093, Accuracy: 7/8 (87.500%)\n",
      "TRAIN: LOSS-->0.4023 (0.5152)\tACC-->75.000% (73.914%)\n",
      "TRAIN: 25 [8000/19125 (42%)]\tLoss: 0.402304, Accuracy: 6/8 (75.000%)\n",
      "TRAIN: LOSS-->0.4783 (0.5137)\tACC-->62.500% (74.084%)\n",
      "TRAIN: 25 [9600/19125 (50%)]\tLoss: 0.478262, Accuracy: 5/8 (62.500%)\n",
      "TRAIN: LOSS-->0.2690 (0.5167)\tACC-->100.000% (73.796%)\n",
      "TRAIN: 25 [11200/19125 (59%)]\tLoss: 0.269008, Accuracy: 8/8 (100.000%)\n",
      "TRAIN: LOSS-->0.7009 (0.5140)\tACC-->62.500% (73.946%)\n",
      "TRAIN: 25 [12800/19125 (67%)]\tLoss: 0.700860, Accuracy: 5/8 (62.500%)\n",
      "TRAIN: LOSS-->0.5033 (0.5172)\tACC-->75.000% (73.674%)\n",
      "TRAIN: 25 [14400/19125 (75%)]\tLoss: 0.503330, Accuracy: 6/8 (75.000%)\n",
      "TRAIN: LOSS-->0.4438 (0.5152)\tACC-->87.500% (73.788%)\n",
      "TRAIN: 25 [16000/19125 (84%)]\tLoss: 0.443831, Accuracy: 7/8 (87.500%)\n",
      "TRAIN: LOSS-->0.7603 (0.5131)\tACC-->62.500% (73.898%)\n",
      "TRAIN: 25 [17600/19125 (92%)]\tLoss: 0.760337, Accuracy: 5/8 (62.500%)\n",
      "VAL:   LOSS--> 0.4083 (0.4083)\tACC-->87.500 (87.500)\n",
      "VAL:   LOSS--> 0.1568 (0.3585)\tACC-->87.500 (84.204)\n",
      "VAL:   LOSS--> 0.4429 (0.3589)\tACC-->62.500 (84.071)\n",
      " * Accuracy 84.1185\n"
     ]
    },
    {
     "name": "stderr",
     "output_type": "stream",
     "text": [
      "\r",
      " 17%|████████████████████████▍                                                                                                                    | 26/150 [1:00:59<4:50:52, 140.74s/it]"
     ]
    },
    {
     "name": "stdout",
     "output_type": "stream",
     "text": [
      "TRAIN: LOSS-->0.3784 (0.3784)\tACC-->75.000% (75.000%)\n",
      "TRAIN: 26 [0/19125 (0%)]\tLoss: 0.378353, Accuracy: 6/8 (75.000%)\n",
      "TRAIN: LOSS-->0.4003 (0.5075)\tACC-->87.500% (73.818%)\n",
      "TRAIN: 26 [1600/19125 (8%)]\tLoss: 0.400275, Accuracy: 7/8 (87.500%)\n",
      "TRAIN: LOSS-->0.3655 (0.5019)\tACC-->100.000% (74.158%)\n",
      "TRAIN: 26 [3200/19125 (17%)]\tLoss: 0.365528, Accuracy: 8/8 (100.000%)\n",
      "TRAIN: LOSS-->0.6134 (0.5070)\tACC-->75.000% (74.022%)\n",
      "TRAIN: 26 [4800/19125 (25%)]\tLoss: 0.613396, Accuracy: 6/8 (75.000%)\n",
      "TRAIN: LOSS-->0.7636 (0.5072)\tACC-->62.500% (73.861%)\n",
      "TRAIN: 26 [6400/19125 (33%)]\tLoss: 0.763637, Accuracy: 5/8 (62.500%)\n",
      "TRAIN: LOSS-->0.4529 (0.5096)\tACC-->75.000% (73.739%)\n",
      "TRAIN: 26 [8000/19125 (42%)]\tLoss: 0.452888, Accuracy: 6/8 (75.000%)\n",
      "TRAIN: LOSS-->0.7510 (0.5077)\tACC-->62.500% (73.928%)\n",
      "TRAIN: 26 [9600/19125 (50%)]\tLoss: 0.751040, Accuracy: 5/8 (62.500%)\n",
      "TRAIN: LOSS-->0.6058 (0.5070)\tACC-->75.000% (74.072%)\n",
      "TRAIN: 26 [11200/19125 (59%)]\tLoss: 0.605820, Accuracy: 6/8 (75.000%)\n",
      "TRAIN: LOSS-->0.9273 (0.5069)\tACC-->50.000% (74.219%)\n",
      "TRAIN: 26 [12800/19125 (67%)]\tLoss: 0.927261, Accuracy: 4/8 (50.000%)\n",
      "TRAIN: LOSS-->0.4653 (0.5067)\tACC-->75.000% (74.007%)\n",
      "TRAIN: 26 [14400/19125 (75%)]\tLoss: 0.465302, Accuracy: 6/8 (75.000%)\n",
      "TRAIN: LOSS-->0.5520 (0.5084)\tACC-->75.000% (73.863%)\n",
      "TRAIN: 26 [16000/19125 (84%)]\tLoss: 0.552048, Accuracy: 6/8 (75.000%)\n",
      "TRAIN: LOSS-->0.6117 (0.5069)\tACC-->75.000% (73.870%)\n",
      "TRAIN: 26 [17600/19125 (92%)]\tLoss: 0.611658, Accuracy: 6/8 (75.000%)\n",
      "VAL:   LOSS--> 0.7543 (0.7543)\tACC-->62.500 (62.500)\n",
      "VAL:   LOSS--> 0.6973 (0.3442)\tACC-->75.000 (84.017)\n",
      "VAL:   LOSS--> 0.4579 (0.3404)\tACC-->62.500 (85.380)\n",
      " * Accuracy 85.2444\n"
     ]
    },
    {
     "name": "stderr",
     "output_type": "stream",
     "text": [
      "\r",
      " 18%|█████████████████████████▍                                                                                                                   | 27/150 [1:03:16<4:48:16, 140.63s/it]"
     ]
    },
    {
     "name": "stdout",
     "output_type": "stream",
     "text": [
      "TRAIN: LOSS-->0.3786 (0.3786)\tACC-->87.500% (87.500%)\n",
      "TRAIN: 27 [0/19125 (0%)]\tLoss: 0.378616, Accuracy: 7/8 (87.500%)\n",
      "TRAIN: LOSS-->0.5563 (0.5147)\tACC-->50.000% (73.881%)\n",
      "TRAIN: 27 [1600/19125 (8%)]\tLoss: 0.556271, Accuracy: 4/8 (50.000%)\n",
      "TRAIN: LOSS-->0.4419 (0.5209)\tACC-->87.500% (73.192%)\n",
      "TRAIN: 27 [3200/19125 (17%)]\tLoss: 0.441908, Accuracy: 7/8 (87.500%)\n",
      "TRAIN: LOSS-->0.5737 (0.5135)\tACC-->75.000% (73.502%)\n",
      "TRAIN: 27 [4800/19125 (25%)]\tLoss: 0.573706, Accuracy: 6/8 (75.000%)\n",
      "TRAIN: LOSS-->0.6063 (0.5142)\tACC-->50.000% (73.424%)\n",
      "TRAIN: 27 [6400/19125 (33%)]\tLoss: 0.606271, Accuracy: 4/8 (50.000%)\n",
      "TRAIN: LOSS-->0.2753 (0.5138)\tACC-->100.000% (73.452%)\n",
      "TRAIN: 27 [8000/19125 (42%)]\tLoss: 0.275296, Accuracy: 8/8 (100.000%)\n",
      "TRAIN: LOSS-->0.6500 (0.5095)\tACC-->75.000% (73.741%)\n",
      "TRAIN: 27 [9600/19125 (50%)]\tLoss: 0.649958, Accuracy: 6/8 (75.000%)\n",
      "TRAIN: LOSS-->0.2350 (0.5097)\tACC-->87.500% (73.831%)\n",
      "TRAIN: 27 [11200/19125 (59%)]\tLoss: 0.235023, Accuracy: 7/8 (87.500%)\n",
      "TRAIN: LOSS-->0.2613 (0.5067)\tACC-->87.500% (74.001%)\n",
      "TRAIN: 27 [12800/19125 (67%)]\tLoss: 0.261295, Accuracy: 7/8 (87.500%)\n",
      "TRAIN: LOSS-->0.2698 (0.5078)\tACC-->87.500% (74.042%)\n",
      "TRAIN: 27 [14400/19125 (75%)]\tLoss: 0.269774, Accuracy: 7/8 (87.500%)\n",
      "TRAIN: LOSS-->0.5920 (0.5079)\tACC-->75.000% (73.957%)\n",
      "TRAIN: 27 [16000/19125 (84%)]\tLoss: 0.591999, Accuracy: 6/8 (75.000%)\n",
      "TRAIN: LOSS-->0.4789 (0.5073)\tACC-->75.000% (73.819%)\n",
      "TRAIN: 27 [17600/19125 (92%)]\tLoss: 0.478882, Accuracy: 6/8 (75.000%)\n",
      "VAL:   LOSS--> 0.3719 (0.3719)\tACC-->75.000 (75.000)\n",
      "VAL:   LOSS--> 0.5913 (0.3391)\tACC-->62.500 (84.950)\n",
      "VAL:   LOSS--> 0.3655 (0.3392)\tACC-->87.500 (84.819)\n",
      " * Accuracy 84.7407\n"
     ]
    },
    {
     "name": "stderr",
     "output_type": "stream",
     "text": [
      "\r",
      " 19%|██████████████████████████▎                                                                                                                  | 28/150 [1:05:34<4:45:42, 140.52s/it]"
     ]
    },
    {
     "name": "stdout",
     "output_type": "stream",
     "text": [
      "TRAIN: LOSS-->0.3407 (0.3407)\tACC-->87.500% (87.500%)\n",
      "TRAIN: 28 [0/19125 (0%)]\tLoss: 0.340689, Accuracy: 7/8 (87.500%)\n",
      "TRAIN: LOSS-->0.6917 (0.5086)\tACC-->62.500% (74.689%)\n",
      "TRAIN: 28 [1600/19125 (8%)]\tLoss: 0.691748, Accuracy: 5/8 (62.500%)\n",
      "TRAIN: LOSS-->0.5834 (0.5047)\tACC-->62.500% (73.784%)\n",
      "TRAIN: 28 [3200/19125 (17%)]\tLoss: 0.583362, Accuracy: 5/8 (62.500%)\n",
      "TRAIN: LOSS-->0.4345 (0.5086)\tACC-->87.500% (73.814%)\n",
      "TRAIN: 28 [4800/19125 (25%)]\tLoss: 0.434495, Accuracy: 7/8 (87.500%)\n",
      "TRAIN: LOSS-->0.4535 (0.5047)\tACC-->87.500% (74.095%)\n",
      "TRAIN: 28 [6400/19125 (33%)]\tLoss: 0.453478, Accuracy: 7/8 (87.500%)\n",
      "TRAIN: LOSS-->0.6737 (0.5028)\tACC-->50.000% (74.426%)\n",
      "TRAIN: 28 [8000/19125 (42%)]\tLoss: 0.673696, Accuracy: 4/8 (50.000%)\n",
      "TRAIN: LOSS-->0.6861 (0.5005)\tACC-->50.000% (74.823%)\n",
      "TRAIN: 28 [9600/19125 (50%)]\tLoss: 0.686109, Accuracy: 4/8 (50.000%)\n",
      "TRAIN: LOSS-->0.1056 (0.5032)\tACC-->100.000% (74.607%)\n",
      "TRAIN: 28 [11200/19125 (59%)]\tLoss: 0.105598, Accuracy: 8/8 (100.000%)\n",
      "TRAIN: LOSS-->0.4473 (0.5023)\tACC-->87.500% (74.680%)\n",
      "TRAIN: 28 [12800/19125 (67%)]\tLoss: 0.447341, Accuracy: 7/8 (87.500%)\n",
      "TRAIN: LOSS-->0.4078 (0.4980)\tACC-->75.000% (75.042%)\n",
      "TRAIN: 28 [14400/19125 (75%)]\tLoss: 0.407835, Accuracy: 6/8 (75.000%)\n",
      "TRAIN: LOSS-->0.4364 (0.4953)\tACC-->62.500% (75.225%)\n",
      "TRAIN: 28 [16000/19125 (84%)]\tLoss: 0.436372, Accuracy: 5/8 (62.500%)\n",
      "TRAIN: LOSS-->0.4996 (0.4958)\tACC-->62.500% (75.187%)\n",
      "TRAIN: 28 [17600/19125 (92%)]\tLoss: 0.499603, Accuracy: 5/8 (62.500%)\n",
      "VAL:   LOSS--> 0.7473 (0.7473)\tACC-->62.500 (62.500)\n",
      "VAL:   LOSS--> 0.2396 (0.4422)\tACC-->100.000 (79.726)\n",
      "VAL:   LOSS--> 0.7398 (0.4193)\tACC-->75.000 (80.860)\n",
      " * Accuracy 80.9778\n"
     ]
    },
    {
     "name": "stderr",
     "output_type": "stream",
     "text": [
      "\r",
      " 19%|███████████████████████████▎                                                                                                                 | 29/150 [1:07:51<4:43:09, 140.41s/it]"
     ]
    },
    {
     "name": "stdout",
     "output_type": "stream",
     "text": [
      "TRAIN: LOSS-->0.3371 (0.3371)\tACC-->87.500% (87.500%)\n",
      "TRAIN: 29 [0/19125 (0%)]\tLoss: 0.337137, Accuracy: 7/8 (87.500%)\n",
      "TRAIN: LOSS-->0.5081 (0.4993)\tACC-->87.500% (74.627%)\n",
      "TRAIN: 29 [1600/19125 (8%)]\tLoss: 0.508053, Accuracy: 7/8 (87.500%)\n",
      "TRAIN: LOSS-->0.3348 (0.4994)\tACC-->87.500% (74.283%)\n",
      "TRAIN: 29 [3200/19125 (17%)]\tLoss: 0.334788, Accuracy: 7/8 (87.500%)\n",
      "TRAIN: LOSS-->0.3974 (0.5011)\tACC-->75.000% (74.459%)\n",
      "TRAIN: 29 [4800/19125 (25%)]\tLoss: 0.397435, Accuracy: 6/8 (75.000%)\n",
      "TRAIN: LOSS-->0.9754 (0.4991)\tACC-->50.000% (74.625%)\n",
      "TRAIN: 29 [6400/19125 (33%)]\tLoss: 0.975410, Accuracy: 4/8 (50.000%)\n",
      "TRAIN: LOSS-->0.3706 (0.4997)\tACC-->75.000% (74.638%)\n",
      "TRAIN: 29 [8000/19125 (42%)]\tLoss: 0.370625, Accuracy: 6/8 (75.000%)\n",
      "TRAIN: LOSS-->0.3218 (0.4964)\tACC-->87.500% (74.875%)\n",
      "TRAIN: 29 [9600/19125 (50%)]\tLoss: 0.321761, Accuracy: 7/8 (87.500%)\n",
      "TRAIN: LOSS-->0.5541 (0.4959)\tACC-->62.500% (74.920%)\n",
      "TRAIN: 29 [11200/19125 (59%)]\tLoss: 0.554148, Accuracy: 5/8 (62.500%)\n",
      "TRAIN: LOSS-->0.5525 (0.4955)\tACC-->62.500% (74.992%)\n",
      "TRAIN: 29 [12800/19125 (67%)]\tLoss: 0.552540, Accuracy: 5/8 (62.500%)\n",
      "TRAIN: LOSS-->0.4910 (0.4942)\tACC-->75.000% (74.965%)\n",
      "TRAIN: 29 [14400/19125 (75%)]\tLoss: 0.491037, Accuracy: 6/8 (75.000%)\n",
      "TRAIN: LOSS-->0.2683 (0.4926)\tACC-->87.500% (75.031%)\n",
      "TRAIN: 29 [16000/19125 (84%)]\tLoss: 0.268350, Accuracy: 7/8 (87.500%)\n",
      "TRAIN: LOSS-->0.2978 (0.4935)\tACC-->75.000% (75.028%)\n",
      "TRAIN: 29 [17600/19125 (92%)]\tLoss: 0.297800, Accuracy: 6/8 (75.000%)\n",
      "VAL:   LOSS--> 0.1472 (0.1472)\tACC-->100.000 (100.000)\n",
      "VAL:   LOSS--> 0.3607 (0.3355)\tACC-->75.000 (85.634)\n",
      "VAL:   LOSS--> 0.2552 (0.3213)\tACC-->100.000 (86.409)\n",
      " * Accuracy 86.4889\n"
     ]
    },
    {
     "name": "stderr",
     "output_type": "stream",
     "text": [
      "\r",
      " 20%|████████████████████████████▏                                                                                                                | 30/150 [1:10:09<4:40:37, 140.31s/it]"
     ]
    },
    {
     "name": "stdout",
     "output_type": "stream",
     "text": [
      "TRAIN: LOSS-->0.4310 (0.4310)\tACC-->75.000% (75.000%)\n",
      "TRAIN: 30 [0/19125 (0%)]\tLoss: 0.430965, Accuracy: 6/8 (75.000%)\n",
      "TRAIN: LOSS-->0.3794 (0.4918)\tACC-->87.500% (74.813%)\n",
      "TRAIN: 30 [1600/19125 (8%)]\tLoss: 0.379357, Accuracy: 7/8 (87.500%)\n",
      "TRAIN: LOSS-->0.2925 (0.4921)\tACC-->87.500% (74.501%)\n",
      "TRAIN: 30 [3200/19125 (17%)]\tLoss: 0.292478, Accuracy: 7/8 (87.500%)\n",
      "TRAIN: LOSS-->0.4402 (0.4982)\tACC-->75.000% (74.418%)\n",
      "TRAIN: 30 [4800/19125 (25%)]\tLoss: 0.440201, Accuracy: 6/8 (75.000%)\n",
      "TRAIN: LOSS-->0.4979 (0.4915)\tACC-->87.500% (75.312%)\n",
      "TRAIN: 30 [6400/19125 (33%)]\tLoss: 0.497907, Accuracy: 7/8 (87.500%)\n",
      "TRAIN: LOSS-->0.7367 (0.4916)\tACC-->75.000% (75.287%)\n",
      "TRAIN: 30 [8000/19125 (42%)]\tLoss: 0.736707, Accuracy: 6/8 (75.000%)\n",
      "TRAIN: LOSS-->0.4869 (0.4903)\tACC-->75.000% (75.385%)\n",
      "TRAIN: 30 [9600/19125 (50%)]\tLoss: 0.486858, Accuracy: 6/8 (75.000%)\n",
      "TRAIN: LOSS-->0.4835 (0.4868)\tACC-->75.000% (75.437%)\n",
      "TRAIN: 30 [11200/19125 (59%)]\tLoss: 0.483460, Accuracy: 6/8 (75.000%)\n",
      "TRAIN: LOSS-->0.4999 (0.4864)\tACC-->62.500% (75.414%)\n",
      "TRAIN: 30 [12800/19125 (67%)]\tLoss: 0.499926, Accuracy: 5/8 (62.500%)\n",
      "TRAIN: LOSS-->0.3051 (0.4886)\tACC-->100.000% (75.326%)\n",
      "TRAIN: 30 [14400/19125 (75%)]\tLoss: 0.305081, Accuracy: 8/8 (100.000%)\n",
      "TRAIN: LOSS-->0.3593 (0.4873)\tACC-->87.500% (75.387%)\n",
      "TRAIN: 30 [16000/19125 (84%)]\tLoss: 0.359293, Accuracy: 7/8 (87.500%)\n",
      "TRAIN: LOSS-->0.2252 (0.4849)\tACC-->87.500% (75.636%)\n",
      "TRAIN: 30 [17600/19125 (92%)]\tLoss: 0.225210, Accuracy: 7/8 (87.500%)\n",
      "VAL:   LOSS--> 0.3133 (0.3133)\tACC-->87.500 (87.500)\n",
      "VAL:   LOSS--> 0.2820 (0.3068)\tACC-->87.500 (86.443)\n",
      "VAL:   LOSS--> 0.3705 (0.3082)\tACC-->75.000 (86.627)\n",
      " * Accuracy 86.6963\n"
     ]
    },
    {
     "name": "stderr",
     "output_type": "stream",
     "text": [
      "\r",
      " 21%|█████████████████████████████▏                                                                                                               | 31/150 [1:12:26<4:38:06, 140.22s/it]"
     ]
    },
    {
     "name": "stdout",
     "output_type": "stream",
     "text": [
      "TRAIN: LOSS-->0.4574 (0.4574)\tACC-->75.000% (75.000%)\n",
      "TRAIN: 31 [0/19125 (0%)]\tLoss: 0.457444, Accuracy: 6/8 (75.000%)\n",
      "TRAIN: LOSS-->0.5371 (0.5005)\tACC-->87.500% (75.808%)\n",
      "TRAIN: 31 [1600/19125 (8%)]\tLoss: 0.537139, Accuracy: 7/8 (87.500%)\n",
      "TRAIN: LOSS-->0.9446 (0.4844)\tACC-->37.500% (76.122%)\n",
      "TRAIN: 31 [3200/19125 (17%)]\tLoss: 0.944644, Accuracy: 3/8 (37.500%)\n",
      "TRAIN: LOSS-->0.5814 (0.4835)\tACC-->62.500% (75.770%)\n",
      "TRAIN: 31 [4800/19125 (25%)]\tLoss: 0.581447, Accuracy: 5/8 (62.500%)\n",
      "TRAIN: LOSS-->0.4774 (0.4833)\tACC-->75.000% (75.546%)\n",
      "TRAIN: 31 [6400/19125 (33%)]\tLoss: 0.477444, Accuracy: 6/8 (75.000%)\n",
      "TRAIN: LOSS-->0.5256 (0.4815)\tACC-->75.000% (75.674%)\n",
      "TRAIN: 31 [8000/19125 (42%)]\tLoss: 0.525565, Accuracy: 6/8 (75.000%)\n",
      "TRAIN: LOSS-->0.2368 (0.4858)\tACC-->87.500% (75.375%)\n",
      "TRAIN: 31 [9600/19125 (50%)]\tLoss: 0.236796, Accuracy: 7/8 (87.500%)\n",
      "TRAIN: LOSS-->0.3227 (0.4860)\tACC-->87.500% (75.321%)\n",
      "TRAIN: 31 [11200/19125 (59%)]\tLoss: 0.322659, Accuracy: 7/8 (87.500%)\n",
      "TRAIN: LOSS-->0.4320 (0.4879)\tACC-->62.500% (75.141%)\n",
      "TRAIN: 31 [12800/19125 (67%)]\tLoss: 0.432041, Accuracy: 5/8 (62.500%)\n",
      "TRAIN: LOSS-->0.5846 (0.4875)\tACC-->75.000% (75.215%)\n",
      "TRAIN: 31 [14400/19125 (75%)]\tLoss: 0.584621, Accuracy: 6/8 (75.000%)\n",
      "TRAIN: LOSS-->0.5530 (0.4866)\tACC-->87.500% (75.344%)\n",
      "TRAIN: 31 [16000/19125 (84%)]\tLoss: 0.553034, Accuracy: 7/8 (87.500%)\n",
      "TRAIN: LOSS-->0.4166 (0.4846)\tACC-->75.000% (75.454%)\n",
      "TRAIN: 31 [17600/19125 (92%)]\tLoss: 0.416624, Accuracy: 6/8 (75.000%)\n",
      "VAL:   LOSS--> 0.7544 (0.7544)\tACC-->75.000 (75.000)\n",
      "VAL:   LOSS--> 1.0071 (0.3568)\tACC-->62.500 (83.893)\n",
      "VAL:   LOSS--> 0.4807 (0.3465)\tACC-->62.500 (84.445)\n",
      " * Accuracy 84.3852\n"
     ]
    },
    {
     "name": "stderr",
     "output_type": "stream",
     "text": [
      "\r",
      " 21%|██████████████████████████████                                                                                                               | 32/150 [1:14:44<4:35:36, 140.14s/it]"
     ]
    },
    {
     "name": "stdout",
     "output_type": "stream",
     "text": [
      "TRAIN: LOSS-->0.5695 (0.5695)\tACC-->62.500% (62.500%)\n",
      "TRAIN: 32 [0/19125 (0%)]\tLoss: 0.569457, Accuracy: 5/8 (62.500%)\n",
      "TRAIN: LOSS-->0.5653 (0.4912)\tACC-->75.000% (75.249%)\n",
      "TRAIN: 32 [1600/19125 (8%)]\tLoss: 0.565259, Accuracy: 6/8 (75.000%)\n",
      "TRAIN: LOSS-->0.4294 (0.4936)\tACC-->75.000% (75.436%)\n",
      "TRAIN: 32 [3200/19125 (17%)]\tLoss: 0.429427, Accuracy: 6/8 (75.000%)\n",
      "TRAIN: LOSS-->1.0901 (0.4946)\tACC-->37.500% (75.437%)\n",
      "TRAIN: 32 [4800/19125 (25%)]\tLoss: 1.090057, Accuracy: 3/8 (37.500%)\n",
      "TRAIN: LOSS-->0.3920 (0.4930)\tACC-->75.000% (75.577%)\n",
      "TRAIN: 32 [6400/19125 (33%)]\tLoss: 0.392036, Accuracy: 6/8 (75.000%)\n",
      "TRAIN: LOSS-->0.6117 (0.4918)\tACC-->75.000% (75.412%)\n",
      "TRAIN: 32 [8000/19125 (42%)]\tLoss: 0.611670, Accuracy: 6/8 (75.000%)\n",
      "TRAIN: LOSS-->0.5622 (0.4864)\tACC-->62.500% (75.791%)\n",
      "TRAIN: 32 [9600/19125 (50%)]\tLoss: 0.562155, Accuracy: 5/8 (62.500%)\n",
      "TRAIN: LOSS-->0.7494 (0.4868)\tACC-->50.000% (75.803%)\n",
      "TRAIN: 32 [11200/19125 (59%)]\tLoss: 0.749358, Accuracy: 4/8 (50.000%)\n",
      "TRAIN: LOSS-->0.5542 (0.4875)\tACC-->62.500% (75.695%)\n",
      "TRAIN: 32 [12800/19125 (67%)]\tLoss: 0.554192, Accuracy: 5/8 (62.500%)\n",
      "TRAIN: LOSS-->0.3872 (0.4849)\tACC-->87.500% (75.909%)\n",
      "TRAIN: 32 [14400/19125 (75%)]\tLoss: 0.387165, Accuracy: 7/8 (87.500%)\n",
      "TRAIN: LOSS-->0.3537 (0.4856)\tACC-->87.500% (75.687%)\n",
      "TRAIN: 32 [16000/19125 (84%)]\tLoss: 0.353659, Accuracy: 7/8 (87.500%)\n",
      "TRAIN: LOSS-->0.4294 (0.4842)\tACC-->87.500% (75.795%)\n",
      "TRAIN: 32 [17600/19125 (92%)]\tLoss: 0.429390, Accuracy: 7/8 (87.500%)\n",
      "VAL:   LOSS--> 0.2368 (0.2368)\tACC-->100.000 (100.000)\n",
      "VAL:   LOSS--> 0.0870 (0.2838)\tACC-->100.000 (87.811)\n",
      "VAL:   LOSS--> 0.1583 (0.2852)\tACC-->87.500 (87.749)\n",
      " * Accuracy 87.7630\n"
     ]
    },
    {
     "name": "stderr",
     "output_type": "stream",
     "text": [
      "\r",
      " 22%|███████████████████████████████                                                                                                              | 33/150 [1:17:02<4:33:08, 140.07s/it]"
     ]
    },
    {
     "name": "stdout",
     "output_type": "stream",
     "text": [
      "TRAIN: LOSS-->0.1922 (0.1922)\tACC-->87.500% (87.500%)\n",
      "TRAIN: 33 [0/19125 (0%)]\tLoss: 0.192162, Accuracy: 7/8 (87.500%)\n",
      "TRAIN: LOSS-->0.6835 (0.4833)\tACC-->62.500% (76.617%)\n",
      "TRAIN: 33 [1600/19125 (8%)]\tLoss: 0.683451, Accuracy: 5/8 (62.500%)\n",
      "TRAIN: LOSS-->0.7697 (0.4761)\tACC-->75.000% (76.808%)\n",
      "TRAIN: 33 [3200/19125 (17%)]\tLoss: 0.769748, Accuracy: 6/8 (75.000%)\n",
      "TRAIN: LOSS-->0.2863 (0.4787)\tACC-->87.500% (76.477%)\n",
      "TRAIN: 33 [4800/19125 (25%)]\tLoss: 0.286311, Accuracy: 7/8 (87.500%)\n",
      "TRAIN: LOSS-->0.5236 (0.4708)\tACC-->75.000% (76.841%)\n",
      "TRAIN: 33 [6400/19125 (33%)]\tLoss: 0.523579, Accuracy: 6/8 (75.000%)\n",
      "TRAIN: LOSS-->0.5317 (0.4728)\tACC-->75.000% (76.736%)\n",
      "TRAIN: 33 [8000/19125 (42%)]\tLoss: 0.531732, Accuracy: 6/8 (75.000%)\n",
      "TRAIN: LOSS-->0.4731 (0.4756)\tACC-->75.000% (76.665%)\n",
      "TRAIN: 33 [9600/19125 (50%)]\tLoss: 0.473064, Accuracy: 6/8 (75.000%)\n",
      "TRAIN: LOSS-->0.5794 (0.4740)\tACC-->62.500% (76.749%)\n",
      "TRAIN: 33 [11200/19125 (59%)]\tLoss: 0.579424, Accuracy: 5/8 (62.500%)\n",
      "TRAIN: LOSS-->0.4899 (0.4732)\tACC-->50.000% (76.655%)\n",
      "TRAIN: 33 [12800/19125 (67%)]\tLoss: 0.489897, Accuracy: 4/8 (50.000%)\n",
      "TRAIN: LOSS-->0.3977 (0.4724)\tACC-->75.000% (76.638%)\n",
      "TRAIN: 33 [14400/19125 (75%)]\tLoss: 0.397745, Accuracy: 6/8 (75.000%)\n",
      "TRAIN: LOSS-->0.4346 (0.4730)\tACC-->75.000% (76.593%)\n",
      "TRAIN: 33 [16000/19125 (84%)]\tLoss: 0.434597, Accuracy: 6/8 (75.000%)\n",
      "TRAIN: LOSS-->0.3228 (0.4729)\tACC-->87.500% (76.579%)\n",
      "TRAIN: 33 [17600/19125 (92%)]\tLoss: 0.322804, Accuracy: 7/8 (87.500%)\n",
      "VAL:   LOSS--> 0.3347 (0.3347)\tACC-->87.500 (87.500)\n",
      "VAL:   LOSS--> 0.4195 (0.2922)\tACC-->75.000 (88.122)\n",
      "VAL:   LOSS--> 0.3532 (0.3008)\tACC-->75.000 (87.157)\n",
      " * Accuracy 87.1704\n"
     ]
    },
    {
     "name": "stderr",
     "output_type": "stream",
     "text": [
      "\r",
      " 23%|███████████████████████████████▉                                                                                                             | 34/150 [1:19:19<4:30:39, 140.00s/it]"
     ]
    },
    {
     "name": "stdout",
     "output_type": "stream",
     "text": [
      "TRAIN: LOSS-->0.3382 (0.3382)\tACC-->87.500% (87.500%)\n",
      "TRAIN: 34 [0/19125 (0%)]\tLoss: 0.338248, Accuracy: 7/8 (87.500%)\n",
      "TRAIN: LOSS-->0.3842 (0.4739)\tACC-->75.000% (76.866%)\n",
      "TRAIN: 34 [1600/19125 (8%)]\tLoss: 0.384187, Accuracy: 6/8 (75.000%)\n",
      "TRAIN: LOSS-->0.7918 (0.4621)\tACC-->62.500% (76.746%)\n",
      "TRAIN: 34 [3200/19125 (17%)]\tLoss: 0.791834, Accuracy: 5/8 (62.500%)\n",
      "TRAIN: LOSS-->0.4380 (0.4647)\tACC-->75.000% (76.789%)\n",
      "TRAIN: 34 [4800/19125 (25%)]\tLoss: 0.437988, Accuracy: 6/8 (75.000%)\n",
      "TRAIN: LOSS-->0.6893 (0.4617)\tACC-->75.000% (77.044%)\n",
      "TRAIN: 34 [6400/19125 (33%)]\tLoss: 0.689306, Accuracy: 6/8 (75.000%)\n",
      "TRAIN: LOSS-->0.5167 (0.4649)\tACC-->75.000% (76.873%)\n",
      "TRAIN: 34 [8000/19125 (42%)]\tLoss: 0.516681, Accuracy: 6/8 (75.000%)\n",
      "TRAIN: LOSS-->0.2430 (0.4652)\tACC-->87.500% (76.894%)\n",
      "TRAIN: 34 [9600/19125 (50%)]\tLoss: 0.243034, Accuracy: 7/8 (87.500%)\n",
      "TRAIN: LOSS-->0.4124 (0.4689)\tACC-->62.500% (76.570%)\n",
      "TRAIN: 34 [11200/19125 (59%)]\tLoss: 0.412371, Accuracy: 5/8 (62.500%)\n",
      "TRAIN: LOSS-->0.4930 (0.4699)\tACC-->87.500% (76.593%)\n",
      "TRAIN: 34 [12800/19125 (67%)]\tLoss: 0.493047, Accuracy: 7/8 (87.500%)\n",
      "TRAIN: LOSS-->0.7249 (0.4691)\tACC-->75.000% (76.603%)\n",
      "TRAIN: 34 [14400/19125 (75%)]\tLoss: 0.724851, Accuracy: 6/8 (75.000%)\n",
      "TRAIN: LOSS-->0.6474 (0.4674)\tACC-->62.500% (76.824%)\n",
      "TRAIN: 34 [16000/19125 (84%)]\tLoss: 0.647355, Accuracy: 5/8 (62.500%)\n",
      "TRAIN: LOSS-->0.3851 (0.4667)\tACC-->75.000% (76.880%)\n",
      "TRAIN: 34 [17600/19125 (92%)]\tLoss: 0.385082, Accuracy: 6/8 (75.000%)\n",
      "VAL:   LOSS--> 0.3774 (0.3774)\tACC-->87.500 (87.500)\n",
      "VAL:   LOSS--> 0.6016 (0.3149)\tACC-->75.000 (87.127)\n",
      "VAL:   LOSS--> 0.1794 (0.3171)\tACC-->100.000 (86.565)\n",
      " * Accuracy 86.4889\n"
     ]
    },
    {
     "name": "stderr",
     "output_type": "stream",
     "text": [
      "\r",
      " 23%|████████████████████████████████▉                                                                                                            | 35/150 [1:21:37<4:28:12, 139.94s/it]"
     ]
    },
    {
     "name": "stdout",
     "output_type": "stream",
     "text": [
      "TRAIN: LOSS-->0.3519 (0.3519)\tACC-->100.000% (100.000%)\n",
      "TRAIN: 35 [0/19125 (0%)]\tLoss: 0.351875, Accuracy: 8/8 (100.000%)\n",
      "TRAIN: LOSS-->0.4061 (0.4615)\tACC-->75.000% (76.244%)\n",
      "TRAIN: 35 [1600/19125 (8%)]\tLoss: 0.406100, Accuracy: 6/8 (75.000%)\n",
      "TRAIN: LOSS-->0.4143 (0.4727)\tACC-->87.500% (75.998%)\n",
      "TRAIN: 35 [3200/19125 (17%)]\tLoss: 0.414298, Accuracy: 7/8 (87.500%)\n",
      "TRAIN: LOSS-->0.3859 (0.4794)\tACC-->87.500% (75.666%)\n",
      "TRAIN: 35 [4800/19125 (25%)]\tLoss: 0.385855, Accuracy: 7/8 (87.500%)\n",
      "TRAIN: LOSS-->0.4303 (0.4760)\tACC-->75.000% (75.780%)\n",
      "TRAIN: 35 [6400/19125 (33%)]\tLoss: 0.430330, Accuracy: 6/8 (75.000%)\n",
      "TRAIN: LOSS-->0.4619 (0.4765)\tACC-->75.000% (75.887%)\n",
      "TRAIN: 35 [8000/19125 (42%)]\tLoss: 0.461924, Accuracy: 6/8 (75.000%)\n",
      "TRAIN: LOSS-->0.1943 (0.4754)\tACC-->100.000% (75.926%)\n",
      "TRAIN: 35 [9600/19125 (50%)]\tLoss: 0.194258, Accuracy: 8/8 (100.000%)\n",
      "TRAIN: LOSS-->0.3963 (0.4745)\tACC-->75.000% (75.981%)\n",
      "TRAIN: 35 [11200/19125 (59%)]\tLoss: 0.396305, Accuracy: 6/8 (75.000%)\n",
      "TRAIN: LOSS-->0.4773 (0.4738)\tACC-->62.500% (76.007%)\n",
      "TRAIN: 35 [12800/19125 (67%)]\tLoss: 0.477298, Accuracy: 5/8 (62.500%)\n",
      "TRAIN: LOSS-->0.4155 (0.4723)\tACC-->75.000% (76.159%)\n",
      "TRAIN: 35 [14400/19125 (75%)]\tLoss: 0.415476, Accuracy: 6/8 (75.000%)\n",
      "TRAIN: LOSS-->0.2497 (0.4707)\tACC-->87.500% (76.256%)\n",
      "TRAIN: 35 [16000/19125 (84%)]\tLoss: 0.249701, Accuracy: 7/8 (87.500%)\n",
      "TRAIN: LOSS-->0.5493 (0.4692)\tACC-->75.000% (76.386%)\n",
      "TRAIN: 35 [17600/19125 (92%)]\tLoss: 0.549281, Accuracy: 6/8 (75.000%)\n",
      "VAL:   LOSS--> 0.1894 (0.1894)\tACC-->100.000 (100.000)\n",
      "VAL:   LOSS--> 0.0506 (0.3433)\tACC-->100.000 (84.950)\n",
      "VAL:   LOSS--> 0.4337 (0.3369)\tACC-->62.500 (85.567)\n",
      " * Accuracy 85.6296\n"
     ]
    },
    {
     "name": "stderr",
     "output_type": "stream",
     "text": [
      "\r",
      " 24%|█████████████████████████████████▊                                                                                                           | 36/150 [1:23:55<4:25:44, 139.87s/it]"
     ]
    },
    {
     "name": "stdout",
     "output_type": "stream",
     "text": [
      "TRAIN: LOSS-->0.7900 (0.7900)\tACC-->62.500% (62.500%)\n",
      "TRAIN: 36 [0/19125 (0%)]\tLoss: 0.789985, Accuracy: 5/8 (62.500%)\n",
      "TRAIN: LOSS-->0.3824 (0.4526)\tACC-->87.500% (77.301%)\n",
      "TRAIN: 36 [1600/19125 (8%)]\tLoss: 0.382387, Accuracy: 7/8 (87.500%)\n",
      "TRAIN: LOSS-->0.4026 (0.4646)\tACC-->87.500% (76.621%)\n",
      "TRAIN: 36 [3200/19125 (17%)]\tLoss: 0.402575, Accuracy: 7/8 (87.500%)\n",
      "TRAIN: LOSS-->0.5870 (0.4618)\tACC-->62.500% (76.830%)\n",
      "TRAIN: 36 [4800/19125 (25%)]\tLoss: 0.586960, Accuracy: 5/8 (62.500%)\n",
      "TRAIN: LOSS-->0.2813 (0.4635)\tACC-->87.500% (76.810%)\n",
      "TRAIN: 36 [6400/19125 (33%)]\tLoss: 0.281278, Accuracy: 7/8 (87.500%)\n",
      "TRAIN: LOSS-->0.6307 (0.4665)\tACC-->62.500% (76.598%)\n",
      "TRAIN: 36 [8000/19125 (42%)]\tLoss: 0.630746, Accuracy: 5/8 (62.500%)\n",
      "TRAIN: LOSS-->0.2867 (0.4656)\tACC-->87.500% (76.520%)\n",
      "TRAIN: 36 [9600/19125 (50%)]\tLoss: 0.286714, Accuracy: 7/8 (87.500%)\n",
      "TRAIN: LOSS-->0.4107 (0.4665)\tACC-->87.500% (76.579%)\n",
      "TRAIN: 36 [11200/19125 (59%)]\tLoss: 0.410657, Accuracy: 7/8 (87.500%)\n",
      "TRAIN: LOSS-->0.3518 (0.4640)\tACC-->87.500% (76.686%)\n",
      "TRAIN: 36 [12800/19125 (67%)]\tLoss: 0.351812, Accuracy: 7/8 (87.500%)\n",
      "TRAIN: LOSS-->0.4637 (0.4626)\tACC-->62.500% (76.687%)\n",
      "TRAIN: 36 [14400/19125 (75%)]\tLoss: 0.463718, Accuracy: 5/8 (62.500%)\n",
      "TRAIN: LOSS-->0.3585 (0.4647)\tACC-->75.000% (76.743%)\n",
      "TRAIN: 36 [16000/19125 (84%)]\tLoss: 0.358539, Accuracy: 6/8 (75.000%)\n",
      "TRAIN: LOSS-->0.7656 (0.4664)\tACC-->62.500% (76.726%)\n",
      "TRAIN: 36 [17600/19125 (92%)]\tLoss: 0.765551, Accuracy: 5/8 (62.500%)\n",
      "VAL:   LOSS--> 0.2187 (0.2187)\tACC-->87.500 (87.500)\n",
      "VAL:   LOSS--> 0.7768 (0.3236)\tACC-->62.500 (85.386)\n",
      "VAL:   LOSS--> 0.1298 (0.3289)\tACC-->100.000 (86.097)\n",
      " * Accuracy 86.2519\n"
     ]
    },
    {
     "name": "stderr",
     "output_type": "stream",
     "text": [
      "\r",
      " 25%|██████████████████████████████████▊                                                                                                          | 37/150 [1:26:12<4:23:18, 139.81s/it]"
     ]
    },
    {
     "name": "stdout",
     "output_type": "stream",
     "text": [
      "TRAIN: LOSS-->0.3217 (0.3217)\tACC-->87.500% (87.500%)\n",
      "TRAIN: 37 [0/19125 (0%)]\tLoss: 0.321661, Accuracy: 7/8 (87.500%)\n",
      "TRAIN: LOSS-->0.4693 (0.4595)\tACC-->87.500% (76.306%)\n",
      "TRAIN: 37 [1600/19125 (8%)]\tLoss: 0.469267, Accuracy: 7/8 (87.500%)\n",
      "TRAIN: LOSS-->0.4898 (0.4665)\tACC-->87.500% (76.808%)\n",
      "TRAIN: 37 [3200/19125 (17%)]\tLoss: 0.489846, Accuracy: 7/8 (87.500%)\n",
      "TRAIN: LOSS-->0.3597 (0.4694)\tACC-->75.000% (76.851%)\n",
      "TRAIN: 37 [4800/19125 (25%)]\tLoss: 0.359745, Accuracy: 6/8 (75.000%)\n",
      "TRAIN: LOSS-->0.4847 (0.4691)\tACC-->75.000% (76.935%)\n",
      "TRAIN: 37 [6400/19125 (33%)]\tLoss: 0.484669, Accuracy: 6/8 (75.000%)\n",
      "TRAIN: LOSS-->0.5469 (0.4684)\tACC-->75.000% (76.961%)\n",
      "TRAIN: 37 [8000/19125 (42%)]\tLoss: 0.546862, Accuracy: 6/8 (75.000%)\n",
      "TRAIN: LOSS-->0.6401 (0.4676)\tACC-->62.500% (76.957%)\n",
      "TRAIN: 37 [9600/19125 (50%)]\tLoss: 0.640059, Accuracy: 5/8 (62.500%)\n",
      "TRAIN: LOSS-->1.1977 (0.4662)\tACC-->62.500% (77.079%)\n",
      "TRAIN: 37 [11200/19125 (59%)]\tLoss: 1.197693, Accuracy: 5/8 (62.500%)\n",
      "TRAIN: LOSS-->0.4419 (0.4652)\tACC-->75.000% (77.202%)\n",
      "TRAIN: 37 [12800/19125 (67%)]\tLoss: 0.441894, Accuracy: 6/8 (75.000%)\n",
      "TRAIN: LOSS-->0.3277 (0.4639)\tACC-->87.500% (77.214%)\n",
      "TRAIN: 37 [14400/19125 (75%)]\tLoss: 0.327704, Accuracy: 7/8 (87.500%)\n",
      "TRAIN: LOSS-->0.4424 (0.4677)\tACC-->62.500% (77.043%)\n",
      "TRAIN: 37 [16000/19125 (84%)]\tLoss: 0.442443, Accuracy: 5/8 (62.500%)\n",
      "TRAIN: LOSS-->0.2972 (0.4669)\tACC-->87.500% (77.067%)\n",
      "TRAIN: 37 [17600/19125 (92%)]\tLoss: 0.297188, Accuracy: 7/8 (87.500%)\n",
      "VAL:   LOSS--> 0.0574 (0.0574)\tACC-->100.000 (100.000)\n",
      "VAL:   LOSS--> 0.1455 (0.2768)\tACC-->100.000 (88.557)\n",
      "VAL:   LOSS--> 0.4347 (0.2712)\tACC-->75.000 (88.685)\n",
      " * Accuracy 88.5333\n"
     ]
    },
    {
     "name": "stderr",
     "output_type": "stream",
     "text": [
      "\r",
      " 25%|███████████████████████████████████▋                                                                                                         | 38/150 [1:28:30<4:20:51, 139.75s/it]"
     ]
    },
    {
     "name": "stdout",
     "output_type": "stream",
     "text": [
      "TRAIN: LOSS-->0.7310 (0.7310)\tACC-->75.000% (75.000%)\n",
      "TRAIN: 38 [0/19125 (0%)]\tLoss: 0.731034, Accuracy: 6/8 (75.000%)\n",
      "TRAIN: LOSS-->0.1691 (0.4528)\tACC-->87.500% (77.799%)\n",
      "TRAIN: 38 [1600/19125 (8%)]\tLoss: 0.169074, Accuracy: 7/8 (87.500%)\n",
      "TRAIN: LOSS-->0.5954 (0.4529)\tACC-->62.500% (78.367%)\n",
      "TRAIN: 38 [3200/19125 (17%)]\tLoss: 0.595373, Accuracy: 5/8 (62.500%)\n",
      "TRAIN: LOSS-->0.3705 (0.4567)\tACC-->87.500% (77.725%)\n",
      "TRAIN: 38 [4800/19125 (25%)]\tLoss: 0.370505, Accuracy: 7/8 (87.500%)\n",
      "TRAIN: LOSS-->0.5295 (0.4561)\tACC-->75.000% (77.684%)\n",
      "TRAIN: 38 [6400/19125 (33%)]\tLoss: 0.529542, Accuracy: 6/8 (75.000%)\n",
      "TRAIN: LOSS-->0.4972 (0.4571)\tACC-->75.000% (77.560%)\n",
      "TRAIN: 38 [8000/19125 (42%)]\tLoss: 0.497201, Accuracy: 6/8 (75.000%)\n",
      "TRAIN: LOSS-->0.5427 (0.4577)\tACC-->75.000% (77.571%)\n",
      "TRAIN: 38 [9600/19125 (50%)]\tLoss: 0.542704, Accuracy: 6/8 (75.000%)\n",
      "TRAIN: LOSS-->0.8116 (0.4580)\tACC-->37.500% (77.659%)\n",
      "TRAIN: 38 [11200/19125 (59%)]\tLoss: 0.811593, Accuracy: 3/8 (37.500%)\n",
      "TRAIN: LOSS-->0.4414 (0.4607)\tACC-->75.000% (77.280%)\n",
      "TRAIN: 38 [12800/19125 (67%)]\tLoss: 0.441383, Accuracy: 6/8 (75.000%)\n",
      "TRAIN: LOSS-->0.5063 (0.4593)\tACC-->75.000% (77.332%)\n",
      "TRAIN: 38 [14400/19125 (75%)]\tLoss: 0.506340, Accuracy: 6/8 (75.000%)\n",
      "TRAIN: LOSS-->0.4474 (0.4600)\tACC-->62.500% (77.361%)\n",
      "TRAIN: 38 [16000/19125 (84%)]\tLoss: 0.447386, Accuracy: 5/8 (62.500%)\n",
      "TRAIN: LOSS-->0.2060 (0.4618)\tACC-->87.500% (77.209%)\n",
      "TRAIN: 38 [17600/19125 (92%)]\tLoss: 0.206033, Accuracy: 7/8 (87.500%)\n",
      "VAL:   LOSS--> 0.4619 (0.4619)\tACC-->75.000 (75.000)\n",
      "VAL:   LOSS--> 0.1391 (0.2860)\tACC-->100.000 (88.495)\n",
      "VAL:   LOSS--> 0.3136 (0.2778)\tACC-->87.500 (88.685)\n",
      " * Accuracy 88.6815\n"
     ]
    },
    {
     "name": "stderr",
     "output_type": "stream",
     "text": [
      "\r",
      " 26%|████████████████████████████████████▋                                                                                                        | 39/150 [1:30:47<4:18:25, 139.69s/it]"
     ]
    },
    {
     "name": "stdout",
     "output_type": "stream",
     "text": [
      "TRAIN: LOSS-->0.5135 (0.5135)\tACC-->75.000% (75.000%)\n",
      "TRAIN: 39 [0/19125 (0%)]\tLoss: 0.513546, Accuracy: 6/8 (75.000%)\n",
      "TRAIN: LOSS-->0.7213 (0.4661)\tACC-->75.000% (77.488%)\n",
      "TRAIN: 39 [1600/19125 (8%)]\tLoss: 0.721255, Accuracy: 6/8 (75.000%)\n",
      "TRAIN: LOSS-->0.9358 (0.4645)\tACC-->37.500% (77.400%)\n",
      "TRAIN: 39 [3200/19125 (17%)]\tLoss: 0.935829, Accuracy: 3/8 (37.500%)\n",
      "TRAIN: LOSS-->0.1364 (0.4600)\tACC-->100.000% (77.579%)\n",
      "TRAIN: 39 [4800/19125 (25%)]\tLoss: 0.136443, Accuracy: 8/8 (100.000%)\n",
      "TRAIN: LOSS-->0.3538 (0.4580)\tACC-->87.500% (77.637%)\n",
      "TRAIN: 39 [6400/19125 (33%)]\tLoss: 0.353792, Accuracy: 7/8 (87.500%)\n",
      "TRAIN: LOSS-->0.6605 (0.4583)\tACC-->75.000% (77.510%)\n",
      "TRAIN: 39 [8000/19125 (42%)]\tLoss: 0.660475, Accuracy: 6/8 (75.000%)\n",
      "TRAIN: LOSS-->0.4358 (0.4586)\tACC-->75.000% (77.529%)\n",
      "TRAIN: 39 [9600/19125 (50%)]\tLoss: 0.435819, Accuracy: 6/8 (75.000%)\n",
      "TRAIN: LOSS-->0.6357 (0.4590)\tACC-->50.000% (77.347%)\n",
      "TRAIN: 39 [11200/19125 (59%)]\tLoss: 0.635692, Accuracy: 4/8 (50.000%)\n",
      "TRAIN: LOSS-->0.5271 (0.4600)\tACC-->62.500% (77.319%)\n",
      "TRAIN: 39 [12800/19125 (67%)]\tLoss: 0.527147, Accuracy: 5/8 (62.500%)\n",
      "TRAIN: LOSS-->0.4374 (0.4595)\tACC-->75.000% (77.200%)\n",
      "TRAIN: 39 [14400/19125 (75%)]\tLoss: 0.437380, Accuracy: 6/8 (75.000%)\n",
      "TRAIN: LOSS-->0.4209 (0.4568)\tACC-->75.000% (77.361%)\n",
      "TRAIN: 39 [16000/19125 (84%)]\tLoss: 0.420950, Accuracy: 6/8 (75.000%)\n",
      "TRAIN: LOSS-->0.2909 (0.4578)\tACC-->75.000% (77.260%)\n",
      "TRAIN: 39 [17600/19125 (92%)]\tLoss: 0.290866, Accuracy: 6/8 (75.000%)\n",
      "VAL:   LOSS--> 0.1549 (0.1549)\tACC-->87.500 (87.500)\n",
      "VAL:   LOSS--> 0.2586 (0.2790)\tACC-->87.500 (88.744)\n",
      "VAL:   LOSS--> 0.2179 (0.2870)\tACC-->87.500 (88.248)\n",
      " * Accuracy 88.5333\n"
     ]
    },
    {
     "name": "stderr",
     "output_type": "stream",
     "text": [
      "\r",
      " 27%|█████████████████████████████████████▌                                                                                                       | 40/150 [1:33:05<4:15:59, 139.64s/it]"
     ]
    },
    {
     "name": "stdout",
     "output_type": "stream",
     "text": [
      "TRAIN: LOSS-->0.3955 (0.3955)\tACC-->75.000% (75.000%)\n",
      "TRAIN: 40 [0/19125 (0%)]\tLoss: 0.395549, Accuracy: 6/8 (75.000%)\n",
      "TRAIN: LOSS-->0.8741 (0.4522)\tACC-->50.000% (78.234%)\n",
      "TRAIN: 40 [1600/19125 (8%)]\tLoss: 0.874053, Accuracy: 4/8 (50.000%)\n",
      "TRAIN: LOSS-->0.2201 (0.4550)\tACC-->100.000% (78.086%)\n",
      "TRAIN: 40 [3200/19125 (17%)]\tLoss: 0.220142, Accuracy: 8/8 (100.000%)\n",
      "TRAIN: LOSS-->0.2917 (0.4459)\tACC-->87.500% (78.494%)\n",
      "TRAIN: 40 [4800/19125 (25%)]\tLoss: 0.291674, Accuracy: 7/8 (87.500%)\n",
      "TRAIN: LOSS-->0.3416 (0.4553)\tACC-->75.000% (77.715%)\n",
      "TRAIN: 40 [6400/19125 (33%)]\tLoss: 0.341600, Accuracy: 6/8 (75.000%)\n",
      "TRAIN: LOSS-->0.6945 (0.4551)\tACC-->50.000% (77.710%)\n",
      "TRAIN: 40 [8000/19125 (42%)]\tLoss: 0.694518, Accuracy: 4/8 (50.000%)\n",
      "TRAIN: LOSS-->0.3902 (0.4562)\tACC-->87.500% (77.727%)\n",
      "TRAIN: 40 [9600/19125 (50%)]\tLoss: 0.390209, Accuracy: 7/8 (87.500%)\n",
      "TRAIN: LOSS-->0.3225 (0.4536)\tACC-->87.500% (77.837%)\n",
      "TRAIN: 40 [11200/19125 (59%)]\tLoss: 0.322536, Accuracy: 7/8 (87.500%)\n",
      "TRAIN: LOSS-->0.6006 (0.4558)\tACC-->50.000% (77.740%)\n",
      "TRAIN: 40 [12800/19125 (67%)]\tLoss: 0.600568, Accuracy: 4/8 (50.000%)\n",
      "TRAIN: LOSS-->0.3336 (0.4579)\tACC-->87.500% (77.492%)\n",
      "TRAIN: 40 [14400/19125 (75%)]\tLoss: 0.333576, Accuracy: 7/8 (87.500%)\n",
      "TRAIN: LOSS-->0.5952 (0.4569)\tACC-->87.500% (77.586%)\n",
      "TRAIN: 40 [16000/19125 (84%)]\tLoss: 0.595154, Accuracy: 7/8 (87.500%)\n",
      "TRAIN: LOSS-->0.3047 (0.4561)\tACC-->87.500% (77.641%)\n",
      "TRAIN: 40 [17600/19125 (92%)]\tLoss: 0.304709, Accuracy: 7/8 (87.500%)\n",
      "VAL:   LOSS--> 0.2427 (0.2427)\tACC-->87.500 (87.500)\n",
      "VAL:   LOSS--> 0.1469 (0.2579)\tACC-->100.000 (89.552)\n",
      "VAL:   LOSS--> 0.1102 (0.2645)\tACC-->100.000 (89.401)\n",
      " * Accuracy 89.5704\n"
     ]
    },
    {
     "name": "stderr",
     "output_type": "stream",
     "text": [
      "\r",
      " 27%|██████████████████████████████████████▌                                                                                                      | 41/150 [1:35:22<4:13:34, 139.58s/it]"
     ]
    },
    {
     "name": "stdout",
     "output_type": "stream",
     "text": [
      "TRAIN: LOSS-->0.6811 (0.6811)\tACC-->50.000% (50.000%)\n",
      "TRAIN: 41 [0/19125 (0%)]\tLoss: 0.681095, Accuracy: 4/8 (50.000%)\n",
      "TRAIN: LOSS-->0.3732 (0.4463)\tACC-->75.000% (78.856%)\n",
      "TRAIN: 41 [1600/19125 (8%)]\tLoss: 0.373205, Accuracy: 6/8 (75.000%)\n",
      "TRAIN: LOSS-->0.2394 (0.4514)\tACC-->100.000% (77.930%)\n",
      "TRAIN: 41 [3200/19125 (17%)]\tLoss: 0.239432, Accuracy: 8/8 (100.000%)\n",
      "TRAIN: LOSS-->0.4194 (0.4539)\tACC-->87.500% (77.891%)\n",
      "TRAIN: 41 [4800/19125 (25%)]\tLoss: 0.419420, Accuracy: 7/8 (87.500%)\n",
      "TRAIN: LOSS-->0.4893 (0.4573)\tACC-->62.500% (77.747%)\n",
      "TRAIN: 41 [6400/19125 (33%)]\tLoss: 0.489314, Accuracy: 5/8 (62.500%)\n",
      "TRAIN: LOSS-->0.5347 (0.4561)\tACC-->62.500% (77.460%)\n",
      "TRAIN: 41 [8000/19125 (42%)]\tLoss: 0.534671, Accuracy: 5/8 (62.500%)\n",
      "TRAIN: LOSS-->0.2264 (0.4556)\tACC-->100.000% (77.425%)\n",
      "TRAIN: 41 [9600/19125 (50%)]\tLoss: 0.226365, Accuracy: 8/8 (100.000%)\n",
      "TRAIN: LOSS-->0.3055 (0.4566)\tACC-->87.500% (77.213%)\n",
      "TRAIN: 41 [11200/19125 (59%)]\tLoss: 0.305547, Accuracy: 7/8 (87.500%)\n",
      "TRAIN: LOSS-->0.6066 (0.4575)\tACC-->62.500% (77.272%)\n",
      "TRAIN: 41 [12800/19125 (67%)]\tLoss: 0.606631, Accuracy: 5/8 (62.500%)\n",
      "TRAIN: LOSS-->0.2987 (0.4550)\tACC-->100.000% (77.610%)\n",
      "TRAIN: 41 [14400/19125 (75%)]\tLoss: 0.298700, Accuracy: 8/8 (100.000%)\n",
      "TRAIN: LOSS-->0.9499 (0.4548)\tACC-->62.500% (77.542%)\n",
      "TRAIN: 41 [16000/19125 (84%)]\tLoss: 0.949886, Accuracy: 5/8 (62.500%)\n",
      "TRAIN: LOSS-->0.5648 (0.4549)\tACC-->62.500% (77.624%)\n",
      "TRAIN: 41 [17600/19125 (92%)]\tLoss: 0.564848, Accuracy: 5/8 (62.500%)\n",
      "VAL:   LOSS--> 0.3746 (0.3746)\tACC-->87.500 (87.500)\n",
      "VAL:   LOSS--> 0.1102 (0.2769)\tACC-->100.000 (87.998)\n",
      "VAL:   LOSS--> 0.2241 (0.2755)\tACC-->87.500 (88.310)\n",
      " * Accuracy 88.3259\n"
     ]
    },
    {
     "name": "stderr",
     "output_type": "stream",
     "text": [
      "\r",
      " 28%|███████████████████████████████████████▍                                                                                                     | 42/150 [1:37:40<4:11:10, 139.54s/it]"
     ]
    },
    {
     "name": "stdout",
     "output_type": "stream",
     "text": [
      "TRAIN: LOSS-->0.4296 (0.4296)\tACC-->75.000% (75.000%)\n",
      "TRAIN: 42 [0/19125 (0%)]\tLoss: 0.429555, Accuracy: 6/8 (75.000%)\n",
      "TRAIN: LOSS-->0.3725 (0.4191)\tACC-->87.500% (80.286%)\n",
      "TRAIN: 42 [1600/19125 (8%)]\tLoss: 0.372484, Accuracy: 7/8 (87.500%)\n",
      "TRAIN: LOSS-->0.4474 (0.4261)\tACC-->75.000% (79.582%)\n",
      "TRAIN: 42 [3200/19125 (17%)]\tLoss: 0.447436, Accuracy: 6/8 (75.000%)\n",
      "TRAIN: LOSS-->0.3994 (0.4271)\tACC-->75.000% (79.118%)\n",
      "TRAIN: 42 [4800/19125 (25%)]\tLoss: 0.399377, Accuracy: 6/8 (75.000%)\n",
      "TRAIN: LOSS-->0.3833 (0.4351)\tACC-->75.000% (78.730%)\n",
      "TRAIN: 42 [6400/19125 (33%)]\tLoss: 0.383340, Accuracy: 6/8 (75.000%)\n",
      "TRAIN: LOSS-->0.6042 (0.4409)\tACC-->75.000% (78.347%)\n",
      "TRAIN: 42 [8000/19125 (42%)]\tLoss: 0.604239, Accuracy: 6/8 (75.000%)\n",
      "TRAIN: LOSS-->0.5743 (0.4442)\tACC-->62.500% (78.122%)\n",
      "TRAIN: 42 [9600/19125 (50%)]\tLoss: 0.574276, Accuracy: 5/8 (62.500%)\n",
      "TRAIN: LOSS-->0.3433 (0.4442)\tACC-->87.500% (78.167%)\n",
      "TRAIN: 42 [11200/19125 (59%)]\tLoss: 0.343307, Accuracy: 7/8 (87.500%)\n",
      "TRAIN: LOSS-->0.4803 (0.4456)\tACC-->62.500% (78.217%)\n",
      "TRAIN: 42 [12800/19125 (67%)]\tLoss: 0.480321, Accuracy: 5/8 (62.500%)\n",
      "TRAIN: LOSS-->0.2317 (0.4453)\tACC-->87.500% (78.290%)\n",
      "TRAIN: 42 [14400/19125 (75%)]\tLoss: 0.231679, Accuracy: 7/8 (87.500%)\n",
      "TRAIN: LOSS-->0.3357 (0.4458)\tACC-->75.000% (78.186%)\n",
      "TRAIN: 42 [16000/19125 (84%)]\tLoss: 0.335741, Accuracy: 6/8 (75.000%)\n",
      "TRAIN: LOSS-->0.6034 (0.4464)\tACC-->62.500% (78.050%)\n",
      "TRAIN: 42 [17600/19125 (92%)]\tLoss: 0.603385, Accuracy: 5/8 (62.500%)\n",
      "VAL:   LOSS--> 0.4067 (0.4067)\tACC-->75.000 (75.000)\n",
      "VAL:   LOSS--> 0.5241 (0.2770)\tACC-->75.000 (88.993)\n",
      "VAL:   LOSS--> 0.1854 (0.2861)\tACC-->87.500 (88.373)\n",
      " * Accuracy 88.4444\n"
     ]
    },
    {
     "name": "stderr",
     "output_type": "stream",
     "text": [
      "\r",
      " 29%|████████████████████████████████████████▍                                                                                                    | 43/150 [1:39:58<4:08:46, 139.50s/it]"
     ]
    },
    {
     "name": "stdout",
     "output_type": "stream",
     "text": [
      "TRAIN: LOSS-->0.5063 (0.5063)\tACC-->62.500% (62.500%)\n",
      "TRAIN: 43 [0/19125 (0%)]\tLoss: 0.506288, Accuracy: 5/8 (62.500%)\n",
      "TRAIN: LOSS-->0.3559 (0.4476)\tACC-->87.500% (78.483%)\n",
      "TRAIN: 43 [1600/19125 (8%)]\tLoss: 0.355914, Accuracy: 7/8 (87.500%)\n",
      "TRAIN: LOSS-->0.5494 (0.4530)\tACC-->62.500% (77.805%)\n",
      "TRAIN: 43 [3200/19125 (17%)]\tLoss: 0.549394, Accuracy: 5/8 (62.500%)\n",
      "TRAIN: LOSS-->0.3217 (0.4469)\tACC-->75.000% (77.662%)\n",
      "TRAIN: 43 [4800/19125 (25%)]\tLoss: 0.321665, Accuracy: 6/8 (75.000%)\n",
      "TRAIN: LOSS-->0.6189 (0.4482)\tACC-->62.500% (77.575%)\n",
      "TRAIN: 43 [6400/19125 (33%)]\tLoss: 0.618897, Accuracy: 5/8 (62.500%)\n",
      "TRAIN: LOSS-->0.3588 (0.4468)\tACC-->75.000% (77.810%)\n",
      "TRAIN: 43 [8000/19125 (42%)]\tLoss: 0.358818, Accuracy: 6/8 (75.000%)\n",
      "TRAIN: LOSS-->0.5239 (0.4514)\tACC-->75.000% (77.519%)\n",
      "TRAIN: 43 [9600/19125 (50%)]\tLoss: 0.523926, Accuracy: 6/8 (75.000%)\n",
      "TRAIN: LOSS-->0.4560 (0.4543)\tACC-->62.500% (77.445%)\n",
      "TRAIN: 43 [11200/19125 (59%)]\tLoss: 0.455960, Accuracy: 5/8 (62.500%)\n",
      "TRAIN: LOSS-->0.6968 (0.4540)\tACC-->62.500% (77.592%)\n",
      "TRAIN: 43 [12800/19125 (67%)]\tLoss: 0.696847, Accuracy: 5/8 (62.500%)\n",
      "TRAIN: LOSS-->0.3306 (0.4534)\tACC-->100.000% (77.617%)\n",
      "TRAIN: 43 [14400/19125 (75%)]\tLoss: 0.330592, Accuracy: 8/8 (100.000%)\n",
      "TRAIN: LOSS-->0.9173 (0.4528)\tACC-->37.500% (77.636%)\n",
      "TRAIN: 43 [16000/19125 (84%)]\tLoss: 0.917321, Accuracy: 3/8 (37.500%)\n",
      "TRAIN: LOSS-->0.4977 (0.4528)\tACC-->75.000% (77.669%)\n",
      "TRAIN: 43 [17600/19125 (92%)]\tLoss: 0.497711, Accuracy: 6/8 (75.000%)\n",
      "VAL:   LOSS--> 0.2431 (0.2431)\tACC-->87.500 (87.500)\n",
      "VAL:   LOSS--> 0.3178 (0.2731)\tACC-->75.000 (88.122)\n",
      "VAL:   LOSS--> 0.2784 (0.2547)\tACC-->87.500 (89.121)\n",
      " * Accuracy 89.2148\n"
     ]
    },
    {
     "name": "stderr",
     "output_type": "stream",
     "text": [
      "\r",
      " 29%|█████████████████████████████████████████▎                                                                                                   | 44/150 [1:42:16<4:06:22, 139.46s/it]"
     ]
    },
    {
     "name": "stdout",
     "output_type": "stream",
     "text": [
      "TRAIN: LOSS-->0.6846 (0.6846)\tACC-->50.000% (50.000%)\n",
      "TRAIN: 44 [0/19125 (0%)]\tLoss: 0.684564, Accuracy: 4/8 (50.000%)\n",
      "TRAIN: LOSS-->0.3361 (0.4412)\tACC-->87.500% (79.104%)\n",
      "TRAIN: 44 [1600/19125 (8%)]\tLoss: 0.336052, Accuracy: 7/8 (87.500%)\n",
      "TRAIN: LOSS-->0.2663 (0.4354)\tACC-->100.000% (78.335%)\n",
      "TRAIN: 44 [3200/19125 (17%)]\tLoss: 0.266277, Accuracy: 8/8 (100.000%)\n",
      "TRAIN: LOSS-->0.3696 (0.4394)\tACC-->87.500% (78.265%)\n",
      "TRAIN: 44 [4800/19125 (25%)]\tLoss: 0.369583, Accuracy: 7/8 (87.500%)\n",
      "TRAIN: LOSS-->0.2353 (0.4511)\tACC-->100.000% (77.622%)\n",
      "TRAIN: 44 [6400/19125 (33%)]\tLoss: 0.235289, Accuracy: 8/8 (100.000%)\n",
      "TRAIN: LOSS-->0.2947 (0.4485)\tACC-->75.000% (77.785%)\n",
      "TRAIN: 44 [8000/19125 (42%)]\tLoss: 0.294661, Accuracy: 6/8 (75.000%)\n",
      "TRAIN: LOSS-->0.4576 (0.4471)\tACC-->75.000% (77.758%)\n",
      "TRAIN: 44 [9600/19125 (50%)]\tLoss: 0.457648, Accuracy: 6/8 (75.000%)\n",
      "TRAIN: LOSS-->0.4267 (0.4460)\tACC-->62.500% (77.962%)\n",
      "TRAIN: 44 [11200/19125 (59%)]\tLoss: 0.426685, Accuracy: 5/8 (62.500%)\n",
      "TRAIN: LOSS-->0.2066 (0.4479)\tACC-->100.000% (78.014%)\n",
      "TRAIN: 44 [12800/19125 (67%)]\tLoss: 0.206604, Accuracy: 8/8 (100.000%)\n",
      "TRAIN: LOSS-->0.3501 (0.4464)\tACC-->100.000% (78.054%)\n",
      "TRAIN: 44 [14400/19125 (75%)]\tLoss: 0.350054, Accuracy: 8/8 (100.000%)\n",
      "TRAIN: LOSS-->0.4631 (0.4461)\tACC-->75.000% (78.061%)\n",
      "TRAIN: 44 [16000/19125 (84%)]\tLoss: 0.463125, Accuracy: 6/8 (75.000%)\n",
      "TRAIN: LOSS-->0.6256 (0.4465)\tACC-->75.000% (78.141%)\n",
      "TRAIN: 44 [17600/19125 (92%)]\tLoss: 0.625581, Accuracy: 6/8 (75.000%)\n",
      "VAL:   LOSS--> 0.0491 (0.0491)\tACC-->100.000 (100.000)\n",
      "VAL:   LOSS--> 0.6824 (0.2888)\tACC-->75.000 (89.179)\n",
      "VAL:   LOSS--> 0.2813 (0.2820)\tACC-->87.500 (88.685)\n",
      " * Accuracy 88.5926\n"
     ]
    },
    {
     "name": "stderr",
     "output_type": "stream",
     "text": [
      "\r",
      " 30%|██████████████████████████████████████████▎                                                                                                  | 45/150 [1:44:33<4:03:58, 139.42s/it]"
     ]
    },
    {
     "name": "stdout",
     "output_type": "stream",
     "text": [
      "TRAIN: LOSS-->0.5844 (0.5844)\tACC-->75.000% (75.000%)\n",
      "TRAIN: 45 [0/19125 (0%)]\tLoss: 0.584436, Accuracy: 6/8 (75.000%)\n",
      "TRAIN: LOSS-->0.1854 (0.4617)\tACC-->100.000% (76.928%)\n",
      "TRAIN: 45 [1600/19125 (8%)]\tLoss: 0.185422, Accuracy: 8/8 (100.000%)\n",
      "TRAIN: LOSS-->0.6028 (0.4590)\tACC-->62.500% (77.120%)\n",
      "TRAIN: 45 [3200/19125 (17%)]\tLoss: 0.602753, Accuracy: 5/8 (62.500%)\n",
      "TRAIN: LOSS-->0.4020 (0.4492)\tACC-->75.000% (77.413%)\n",
      "TRAIN: 45 [4800/19125 (25%)]\tLoss: 0.401980, Accuracy: 6/8 (75.000%)\n",
      "TRAIN: LOSS-->0.2884 (0.4494)\tACC-->87.500% (77.232%)\n",
      "TRAIN: 45 [6400/19125 (33%)]\tLoss: 0.288407, Accuracy: 7/8 (87.500%)\n",
      "TRAIN: LOSS-->0.3864 (0.4475)\tACC-->87.500% (77.510%)\n",
      "TRAIN: 45 [8000/19125 (42%)]\tLoss: 0.386417, Accuracy: 7/8 (87.500%)\n",
      "TRAIN: LOSS-->0.2348 (0.4453)\tACC-->100.000% (77.727%)\n",
      "TRAIN: 45 [9600/19125 (50%)]\tLoss: 0.234759, Accuracy: 8/8 (100.000%)\n",
      "TRAIN: LOSS-->0.3261 (0.4432)\tACC-->87.500% (77.784%)\n",
      "TRAIN: 45 [11200/19125 (59%)]\tLoss: 0.326097, Accuracy: 7/8 (87.500%)\n",
      "TRAIN: LOSS-->0.4615 (0.4451)\tACC-->75.000% (77.819%)\n",
      "TRAIN: 45 [12800/19125 (67%)]\tLoss: 0.461537, Accuracy: 6/8 (75.000%)\n",
      "TRAIN: LOSS-->0.3098 (0.4458)\tACC-->87.500% (77.873%)\n",
      "TRAIN: 45 [14400/19125 (75%)]\tLoss: 0.309803, Accuracy: 7/8 (87.500%)\n",
      "TRAIN: LOSS-->0.4004 (0.4480)\tACC-->87.500% (77.755%)\n",
      "TRAIN: 45 [16000/19125 (84%)]\tLoss: 0.400436, Accuracy: 7/8 (87.500%)\n",
      "TRAIN: LOSS-->0.2397 (0.4468)\tACC-->75.000% (77.806%)\n",
      "TRAIN: 45 [17600/19125 (92%)]\tLoss: 0.239714, Accuracy: 6/8 (75.000%)\n",
      "VAL:   LOSS--> 0.0788 (0.0788)\tACC-->100.000 (100.000)\n",
      "VAL:   LOSS--> 0.0571 (0.2836)\tACC-->100.000 (87.562)\n",
      "VAL:   LOSS--> 0.2154 (0.2870)\tACC-->87.500 (88.186)\n",
      " * Accuracy 88.1185\n"
     ]
    },
    {
     "name": "stderr",
     "output_type": "stream",
     "text": [
      "\r",
      " 31%|███████████████████████████████████████████▏                                                                                                 | 46/150 [1:46:51<4:01:35, 139.38s/it]"
     ]
    },
    {
     "name": "stdout",
     "output_type": "stream",
     "text": [
      "TRAIN: LOSS-->0.6773 (0.6773)\tACC-->50.000% (50.000%)\n",
      "TRAIN: 46 [0/19125 (0%)]\tLoss: 0.677266, Accuracy: 4/8 (50.000%)\n",
      "TRAIN: LOSS-->0.7600 (0.4412)\tACC-->75.000% (78.109%)\n",
      "TRAIN: 46 [1600/19125 (8%)]\tLoss: 0.759999, Accuracy: 6/8 (75.000%)\n",
      "TRAIN: LOSS-->0.7213 (0.4394)\tACC-->37.500% (78.335%)\n",
      "TRAIN: 46 [3200/19125 (17%)]\tLoss: 0.721325, Accuracy: 3/8 (37.500%)\n",
      "TRAIN: LOSS-->0.0927 (0.4458)\tACC-->100.000% (77.829%)\n",
      "TRAIN: 46 [4800/19125 (25%)]\tLoss: 0.092717, Accuracy: 8/8 (100.000%)\n",
      "TRAIN: LOSS-->0.3655 (0.4468)\tACC-->87.500% (77.981%)\n",
      "TRAIN: 46 [6400/19125 (33%)]\tLoss: 0.365502, Accuracy: 7/8 (87.500%)\n",
      "TRAIN: LOSS-->0.6000 (0.4520)\tACC-->50.000% (77.710%)\n",
      "TRAIN: 46 [8000/19125 (42%)]\tLoss: 0.599990, Accuracy: 4/8 (50.000%)\n",
      "TRAIN: LOSS-->0.2824 (0.4502)\tACC-->87.500% (77.779%)\n",
      "TRAIN: 46 [9600/19125 (50%)]\tLoss: 0.282408, Accuracy: 7/8 (87.500%)\n",
      "TRAIN: LOSS-->0.4862 (0.4483)\tACC-->75.000% (77.837%)\n",
      "TRAIN: 46 [11200/19125 (59%)]\tLoss: 0.486198, Accuracy: 6/8 (75.000%)\n",
      "TRAIN: LOSS-->0.4223 (0.4473)\tACC-->75.000% (77.787%)\n",
      "TRAIN: 46 [12800/19125 (67%)]\tLoss: 0.422262, Accuracy: 6/8 (75.000%)\n",
      "TRAIN: LOSS-->0.3609 (0.4465)\tACC-->87.500% (77.880%)\n",
      "TRAIN: 46 [14400/19125 (75%)]\tLoss: 0.360857, Accuracy: 7/8 (87.500%)\n",
      "TRAIN: LOSS-->0.4887 (0.4455)\tACC-->62.500% (77.961%)\n",
      "TRAIN: 46 [16000/19125 (84%)]\tLoss: 0.488744, Accuracy: 5/8 (62.500%)\n",
      "TRAIN: LOSS-->0.4260 (0.4459)\tACC-->87.500% (77.845%)\n",
      "TRAIN: 46 [17600/19125 (92%)]\tLoss: 0.426003, Accuracy: 7/8 (87.500%)\n",
      "VAL:   LOSS--> 0.1693 (0.1693)\tACC-->100.000 (100.000)\n",
      "VAL:   LOSS--> 0.0880 (0.2650)\tACC-->100.000 (89.490)\n",
      "VAL:   LOSS--> 0.0516 (0.2520)\tACC-->100.000 (90.087)\n",
      " * Accuracy 90.0148\n"
     ]
    },
    {
     "name": "stderr",
     "output_type": "stream",
     "text": [
      "\r",
      " 31%|████████████████████████████████████████████▏                                                                                                | 47/150 [1:49:08<3:59:11, 139.34s/it]"
     ]
    },
    {
     "name": "stdout",
     "output_type": "stream",
     "text": [
      "TRAIN: LOSS-->0.2652 (0.2652)\tACC-->87.500% (87.500%)\n",
      "TRAIN: 47 [0/19125 (0%)]\tLoss: 0.265231, Accuracy: 7/8 (87.500%)\n",
      "TRAIN: LOSS-->0.2745 (0.4523)\tACC-->87.500% (76.990%)\n",
      "TRAIN: 47 [1600/19125 (8%)]\tLoss: 0.274467, Accuracy: 7/8 (87.500%)\n",
      "TRAIN: LOSS-->0.3574 (0.4430)\tACC-->75.000% (77.993%)\n",
      "TRAIN: 47 [3200/19125 (17%)]\tLoss: 0.357398, Accuracy: 6/8 (75.000%)\n",
      "TRAIN: LOSS-->0.3314 (0.4430)\tACC-->75.000% (77.787%)\n",
      "TRAIN: 47 [4800/19125 (25%)]\tLoss: 0.331422, Accuracy: 6/8 (75.000%)\n",
      "TRAIN: LOSS-->0.2640 (0.4329)\tACC-->87.500% (78.277%)\n",
      "TRAIN: 47 [6400/19125 (33%)]\tLoss: 0.263991, Accuracy: 7/8 (87.500%)\n",
      "TRAIN: LOSS-->0.2257 (0.4350)\tACC-->100.000% (78.397%)\n",
      "TRAIN: 47 [8000/19125 (42%)]\tLoss: 0.225730, Accuracy: 8/8 (100.000%)\n",
      "TRAIN: LOSS-->0.6540 (0.4399)\tACC-->62.500% (78.351%)\n",
      "TRAIN: 47 [9600/19125 (50%)]\tLoss: 0.653969, Accuracy: 5/8 (62.500%)\n",
      "TRAIN: LOSS-->0.6512 (0.4394)\tACC-->50.000% (78.266%)\n",
      "TRAIN: 47 [11200/19125 (59%)]\tLoss: 0.651185, Accuracy: 4/8 (50.000%)\n",
      "TRAIN: LOSS-->0.7810 (0.4367)\tACC-->62.500% (78.513%)\n",
      "TRAIN: 47 [12800/19125 (67%)]\tLoss: 0.781044, Accuracy: 5/8 (62.500%)\n",
      "TRAIN: LOSS-->0.5277 (0.4388)\tACC-->75.000% (78.484%)\n",
      "TRAIN: 47 [14400/19125 (75%)]\tLoss: 0.527721, Accuracy: 6/8 (75.000%)\n",
      "TRAIN: LOSS-->0.3398 (0.4363)\tACC-->75.000% (78.679%)\n",
      "TRAIN: 47 [16000/19125 (84%)]\tLoss: 0.339798, Accuracy: 6/8 (75.000%)\n",
      "TRAIN: LOSS-->0.4135 (0.4385)\tACC-->75.000% (78.606%)\n",
      "TRAIN: 47 [17600/19125 (92%)]\tLoss: 0.413461, Accuracy: 6/8 (75.000%)\n",
      "VAL:   LOSS--> 0.3699 (0.3699)\tACC-->75.000 (75.000)\n",
      "VAL:   LOSS--> 0.1329 (0.2719)\tACC-->100.000 (89.117)\n",
      "VAL:   LOSS--> 0.1483 (0.2632)\tACC-->100.000 (89.401)\n",
      " * Accuracy 89.3630\n"
     ]
    },
    {
     "name": "stderr",
     "output_type": "stream",
     "text": [
      "\r",
      " 32%|█████████████████████████████████████████████                                                                                                | 48/150 [1:51:26<3:56:48, 139.30s/it]"
     ]
    },
    {
     "name": "stdout",
     "output_type": "stream",
     "text": [
      "TRAIN: LOSS-->0.7413 (0.7413)\tACC-->62.500% (62.500%)\n",
      "TRAIN: 48 [0/19125 (0%)]\tLoss: 0.741329, Accuracy: 5/8 (62.500%)\n",
      "TRAIN: LOSS-->0.3834 (0.4325)\tACC-->87.500% (78.047%)\n",
      "TRAIN: 48 [1600/19125 (8%)]\tLoss: 0.383441, Accuracy: 7/8 (87.500%)\n",
      "TRAIN: LOSS-->0.4695 (0.4353)\tACC-->87.500% (78.024%)\n",
      "TRAIN: 48 [3200/19125 (17%)]\tLoss: 0.469452, Accuracy: 7/8 (87.500%)\n",
      "TRAIN: LOSS-->0.1782 (0.4412)\tACC-->100.000% (77.641%)\n",
      "TRAIN: 48 [4800/19125 (25%)]\tLoss: 0.178234, Accuracy: 8/8 (100.000%)\n",
      "TRAIN: LOSS-->0.5496 (0.4439)\tACC-->62.500% (77.981%)\n",
      "TRAIN: 48 [6400/19125 (33%)]\tLoss: 0.549622, Accuracy: 5/8 (62.500%)\n",
      "TRAIN: LOSS-->0.4643 (0.4430)\tACC-->87.500% (77.985%)\n",
      "TRAIN: 48 [8000/19125 (42%)]\tLoss: 0.464291, Accuracy: 7/8 (87.500%)\n",
      "TRAIN: LOSS-->0.5634 (0.4429)\tACC-->75.000% (77.904%)\n",
      "TRAIN: 48 [9600/19125 (50%)]\tLoss: 0.563412, Accuracy: 6/8 (75.000%)\n",
      "TRAIN: LOSS-->0.3538 (0.4397)\tACC-->75.000% (78.176%)\n",
      "TRAIN: 48 [11200/19125 (59%)]\tLoss: 0.353803, Accuracy: 6/8 (75.000%)\n",
      "TRAIN: LOSS-->0.5300 (0.4409)\tACC-->62.500% (78.295%)\n",
      "TRAIN: 48 [12800/19125 (67%)]\tLoss: 0.530030, Accuracy: 5/8 (62.500%)\n",
      "TRAIN: LOSS-->0.1978 (0.4397)\tACC-->87.500% (78.318%)\n",
      "TRAIN: 48 [14400/19125 (75%)]\tLoss: 0.197767, Accuracy: 7/8 (87.500%)\n",
      "TRAIN: LOSS-->0.3710 (0.4378)\tACC-->75.000% (78.492%)\n",
      "TRAIN: 48 [16000/19125 (84%)]\tLoss: 0.371039, Accuracy: 6/8 (75.000%)\n",
      "TRAIN: LOSS-->0.2567 (0.4379)\tACC-->87.500% (78.459%)\n",
      "TRAIN: 48 [17600/19125 (92%)]\tLoss: 0.256723, Accuracy: 7/8 (87.500%)\n",
      "VAL:   LOSS--> 0.3224 (0.3224)\tACC-->87.500 (87.500)\n",
      "VAL:   LOSS--> 0.2346 (0.2404)\tACC-->75.000 (90.112)\n",
      "VAL:   LOSS--> 0.1395 (0.2516)\tACC-->100.000 (89.931)\n",
      " * Accuracy 89.8667\n"
     ]
    },
    {
     "name": "stderr",
     "output_type": "stream",
     "text": [
      "\r",
      " 33%|██████████████████████████████████████████████                                                                                               | 49/150 [1:53:43<3:54:25, 139.26s/it]"
     ]
    },
    {
     "name": "stdout",
     "output_type": "stream",
     "text": [
      "TRAIN: LOSS-->0.6991 (0.6991)\tACC-->62.500% (62.500%)\n",
      "TRAIN: 49 [0/19125 (0%)]\tLoss: 0.699140, Accuracy: 5/8 (62.500%)\n",
      "TRAIN: LOSS-->0.1422 (0.4257)\tACC-->87.500% (79.353%)\n",
      "TRAIN: 49 [1600/19125 (8%)]\tLoss: 0.142197, Accuracy: 7/8 (87.500%)\n",
      "TRAIN: LOSS-->0.3534 (0.4299)\tACC-->87.500% (79.084%)\n",
      "TRAIN: 49 [3200/19125 (17%)]\tLoss: 0.353408, Accuracy: 7/8 (87.500%)\n",
      "TRAIN: LOSS-->0.3144 (0.4259)\tACC-->87.500% (79.118%)\n",
      "TRAIN: 49 [4800/19125 (25%)]\tLoss: 0.314401, Accuracy: 7/8 (87.500%)\n",
      "TRAIN: LOSS-->0.2249 (0.4308)\tACC-->100.000% (79.026%)\n",
      "TRAIN: 49 [6400/19125 (33%)]\tLoss: 0.224890, Accuracy: 8/8 (100.000%)\n",
      "TRAIN: LOSS-->0.3286 (0.4337)\tACC-->87.500% (79.008%)\n",
      "TRAIN: 49 [8000/19125 (42%)]\tLoss: 0.328618, Accuracy: 7/8 (87.500%)\n",
      "TRAIN: LOSS-->0.2031 (0.4363)\tACC-->100.000% (78.976%)\n",
      "TRAIN: 49 [9600/19125 (50%)]\tLoss: 0.203116, Accuracy: 8/8 (100.000%)\n",
      "TRAIN: LOSS-->0.5673 (0.4372)\tACC-->75.000% (78.935%)\n",
      "TRAIN: 49 [11200/19125 (59%)]\tLoss: 0.567341, Accuracy: 6/8 (75.000%)\n",
      "TRAIN: LOSS-->0.4145 (0.4373)\tACC-->75.000% (79.130%)\n",
      "TRAIN: 49 [12800/19125 (67%)]\tLoss: 0.414460, Accuracy: 6/8 (75.000%)\n",
      "TRAIN: LOSS-->0.2832 (0.4405)\tACC-->100.000% (78.817%)\n",
      "TRAIN: 49 [14400/19125 (75%)]\tLoss: 0.283184, Accuracy: 8/8 (100.000%)\n",
      "TRAIN: LOSS-->0.1072 (0.4389)\tACC-->100.000% (78.761%)\n",
      "TRAIN: 49 [16000/19125 (84%)]\tLoss: 0.107172, Accuracy: 8/8 (100.000%)\n",
      "TRAIN: LOSS-->0.2785 (0.4386)\tACC-->87.500% (78.828%)\n",
      "TRAIN: 49 [17600/19125 (92%)]\tLoss: 0.278488, Accuracy: 7/8 (87.500%)\n",
      "VAL:   LOSS--> 0.0850 (0.0850)\tACC-->100.000 (100.000)\n",
      "VAL:   LOSS--> 0.2732 (0.2597)\tACC-->87.500 (89.863)\n",
      "VAL:   LOSS--> 0.3749 (0.2535)\tACC-->87.500 (89.807)\n",
      " * Accuracy 89.6296\n"
     ]
    },
    {
     "name": "stderr",
     "output_type": "stream",
     "text": [
      "\r",
      " 33%|███████████████████████████████████████████████                                                                                              | 50/150 [1:56:01<3:52:02, 139.23s/it]"
     ]
    },
    {
     "name": "stdout",
     "output_type": "stream",
     "text": [
      "TRAIN: LOSS-->0.6156 (0.6156)\tACC-->75.000% (75.000%)\n",
      "TRAIN: 50 [0/19125 (0%)]\tLoss: 0.615615, Accuracy: 6/8 (75.000%)\n",
      "TRAIN: LOSS-->0.7905 (0.4256)\tACC-->62.500% (80.348%)\n",
      "TRAIN: 50 [1600/19125 (8%)]\tLoss: 0.790473, Accuracy: 5/8 (62.500%)\n",
      "TRAIN: LOSS-->0.4827 (0.4319)\tACC-->75.000% (79.676%)\n",
      "TRAIN: 50 [3200/19125 (17%)]\tLoss: 0.482652, Accuracy: 6/8 (75.000%)\n",
      "TRAIN: LOSS-->0.3312 (0.4261)\tACC-->87.500% (79.389%)\n",
      "TRAIN: 50 [4800/19125 (25%)]\tLoss: 0.331235, Accuracy: 7/8 (87.500%)\n",
      "TRAIN: LOSS-->0.1834 (0.4292)\tACC-->100.000% (78.979%)\n",
      "TRAIN: 50 [6400/19125 (33%)]\tLoss: 0.183358, Accuracy: 8/8 (100.000%)\n",
      "TRAIN: LOSS-->0.3519 (0.4269)\tACC-->87.500% (79.071%)\n",
      "TRAIN: 50 [8000/19125 (42%)]\tLoss: 0.351912, Accuracy: 7/8 (87.500%)\n",
      "TRAIN: LOSS-->0.2603 (0.4282)\tACC-->87.500% (79.111%)\n",
      "TRAIN: 50 [9600/19125 (50%)]\tLoss: 0.260283, Accuracy: 7/8 (87.500%)\n",
      "TRAIN: LOSS-->0.4145 (0.4311)\tACC-->87.500% (78.970%)\n",
      "TRAIN: 50 [11200/19125 (59%)]\tLoss: 0.414473, Accuracy: 7/8 (87.500%)\n",
      "TRAIN: LOSS-->0.9997 (0.4319)\tACC-->75.000% (78.826%)\n",
      "TRAIN: 50 [12800/19125 (67%)]\tLoss: 0.999685, Accuracy: 6/8 (75.000%)\n",
      "TRAIN: LOSS-->0.6505 (0.4319)\tACC-->62.500% (78.797%)\n",
      "TRAIN: 50 [14400/19125 (75%)]\tLoss: 0.650491, Accuracy: 5/8 (62.500%)\n",
      "TRAIN: LOSS-->0.2761 (0.4316)\tACC-->100.000% (78.761%)\n",
      "TRAIN: 50 [16000/19125 (84%)]\tLoss: 0.276059, Accuracy: 8/8 (100.000%)\n",
      "TRAIN: LOSS-->0.5756 (0.4315)\tACC-->50.000% (78.731%)\n",
      "TRAIN: 50 [17600/19125 (92%)]\tLoss: 0.575586, Accuracy: 4/8 (50.000%)\n",
      "VAL:   LOSS--> 0.0417 (0.0417)\tACC-->100.000 (100.000)\n",
      "VAL:   LOSS--> 0.1369 (0.2332)\tACC-->100.000 (90.174)\n",
      "VAL:   LOSS--> 0.1207 (0.2510)\tACC-->87.500 (89.464)\n",
      " * Accuracy 89.5704\n"
     ]
    },
    {
     "name": "stderr",
     "output_type": "stream",
     "text": [
      "\r",
      " 34%|███████████████████████████████████████████████▉                                                                                             | 51/150 [1:58:19<3:49:40, 139.20s/it]"
     ]
    },
    {
     "name": "stdout",
     "output_type": "stream",
     "text": [
      "TRAIN: LOSS-->0.4780 (0.4780)\tACC-->75.000% (75.000%)\n",
      "TRAIN: 51 [0/19125 (0%)]\tLoss: 0.478029, Accuracy: 6/8 (75.000%)\n",
      "TRAIN: LOSS-->0.1268 (0.4359)\tACC-->100.000% (79.167%)\n",
      "TRAIN: 51 [1600/19125 (8%)]\tLoss: 0.126823, Accuracy: 8/8 (100.000%)\n",
      "TRAIN: LOSS-->0.5016 (0.4200)\tACC-->62.500% (79.520%)\n",
      "TRAIN: 51 [3200/19125 (17%)]\tLoss: 0.501590, Accuracy: 5/8 (62.500%)\n",
      "TRAIN: LOSS-->0.2748 (0.4240)\tACC-->100.000% (79.222%)\n",
      "TRAIN: 51 [4800/19125 (25%)]\tLoss: 0.274761, Accuracy: 8/8 (100.000%)\n",
      "TRAIN: LOSS-->0.2936 (0.4290)\tACC-->87.500% (78.636%)\n",
      "TRAIN: 51 [6400/19125 (33%)]\tLoss: 0.293567, Accuracy: 7/8 (87.500%)\n",
      "TRAIN: LOSS-->0.2440 (0.4240)\tACC-->87.500% (79.096%)\n",
      "TRAIN: 51 [8000/19125 (42%)]\tLoss: 0.243970, Accuracy: 7/8 (87.500%)\n",
      "TRAIN: LOSS-->0.5268 (0.4258)\tACC-->75.000% (79.028%)\n",
      "TRAIN: 51 [9600/19125 (50%)]\tLoss: 0.526821, Accuracy: 6/8 (75.000%)\n",
      "TRAIN: LOSS-->0.6457 (0.4303)\tACC-->75.000% (78.667%)\n",
      "TRAIN: 51 [11200/19125 (59%)]\tLoss: 0.645732, Accuracy: 6/8 (75.000%)\n",
      "TRAIN: LOSS-->0.1652 (0.4335)\tACC-->87.500% (78.576%)\n",
      "TRAIN: 51 [12800/19125 (67%)]\tLoss: 0.165165, Accuracy: 7/8 (87.500%)\n",
      "TRAIN: LOSS-->0.4066 (0.4328)\tACC-->75.000% (78.685%)\n",
      "TRAIN: 51 [14400/19125 (75%)]\tLoss: 0.406641, Accuracy: 6/8 (75.000%)\n",
      "TRAIN: LOSS-->0.1793 (0.4341)\tACC-->100.000% (78.611%)\n",
      "TRAIN: 51 [16000/19125 (84%)]\tLoss: 0.179307, Accuracy: 8/8 (100.000%)\n",
      "TRAIN: LOSS-->1.2627 (0.4350)\tACC-->37.500% (78.493%)\n",
      "TRAIN: 51 [17600/19125 (92%)]\tLoss: 1.262706, Accuracy: 3/8 (37.500%)\n",
      "VAL:   LOSS--> 0.0918 (0.0918)\tACC-->100.000 (100.000)\n",
      "VAL:   LOSS--> 0.2782 (0.2394)\tACC-->75.000 (90.547)\n",
      "VAL:   LOSS--> 0.0714 (0.2660)\tACC-->100.000 (88.903)\n",
      " * Accuracy 88.9185\n"
     ]
    },
    {
     "name": "stderr",
     "output_type": "stream",
     "text": [
      "\r",
      " 35%|████████████████████████████████████████████████▉                                                                                            | 52/150 [2:00:36<3:47:18, 139.17s/it]"
     ]
    },
    {
     "name": "stdout",
     "output_type": "stream",
     "text": [
      "TRAIN: LOSS-->0.4260 (0.4260)\tACC-->87.500% (87.500%)\n",
      "TRAIN: 52 [0/19125 (0%)]\tLoss: 0.426005, Accuracy: 7/8 (87.500%)\n",
      "TRAIN: LOSS-->0.5501 (0.4111)\tACC-->62.500% (80.224%)\n",
      "TRAIN: 52 [1600/19125 (8%)]\tLoss: 0.550147, Accuracy: 5/8 (62.500%)\n",
      "TRAIN: LOSS-->0.1367 (0.4087)\tACC-->100.000% (80.362%)\n",
      "TRAIN: 52 [3200/19125 (17%)]\tLoss: 0.136732, Accuracy: 8/8 (100.000%)\n",
      "TRAIN: LOSS-->0.5668 (0.4163)\tACC-->62.500% (79.908%)\n",
      "TRAIN: 52 [4800/19125 (25%)]\tLoss: 0.566786, Accuracy: 5/8 (62.500%)\n",
      "TRAIN: LOSS-->0.5334 (0.4261)\tACC-->75.000% (79.089%)\n",
      "TRAIN: 52 [6400/19125 (33%)]\tLoss: 0.533397, Accuracy: 6/8 (75.000%)\n",
      "TRAIN: LOSS-->0.1949 (0.4288)\tACC-->87.500% (79.158%)\n",
      "TRAIN: 52 [8000/19125 (42%)]\tLoss: 0.194908, Accuracy: 7/8 (87.500%)\n",
      "TRAIN: LOSS-->0.1854 (0.4294)\tACC-->87.500% (79.205%)\n",
      "TRAIN: 52 [9600/19125 (50%)]\tLoss: 0.185397, Accuracy: 7/8 (87.500%)\n",
      "TRAIN: LOSS-->0.3603 (0.4291)\tACC-->87.500% (79.042%)\n",
      "TRAIN: 52 [11200/19125 (59%)]\tLoss: 0.360252, Accuracy: 7/8 (87.500%)\n",
      "TRAIN: LOSS-->0.7903 (0.4310)\tACC-->62.500% (78.740%)\n",
      "TRAIN: 52 [12800/19125 (67%)]\tLoss: 0.790312, Accuracy: 5/8 (62.500%)\n",
      "TRAIN: LOSS-->0.3992 (0.4296)\tACC-->87.500% (78.873%)\n",
      "TRAIN: 52 [14400/19125 (75%)]\tLoss: 0.399237, Accuracy: 7/8 (87.500%)\n",
      "TRAIN: LOSS-->0.4689 (0.4305)\tACC-->87.500% (78.786%)\n",
      "TRAIN: 52 [16000/19125 (84%)]\tLoss: 0.468885, Accuracy: 7/8 (87.500%)\n",
      "TRAIN: LOSS-->0.5187 (0.4325)\tACC-->62.500% (78.674%)\n",
      "TRAIN: 52 [17600/19125 (92%)]\tLoss: 0.518746, Accuracy: 5/8 (62.500%)\n",
      "VAL:   LOSS--> 0.5112 (0.5112)\tACC-->62.500 (62.500)\n",
      "VAL:   LOSS--> 0.2373 (0.2623)\tACC-->87.500 (89.117)\n",
      "VAL:   LOSS--> 0.1145 (0.2563)\tACC-->100.000 (89.620)\n",
      " * Accuracy 89.5704\n"
     ]
    },
    {
     "name": "stderr",
     "output_type": "stream",
     "text": [
      "\r",
      " 35%|█████████████████████████████████████████████████▊                                                                                           | 53/150 [2:02:54<3:44:56, 139.14s/it]"
     ]
    },
    {
     "name": "stdout",
     "output_type": "stream",
     "text": [
      "TRAIN: LOSS-->0.5166 (0.5166)\tACC-->75.000% (75.000%)\n",
      "TRAIN: 53 [0/19125 (0%)]\tLoss: 0.516567, Accuracy: 6/8 (75.000%)\n",
      "TRAIN: LOSS-->0.4442 (0.4162)\tACC-->87.500% (79.913%)\n",
      "TRAIN: 53 [1600/19125 (8%)]\tLoss: 0.444220, Accuracy: 7/8 (87.500%)\n",
      "TRAIN: LOSS-->0.4128 (0.4289)\tACC-->75.000% (78.990%)\n",
      "TRAIN: 53 [3200/19125 (17%)]\tLoss: 0.412775, Accuracy: 6/8 (75.000%)\n",
      "TRAIN: LOSS-->0.4570 (0.4375)\tACC-->62.500% (78.557%)\n",
      "TRAIN: 53 [4800/19125 (25%)]\tLoss: 0.457031, Accuracy: 5/8 (62.500%)\n",
      "TRAIN: LOSS-->0.9971 (0.4312)\tACC-->50.000% (78.979%)\n",
      "TRAIN: 53 [6400/19125 (33%)]\tLoss: 0.997067, Accuracy: 4/8 (50.000%)\n",
      "TRAIN: LOSS-->0.3354 (0.4272)\tACC-->87.500% (79.208%)\n",
      "TRAIN: 53 [8000/19125 (42%)]\tLoss: 0.335429, Accuracy: 7/8 (87.500%)\n",
      "TRAIN: LOSS-->0.6083 (0.4286)\tACC-->62.500% (79.122%)\n",
      "TRAIN: 53 [9600/19125 (50%)]\tLoss: 0.608268, Accuracy: 5/8 (62.500%)\n",
      "TRAIN: LOSS-->0.5822 (0.4290)\tACC-->75.000% (79.158%)\n",
      "TRAIN: 53 [11200/19125 (59%)]\tLoss: 0.582204, Accuracy: 6/8 (75.000%)\n",
      "TRAIN: LOSS-->0.6702 (0.4288)\tACC-->62.500% (79.169%)\n",
      "TRAIN: 53 [12800/19125 (67%)]\tLoss: 0.670179, Accuracy: 5/8 (62.500%)\n",
      "TRAIN: LOSS-->0.3315 (0.4274)\tACC-->87.500% (79.199%)\n",
      "TRAIN: 53 [14400/19125 (75%)]\tLoss: 0.331471, Accuracy: 7/8 (87.500%)\n",
      "TRAIN: LOSS-->0.5499 (0.4271)\tACC-->75.000% (79.267%)\n",
      "TRAIN: 53 [16000/19125 (84%)]\tLoss: 0.549944, Accuracy: 6/8 (75.000%)\n",
      "TRAIN: LOSS-->0.2024 (0.4253)\tACC-->100.000% (79.373%)\n",
      "TRAIN: 53 [17600/19125 (92%)]\tLoss: 0.202447, Accuracy: 8/8 (100.000%)\n",
      "VAL:   LOSS--> 0.2092 (0.2092)\tACC-->87.500 (87.500)\n",
      "VAL:   LOSS--> 0.0399 (0.2317)\tACC-->100.000 (90.547)\n",
      "VAL:   LOSS--> 0.1639 (0.2395)\tACC-->100.000 (90.430)\n",
      " * Accuracy 90.5185\n"
     ]
    },
    {
     "name": "stderr",
     "output_type": "stream",
     "text": [
      "\r",
      " 36%|██████████████████████████████████████████████████▊                                                                                          | 54/150 [2:05:12<3:42:34, 139.11s/it]"
     ]
    },
    {
     "name": "stdout",
     "output_type": "stream",
     "text": [
      "TRAIN: LOSS-->0.1593 (0.1593)\tACC-->87.500% (87.500%)\n",
      "TRAIN: 54 [0/19125 (0%)]\tLoss: 0.159264, Accuracy: 7/8 (87.500%)\n",
      "TRAIN: LOSS-->0.3200 (0.4255)\tACC-->100.000% (78.918%)\n",
      "TRAIN: 54 [1600/19125 (8%)]\tLoss: 0.320030, Accuracy: 8/8 (100.000%)\n",
      "TRAIN: LOSS-->0.4301 (0.4056)\tACC-->62.500% (80.517%)\n",
      "TRAIN: 54 [3200/19125 (17%)]\tLoss: 0.430064, Accuracy: 5/8 (62.500%)\n",
      "TRAIN: LOSS-->0.2576 (0.4055)\tACC-->100.000% (80.304%)\n",
      "TRAIN: 54 [4800/19125 (25%)]\tLoss: 0.257621, Accuracy: 8/8 (100.000%)\n",
      "TRAIN: LOSS-->0.0746 (0.4108)\tACC-->100.000% (79.838%)\n",
      "TRAIN: 54 [6400/19125 (33%)]\tLoss: 0.074584, Accuracy: 8/8 (100.000%)\n",
      "TRAIN: LOSS-->0.4474 (0.4118)\tACC-->75.000% (79.783%)\n",
      "TRAIN: 54 [8000/19125 (42%)]\tLoss: 0.447416, Accuracy: 6/8 (75.000%)\n",
      "TRAIN: LOSS-->0.3239 (0.4085)\tACC-->87.500% (80.058%)\n",
      "TRAIN: 54 [9600/19125 (50%)]\tLoss: 0.323928, Accuracy: 7/8 (87.500%)\n",
      "TRAIN: LOSS-->0.3383 (0.4132)\tACC-->87.500% (79.988%)\n",
      "TRAIN: 54 [11200/19125 (59%)]\tLoss: 0.338286, Accuracy: 7/8 (87.500%)\n",
      "TRAIN: LOSS-->0.6618 (0.4155)\tACC-->75.000% (79.942%)\n",
      "TRAIN: 54 [12800/19125 (67%)]\tLoss: 0.661823, Accuracy: 6/8 (75.000%)\n",
      "TRAIN: LOSS-->0.5631 (0.4181)\tACC-->75.000% (79.893%)\n",
      "TRAIN: 54 [14400/19125 (75%)]\tLoss: 0.563110, Accuracy: 6/8 (75.000%)\n",
      "TRAIN: LOSS-->0.3055 (0.4189)\tACC-->87.500% (79.860%)\n",
      "TRAIN: 54 [16000/19125 (84%)]\tLoss: 0.305479, Accuracy: 7/8 (87.500%)\n",
      "TRAIN: LOSS-->0.3482 (0.4203)\tACC-->87.500% (79.742%)\n",
      "TRAIN: 54 [17600/19125 (92%)]\tLoss: 0.348202, Accuracy: 7/8 (87.500%)\n",
      "VAL:   LOSS--> 0.1630 (0.1630)\tACC-->100.000 (100.000)\n",
      "VAL:   LOSS--> 0.3414 (0.2619)\tACC-->75.000 (89.801)\n",
      "VAL:   LOSS--> 0.2662 (0.2635)\tACC-->87.500 (89.869)\n",
      " * Accuracy 89.6000\n"
     ]
    },
    {
     "name": "stderr",
     "output_type": "stream",
     "text": [
      "\r",
      " 37%|███████████████████████████████████████████████████▋                                                                                         | 55/150 [2:07:30<3:40:13, 139.09s/it]"
     ]
    },
    {
     "name": "stdout",
     "output_type": "stream",
     "text": [
      "TRAIN: LOSS-->0.3471 (0.3471)\tACC-->87.500% (87.500%)\n",
      "TRAIN: 55 [0/19125 (0%)]\tLoss: 0.347079, Accuracy: 7/8 (87.500%)\n",
      "TRAIN: LOSS-->0.3203 (0.4255)\tACC-->75.000% (79.478%)\n",
      "TRAIN: 55 [1600/19125 (8%)]\tLoss: 0.320315, Accuracy: 6/8 (75.000%)\n",
      "TRAIN: LOSS-->0.3165 (0.4169)\tACC-->75.000% (79.800%)\n",
      "TRAIN: 55 [3200/19125 (17%)]\tLoss: 0.316486, Accuracy: 6/8 (75.000%)\n",
      "TRAIN: LOSS-->0.4676 (0.4287)\tACC-->75.000% (78.806%)\n",
      "TRAIN: 55 [4800/19125 (25%)]\tLoss: 0.467585, Accuracy: 6/8 (75.000%)\n",
      "TRAIN: LOSS-->0.4664 (0.4346)\tACC-->87.500% (78.542%)\n",
      "TRAIN: 55 [6400/19125 (33%)]\tLoss: 0.466445, Accuracy: 7/8 (87.500%)\n",
      "TRAIN: LOSS-->0.4131 (0.4298)\tACC-->75.000% (78.809%)\n",
      "TRAIN: 55 [8000/19125 (42%)]\tLoss: 0.413144, Accuracy: 6/8 (75.000%)\n",
      "TRAIN: LOSS-->0.2114 (0.4309)\tACC-->100.000% (78.747%)\n",
      "TRAIN: 55 [9600/19125 (50%)]\tLoss: 0.211439, Accuracy: 8/8 (100.000%)\n",
      "TRAIN: LOSS-->0.3890 (0.4295)\tACC-->87.500% (78.783%)\n",
      "TRAIN: 55 [11200/19125 (59%)]\tLoss: 0.388954, Accuracy: 7/8 (87.500%)\n",
      "TRAIN: LOSS-->0.4549 (0.4274)\tACC-->87.500% (78.865%)\n",
      "TRAIN: 55 [12800/19125 (67%)]\tLoss: 0.454941, Accuracy: 7/8 (87.500%)\n",
      "TRAIN: LOSS-->0.3534 (0.4253)\tACC-->87.500% (79.178%)\n",
      "TRAIN: 55 [14400/19125 (75%)]\tLoss: 0.353372, Accuracy: 7/8 (87.500%)\n",
      "TRAIN: LOSS-->0.5162 (0.4269)\tACC-->87.500% (79.042%)\n",
      "TRAIN: 55 [16000/19125 (84%)]\tLoss: 0.516207, Accuracy: 7/8 (87.500%)\n",
      "TRAIN: LOSS-->0.8468 (0.4289)\tACC-->75.000% (78.862%)\n",
      "TRAIN: 55 [17600/19125 (92%)]\tLoss: 0.846754, Accuracy: 6/8 (75.000%)\n",
      "VAL:   LOSS--> 0.3479 (0.3479)\tACC-->87.500 (87.500)\n",
      "VAL:   LOSS--> 0.2708 (0.2863)\tACC-->87.500 (87.811)\n",
      "VAL:   LOSS--> 0.1289 (0.2961)\tACC-->87.500 (87.500)\n",
      " * Accuracy 87.5259\n"
     ]
    },
    {
     "name": "stderr",
     "output_type": "stream",
     "text": [
      "\r",
      " 37%|████████████████████████████████████████████████████▋                                                                                        | 56/150 [2:09:47<3:37:52, 139.07s/it]"
     ]
    },
    {
     "name": "stdout",
     "output_type": "stream",
     "text": [
      "TRAIN: LOSS-->0.5301 (0.5301)\tACC-->75.000% (75.000%)\n",
      "TRAIN: 56 [0/19125 (0%)]\tLoss: 0.530142, Accuracy: 6/8 (75.000%)\n",
      "TRAIN: LOSS-->0.1502 (0.4225)\tACC-->100.000% (80.224%)\n",
      "TRAIN: 56 [1600/19125 (8%)]\tLoss: 0.150243, Accuracy: 8/8 (100.000%)\n",
      "TRAIN: LOSS-->0.1786 (0.4200)\tACC-->100.000% (80.050%)\n",
      "TRAIN: 56 [3200/19125 (17%)]\tLoss: 0.178591, Accuracy: 8/8 (100.000%)\n",
      "TRAIN: LOSS-->0.7172 (0.4246)\tACC-->62.500% (79.305%)\n",
      "TRAIN: 56 [4800/19125 (25%)]\tLoss: 0.717154, Accuracy: 5/8 (62.500%)\n",
      "TRAIN: LOSS-->0.9708 (0.4258)\tACC-->50.000% (79.260%)\n",
      "TRAIN: 56 [6400/19125 (33%)]\tLoss: 0.970768, Accuracy: 4/8 (50.000%)\n",
      "TRAIN: LOSS-->0.0604 (0.4233)\tACC-->100.000% (79.233%)\n",
      "TRAIN: 56 [8000/19125 (42%)]\tLoss: 0.060359, Accuracy: 8/8 (100.000%)\n",
      "TRAIN: LOSS-->0.2015 (0.4192)\tACC-->100.000% (79.507%)\n",
      "TRAIN: 56 [9600/19125 (50%)]\tLoss: 0.201465, Accuracy: 8/8 (100.000%)\n",
      "TRAIN: LOSS-->0.5535 (0.4215)\tACC-->87.500% (79.479%)\n",
      "TRAIN: 56 [11200/19125 (59%)]\tLoss: 0.553473, Accuracy: 7/8 (87.500%)\n",
      "TRAIN: LOSS-->0.3631 (0.4213)\tACC-->75.000% (79.450%)\n",
      "TRAIN: 56 [12800/19125 (67%)]\tLoss: 0.363107, Accuracy: 6/8 (75.000%)\n",
      "TRAIN: LOSS-->0.7446 (0.4197)\tACC-->50.000% (79.567%)\n",
      "TRAIN: 56 [14400/19125 (75%)]\tLoss: 0.744648, Accuracy: 4/8 (50.000%)\n",
      "TRAIN: LOSS-->0.2508 (0.4207)\tACC-->100.000% (79.585%)\n",
      "TRAIN: 56 [16000/19125 (84%)]\tLoss: 0.250760, Accuracy: 8/8 (100.000%)\n",
      "TRAIN: LOSS-->0.2843 (0.4212)\tACC-->87.500% (79.475%)\n",
      "TRAIN: 56 [17600/19125 (92%)]\tLoss: 0.284301, Accuracy: 7/8 (87.500%)\n",
      "VAL:   LOSS--> 0.7060 (0.7060)\tACC-->62.500 (62.500)\n",
      "VAL:   LOSS--> 0.1485 (0.2602)\tACC-->100.000 (89.614)\n",
      "VAL:   LOSS--> 0.1688 (0.2701)\tACC-->100.000 (89.433)\n",
      " * Accuracy 89.4815\n"
     ]
    },
    {
     "name": "stderr",
     "output_type": "stream",
     "text": [
      "\r",
      " 38%|█████████████████████████████████████████████████████▌                                                                                       | 57/150 [2:12:05<3:35:31, 139.05s/it]"
     ]
    },
    {
     "name": "stdout",
     "output_type": "stream",
     "text": [
      "TRAIN: LOSS-->0.3741 (0.3741)\tACC-->75.000% (75.000%)\n",
      "TRAIN: 57 [0/19125 (0%)]\tLoss: 0.374061, Accuracy: 6/8 (75.000%)\n",
      "TRAIN: LOSS-->0.4766 (0.4353)\tACC-->75.000% (78.483%)\n",
      "TRAIN: 57 [1600/19125 (8%)]\tLoss: 0.476569, Accuracy: 6/8 (75.000%)\n",
      "TRAIN: LOSS-->0.2846 (0.4334)\tACC-->87.500% (78.959%)\n",
      "TRAIN: 57 [3200/19125 (17%)]\tLoss: 0.284593, Accuracy: 7/8 (87.500%)\n",
      "TRAIN: LOSS-->0.2512 (0.4231)\tACC-->100.000% (79.638%)\n",
      "TRAIN: 57 [4800/19125 (25%)]\tLoss: 0.251201, Accuracy: 8/8 (100.000%)\n",
      "TRAIN: LOSS-->0.4310 (0.4293)\tACC-->87.500% (79.370%)\n",
      "TRAIN: 57 [6400/19125 (33%)]\tLoss: 0.430959, Accuracy: 7/8 (87.500%)\n",
      "TRAIN: LOSS-->1.1523 (0.4271)\tACC-->62.500% (79.321%)\n",
      "TRAIN: 57 [8000/19125 (42%)]\tLoss: 1.152335, Accuracy: 5/8 (62.500%)\n",
      "TRAIN: LOSS-->0.5151 (0.4245)\tACC-->75.000% (79.309%)\n",
      "TRAIN: 57 [9600/19125 (50%)]\tLoss: 0.515069, Accuracy: 6/8 (75.000%)\n",
      "TRAIN: LOSS-->0.4003 (0.4222)\tACC-->75.000% (79.497%)\n",
      "TRAIN: 57 [11200/19125 (59%)]\tLoss: 0.400328, Accuracy: 6/8 (75.000%)\n",
      "TRAIN: LOSS-->0.4250 (0.4222)\tACC-->62.500% (79.497%)\n",
      "TRAIN: 57 [12800/19125 (67%)]\tLoss: 0.425014, Accuracy: 5/8 (62.500%)\n",
      "TRAIN: LOSS-->0.1700 (0.4214)\tACC-->100.000% (79.574%)\n",
      "TRAIN: 57 [14400/19125 (75%)]\tLoss: 0.169986, Accuracy: 8/8 (100.000%)\n",
      "TRAIN: LOSS-->0.3303 (0.4215)\tACC-->87.500% (79.529%)\n",
      "TRAIN: 57 [16000/19125 (84%)]\tLoss: 0.330271, Accuracy: 7/8 (87.500%)\n",
      "TRAIN: LOSS-->0.3820 (0.4213)\tACC-->75.000% (79.526%)\n",
      "TRAIN: 57 [17600/19125 (92%)]\tLoss: 0.382024, Accuracy: 6/8 (75.000%)\n",
      "VAL:   LOSS--> 0.3630 (0.3630)\tACC-->75.000 (75.000)\n",
      "VAL:   LOSS--> 0.2921 (0.2344)\tACC-->75.000 (90.361)\n",
      "VAL:   LOSS--> 0.0799 (0.2275)\tACC-->100.000 (90.586)\n",
      " * Accuracy 90.6370\n"
     ]
    },
    {
     "name": "stderr",
     "output_type": "stream",
     "text": [
      "\r",
      " 39%|██████████████████████████████████████████████████████▌                                                                                      | 58/150 [2:14:23<3:33:10, 139.02s/it]"
     ]
    },
    {
     "name": "stdout",
     "output_type": "stream",
     "text": [
      "TRAIN: LOSS-->0.2842 (0.2842)\tACC-->75.000% (75.000%)\n",
      "TRAIN: 58 [0/19125 (0%)]\tLoss: 0.284206, Accuracy: 6/8 (75.000%)\n",
      "TRAIN: LOSS-->0.3112 (0.4393)\tACC-->87.500% (78.047%)\n",
      "TRAIN: 58 [1600/19125 (8%)]\tLoss: 0.311201, Accuracy: 7/8 (87.500%)\n",
      "TRAIN: LOSS-->0.3955 (0.4314)\tACC-->87.500% (78.865%)\n",
      "TRAIN: 58 [3200/19125 (17%)]\tLoss: 0.395548, Accuracy: 7/8 (87.500%)\n",
      "TRAIN: LOSS-->0.3563 (0.4231)\tACC-->75.000% (79.680%)\n",
      "TRAIN: 58 [4800/19125 (25%)]\tLoss: 0.356254, Accuracy: 6/8 (75.000%)\n",
      "TRAIN: LOSS-->0.2203 (0.4217)\tACC-->100.000% (79.604%)\n",
      "TRAIN: 58 [6400/19125 (33%)]\tLoss: 0.220307, Accuracy: 8/8 (100.000%)\n",
      "TRAIN: LOSS-->0.2624 (0.4214)\tACC-->87.500% (79.358%)\n",
      "TRAIN: 58 [8000/19125 (42%)]\tLoss: 0.262375, Accuracy: 7/8 (87.500%)\n",
      "TRAIN: LOSS-->0.4118 (0.4194)\tACC-->75.000% (79.590%)\n",
      "TRAIN: 58 [9600/19125 (50%)]\tLoss: 0.411785, Accuracy: 6/8 (75.000%)\n",
      "TRAIN: LOSS-->0.4276 (0.4170)\tACC-->75.000% (79.791%)\n",
      "TRAIN: 58 [11200/19125 (59%)]\tLoss: 0.427607, Accuracy: 6/8 (75.000%)\n",
      "TRAIN: LOSS-->0.2898 (0.4177)\tACC-->75.000% (79.724%)\n",
      "TRAIN: 58 [12800/19125 (67%)]\tLoss: 0.289780, Accuracy: 6/8 (75.000%)\n",
      "TRAIN: LOSS-->0.3963 (0.4166)\tACC-->75.000% (79.761%)\n",
      "TRAIN: 58 [14400/19125 (75%)]\tLoss: 0.396269, Accuracy: 6/8 (75.000%)\n",
      "TRAIN: LOSS-->0.4730 (0.4181)\tACC-->75.000% (79.673%)\n",
      "TRAIN: 58 [16000/19125 (84%)]\tLoss: 0.473033, Accuracy: 6/8 (75.000%)\n",
      "TRAIN: LOSS-->0.2590 (0.4187)\tACC-->100.000% (79.657%)\n",
      "TRAIN: 58 [17600/19125 (92%)]\tLoss: 0.258973, Accuracy: 8/8 (100.000%)\n",
      "VAL:   LOSS--> 0.9799 (0.9799)\tACC-->75.000 (75.000)\n",
      "VAL:   LOSS--> 0.3567 (0.2286)\tACC-->75.000 (91.294)\n",
      "VAL:   LOSS--> 0.0792 (0.2329)\tACC-->100.000 (91.022)\n",
      " * Accuracy 90.9630\n"
     ]
    },
    {
     "name": "stderr",
     "output_type": "stream",
     "text": [
      "\r",
      " 39%|███████████████████████████████████████████████████████▍                                                                                     | 59/150 [2:16:41<3:30:49, 139.00s/it]"
     ]
    },
    {
     "name": "stdout",
     "output_type": "stream",
     "text": [
      "TRAIN: LOSS-->0.2806 (0.2806)\tACC-->87.500% (87.500%)\n",
      "TRAIN: 59 [0/19125 (0%)]\tLoss: 0.280643, Accuracy: 7/8 (87.500%)\n",
      "TRAIN: LOSS-->0.3707 (0.4105)\tACC-->87.500% (80.846%)\n",
      "TRAIN: 59 [1600/19125 (8%)]\tLoss: 0.370677, Accuracy: 7/8 (87.500%)\n",
      "TRAIN: LOSS-->0.4954 (0.3946)\tACC-->62.500% (81.733%)\n",
      "TRAIN: 59 [3200/19125 (17%)]\tLoss: 0.495385, Accuracy: 5/8 (62.500%)\n",
      "TRAIN: LOSS-->0.3123 (0.4089)\tACC-->87.500% (80.657%)\n",
      "TRAIN: 59 [4800/19125 (25%)]\tLoss: 0.312275, Accuracy: 7/8 (87.500%)\n",
      "TRAIN: LOSS-->0.3834 (0.4134)\tACC-->75.000% (80.072%)\n",
      "TRAIN: 59 [6400/19125 (33%)]\tLoss: 0.383379, Accuracy: 6/8 (75.000%)\n",
      "TRAIN: LOSS-->0.2165 (0.4118)\tACC-->100.000% (80.020%)\n",
      "TRAIN: 59 [8000/19125 (42%)]\tLoss: 0.216492, Accuracy: 8/8 (100.000%)\n",
      "TRAIN: LOSS-->0.4625 (0.4130)\tACC-->75.000% (79.829%)\n",
      "TRAIN: 59 [9600/19125 (50%)]\tLoss: 0.462483, Accuracy: 6/8 (75.000%)\n",
      "TRAIN: LOSS-->0.1718 (0.4139)\tACC-->87.500% (79.818%)\n",
      "TRAIN: 59 [11200/19125 (59%)]\tLoss: 0.171782, Accuracy: 7/8 (87.500%)\n",
      "TRAIN: LOSS-->0.2071 (0.4151)\tACC-->87.500% (79.669%)\n",
      "TRAIN: 59 [12800/19125 (67%)]\tLoss: 0.207112, Accuracy: 7/8 (87.500%)\n",
      "TRAIN: LOSS-->0.2298 (0.4165)\tACC-->100.000% (79.574%)\n",
      "TRAIN: 59 [14400/19125 (75%)]\tLoss: 0.229811, Accuracy: 8/8 (100.000%)\n",
      "TRAIN: LOSS-->0.6704 (0.4197)\tACC-->62.500% (79.460%)\n",
      "TRAIN: 59 [16000/19125 (84%)]\tLoss: 0.670375, Accuracy: 5/8 (62.500%)\n",
      "TRAIN: LOSS-->0.4597 (0.4202)\tACC-->75.000% (79.453%)\n",
      "TRAIN: 59 [17600/19125 (92%)]\tLoss: 0.459685, Accuracy: 6/8 (75.000%)\n",
      "VAL:   LOSS--> 0.3385 (0.3385)\tACC-->87.500 (87.500)\n",
      "VAL:   LOSS--> 0.3186 (0.2451)\tACC-->87.500 (89.428)\n",
      "VAL:   LOSS--> 0.2825 (0.2513)\tACC-->87.500 (89.776)\n",
      " * Accuracy 90.0444\n"
     ]
    },
    {
     "name": "stderr",
     "output_type": "stream",
     "text": [
      "\r",
      " 40%|████████████████████████████████████████████████████████▍                                                                                    | 60/150 [2:18:58<3:28:27, 138.97s/it]"
     ]
    },
    {
     "name": "stdout",
     "output_type": "stream",
     "text": [
      "TRAIN: LOSS-->0.2982 (0.2982)\tACC-->87.500% (87.500%)\n",
      "TRAIN: 60 [0/19125 (0%)]\tLoss: 0.298199, Accuracy: 7/8 (87.500%)\n",
      "TRAIN: LOSS-->0.4166 (0.3830)\tACC-->62.500% (81.281%)\n",
      "TRAIN: 60 [1600/19125 (8%)]\tLoss: 0.416620, Accuracy: 5/8 (62.500%)\n",
      "TRAIN: LOSS-->0.2006 (0.4077)\tACC-->100.000% (80.330%)\n",
      "TRAIN: 60 [3200/19125 (17%)]\tLoss: 0.200580, Accuracy: 8/8 (100.000%)\n",
      "TRAIN: LOSS-->0.6360 (0.4123)\tACC-->62.500% (80.033%)\n",
      "TRAIN: 60 [4800/19125 (25%)]\tLoss: 0.636049, Accuracy: 5/8 (62.500%)\n",
      "TRAIN: LOSS-->0.3749 (0.4139)\tACC-->87.500% (79.885%)\n",
      "TRAIN: 60 [6400/19125 (33%)]\tLoss: 0.374885, Accuracy: 7/8 (87.500%)\n",
      "TRAIN: LOSS-->0.3710 (0.4157)\tACC-->87.500% (79.820%)\n",
      "TRAIN: 60 [8000/19125 (42%)]\tLoss: 0.370985, Accuracy: 7/8 (87.500%)\n",
      "TRAIN: LOSS-->0.2685 (0.4216)\tACC-->75.000% (79.371%)\n",
      "TRAIN: 60 [9600/19125 (50%)]\tLoss: 0.268529, Accuracy: 6/8 (75.000%)\n",
      "TRAIN: LOSS-->0.3759 (0.4200)\tACC-->75.000% (79.524%)\n",
      "TRAIN: 60 [11200/19125 (59%)]\tLoss: 0.375925, Accuracy: 6/8 (75.000%)\n",
      "TRAIN: LOSS-->0.2458 (0.4168)\tACC-->87.500% (79.708%)\n",
      "TRAIN: 60 [12800/19125 (67%)]\tLoss: 0.245848, Accuracy: 7/8 (87.500%)\n",
      "TRAIN: LOSS-->0.5937 (0.4188)\tACC-->62.500% (79.574%)\n",
      "TRAIN: 60 [14400/19125 (75%)]\tLoss: 0.593653, Accuracy: 5/8 (62.500%)\n",
      "TRAIN: LOSS-->0.2903 (0.4184)\tACC-->75.000% (79.591%)\n",
      "TRAIN: 60 [16000/19125 (84%)]\tLoss: 0.290348, Accuracy: 6/8 (75.000%)\n",
      "TRAIN: LOSS-->0.1868 (0.4159)\tACC-->100.000% (79.788%)\n",
      "TRAIN: 60 [17600/19125 (92%)]\tLoss: 0.186761, Accuracy: 8/8 (100.000%)\n",
      "VAL:   LOSS--> 0.1208 (0.1208)\tACC-->100.000 (100.000)\n",
      "VAL:   LOSS--> 0.3135 (0.2219)\tACC-->87.500 (91.356)\n",
      "VAL:   LOSS--> 0.3858 (0.2246)\tACC-->75.000 (91.521)\n",
      " * Accuracy 91.4074\n"
     ]
    },
    {
     "name": "stderr",
     "output_type": "stream",
     "text": [
      "\r",
      " 41%|█████████████████████████████████████████████████████████▎                                                                                   | 61/150 [2:21:16<3:26:07, 138.96s/it]"
     ]
    },
    {
     "name": "stdout",
     "output_type": "stream",
     "text": [
      "TRAIN: LOSS-->0.4092 (0.4092)\tACC-->75.000% (75.000%)\n",
      "TRAIN: 61 [0/19125 (0%)]\tLoss: 0.409244, Accuracy: 6/8 (75.000%)\n",
      "TRAIN: LOSS-->0.4878 (0.4213)\tACC-->75.000% (79.975%)\n",
      "TRAIN: 61 [1600/19125 (8%)]\tLoss: 0.487756, Accuracy: 6/8 (75.000%)\n",
      "TRAIN: LOSS-->0.5381 (0.4269)\tACC-->87.500% (79.738%)\n",
      "TRAIN: 61 [3200/19125 (17%)]\tLoss: 0.538093, Accuracy: 7/8 (87.500%)\n",
      "TRAIN: LOSS-->0.1568 (0.4189)\tACC-->100.000% (79.825%)\n",
      "TRAIN: 61 [4800/19125 (25%)]\tLoss: 0.156811, Accuracy: 8/8 (100.000%)\n",
      "TRAIN: LOSS-->0.5452 (0.4193)\tACC-->62.500% (79.557%)\n",
      "TRAIN: 61 [6400/19125 (33%)]\tLoss: 0.545188, Accuracy: 5/8 (62.500%)\n",
      "TRAIN: LOSS-->0.2921 (0.4199)\tACC-->75.000% (79.358%)\n",
      "TRAIN: 61 [8000/19125 (42%)]\tLoss: 0.292123, Accuracy: 6/8 (75.000%)\n",
      "TRAIN: LOSS-->0.3161 (0.4174)\tACC-->87.500% (79.580%)\n",
      "TRAIN: 61 [9600/19125 (50%)]\tLoss: 0.316120, Accuracy: 7/8 (87.500%)\n",
      "TRAIN: LOSS-->0.2681 (0.4167)\tACC-->87.500% (79.595%)\n",
      "TRAIN: 61 [11200/19125 (59%)]\tLoss: 0.268086, Accuracy: 7/8 (87.500%)\n",
      "TRAIN: LOSS-->0.4538 (0.4175)\tACC-->87.500% (79.661%)\n",
      "TRAIN: 61 [12800/19125 (67%)]\tLoss: 0.453819, Accuracy: 7/8 (87.500%)\n",
      "TRAIN: LOSS-->0.4115 (0.4184)\tACC-->75.000% (79.650%)\n",
      "TRAIN: 61 [14400/19125 (75%)]\tLoss: 0.411466, Accuracy: 6/8 (75.000%)\n",
      "TRAIN: LOSS-->0.4457 (0.4185)\tACC-->75.000% (79.629%)\n",
      "TRAIN: 61 [16000/19125 (84%)]\tLoss: 0.445717, Accuracy: 6/8 (75.000%)\n",
      "TRAIN: LOSS-->0.3845 (0.4182)\tACC-->87.500% (79.600%)\n",
      "TRAIN: 61 [17600/19125 (92%)]\tLoss: 0.384482, Accuracy: 7/8 (87.500%)\n",
      "VAL:   LOSS--> 0.1254 (0.1254)\tACC-->87.500 (87.500)\n",
      "VAL:   LOSS--> 0.0635 (0.2016)\tACC-->100.000 (91.915)\n",
      "VAL:   LOSS--> 0.2784 (0.2255)\tACC-->87.500 (91.272)\n",
      " * Accuracy 91.2296\n"
     ]
    },
    {
     "name": "stderr",
     "output_type": "stream",
     "text": [
      "\r",
      " 41%|██████████████████████████████████████████████████████████▎                                                                                  | 62/150 [2:23:34<3:23:46, 138.94s/it]"
     ]
    },
    {
     "name": "stdout",
     "output_type": "stream",
     "text": [
      "TRAIN: LOSS-->0.2385 (0.2385)\tACC-->100.000% (100.000%)\n",
      "TRAIN: 62 [0/19125 (0%)]\tLoss: 0.238534, Accuracy: 8/8 (100.000%)\n",
      "TRAIN: LOSS-->0.3028 (0.3882)\tACC-->87.500% (81.841%)\n",
      "TRAIN: 62 [1600/19125 (8%)]\tLoss: 0.302770, Accuracy: 7/8 (87.500%)\n",
      "TRAIN: LOSS-->0.4200 (0.3979)\tACC-->75.000% (80.611%)\n",
      "TRAIN: 62 [3200/19125 (17%)]\tLoss: 0.419957, Accuracy: 6/8 (75.000%)\n",
      "TRAIN: LOSS-->0.2630 (0.4016)\tACC-->87.500% (80.304%)\n",
      "TRAIN: 62 [4800/19125 (25%)]\tLoss: 0.262984, Accuracy: 7/8 (87.500%)\n",
      "TRAIN: LOSS-->0.8321 (0.4084)\tACC-->62.500% (80.056%)\n",
      "TRAIN: 62 [6400/19125 (33%)]\tLoss: 0.832120, Accuracy: 5/8 (62.500%)\n",
      "TRAIN: LOSS-->0.6830 (0.4113)\tACC-->75.000% (79.895%)\n",
      "TRAIN: 62 [8000/19125 (42%)]\tLoss: 0.683026, Accuracy: 6/8 (75.000%)\n",
      "TRAIN: LOSS-->0.5046 (0.4053)\tACC-->87.500% (80.360%)\n",
      "TRAIN: 62 [9600/19125 (50%)]\tLoss: 0.504639, Accuracy: 7/8 (87.500%)\n",
      "TRAIN: LOSS-->0.2653 (0.4088)\tACC-->87.500% (80.300%)\n",
      "TRAIN: 62 [11200/19125 (59%)]\tLoss: 0.265272, Accuracy: 7/8 (87.500%)\n",
      "TRAIN: LOSS-->0.3807 (0.4102)\tACC-->87.500% (80.223%)\n",
      "TRAIN: 62 [12800/19125 (67%)]\tLoss: 0.380651, Accuracy: 7/8 (87.500%)\n",
      "TRAIN: LOSS-->0.3304 (0.4113)\tACC-->87.500% (80.122%)\n",
      "TRAIN: 62 [14400/19125 (75%)]\tLoss: 0.330373, Accuracy: 7/8 (87.500%)\n",
      "TRAIN: LOSS-->0.4425 (0.4102)\tACC-->62.500% (80.129%)\n",
      "TRAIN: 62 [16000/19125 (84%)]\tLoss: 0.442486, Accuracy: 5/8 (62.500%)\n",
      "TRAIN: LOSS-->0.4157 (0.4095)\tACC-->75.000% (80.111%)\n",
      "TRAIN: 62 [17600/19125 (92%)]\tLoss: 0.415671, Accuracy: 6/8 (75.000%)\n",
      "VAL:   LOSS--> 0.1094 (0.1094)\tACC-->100.000 (100.000)\n",
      "VAL:   LOSS--> 0.2466 (0.2621)\tACC-->75.000 (89.614)\n",
      "VAL:   LOSS--> 0.1565 (0.2539)\tACC-->100.000 (89.963)\n",
      " * Accuracy 89.7778\n"
     ]
    },
    {
     "name": "stderr",
     "output_type": "stream",
     "text": [
      "\r",
      " 42%|███████████████████████████████████████████████████████████▏                                                                                 | 63/150 [2:25:51<3:21:26, 138.92s/it]"
     ]
    },
    {
     "name": "stdout",
     "output_type": "stream",
     "text": [
      "TRAIN: LOSS-->0.8370 (0.8370)\tACC-->62.500% (62.500%)\n",
      "TRAIN: 63 [0/19125 (0%)]\tLoss: 0.836959, Accuracy: 5/8 (62.500%)\n",
      "TRAIN: LOSS-->0.1781 (0.4042)\tACC-->100.000% (81.343%)\n",
      "TRAIN: 63 [1600/19125 (8%)]\tLoss: 0.178084, Accuracy: 8/8 (100.000%)\n",
      "TRAIN: LOSS-->0.4292 (0.3948)\tACC-->87.500% (81.484%)\n",
      "TRAIN: 63 [3200/19125 (17%)]\tLoss: 0.429165, Accuracy: 7/8 (87.500%)\n",
      "TRAIN: LOSS-->0.4689 (0.4060)\tACC-->75.000% (80.720%)\n",
      "TRAIN: 63 [4800/19125 (25%)]\tLoss: 0.468934, Accuracy: 6/8 (75.000%)\n",
      "TRAIN: LOSS-->0.3923 (0.4128)\tACC-->62.500% (80.587%)\n",
      "TRAIN: 63 [6400/19125 (33%)]\tLoss: 0.392291, Accuracy: 5/8 (62.500%)\n",
      "TRAIN: LOSS-->0.3897 (0.4142)\tACC-->87.500% (80.445%)\n",
      "TRAIN: 63 [8000/19125 (42%)]\tLoss: 0.389650, Accuracy: 7/8 (87.500%)\n",
      "TRAIN: LOSS-->0.5227 (0.4159)\tACC-->75.000% (80.308%)\n",
      "TRAIN: 63 [9600/19125 (50%)]\tLoss: 0.522716, Accuracy: 6/8 (75.000%)\n",
      "TRAIN: LOSS-->0.4417 (0.4153)\tACC-->75.000% (80.086%)\n",
      "TRAIN: 63 [11200/19125 (59%)]\tLoss: 0.441736, Accuracy: 6/8 (75.000%)\n",
      "TRAIN: LOSS-->0.2871 (0.4137)\tACC-->100.000% (80.208%)\n",
      "TRAIN: 63 [12800/19125 (67%)]\tLoss: 0.287071, Accuracy: 8/8 (100.000%)\n",
      "TRAIN: LOSS-->0.5021 (0.4134)\tACC-->75.000% (80.192%)\n",
      "TRAIN: 63 [14400/19125 (75%)]\tLoss: 0.502102, Accuracy: 6/8 (75.000%)\n",
      "TRAIN: LOSS-->0.1110 (0.4129)\tACC-->100.000% (80.204%)\n",
      "TRAIN: 63 [16000/19125 (84%)]\tLoss: 0.111044, Accuracy: 8/8 (100.000%)\n",
      "TRAIN: LOSS-->0.7554 (0.4125)\tACC-->62.500% (80.236%)\n",
      "TRAIN: 63 [17600/19125 (92%)]\tLoss: 0.755373, Accuracy: 5/8 (62.500%)\n",
      "VAL:   LOSS--> 0.1024 (0.1024)\tACC-->100.000 (100.000)\n",
      "VAL:   LOSS--> 0.0221 (0.2228)\tACC-->100.000 (91.480)\n",
      "VAL:   LOSS--> 0.6402 (0.2258)\tACC-->75.000 (91.303)\n",
      " * Accuracy 91.2296\n"
     ]
    },
    {
     "name": "stderr",
     "output_type": "stream",
     "text": [
      "\r",
      " 43%|████████████████████████████████████████████████████████████▏                                                                                | 64/150 [2:28:09<3:19:05, 138.90s/it]"
     ]
    },
    {
     "name": "stdout",
     "output_type": "stream",
     "text": [
      "TRAIN: LOSS-->0.4367 (0.4367)\tACC-->62.500% (62.500%)\n",
      "TRAIN: 64 [0/19125 (0%)]\tLoss: 0.436729, Accuracy: 5/8 (62.500%)\n",
      "TRAIN: LOSS-->0.1278 (0.3923)\tACC-->100.000% (81.095%)\n",
      "TRAIN: 64 [1600/19125 (8%)]\tLoss: 0.127844, Accuracy: 8/8 (100.000%)\n",
      "TRAIN: LOSS-->0.3075 (0.4034)\tACC-->87.500% (80.299%)\n",
      "TRAIN: 64 [3200/19125 (17%)]\tLoss: 0.307477, Accuracy: 7/8 (87.500%)\n",
      "TRAIN: LOSS-->0.3654 (0.4101)\tACC-->75.000% (79.929%)\n",
      "TRAIN: 64 [4800/19125 (25%)]\tLoss: 0.365391, Accuracy: 6/8 (75.000%)\n",
      "TRAIN: LOSS-->0.2984 (0.4044)\tACC-->87.500% (80.431%)\n",
      "TRAIN: 64 [6400/19125 (33%)]\tLoss: 0.298400, Accuracy: 7/8 (87.500%)\n",
      "TRAIN: LOSS-->0.3014 (0.4065)\tACC-->75.000% (80.432%)\n",
      "TRAIN: 64 [8000/19125 (42%)]\tLoss: 0.301350, Accuracy: 6/8 (75.000%)\n",
      "TRAIN: LOSS-->0.2742 (0.4075)\tACC-->75.000% (80.173%)\n",
      "TRAIN: 64 [9600/19125 (50%)]\tLoss: 0.274242, Accuracy: 6/8 (75.000%)\n",
      "TRAIN: LOSS-->0.3268 (0.4071)\tACC-->87.500% (80.193%)\n",
      "TRAIN: 64 [11200/19125 (59%)]\tLoss: 0.326790, Accuracy: 7/8 (87.500%)\n",
      "TRAIN: LOSS-->0.5157 (0.4064)\tACC-->75.000% (80.192%)\n",
      "TRAIN: 64 [12800/19125 (67%)]\tLoss: 0.515670, Accuracy: 6/8 (75.000%)\n",
      "TRAIN: LOSS-->0.5451 (0.4077)\tACC-->62.500% (80.205%)\n",
      "TRAIN: 64 [14400/19125 (75%)]\tLoss: 0.545117, Accuracy: 5/8 (62.500%)\n",
      "TRAIN: LOSS-->0.1827 (0.4099)\tACC-->100.000% (80.035%)\n",
      "TRAIN: 64 [16000/19125 (84%)]\tLoss: 0.182741, Accuracy: 8/8 (100.000%)\n",
      "TRAIN: LOSS-->0.5671 (0.4118)\tACC-->62.500% (79.805%)\n",
      "TRAIN: 64 [17600/19125 (92%)]\tLoss: 0.567085, Accuracy: 5/8 (62.500%)\n",
      "VAL:   LOSS--> 0.4564 (0.4564)\tACC-->87.500 (87.500)\n",
      "VAL:   LOSS--> 0.2200 (0.2164)\tACC-->87.500 (91.542)\n",
      "VAL:   LOSS--> 0.0673 (0.2184)\tACC-->100.000 (91.428)\n",
      " * Accuracy 91.5556\n"
     ]
    },
    {
     "name": "stderr",
     "output_type": "stream",
     "text": [
      "\r",
      " 43%|█████████████████████████████████████████████████████████████                                                                                | 65/150 [2:30:27<3:16:44, 138.88s/it]"
     ]
    },
    {
     "name": "stdout",
     "output_type": "stream",
     "text": [
      "TRAIN: LOSS-->0.6013 (0.6013)\tACC-->62.500% (62.500%)\n",
      "TRAIN: 65 [0/19125 (0%)]\tLoss: 0.601289, Accuracy: 5/8 (62.500%)\n",
      "TRAIN: LOSS-->0.1421 (0.4113)\tACC-->100.000% (79.913%)\n",
      "TRAIN: 65 [1600/19125 (8%)]\tLoss: 0.142115, Accuracy: 8/8 (100.000%)\n",
      "TRAIN: LOSS-->0.1997 (0.4174)\tACC-->100.000% (79.520%)\n",
      "TRAIN: 65 [3200/19125 (17%)]\tLoss: 0.199699, Accuracy: 8/8 (100.000%)\n",
      "TRAIN: LOSS-->0.6196 (0.4137)\tACC-->62.500% (79.597%)\n",
      "TRAIN: 65 [4800/19125 (25%)]\tLoss: 0.619588, Accuracy: 5/8 (62.500%)\n",
      "TRAIN: LOSS-->0.2968 (0.4003)\tACC-->87.500% (80.462%)\n",
      "TRAIN: 65 [6400/19125 (33%)]\tLoss: 0.296759, Accuracy: 7/8 (87.500%)\n",
      "TRAIN: LOSS-->0.4671 (0.4035)\tACC-->75.000% (80.282%)\n",
      "TRAIN: 65 [8000/19125 (42%)]\tLoss: 0.467104, Accuracy: 6/8 (75.000%)\n",
      "TRAIN: LOSS-->0.3980 (0.3991)\tACC-->75.000% (80.443%)\n",
      "TRAIN: 65 [9600/19125 (50%)]\tLoss: 0.397984, Accuracy: 6/8 (75.000%)\n",
      "TRAIN: LOSS-->0.4077 (0.4046)\tACC-->87.500% (80.300%)\n",
      "TRAIN: 65 [11200/19125 (59%)]\tLoss: 0.407680, Accuracy: 7/8 (87.500%)\n",
      "TRAIN: LOSS-->0.3468 (0.4039)\tACC-->87.500% (80.497%)\n",
      "TRAIN: 65 [12800/19125 (67%)]\tLoss: 0.346846, Accuracy: 7/8 (87.500%)\n",
      "TRAIN: LOSS-->1.0130 (0.4050)\tACC-->50.000% (80.539%)\n",
      "TRAIN: 65 [14400/19125 (75%)]\tLoss: 1.012997, Accuracy: 4/8 (50.000%)\n",
      "TRAIN: LOSS-->0.7037 (0.4077)\tACC-->37.500% (80.354%)\n",
      "TRAIN: 65 [16000/19125 (84%)]\tLoss: 0.703678, Accuracy: 3/8 (37.500%)\n",
      "TRAIN: LOSS-->0.5509 (0.4081)\tACC-->75.000% (80.378%)\n",
      "TRAIN: 65 [17600/19125 (92%)]\tLoss: 0.550883, Accuracy: 6/8 (75.000%)\n",
      "VAL:   LOSS--> 0.1530 (0.1530)\tACC-->100.000 (100.000)\n",
      "VAL:   LOSS--> 0.3166 (0.2227)\tACC-->87.500 (90.920)\n",
      "VAL:   LOSS--> 0.1380 (0.2189)\tACC-->100.000 (91.365)\n",
      " * Accuracy 91.4370\n"
     ]
    },
    {
     "name": "stderr",
     "output_type": "stream",
     "text": [
      "\r",
      " 44%|██████████████████████████████████████████████████████████████                                                                               | 66/150 [2:32:44<3:14:24, 138.86s/it]"
     ]
    },
    {
     "name": "stdout",
     "output_type": "stream",
     "text": [
      "TRAIN: LOSS-->0.5174 (0.5174)\tACC-->62.500% (62.500%)\n",
      "TRAIN: 66 [0/19125 (0%)]\tLoss: 0.517409, Accuracy: 5/8 (62.500%)\n",
      "TRAIN: LOSS-->0.3453 (0.4230)\tACC-->75.000% (79.104%)\n",
      "TRAIN: 66 [1600/19125 (8%)]\tLoss: 0.345316, Accuracy: 6/8 (75.000%)\n",
      "TRAIN: LOSS-->0.4850 (0.4098)\tACC-->75.000% (79.707%)\n",
      "TRAIN: 66 [3200/19125 (17%)]\tLoss: 0.485009, Accuracy: 6/8 (75.000%)\n",
      "TRAIN: LOSS-->0.7184 (0.4118)\tACC-->62.500% (79.597%)\n",
      "TRAIN: 66 [4800/19125 (25%)]\tLoss: 0.718383, Accuracy: 5/8 (62.500%)\n",
      "TRAIN: LOSS-->0.3447 (0.4114)\tACC-->75.000% (79.572%)\n",
      "TRAIN: 66 [6400/19125 (33%)]\tLoss: 0.344712, Accuracy: 6/8 (75.000%)\n",
      "TRAIN: LOSS-->0.6848 (0.4109)\tACC-->75.000% (79.770%)\n",
      "TRAIN: 66 [8000/19125 (42%)]\tLoss: 0.684839, Accuracy: 6/8 (75.000%)\n",
      "TRAIN: LOSS-->0.5349 (0.4132)\tACC-->62.500% (79.704%)\n",
      "TRAIN: 66 [9600/19125 (50%)]\tLoss: 0.534862, Accuracy: 5/8 (62.500%)\n",
      "TRAIN: LOSS-->0.5981 (0.4175)\tACC-->62.500% (79.399%)\n",
      "TRAIN: 66 [11200/19125 (59%)]\tLoss: 0.598072, Accuracy: 5/8 (62.500%)\n",
      "TRAIN: LOSS-->0.1422 (0.4153)\tACC-->100.000% (79.606%)\n",
      "TRAIN: 66 [12800/19125 (67%)]\tLoss: 0.142202, Accuracy: 8/8 (100.000%)\n",
      "TRAIN: LOSS-->0.1481 (0.4127)\tACC-->100.000% (79.775%)\n",
      "TRAIN: 66 [14400/19125 (75%)]\tLoss: 0.148128, Accuracy: 8/8 (100.000%)\n",
      "TRAIN: LOSS-->0.3116 (0.4114)\tACC-->87.500% (79.873%)\n",
      "TRAIN: 66 [16000/19125 (84%)]\tLoss: 0.311628, Accuracy: 7/8 (87.500%)\n",
      "TRAIN: LOSS-->0.1843 (0.4104)\tACC-->100.000% (79.969%)\n",
      "TRAIN: 66 [17600/19125 (92%)]\tLoss: 0.184310, Accuracy: 8/8 (100.000%)\n",
      "VAL:   LOSS--> 0.0863 (0.0863)\tACC-->100.000 (100.000)\n",
      "VAL:   LOSS--> 0.7333 (0.2366)\tACC-->87.500 (91.542)\n",
      "VAL:   LOSS--> 0.1335 (0.2222)\tACC-->87.500 (91.708)\n",
      " * Accuracy 91.7630\n"
     ]
    },
    {
     "name": "stderr",
     "output_type": "stream",
     "text": [
      "\r",
      " 45%|██████████████████████████████████████████████████████████████▉                                                                              | 67/150 [2:35:02<3:12:03, 138.84s/it]"
     ]
    },
    {
     "name": "stdout",
     "output_type": "stream",
     "text": [
      "TRAIN: LOSS-->0.2540 (0.2540)\tACC-->100.000% (100.000%)\n",
      "TRAIN: 67 [0/19125 (0%)]\tLoss: 0.253984, Accuracy: 8/8 (100.000%)\n",
      "TRAIN: LOSS-->0.6579 (0.3991)\tACC-->87.500% (80.846%)\n",
      "TRAIN: 67 [1600/19125 (8%)]\tLoss: 0.657902, Accuracy: 7/8 (87.500%)\n",
      "TRAIN: LOSS-->0.4489 (0.3921)\tACC-->75.000% (80.642%)\n",
      "TRAIN: 67 [3200/19125 (17%)]\tLoss: 0.448929, Accuracy: 6/8 (75.000%)\n",
      "TRAIN: LOSS-->0.3247 (0.3954)\tACC-->75.000% (80.616%)\n",
      "TRAIN: 67 [4800/19125 (25%)]\tLoss: 0.324675, Accuracy: 6/8 (75.000%)\n",
      "TRAIN: LOSS-->0.2094 (0.4017)\tACC-->100.000% (80.228%)\n",
      "TRAIN: 67 [6400/19125 (33%)]\tLoss: 0.209376, Accuracy: 8/8 (100.000%)\n",
      "TRAIN: LOSS-->0.3167 (0.4039)\tACC-->100.000% (80.182%)\n",
      "TRAIN: 67 [8000/19125 (42%)]\tLoss: 0.316691, Accuracy: 8/8 (100.000%)\n",
      "TRAIN: LOSS-->0.4139 (0.4032)\tACC-->75.000% (80.173%)\n",
      "TRAIN: 67 [9600/19125 (50%)]\tLoss: 0.413881, Accuracy: 6/8 (75.000%)\n",
      "TRAIN: LOSS-->0.5303 (0.4032)\tACC-->75.000% (80.211%)\n",
      "TRAIN: 67 [11200/19125 (59%)]\tLoss: 0.530251, Accuracy: 6/8 (75.000%)\n",
      "TRAIN: LOSS-->0.4024 (0.4013)\tACC-->75.000% (80.426%)\n",
      "TRAIN: 67 [12800/19125 (67%)]\tLoss: 0.402444, Accuracy: 6/8 (75.000%)\n",
      "TRAIN: LOSS-->0.1912 (0.4032)\tACC-->100.000% (80.421%)\n",
      "TRAIN: 67 [14400/19125 (75%)]\tLoss: 0.191207, Accuracy: 8/8 (100.000%)\n",
      "TRAIN: LOSS-->0.3817 (0.4018)\tACC-->87.500% (80.372%)\n",
      "TRAIN: 67 [16000/19125 (84%)]\tLoss: 0.381664, Accuracy: 7/8 (87.500%)\n",
      "TRAIN: LOSS-->0.3378 (0.4040)\tACC-->100.000% (80.242%)\n",
      "TRAIN: 67 [17600/19125 (92%)]\tLoss: 0.337766, Accuracy: 8/8 (100.000%)\n",
      "VAL:   LOSS--> 0.2830 (0.2830)\tACC-->75.000 (75.000)\n",
      "VAL:   LOSS--> 0.3354 (0.2319)\tACC-->87.500 (90.796)\n",
      "VAL:   LOSS--> 0.1674 (0.2329)\tACC-->100.000 (90.835)\n",
      " * Accuracy 90.7852\n"
     ]
    },
    {
     "name": "stderr",
     "output_type": "stream",
     "text": [
      "\r",
      " 45%|███████████████████████████████████████████████████████████████▉                                                                             | 68/150 [2:37:20<3:09:43, 138.83s/it]"
     ]
    },
    {
     "name": "stdout",
     "output_type": "stream",
     "text": [
      "TRAIN: LOSS-->0.3538 (0.3538)\tACC-->87.500% (87.500%)\n",
      "TRAIN: 68 [0/19125 (0%)]\tLoss: 0.353836, Accuracy: 7/8 (87.500%)\n",
      "TRAIN: LOSS-->0.3286 (0.4250)\tACC-->87.500% (79.415%)\n",
      "TRAIN: 68 [1600/19125 (8%)]\tLoss: 0.328569, Accuracy: 7/8 (87.500%)\n",
      "TRAIN: LOSS-->0.3413 (0.4272)\tACC-->75.000% (79.271%)\n",
      "TRAIN: 68 [3200/19125 (17%)]\tLoss: 0.341272, Accuracy: 6/8 (75.000%)\n",
      "TRAIN: LOSS-->0.5179 (0.4236)\tACC-->75.000% (79.472%)\n",
      "TRAIN: 68 [4800/19125 (25%)]\tLoss: 0.517924, Accuracy: 6/8 (75.000%)\n",
      "TRAIN: LOSS-->0.3692 (0.4131)\tACC-->75.000% (79.978%)\n",
      "TRAIN: 68 [6400/19125 (33%)]\tLoss: 0.369200, Accuracy: 6/8 (75.000%)\n",
      "TRAIN: LOSS-->0.3201 (0.4094)\tACC-->87.500% (80.270%)\n",
      "TRAIN: 68 [8000/19125 (42%)]\tLoss: 0.320132, Accuracy: 7/8 (87.500%)\n",
      "TRAIN: LOSS-->0.1151 (0.4102)\tACC-->100.000% (80.173%)\n",
      "TRAIN: 68 [9600/19125 (50%)]\tLoss: 0.115076, Accuracy: 8/8 (100.000%)\n",
      "TRAIN: LOSS-->0.7111 (0.4101)\tACC-->62.500% (80.157%)\n",
      "TRAIN: 68 [11200/19125 (59%)]\tLoss: 0.711091, Accuracy: 5/8 (62.500%)\n",
      "TRAIN: LOSS-->0.1903 (0.4086)\tACC-->87.500% (80.091%)\n",
      "TRAIN: 68 [12800/19125 (67%)]\tLoss: 0.190299, Accuracy: 7/8 (87.500%)\n",
      "TRAIN: LOSS-->0.6004 (0.4097)\tACC-->50.000% (80.046%)\n",
      "TRAIN: 68 [14400/19125 (75%)]\tLoss: 0.600412, Accuracy: 4/8 (50.000%)\n",
      "TRAIN: LOSS-->0.2053 (0.4070)\tACC-->100.000% (80.166%)\n",
      "TRAIN: 68 [16000/19125 (84%)]\tLoss: 0.205335, Accuracy: 8/8 (100.000%)\n",
      "TRAIN: LOSS-->1.0291 (0.4048)\tACC-->50.000% (80.338%)\n",
      "TRAIN: 68 [17600/19125 (92%)]\tLoss: 1.029071, Accuracy: 4/8 (50.000%)\n",
      "VAL:   LOSS--> 0.2912 (0.2912)\tACC-->75.000 (75.000)\n",
      "VAL:   LOSS--> 0.4885 (0.2083)\tACC-->87.500 (91.480)\n",
      "VAL:   LOSS--> 0.1164 (0.2202)\tACC-->87.500 (91.241)\n",
      " * Accuracy 91.2000\n"
     ]
    },
    {
     "name": "stderr",
     "output_type": "stream",
     "text": [
      "\r",
      " 46%|████████████████████████████████████████████████████████████████▊                                                                            | 69/150 [2:39:38<3:07:23, 138.81s/it]"
     ]
    },
    {
     "name": "stdout",
     "output_type": "stream",
     "text": [
      "TRAIN: LOSS-->0.1475 (0.1475)\tACC-->100.000% (100.000%)\n",
      "TRAIN: 69 [0/19125 (0%)]\tLoss: 0.147527, Accuracy: 8/8 (100.000%)\n",
      "TRAIN: LOSS-->0.3148 (0.3838)\tACC-->75.000% (81.530%)\n",
      "TRAIN: 69 [1600/19125 (8%)]\tLoss: 0.314784, Accuracy: 6/8 (75.000%)\n",
      "TRAIN: LOSS-->0.5796 (0.3882)\tACC-->62.500% (81.297%)\n",
      "TRAIN: 69 [3200/19125 (17%)]\tLoss: 0.579588, Accuracy: 5/8 (62.500%)\n",
      "TRAIN: LOSS-->0.4207 (0.3963)\tACC-->75.000% (80.803%)\n",
      "TRAIN: 69 [4800/19125 (25%)]\tLoss: 0.420702, Accuracy: 6/8 (75.000%)\n",
      "TRAIN: LOSS-->0.4163 (0.4011)\tACC-->75.000% (80.665%)\n",
      "TRAIN: 69 [6400/19125 (33%)]\tLoss: 0.416285, Accuracy: 6/8 (75.000%)\n",
      "TRAIN: LOSS-->0.4835 (0.3974)\tACC-->62.500% (80.782%)\n",
      "TRAIN: 69 [8000/19125 (42%)]\tLoss: 0.483461, Accuracy: 5/8 (62.500%)\n",
      "TRAIN: LOSS-->0.3543 (0.3960)\tACC-->75.000% (80.839%)\n",
      "TRAIN: 69 [9600/19125 (50%)]\tLoss: 0.354292, Accuracy: 6/8 (75.000%)\n",
      "TRAIN: LOSS-->0.3433 (0.4013)\tACC-->87.500% (80.478%)\n",
      "TRAIN: 69 [11200/19125 (59%)]\tLoss: 0.343288, Accuracy: 7/8 (87.500%)\n",
      "TRAIN: LOSS-->0.4285 (0.4023)\tACC-->62.500% (80.528%)\n",
      "TRAIN: 69 [12800/19125 (67%)]\tLoss: 0.428511, Accuracy: 5/8 (62.500%)\n",
      "TRAIN: LOSS-->0.1908 (0.4022)\tACC-->100.000% (80.539%)\n",
      "TRAIN: 69 [14400/19125 (75%)]\tLoss: 0.190764, Accuracy: 8/8 (100.000%)\n",
      "TRAIN: LOSS-->0.4293 (0.4034)\tACC-->75.000% (80.385%)\n",
      "TRAIN: 69 [16000/19125 (84%)]\tLoss: 0.429303, Accuracy: 6/8 (75.000%)\n",
      "TRAIN: LOSS-->0.4283 (0.4055)\tACC-->75.000% (80.333%)\n",
      "TRAIN: 69 [17600/19125 (92%)]\tLoss: 0.428279, Accuracy: 6/8 (75.000%)\n",
      "VAL:   LOSS--> 0.4166 (0.4166)\tACC-->87.500 (87.500)\n",
      "VAL:   LOSS--> 0.0763 (0.2504)\tACC-->100.000 (90.423)\n",
      "VAL:   LOSS--> 0.7903 (0.2392)\tACC-->75.000 (90.773)\n",
      " * Accuracy 90.6667\n"
     ]
    },
    {
     "name": "stderr",
     "output_type": "stream",
     "text": [
      "\r",
      " 47%|█████████████████████████████████████████████████████████████████▊                                                                           | 70/150 [2:41:55<3:05:03, 138.80s/it]"
     ]
    },
    {
     "name": "stdout",
     "output_type": "stream",
     "text": [
      "TRAIN: LOSS-->0.2004 (0.2004)\tACC-->87.500% (87.500%)\n",
      "TRAIN: 70 [0/19125 (0%)]\tLoss: 0.200366, Accuracy: 7/8 (87.500%)\n",
      "TRAIN: LOSS-->0.3917 (0.4037)\tACC-->75.000% (81.654%)\n",
      "TRAIN: 70 [1600/19125 (8%)]\tLoss: 0.391699, Accuracy: 6/8 (75.000%)\n",
      "TRAIN: LOSS-->0.2599 (0.4093)\tACC-->87.500% (80.954%)\n",
      "TRAIN: 70 [3200/19125 (17%)]\tLoss: 0.259886, Accuracy: 7/8 (87.500%)\n",
      "TRAIN: LOSS-->0.2830 (0.4098)\tACC-->87.500% (81.156%)\n",
      "TRAIN: 70 [4800/19125 (25%)]\tLoss: 0.282960, Accuracy: 7/8 (87.500%)\n",
      "TRAIN: LOSS-->0.4979 (0.4081)\tACC-->62.500% (80.977%)\n",
      "TRAIN: 70 [6400/19125 (33%)]\tLoss: 0.497883, Accuracy: 5/8 (62.500%)\n",
      "TRAIN: LOSS-->0.3946 (0.4097)\tACC-->87.500% (80.594%)\n",
      "TRAIN: 70 [8000/19125 (42%)]\tLoss: 0.394588, Accuracy: 7/8 (87.500%)\n",
      "TRAIN: LOSS-->0.2099 (0.4063)\tACC-->87.500% (80.704%)\n",
      "TRAIN: 70 [9600/19125 (50%)]\tLoss: 0.209915, Accuracy: 7/8 (87.500%)\n",
      "TRAIN: LOSS-->1.0260 (0.4057)\tACC-->75.000% (80.541%)\n",
      "TRAIN: 70 [11200/19125 (59%)]\tLoss: 1.026042, Accuracy: 6/8 (75.000%)\n",
      "TRAIN: LOSS-->0.7043 (0.4076)\tACC-->62.500% (80.458%)\n",
      "TRAIN: 70 [12800/19125 (67%)]\tLoss: 0.704295, Accuracy: 5/8 (62.500%)\n",
      "TRAIN: LOSS-->0.4342 (0.4092)\tACC-->62.500% (80.303%)\n",
      "TRAIN: 70 [14400/19125 (75%)]\tLoss: 0.434167, Accuracy: 5/8 (62.500%)\n",
      "TRAIN: LOSS-->0.2995 (0.4094)\tACC-->100.000% (80.266%)\n",
      "TRAIN: 70 [16000/19125 (84%)]\tLoss: 0.299545, Accuracy: 8/8 (100.000%)\n",
      "TRAIN: LOSS-->0.4998 (0.4109)\tACC-->87.500% (80.214%)\n",
      "TRAIN: 70 [17600/19125 (92%)]\tLoss: 0.499830, Accuracy: 7/8 (87.500%)\n",
      "VAL:   LOSS--> 0.1284 (0.1284)\tACC-->100.000 (100.000)\n",
      "VAL:   LOSS--> 0.0193 (0.2289)\tACC-->100.000 (90.796)\n",
      "VAL:   LOSS--> 0.0845 (0.2286)\tACC-->100.000 (91.054)\n",
      " * Accuracy 91.2593\n"
     ]
    },
    {
     "name": "stderr",
     "output_type": "stream",
     "text": [
      "\r",
      " 47%|██████████████████████████████████████████████████████████████████▋                                                                          | 71/150 [2:44:13<3:02:44, 138.79s/it]"
     ]
    },
    {
     "name": "stdout",
     "output_type": "stream",
     "text": [
      "TRAIN: LOSS-->0.6270 (0.6270)\tACC-->75.000% (75.000%)\n",
      "TRAIN: 71 [0/19125 (0%)]\tLoss: 0.627048, Accuracy: 6/8 (75.000%)\n",
      "TRAIN: LOSS-->0.3035 (0.3980)\tACC-->87.500% (80.908%)\n",
      "TRAIN: 71 [1600/19125 (8%)]\tLoss: 0.303470, Accuracy: 7/8 (87.500%)\n",
      "TRAIN: LOSS-->0.4136 (0.3926)\tACC-->75.000% (81.484%)\n",
      "TRAIN: 71 [3200/19125 (17%)]\tLoss: 0.413580, Accuracy: 6/8 (75.000%)\n",
      "TRAIN: LOSS-->0.6276 (0.3964)\tACC-->50.000% (81.406%)\n",
      "TRAIN: 71 [4800/19125 (25%)]\tLoss: 0.627554, Accuracy: 4/8 (50.000%)\n",
      "TRAIN: LOSS-->0.3941 (0.3951)\tACC-->87.500% (81.227%)\n",
      "TRAIN: 71 [6400/19125 (33%)]\tLoss: 0.394085, Accuracy: 7/8 (87.500%)\n",
      "TRAIN: LOSS-->0.3232 (0.4020)\tACC-->75.000% (80.607%)\n",
      "TRAIN: 71 [8000/19125 (42%)]\tLoss: 0.323165, Accuracy: 6/8 (75.000%)\n",
      "TRAIN: LOSS-->0.2787 (0.4032)\tACC-->75.000% (80.433%)\n",
      "TRAIN: 71 [9600/19125 (50%)]\tLoss: 0.278712, Accuracy: 6/8 (75.000%)\n",
      "TRAIN: LOSS-->0.6655 (0.4019)\tACC-->75.000% (80.514%)\n",
      "TRAIN: 71 [11200/19125 (59%)]\tLoss: 0.665457, Accuracy: 6/8 (75.000%)\n",
      "TRAIN: LOSS-->0.3410 (0.4015)\tACC-->87.500% (80.543%)\n",
      "TRAIN: 71 [12800/19125 (67%)]\tLoss: 0.341025, Accuracy: 7/8 (87.500%)\n",
      "TRAIN: LOSS-->0.5858 (0.3990)\tACC-->62.500% (80.657%)\n",
      "TRAIN: 71 [14400/19125 (75%)]\tLoss: 0.585842, Accuracy: 5/8 (62.500%)\n",
      "TRAIN: LOSS-->0.4593 (0.3983)\tACC-->62.500% (80.678%)\n",
      "TRAIN: 71 [16000/19125 (84%)]\tLoss: 0.459268, Accuracy: 5/8 (62.500%)\n",
      "TRAIN: LOSS-->0.4638 (0.3999)\tACC-->75.000% (80.515%)\n",
      "TRAIN: 71 [17600/19125 (92%)]\tLoss: 0.463771, Accuracy: 6/8 (75.000%)\n",
      "VAL:   LOSS--> 0.1406 (0.1406)\tACC-->100.000 (100.000)\n",
      "VAL:   LOSS--> 0.3418 (0.2234)\tACC-->87.500 (91.107)\n",
      "VAL:   LOSS--> 0.7788 (0.2261)\tACC-->75.000 (91.334)\n",
      " * Accuracy 91.4074\n"
     ]
    },
    {
     "name": "stderr",
     "output_type": "stream",
     "text": [
      "\r",
      " 48%|███████████████████████████████████████████████████████████████████▋                                                                         | 72/150 [2:46:31<3:00:24, 138.78s/it]"
     ]
    },
    {
     "name": "stdout",
     "output_type": "stream",
     "text": [
      "TRAIN: LOSS-->0.6338 (0.6338)\tACC-->62.500% (62.500%)\n",
      "TRAIN: 72 [0/19125 (0%)]\tLoss: 0.633822, Accuracy: 5/8 (62.500%)\n",
      "TRAIN: LOSS-->0.5859 (0.4208)\tACC-->75.000% (78.234%)\n",
      "TRAIN: 72 [1600/19125 (8%)]\tLoss: 0.585940, Accuracy: 6/8 (75.000%)\n",
      "TRAIN: LOSS-->0.3410 (0.4089)\tACC-->75.000% (79.489%)\n",
      "TRAIN: 72 [3200/19125 (17%)]\tLoss: 0.340966, Accuracy: 6/8 (75.000%)\n",
      "TRAIN: LOSS-->0.2563 (0.4017)\tACC-->87.500% (79.992%)\n",
      "TRAIN: 72 [4800/19125 (25%)]\tLoss: 0.256326, Accuracy: 7/8 (87.500%)\n",
      "TRAIN: LOSS-->0.1933 (0.3996)\tACC-->100.000% (80.181%)\n",
      "TRAIN: 72 [6400/19125 (33%)]\tLoss: 0.193301, Accuracy: 8/8 (100.000%)\n",
      "TRAIN: LOSS-->0.4837 (0.4017)\tACC-->87.500% (80.070%)\n",
      "TRAIN: 72 [8000/19125 (42%)]\tLoss: 0.483664, Accuracy: 7/8 (87.500%)\n",
      "TRAIN: LOSS-->0.3142 (0.3974)\tACC-->87.500% (80.287%)\n",
      "TRAIN: 72 [9600/19125 (50%)]\tLoss: 0.314159, Accuracy: 7/8 (87.500%)\n",
      "TRAIN: LOSS-->0.4742 (0.3999)\tACC-->75.000% (80.273%)\n",
      "TRAIN: 72 [11200/19125 (59%)]\tLoss: 0.474222, Accuracy: 6/8 (75.000%)\n",
      "TRAIN: LOSS-->0.3472 (0.4002)\tACC-->75.000% (80.239%)\n",
      "TRAIN: 72 [12800/19125 (67%)]\tLoss: 0.347192, Accuracy: 6/8 (75.000%)\n",
      "TRAIN: LOSS-->0.4377 (0.3983)\tACC-->62.500% (80.275%)\n",
      "TRAIN: 72 [14400/19125 (75%)]\tLoss: 0.437740, Accuracy: 5/8 (62.500%)\n",
      "TRAIN: LOSS-->0.2071 (0.3984)\tACC-->87.500% (80.347%)\n",
      "TRAIN: 72 [16000/19125 (84%)]\tLoss: 0.207055, Accuracy: 7/8 (87.500%)\n",
      "TRAIN: LOSS-->0.2334 (0.4000)\tACC-->100.000% (80.310%)\n",
      "TRAIN: 72 [17600/19125 (92%)]\tLoss: 0.233363, Accuracy: 8/8 (100.000%)\n",
      "VAL:   LOSS--> 0.0504 (0.0504)\tACC-->100.000 (100.000)\n",
      "VAL:   LOSS--> 0.1235 (0.2099)\tACC-->87.500 (91.356)\n",
      "VAL:   LOSS--> 0.0358 (0.2017)\tACC-->100.000 (92.145)\n",
      " * Accuracy 91.9407\n"
     ]
    },
    {
     "name": "stderr",
     "output_type": "stream",
     "text": [
      "\r",
      " 49%|████████████████████████████████████████████████████████████████████▌                                                                        | 73/150 [2:48:49<2:58:04, 138.77s/it]"
     ]
    },
    {
     "name": "stdout",
     "output_type": "stream",
     "text": [
      "TRAIN: LOSS-->0.1682 (0.1682)\tACC-->100.000% (100.000%)\n",
      "TRAIN: 73 [0/19125 (0%)]\tLoss: 0.168227, Accuracy: 8/8 (100.000%)\n",
      "TRAIN: LOSS-->0.8353 (0.4211)\tACC-->62.500% (79.664%)\n",
      "TRAIN: 73 [1600/19125 (8%)]\tLoss: 0.835327, Accuracy: 5/8 (62.500%)\n",
      "TRAIN: LOSS-->0.2918 (0.4133)\tACC-->87.500% (80.112%)\n",
      "TRAIN: 73 [3200/19125 (17%)]\tLoss: 0.291834, Accuracy: 7/8 (87.500%)\n",
      "TRAIN: LOSS-->0.6304 (0.4007)\tACC-->62.500% (80.844%)\n",
      "TRAIN: 73 [4800/19125 (25%)]\tLoss: 0.630422, Accuracy: 5/8 (62.500%)\n",
      "TRAIN: LOSS-->0.3649 (0.4012)\tACC-->87.500% (80.478%)\n",
      "TRAIN: 73 [6400/19125 (33%)]\tLoss: 0.364862, Accuracy: 7/8 (87.500%)\n",
      "TRAIN: LOSS-->0.5752 (0.4026)\tACC-->75.000% (80.582%)\n",
      "TRAIN: 73 [8000/19125 (42%)]\tLoss: 0.575172, Accuracy: 6/8 (75.000%)\n",
      "TRAIN: LOSS-->0.2133 (0.4014)\tACC-->100.000% (80.631%)\n",
      "TRAIN: 73 [9600/19125 (50%)]\tLoss: 0.213272, Accuracy: 8/8 (100.000%)\n",
      "TRAIN: LOSS-->0.3265 (0.3998)\tACC-->87.500% (80.755%)\n",
      "TRAIN: 73 [11200/19125 (59%)]\tLoss: 0.326463, Accuracy: 7/8 (87.500%)\n",
      "TRAIN: LOSS-->0.2470 (0.4006)\tACC-->100.000% (80.676%)\n",
      "TRAIN: 73 [12800/19125 (67%)]\tLoss: 0.246988, Accuracy: 8/8 (100.000%)\n",
      "TRAIN: LOSS-->0.2783 (0.4010)\tACC-->87.500% (80.691%)\n",
      "TRAIN: 73 [14400/19125 (75%)]\tLoss: 0.278298, Accuracy: 7/8 (87.500%)\n",
      "TRAIN: LOSS-->0.3973 (0.4021)\tACC-->87.500% (80.635%)\n",
      "TRAIN: 73 [16000/19125 (84%)]\tLoss: 0.397262, Accuracy: 7/8 (87.500%)\n",
      "TRAIN: LOSS-->0.8963 (0.4014)\tACC-->75.000% (80.651%)\n",
      "TRAIN: 73 [17600/19125 (92%)]\tLoss: 0.896289, Accuracy: 6/8 (75.000%)\n",
      "VAL:   LOSS--> 0.0994 (0.0994)\tACC-->100.000 (100.000)\n",
      "VAL:   LOSS--> 0.0481 (0.2510)\tACC-->100.000 (88.806)\n",
      "VAL:   LOSS--> 0.3373 (0.2561)\tACC-->75.000 (89.183)\n",
      " * Accuracy 89.5407\n"
     ]
    },
    {
     "name": "stderr",
     "output_type": "stream",
     "text": [
      "\r",
      " 49%|█████████████████████████████████████████████████████████████████████▌                                                                       | 74/150 [2:51:07<2:55:45, 138.75s/it]"
     ]
    },
    {
     "name": "stdout",
     "output_type": "stream",
     "text": [
      "TRAIN: LOSS-->0.2331 (0.2331)\tACC-->100.000% (100.000%)\n",
      "TRAIN: 74 [0/19125 (0%)]\tLoss: 0.233067, Accuracy: 8/8 (100.000%)\n",
      "TRAIN: LOSS-->0.6787 (0.3991)\tACC-->62.500% (80.970%)\n",
      "TRAIN: 74 [1600/19125 (8%)]\tLoss: 0.678654, Accuracy: 5/8 (62.500%)\n",
      "TRAIN: LOSS-->0.3829 (0.3971)\tACC-->75.000% (81.297%)\n",
      "TRAIN: 74 [3200/19125 (17%)]\tLoss: 0.382876, Accuracy: 6/8 (75.000%)\n",
      "TRAIN: LOSS-->0.3848 (0.3913)\tACC-->87.500% (81.011%)\n",
      "TRAIN: 74 [4800/19125 (25%)]\tLoss: 0.384761, Accuracy: 7/8 (87.500%)\n",
      "TRAIN: LOSS-->0.2969 (0.3945)\tACC-->75.000% (81.055%)\n",
      "TRAIN: 74 [6400/19125 (33%)]\tLoss: 0.296915, Accuracy: 6/8 (75.000%)\n",
      "TRAIN: LOSS-->0.2119 (0.3949)\tACC-->87.500% (81.144%)\n",
      "TRAIN: 74 [8000/19125 (42%)]\tLoss: 0.211868, Accuracy: 7/8 (87.500%)\n",
      "TRAIN: LOSS-->0.3350 (0.3983)\tACC-->87.500% (80.943%)\n",
      "TRAIN: 74 [9600/19125 (50%)]\tLoss: 0.334999, Accuracy: 7/8 (87.500%)\n",
      "TRAIN: LOSS-->0.1945 (0.3978)\tACC-->87.500% (80.898%)\n",
      "TRAIN: 74 [11200/19125 (59%)]\tLoss: 0.194541, Accuracy: 7/8 (87.500%)\n",
      "TRAIN: LOSS-->0.4344 (0.3973)\tACC-->75.000% (80.817%)\n",
      "TRAIN: 74 [12800/19125 (67%)]\tLoss: 0.434377, Accuracy: 6/8 (75.000%)\n",
      "TRAIN: LOSS-->0.2837 (0.3952)\tACC-->87.500% (81.011%)\n",
      "TRAIN: 74 [14400/19125 (75%)]\tLoss: 0.283673, Accuracy: 7/8 (87.500%)\n",
      "TRAIN: LOSS-->0.3562 (0.3948)\tACC-->87.500% (81.141%)\n",
      "TRAIN: 74 [16000/19125 (84%)]\tLoss: 0.356158, Accuracy: 7/8 (87.500%)\n",
      "TRAIN: LOSS-->0.1034 (0.3949)\tACC-->100.000% (81.088%)\n",
      "TRAIN: 74 [17600/19125 (92%)]\tLoss: 0.103400, Accuracy: 8/8 (100.000%)\n",
      "VAL:   LOSS--> 0.0840 (0.0840)\tACC-->100.000 (100.000)\n",
      "VAL:   LOSS--> 0.3281 (0.2132)\tACC-->75.000 (91.604)\n",
      "VAL:   LOSS--> 0.1826 (0.2221)\tACC-->87.500 (91.178)\n",
      " * Accuracy 91.1704\n"
     ]
    },
    {
     "name": "stderr",
     "output_type": "stream",
     "text": [
      "\r",
      " 50%|██████████████████████████████████████████████████████████████████████▌                                                                      | 75/150 [2:53:25<2:53:25, 138.74s/it]"
     ]
    },
    {
     "name": "stdout",
     "output_type": "stream",
     "text": [
      "TRAIN: LOSS-->0.4354 (0.4354)\tACC-->87.500% (87.500%)\n",
      "TRAIN: 75 [0/19125 (0%)]\tLoss: 0.435422, Accuracy: 7/8 (87.500%)\n",
      "TRAIN: LOSS-->0.4904 (0.4167)\tACC-->50.000% (79.291%)\n",
      "TRAIN: 75 [1600/19125 (8%)]\tLoss: 0.490373, Accuracy: 4/8 (50.000%)\n",
      "TRAIN: LOSS-->0.3919 (0.4017)\tACC-->87.500% (80.642%)\n",
      "TRAIN: 75 [3200/19125 (17%)]\tLoss: 0.391865, Accuracy: 7/8 (87.500%)\n",
      "TRAIN: LOSS-->0.4510 (0.3991)\tACC-->62.500% (80.844%)\n",
      "TRAIN: 75 [4800/19125 (25%)]\tLoss: 0.451020, Accuracy: 5/8 (62.500%)\n",
      "TRAIN: LOSS-->1.3114 (0.3970)\tACC-->50.000% (80.946%)\n",
      "TRAIN: 75 [6400/19125 (33%)]\tLoss: 1.311358, Accuracy: 4/8 (50.000%)\n",
      "TRAIN: LOSS-->0.2250 (0.3993)\tACC-->87.500% (80.707%)\n",
      "TRAIN: 75 [8000/19125 (42%)]\tLoss: 0.225023, Accuracy: 7/8 (87.500%)\n",
      "TRAIN: LOSS-->0.5337 (0.3971)\tACC-->62.500% (81.026%)\n",
      "TRAIN: 75 [9600/19125 (50%)]\tLoss: 0.533749, Accuracy: 5/8 (62.500%)\n",
      "TRAIN: LOSS-->0.3380 (0.4018)\tACC-->87.500% (80.764%)\n",
      "TRAIN: 75 [11200/19125 (59%)]\tLoss: 0.338044, Accuracy: 7/8 (87.500%)\n",
      "TRAIN: LOSS-->0.4034 (0.4029)\tACC-->87.500% (80.770%)\n",
      "TRAIN: 75 [12800/19125 (67%)]\tLoss: 0.403370, Accuracy: 7/8 (87.500%)\n",
      "TRAIN: LOSS-->0.4378 (0.4028)\tACC-->87.500% (80.830%)\n",
      "TRAIN: 75 [14400/19125 (75%)]\tLoss: 0.437814, Accuracy: 7/8 (87.500%)\n",
      "TRAIN: LOSS-->0.2339 (0.4017)\tACC-->87.500% (80.810%)\n",
      "TRAIN: 75 [16000/19125 (84%)]\tLoss: 0.233873, Accuracy: 7/8 (87.500%)\n",
      "TRAIN: LOSS-->0.2948 (0.4009)\tACC-->100.000% (80.855%)\n",
      "TRAIN: 75 [17600/19125 (92%)]\tLoss: 0.294814, Accuracy: 8/8 (100.000%)\n",
      "VAL:   LOSS--> 0.1822 (0.1822)\tACC-->87.500 (87.500)\n",
      "VAL:   LOSS--> 0.0532 (0.2613)\tACC-->100.000 (88.682)\n",
      "VAL:   LOSS--> 0.2001 (0.2484)\tACC-->87.500 (89.246)\n",
      " * Accuracy 89.2148\n"
     ]
    },
    {
     "name": "stderr",
     "output_type": "stream",
     "text": [
      "\r",
      " 51%|███████████████████████████████████████████████████████████████████████▍                                                                     | 76/150 [2:55:44<2:51:06, 138.74s/it]"
     ]
    },
    {
     "name": "stdout",
     "output_type": "stream",
     "text": [
      "TRAIN: LOSS-->0.6242 (0.6242)\tACC-->75.000% (75.000%)\n",
      "TRAIN: 76 [0/19125 (0%)]\tLoss: 0.624200, Accuracy: 6/8 (75.000%)\n",
      "TRAIN: LOSS-->0.6274 (0.4111)\tACC-->50.000% (79.415%)\n",
      "TRAIN: 76 [1600/19125 (8%)]\tLoss: 0.627364, Accuracy: 4/8 (50.000%)\n",
      "TRAIN: LOSS-->0.2057 (0.4115)\tACC-->87.500% (79.302%)\n",
      "TRAIN: 76 [3200/19125 (17%)]\tLoss: 0.205746, Accuracy: 7/8 (87.500%)\n",
      "TRAIN: LOSS-->0.2437 (0.4040)\tACC-->100.000% (79.825%)\n",
      "TRAIN: 76 [4800/19125 (25%)]\tLoss: 0.243680, Accuracy: 8/8 (100.000%)\n",
      "TRAIN: LOSS-->0.4324 (0.4035)\tACC-->87.500% (80.041%)\n",
      "TRAIN: 76 [6400/19125 (33%)]\tLoss: 0.432362, Accuracy: 7/8 (87.500%)\n",
      "TRAIN: LOSS-->0.5174 (0.4028)\tACC-->75.000% (80.070%)\n",
      "TRAIN: 76 [8000/19125 (42%)]\tLoss: 0.517432, Accuracy: 6/8 (75.000%)\n",
      "TRAIN: LOSS-->0.3954 (0.4044)\tACC-->75.000% (79.975%)\n",
      "TRAIN: 76 [9600/19125 (50%)]\tLoss: 0.395354, Accuracy: 6/8 (75.000%)\n",
      "TRAIN: LOSS-->0.1016 (0.4035)\tACC-->100.000% (80.202%)\n",
      "TRAIN: 76 [11200/19125 (59%)]\tLoss: 0.101572, Accuracy: 8/8 (100.000%)\n",
      "TRAIN: LOSS-->0.2968 (0.4005)\tACC-->87.500% (80.442%)\n",
      "TRAIN: 76 [12800/19125 (67%)]\tLoss: 0.296755, Accuracy: 7/8 (87.500%)\n",
      "TRAIN: LOSS-->0.3767 (0.4003)\tACC-->87.500% (80.539%)\n",
      "TRAIN: 76 [14400/19125 (75%)]\tLoss: 0.376672, Accuracy: 7/8 (87.500%)\n",
      "TRAIN: LOSS-->0.2133 (0.3996)\tACC-->100.000% (80.528%)\n",
      "TRAIN: 76 [16000/19125 (84%)]\tLoss: 0.213260, Accuracy: 8/8 (100.000%)\n",
      "TRAIN: LOSS-->0.2527 (0.3987)\tACC-->87.500% (80.554%)\n",
      "TRAIN: 76 [17600/19125 (92%)]\tLoss: 0.252701, Accuracy: 7/8 (87.500%)\n",
      "VAL:   LOSS--> 0.3977 (0.3977)\tACC-->75.000 (75.000)\n",
      "VAL:   LOSS--> 0.1304 (0.2273)\tACC-->100.000 (91.045)\n",
      "VAL:   LOSS--> 0.5044 (0.2227)\tACC-->87.500 (91.178)\n",
      " * Accuracy 90.9630\n"
     ]
    },
    {
     "name": "stderr",
     "output_type": "stream",
     "text": [
      "\r",
      " 51%|████████████████████████████████████████████████████████████████████████▍                                                                    | 77/150 [2:58:01<2:48:46, 138.73s/it]"
     ]
    },
    {
     "name": "stdout",
     "output_type": "stream",
     "text": [
      "TRAIN: LOSS-->0.5902 (0.5902)\tACC-->87.500% (87.500%)\n",
      "TRAIN: 77 [0/19125 (0%)]\tLoss: 0.590154, Accuracy: 7/8 (87.500%)\n",
      "TRAIN: LOSS-->0.4147 (0.3934)\tACC-->75.000% (82.276%)\n",
      "TRAIN: 77 [1600/19125 (8%)]\tLoss: 0.414710, Accuracy: 6/8 (75.000%)\n",
      "TRAIN: LOSS-->0.2279 (0.3896)\tACC-->100.000% (81.640%)\n",
      "TRAIN: 77 [3200/19125 (17%)]\tLoss: 0.227908, Accuracy: 8/8 (100.000%)\n",
      "TRAIN: LOSS-->0.2195 (0.3933)\tACC-->100.000% (81.240%)\n",
      "TRAIN: 77 [4800/19125 (25%)]\tLoss: 0.219544, Accuracy: 8/8 (100.000%)\n",
      "TRAIN: LOSS-->0.6271 (0.3990)\tACC-->62.500% (80.899%)\n",
      "TRAIN: 77 [6400/19125 (33%)]\tLoss: 0.627133, Accuracy: 5/8 (62.500%)\n",
      "TRAIN: LOSS-->0.1585 (0.3982)\tACC-->87.500% (80.857%)\n",
      "TRAIN: 77 [8000/19125 (42%)]\tLoss: 0.158528, Accuracy: 7/8 (87.500%)\n",
      "TRAIN: LOSS-->0.2680 (0.3995)\tACC-->87.500% (80.735%)\n",
      "TRAIN: 77 [9600/19125 (50%)]\tLoss: 0.268005, Accuracy: 7/8 (87.500%)\n",
      "TRAIN: LOSS-->0.1668 (0.3994)\tACC-->100.000% (80.648%)\n",
      "TRAIN: 77 [11200/19125 (59%)]\tLoss: 0.166806, Accuracy: 8/8 (100.000%)\n",
      "TRAIN: LOSS-->0.3205 (0.3985)\tACC-->87.500% (80.754%)\n",
      "TRAIN: 77 [12800/19125 (67%)]\tLoss: 0.320462, Accuracy: 7/8 (87.500%)\n",
      "TRAIN: LOSS-->0.4974 (0.3954)\tACC-->75.000% (80.844%)\n",
      "TRAIN: 77 [14400/19125 (75%)]\tLoss: 0.497445, Accuracy: 6/8 (75.000%)\n",
      "TRAIN: LOSS-->0.7841 (0.3957)\tACC-->50.000% (80.860%)\n",
      "TRAIN: 77 [16000/19125 (84%)]\tLoss: 0.784071, Accuracy: 4/8 (50.000%)\n",
      "TRAIN: LOSS-->0.7717 (0.3954)\tACC-->50.000% (80.850%)\n",
      "TRAIN: 77 [17600/19125 (92%)]\tLoss: 0.771672, Accuracy: 4/8 (50.000%)\n",
      "VAL:   LOSS--> 0.0503 (0.0503)\tACC-->100.000 (100.000)\n",
      "VAL:   LOSS--> 0.2595 (0.2220)\tACC-->87.500 (91.604)\n",
      "VAL:   LOSS--> 0.1610 (0.2222)\tACC-->100.000 (90.898)\n",
      " * Accuracy 90.8444\n"
     ]
    },
    {
     "name": "stderr",
     "output_type": "stream",
     "text": [
      "\r",
      " 52%|█████████████████████████████████████████████████████████████████████████▎                                                                   | 78/150 [3:00:19<2:46:27, 138.71s/it]"
     ]
    },
    {
     "name": "stdout",
     "output_type": "stream",
     "text": [
      "TRAIN: LOSS-->0.6960 (0.6960)\tACC-->62.500% (62.500%)\n",
      "TRAIN: 78 [0/19125 (0%)]\tLoss: 0.696040, Accuracy: 5/8 (62.500%)\n",
      "TRAIN: LOSS-->0.2138 (0.4115)\tACC-->87.500% (79.789%)\n",
      "TRAIN: 78 [1600/19125 (8%)]\tLoss: 0.213808, Accuracy: 7/8 (87.500%)\n",
      "TRAIN: LOSS-->0.3644 (0.4090)\tACC-->62.500% (79.925%)\n",
      "TRAIN: 78 [3200/19125 (17%)]\tLoss: 0.364395, Accuracy: 5/8 (62.500%)\n",
      "TRAIN: LOSS-->0.2322 (0.4030)\tACC-->87.500% (80.532%)\n",
      "TRAIN: 78 [4800/19125 (25%)]\tLoss: 0.232219, Accuracy: 7/8 (87.500%)\n",
      "TRAIN: LOSS-->0.1227 (0.4019)\tACC-->100.000% (80.337%)\n",
      "TRAIN: 78 [6400/19125 (33%)]\tLoss: 0.122698, Accuracy: 8/8 (100.000%)\n",
      "TRAIN: LOSS-->0.3361 (0.4044)\tACC-->87.500% (80.370%)\n",
      "TRAIN: 78 [8000/19125 (42%)]\tLoss: 0.336072, Accuracy: 7/8 (87.500%)\n",
      "TRAIN: LOSS-->0.5936 (0.4048)\tACC-->75.000% (80.371%)\n",
      "TRAIN: 78 [9600/19125 (50%)]\tLoss: 0.593589, Accuracy: 6/8 (75.000%)\n",
      "TRAIN: LOSS-->0.2912 (0.4045)\tACC-->87.500% (80.309%)\n",
      "TRAIN: 78 [11200/19125 (59%)]\tLoss: 0.291183, Accuracy: 7/8 (87.500%)\n",
      "TRAIN: LOSS-->0.2183 (0.4011)\tACC-->87.500% (80.504%)\n",
      "TRAIN: 78 [12800/19125 (67%)]\tLoss: 0.218337, Accuracy: 7/8 (87.500%)\n",
      "TRAIN: LOSS-->0.2703 (0.4020)\tACC-->87.500% (80.400%)\n",
      "TRAIN: 78 [14400/19125 (75%)]\tLoss: 0.270277, Accuracy: 7/8 (87.500%)\n",
      "TRAIN: LOSS-->0.0923 (0.4029)\tACC-->100.000% (80.404%)\n",
      "TRAIN: 78 [16000/19125 (84%)]\tLoss: 0.092267, Accuracy: 8/8 (100.000%)\n",
      "TRAIN: LOSS-->0.8022 (0.4000)\tACC-->50.000% (80.520%)\n",
      "TRAIN: 78 [17600/19125 (92%)]\tLoss: 0.802246, Accuracy: 4/8 (50.000%)\n",
      "VAL:   LOSS--> 0.2953 (0.2953)\tACC-->87.500 (87.500)\n",
      "VAL:   LOSS--> 0.0413 (0.1878)\tACC-->100.000 (92.289)\n",
      "VAL:   LOSS--> 0.2335 (0.1962)\tACC-->87.500 (92.550)\n",
      " * Accuracy 92.6519\n"
     ]
    },
    {
     "name": "stderr",
     "output_type": "stream",
     "text": [
      "\r",
      " 53%|██████████████████████████████████████████████████████████████████████████▎                                                                  | 79/150 [3:02:37<2:44:07, 138.70s/it]"
     ]
    },
    {
     "name": "stdout",
     "output_type": "stream",
     "text": [
      "TRAIN: LOSS-->0.8433 (0.8433)\tACC-->37.500% (37.500%)\n",
      "TRAIN: 79 [0/19125 (0%)]\tLoss: 0.843283, Accuracy: 3/8 (37.500%)\n",
      "TRAIN: LOSS-->0.1553 (0.3927)\tACC-->87.500% (80.410%)\n",
      "TRAIN: 79 [1600/19125 (8%)]\tLoss: 0.155268, Accuracy: 7/8 (87.500%)\n",
      "TRAIN: LOSS-->0.2850 (0.3945)\tACC-->100.000% (80.611%)\n",
      "TRAIN: 79 [3200/19125 (17%)]\tLoss: 0.284954, Accuracy: 8/8 (100.000%)\n",
      "TRAIN: LOSS-->0.2918 (0.4106)\tACC-->100.000% (79.992%)\n",
      "TRAIN: 79 [4800/19125 (25%)]\tLoss: 0.291840, Accuracy: 8/8 (100.000%)\n",
      "TRAIN: LOSS-->0.3383 (0.4050)\tACC-->75.000% (80.368%)\n",
      "TRAIN: 79 [6400/19125 (33%)]\tLoss: 0.338303, Accuracy: 6/8 (75.000%)\n",
      "TRAIN: LOSS-->0.1107 (0.4020)\tACC-->87.500% (80.445%)\n",
      "TRAIN: 79 [8000/19125 (42%)]\tLoss: 0.110705, Accuracy: 7/8 (87.500%)\n",
      "TRAIN: LOSS-->0.2536 (0.3978)\tACC-->100.000% (80.693%)\n",
      "TRAIN: 79 [9600/19125 (50%)]\tLoss: 0.253582, Accuracy: 8/8 (100.000%)\n",
      "TRAIN: LOSS-->0.1531 (0.3970)\tACC-->100.000% (80.826%)\n",
      "TRAIN: 79 [11200/19125 (59%)]\tLoss: 0.153125, Accuracy: 8/8 (100.000%)\n",
      "TRAIN: LOSS-->0.2687 (0.3955)\tACC-->100.000% (81.012%)\n",
      "TRAIN: 79 [12800/19125 (67%)]\tLoss: 0.268743, Accuracy: 8/8 (100.000%)\n",
      "TRAIN: LOSS-->0.4814 (0.3947)\tACC-->75.000% (81.094%)\n",
      "TRAIN: 79 [14400/19125 (75%)]\tLoss: 0.481415, Accuracy: 6/8 (75.000%)\n",
      "TRAIN: LOSS-->0.1764 (0.3944)\tACC-->100.000% (81.084%)\n",
      "TRAIN: 79 [16000/19125 (84%)]\tLoss: 0.176423, Accuracy: 8/8 (100.000%)\n",
      "TRAIN: LOSS-->0.3628 (0.3928)\tACC-->87.500% (81.219%)\n",
      "TRAIN: 79 [17600/19125 (92%)]\tLoss: 0.362766, Accuracy: 7/8 (87.500%)\n",
      "VAL:   LOSS--> 0.0614 (0.0614)\tACC-->100.000 (100.000)\n",
      "VAL:   LOSS--> 0.3058 (0.2102)\tACC-->87.500 (91.480)\n",
      "VAL:   LOSS--> 0.6677 (0.2174)\tACC-->62.500 (91.552)\n",
      " * Accuracy 91.6444\n"
     ]
    },
    {
     "name": "stderr",
     "output_type": "stream",
     "text": [
      "\r",
      " 53%|███████████████████████████████████████████████████████████████████████████▏                                                                 | 80/150 [3:04:55<2:41:48, 138.69s/it]"
     ]
    },
    {
     "name": "stdout",
     "output_type": "stream",
     "text": [
      "TRAIN: LOSS-->0.4465 (0.4465)\tACC-->87.500% (87.500%)\n",
      "TRAIN: 80 [0/19125 (0%)]\tLoss: 0.446516, Accuracy: 7/8 (87.500%)\n",
      "TRAIN: LOSS-->0.4829 (0.3902)\tACC-->75.000% (80.410%)\n",
      "TRAIN: 80 [1600/19125 (8%)]\tLoss: 0.482861, Accuracy: 6/8 (75.000%)\n",
      "TRAIN: LOSS-->0.4533 (0.3937)\tACC-->62.500% (80.673%)\n",
      "TRAIN: 80 [3200/19125 (17%)]\tLoss: 0.453333, Accuracy: 5/8 (62.500%)\n",
      "TRAIN: LOSS-->0.1393 (0.3958)\tACC-->100.000% (80.761%)\n",
      "TRAIN: 80 [4800/19125 (25%)]\tLoss: 0.139317, Accuracy: 8/8 (100.000%)\n",
      "TRAIN: LOSS-->0.6163 (0.3959)\tACC-->62.500% (80.649%)\n",
      "TRAIN: 80 [6400/19125 (33%)]\tLoss: 0.616328, Accuracy: 5/8 (62.500%)\n",
      "TRAIN: LOSS-->0.4276 (0.3924)\tACC-->87.500% (81.106%)\n",
      "TRAIN: 80 [8000/19125 (42%)]\tLoss: 0.427562, Accuracy: 7/8 (87.500%)\n",
      "TRAIN: LOSS-->0.2394 (0.3907)\tACC-->100.000% (81.328%)\n",
      "TRAIN: 80 [9600/19125 (50%)]\tLoss: 0.239422, Accuracy: 8/8 (100.000%)\n",
      "TRAIN: LOSS-->0.5847 (0.3907)\tACC-->75.000% (81.299%)\n",
      "TRAIN: 80 [11200/19125 (59%)]\tLoss: 0.584693, Accuracy: 6/8 (75.000%)\n",
      "TRAIN: LOSS-->0.8211 (0.3933)\tACC-->62.500% (80.942%)\n",
      "TRAIN: 80 [12800/19125 (67%)]\tLoss: 0.821079, Accuracy: 5/8 (62.500%)\n",
      "TRAIN: LOSS-->0.6935 (0.3926)\tACC-->62.500% (81.122%)\n",
      "TRAIN: 80 [14400/19125 (75%)]\tLoss: 0.693538, Accuracy: 5/8 (62.500%)\n",
      "TRAIN: LOSS-->0.2741 (0.3931)\tACC-->87.500% (81.122%)\n",
      "TRAIN: 80 [16000/19125 (84%)]\tLoss: 0.274147, Accuracy: 7/8 (87.500%)\n",
      "TRAIN: LOSS-->0.5850 (0.3926)\tACC-->62.500% (81.185%)\n",
      "TRAIN: 80 [17600/19125 (92%)]\tLoss: 0.585032, Accuracy: 5/8 (62.500%)\n",
      "VAL:   LOSS--> 0.1522 (0.1522)\tACC-->100.000 (100.000)\n",
      "VAL:   LOSS--> 0.0903 (0.2157)\tACC-->100.000 (91.107)\n",
      "VAL:   LOSS--> 0.1622 (0.2342)\tACC-->100.000 (90.368)\n",
      " * Accuracy 90.5185\n"
     ]
    },
    {
     "name": "stderr",
     "output_type": "stream",
     "text": [
      "\r",
      " 54%|████████████████████████████████████████████████████████████████████████████▏                                                                | 81/150 [3:07:12<2:39:28, 138.68s/it]"
     ]
    },
    {
     "name": "stdout",
     "output_type": "stream",
     "text": [
      "TRAIN: LOSS-->0.2327 (0.2327)\tACC-->87.500% (87.500%)\n",
      "TRAIN: 81 [0/19125 (0%)]\tLoss: 0.232716, Accuracy: 7/8 (87.500%)\n",
      "TRAIN: LOSS-->0.3211 (0.3849)\tACC-->87.500% (81.965%)\n",
      "TRAIN: 81 [1600/19125 (8%)]\tLoss: 0.321133, Accuracy: 7/8 (87.500%)\n",
      "TRAIN: LOSS-->0.7591 (0.3784)\tACC-->62.500% (82.294%)\n",
      "TRAIN: 81 [3200/19125 (17%)]\tLoss: 0.759118, Accuracy: 5/8 (62.500%)\n",
      "TRAIN: LOSS-->0.7255 (0.3787)\tACC-->62.500% (81.926%)\n",
      "TRAIN: 81 [4800/19125 (25%)]\tLoss: 0.725501, Accuracy: 5/8 (62.500%)\n",
      "TRAIN: LOSS-->0.3998 (0.3778)\tACC-->87.500% (81.835%)\n",
      "TRAIN: 81 [6400/19125 (33%)]\tLoss: 0.399850, Accuracy: 7/8 (87.500%)\n",
      "TRAIN: LOSS-->0.2738 (0.3828)\tACC-->75.000% (81.618%)\n",
      "TRAIN: 81 [8000/19125 (42%)]\tLoss: 0.273799, Accuracy: 6/8 (75.000%)\n",
      "TRAIN: LOSS-->0.2823 (0.3864)\tACC-->87.500% (81.338%)\n",
      "TRAIN: 81 [9600/19125 (50%)]\tLoss: 0.282297, Accuracy: 7/8 (87.500%)\n",
      "TRAIN: LOSS-->0.5807 (0.3862)\tACC-->75.000% (81.281%)\n",
      "TRAIN: 81 [11200/19125 (59%)]\tLoss: 0.580697, Accuracy: 6/8 (75.000%)\n",
      "TRAIN: LOSS-->0.4546 (0.3848)\tACC-->75.000% (81.449%)\n",
      "TRAIN: 81 [12800/19125 (67%)]\tLoss: 0.454636, Accuracy: 6/8 (75.000%)\n",
      "TRAIN: LOSS-->0.2768 (0.3839)\tACC-->100.000% (81.469%)\n",
      "TRAIN: 81 [14400/19125 (75%)]\tLoss: 0.276799, Accuracy: 8/8 (100.000%)\n",
      "TRAIN: LOSS-->0.4964 (0.3866)\tACC-->75.000% (81.303%)\n",
      "TRAIN: 81 [16000/19125 (84%)]\tLoss: 0.496432, Accuracy: 6/8 (75.000%)\n",
      "TRAIN: LOSS-->0.3681 (0.3877)\tACC-->75.000% (81.230%)\n",
      "TRAIN: 81 [17600/19125 (92%)]\tLoss: 0.368106, Accuracy: 6/8 (75.000%)\n",
      "VAL:   LOSS--> 0.5566 (0.5566)\tACC-->75.000 (75.000)\n",
      "VAL:   LOSS--> 0.3338 (0.2519)\tACC-->75.000 (90.423)\n",
      "VAL:   LOSS--> 0.0385 (0.2495)\tACC-->100.000 (90.118)\n",
      " * Accuracy 90.0148\n"
     ]
    },
    {
     "name": "stderr",
     "output_type": "stream",
     "text": [
      "\r",
      " 55%|█████████████████████████████████████████████████████████████████████████████                                                                | 82/150 [3:09:30<2:37:09, 138.66s/it]"
     ]
    },
    {
     "name": "stdout",
     "output_type": "stream",
     "text": [
      "TRAIN: LOSS-->0.3560 (0.3560)\tACC-->100.000% (100.000%)\n",
      "TRAIN: 82 [0/19125 (0%)]\tLoss: 0.356035, Accuracy: 8/8 (100.000%)\n",
      "TRAIN: LOSS-->0.3534 (0.3880)\tACC-->75.000% (81.468%)\n",
      "TRAIN: 82 [1600/19125 (8%)]\tLoss: 0.353424, Accuracy: 6/8 (75.000%)\n",
      "TRAIN: LOSS-->0.3951 (0.3869)\tACC-->87.500% (81.515%)\n",
      "TRAIN: 82 [3200/19125 (17%)]\tLoss: 0.395070, Accuracy: 7/8 (87.500%)\n",
      "TRAIN: LOSS-->0.3050 (0.3895)\tACC-->87.500% (81.094%)\n",
      "TRAIN: 82 [4800/19125 (25%)]\tLoss: 0.305024, Accuracy: 7/8 (87.500%)\n",
      "TRAIN: LOSS-->0.2751 (0.3899)\tACC-->87.500% (80.961%)\n",
      "TRAIN: 82 [6400/19125 (33%)]\tLoss: 0.275088, Accuracy: 7/8 (87.500%)\n",
      "TRAIN: LOSS-->0.1369 (0.3892)\tACC-->100.000% (81.056%)\n",
      "TRAIN: 82 [8000/19125 (42%)]\tLoss: 0.136857, Accuracy: 8/8 (100.000%)\n",
      "TRAIN: LOSS-->0.1376 (0.3898)\tACC-->100.000% (81.172%)\n",
      "TRAIN: 82 [9600/19125 (50%)]\tLoss: 0.137557, Accuracy: 8/8 (100.000%)\n",
      "TRAIN: LOSS-->0.3527 (0.3919)\tACC-->75.000% (81.147%)\n",
      "TRAIN: 82 [11200/19125 (59%)]\tLoss: 0.352689, Accuracy: 6/8 (75.000%)\n",
      "TRAIN: LOSS-->0.1995 (0.3895)\tACC-->87.500% (81.223%)\n",
      "TRAIN: 82 [12800/19125 (67%)]\tLoss: 0.199504, Accuracy: 7/8 (87.500%)\n",
      "TRAIN: LOSS-->0.4780 (0.3912)\tACC-->62.500% (81.149%)\n",
      "TRAIN: 82 [14400/19125 (75%)]\tLoss: 0.477983, Accuracy: 5/8 (62.500%)\n",
      "TRAIN: LOSS-->0.9249 (0.3914)\tACC-->50.000% (81.184%)\n",
      "TRAIN: 82 [16000/19125 (84%)]\tLoss: 0.924883, Accuracy: 4/8 (50.000%)\n",
      "TRAIN: LOSS-->0.3313 (0.3921)\tACC-->87.500% (81.151%)\n",
      "TRAIN: 82 [17600/19125 (92%)]\tLoss: 0.331262, Accuracy: 7/8 (87.500%)\n",
      "VAL:   LOSS--> 0.2161 (0.2161)\tACC-->87.500 (87.500)\n",
      "VAL:   LOSS--> 0.0053 (0.2384)\tACC-->100.000 (89.925)\n",
      "VAL:   LOSS--> 0.1264 (0.2317)\tACC-->100.000 (90.555)\n",
      " * Accuracy 90.6667\n"
     ]
    },
    {
     "name": "stderr",
     "output_type": "stream",
     "text": [
      "\r",
      " 55%|██████████████████████████████████████████████████████████████████████████████                                                               | 83/150 [3:11:48<2:34:49, 138.65s/it]"
     ]
    },
    {
     "name": "stdout",
     "output_type": "stream",
     "text": [
      "TRAIN: LOSS-->0.3056 (0.3056)\tACC-->75.000% (75.000%)\n",
      "TRAIN: 83 [0/19125 (0%)]\tLoss: 0.305634, Accuracy: 6/8 (75.000%)\n",
      "TRAIN: LOSS-->0.2166 (0.3822)\tACC-->87.500% (80.659%)\n",
      "TRAIN: 83 [1600/19125 (8%)]\tLoss: 0.216588, Accuracy: 7/8 (87.500%)\n",
      "TRAIN: LOSS-->1.1100 (0.3749)\tACC-->62.500% (81.328%)\n",
      "TRAIN: 83 [3200/19125 (17%)]\tLoss: 1.110044, Accuracy: 5/8 (62.500%)\n",
      "TRAIN: LOSS-->0.2620 (0.3746)\tACC-->100.000% (81.572%)\n",
      "TRAIN: 83 [4800/19125 (25%)]\tLoss: 0.262029, Accuracy: 8/8 (100.000%)\n",
      "TRAIN: LOSS-->0.2253 (0.3787)\tACC-->100.000% (81.445%)\n",
      "TRAIN: 83 [6400/19125 (33%)]\tLoss: 0.225343, Accuracy: 8/8 (100.000%)\n",
      "TRAIN: LOSS-->0.1911 (0.3782)\tACC-->100.000% (81.419%)\n",
      "TRAIN: 83 [8000/19125 (42%)]\tLoss: 0.191072, Accuracy: 8/8 (100.000%)\n",
      "TRAIN: LOSS-->0.2863 (0.3794)\tACC-->75.000% (81.432%)\n",
      "TRAIN: 83 [9600/19125 (50%)]\tLoss: 0.286264, Accuracy: 6/8 (75.000%)\n",
      "TRAIN: LOSS-->0.8459 (0.3820)\tACC-->62.500% (81.272%)\n",
      "TRAIN: 83 [11200/19125 (59%)]\tLoss: 0.845909, Accuracy: 5/8 (62.500%)\n",
      "TRAIN: LOSS-->0.3747 (0.3872)\tACC-->87.500% (81.090%)\n",
      "TRAIN: 83 [12800/19125 (67%)]\tLoss: 0.374689, Accuracy: 7/8 (87.500%)\n",
      "TRAIN: LOSS-->0.5384 (0.3880)\tACC-->75.000% (81.052%)\n",
      "TRAIN: 83 [14400/19125 (75%)]\tLoss: 0.538390, Accuracy: 6/8 (75.000%)\n",
      "TRAIN: LOSS-->0.2396 (0.3872)\tACC-->100.000% (81.122%)\n",
      "TRAIN: 83 [16000/19125 (84%)]\tLoss: 0.239613, Accuracy: 8/8 (100.000%)\n",
      "TRAIN: LOSS-->0.2510 (0.3874)\tACC-->87.500% (81.100%)\n",
      "TRAIN: 83 [17600/19125 (92%)]\tLoss: 0.250997, Accuracy: 7/8 (87.500%)\n",
      "VAL:   LOSS--> 0.1714 (0.1714)\tACC-->87.500 (87.500)\n",
      "VAL:   LOSS--> 0.0602 (0.1963)\tACC-->100.000 (92.662)\n",
      "VAL:   LOSS--> 0.1758 (0.2027)\tACC-->87.500 (92.238)\n",
      " * Accuracy 92.1778\n"
     ]
    },
    {
     "name": "stderr",
     "output_type": "stream",
     "text": [
      "\r",
      " 56%|██████████████████████████████████████████████████████████████████████████████▉                                                              | 84/150 [3:14:06<2:32:30, 138.64s/it]"
     ]
    },
    {
     "name": "stdout",
     "output_type": "stream",
     "text": [
      "TRAIN: LOSS-->0.1300 (0.1300)\tACC-->100.000% (100.000%)\n",
      "TRAIN: 84 [0/19125 (0%)]\tLoss: 0.129959, Accuracy: 8/8 (100.000%)\n",
      "TRAIN: LOSS-->0.4337 (0.3789)\tACC-->62.500% (81.281%)\n",
      "TRAIN: 84 [1600/19125 (8%)]\tLoss: 0.433750, Accuracy: 5/8 (62.500%)\n",
      "TRAIN: LOSS-->0.3116 (0.3879)\tACC-->87.500% (80.455%)\n",
      "TRAIN: 84 [3200/19125 (17%)]\tLoss: 0.311581, Accuracy: 7/8 (87.500%)\n",
      "TRAIN: LOSS-->0.6171 (0.3885)\tACC-->75.000% (80.699%)\n",
      "TRAIN: 84 [4800/19125 (25%)]\tLoss: 0.617088, Accuracy: 6/8 (75.000%)\n",
      "TRAIN: LOSS-->0.2253 (0.3897)\tACC-->100.000% (80.665%)\n",
      "TRAIN: 84 [6400/19125 (33%)]\tLoss: 0.225299, Accuracy: 8/8 (100.000%)\n",
      "TRAIN: LOSS-->0.5767 (0.3927)\tACC-->75.000% (80.794%)\n",
      "TRAIN: 84 [8000/19125 (42%)]\tLoss: 0.576703, Accuracy: 6/8 (75.000%)\n",
      "TRAIN: LOSS-->0.2066 (0.3931)\tACC-->87.500% (80.776%)\n",
      "TRAIN: 84 [9600/19125 (50%)]\tLoss: 0.206645, Accuracy: 7/8 (87.500%)\n",
      "TRAIN: LOSS-->0.5599 (0.3904)\tACC-->87.500% (81.014%)\n",
      "TRAIN: 84 [11200/19125 (59%)]\tLoss: 0.559908, Accuracy: 7/8 (87.500%)\n",
      "TRAIN: LOSS-->0.2345 (0.3903)\tACC-->100.000% (81.020%)\n",
      "TRAIN: 84 [12800/19125 (67%)]\tLoss: 0.234538, Accuracy: 8/8 (100.000%)\n",
      "TRAIN: LOSS-->0.3380 (0.3898)\tACC-->75.000% (81.108%)\n",
      "TRAIN: 84 [14400/19125 (75%)]\tLoss: 0.337992, Accuracy: 6/8 (75.000%)\n",
      "TRAIN: LOSS-->0.2452 (0.3898)\tACC-->87.500% (81.103%)\n",
      "TRAIN: 84 [16000/19125 (84%)]\tLoss: 0.245246, Accuracy: 7/8 (87.500%)\n",
      "TRAIN: LOSS-->0.7220 (0.3888)\tACC-->62.500% (81.168%)\n",
      "TRAIN: 84 [17600/19125 (92%)]\tLoss: 0.721979, Accuracy: 5/8 (62.500%)\n",
      "VAL:   LOSS--> 0.0777 (0.0777)\tACC-->100.000 (100.000)\n",
      "VAL:   LOSS--> 0.0818 (0.1832)\tACC-->100.000 (92.537)\n",
      "VAL:   LOSS--> 0.1747 (0.1926)\tACC-->87.500 (92.207)\n",
      " * Accuracy 92.4148\n"
     ]
    },
    {
     "name": "stderr",
     "output_type": "stream",
     "text": [
      "\r",
      " 57%|███████████████████████████████████████████████████████████████████████████████▉                                                             | 85/150 [3:16:23<2:30:11, 138.63s/it]"
     ]
    },
    {
     "name": "stdout",
     "output_type": "stream",
     "text": [
      "TRAIN: LOSS-->0.1280 (0.1280)\tACC-->100.000% (100.000%)\n",
      "TRAIN: 85 [0/19125 (0%)]\tLoss: 0.128024, Accuracy: 8/8 (100.000%)\n",
      "TRAIN: LOSS-->0.5038 (0.3870)\tACC-->75.000% (82.152%)\n",
      "TRAIN: 85 [1600/19125 (8%)]\tLoss: 0.503835, Accuracy: 6/8 (75.000%)\n",
      "TRAIN: LOSS-->0.3117 (0.3853)\tACC-->100.000% (81.608%)\n",
      "TRAIN: 85 [3200/19125 (17%)]\tLoss: 0.311677, Accuracy: 8/8 (100.000%)\n",
      "TRAIN: LOSS-->0.1722 (0.3834)\tACC-->87.500% (81.676%)\n",
      "TRAIN: 85 [4800/19125 (25%)]\tLoss: 0.172244, Accuracy: 7/8 (87.500%)\n",
      "TRAIN: LOSS-->0.3331 (0.3827)\tACC-->75.000% (81.710%)\n",
      "TRAIN: 85 [6400/19125 (33%)]\tLoss: 0.333138, Accuracy: 6/8 (75.000%)\n",
      "TRAIN: LOSS-->0.1752 (0.3828)\tACC-->100.000% (81.581%)\n",
      "TRAIN: 85 [8000/19125 (42%)]\tLoss: 0.175157, Accuracy: 8/8 (100.000%)\n",
      "TRAIN: LOSS-->0.2378 (0.3833)\tACC-->87.500% (81.557%)\n",
      "TRAIN: 85 [9600/19125 (50%)]\tLoss: 0.237835, Accuracy: 7/8 (87.500%)\n",
      "TRAIN: LOSS-->0.5575 (0.3811)\tACC-->50.000% (81.558%)\n",
      "TRAIN: 85 [11200/19125 (59%)]\tLoss: 0.557515, Accuracy: 4/8 (50.000%)\n",
      "TRAIN: LOSS-->0.3197 (0.3808)\tACC-->87.500% (81.644%)\n",
      "TRAIN: 85 [12800/19125 (67%)]\tLoss: 0.319735, Accuracy: 7/8 (87.500%)\n",
      "TRAIN: LOSS-->0.3380 (0.3829)\tACC-->87.500% (81.587%)\n",
      "TRAIN: 85 [14400/19125 (75%)]\tLoss: 0.337970, Accuracy: 7/8 (87.500%)\n",
      "TRAIN: LOSS-->0.5493 (0.3822)\tACC-->75.000% (81.659%)\n",
      "TRAIN: 85 [16000/19125 (84%)]\tLoss: 0.549296, Accuracy: 6/8 (75.000%)\n",
      "TRAIN: LOSS-->0.3413 (0.3832)\tACC-->75.000% (81.645%)\n",
      "TRAIN: 85 [17600/19125 (92%)]\tLoss: 0.341264, Accuracy: 6/8 (75.000%)\n",
      "VAL:   LOSS--> 0.1670 (0.1670)\tACC-->87.500 (87.500)\n",
      "VAL:   LOSS--> 0.3873 (0.2209)\tACC-->75.000 (90.361)\n",
      "VAL:   LOSS--> 0.1066 (0.2063)\tACC-->100.000 (91.334)\n",
      " * Accuracy 91.2593\n"
     ]
    },
    {
     "name": "stderr",
     "output_type": "stream",
     "text": [
      "\r",
      " 57%|████████████████████████████████████████████████████████████████████████████████▊                                                            | 86/150 [3:18:41<2:27:51, 138.62s/it]"
     ]
    },
    {
     "name": "stdout",
     "output_type": "stream",
     "text": [
      "TRAIN: LOSS-->0.3595 (0.3595)\tACC-->87.500% (87.500%)\n",
      "TRAIN: 86 [0/19125 (0%)]\tLoss: 0.359516, Accuracy: 7/8 (87.500%)\n",
      "TRAIN: LOSS-->0.1477 (0.3847)\tACC-->100.000% (81.530%)\n",
      "TRAIN: 86 [1600/19125 (8%)]\tLoss: 0.147722, Accuracy: 8/8 (100.000%)\n",
      "TRAIN: LOSS-->0.2594 (0.3867)\tACC-->75.000% (81.110%)\n",
      "TRAIN: 86 [3200/19125 (17%)]\tLoss: 0.259449, Accuracy: 6/8 (75.000%)\n",
      "TRAIN: LOSS-->0.2878 (0.3862)\tACC-->87.500% (81.406%)\n",
      "TRAIN: 86 [4800/19125 (25%)]\tLoss: 0.287776, Accuracy: 7/8 (87.500%)\n",
      "TRAIN: LOSS-->0.2351 (0.3837)\tACC-->87.500% (81.414%)\n",
      "TRAIN: 86 [6400/19125 (33%)]\tLoss: 0.235051, Accuracy: 7/8 (87.500%)\n",
      "TRAIN: LOSS-->0.2141 (0.3819)\tACC-->87.500% (81.406%)\n",
      "TRAIN: 86 [8000/19125 (42%)]\tLoss: 0.214075, Accuracy: 7/8 (87.500%)\n",
      "TRAIN: LOSS-->0.4710 (0.3846)\tACC-->87.500% (81.391%)\n",
      "TRAIN: 86 [9600/19125 (50%)]\tLoss: 0.471047, Accuracy: 7/8 (87.500%)\n",
      "TRAIN: LOSS-->0.7113 (0.3860)\tACC-->62.500% (81.326%)\n",
      "TRAIN: 86 [11200/19125 (59%)]\tLoss: 0.711251, Accuracy: 5/8 (62.500%)\n",
      "TRAIN: LOSS-->0.4732 (0.3860)\tACC-->75.000% (81.301%)\n",
      "TRAIN: 86 [12800/19125 (67%)]\tLoss: 0.473236, Accuracy: 6/8 (75.000%)\n",
      "TRAIN: LOSS-->0.2356 (0.3830)\tACC-->87.500% (81.385%)\n",
      "TRAIN: 86 [14400/19125 (75%)]\tLoss: 0.235624, Accuracy: 7/8 (87.500%)\n",
      "TRAIN: LOSS-->0.3437 (0.3848)\tACC-->87.500% (81.253%)\n",
      "TRAIN: 86 [16000/19125 (84%)]\tLoss: 0.343707, Accuracy: 7/8 (87.500%)\n",
      "TRAIN: LOSS-->0.2622 (0.3845)\tACC-->87.500% (81.298%)\n",
      "TRAIN: 86 [17600/19125 (92%)]\tLoss: 0.262178, Accuracy: 7/8 (87.500%)\n",
      "VAL:   LOSS--> 0.0102 (0.0102)\tACC-->100.000 (100.000)\n",
      "VAL:   LOSS--> 0.3064 (0.2475)\tACC-->87.500 (90.672)\n",
      "VAL:   LOSS--> 0.0433 (0.2301)\tACC-->100.000 (91.022)\n",
      " * Accuracy 90.9926\n"
     ]
    },
    {
     "name": "stderr",
     "output_type": "stream",
     "text": [
      "\r",
      " 58%|█████████████████████████████████████████████████████████████████████████████████▊                                                           | 87/150 [3:20:59<2:25:32, 138.61s/it]"
     ]
    },
    {
     "name": "stdout",
     "output_type": "stream",
     "text": [
      "TRAIN: LOSS-->0.2743 (0.2743)\tACC-->87.500% (87.500%)\n",
      "TRAIN: 87 [0/19125 (0%)]\tLoss: 0.274279, Accuracy: 7/8 (87.500%)\n",
      "TRAIN: LOSS-->0.5345 (0.4075)\tACC-->75.000% (80.224%)\n",
      "TRAIN: 87 [1600/19125 (8%)]\tLoss: 0.534507, Accuracy: 6/8 (75.000%)\n",
      "TRAIN: LOSS-->0.3599 (0.4086)\tACC-->75.000% (79.800%)\n",
      "TRAIN: 87 [3200/19125 (17%)]\tLoss: 0.359891, Accuracy: 6/8 (75.000%)\n",
      "TRAIN: LOSS-->0.3652 (0.4062)\tACC-->75.000% (80.345%)\n",
      "TRAIN: 87 [4800/19125 (25%)]\tLoss: 0.365238, Accuracy: 6/8 (75.000%)\n",
      "TRAIN: LOSS-->0.4410 (0.3997)\tACC-->75.000% (80.649%)\n",
      "TRAIN: 87 [6400/19125 (33%)]\tLoss: 0.440961, Accuracy: 6/8 (75.000%)\n",
      "TRAIN: LOSS-->0.3410 (0.4013)\tACC-->87.500% (80.744%)\n",
      "TRAIN: 87 [8000/19125 (42%)]\tLoss: 0.341010, Accuracy: 7/8 (87.500%)\n",
      "TRAIN: LOSS-->0.2863 (0.3975)\tACC-->87.500% (81.005%)\n",
      "TRAIN: 87 [9600/19125 (50%)]\tLoss: 0.286293, Accuracy: 7/8 (87.500%)\n",
      "TRAIN: LOSS-->0.4519 (0.3972)\tACC-->75.000% (80.906%)\n",
      "TRAIN: 87 [11200/19125 (59%)]\tLoss: 0.451901, Accuracy: 6/8 (75.000%)\n",
      "TRAIN: LOSS-->0.1401 (0.3970)\tACC-->100.000% (80.934%)\n",
      "TRAIN: 87 [12800/19125 (67%)]\tLoss: 0.140106, Accuracy: 8/8 (100.000%)\n",
      "TRAIN: LOSS-->0.2659 (0.3950)\tACC-->100.000% (81.059%)\n",
      "TRAIN: 87 [14400/19125 (75%)]\tLoss: 0.265856, Accuracy: 8/8 (100.000%)\n",
      "TRAIN: LOSS-->0.5507 (0.3938)\tACC-->75.000% (81.078%)\n",
      "TRAIN: 87 [16000/19125 (84%)]\tLoss: 0.550675, Accuracy: 6/8 (75.000%)\n",
      "TRAIN: LOSS-->0.2863 (0.3944)\tACC-->87.500% (81.054%)\n",
      "TRAIN: 87 [17600/19125 (92%)]\tLoss: 0.286255, Accuracy: 7/8 (87.500%)\n",
      "VAL:   LOSS--> 0.1068 (0.1068)\tACC-->100.000 (100.000)\n",
      "VAL:   LOSS--> 0.2559 (0.2645)\tACC-->75.000 (88.557)\n",
      "VAL:   LOSS--> 0.0974 (0.2807)\tACC-->100.000 (88.653)\n",
      " * Accuracy 88.7111\n"
     ]
    },
    {
     "name": "stderr",
     "output_type": "stream",
     "text": [
      "\r",
      " 59%|██████████████████████████████████████████████████████████████████████████████████▋                                                          | 88/150 [3:23:16<2:23:13, 138.60s/it]"
     ]
    },
    {
     "name": "stdout",
     "output_type": "stream",
     "text": [
      "TRAIN: LOSS-->0.5509 (0.5509)\tACC-->75.000% (75.000%)\n",
      "TRAIN: 88 [0/19125 (0%)]\tLoss: 0.550873, Accuracy: 6/8 (75.000%)\n",
      "TRAIN: LOSS-->0.7209 (0.3987)\tACC-->87.500% (81.219%)\n",
      "TRAIN: 88 [1600/19125 (8%)]\tLoss: 0.720890, Accuracy: 7/8 (87.500%)\n",
      "TRAIN: LOSS-->0.3661 (0.3866)\tACC-->75.000% (81.328%)\n",
      "TRAIN: 88 [3200/19125 (17%)]\tLoss: 0.366120, Accuracy: 6/8 (75.000%)\n",
      "TRAIN: LOSS-->0.3033 (0.3831)\tACC-->75.000% (81.884%)\n",
      "TRAIN: 88 [4800/19125 (25%)]\tLoss: 0.303264, Accuracy: 6/8 (75.000%)\n",
      "TRAIN: LOSS-->0.5161 (0.3838)\tACC-->75.000% (81.960%)\n",
      "TRAIN: 88 [6400/19125 (33%)]\tLoss: 0.516075, Accuracy: 6/8 (75.000%)\n",
      "TRAIN: LOSS-->0.3737 (0.3877)\tACC-->75.000% (81.394%)\n",
      "TRAIN: 88 [8000/19125 (42%)]\tLoss: 0.373686, Accuracy: 6/8 (75.000%)\n",
      "TRAIN: LOSS-->0.3125 (0.3886)\tACC-->87.500% (81.359%)\n",
      "TRAIN: 88 [9600/19125 (50%)]\tLoss: 0.312490, Accuracy: 7/8 (87.500%)\n",
      "TRAIN: LOSS-->0.6927 (0.3874)\tACC-->37.500% (81.397%)\n",
      "TRAIN: 88 [11200/19125 (59%)]\tLoss: 0.692658, Accuracy: 3/8 (37.500%)\n",
      "TRAIN: LOSS-->0.2053 (0.3915)\tACC-->87.500% (81.230%)\n",
      "TRAIN: 88 [12800/19125 (67%)]\tLoss: 0.205257, Accuracy: 7/8 (87.500%)\n",
      "TRAIN: LOSS-->0.4727 (0.3896)\tACC-->75.000% (81.212%)\n",
      "TRAIN: 88 [14400/19125 (75%)]\tLoss: 0.472701, Accuracy: 6/8 (75.000%)\n",
      "TRAIN: LOSS-->0.2667 (0.3889)\tACC-->87.500% (81.159%)\n",
      "TRAIN: 88 [16000/19125 (84%)]\tLoss: 0.266688, Accuracy: 7/8 (87.500%)\n",
      "TRAIN: LOSS-->0.2920 (0.3876)\tACC-->75.000% (81.213%)\n",
      "TRAIN: 88 [17600/19125 (92%)]\tLoss: 0.291964, Accuracy: 6/8 (75.000%)\n",
      "VAL:   LOSS--> 0.3166 (0.3166)\tACC-->87.500 (87.500)\n",
      "VAL:   LOSS--> 0.3885 (0.2330)\tACC-->87.500 (91.418)\n",
      "VAL:   LOSS--> 0.0593 (0.2290)\tACC-->100.000 (90.835)\n",
      " * Accuracy 90.9630\n"
     ]
    },
    {
     "name": "stderr",
     "output_type": "stream",
     "text": [
      "\r",
      " 59%|███████████████████████████████████████████████████████████████████████████████████▋                                                         | 89/150 [3:25:35<2:20:54, 138.60s/it]"
     ]
    },
    {
     "name": "stdout",
     "output_type": "stream",
     "text": [
      "TRAIN: LOSS-->0.0722 (0.0722)\tACC-->100.000% (100.000%)\n",
      "TRAIN: 89 [0/19125 (0%)]\tLoss: 0.072174, Accuracy: 8/8 (100.000%)\n",
      "TRAIN: LOSS-->0.2435 (0.3648)\tACC-->87.500% (81.965%)\n",
      "TRAIN: 89 [1600/19125 (8%)]\tLoss: 0.243548, Accuracy: 7/8 (87.500%)\n",
      "TRAIN: LOSS-->0.2772 (0.3686)\tACC-->100.000% (82.232%)\n",
      "TRAIN: 89 [3200/19125 (17%)]\tLoss: 0.277229, Accuracy: 8/8 (100.000%)\n",
      "TRAIN: LOSS-->0.2629 (0.3681)\tACC-->100.000% (82.155%)\n",
      "TRAIN: 89 [4800/19125 (25%)]\tLoss: 0.262854, Accuracy: 8/8 (100.000%)\n",
      "TRAIN: LOSS-->0.2849 (0.3760)\tACC-->87.500% (81.773%)\n",
      "TRAIN: 89 [6400/19125 (33%)]\tLoss: 0.284923, Accuracy: 7/8 (87.500%)\n",
      "TRAIN: LOSS-->0.2800 (0.3780)\tACC-->87.500% (82.055%)\n",
      "TRAIN: 89 [8000/19125 (42%)]\tLoss: 0.279983, Accuracy: 7/8 (87.500%)\n",
      "TRAIN: LOSS-->0.1453 (0.3849)\tACC-->100.000% (81.640%)\n",
      "TRAIN: 89 [9600/19125 (50%)]\tLoss: 0.145318, Accuracy: 8/8 (100.000%)\n",
      "TRAIN: LOSS-->0.2839 (0.3858)\tACC-->87.500% (81.665%)\n",
      "TRAIN: 89 [11200/19125 (59%)]\tLoss: 0.283938, Accuracy: 7/8 (87.500%)\n",
      "TRAIN: LOSS-->0.3717 (0.3856)\tACC-->75.000% (81.543%)\n",
      "TRAIN: 89 [12800/19125 (67%)]\tLoss: 0.371689, Accuracy: 6/8 (75.000%)\n",
      "TRAIN: LOSS-->0.1878 (0.3856)\tACC-->100.000% (81.496%)\n",
      "TRAIN: 89 [14400/19125 (75%)]\tLoss: 0.187844, Accuracy: 8/8 (100.000%)\n",
      "TRAIN: LOSS-->0.1852 (0.3847)\tACC-->87.500% (81.540%)\n",
      "TRAIN: 89 [16000/19125 (84%)]\tLoss: 0.185238, Accuracy: 7/8 (87.500%)\n",
      "TRAIN: LOSS-->0.3565 (0.3836)\tACC-->75.000% (81.491%)\n",
      "TRAIN: 89 [17600/19125 (92%)]\tLoss: 0.356515, Accuracy: 6/8 (75.000%)\n",
      "VAL:   LOSS--> 0.1832 (0.1832)\tACC-->100.000 (100.000)\n",
      "VAL:   LOSS--> 0.1341 (0.1788)\tACC-->87.500 (92.786)\n",
      "VAL:   LOSS--> 0.2691 (0.1895)\tACC-->75.000 (92.269)\n",
      " * Accuracy 92.2074\n"
     ]
    },
    {
     "name": "stderr",
     "output_type": "stream",
     "text": [
      "\r",
      " 60%|████████████████████████████████████████████████████████████████████████████████████▌                                                        | 90/150 [3:27:53<2:18:35, 138.59s/it]"
     ]
    },
    {
     "name": "stdout",
     "output_type": "stream",
     "text": [
      "TRAIN: LOSS-->0.2158 (0.2158)\tACC-->87.500% (87.500%)\n",
      "TRAIN: 90 [0/19125 (0%)]\tLoss: 0.215838, Accuracy: 7/8 (87.500%)\n",
      "TRAIN: LOSS-->0.2031 (0.3700)\tACC-->100.000% (83.458%)\n",
      "TRAIN: 90 [1600/19125 (8%)]\tLoss: 0.203147, Accuracy: 8/8 (100.000%)\n",
      "TRAIN: LOSS-->0.2975 (0.3793)\tACC-->87.500% (82.606%)\n",
      "TRAIN: 90 [3200/19125 (17%)]\tLoss: 0.297514, Accuracy: 7/8 (87.500%)\n",
      "TRAIN: LOSS-->0.4878 (0.3816)\tACC-->62.500% (82.176%)\n",
      "TRAIN: 90 [4800/19125 (25%)]\tLoss: 0.487791, Accuracy: 5/8 (62.500%)\n",
      "TRAIN: LOSS-->0.2634 (0.3874)\tACC-->87.500% (81.570%)\n",
      "TRAIN: 90 [6400/19125 (33%)]\tLoss: 0.263379, Accuracy: 7/8 (87.500%)\n",
      "TRAIN: LOSS-->0.5782 (0.3863)\tACC-->62.500% (81.643%)\n",
      "TRAIN: 90 [8000/19125 (42%)]\tLoss: 0.578200, Accuracy: 5/8 (62.500%)\n",
      "TRAIN: LOSS-->0.1079 (0.3819)\tACC-->100.000% (81.817%)\n",
      "TRAIN: 90 [9600/19125 (50%)]\tLoss: 0.107901, Accuracy: 8/8 (100.000%)\n",
      "TRAIN: LOSS-->0.3423 (0.3821)\tACC-->87.500% (81.629%)\n",
      "TRAIN: 90 [11200/19125 (59%)]\tLoss: 0.342333, Accuracy: 7/8 (87.500%)\n",
      "TRAIN: LOSS-->0.3934 (0.3831)\tACC-->87.500% (81.512%)\n",
      "TRAIN: 90 [12800/19125 (67%)]\tLoss: 0.393412, Accuracy: 7/8 (87.500%)\n",
      "TRAIN: LOSS-->0.4162 (0.3850)\tACC-->75.000% (81.469%)\n",
      "TRAIN: 90 [14400/19125 (75%)]\tLoss: 0.416207, Accuracy: 6/8 (75.000%)\n",
      "TRAIN: LOSS-->0.3556 (0.3833)\tACC-->75.000% (81.565%)\n",
      "TRAIN: 90 [16000/19125 (84%)]\tLoss: 0.355639, Accuracy: 6/8 (75.000%)\n",
      "TRAIN: LOSS-->0.3461 (0.3836)\tACC-->87.500% (81.531%)\n",
      "TRAIN: 90 [17600/19125 (92%)]\tLoss: 0.346128, Accuracy: 7/8 (87.500%)\n",
      "VAL:   LOSS--> 0.1288 (0.1288)\tACC-->100.000 (100.000)\n",
      "VAL:   LOSS--> 0.1119 (0.2221)\tACC-->100.000 (91.356)\n",
      "VAL:   LOSS--> 0.0492 (0.2231)\tACC-->100.000 (91.397)\n",
      " * Accuracy 91.3778\n"
     ]
    },
    {
     "name": "stderr",
     "output_type": "stream",
     "text": [
      "\r",
      " 61%|█████████████████████████████████████████████████████████████████████████████████████▌                                                       | 91/150 [3:30:11<2:16:16, 138.58s/it]"
     ]
    },
    {
     "name": "stdout",
     "output_type": "stream",
     "text": [
      "TRAIN: LOSS-->0.5919 (0.5919)\tACC-->87.500% (87.500%)\n",
      "TRAIN: 91 [0/19125 (0%)]\tLoss: 0.591889, Accuracy: 7/8 (87.500%)\n",
      "TRAIN: LOSS-->0.3722 (0.3764)\tACC-->75.000% (83.271%)\n",
      "TRAIN: 91 [1600/19125 (8%)]\tLoss: 0.372192, Accuracy: 6/8 (75.000%)\n",
      "TRAIN: LOSS-->0.2882 (0.3776)\tACC-->87.500% (83.011%)\n",
      "TRAIN: 91 [3200/19125 (17%)]\tLoss: 0.288238, Accuracy: 7/8 (87.500%)\n",
      "TRAIN: LOSS-->0.1147 (0.3853)\tACC-->100.000% (81.718%)\n",
      "TRAIN: 91 [4800/19125 (25%)]\tLoss: 0.114716, Accuracy: 8/8 (100.000%)\n",
      "TRAIN: LOSS-->0.6476 (0.3827)\tACC-->75.000% (81.991%)\n",
      "TRAIN: 91 [6400/19125 (33%)]\tLoss: 0.647624, Accuracy: 6/8 (75.000%)\n",
      "TRAIN: LOSS-->0.4501 (0.3777)\tACC-->62.500% (82.043%)\n",
      "TRAIN: 91 [8000/19125 (42%)]\tLoss: 0.450145, Accuracy: 5/8 (62.500%)\n",
      "TRAIN: LOSS-->0.7691 (0.3802)\tACC-->87.500% (81.963%)\n",
      "TRAIN: 91 [9600/19125 (50%)]\tLoss: 0.769114, Accuracy: 7/8 (87.500%)\n",
      "TRAIN: LOSS-->0.6732 (0.3782)\tACC-->37.500% (82.102%)\n",
      "TRAIN: 91 [11200/19125 (59%)]\tLoss: 0.673191, Accuracy: 3/8 (37.500%)\n",
      "TRAIN: LOSS-->0.2213 (0.3769)\tACC-->87.500% (82.128%)\n",
      "TRAIN: 91 [12800/19125 (67%)]\tLoss: 0.221258, Accuracy: 7/8 (87.500%)\n",
      "TRAIN: LOSS-->0.5655 (0.3755)\tACC-->62.500% (82.260%)\n",
      "TRAIN: 91 [14400/19125 (75%)]\tLoss: 0.565538, Accuracy: 5/8 (62.500%)\n",
      "TRAIN: LOSS-->0.2426 (0.3745)\tACC-->87.500% (82.378%)\n",
      "TRAIN: 91 [16000/19125 (84%)]\tLoss: 0.242605, Accuracy: 7/8 (87.500%)\n",
      "TRAIN: LOSS-->0.0739 (0.3749)\tACC-->100.000% (82.349%)\n",
      "TRAIN: 91 [17600/19125 (92%)]\tLoss: 0.073916, Accuracy: 8/8 (100.000%)\n",
      "VAL:   LOSS--> 0.3074 (0.3074)\tACC-->75.000 (75.000)\n",
      "VAL:   LOSS--> 0.1471 (0.2257)\tACC-->87.500 (90.361)\n",
      "VAL:   LOSS--> 0.0787 (0.2197)\tACC-->100.000 (91.209)\n",
      " * Accuracy 91.4370\n"
     ]
    },
    {
     "name": "stderr",
     "output_type": "stream",
     "text": [
      "\r",
      " 61%|██████████████████████████████████████████████████████████████████████████████████████▍                                                      | 92/150 [3:32:28<2:13:57, 138.58s/it]"
     ]
    },
    {
     "name": "stdout",
     "output_type": "stream",
     "text": [
      "TRAIN: LOSS-->0.2752 (0.2752)\tACC-->87.500% (87.500%)\n",
      "TRAIN: 92 [0/19125 (0%)]\tLoss: 0.275212, Accuracy: 7/8 (87.500%)\n",
      "TRAIN: LOSS-->0.3075 (0.3707)\tACC-->87.500% (81.343%)\n",
      "TRAIN: 92 [1600/19125 (8%)]\tLoss: 0.307504, Accuracy: 7/8 (87.500%)\n",
      "TRAIN: LOSS-->0.6150 (0.3787)\tACC-->75.000% (81.047%)\n",
      "TRAIN: 92 [3200/19125 (17%)]\tLoss: 0.614977, Accuracy: 6/8 (75.000%)\n",
      "TRAIN: LOSS-->0.3280 (0.3917)\tACC-->75.000% (80.491%)\n",
      "TRAIN: 92 [4800/19125 (25%)]\tLoss: 0.327985, Accuracy: 6/8 (75.000%)\n",
      "TRAIN: LOSS-->0.1502 (0.3897)\tACC-->100.000% (80.602%)\n",
      "TRAIN: 92 [6400/19125 (33%)]\tLoss: 0.150186, Accuracy: 8/8 (100.000%)\n",
      "TRAIN: LOSS-->0.2463 (0.3899)\tACC-->87.500% (80.682%)\n",
      "TRAIN: 92 [8000/19125 (42%)]\tLoss: 0.246276, Accuracy: 7/8 (87.500%)\n",
      "TRAIN: LOSS-->0.2276 (0.3879)\tACC-->87.500% (81.078%)\n",
      "TRAIN: 92 [9600/19125 (50%)]\tLoss: 0.227642, Accuracy: 7/8 (87.500%)\n",
      "TRAIN: LOSS-->0.6892 (0.3866)\tACC-->62.500% (81.174%)\n",
      "TRAIN: 92 [11200/19125 (59%)]\tLoss: 0.689187, Accuracy: 5/8 (62.500%)\n",
      "TRAIN: LOSS-->0.3861 (0.3850)\tACC-->87.500% (81.254%)\n",
      "TRAIN: 92 [12800/19125 (67%)]\tLoss: 0.386053, Accuracy: 7/8 (87.500%)\n",
      "TRAIN: LOSS-->0.1689 (0.3858)\tACC-->87.500% (81.191%)\n",
      "TRAIN: 92 [14400/19125 (75%)]\tLoss: 0.168946, Accuracy: 7/8 (87.500%)\n",
      "TRAIN: LOSS-->0.2197 (0.3854)\tACC-->100.000% (81.197%)\n",
      "TRAIN: 92 [16000/19125 (84%)]\tLoss: 0.219748, Accuracy: 8/8 (100.000%)\n",
      "TRAIN: LOSS-->0.3671 (0.3840)\tACC-->75.000% (81.327%)\n",
      "TRAIN: 92 [17600/19125 (92%)]\tLoss: 0.367148, Accuracy: 6/8 (75.000%)\n",
      "VAL:   LOSS--> 0.4295 (0.4295)\tACC-->87.500 (87.500)\n",
      "VAL:   LOSS--> 0.0733 (0.2251)\tACC-->100.000 (92.040)\n",
      "VAL:   LOSS--> 0.2614 (0.2260)\tACC-->87.500 (91.428)\n",
      " * Accuracy 91.5259\n"
     ]
    },
    {
     "name": "stderr",
     "output_type": "stream",
     "text": [
      "\r",
      " 62%|███████████████████████████████████████████████████████████████████████████████████████▍                                                     | 93/150 [3:34:46<2:11:38, 138.57s/it]"
     ]
    },
    {
     "name": "stdout",
     "output_type": "stream",
     "text": [
      "TRAIN: LOSS-->0.6804 (0.6804)\tACC-->75.000% (75.000%)\n",
      "TRAIN: 93 [0/19125 (0%)]\tLoss: 0.680363, Accuracy: 6/8 (75.000%)\n",
      "TRAIN: LOSS-->0.3062 (0.3767)\tACC-->87.500% (81.405%)\n",
      "TRAIN: 93 [1600/19125 (8%)]\tLoss: 0.306212, Accuracy: 7/8 (87.500%)\n",
      "TRAIN: LOSS-->0.6517 (0.3917)\tACC-->87.500% (80.829%)\n",
      "TRAIN: 93 [3200/19125 (17%)]\tLoss: 0.651659, Accuracy: 7/8 (87.500%)\n",
      "TRAIN: LOSS-->0.3397 (0.3817)\tACC-->87.500% (81.676%)\n",
      "TRAIN: 93 [4800/19125 (25%)]\tLoss: 0.339654, Accuracy: 7/8 (87.500%)\n",
      "TRAIN: LOSS-->0.1596 (0.3763)\tACC-->87.500% (81.960%)\n",
      "TRAIN: 93 [6400/19125 (33%)]\tLoss: 0.159645, Accuracy: 7/8 (87.500%)\n",
      "TRAIN: LOSS-->0.3014 (0.3751)\tACC-->75.000% (82.005%)\n",
      "TRAIN: 93 [8000/19125 (42%)]\tLoss: 0.301424, Accuracy: 6/8 (75.000%)\n",
      "TRAIN: LOSS-->0.6103 (0.3736)\tACC-->50.000% (82.067%)\n",
      "TRAIN: 93 [9600/19125 (50%)]\tLoss: 0.610328, Accuracy: 4/8 (50.000%)\n",
      "TRAIN: LOSS-->0.2816 (0.3715)\tACC-->87.500% (82.281%)\n",
      "TRAIN: 93 [11200/19125 (59%)]\tLoss: 0.281631, Accuracy: 7/8 (87.500%)\n",
      "TRAIN: LOSS-->1.0133 (0.3737)\tACC-->75.000% (82.230%)\n",
      "TRAIN: 93 [12800/19125 (67%)]\tLoss: 1.013299, Accuracy: 6/8 (75.000%)\n",
      "TRAIN: LOSS-->0.1226 (0.3745)\tACC-->100.000% (82.197%)\n",
      "TRAIN: 93 [14400/19125 (75%)]\tLoss: 0.122637, Accuracy: 8/8 (100.000%)\n",
      "TRAIN: LOSS-->0.3273 (0.3757)\tACC-->75.000% (82.140%)\n",
      "TRAIN: 93 [16000/19125 (84%)]\tLoss: 0.327306, Accuracy: 6/8 (75.000%)\n",
      "TRAIN: LOSS-->0.2560 (0.3744)\tACC-->75.000% (82.162%)\n",
      "TRAIN: 93 [17600/19125 (92%)]\tLoss: 0.256019, Accuracy: 6/8 (75.000%)\n",
      "VAL:   LOSS--> 0.2627 (0.2627)\tACC-->87.500 (87.500)\n",
      "VAL:   LOSS--> 0.2064 (0.2233)\tACC-->100.000 (91.169)\n",
      "VAL:   LOSS--> 0.0580 (0.2049)\tACC-->100.000 (92.269)\n",
      " * Accuracy 92.4741\n"
     ]
    },
    {
     "name": "stderr",
     "output_type": "stream",
     "text": [
      "\r",
      " 63%|████████████████████████████████████████████████████████████████████████████████████████▎                                                    | 94/150 [3:37:04<2:09:19, 138.56s/it]"
     ]
    },
    {
     "name": "stdout",
     "output_type": "stream",
     "text": [
      "TRAIN: LOSS-->0.1803 (0.1803)\tACC-->100.000% (100.000%)\n",
      "TRAIN: 94 [0/19125 (0%)]\tLoss: 0.180315, Accuracy: 8/8 (100.000%)\n",
      "TRAIN: LOSS-->1.3466 (0.3718)\tACC-->50.000% (82.090%)\n",
      "TRAIN: 94 [1600/19125 (8%)]\tLoss: 1.346563, Accuracy: 4/8 (50.000%)\n",
      "TRAIN: LOSS-->0.8544 (0.3815)\tACC-->87.500% (81.889%)\n",
      "TRAIN: 94 [3200/19125 (17%)]\tLoss: 0.854425, Accuracy: 7/8 (87.500%)\n",
      "TRAIN: LOSS-->0.6677 (0.3834)\tACC-->62.500% (81.364%)\n",
      "TRAIN: 94 [4800/19125 (25%)]\tLoss: 0.667700, Accuracy: 5/8 (62.500%)\n",
      "TRAIN: LOSS-->0.6924 (0.3779)\tACC-->75.000% (81.804%)\n",
      "TRAIN: 94 [6400/19125 (33%)]\tLoss: 0.692402, Accuracy: 6/8 (75.000%)\n",
      "TRAIN: LOSS-->0.3077 (0.3830)\tACC-->75.000% (81.444%)\n",
      "TRAIN: 94 [8000/19125 (42%)]\tLoss: 0.307708, Accuracy: 6/8 (75.000%)\n",
      "TRAIN: LOSS-->0.4571 (0.3819)\tACC-->75.000% (81.443%)\n",
      "TRAIN: 94 [9600/19125 (50%)]\tLoss: 0.457083, Accuracy: 6/8 (75.000%)\n",
      "TRAIN: LOSS-->0.2235 (0.3808)\tACC-->87.500% (81.585%)\n",
      "TRAIN: 94 [11200/19125 (59%)]\tLoss: 0.223482, Accuracy: 7/8 (87.500%)\n",
      "TRAIN: LOSS-->0.2034 (0.3809)\tACC-->100.000% (81.558%)\n",
      "TRAIN: 94 [12800/19125 (67%)]\tLoss: 0.203423, Accuracy: 8/8 (100.000%)\n",
      "TRAIN: LOSS-->0.5217 (0.3785)\tACC-->87.500% (81.725%)\n",
      "TRAIN: 94 [14400/19125 (75%)]\tLoss: 0.521710, Accuracy: 7/8 (87.500%)\n",
      "TRAIN: LOSS-->0.3652 (0.3803)\tACC-->75.000% (81.828%)\n",
      "TRAIN: 94 [16000/19125 (84%)]\tLoss: 0.365223, Accuracy: 6/8 (75.000%)\n",
      "TRAIN: LOSS-->0.7121 (0.3807)\tACC-->75.000% (81.758%)\n",
      "TRAIN: 94 [17600/19125 (92%)]\tLoss: 0.712114, Accuracy: 6/8 (75.000%)\n",
      "VAL:   LOSS--> 0.1485 (0.1485)\tACC-->100.000 (100.000)\n",
      "VAL:   LOSS--> 0.1170 (0.2130)\tACC-->100.000 (91.480)\n",
      "VAL:   LOSS--> 0.0905 (0.1989)\tACC-->100.000 (92.082)\n",
      " * Accuracy 92.1185\n"
     ]
    },
    {
     "name": "stderr",
     "output_type": "stream",
     "text": [
      "\r",
      " 63%|█████████████████████████████████████████████████████████████████████████████████████████▎                                                   | 95/150 [3:39:22<2:07:00, 138.55s/it]"
     ]
    },
    {
     "name": "stdout",
     "output_type": "stream",
     "text": [
      "TRAIN: LOSS-->0.3217 (0.3217)\tACC-->87.500% (87.500%)\n",
      "TRAIN: 95 [0/19125 (0%)]\tLoss: 0.321651, Accuracy: 7/8 (87.500%)\n",
      "TRAIN: LOSS-->0.6788 (0.3814)\tACC-->50.000% (81.405%)\n",
      "TRAIN: 95 [1600/19125 (8%)]\tLoss: 0.678810, Accuracy: 4/8 (50.000%)\n",
      "TRAIN: LOSS-->0.4026 (0.3848)\tACC-->87.500% (81.983%)\n",
      "TRAIN: 95 [3200/19125 (17%)]\tLoss: 0.402595, Accuracy: 7/8 (87.500%)\n",
      "TRAIN: LOSS-->0.9415 (0.3808)\tACC-->75.000% (81.968%)\n",
      "TRAIN: 95 [4800/19125 (25%)]\tLoss: 0.941494, Accuracy: 6/8 (75.000%)\n",
      "TRAIN: LOSS-->0.3535 (0.3777)\tACC-->75.000% (82.257%)\n",
      "TRAIN: 95 [6400/19125 (33%)]\tLoss: 0.353498, Accuracy: 6/8 (75.000%)\n",
      "TRAIN: LOSS-->0.5410 (0.3770)\tACC-->75.000% (82.080%)\n",
      "TRAIN: 95 [8000/19125 (42%)]\tLoss: 0.540999, Accuracy: 6/8 (75.000%)\n",
      "TRAIN: LOSS-->0.0927 (0.3811)\tACC-->100.000% (82.005%)\n",
      "TRAIN: 95 [9600/19125 (50%)]\tLoss: 0.092660, Accuracy: 8/8 (100.000%)\n",
      "TRAIN: LOSS-->0.5018 (0.3840)\tACC-->75.000% (81.790%)\n",
      "TRAIN: 95 [11200/19125 (59%)]\tLoss: 0.501809, Accuracy: 6/8 (75.000%)\n",
      "TRAIN: LOSS-->0.2513 (0.3840)\tACC-->87.500% (81.683%)\n",
      "TRAIN: 95 [12800/19125 (67%)]\tLoss: 0.251291, Accuracy: 7/8 (87.500%)\n",
      "TRAIN: LOSS-->0.3632 (0.3849)\tACC-->75.000% (81.607%)\n",
      "TRAIN: 95 [14400/19125 (75%)]\tLoss: 0.363214, Accuracy: 6/8 (75.000%)\n",
      "TRAIN: LOSS-->0.3640 (0.3828)\tACC-->75.000% (81.672%)\n",
      "TRAIN: 95 [16000/19125 (84%)]\tLoss: 0.363974, Accuracy: 6/8 (75.000%)\n",
      "TRAIN: LOSS-->0.2609 (0.3810)\tACC-->100.000% (81.741%)\n",
      "TRAIN: 95 [17600/19125 (92%)]\tLoss: 0.260885, Accuracy: 8/8 (100.000%)\n",
      "VAL:   LOSS--> 0.1050 (0.1050)\tACC-->100.000 (100.000)\n",
      "VAL:   LOSS--> 0.2388 (0.2005)\tACC-->87.500 (92.102)\n",
      "VAL:   LOSS--> 0.2874 (0.2027)\tACC-->87.500 (92.145)\n",
      " * Accuracy 92.0889\n"
     ]
    },
    {
     "name": "stderr",
     "output_type": "stream",
     "text": [
      "\r",
      " 64%|██████████████████████████████████████████████████████████████████████████████████████████▏                                                  | 96/150 [3:41:40<2:04:41, 138.55s/it]"
     ]
    },
    {
     "name": "stdout",
     "output_type": "stream",
     "text": [
      "TRAIN: LOSS-->0.3109 (0.3109)\tACC-->75.000% (75.000%)\n",
      "TRAIN: 96 [0/19125 (0%)]\tLoss: 0.310853, Accuracy: 6/8 (75.000%)\n",
      "TRAIN: LOSS-->0.2120 (0.3780)\tACC-->87.500% (81.592%)\n",
      "TRAIN: 96 [1600/19125 (8%)]\tLoss: 0.212027, Accuracy: 7/8 (87.500%)\n",
      "TRAIN: LOSS-->0.2308 (0.3740)\tACC-->87.500% (81.577%)\n",
      "TRAIN: 96 [3200/19125 (17%)]\tLoss: 0.230805, Accuracy: 7/8 (87.500%)\n",
      "TRAIN: LOSS-->0.3594 (0.3840)\tACC-->87.500% (81.593%)\n",
      "TRAIN: 96 [4800/19125 (25%)]\tLoss: 0.359448, Accuracy: 7/8 (87.500%)\n",
      "TRAIN: LOSS-->0.4278 (0.3838)\tACC-->75.000% (81.648%)\n",
      "TRAIN: 96 [6400/19125 (33%)]\tLoss: 0.427840, Accuracy: 6/8 (75.000%)\n",
      "TRAIN: LOSS-->0.2833 (0.3835)\tACC-->87.500% (81.518%)\n",
      "TRAIN: 96 [8000/19125 (42%)]\tLoss: 0.283304, Accuracy: 7/8 (87.500%)\n",
      "TRAIN: LOSS-->0.5179 (0.3794)\tACC-->62.500% (81.672%)\n",
      "TRAIN: 96 [9600/19125 (50%)]\tLoss: 0.517867, Accuracy: 5/8 (62.500%)\n",
      "TRAIN: LOSS-->0.4013 (0.3763)\tACC-->75.000% (81.808%)\n",
      "TRAIN: 96 [11200/19125 (59%)]\tLoss: 0.401316, Accuracy: 6/8 (75.000%)\n",
      "TRAIN: LOSS-->0.3592 (0.3745)\tACC-->87.500% (81.902%)\n",
      "TRAIN: 96 [12800/19125 (67%)]\tLoss: 0.359186, Accuracy: 7/8 (87.500%)\n",
      "TRAIN: LOSS-->0.8191 (0.3753)\tACC-->37.500% (81.850%)\n",
      "TRAIN: 96 [14400/19125 (75%)]\tLoss: 0.819105, Accuracy: 3/8 (37.500%)\n",
      "TRAIN: LOSS-->0.4129 (0.3744)\tACC-->75.000% (81.990%)\n",
      "TRAIN: 96 [16000/19125 (84%)]\tLoss: 0.412862, Accuracy: 6/8 (75.000%)\n",
      "TRAIN: LOSS-->0.2491 (0.3737)\tACC-->75.000% (82.076%)\n",
      "TRAIN: 96 [17600/19125 (92%)]\tLoss: 0.249148, Accuracy: 6/8 (75.000%)\n",
      "VAL:   LOSS--> 0.0958 (0.0958)\tACC-->100.000 (100.000)\n",
      "VAL:   LOSS--> 0.6041 (0.1741)\tACC-->87.500 (93.221)\n",
      "VAL:   LOSS--> 0.1149 (0.1786)\tACC-->100.000 (93.267)\n",
      " * Accuracy 93.1556\n"
     ]
    },
    {
     "name": "stderr",
     "output_type": "stream",
     "text": [
      "\r",
      " 65%|███████████████████████████████████████████████████████████████████████████████████████████▏                                                 | 97/150 [3:43:58<2:02:22, 138.54s/it]"
     ]
    },
    {
     "name": "stdout",
     "output_type": "stream",
     "text": [
      "TRAIN: LOSS-->0.2776 (0.2776)\tACC-->87.500% (87.500%)\n",
      "TRAIN: 97 [0/19125 (0%)]\tLoss: 0.277630, Accuracy: 7/8 (87.500%)\n",
      "TRAIN: LOSS-->0.4456 (0.3625)\tACC-->62.500% (82.400%)\n",
      "TRAIN: 97 [1600/19125 (8%)]\tLoss: 0.445596, Accuracy: 5/8 (62.500%)\n",
      "TRAIN: LOSS-->0.3232 (0.3617)\tACC-->87.500% (82.793%)\n",
      "TRAIN: 97 [3200/19125 (17%)]\tLoss: 0.323167, Accuracy: 7/8 (87.500%)\n",
      "TRAIN: LOSS-->0.2772 (0.3620)\tACC-->87.500% (82.903%)\n",
      "TRAIN: 97 [4800/19125 (25%)]\tLoss: 0.277174, Accuracy: 7/8 (87.500%)\n",
      "TRAIN: LOSS-->0.4137 (0.3691)\tACC-->75.000% (82.475%)\n",
      "TRAIN: 97 [6400/19125 (33%)]\tLoss: 0.413744, Accuracy: 6/8 (75.000%)\n",
      "TRAIN: LOSS-->0.1225 (0.3690)\tACC-->100.000% (82.430%)\n",
      "TRAIN: 97 [8000/19125 (42%)]\tLoss: 0.122529, Accuracy: 8/8 (100.000%)\n",
      "TRAIN: LOSS-->0.4200 (0.3709)\tACC-->62.500% (82.265%)\n",
      "TRAIN: 97 [9600/19125 (50%)]\tLoss: 0.419968, Accuracy: 5/8 (62.500%)\n",
      "TRAIN: LOSS-->0.1928 (0.3713)\tACC-->100.000% (82.209%)\n",
      "TRAIN: 97 [11200/19125 (59%)]\tLoss: 0.192827, Accuracy: 8/8 (100.000%)\n",
      "TRAIN: LOSS-->0.5022 (0.3698)\tACC-->75.000% (82.355%)\n",
      "TRAIN: 97 [12800/19125 (67%)]\tLoss: 0.502153, Accuracy: 6/8 (75.000%)\n",
      "TRAIN: LOSS-->0.5809 (0.3689)\tACC-->75.000% (82.468%)\n",
      "TRAIN: 97 [14400/19125 (75%)]\tLoss: 0.580920, Accuracy: 6/8 (75.000%)\n",
      "TRAIN: LOSS-->0.1060 (0.3684)\tACC-->100.000% (82.453%)\n",
      "TRAIN: 97 [16000/19125 (84%)]\tLoss: 0.106014, Accuracy: 8/8 (100.000%)\n",
      "TRAIN: LOSS-->0.1454 (0.3709)\tACC-->100.000% (82.269%)\n",
      "TRAIN: 97 [17600/19125 (92%)]\tLoss: 0.145385, Accuracy: 8/8 (100.000%)\n",
      "VAL:   LOSS--> 0.0774 (0.0774)\tACC-->100.000 (100.000)\n",
      "VAL:   LOSS--> 0.1001 (0.1881)\tACC-->100.000 (92.724)\n",
      "VAL:   LOSS--> 0.0680 (0.1967)\tACC-->100.000 (92.269)\n",
      " * Accuracy 92.3259\n"
     ]
    },
    {
     "name": "stderr",
     "output_type": "stream",
     "text": [
      "\r",
      " 65%|████████████████████████████████████████████████████████████████████████████████████████████                                                 | 98/150 [3:46:16<2:00:03, 138.53s/it]"
     ]
    },
    {
     "name": "stdout",
     "output_type": "stream",
     "text": [
      "TRAIN: LOSS-->0.5179 (0.5179)\tACC-->75.000% (75.000%)\n",
      "TRAIN: 98 [0/19125 (0%)]\tLoss: 0.517884, Accuracy: 6/8 (75.000%)\n",
      "TRAIN: LOSS-->0.4096 (0.3636)\tACC-->62.500% (83.396%)\n",
      "TRAIN: 98 [1600/19125 (8%)]\tLoss: 0.409638, Accuracy: 5/8 (62.500%)\n",
      "TRAIN: LOSS-->0.1896 (0.3708)\tACC-->87.500% (82.700%)\n",
      "TRAIN: 98 [3200/19125 (17%)]\tLoss: 0.189619, Accuracy: 7/8 (87.500%)\n",
      "TRAIN: LOSS-->0.2832 (0.3764)\tACC-->87.500% (82.280%)\n",
      "TRAIN: 98 [4800/19125 (25%)]\tLoss: 0.283181, Accuracy: 7/8 (87.500%)\n",
      "TRAIN: LOSS-->0.3748 (0.3782)\tACC-->75.000% (82.054%)\n",
      "TRAIN: 98 [6400/19125 (33%)]\tLoss: 0.374798, Accuracy: 6/8 (75.000%)\n",
      "TRAIN: LOSS-->0.3563 (0.3739)\tACC-->87.500% (82.430%)\n",
      "TRAIN: 98 [8000/19125 (42%)]\tLoss: 0.356298, Accuracy: 7/8 (87.500%)\n",
      "TRAIN: LOSS-->0.5640 (0.3762)\tACC-->75.000% (82.254%)\n",
      "TRAIN: 98 [9600/19125 (50%)]\tLoss: 0.564006, Accuracy: 6/8 (75.000%)\n",
      "TRAIN: LOSS-->0.4741 (0.3768)\tACC-->75.000% (82.066%)\n",
      "TRAIN: 98 [11200/19125 (59%)]\tLoss: 0.474065, Accuracy: 6/8 (75.000%)\n",
      "TRAIN: LOSS-->0.3286 (0.3758)\tACC-->75.000% (82.105%)\n",
      "TRAIN: 98 [12800/19125 (67%)]\tLoss: 0.328564, Accuracy: 6/8 (75.000%)\n",
      "TRAIN: LOSS-->0.1930 (0.3750)\tACC-->100.000% (82.163%)\n",
      "TRAIN: 98 [14400/19125 (75%)]\tLoss: 0.193021, Accuracy: 8/8 (100.000%)\n",
      "TRAIN: LOSS-->0.2715 (0.3764)\tACC-->87.500% (82.046%)\n",
      "TRAIN: 98 [16000/19125 (84%)]\tLoss: 0.271510, Accuracy: 7/8 (87.500%)\n",
      "TRAIN: LOSS-->0.3128 (0.3765)\tACC-->87.500% (82.025%)\n",
      "TRAIN: 98 [17600/19125 (92%)]\tLoss: 0.312750, Accuracy: 7/8 (87.500%)\n",
      "VAL:   LOSS--> 0.1939 (0.1939)\tACC-->87.500 (87.500)\n",
      "VAL:   LOSS--> 0.0456 (0.2681)\tACC-->100.000 (89.552)\n",
      "VAL:   LOSS--> 0.2540 (0.2543)\tACC-->87.500 (89.651)\n",
      " * Accuracy 89.6000\n"
     ]
    },
    {
     "name": "stderr",
     "output_type": "stream",
     "text": [
      "\r",
      " 66%|█████████████████████████████████████████████████████████████████████████████████████████████                                                | 99/150 [3:48:34<1:57:44, 138.53s/it]"
     ]
    },
    {
     "name": "stdout",
     "output_type": "stream",
     "text": [
      "TRAIN: LOSS-->0.3270 (0.3270)\tACC-->87.500% (87.500%)\n",
      "TRAIN: 99 [0/19125 (0%)]\tLoss: 0.326988, Accuracy: 7/8 (87.500%)\n",
      "TRAIN: LOSS-->0.5991 (0.3921)\tACC-->62.500% (81.157%)\n",
      "TRAIN: 99 [1600/19125 (8%)]\tLoss: 0.599097, Accuracy: 5/8 (62.500%)\n",
      "TRAIN: LOSS-->0.3271 (0.3912)\tACC-->75.000% (81.079%)\n",
      "TRAIN: 99 [3200/19125 (17%)]\tLoss: 0.327124, Accuracy: 6/8 (75.000%)\n",
      "TRAIN: LOSS-->0.1253 (0.3830)\tACC-->100.000% (81.448%)\n",
      "TRAIN: 99 [4800/19125 (25%)]\tLoss: 0.125322, Accuracy: 8/8 (100.000%)\n",
      "TRAIN: LOSS-->0.5284 (0.3853)\tACC-->75.000% (81.289%)\n",
      "TRAIN: 99 [6400/19125 (33%)]\tLoss: 0.528360, Accuracy: 6/8 (75.000%)\n",
      "TRAIN: LOSS-->0.3846 (0.3791)\tACC-->87.500% (81.743%)\n",
      "TRAIN: 99 [8000/19125 (42%)]\tLoss: 0.384555, Accuracy: 7/8 (87.500%)\n",
      "TRAIN: LOSS-->0.1408 (0.3834)\tACC-->100.000% (81.526%)\n",
      "TRAIN: 99 [9600/19125 (50%)]\tLoss: 0.140800, Accuracy: 8/8 (100.000%)\n",
      "TRAIN: LOSS-->0.3599 (0.3804)\tACC-->87.500% (81.718%)\n",
      "TRAIN: 99 [11200/19125 (59%)]\tLoss: 0.359922, Accuracy: 7/8 (87.500%)\n",
      "TRAIN: LOSS-->0.2990 (0.3802)\tACC-->87.500% (81.730%)\n",
      "TRAIN: 99 [12800/19125 (67%)]\tLoss: 0.298965, Accuracy: 7/8 (87.500%)\n",
      "TRAIN: LOSS-->0.5366 (0.3779)\tACC-->75.000% (81.843%)\n",
      "TRAIN: 99 [14400/19125 (75%)]\tLoss: 0.536628, Accuracy: 6/8 (75.000%)\n",
      "TRAIN: LOSS-->0.1482 (0.3757)\tACC-->100.000% (81.909%)\n",
      "TRAIN: 99 [16000/19125 (84%)]\tLoss: 0.148196, Accuracy: 8/8 (100.000%)\n",
      "TRAIN: LOSS-->0.3767 (0.3755)\tACC-->87.500% (81.934%)\n",
      "TRAIN: 99 [17600/19125 (92%)]\tLoss: 0.376739, Accuracy: 7/8 (87.500%)\n",
      "VAL:   LOSS--> 0.0051 (0.0051)\tACC-->100.000 (100.000)\n",
      "VAL:   LOSS--> 0.0419 (0.1830)\tACC-->100.000 (93.097)\n",
      "VAL:   LOSS--> 0.0625 (0.1735)\tACC-->100.000 (93.516)\n",
      " * Accuracy 93.5704\n"
     ]
    },
    {
     "name": "stderr",
     "output_type": "stream",
     "text": [
      "\r",
      " 67%|█████████████████████████████████████████████████████████████████████████████████████████████▎                                              | 100/150 [3:50:54<1:55:27, 138.55s/it]"
     ]
    },
    {
     "name": "stdout",
     "output_type": "stream",
     "text": [
      "TRAIN: LOSS-->0.2453 (0.2453)\tACC-->75.000% (75.000%)\n",
      "TRAIN: 100 [0/19125 (0%)]\tLoss: 0.245313, Accuracy: 6/8 (75.000%)\n",
      "TRAIN: LOSS-->0.6342 (0.3876)\tACC-->75.000% (81.468%)\n",
      "TRAIN: 100 [1600/19125 (8%)]\tLoss: 0.634153, Accuracy: 6/8 (75.000%)\n",
      "TRAIN: LOSS-->0.7513 (0.3758)\tACC-->75.000% (81.671%)\n",
      "TRAIN: 100 [3200/19125 (17%)]\tLoss: 0.751269, Accuracy: 6/8 (75.000%)\n",
      "TRAIN: LOSS-->0.2821 (0.3811)\tACC-->87.500% (81.510%)\n",
      "TRAIN: 100 [4800/19125 (25%)]\tLoss: 0.282052, Accuracy: 7/8 (87.500%)\n",
      "TRAIN: LOSS-->0.4629 (0.3809)\tACC-->75.000% (81.679%)\n",
      "TRAIN: 100 [6400/19125 (33%)]\tLoss: 0.462856, Accuracy: 6/8 (75.000%)\n",
      "TRAIN: LOSS-->0.1258 (0.3798)\tACC-->100.000% (81.743%)\n",
      "TRAIN: 100 [8000/19125 (42%)]\tLoss: 0.125772, Accuracy: 8/8 (100.000%)\n",
      "TRAIN: LOSS-->0.1388 (0.3792)\tACC-->87.500% (81.630%)\n",
      "TRAIN: 100 [9600/19125 (50%)]\tLoss: 0.138809, Accuracy: 7/8 (87.500%)\n",
      "TRAIN: LOSS-->0.4670 (0.3781)\tACC-->75.000% (81.736%)\n",
      "TRAIN: 100 [11200/19125 (59%)]\tLoss: 0.466965, Accuracy: 6/8 (75.000%)\n",
      "TRAIN: LOSS-->0.1705 (0.3774)\tACC-->87.500% (81.808%)\n",
      "TRAIN: 100 [12800/19125 (67%)]\tLoss: 0.170487, Accuracy: 7/8 (87.500%)\n",
      "TRAIN: LOSS-->0.2411 (0.3796)\tACC-->87.500% (81.663%)\n",
      "TRAIN: 100 [14400/19125 (75%)]\tLoss: 0.241123, Accuracy: 7/8 (87.500%)\n",
      "TRAIN: LOSS-->0.5028 (0.3768)\tACC-->75.000% (81.815%)\n",
      "TRAIN: 100 [16000/19125 (84%)]\tLoss: 0.502787, Accuracy: 6/8 (75.000%)\n",
      "TRAIN: LOSS-->0.4699 (0.3766)\tACC-->75.000% (81.855%)\n",
      "TRAIN: 100 [17600/19125 (92%)]\tLoss: 0.469915, Accuracy: 6/8 (75.000%)\n",
      "VAL:   LOSS--> 0.0566 (0.0566)\tACC-->100.000 (100.000)\n",
      "VAL:   LOSS--> 0.1633 (0.2119)\tACC-->87.500 (92.289)\n",
      "VAL:   LOSS--> 0.1891 (0.1995)\tACC-->100.000 (92.830)\n",
      " * Accuracy 92.7111\n"
     ]
    },
    {
     "name": "stderr",
     "output_type": "stream",
     "text": [
      "\r",
      " 67%|██████████████████████████████████████████████████████████████████████████████████████████████▎                                             | 101/150 [3:53:15<1:53:10, 138.57s/it]"
     ]
    },
    {
     "name": "stdout",
     "output_type": "stream",
     "text": [
      "TRAIN: LOSS-->0.3174 (0.3174)\tACC-->87.500% (87.500%)\n",
      "TRAIN: 101 [0/19125 (0%)]\tLoss: 0.317354, Accuracy: 7/8 (87.500%)\n",
      "TRAIN: LOSS-->0.2673 (0.3895)\tACC-->87.500% (81.343%)\n",
      "TRAIN: 101 [1600/19125 (8%)]\tLoss: 0.267337, Accuracy: 7/8 (87.500%)\n",
      "TRAIN: LOSS-->0.5405 (0.3849)\tACC-->75.000% (81.484%)\n",
      "TRAIN: 101 [3200/19125 (17%)]\tLoss: 0.540484, Accuracy: 6/8 (75.000%)\n",
      "TRAIN: LOSS-->0.3473 (0.3857)\tACC-->87.500% (81.156%)\n",
      "TRAIN: 101 [4800/19125 (25%)]\tLoss: 0.347320, Accuracy: 7/8 (87.500%)\n",
      "TRAIN: LOSS-->0.2584 (0.3823)\tACC-->100.000% (81.554%)\n",
      "TRAIN: 101 [6400/19125 (33%)]\tLoss: 0.258418, Accuracy: 8/8 (100.000%)\n",
      "TRAIN: LOSS-->0.5854 (0.3803)\tACC-->62.500% (81.656%)\n",
      "TRAIN: 101 [8000/19125 (42%)]\tLoss: 0.585419, Accuracy: 5/8 (62.500%)\n",
      "TRAIN: LOSS-->0.3105 (0.3778)\tACC-->75.000% (81.765%)\n",
      "TRAIN: 101 [9600/19125 (50%)]\tLoss: 0.310510, Accuracy: 6/8 (75.000%)\n",
      "TRAIN: LOSS-->0.5184 (0.3755)\tACC-->50.000% (81.861%)\n",
      "TRAIN: 101 [11200/19125 (59%)]\tLoss: 0.518431, Accuracy: 4/8 (50.000%)\n",
      "TRAIN: LOSS-->0.1838 (0.3736)\tACC-->100.000% (81.964%)\n",
      "TRAIN: 101 [12800/19125 (67%)]\tLoss: 0.183770, Accuracy: 8/8 (100.000%)\n",
      "TRAIN: LOSS-->0.3059 (0.3744)\tACC-->87.500% (81.823%)\n",
      "TRAIN: 101 [14400/19125 (75%)]\tLoss: 0.305874, Accuracy: 7/8 (87.500%)\n",
      "TRAIN: LOSS-->0.1717 (0.3725)\tACC-->87.500% (81.940%)\n",
      "TRAIN: 101 [16000/19125 (84%)]\tLoss: 0.171725, Accuracy: 7/8 (87.500%)\n",
      "TRAIN: LOSS-->0.1901 (0.3733)\tACC-->87.500% (81.866%)\n",
      "TRAIN: 101 [17600/19125 (92%)]\tLoss: 0.190054, Accuracy: 7/8 (87.500%)\n",
      "VAL:   LOSS--> 0.0972 (0.0972)\tACC-->100.000 (100.000)\n",
      "VAL:   LOSS--> 0.2245 (0.2041)\tACC-->87.500 (92.724)\n",
      "VAL:   LOSS--> 0.0266 (0.2024)\tACC-->100.000 (92.924)\n",
      " * Accuracy 92.9185\n"
     ]
    },
    {
     "name": "stderr",
     "output_type": "stream",
     "text": [
      "\r",
      " 68%|███████████████████████████████████████████████████████████████████████████████████████████████▏                                            | 102/150 [3:55:36<1:50:52, 138.59s/it]"
     ]
    },
    {
     "name": "stdout",
     "output_type": "stream",
     "text": [
      "TRAIN: LOSS-->0.2570 (0.2570)\tACC-->87.500% (87.500%)\n",
      "TRAIN: 102 [0/19125 (0%)]\tLoss: 0.256990, Accuracy: 7/8 (87.500%)\n",
      "TRAIN: LOSS-->0.6706 (0.3695)\tACC-->62.500% (82.152%)\n",
      "TRAIN: 102 [1600/19125 (8%)]\tLoss: 0.670646, Accuracy: 5/8 (62.500%)\n",
      "TRAIN: LOSS-->0.2549 (0.3695)\tACC-->100.000% (82.263%)\n",
      "TRAIN: 102 [3200/19125 (17%)]\tLoss: 0.254934, Accuracy: 8/8 (100.000%)\n",
      "TRAIN: LOSS-->0.4864 (0.3755)\tACC-->75.000% (82.196%)\n",
      "TRAIN: 102 [4800/19125 (25%)]\tLoss: 0.486398, Accuracy: 6/8 (75.000%)\n",
      "TRAIN: LOSS-->0.4013 (0.3734)\tACC-->87.500% (82.100%)\n",
      "TRAIN: 102 [6400/19125 (33%)]\tLoss: 0.401277, Accuracy: 7/8 (87.500%)\n",
      "TRAIN: LOSS-->0.3220 (0.3712)\tACC-->87.500% (82.143%)\n",
      "TRAIN: 102 [8000/19125 (42%)]\tLoss: 0.322022, Accuracy: 7/8 (87.500%)\n",
      "TRAIN: LOSS-->0.6840 (0.3722)\tACC-->50.000% (82.140%)\n",
      "TRAIN: 102 [9600/19125 (50%)]\tLoss: 0.684030, Accuracy: 4/8 (50.000%)\n",
      "TRAIN: LOSS-->0.6151 (0.3713)\tACC-->75.000% (82.343%)\n",
      "TRAIN: 102 [11200/19125 (59%)]\tLoss: 0.615058, Accuracy: 6/8 (75.000%)\n",
      "TRAIN: LOSS-->0.2688 (0.3711)\tACC-->75.000% (82.160%)\n",
      "TRAIN: 102 [12800/19125 (67%)]\tLoss: 0.268824, Accuracy: 6/8 (75.000%)\n",
      "TRAIN: LOSS-->0.4117 (0.3690)\tACC-->87.500% (82.239%)\n",
      "TRAIN: 102 [14400/19125 (75%)]\tLoss: 0.411748, Accuracy: 7/8 (87.500%)\n",
      "TRAIN: LOSS-->0.5027 (0.3704)\tACC-->75.000% (82.228%)\n",
      "TRAIN: 102 [16000/19125 (84%)]\tLoss: 0.502722, Accuracy: 6/8 (75.000%)\n",
      "TRAIN: LOSS-->1.0958 (0.3714)\tACC-->50.000% (82.184%)\n",
      "TRAIN: 102 [17600/19125 (92%)]\tLoss: 1.095756, Accuracy: 4/8 (50.000%)\n",
      "VAL:   LOSS--> 0.2901 (0.2901)\tACC-->87.500 (87.500)\n",
      "VAL:   LOSS--> 0.1965 (0.1832)\tACC-->87.500 (92.973)\n",
      "VAL:   LOSS--> 0.1212 (0.1791)\tACC-->100.000 (92.986)\n",
      " * Accuracy 93.0074\n"
     ]
    },
    {
     "name": "stderr",
     "output_type": "stream",
     "text": [
      "\r",
      " 69%|████████████████████████████████████████████████████████████████████████████████████████████████▏                                           | 103/150 [3:57:57<1:48:35, 138.62s/it]"
     ]
    },
    {
     "name": "stdout",
     "output_type": "stream",
     "text": [
      "TRAIN: LOSS-->0.6637 (0.6637)\tACC-->50.000% (50.000%)\n",
      "TRAIN: 103 [0/19125 (0%)]\tLoss: 0.663735, Accuracy: 4/8 (50.000%)\n",
      "TRAIN: LOSS-->0.1832 (0.3587)\tACC-->100.000% (83.333%)\n",
      "TRAIN: 103 [1600/19125 (8%)]\tLoss: 0.183172, Accuracy: 8/8 (100.000%)\n",
      "TRAIN: LOSS-->0.1622 (0.3676)\tACC-->100.000% (83.042%)\n",
      "TRAIN: 103 [3200/19125 (17%)]\tLoss: 0.162193, Accuracy: 8/8 (100.000%)\n",
      "TRAIN: LOSS-->0.5606 (0.3713)\tACC-->75.000% (82.342%)\n",
      "TRAIN: 103 [4800/19125 (25%)]\tLoss: 0.560629, Accuracy: 6/8 (75.000%)\n",
      "TRAIN: LOSS-->0.2058 (0.3776)\tACC-->87.500% (81.991%)\n",
      "TRAIN: 103 [6400/19125 (33%)]\tLoss: 0.205753, Accuracy: 7/8 (87.500%)\n",
      "TRAIN: LOSS-->0.3660 (0.3755)\tACC-->75.000% (82.305%)\n",
      "TRAIN: 103 [8000/19125 (42%)]\tLoss: 0.365979, Accuracy: 6/8 (75.000%)\n",
      "TRAIN: LOSS-->0.4904 (0.3752)\tACC-->62.500% (82.088%)\n",
      "TRAIN: 103 [9600/19125 (50%)]\tLoss: 0.490394, Accuracy: 5/8 (62.500%)\n",
      "TRAIN: LOSS-->0.5225 (0.3754)\tACC-->75.000% (82.084%)\n",
      "TRAIN: 103 [11200/19125 (59%)]\tLoss: 0.522508, Accuracy: 6/8 (75.000%)\n",
      "TRAIN: LOSS-->0.4457 (0.3712)\tACC-->75.000% (82.355%)\n",
      "TRAIN: 103 [12800/19125 (67%)]\tLoss: 0.445688, Accuracy: 6/8 (75.000%)\n",
      "TRAIN: LOSS-->0.2265 (0.3717)\tACC-->100.000% (82.274%)\n",
      "TRAIN: 103 [14400/19125 (75%)]\tLoss: 0.226511, Accuracy: 8/8 (100.000%)\n",
      "TRAIN: LOSS-->0.2340 (0.3730)\tACC-->75.000% (82.165%)\n",
      "TRAIN: 103 [16000/19125 (84%)]\tLoss: 0.234013, Accuracy: 6/8 (75.000%)\n",
      "TRAIN: LOSS-->0.1363 (0.3737)\tACC-->100.000% (82.110%)\n",
      "TRAIN: 103 [17600/19125 (92%)]\tLoss: 0.136251, Accuracy: 8/8 (100.000%)\n",
      "VAL:   LOSS--> 0.0129 (0.0129)\tACC-->100.000 (100.000)\n",
      "VAL:   LOSS--> 0.2667 (0.1955)\tACC-->87.500 (92.164)\n",
      "VAL:   LOSS--> 0.2277 (0.2251)\tACC-->87.500 (91.272)\n",
      " * Accuracy 91.4370\n"
     ]
    },
    {
     "name": "stderr",
     "output_type": "stream",
     "text": [
      "\r",
      " 69%|█████████████████████████████████████████████████████████████████████████████████████████████████                                           | 104/150 [4:00:18<1:46:17, 138.64s/it]"
     ]
    },
    {
     "name": "stdout",
     "output_type": "stream",
     "text": [
      "TRAIN: LOSS-->0.2191 (0.2191)\tACC-->87.500% (87.500%)\n",
      "TRAIN: 104 [0/19125 (0%)]\tLoss: 0.219113, Accuracy: 7/8 (87.500%)\n",
      "TRAIN: LOSS-->0.1654 (0.3837)\tACC-->100.000% (81.219%)\n",
      "TRAIN: 104 [1600/19125 (8%)]\tLoss: 0.165437, Accuracy: 8/8 (100.000%)\n",
      "TRAIN: LOSS-->0.4029 (0.3797)\tACC-->75.000% (81.796%)\n",
      "TRAIN: 104 [3200/19125 (17%)]\tLoss: 0.402858, Accuracy: 6/8 (75.000%)\n",
      "TRAIN: LOSS-->0.3501 (0.3750)\tACC-->87.500% (82.134%)\n",
      "TRAIN: 104 [4800/19125 (25%)]\tLoss: 0.350078, Accuracy: 7/8 (87.500%)\n",
      "TRAIN: LOSS-->0.3223 (0.3780)\tACC-->75.000% (81.960%)\n",
      "TRAIN: 104 [6400/19125 (33%)]\tLoss: 0.322338, Accuracy: 6/8 (75.000%)\n",
      "TRAIN: LOSS-->0.1941 (0.3753)\tACC-->87.500% (81.968%)\n",
      "TRAIN: 104 [8000/19125 (42%)]\tLoss: 0.194100, Accuracy: 7/8 (87.500%)\n",
      "TRAIN: LOSS-->0.1936 (0.3718)\tACC-->87.500% (82.213%)\n",
      "TRAIN: 104 [9600/19125 (50%)]\tLoss: 0.193582, Accuracy: 7/8 (87.500%)\n",
      "TRAIN: LOSS-->0.3563 (0.3708)\tACC-->87.500% (82.325%)\n",
      "TRAIN: 104 [11200/19125 (59%)]\tLoss: 0.356273, Accuracy: 7/8 (87.500%)\n",
      "TRAIN: LOSS-->0.2439 (0.3705)\tACC-->87.500% (82.308%)\n",
      "TRAIN: 104 [12800/19125 (67%)]\tLoss: 0.243901, Accuracy: 7/8 (87.500%)\n",
      "TRAIN: LOSS-->0.2569 (0.3699)\tACC-->87.500% (82.274%)\n",
      "TRAIN: 104 [14400/19125 (75%)]\tLoss: 0.256874, Accuracy: 7/8 (87.500%)\n",
      "TRAIN: LOSS-->0.4592 (0.3704)\tACC-->75.000% (82.253%)\n",
      "TRAIN: 104 [16000/19125 (84%)]\tLoss: 0.459181, Accuracy: 6/8 (75.000%)\n",
      "TRAIN: LOSS-->0.5938 (0.3692)\tACC-->75.000% (82.423%)\n",
      "TRAIN: 104 [17600/19125 (92%)]\tLoss: 0.593821, Accuracy: 6/8 (75.000%)\n",
      "VAL:   LOSS--> 0.1784 (0.1784)\tACC-->100.000 (100.000)\n",
      "VAL:   LOSS--> 0.4679 (0.1607)\tACC-->87.500 (93.221)\n",
      "VAL:   LOSS--> 0.2047 (0.1740)\tACC-->87.500 (92.955)\n",
      " * Accuracy 92.7704\n"
     ]
    },
    {
     "name": "stderr",
     "output_type": "stream",
     "text": [
      "\r",
      " 70%|██████████████████████████████████████████████████████████████████████████████████████████████████                                          | 105/150 [4:02:38<1:43:59, 138.66s/it]"
     ]
    },
    {
     "name": "stdout",
     "output_type": "stream",
     "text": [
      "TRAIN: LOSS-->0.5766 (0.5766)\tACC-->75.000% (75.000%)\n",
      "TRAIN: 105 [0/19125 (0%)]\tLoss: 0.576596, Accuracy: 6/8 (75.000%)\n",
      "TRAIN: LOSS-->0.2392 (0.3491)\tACC-->87.500% (83.582%)\n",
      "TRAIN: 105 [1600/19125 (8%)]\tLoss: 0.239167, Accuracy: 7/8 (87.500%)\n",
      "TRAIN: LOSS-->0.2094 (0.3663)\tACC-->87.500% (82.481%)\n",
      "TRAIN: 105 [3200/19125 (17%)]\tLoss: 0.209381, Accuracy: 7/8 (87.500%)\n",
      "TRAIN: LOSS-->0.2818 (0.3626)\tACC-->87.500% (82.550%)\n",
      "TRAIN: 105 [4800/19125 (25%)]\tLoss: 0.281806, Accuracy: 7/8 (87.500%)\n",
      "TRAIN: LOSS-->0.1857 (0.3631)\tACC-->100.000% (82.615%)\n",
      "TRAIN: 105 [6400/19125 (33%)]\tLoss: 0.185667, Accuracy: 8/8 (100.000%)\n",
      "TRAIN: LOSS-->0.2106 (0.3690)\tACC-->100.000% (82.218%)\n",
      "TRAIN: 105 [8000/19125 (42%)]\tLoss: 0.210610, Accuracy: 8/8 (100.000%)\n",
      "TRAIN: LOSS-->0.1362 (0.3689)\tACC-->100.000% (82.192%)\n",
      "TRAIN: 105 [9600/19125 (50%)]\tLoss: 0.136181, Accuracy: 8/8 (100.000%)\n",
      "TRAIN: LOSS-->0.3510 (0.3675)\tACC-->62.500% (82.370%)\n",
      "TRAIN: 105 [11200/19125 (59%)]\tLoss: 0.350983, Accuracy: 5/8 (62.500%)\n",
      "TRAIN: LOSS-->0.6743 (0.3681)\tACC-->75.000% (82.370%)\n",
      "TRAIN: 105 [12800/19125 (67%)]\tLoss: 0.674286, Accuracy: 6/8 (75.000%)\n",
      "TRAIN: LOSS-->0.4590 (0.3687)\tACC-->75.000% (82.301%)\n",
      "TRAIN: 105 [14400/19125 (75%)]\tLoss: 0.458963, Accuracy: 6/8 (75.000%)\n",
      "TRAIN: LOSS-->0.3351 (0.3684)\tACC-->75.000% (82.303%)\n",
      "TRAIN: 105 [16000/19125 (84%)]\tLoss: 0.335087, Accuracy: 6/8 (75.000%)\n",
      "TRAIN: LOSS-->0.4394 (0.3682)\tACC-->75.000% (82.275%)\n",
      "TRAIN: 105 [17600/19125 (92%)]\tLoss: 0.439412, Accuracy: 6/8 (75.000%)\n",
      "VAL:   LOSS--> 0.0153 (0.0153)\tACC-->100.000 (100.000)\n",
      "VAL:   LOSS--> 0.0477 (0.1903)\tACC-->100.000 (92.289)\n",
      "VAL:   LOSS--> 0.0474 (0.1807)\tACC-->100.000 (92.675)\n",
      " * Accuracy 92.7111\n"
     ]
    },
    {
     "name": "stderr",
     "output_type": "stream",
     "text": [
      "\r",
      " 71%|██████████████████████████████████████████████████████████████████████████████████████████████████▉                                         | 106/150 [4:04:59<1:41:41, 138.68s/it]"
     ]
    },
    {
     "name": "stdout",
     "output_type": "stream",
     "text": [
      "TRAIN: LOSS-->0.5895 (0.5895)\tACC-->87.500% (87.500%)\n",
      "TRAIN: 106 [0/19125 (0%)]\tLoss: 0.589502, Accuracy: 7/8 (87.500%)\n",
      "TRAIN: LOSS-->0.2785 (0.3763)\tACC-->87.500% (82.649%)\n",
      "TRAIN: 106 [1600/19125 (8%)]\tLoss: 0.278523, Accuracy: 7/8 (87.500%)\n",
      "TRAIN: LOSS-->0.1970 (0.3739)\tACC-->100.000% (82.887%)\n",
      "TRAIN: 106 [3200/19125 (17%)]\tLoss: 0.197017, Accuracy: 8/8 (100.000%)\n",
      "TRAIN: LOSS-->0.4196 (0.3808)\tACC-->75.000% (82.217%)\n",
      "TRAIN: 106 [4800/19125 (25%)]\tLoss: 0.419585, Accuracy: 6/8 (75.000%)\n",
      "TRAIN: LOSS-->0.3322 (0.3785)\tACC-->75.000% (82.147%)\n",
      "TRAIN: 106 [6400/19125 (33%)]\tLoss: 0.332195, Accuracy: 6/8 (75.000%)\n",
      "TRAIN: LOSS-->0.3796 (0.3788)\tACC-->75.000% (82.193%)\n",
      "TRAIN: 106 [8000/19125 (42%)]\tLoss: 0.379642, Accuracy: 6/8 (75.000%)\n",
      "TRAIN: LOSS-->0.3900 (0.3790)\tACC-->75.000% (82.119%)\n",
      "TRAIN: 106 [9600/19125 (50%)]\tLoss: 0.389997, Accuracy: 6/8 (75.000%)\n",
      "TRAIN: LOSS-->0.4755 (0.3759)\tACC-->87.500% (82.156%)\n",
      "TRAIN: 106 [11200/19125 (59%)]\tLoss: 0.475549, Accuracy: 7/8 (87.500%)\n",
      "TRAIN: LOSS-->0.5996 (0.3733)\tACC-->62.500% (82.347%)\n",
      "TRAIN: 106 [12800/19125 (67%)]\tLoss: 0.599565, Accuracy: 5/8 (62.500%)\n",
      "TRAIN: LOSS-->0.1951 (0.3778)\tACC-->100.000% (81.982%)\n",
      "TRAIN: 106 [14400/19125 (75%)]\tLoss: 0.195133, Accuracy: 8/8 (100.000%)\n",
      "TRAIN: LOSS-->0.2008 (0.3768)\tACC-->87.500% (82.021%)\n",
      "TRAIN: 106 [16000/19125 (84%)]\tLoss: 0.200807, Accuracy: 7/8 (87.500%)\n",
      "TRAIN: LOSS-->0.2152 (0.3759)\tACC-->100.000% (82.031%)\n",
      "TRAIN: 106 [17600/19125 (92%)]\tLoss: 0.215208, Accuracy: 8/8 (100.000%)\n",
      "VAL:   LOSS--> 0.0727 (0.0727)\tACC-->100.000 (100.000)\n",
      "VAL:   LOSS--> 0.2137 (0.1928)\tACC-->87.500 (93.035)\n",
      "VAL:   LOSS--> 0.3768 (0.1935)\tACC-->87.500 (92.737)\n",
      " * Accuracy 92.6519\n"
     ]
    },
    {
     "name": "stderr",
     "output_type": "stream",
     "text": [
      "\r",
      " 71%|███████████████████████████████████████████████████████████████████████████████████████████████████▊                                        | 107/150 [4:07:20<1:39:24, 138.70s/it]"
     ]
    },
    {
     "name": "stdout",
     "output_type": "stream",
     "text": [
      "TRAIN: LOSS-->0.2328 (0.2328)\tACC-->87.500% (87.500%)\n",
      "TRAIN: 107 [0/19125 (0%)]\tLoss: 0.232829, Accuracy: 7/8 (87.500%)\n",
      "TRAIN: LOSS-->0.2915 (0.3744)\tACC-->100.000% (81.965%)\n",
      "TRAIN: 107 [1600/19125 (8%)]\tLoss: 0.291453, Accuracy: 8/8 (100.000%)\n",
      "TRAIN: LOSS-->0.5010 (0.3733)\tACC-->62.500% (81.671%)\n",
      "TRAIN: 107 [3200/19125 (17%)]\tLoss: 0.501014, Accuracy: 5/8 (62.500%)\n",
      "TRAIN: LOSS-->0.5083 (0.3756)\tACC-->87.500% (82.238%)\n",
      "TRAIN: 107 [4800/19125 (25%)]\tLoss: 0.508277, Accuracy: 7/8 (87.500%)\n",
      "TRAIN: LOSS-->0.3143 (0.3690)\tACC-->87.500% (82.428%)\n",
      "TRAIN: 107 [6400/19125 (33%)]\tLoss: 0.314315, Accuracy: 7/8 (87.500%)\n",
      "TRAIN: LOSS-->0.1581 (0.3701)\tACC-->100.000% (82.255%)\n",
      "TRAIN: 107 [8000/19125 (42%)]\tLoss: 0.158129, Accuracy: 8/8 (100.000%)\n",
      "TRAIN: LOSS-->0.3761 (0.3730)\tACC-->87.500% (82.109%)\n",
      "TRAIN: 107 [9600/19125 (50%)]\tLoss: 0.376062, Accuracy: 7/8 (87.500%)\n",
      "TRAIN: LOSS-->0.6460 (0.3729)\tACC-->75.000% (82.031%)\n",
      "TRAIN: 107 [11200/19125 (59%)]\tLoss: 0.646018, Accuracy: 6/8 (75.000%)\n",
      "TRAIN: LOSS-->0.4384 (0.3724)\tACC-->75.000% (82.066%)\n",
      "TRAIN: 107 [12800/19125 (67%)]\tLoss: 0.438383, Accuracy: 6/8 (75.000%)\n",
      "TRAIN: LOSS-->0.2064 (0.3732)\tACC-->100.000% (81.975%)\n",
      "TRAIN: 107 [14400/19125 (75%)]\tLoss: 0.206401, Accuracy: 8/8 (100.000%)\n",
      "TRAIN: LOSS-->0.1594 (0.3703)\tACC-->87.500% (82.109%)\n",
      "TRAIN: 107 [16000/19125 (84%)]\tLoss: 0.159416, Accuracy: 7/8 (87.500%)\n",
      "TRAIN: LOSS-->0.5074 (0.3686)\tACC-->62.500% (82.179%)\n",
      "TRAIN: 107 [17600/19125 (92%)]\tLoss: 0.507352, Accuracy: 5/8 (62.500%)\n",
      "VAL:   LOSS--> 0.1879 (0.1879)\tACC-->87.500 (87.500)\n",
      "VAL:   LOSS--> 0.0780 (0.2105)\tACC-->100.000 (92.289)\n",
      "VAL:   LOSS--> 0.4116 (0.2160)\tACC-->87.500 (91.989)\n",
      " * Accuracy 91.8815\n"
     ]
    },
    {
     "name": "stderr",
     "output_type": "stream",
     "text": [
      "\r",
      " 72%|████████████████████████████████████████████████████████████████████████████████████████████████████▊                                       | 108/150 [4:09:41<1:37:06, 138.72s/it]"
     ]
    },
    {
     "name": "stdout",
     "output_type": "stream",
     "text": [
      "TRAIN: LOSS-->0.6742 (0.6742)\tACC-->75.000% (75.000%)\n",
      "TRAIN: 108 [0/19125 (0%)]\tLoss: 0.674194, Accuracy: 6/8 (75.000%)\n",
      "TRAIN: LOSS-->0.4524 (0.3943)\tACC-->75.000% (79.789%)\n",
      "TRAIN: 108 [1600/19125 (8%)]\tLoss: 0.452437, Accuracy: 6/8 (75.000%)\n",
      "TRAIN: LOSS-->0.2200 (0.3695)\tACC-->87.500% (81.515%)\n",
      "TRAIN: 108 [3200/19125 (17%)]\tLoss: 0.219982, Accuracy: 7/8 (87.500%)\n",
      "TRAIN: LOSS-->0.4007 (0.3635)\tACC-->87.500% (82.321%)\n",
      "TRAIN: 108 [4800/19125 (25%)]\tLoss: 0.400725, Accuracy: 7/8 (87.500%)\n",
      "TRAIN: LOSS-->0.2522 (0.3627)\tACC-->87.500% (82.647%)\n",
      "TRAIN: 108 [6400/19125 (33%)]\tLoss: 0.252205, Accuracy: 7/8 (87.500%)\n",
      "TRAIN: LOSS-->0.2157 (0.3631)\tACC-->87.500% (82.805%)\n",
      "TRAIN: 108 [8000/19125 (42%)]\tLoss: 0.215722, Accuracy: 7/8 (87.500%)\n",
      "TRAIN: LOSS-->0.4970 (0.3653)\tACC-->62.500% (82.639%)\n",
      "TRAIN: 108 [9600/19125 (50%)]\tLoss: 0.496998, Accuracy: 5/8 (62.500%)\n",
      "TRAIN: LOSS-->0.3175 (0.3681)\tACC-->87.500% (82.423%)\n",
      "TRAIN: 108 [11200/19125 (59%)]\tLoss: 0.317544, Accuracy: 7/8 (87.500%)\n",
      "TRAIN: LOSS-->0.1701 (0.3679)\tACC-->100.000% (82.425%)\n",
      "TRAIN: 108 [12800/19125 (67%)]\tLoss: 0.170069, Accuracy: 8/8 (100.000%)\n",
      "TRAIN: LOSS-->0.4124 (0.3668)\tACC-->75.000% (82.468%)\n",
      "TRAIN: 108 [14400/19125 (75%)]\tLoss: 0.412398, Accuracy: 6/8 (75.000%)\n",
      "TRAIN: LOSS-->0.4563 (0.3688)\tACC-->87.500% (82.459%)\n",
      "TRAIN: 108 [16000/19125 (84%)]\tLoss: 0.456264, Accuracy: 7/8 (87.500%)\n",
      "TRAIN: LOSS-->0.1874 (0.3697)\tACC-->100.000% (82.440%)\n",
      "TRAIN: 108 [17600/19125 (92%)]\tLoss: 0.187350, Accuracy: 8/8 (100.000%)\n",
      "VAL:   LOSS--> 0.7232 (0.7232)\tACC-->75.000 (75.000)\n",
      "VAL:   LOSS--> 0.0074 (0.2346)\tACC-->100.000 (90.983)\n",
      "VAL:   LOSS--> 0.2628 (0.2380)\tACC-->87.500 (90.991)\n",
      " * Accuracy 91.0815\n"
     ]
    },
    {
     "name": "stderr",
     "output_type": "stream",
     "text": [
      "\r",
      " 73%|█████████████████████████████████████████████████████████████████████████████████████████████████████▋                                      | 109/150 [4:12:02<1:34:48, 138.74s/it]"
     ]
    },
    {
     "name": "stdout",
     "output_type": "stream",
     "text": [
      "TRAIN: LOSS-->0.5751 (0.5751)\tACC-->62.500% (62.500%)\n",
      "TRAIN: 109 [0/19125 (0%)]\tLoss: 0.575118, Accuracy: 5/8 (62.500%)\n",
      "TRAIN: LOSS-->0.3415 (0.3958)\tACC-->87.500% (80.348%)\n",
      "TRAIN: 109 [1600/19125 (8%)]\tLoss: 0.341536, Accuracy: 7/8 (87.500%)\n",
      "TRAIN: LOSS-->0.6029 (0.3897)\tACC-->62.500% (81.079%)\n",
      "TRAIN: 109 [3200/19125 (17%)]\tLoss: 0.602896, Accuracy: 5/8 (62.500%)\n",
      "TRAIN: LOSS-->0.6721 (0.3750)\tACC-->62.500% (82.363%)\n",
      "TRAIN: 109 [4800/19125 (25%)]\tLoss: 0.672053, Accuracy: 5/8 (62.500%)\n",
      "TRAIN: LOSS-->0.1895 (0.3747)\tACC-->87.500% (82.303%)\n",
      "TRAIN: 109 [6400/19125 (33%)]\tLoss: 0.189543, Accuracy: 7/8 (87.500%)\n",
      "TRAIN: LOSS-->0.1771 (0.3757)\tACC-->100.000% (82.280%)\n",
      "TRAIN: 109 [8000/19125 (42%)]\tLoss: 0.177146, Accuracy: 8/8 (100.000%)\n",
      "TRAIN: LOSS-->0.3099 (0.3791)\tACC-->87.500% (81.953%)\n",
      "TRAIN: 109 [9600/19125 (50%)]\tLoss: 0.309948, Accuracy: 7/8 (87.500%)\n",
      "TRAIN: LOSS-->0.2489 (0.3796)\tACC-->87.500% (81.754%)\n",
      "TRAIN: 109 [11200/19125 (59%)]\tLoss: 0.248875, Accuracy: 7/8 (87.500%)\n",
      "TRAIN: LOSS-->0.2682 (0.3779)\tACC-->87.500% (81.855%)\n",
      "TRAIN: 109 [12800/19125 (67%)]\tLoss: 0.268193, Accuracy: 7/8 (87.500%)\n",
      "TRAIN: LOSS-->0.3556 (0.3762)\tACC-->75.000% (81.871%)\n",
      "TRAIN: 109 [14400/19125 (75%)]\tLoss: 0.355584, Accuracy: 6/8 (75.000%)\n",
      "TRAIN: LOSS-->0.2028 (0.3748)\tACC-->87.500% (82.009%)\n",
      "TRAIN: 109 [16000/19125 (84%)]\tLoss: 0.202782, Accuracy: 7/8 (87.500%)\n",
      "TRAIN: LOSS-->0.2161 (0.3754)\tACC-->87.500% (81.980%)\n",
      "TRAIN: 109 [17600/19125 (92%)]\tLoss: 0.216108, Accuracy: 7/8 (87.500%)\n",
      "VAL:   LOSS--> 0.1769 (0.1769)\tACC-->87.500 (87.500)\n",
      "VAL:   LOSS--> 0.0220 (0.2162)\tACC-->100.000 (92.351)\n",
      "VAL:   LOSS--> 0.2982 (0.2120)\tACC-->87.500 (92.145)\n",
      " * Accuracy 92.0889\n"
     ]
    },
    {
     "name": "stderr",
     "output_type": "stream",
     "text": [
      "\r",
      " 73%|██████████████████████████████████████████████████████████████████████████████████████████████████████▋                                     | 110/150 [4:14:23<1:32:30, 138.76s/it]"
     ]
    },
    {
     "name": "stdout",
     "output_type": "stream",
     "text": [
      "TRAIN: LOSS-->0.4049 (0.4049)\tACC-->75.000% (75.000%)\n",
      "TRAIN: 110 [0/19125 (0%)]\tLoss: 0.404854, Accuracy: 6/8 (75.000%)\n",
      "TRAIN: LOSS-->0.3491 (0.3502)\tACC-->87.500% (82.898%)\n",
      "TRAIN: 110 [1600/19125 (8%)]\tLoss: 0.349136, Accuracy: 7/8 (87.500%)\n",
      "TRAIN: LOSS-->0.2152 (0.3615)\tACC-->87.500% (82.575%)\n",
      "TRAIN: 110 [3200/19125 (17%)]\tLoss: 0.215222, Accuracy: 7/8 (87.500%)\n",
      "TRAIN: LOSS-->0.5465 (0.3679)\tACC-->62.500% (82.321%)\n",
      "TRAIN: 110 [4800/19125 (25%)]\tLoss: 0.546539, Accuracy: 5/8 (62.500%)\n",
      "TRAIN: LOSS-->0.3676 (0.3703)\tACC-->75.000% (82.085%)\n",
      "TRAIN: 110 [6400/19125 (33%)]\tLoss: 0.367637, Accuracy: 6/8 (75.000%)\n",
      "TRAIN: LOSS-->0.3301 (0.3711)\tACC-->87.500% (82.118%)\n",
      "TRAIN: 110 [8000/19125 (42%)]\tLoss: 0.330094, Accuracy: 7/8 (87.500%)\n",
      "TRAIN: LOSS-->0.3396 (0.3741)\tACC-->87.500% (81.900%)\n",
      "TRAIN: 110 [9600/19125 (50%)]\tLoss: 0.339594, Accuracy: 7/8 (87.500%)\n",
      "TRAIN: LOSS-->0.1730 (0.3726)\tACC-->100.000% (82.031%)\n",
      "TRAIN: 110 [11200/19125 (59%)]\tLoss: 0.173042, Accuracy: 8/8 (100.000%)\n",
      "TRAIN: LOSS-->0.1786 (0.3720)\tACC-->100.000% (82.300%)\n",
      "TRAIN: 110 [12800/19125 (67%)]\tLoss: 0.178608, Accuracy: 8/8 (100.000%)\n",
      "TRAIN: LOSS-->0.3975 (0.3739)\tACC-->62.500% (82.100%)\n",
      "TRAIN: 110 [14400/19125 (75%)]\tLoss: 0.397494, Accuracy: 5/8 (62.500%)\n",
      "TRAIN: LOSS-->0.6443 (0.3718)\tACC-->62.500% (82.228%)\n",
      "TRAIN: 110 [16000/19125 (84%)]\tLoss: 0.644296, Accuracy: 5/8 (62.500%)\n",
      "TRAIN: LOSS-->0.2060 (0.3716)\tACC-->100.000% (82.241%)\n",
      "TRAIN: 110 [17600/19125 (92%)]\tLoss: 0.205985, Accuracy: 8/8 (100.000%)\n",
      "VAL:   LOSS--> 0.0424 (0.0424)\tACC-->100.000 (100.000)\n",
      "VAL:   LOSS--> 0.0972 (0.2109)\tACC-->87.500 (91.356)\n",
      "VAL:   LOSS--> 0.0203 (0.2285)\tACC-->100.000 (91.116)\n",
      " * Accuracy 91.2000\n"
     ]
    },
    {
     "name": "stderr",
     "output_type": "stream",
     "text": [
      "\r",
      " 74%|███████████████████████████████████████████████████████████████████████████████████████████████████████▌                                    | 111/150 [4:16:44<1:30:12, 138.78s/it]"
     ]
    },
    {
     "name": "stdout",
     "output_type": "stream",
     "text": [
      "TRAIN: LOSS-->0.3123 (0.3123)\tACC-->100.000% (100.000%)\n",
      "TRAIN: 111 [0/19125 (0%)]\tLoss: 0.312333, Accuracy: 8/8 (100.000%)\n",
      "TRAIN: LOSS-->0.2918 (0.3468)\tACC-->100.000% (84.515%)\n",
      "TRAIN: 111 [1600/19125 (8%)]\tLoss: 0.291837, Accuracy: 8/8 (100.000%)\n",
      "TRAIN: LOSS-->0.3901 (0.3595)\tACC-->75.000% (83.354%)\n",
      "TRAIN: 111 [3200/19125 (17%)]\tLoss: 0.390100, Accuracy: 6/8 (75.000%)\n",
      "TRAIN: LOSS-->0.6021 (0.3653)\tACC-->62.500% (82.903%)\n",
      "TRAIN: 111 [4800/19125 (25%)]\tLoss: 0.602124, Accuracy: 5/8 (62.500%)\n",
      "TRAIN: LOSS-->0.8685 (0.3661)\tACC-->50.000% (82.725%)\n",
      "TRAIN: 111 [6400/19125 (33%)]\tLoss: 0.868472, Accuracy: 4/8 (50.000%)\n",
      "TRAIN: LOSS-->0.7955 (0.3626)\tACC-->62.500% (82.980%)\n",
      "TRAIN: 111 [8000/19125 (42%)]\tLoss: 0.795527, Accuracy: 5/8 (62.500%)\n",
      "TRAIN: LOSS-->0.1902 (0.3574)\tACC-->100.000% (83.191%)\n",
      "TRAIN: 111 [9600/19125 (50%)]\tLoss: 0.190198, Accuracy: 8/8 (100.000%)\n",
      "TRAIN: LOSS-->0.3738 (0.3605)\tACC-->75.000% (83.119%)\n",
      "TRAIN: 111 [11200/19125 (59%)]\tLoss: 0.373763, Accuracy: 6/8 (75.000%)\n",
      "TRAIN: LOSS-->0.3591 (0.3596)\tACC-->87.500% (83.065%)\n",
      "TRAIN: 111 [12800/19125 (67%)]\tLoss: 0.359129, Accuracy: 7/8 (87.500%)\n",
      "TRAIN: LOSS-->0.4263 (0.3626)\tACC-->62.500% (83.044%)\n",
      "TRAIN: 111 [14400/19125 (75%)]\tLoss: 0.426289, Accuracy: 5/8 (62.500%)\n",
      "TRAIN: LOSS-->0.2179 (0.3608)\tACC-->100.000% (83.052%)\n",
      "TRAIN: 111 [16000/19125 (84%)]\tLoss: 0.217922, Accuracy: 8/8 (100.000%)\n",
      "TRAIN: LOSS-->0.1544 (0.3626)\tACC-->100.000% (82.945%)\n",
      "TRAIN: 111 [17600/19125 (92%)]\tLoss: 0.154447, Accuracy: 8/8 (100.000%)\n",
      "VAL:   LOSS--> 0.2564 (0.2564)\tACC-->87.500 (87.500)\n",
      "VAL:   LOSS--> 0.3401 (0.2146)\tACC-->87.500 (91.729)\n",
      "VAL:   LOSS--> 0.3601 (0.2031)\tACC-->75.000 (92.332)\n",
      " * Accuracy 92.4444\n"
     ]
    },
    {
     "name": "stderr",
     "output_type": "stream",
     "text": [
      "\r",
      " 75%|████████████████████████████████████████████████████████████████████████████████████████████████████████▌                                   | 112/150 [4:19:05<1:27:54, 138.80s/it]"
     ]
    },
    {
     "name": "stdout",
     "output_type": "stream",
     "text": [
      "TRAIN: LOSS-->0.3890 (0.3890)\tACC-->75.000% (75.000%)\n",
      "TRAIN: 112 [0/19125 (0%)]\tLoss: 0.388974, Accuracy: 6/8 (75.000%)\n",
      "TRAIN: LOSS-->0.4711 (0.3522)\tACC-->87.500% (82.400%)\n",
      "TRAIN: 112 [1600/19125 (8%)]\tLoss: 0.471136, Accuracy: 7/8 (87.500%)\n",
      "TRAIN: LOSS-->0.3663 (0.3661)\tACC-->75.000% (82.076%)\n",
      "TRAIN: 112 [3200/19125 (17%)]\tLoss: 0.366329, Accuracy: 6/8 (75.000%)\n",
      "TRAIN: LOSS-->0.2879 (0.3622)\tACC-->100.000% (82.176%)\n",
      "TRAIN: 112 [4800/19125 (25%)]\tLoss: 0.287934, Accuracy: 8/8 (100.000%)\n",
      "TRAIN: LOSS-->0.3996 (0.3648)\tACC-->75.000% (82.288%)\n",
      "TRAIN: 112 [6400/19125 (33%)]\tLoss: 0.399647, Accuracy: 6/8 (75.000%)\n",
      "TRAIN: LOSS-->0.3490 (0.3695)\tACC-->87.500% (82.105%)\n",
      "TRAIN: 112 [8000/19125 (42%)]\tLoss: 0.349022, Accuracy: 7/8 (87.500%)\n",
      "TRAIN: LOSS-->0.2620 (0.3686)\tACC-->87.500% (82.254%)\n",
      "TRAIN: 112 [9600/19125 (50%)]\tLoss: 0.261998, Accuracy: 7/8 (87.500%)\n",
      "TRAIN: LOSS-->0.6356 (0.3695)\tACC-->75.000% (82.227%)\n",
      "TRAIN: 112 [11200/19125 (59%)]\tLoss: 0.635640, Accuracy: 6/8 (75.000%)\n",
      "TRAIN: LOSS-->0.2504 (0.3680)\tACC-->100.000% (82.378%)\n",
      "TRAIN: 112 [12800/19125 (67%)]\tLoss: 0.250363, Accuracy: 8/8 (100.000%)\n",
      "TRAIN: LOSS-->0.5751 (0.3700)\tACC-->62.500% (82.350%)\n",
      "TRAIN: 112 [14400/19125 (75%)]\tLoss: 0.575106, Accuracy: 5/8 (62.500%)\n",
      "TRAIN: LOSS-->0.5230 (0.3688)\tACC-->75.000% (82.496%)\n",
      "TRAIN: 112 [16000/19125 (84%)]\tLoss: 0.522969, Accuracy: 6/8 (75.000%)\n",
      "TRAIN: LOSS-->0.2652 (0.3676)\tACC-->87.500% (82.570%)\n",
      "TRAIN: 112 [17600/19125 (92%)]\tLoss: 0.265162, Accuracy: 7/8 (87.500%)\n",
      "VAL:   LOSS--> 0.6454 (0.6454)\tACC-->87.500 (87.500)\n",
      "VAL:   LOSS--> 0.5237 (0.1750)\tACC-->87.500 (92.910)\n",
      "VAL:   LOSS--> 0.0770 (0.1739)\tACC-->100.000 (93.111)\n",
      " * Accuracy 93.0963\n"
     ]
    },
    {
     "name": "stderr",
     "output_type": "stream",
     "text": [
      "\r",
      " 75%|█████████████████████████████████████████████████████████████████████████████████████████████████████████▍                                  | 113/150 [4:21:25<1:25:36, 138.81s/it]"
     ]
    },
    {
     "name": "stdout",
     "output_type": "stream",
     "text": [
      "TRAIN: LOSS-->0.5146 (0.5146)\tACC-->87.500% (87.500%)\n",
      "TRAIN: 113 [0/19125 (0%)]\tLoss: 0.514561, Accuracy: 7/8 (87.500%)\n",
      "TRAIN: LOSS-->0.4462 (0.3798)\tACC-->62.500% (81.841%)\n",
      "TRAIN: 113 [1600/19125 (8%)]\tLoss: 0.446156, Accuracy: 5/8 (62.500%)\n",
      "TRAIN: LOSS-->0.4018 (0.3640)\tACC-->87.500% (82.637%)\n",
      "TRAIN: 113 [3200/19125 (17%)]\tLoss: 0.401755, Accuracy: 7/8 (87.500%)\n",
      "TRAIN: LOSS-->0.2089 (0.3679)\tACC-->100.000% (82.758%)\n",
      "TRAIN: 113 [4800/19125 (25%)]\tLoss: 0.208910, Accuracy: 8/8 (100.000%)\n",
      "TRAIN: LOSS-->0.3302 (0.3670)\tACC-->75.000% (82.725%)\n",
      "TRAIN: 113 [6400/19125 (33%)]\tLoss: 0.330211, Accuracy: 6/8 (75.000%)\n",
      "TRAIN: LOSS-->0.3713 (0.3664)\tACC-->87.500% (82.692%)\n",
      "TRAIN: 113 [8000/19125 (42%)]\tLoss: 0.371312, Accuracy: 7/8 (87.500%)\n",
      "TRAIN: LOSS-->0.6167 (0.3659)\tACC-->62.500% (82.692%)\n",
      "TRAIN: 113 [9600/19125 (50%)]\tLoss: 0.616677, Accuracy: 5/8 (62.500%)\n",
      "TRAIN: LOSS-->0.4263 (0.3660)\tACC-->75.000% (82.530%)\n",
      "TRAIN: 113 [11200/19125 (59%)]\tLoss: 0.426295, Accuracy: 6/8 (75.000%)\n",
      "TRAIN: LOSS-->0.6035 (0.3645)\tACC-->50.000% (82.612%)\n",
      "TRAIN: 113 [12800/19125 (67%)]\tLoss: 0.603550, Accuracy: 4/8 (50.000%)\n",
      "TRAIN: LOSS-->0.5686 (0.3626)\tACC-->75.000% (82.704%)\n",
      "TRAIN: 113 [14400/19125 (75%)]\tLoss: 0.568627, Accuracy: 6/8 (75.000%)\n",
      "TRAIN: LOSS-->0.3941 (0.3648)\tACC-->75.000% (82.634%)\n",
      "TRAIN: 113 [16000/19125 (84%)]\tLoss: 0.394080, Accuracy: 6/8 (75.000%)\n",
      "TRAIN: LOSS-->0.3505 (0.3639)\tACC-->75.000% (82.690%)\n",
      "TRAIN: 113 [17600/19125 (92%)]\tLoss: 0.350458, Accuracy: 6/8 (75.000%)\n",
      "VAL:   LOSS--> 0.0866 (0.0866)\tACC-->100.000 (100.000)\n",
      "VAL:   LOSS--> 0.0487 (0.1814)\tACC-->100.000 (93.408)\n",
      "VAL:   LOSS--> 0.0449 (0.1811)\tACC-->100.000 (93.111)\n",
      " * Accuracy 93.2148\n"
     ]
    },
    {
     "name": "stderr",
     "output_type": "stream",
     "text": [
      "\r",
      " 76%|██████████████████████████████████████████████████████████████████████████████████████████████████████████▍                                 | 114/150 [4:23:43<1:23:16, 138.80s/it]"
     ]
    },
    {
     "name": "stdout",
     "output_type": "stream",
     "text": [
      "TRAIN: LOSS-->0.3601 (0.3601)\tACC-->75.000% (75.000%)\n",
      "TRAIN: 114 [0/19125 (0%)]\tLoss: 0.360099, Accuracy: 6/8 (75.000%)\n",
      "TRAIN: LOSS-->0.2078 (0.3713)\tACC-->87.500% (82.152%)\n",
      "TRAIN: 114 [1600/19125 (8%)]\tLoss: 0.207782, Accuracy: 7/8 (87.500%)\n",
      "TRAIN: LOSS-->0.2245 (0.3722)\tACC-->87.500% (81.608%)\n",
      "TRAIN: 114 [3200/19125 (17%)]\tLoss: 0.224515, Accuracy: 7/8 (87.500%)\n",
      "TRAIN: LOSS-->0.2340 (0.3699)\tACC-->100.000% (81.926%)\n",
      "TRAIN: 114 [4800/19125 (25%)]\tLoss: 0.233989, Accuracy: 8/8 (100.000%)\n",
      "TRAIN: LOSS-->1.1255 (0.3641)\tACC-->62.500% (82.615%)\n",
      "TRAIN: 114 [6400/19125 (33%)]\tLoss: 1.125476, Accuracy: 5/8 (62.500%)\n",
      "TRAIN: LOSS-->0.1859 (0.3590)\tACC-->87.500% (83.004%)\n",
      "TRAIN: 114 [8000/19125 (42%)]\tLoss: 0.185872, Accuracy: 7/8 (87.500%)\n",
      "TRAIN: LOSS-->0.4361 (0.3560)\tACC-->62.500% (83.212%)\n",
      "TRAIN: 114 [9600/19125 (50%)]\tLoss: 0.436125, Accuracy: 5/8 (62.500%)\n",
      "TRAIN: LOSS-->0.2418 (0.3592)\tACC-->100.000% (83.101%)\n",
      "TRAIN: 114 [11200/19125 (59%)]\tLoss: 0.241779, Accuracy: 8/8 (100.000%)\n",
      "TRAIN: LOSS-->0.2442 (0.3587)\tACC-->87.500% (83.260%)\n",
      "TRAIN: 114 [12800/19125 (67%)]\tLoss: 0.244240, Accuracy: 7/8 (87.500%)\n",
      "TRAIN: LOSS-->0.3186 (0.3613)\tACC-->75.000% (82.975%)\n",
      "TRAIN: 114 [14400/19125 (75%)]\tLoss: 0.318638, Accuracy: 6/8 (75.000%)\n",
      "TRAIN: LOSS-->0.3001 (0.3604)\tACC-->75.000% (82.996%)\n",
      "TRAIN: 114 [16000/19125 (84%)]\tLoss: 0.300136, Accuracy: 6/8 (75.000%)\n",
      "TRAIN: LOSS-->0.3222 (0.3616)\tACC-->87.500% (82.940%)\n",
      "TRAIN: 114 [17600/19125 (92%)]\tLoss: 0.322178, Accuracy: 7/8 (87.500%)\n",
      "VAL:   LOSS--> 0.1509 (0.1509)\tACC-->100.000 (100.000)\n",
      "VAL:   LOSS--> 0.2546 (0.2104)\tACC-->87.500 (91.915)\n",
      "VAL:   LOSS--> 0.0462 (0.2072)\tACC-->100.000 (92.238)\n",
      " * Accuracy 92.2370\n"
     ]
    },
    {
     "name": "stderr",
     "output_type": "stream",
     "text": [
      "\r",
      " 77%|███████████████████████████████████████████████████████████████████████████████████████████████████████████▎                                | 115/150 [4:26:01<1:20:57, 138.80s/it]"
     ]
    },
    {
     "name": "stdout",
     "output_type": "stream",
     "text": [
      "TRAIN: LOSS-->0.3050 (0.3050)\tACC-->100.000% (100.000%)\n",
      "TRAIN: 115 [0/19125 (0%)]\tLoss: 0.304968, Accuracy: 8/8 (100.000%)\n",
      "TRAIN: LOSS-->0.2976 (0.3523)\tACC-->87.500% (83.644%)\n",
      "TRAIN: 115 [1600/19125 (8%)]\tLoss: 0.297553, Accuracy: 7/8 (87.500%)\n",
      "TRAIN: LOSS-->0.4796 (0.3535)\tACC-->75.000% (82.980%)\n",
      "TRAIN: 115 [3200/19125 (17%)]\tLoss: 0.479553, Accuracy: 6/8 (75.000%)\n",
      "TRAIN: LOSS-->0.4707 (0.3577)\tACC-->87.500% (83.111%)\n",
      "TRAIN: 115 [4800/19125 (25%)]\tLoss: 0.470702, Accuracy: 7/8 (87.500%)\n",
      "TRAIN: LOSS-->0.2368 (0.3588)\tACC-->87.500% (83.224%)\n",
      "TRAIN: 115 [6400/19125 (33%)]\tLoss: 0.236776, Accuracy: 7/8 (87.500%)\n",
      "TRAIN: LOSS-->0.1980 (0.3549)\tACC-->87.500% (83.504%)\n",
      "TRAIN: 115 [8000/19125 (42%)]\tLoss: 0.198045, Accuracy: 7/8 (87.500%)\n",
      "TRAIN: LOSS-->0.2859 (0.3583)\tACC-->100.000% (83.285%)\n",
      "TRAIN: 115 [9600/19125 (50%)]\tLoss: 0.285904, Accuracy: 8/8 (100.000%)\n",
      "TRAIN: LOSS-->0.5625 (0.3612)\tACC-->75.000% (83.128%)\n",
      "TRAIN: 115 [11200/19125 (59%)]\tLoss: 0.562516, Accuracy: 6/8 (75.000%)\n",
      "TRAIN: LOSS-->0.3047 (0.3619)\tACC-->87.500% (83.042%)\n",
      "TRAIN: 115 [12800/19125 (67%)]\tLoss: 0.304693, Accuracy: 7/8 (87.500%)\n",
      "TRAIN: LOSS-->0.4775 (0.3641)\tACC-->62.500% (82.898%)\n",
      "TRAIN: 115 [14400/19125 (75%)]\tLoss: 0.477512, Accuracy: 5/8 (62.500%)\n",
      "TRAIN: LOSS-->0.4544 (0.3620)\tACC-->75.000% (82.884%)\n",
      "TRAIN: 115 [16000/19125 (84%)]\tLoss: 0.454398, Accuracy: 6/8 (75.000%)\n",
      "TRAIN: LOSS-->0.3206 (0.3625)\tACC-->87.500% (82.792%)\n",
      "TRAIN: 115 [17600/19125 (92%)]\tLoss: 0.320643, Accuracy: 7/8 (87.500%)\n",
      "VAL:   LOSS--> 0.0214 (0.0214)\tACC-->100.000 (100.000)\n",
      "VAL:   LOSS--> 0.0038 (0.2088)\tACC-->100.000 (92.537)\n",
      "VAL:   LOSS--> 0.0096 (0.2009)\tACC-->100.000 (92.675)\n",
      " * Accuracy 92.8296\n"
     ]
    },
    {
     "name": "stderr",
     "output_type": "stream",
     "text": [
      "\r",
      " 77%|████████████████████████████████████████████████████████████████████████████████████████████████████████████▎                               | 116/150 [4:28:19<1:18:38, 138.79s/it]"
     ]
    },
    {
     "name": "stdout",
     "output_type": "stream",
     "text": [
      "TRAIN: LOSS-->0.2783 (0.2783)\tACC-->100.000% (100.000%)\n",
      "TRAIN: 116 [0/19125 (0%)]\tLoss: 0.278330, Accuracy: 8/8 (100.000%)\n",
      "TRAIN: LOSS-->0.2226 (0.3475)\tACC-->87.500% (83.831%)\n",
      "TRAIN: 116 [1600/19125 (8%)]\tLoss: 0.222569, Accuracy: 7/8 (87.500%)\n",
      "TRAIN: LOSS-->0.5795 (0.3589)\tACC-->62.500% (82.887%)\n",
      "TRAIN: 116 [3200/19125 (17%)]\tLoss: 0.579502, Accuracy: 5/8 (62.500%)\n",
      "TRAIN: LOSS-->0.5021 (0.3667)\tACC-->75.000% (82.488%)\n",
      "TRAIN: 116 [4800/19125 (25%)]\tLoss: 0.502140, Accuracy: 6/8 (75.000%)\n",
      "TRAIN: LOSS-->0.1581 (0.3672)\tACC-->100.000% (82.381%)\n",
      "TRAIN: 116 [6400/19125 (33%)]\tLoss: 0.158135, Accuracy: 8/8 (100.000%)\n",
      "TRAIN: LOSS-->0.4240 (0.3692)\tACC-->87.500% (81.993%)\n",
      "TRAIN: 116 [8000/19125 (42%)]\tLoss: 0.424041, Accuracy: 7/8 (87.500%)\n",
      "TRAIN: LOSS-->0.5241 (0.3679)\tACC-->62.500% (82.202%)\n",
      "TRAIN: 116 [9600/19125 (50%)]\tLoss: 0.524052, Accuracy: 5/8 (62.500%)\n",
      "TRAIN: LOSS-->0.4670 (0.3658)\tACC-->75.000% (82.388%)\n",
      "TRAIN: 116 [11200/19125 (59%)]\tLoss: 0.467004, Accuracy: 6/8 (75.000%)\n",
      "TRAIN: LOSS-->0.1439 (0.3668)\tACC-->100.000% (82.417%)\n",
      "TRAIN: 116 [12800/19125 (67%)]\tLoss: 0.143930, Accuracy: 8/8 (100.000%)\n",
      "TRAIN: LOSS-->0.3223 (0.3643)\tACC-->75.000% (82.551%)\n",
      "TRAIN: 116 [14400/19125 (75%)]\tLoss: 0.322253, Accuracy: 6/8 (75.000%)\n",
      "TRAIN: LOSS-->0.0940 (0.3653)\tACC-->100.000% (82.471%)\n",
      "TRAIN: 116 [16000/19125 (84%)]\tLoss: 0.094049, Accuracy: 8/8 (100.000%)\n",
      "TRAIN: LOSS-->0.2111 (0.3670)\tACC-->100.000% (82.360%)\n",
      "TRAIN: 116 [17600/19125 (92%)]\tLoss: 0.211110, Accuracy: 8/8 (100.000%)\n",
      "VAL:   LOSS--> 0.0341 (0.0341)\tACC-->100.000 (100.000)\n",
      "VAL:   LOSS--> 0.1094 (0.1910)\tACC-->100.000 (92.600)\n",
      "VAL:   LOSS--> 0.7113 (0.1838)\tACC-->87.500 (92.737)\n",
      " * Accuracy 92.6222\n"
     ]
    },
    {
     "name": "stderr",
     "output_type": "stream",
     "text": [
      "\r",
      " 78%|█████████████████████████████████████████████████████████████████████████████████████████████████████████████▏                              | 117/150 [4:30:37<1:16:19, 138.78s/it]"
     ]
    },
    {
     "name": "stdout",
     "output_type": "stream",
     "text": [
      "TRAIN: LOSS-->0.2368 (0.2368)\tACC-->75.000% (75.000%)\n",
      "TRAIN: 117 [0/19125 (0%)]\tLoss: 0.236820, Accuracy: 6/8 (75.000%)\n",
      "TRAIN: LOSS-->0.4445 (0.3767)\tACC-->75.000% (81.405%)\n",
      "TRAIN: 117 [1600/19125 (8%)]\tLoss: 0.444532, Accuracy: 6/8 (75.000%)\n",
      "TRAIN: LOSS-->0.4521 (0.3665)\tACC-->87.500% (82.232%)\n",
      "TRAIN: 117 [3200/19125 (17%)]\tLoss: 0.452062, Accuracy: 7/8 (87.500%)\n",
      "TRAIN: LOSS-->0.3610 (0.3646)\tACC-->75.000% (82.363%)\n",
      "TRAIN: 117 [4800/19125 (25%)]\tLoss: 0.360968, Accuracy: 6/8 (75.000%)\n",
      "TRAIN: LOSS-->0.5633 (0.3635)\tACC-->62.500% (82.350%)\n",
      "TRAIN: 117 [6400/19125 (33%)]\tLoss: 0.563337, Accuracy: 5/8 (62.500%)\n",
      "TRAIN: LOSS-->0.2309 (0.3638)\tACC-->87.500% (82.505%)\n",
      "TRAIN: 117 [8000/19125 (42%)]\tLoss: 0.230940, Accuracy: 7/8 (87.500%)\n",
      "TRAIN: LOSS-->0.3353 (0.3610)\tACC-->75.000% (82.712%)\n",
      "TRAIN: 117 [9600/19125 (50%)]\tLoss: 0.335346, Accuracy: 6/8 (75.000%)\n",
      "TRAIN: LOSS-->0.2015 (0.3576)\tACC-->100.000% (82.843%)\n",
      "TRAIN: 117 [11200/19125 (59%)]\tLoss: 0.201504, Accuracy: 8/8 (100.000%)\n",
      "TRAIN: LOSS-->0.4818 (0.3585)\tACC-->75.000% (82.698%)\n",
      "TRAIN: 117 [12800/19125 (67%)]\tLoss: 0.481822, Accuracy: 6/8 (75.000%)\n",
      "TRAIN: LOSS-->0.1932 (0.3584)\tACC-->100.000% (82.773%)\n",
      "TRAIN: 117 [14400/19125 (75%)]\tLoss: 0.193184, Accuracy: 8/8 (100.000%)\n",
      "TRAIN: LOSS-->0.4564 (0.3588)\tACC-->75.000% (82.659%)\n",
      "TRAIN: 117 [16000/19125 (84%)]\tLoss: 0.456448, Accuracy: 6/8 (75.000%)\n",
      "TRAIN: LOSS-->0.4483 (0.3609)\tACC-->62.500% (82.673%)\n",
      "TRAIN: 117 [17600/19125 (92%)]\tLoss: 0.448252, Accuracy: 5/8 (62.500%)\n",
      "VAL:   LOSS--> 0.2109 (0.2109)\tACC-->87.500 (87.500)\n",
      "VAL:   LOSS--> 0.1012 (0.1663)\tACC-->100.000 (93.719)\n",
      "VAL:   LOSS--> 0.0838 (0.1785)\tACC-->100.000 (93.236)\n",
      " * Accuracy 93.2148\n"
     ]
    },
    {
     "name": "stderr",
     "output_type": "stream",
     "text": [
      "\r",
      " 79%|██████████████████████████████████████████████████████████████████████████████████████████████████████████████▏                             | 118/150 [4:32:55<1:14:00, 138.77s/it]"
     ]
    },
    {
     "name": "stdout",
     "output_type": "stream",
     "text": [
      "TRAIN: LOSS-->0.3867 (0.3867)\tACC-->75.000% (75.000%)\n",
      "TRAIN: 118 [0/19125 (0%)]\tLoss: 0.386703, Accuracy: 6/8 (75.000%)\n",
      "TRAIN: LOSS-->0.2429 (0.3545)\tACC-->100.000% (82.774%)\n",
      "TRAIN: 118 [1600/19125 (8%)]\tLoss: 0.242933, Accuracy: 8/8 (100.000%)\n",
      "TRAIN: LOSS-->0.1661 (0.3436)\tACC-->100.000% (83.229%)\n",
      "TRAIN: 118 [3200/19125 (17%)]\tLoss: 0.166110, Accuracy: 8/8 (100.000%)\n",
      "TRAIN: LOSS-->0.5732 (0.3478)\tACC-->75.000% (83.611%)\n",
      "TRAIN: 118 [4800/19125 (25%)]\tLoss: 0.573225, Accuracy: 6/8 (75.000%)\n",
      "TRAIN: LOSS-->0.2023 (0.3539)\tACC-->87.500% (83.318%)\n",
      "TRAIN: 118 [6400/19125 (33%)]\tLoss: 0.202315, Accuracy: 7/8 (87.500%)\n",
      "TRAIN: LOSS-->0.5570 (0.3579)\tACC-->75.000% (83.092%)\n",
      "TRAIN: 118 [8000/19125 (42%)]\tLoss: 0.556999, Accuracy: 6/8 (75.000%)\n",
      "TRAIN: LOSS-->0.4656 (0.3591)\tACC-->75.000% (82.973%)\n",
      "TRAIN: 118 [9600/19125 (50%)]\tLoss: 0.465605, Accuracy: 6/8 (75.000%)\n",
      "TRAIN: LOSS-->0.7594 (0.3593)\tACC-->62.500% (82.941%)\n",
      "TRAIN: 118 [11200/19125 (59%)]\tLoss: 0.759446, Accuracy: 5/8 (62.500%)\n",
      "TRAIN: LOSS-->0.2608 (0.3650)\tACC-->100.000% (82.550%)\n",
      "TRAIN: 118 [12800/19125 (67%)]\tLoss: 0.260763, Accuracy: 8/8 (100.000%)\n",
      "TRAIN: LOSS-->0.2154 (0.3646)\tACC-->87.500% (82.378%)\n",
      "TRAIN: 118 [14400/19125 (75%)]\tLoss: 0.215402, Accuracy: 7/8 (87.500%)\n",
      "TRAIN: LOSS-->0.7030 (0.3645)\tACC-->62.500% (82.365%)\n",
      "TRAIN: 118 [16000/19125 (84%)]\tLoss: 0.702963, Accuracy: 5/8 (62.500%)\n",
      "TRAIN: LOSS-->0.4629 (0.3630)\tACC-->75.000% (82.491%)\n",
      "TRAIN: 118 [17600/19125 (92%)]\tLoss: 0.462908, Accuracy: 6/8 (75.000%)\n",
      "VAL:   LOSS--> 0.0410 (0.0410)\tACC-->100.000 (100.000)\n",
      "VAL:   LOSS--> 0.2546 (0.1836)\tACC-->87.500 (92.910)\n",
      "VAL:   LOSS--> 0.1137 (0.1834)\tACC-->100.000 (92.675)\n",
      " * Accuracy 92.7111\n"
     ]
    },
    {
     "name": "stderr",
     "output_type": "stream",
     "text": [
      "\r",
      " 79%|███████████████████████████████████████████████████████████████████████████████████████████████████████████████                             | 119/150 [4:35:13<1:11:41, 138.77s/it]"
     ]
    },
    {
     "name": "stdout",
     "output_type": "stream",
     "text": [
      "TRAIN: LOSS-->0.5075 (0.5075)\tACC-->75.000% (75.000%)\n",
      "TRAIN: 119 [0/19125 (0%)]\tLoss: 0.507534, Accuracy: 6/8 (75.000%)\n",
      "TRAIN: LOSS-->0.3270 (0.3604)\tACC-->75.000% (82.338%)\n",
      "TRAIN: 119 [1600/19125 (8%)]\tLoss: 0.326995, Accuracy: 6/8 (75.000%)\n",
      "TRAIN: LOSS-->1.0385 (0.3628)\tACC-->37.500% (82.014%)\n",
      "TRAIN: 119 [3200/19125 (17%)]\tLoss: 1.038513, Accuracy: 3/8 (37.500%)\n",
      "TRAIN: LOSS-->0.3437 (0.3723)\tACC-->87.500% (82.280%)\n",
      "TRAIN: 119 [4800/19125 (25%)]\tLoss: 0.343734, Accuracy: 7/8 (87.500%)\n",
      "TRAIN: LOSS-->0.1471 (0.3700)\tACC-->100.000% (82.709%)\n",
      "TRAIN: 119 [6400/19125 (33%)]\tLoss: 0.147080, Accuracy: 8/8 (100.000%)\n",
      "TRAIN: LOSS-->0.2184 (0.3648)\tACC-->87.500% (82.980%)\n",
      "TRAIN: 119 [8000/19125 (42%)]\tLoss: 0.218445, Accuracy: 7/8 (87.500%)\n",
      "TRAIN: LOSS-->0.2706 (0.3639)\tACC-->87.500% (82.952%)\n",
      "TRAIN: 119 [9600/19125 (50%)]\tLoss: 0.270590, Accuracy: 7/8 (87.500%)\n",
      "TRAIN: LOSS-->0.2009 (0.3677)\tACC-->100.000% (82.682%)\n",
      "TRAIN: 119 [11200/19125 (59%)]\tLoss: 0.200945, Accuracy: 8/8 (100.000%)\n",
      "TRAIN: LOSS-->0.2956 (0.3656)\tACC-->87.500% (82.722%)\n",
      "TRAIN: 119 [12800/19125 (67%)]\tLoss: 0.295561, Accuracy: 7/8 (87.500%)\n",
      "TRAIN: LOSS-->0.4739 (0.3653)\tACC-->75.000% (82.669%)\n",
      "TRAIN: 119 [14400/19125 (75%)]\tLoss: 0.473896, Accuracy: 6/8 (75.000%)\n",
      "TRAIN: LOSS-->0.1657 (0.3633)\tACC-->100.000% (82.702%)\n",
      "TRAIN: 119 [16000/19125 (84%)]\tLoss: 0.165684, Accuracy: 8/8 (100.000%)\n",
      "TRAIN: LOSS-->0.3373 (0.3636)\tACC-->87.500% (82.729%)\n",
      "TRAIN: 119 [17600/19125 (92%)]\tLoss: 0.337284, Accuracy: 7/8 (87.500%)\n",
      "VAL:   LOSS--> 0.0216 (0.0216)\tACC-->100.000 (100.000)\n",
      "VAL:   LOSS--> 0.1127 (0.1969)\tACC-->100.000 (92.973)\n",
      "VAL:   LOSS--> 0.1366 (0.1952)\tACC-->100.000 (92.862)\n",
      " * Accuracy 92.7111\n"
     ]
    },
    {
     "name": "stderr",
     "output_type": "stream",
     "text": [
      "\r",
      " 80%|████████████████████████████████████████████████████████████████████████████████████████████████████████████████                            | 120/150 [4:37:31<1:09:22, 138.76s/it]"
     ]
    },
    {
     "name": "stdout",
     "output_type": "stream",
     "text": [
      "TRAIN: LOSS-->0.2863 (0.2863)\tACC-->87.500% (87.500%)\n",
      "TRAIN: 120 [0/19125 (0%)]\tLoss: 0.286294, Accuracy: 7/8 (87.500%)\n",
      "TRAIN: LOSS-->0.5532 (0.3662)\tACC-->62.500% (83.333%)\n",
      "TRAIN: 120 [1600/19125 (8%)]\tLoss: 0.553229, Accuracy: 5/8 (62.500%)\n",
      "TRAIN: LOSS-->0.5013 (0.3557)\tACC-->62.500% (83.261%)\n",
      "TRAIN: 120 [3200/19125 (17%)]\tLoss: 0.501306, Accuracy: 5/8 (62.500%)\n",
      "TRAIN: LOSS-->1.4358 (0.3550)\tACC-->62.500% (83.673%)\n",
      "TRAIN: 120 [4800/19125 (25%)]\tLoss: 1.435783, Accuracy: 5/8 (62.500%)\n",
      "TRAIN: LOSS-->0.4101 (0.3579)\tACC-->50.000% (83.318%)\n",
      "TRAIN: 120 [6400/19125 (33%)]\tLoss: 0.410058, Accuracy: 4/8 (50.000%)\n",
      "TRAIN: LOSS-->0.2617 (0.3571)\tACC-->87.500% (83.442%)\n",
      "TRAIN: 120 [8000/19125 (42%)]\tLoss: 0.261740, Accuracy: 7/8 (87.500%)\n",
      "TRAIN: LOSS-->0.1910 (0.3609)\tACC-->100.000% (83.274%)\n",
      "TRAIN: 120 [9600/19125 (50%)]\tLoss: 0.191015, Accuracy: 8/8 (100.000%)\n",
      "TRAIN: LOSS-->0.0597 (0.3611)\tACC-->100.000% (83.146%)\n",
      "TRAIN: 120 [11200/19125 (59%)]\tLoss: 0.059678, Accuracy: 8/8 (100.000%)\n",
      "TRAIN: LOSS-->0.2076 (0.3617)\tACC-->87.500% (83.081%)\n",
      "TRAIN: 120 [12800/19125 (67%)]\tLoss: 0.207555, Accuracy: 7/8 (87.500%)\n",
      "TRAIN: LOSS-->0.5118 (0.3612)\tACC-->75.000% (83.051%)\n",
      "TRAIN: 120 [14400/19125 (75%)]\tLoss: 0.511770, Accuracy: 6/8 (75.000%)\n",
      "TRAIN: LOSS-->0.1385 (0.3618)\tACC-->100.000% (83.033%)\n",
      "TRAIN: 120 [16000/19125 (84%)]\tLoss: 0.138512, Accuracy: 8/8 (100.000%)\n",
      "TRAIN: LOSS-->0.2327 (0.3643)\tACC-->87.500% (82.883%)\n",
      "TRAIN: 120 [17600/19125 (92%)]\tLoss: 0.232675, Accuracy: 7/8 (87.500%)\n",
      "VAL:   LOSS--> 0.3411 (0.3411)\tACC-->75.000 (75.000)\n",
      "VAL:   LOSS--> 0.1659 (0.2131)\tACC-->87.500 (90.983)\n",
      "VAL:   LOSS--> 0.0794 (0.2038)\tACC-->100.000 (91.926)\n",
      " * Accuracy 91.9407\n"
     ]
    },
    {
     "name": "stderr",
     "output_type": "stream",
     "text": [
      "\r",
      " 81%|████████████████████████████████████████████████████████████████████████████████████████████████████████████████▉                           | 121/150 [4:39:48<1:07:03, 138.75s/it]"
     ]
    },
    {
     "name": "stdout",
     "output_type": "stream",
     "text": [
      "TRAIN: LOSS-->0.5898 (0.5898)\tACC-->75.000% (75.000%)\n",
      "TRAIN: 121 [0/19125 (0%)]\tLoss: 0.589766, Accuracy: 6/8 (75.000%)\n",
      "TRAIN: LOSS-->0.2747 (0.3812)\tACC-->87.500% (81.157%)\n",
      "TRAIN: 121 [1600/19125 (8%)]\tLoss: 0.274720, Accuracy: 7/8 (87.500%)\n",
      "TRAIN: LOSS-->0.1196 (0.3731)\tACC-->87.500% (81.671%)\n",
      "TRAIN: 121 [3200/19125 (17%)]\tLoss: 0.119570, Accuracy: 7/8 (87.500%)\n",
      "TRAIN: LOSS-->0.0795 (0.3639)\tACC-->100.000% (82.612%)\n",
      "TRAIN: 121 [4800/19125 (25%)]\tLoss: 0.079468, Accuracy: 8/8 (100.000%)\n",
      "TRAIN: LOSS-->0.1776 (0.3660)\tACC-->87.500% (82.615%)\n",
      "TRAIN: 121 [6400/19125 (33%)]\tLoss: 0.177563, Accuracy: 7/8 (87.500%)\n",
      "TRAIN: LOSS-->0.2368 (0.3652)\tACC-->100.000% (82.655%)\n",
      "TRAIN: 121 [8000/19125 (42%)]\tLoss: 0.236764, Accuracy: 8/8 (100.000%)\n",
      "TRAIN: LOSS-->0.4241 (0.3697)\tACC-->75.000% (82.431%)\n",
      "TRAIN: 121 [9600/19125 (50%)]\tLoss: 0.424133, Accuracy: 6/8 (75.000%)\n",
      "TRAIN: LOSS-->0.2447 (0.3686)\tACC-->87.500% (82.646%)\n",
      "TRAIN: 121 [11200/19125 (59%)]\tLoss: 0.244702, Accuracy: 7/8 (87.500%)\n",
      "TRAIN: LOSS-->0.0562 (0.3694)\tACC-->100.000% (82.519%)\n",
      "TRAIN: 121 [12800/19125 (67%)]\tLoss: 0.056186, Accuracy: 8/8 (100.000%)\n",
      "TRAIN: LOSS-->0.3331 (0.3656)\tACC-->75.000% (82.725%)\n",
      "TRAIN: 121 [14400/19125 (75%)]\tLoss: 0.333107, Accuracy: 6/8 (75.000%)\n",
      "TRAIN: LOSS-->0.2062 (0.3634)\tACC-->100.000% (82.859%)\n",
      "TRAIN: 121 [16000/19125 (84%)]\tLoss: 0.206200, Accuracy: 8/8 (100.000%)\n",
      "TRAIN: LOSS-->0.4695 (0.3613)\tACC-->62.500% (82.877%)\n",
      "TRAIN: 121 [17600/19125 (92%)]\tLoss: 0.469525, Accuracy: 5/8 (62.500%)\n",
      "VAL:   LOSS--> 0.1878 (0.1878)\tACC-->87.500 (87.500)\n",
      "VAL:   LOSS--> 0.0772 (0.2152)\tACC-->100.000 (91.480)\n",
      "VAL:   LOSS--> 0.0348 (0.2200)\tACC-->100.000 (91.303)\n",
      " * Accuracy 91.3778\n"
     ]
    },
    {
     "name": "stderr",
     "output_type": "stream",
     "text": [
      "\r",
      " 81%|█████████████████████████████████████████████████████████████████████████████████████████████████████████████████▊                          | 122/150 [4:42:06<1:04:44, 138.74s/it]"
     ]
    },
    {
     "name": "stdout",
     "output_type": "stream",
     "text": [
      "TRAIN: LOSS-->0.2580 (0.2580)\tACC-->87.500% (87.500%)\n",
      "TRAIN: 122 [0/19125 (0%)]\tLoss: 0.258049, Accuracy: 7/8 (87.500%)\n",
      "TRAIN: LOSS-->0.3318 (0.3471)\tACC-->75.000% (83.396%)\n",
      "TRAIN: 122 [1600/19125 (8%)]\tLoss: 0.331801, Accuracy: 6/8 (75.000%)\n",
      "TRAIN: LOSS-->0.2354 (0.3607)\tACC-->87.500% (83.167%)\n",
      "TRAIN: 122 [3200/19125 (17%)]\tLoss: 0.235351, Accuracy: 7/8 (87.500%)\n",
      "TRAIN: LOSS-->0.1405 (0.3550)\tACC-->100.000% (83.527%)\n",
      "TRAIN: 122 [4800/19125 (25%)]\tLoss: 0.140531, Accuracy: 8/8 (100.000%)\n",
      "TRAIN: LOSS-->0.2541 (0.3617)\tACC-->75.000% (83.037%)\n",
      "TRAIN: 122 [6400/19125 (33%)]\tLoss: 0.254129, Accuracy: 6/8 (75.000%)\n",
      "TRAIN: LOSS-->0.6048 (0.3631)\tACC-->75.000% (82.805%)\n",
      "TRAIN: 122 [8000/19125 (42%)]\tLoss: 0.604837, Accuracy: 6/8 (75.000%)\n",
      "TRAIN: LOSS-->0.1424 (0.3643)\tACC-->87.500% (82.796%)\n",
      "TRAIN: 122 [9600/19125 (50%)]\tLoss: 0.142410, Accuracy: 7/8 (87.500%)\n",
      "TRAIN: LOSS-->0.3224 (0.3629)\tACC-->87.500% (82.860%)\n",
      "TRAIN: 122 [11200/19125 (59%)]\tLoss: 0.322358, Accuracy: 7/8 (87.500%)\n",
      "TRAIN: LOSS-->0.2391 (0.3620)\tACC-->87.500% (82.894%)\n",
      "TRAIN: 122 [12800/19125 (67%)]\tLoss: 0.239135, Accuracy: 7/8 (87.500%)\n",
      "TRAIN: LOSS-->0.6449 (0.3630)\tACC-->75.000% (82.864%)\n",
      "TRAIN: 122 [14400/19125 (75%)]\tLoss: 0.644903, Accuracy: 6/8 (75.000%)\n",
      "TRAIN: LOSS-->0.5660 (0.3620)\tACC-->75.000% (82.740%)\n",
      "TRAIN: 122 [16000/19125 (84%)]\tLoss: 0.566040, Accuracy: 6/8 (75.000%)\n",
      "TRAIN: LOSS-->0.2557 (0.3598)\tACC-->75.000% (82.894%)\n",
      "TRAIN: 122 [17600/19125 (92%)]\tLoss: 0.255714, Accuracy: 6/8 (75.000%)\n",
      "VAL:   LOSS--> 0.1623 (0.1623)\tACC-->87.500 (87.500)\n",
      "VAL:   LOSS--> 0.0345 (0.1699)\tACC-->100.000 (93.284)\n",
      "VAL:   LOSS--> 0.0387 (0.1839)\tACC-->100.000 (92.737)\n",
      " * Accuracy 92.8296\n"
     ]
    },
    {
     "name": "stderr",
     "output_type": "stream",
     "text": [
      "\r",
      " 82%|██████████████████████████████████████████████████████████████████████████████████████████████████████████████████▊                         | 123/150 [4:44:24<1:02:25, 138.74s/it]"
     ]
    },
    {
     "name": "stdout",
     "output_type": "stream",
     "text": [
      "TRAIN: LOSS-->0.2617 (0.2617)\tACC-->87.500% (87.500%)\n",
      "TRAIN: 123 [0/19125 (0%)]\tLoss: 0.261669, Accuracy: 7/8 (87.500%)\n",
      "TRAIN: LOSS-->0.3241 (0.3777)\tACC-->87.500% (81.779%)\n",
      "TRAIN: 123 [1600/19125 (8%)]\tLoss: 0.324092, Accuracy: 7/8 (87.500%)\n",
      "TRAIN: LOSS-->0.0946 (0.3668)\tACC-->100.000% (82.388%)\n",
      "TRAIN: 123 [3200/19125 (17%)]\tLoss: 0.094585, Accuracy: 8/8 (100.000%)\n",
      "TRAIN: LOSS-->0.1748 (0.3646)\tACC-->87.500% (82.592%)\n",
      "TRAIN: 123 [4800/19125 (25%)]\tLoss: 0.174793, Accuracy: 7/8 (87.500%)\n",
      "TRAIN: LOSS-->0.3726 (0.3634)\tACC-->87.500% (82.319%)\n",
      "TRAIN: 123 [6400/19125 (33%)]\tLoss: 0.372551, Accuracy: 7/8 (87.500%)\n",
      "TRAIN: LOSS-->0.1758 (0.3588)\tACC-->100.000% (82.592%)\n",
      "TRAIN: 123 [8000/19125 (42%)]\tLoss: 0.175779, Accuracy: 8/8 (100.000%)\n",
      "TRAIN: LOSS-->0.4394 (0.3574)\tACC-->75.000% (82.723%)\n",
      "TRAIN: 123 [9600/19125 (50%)]\tLoss: 0.439396, Accuracy: 6/8 (75.000%)\n",
      "TRAIN: LOSS-->0.3020 (0.3559)\tACC-->87.500% (82.914%)\n",
      "TRAIN: 123 [11200/19125 (59%)]\tLoss: 0.301971, Accuracy: 7/8 (87.500%)\n",
      "TRAIN: LOSS-->0.3720 (0.3574)\tACC-->75.000% (82.714%)\n",
      "TRAIN: 123 [12800/19125 (67%)]\tLoss: 0.371979, Accuracy: 6/8 (75.000%)\n",
      "TRAIN: LOSS-->0.1805 (0.3586)\tACC-->100.000% (82.600%)\n",
      "TRAIN: 123 [14400/19125 (75%)]\tLoss: 0.180520, Accuracy: 8/8 (100.000%)\n",
      "TRAIN: LOSS-->0.4529 (0.3565)\tACC-->75.000% (82.777%)\n",
      "TRAIN: 123 [16000/19125 (84%)]\tLoss: 0.452948, Accuracy: 6/8 (75.000%)\n",
      "TRAIN: LOSS-->0.2985 (0.3574)\tACC-->87.500% (82.678%)\n",
      "TRAIN: 123 [17600/19125 (92%)]\tLoss: 0.298484, Accuracy: 7/8 (87.500%)\n",
      "VAL:   LOSS--> 0.0340 (0.0340)\tACC-->100.000 (100.000)\n",
      "VAL:   LOSS--> 0.3446 (0.1683)\tACC-->87.500 (93.532)\n",
      "VAL:   LOSS--> 0.1798 (0.1808)\tACC-->87.500 (93.173)\n",
      " * Accuracy 93.1259\n"
     ]
    },
    {
     "name": "stderr",
     "output_type": "stream",
     "text": [
      "\r",
      " 83%|███████████████████████████████████████████████████████████████████████████████████████████████████████████████████▋                        | 124/150 [4:46:42<1:00:06, 138.73s/it]"
     ]
    },
    {
     "name": "stdout",
     "output_type": "stream",
     "text": [
      "TRAIN: LOSS-->0.4754 (0.4754)\tACC-->75.000% (75.000%)\n",
      "TRAIN: 124 [0/19125 (0%)]\tLoss: 0.475391, Accuracy: 6/8 (75.000%)\n",
      "TRAIN: LOSS-->0.5616 (0.3569)\tACC-->62.500% (83.706%)\n",
      "TRAIN: 124 [1600/19125 (8%)]\tLoss: 0.561643, Accuracy: 5/8 (62.500%)\n",
      "TRAIN: LOSS-->0.2568 (0.3692)\tACC-->87.500% (82.918%)\n",
      "TRAIN: 124 [3200/19125 (17%)]\tLoss: 0.256800, Accuracy: 7/8 (87.500%)\n",
      "TRAIN: LOSS-->0.3181 (0.3595)\tACC-->87.500% (83.195%)\n",
      "TRAIN: 124 [4800/19125 (25%)]\tLoss: 0.318128, Accuracy: 7/8 (87.500%)\n",
      "TRAIN: LOSS-->0.1853 (0.3521)\tACC-->87.500% (83.396%)\n",
      "TRAIN: 124 [6400/19125 (33%)]\tLoss: 0.185336, Accuracy: 7/8 (87.500%)\n",
      "TRAIN: LOSS-->0.6486 (0.3559)\tACC-->62.500% (83.054%)\n",
      "TRAIN: 124 [8000/19125 (42%)]\tLoss: 0.648606, Accuracy: 5/8 (62.500%)\n",
      "TRAIN: LOSS-->0.7501 (0.3564)\tACC-->62.500% (83.149%)\n",
      "TRAIN: 124 [9600/19125 (50%)]\tLoss: 0.750118, Accuracy: 5/8 (62.500%)\n",
      "TRAIN: LOSS-->0.1807 (0.3537)\tACC-->100.000% (83.298%)\n",
      "TRAIN: 124 [11200/19125 (59%)]\tLoss: 0.180739, Accuracy: 8/8 (100.000%)\n",
      "TRAIN: LOSS-->0.6616 (0.3530)\tACC-->62.500% (83.307%)\n",
      "TRAIN: 124 [12800/19125 (67%)]\tLoss: 0.661649, Accuracy: 5/8 (62.500%)\n",
      "TRAIN: LOSS-->0.5060 (0.3544)\tACC-->75.000% (83.183%)\n",
      "TRAIN: 124 [14400/19125 (75%)]\tLoss: 0.506005, Accuracy: 6/8 (75.000%)\n",
      "TRAIN: LOSS-->0.8169 (0.3544)\tACC-->50.000% (83.233%)\n",
      "TRAIN: 124 [16000/19125 (84%)]\tLoss: 0.816886, Accuracy: 4/8 (50.000%)\n",
      "TRAIN: LOSS-->0.6161 (0.3550)\tACC-->62.500% (83.087%)\n",
      "TRAIN: 124 [17600/19125 (92%)]\tLoss: 0.616063, Accuracy: 5/8 (62.500%)\n",
      "VAL:   LOSS--> 0.3408 (0.3408)\tACC-->87.500 (87.500)\n",
      "VAL:   LOSS--> 0.0245 (0.1837)\tACC-->100.000 (93.035)\n",
      "VAL:   LOSS--> 0.0076 (0.1838)\tACC-->100.000 (92.862)\n",
      " * Accuracy 92.8296\n"
     ]
    },
    {
     "name": "stderr",
     "output_type": "stream",
     "text": [
      "\r",
      " 83%|██████████████████████████████████████████████████████████████████████████████████████████████████████████████████████▎                       | 125/150 [4:49:00<57:48, 138.72s/it]"
     ]
    },
    {
     "name": "stdout",
     "output_type": "stream",
     "text": [
      "TRAIN: LOSS-->0.4254 (0.4254)\tACC-->87.500% (87.500%)\n",
      "TRAIN: 125 [0/19125 (0%)]\tLoss: 0.425393, Accuracy: 7/8 (87.500%)\n",
      "TRAIN: LOSS-->0.1452 (0.3782)\tACC-->100.000% (81.405%)\n",
      "TRAIN: 125 [1600/19125 (8%)]\tLoss: 0.145200, Accuracy: 8/8 (100.000%)\n",
      "TRAIN: LOSS-->0.3097 (0.3677)\tACC-->87.500% (82.138%)\n",
      "TRAIN: 125 [3200/19125 (17%)]\tLoss: 0.309713, Accuracy: 7/8 (87.500%)\n",
      "TRAIN: LOSS-->0.4283 (0.3600)\tACC-->75.000% (82.841%)\n",
      "TRAIN: 125 [4800/19125 (25%)]\tLoss: 0.428269, Accuracy: 6/8 (75.000%)\n",
      "TRAIN: LOSS-->0.2426 (0.3607)\tACC-->87.500% (82.615%)\n",
      "TRAIN: 125 [6400/19125 (33%)]\tLoss: 0.242597, Accuracy: 7/8 (87.500%)\n",
      "TRAIN: LOSS-->0.5894 (0.3580)\tACC-->62.500% (82.867%)\n",
      "TRAIN: 125 [8000/19125 (42%)]\tLoss: 0.589442, Accuracy: 5/8 (62.500%)\n",
      "TRAIN: LOSS-->0.2148 (0.3545)\tACC-->100.000% (82.931%)\n",
      "TRAIN: 125 [9600/19125 (50%)]\tLoss: 0.214812, Accuracy: 8/8 (100.000%)\n",
      "TRAIN: LOSS-->0.3967 (0.3558)\tACC-->75.000% (82.807%)\n",
      "TRAIN: 125 [11200/19125 (59%)]\tLoss: 0.396697, Accuracy: 6/8 (75.000%)\n",
      "TRAIN: LOSS-->0.4665 (0.3552)\tACC-->50.000% (82.792%)\n",
      "TRAIN: 125 [12800/19125 (67%)]\tLoss: 0.466536, Accuracy: 4/8 (50.000%)\n",
      "TRAIN: LOSS-->0.1381 (0.3553)\tACC-->100.000% (82.801%)\n",
      "TRAIN: 125 [14400/19125 (75%)]\tLoss: 0.138068, Accuracy: 8/8 (100.000%)\n",
      "TRAIN: LOSS-->0.2543 (0.3565)\tACC-->87.500% (82.834%)\n",
      "TRAIN: 125 [16000/19125 (84%)]\tLoss: 0.254269, Accuracy: 7/8 (87.500%)\n",
      "TRAIN: LOSS-->0.5438 (0.3558)\tACC-->62.500% (82.877%)\n",
      "TRAIN: 125 [17600/19125 (92%)]\tLoss: 0.543794, Accuracy: 5/8 (62.500%)\n",
      "VAL:   LOSS--> 0.3035 (0.3035)\tACC-->75.000 (75.000)\n",
      "VAL:   LOSS--> 0.3499 (0.2060)\tACC-->87.500 (91.045)\n",
      "VAL:   LOSS--> 0.0096 (0.2272)\tACC-->100.000 (90.555)\n",
      " * Accuracy 90.6370\n"
     ]
    },
    {
     "name": "stderr",
     "output_type": "stream",
     "text": [
      "\r",
      " 84%|███████████████████████████████████████████████████████████████████████████████████████████████████████████████████████▎                      | 126/150 [4:51:18<55:29, 138.72s/it]"
     ]
    },
    {
     "name": "stdout",
     "output_type": "stream",
     "text": [
      "TRAIN: LOSS-->0.4301 (0.4301)\tACC-->75.000% (75.000%)\n",
      "TRAIN: 126 [0/19125 (0%)]\tLoss: 0.430097, Accuracy: 6/8 (75.000%)\n",
      "TRAIN: LOSS-->0.3733 (0.3458)\tACC-->75.000% (84.204%)\n",
      "TRAIN: 126 [1600/19125 (8%)]\tLoss: 0.373330, Accuracy: 6/8 (75.000%)\n",
      "TRAIN: LOSS-->0.2182 (0.3514)\tACC-->100.000% (83.853%)\n",
      "TRAIN: 126 [3200/19125 (17%)]\tLoss: 0.218163, Accuracy: 8/8 (100.000%)\n",
      "TRAIN: LOSS-->0.4487 (0.3521)\tACC-->87.500% (83.569%)\n",
      "TRAIN: 126 [4800/19125 (25%)]\tLoss: 0.448727, Accuracy: 7/8 (87.500%)\n",
      "TRAIN: LOSS-->0.1558 (0.3523)\tACC-->100.000% (83.817%)\n",
      "TRAIN: 126 [6400/19125 (33%)]\tLoss: 0.155798, Accuracy: 8/8 (100.000%)\n",
      "TRAIN: LOSS-->0.2714 (0.3516)\tACC-->87.500% (83.866%)\n",
      "TRAIN: 126 [8000/19125 (42%)]\tLoss: 0.271369, Accuracy: 7/8 (87.500%)\n",
      "TRAIN: LOSS-->0.3616 (0.3527)\tACC-->75.000% (83.711%)\n",
      "TRAIN: 126 [9600/19125 (50%)]\tLoss: 0.361615, Accuracy: 6/8 (75.000%)\n",
      "TRAIN: LOSS-->0.2363 (0.3530)\tACC-->87.500% (83.574%)\n",
      "TRAIN: 126 [11200/19125 (59%)]\tLoss: 0.236341, Accuracy: 7/8 (87.500%)\n",
      "TRAIN: LOSS-->0.5118 (0.3540)\tACC-->75.000% (83.456%)\n",
      "TRAIN: 126 [12800/19125 (67%)]\tLoss: 0.511801, Accuracy: 6/8 (75.000%)\n",
      "TRAIN: LOSS-->0.4022 (0.3548)\tACC-->87.500% (83.343%)\n",
      "TRAIN: 126 [14400/19125 (75%)]\tLoss: 0.402226, Accuracy: 7/8 (87.500%)\n",
      "TRAIN: LOSS-->0.3650 (0.3553)\tACC-->87.500% (83.240%)\n",
      "TRAIN: 126 [16000/19125 (84%)]\tLoss: 0.365048, Accuracy: 7/8 (87.500%)\n",
      "TRAIN: LOSS-->0.5653 (0.3548)\tACC-->62.500% (83.241%)\n",
      "TRAIN: 126 [17600/19125 (92%)]\tLoss: 0.565327, Accuracy: 5/8 (62.500%)\n",
      "VAL:   LOSS--> 0.2114 (0.2114)\tACC-->87.500 (87.500)\n",
      "VAL:   LOSS--> 0.0495 (0.2065)\tACC-->100.000 (92.662)\n",
      "VAL:   LOSS--> 0.0565 (0.1961)\tACC-->100.000 (92.581)\n",
      " * Accuracy 92.5333\n"
     ]
    },
    {
     "name": "stderr",
     "output_type": "stream",
     "text": [
      "\r",
      " 85%|████████████████████████████████████████████████████████████████████████████████████████████████████████████████████████▏                     | 127/150 [4:53:35<53:10, 138.71s/it]"
     ]
    },
    {
     "name": "stdout",
     "output_type": "stream",
     "text": [
      "TRAIN: LOSS-->0.1929 (0.1929)\tACC-->100.000% (100.000%)\n",
      "TRAIN: 127 [0/19125 (0%)]\tLoss: 0.192915, Accuracy: 8/8 (100.000%)\n",
      "TRAIN: LOSS-->0.3288 (0.3622)\tACC-->87.500% (82.774%)\n",
      "TRAIN: 127 [1600/19125 (8%)]\tLoss: 0.328766, Accuracy: 7/8 (87.500%)\n",
      "TRAIN: LOSS-->0.4294 (0.3554)\tACC-->75.000% (83.167%)\n",
      "TRAIN: 127 [3200/19125 (17%)]\tLoss: 0.429386, Accuracy: 6/8 (75.000%)\n",
      "TRAIN: LOSS-->0.4321 (0.3560)\tACC-->62.500% (82.779%)\n",
      "TRAIN: 127 [4800/19125 (25%)]\tLoss: 0.432076, Accuracy: 5/8 (62.500%)\n",
      "TRAIN: LOSS-->0.2295 (0.3643)\tACC-->100.000% (82.694%)\n",
      "TRAIN: 127 [6400/19125 (33%)]\tLoss: 0.229502, Accuracy: 8/8 (100.000%)\n",
      "TRAIN: LOSS-->0.2058 (0.3644)\tACC-->100.000% (82.605%)\n",
      "TRAIN: 127 [8000/19125 (42%)]\tLoss: 0.205768, Accuracy: 8/8 (100.000%)\n",
      "TRAIN: LOSS-->0.6807 (0.3637)\tACC-->50.000% (82.608%)\n",
      "TRAIN: 127 [9600/19125 (50%)]\tLoss: 0.680661, Accuracy: 4/8 (50.000%)\n",
      "TRAIN: LOSS-->0.2411 (0.3619)\tACC-->87.500% (82.682%)\n",
      "TRAIN: 127 [11200/19125 (59%)]\tLoss: 0.241150, Accuracy: 7/8 (87.500%)\n",
      "TRAIN: LOSS-->0.3386 (0.3629)\tACC-->87.500% (82.581%)\n",
      "TRAIN: 127 [12800/19125 (67%)]\tLoss: 0.338570, Accuracy: 7/8 (87.500%)\n",
      "TRAIN: LOSS-->0.2303 (0.3625)\tACC-->87.500% (82.593%)\n",
      "TRAIN: 127 [14400/19125 (75%)]\tLoss: 0.230318, Accuracy: 7/8 (87.500%)\n",
      "TRAIN: LOSS-->0.5131 (0.3601)\tACC-->75.000% (82.777%)\n",
      "TRAIN: 127 [16000/19125 (84%)]\tLoss: 0.513084, Accuracy: 6/8 (75.000%)\n",
      "TRAIN: LOSS-->0.3021 (0.3603)\tACC-->87.500% (82.786%)\n",
      "TRAIN: 127 [17600/19125 (92%)]\tLoss: 0.302052, Accuracy: 7/8 (87.500%)\n",
      "VAL:   LOSS--> 0.1364 (0.1364)\tACC-->87.500 (87.500)\n",
      "VAL:   LOSS--> 0.1688 (0.1909)\tACC-->87.500 (92.351)\n",
      "VAL:   LOSS--> 0.0937 (0.1809)\tACC-->100.000 (92.799)\n",
      " * Accuracy 92.8296\n"
     ]
    },
    {
     "name": "stderr",
     "output_type": "stream",
     "text": [
      "\r",
      " 85%|█████████████████████████████████████████████████████████████████████████████████████████████████████████████████████████▏                    | 128/150 [4:55:53<50:51, 138.70s/it]"
     ]
    },
    {
     "name": "stdout",
     "output_type": "stream",
     "text": [
      "TRAIN: LOSS-->0.2587 (0.2587)\tACC-->100.000% (100.000%)\n",
      "TRAIN: 128 [0/19125 (0%)]\tLoss: 0.258742, Accuracy: 8/8 (100.000%)\n",
      "TRAIN: LOSS-->0.3199 (0.3196)\tACC-->75.000% (85.697%)\n",
      "TRAIN: 128 [1600/19125 (8%)]\tLoss: 0.319929, Accuracy: 6/8 (75.000%)\n",
      "TRAIN: LOSS-->0.2716 (0.3472)\tACC-->87.500% (83.666%)\n",
      "TRAIN: 128 [3200/19125 (17%)]\tLoss: 0.271558, Accuracy: 7/8 (87.500%)\n",
      "TRAIN: LOSS-->0.2286 (0.3450)\tACC-->75.000% (83.444%)\n",
      "TRAIN: 128 [4800/19125 (25%)]\tLoss: 0.228617, Accuracy: 6/8 (75.000%)\n",
      "TRAIN: LOSS-->0.2484 (0.3532)\tACC-->87.500% (83.162%)\n",
      "TRAIN: 128 [6400/19125 (33%)]\tLoss: 0.248354, Accuracy: 7/8 (87.500%)\n",
      "TRAIN: LOSS-->0.2081 (0.3518)\tACC-->87.500% (83.292%)\n",
      "TRAIN: 128 [8000/19125 (42%)]\tLoss: 0.208131, Accuracy: 7/8 (87.500%)\n",
      "TRAIN: LOSS-->0.3065 (0.3531)\tACC-->87.500% (83.337%)\n",
      "TRAIN: 128 [9600/19125 (50%)]\tLoss: 0.306501, Accuracy: 7/8 (87.500%)\n",
      "TRAIN: LOSS-->0.5866 (0.3551)\tACC-->62.500% (83.084%)\n",
      "TRAIN: 128 [11200/19125 (59%)]\tLoss: 0.586646, Accuracy: 5/8 (62.500%)\n",
      "TRAIN: LOSS-->0.2942 (0.3529)\tACC-->87.500% (83.276%)\n",
      "TRAIN: 128 [12800/19125 (67%)]\tLoss: 0.294244, Accuracy: 7/8 (87.500%)\n",
      "TRAIN: LOSS-->0.3552 (0.3541)\tACC-->75.000% (83.204%)\n",
      "TRAIN: 128 [14400/19125 (75%)]\tLoss: 0.355225, Accuracy: 6/8 (75.000%)\n",
      "TRAIN: LOSS-->0.1180 (0.3539)\tACC-->100.000% (83.165%)\n",
      "TRAIN: 128 [16000/19125 (84%)]\tLoss: 0.117958, Accuracy: 8/8 (100.000%)\n",
      "TRAIN: LOSS-->0.5324 (0.3527)\tACC-->75.000% (83.252%)\n",
      "TRAIN: 128 [17600/19125 (92%)]\tLoss: 0.532385, Accuracy: 6/8 (75.000%)\n",
      "VAL:   LOSS--> 0.0322 (0.0322)\tACC-->100.000 (100.000)\n",
      "VAL:   LOSS--> 0.0782 (0.1710)\tACC-->100.000 (93.035)\n",
      "VAL:   LOSS--> 0.2109 (0.1754)\tACC-->87.500 (93.267)\n",
      " * Accuracy 93.3926\n"
     ]
    },
    {
     "name": "stderr",
     "output_type": "stream",
     "text": [
      "\r",
      " 86%|██████████████████████████████████████████████████████████████████████████████████████████████████████████████████████████                    | 129/150 [4:58:11<48:32, 138.70s/it]"
     ]
    },
    {
     "name": "stdout",
     "output_type": "stream",
     "text": [
      "TRAIN: LOSS-->0.2406 (0.2406)\tACC-->87.500% (87.500%)\n",
      "TRAIN: 129 [0/19125 (0%)]\tLoss: 0.240564, Accuracy: 7/8 (87.500%)\n",
      "TRAIN: LOSS-->0.3188 (0.3751)\tACC-->100.000% (83.022%)\n",
      "TRAIN: 129 [1600/19125 (8%)]\tLoss: 0.318770, Accuracy: 8/8 (100.000%)\n",
      "TRAIN: LOSS-->0.6916 (0.3617)\tACC-->62.500% (83.541%)\n",
      "TRAIN: 129 [3200/19125 (17%)]\tLoss: 0.691634, Accuracy: 5/8 (62.500%)\n",
      "TRAIN: LOSS-->0.2630 (0.3497)\tACC-->87.500% (83.694%)\n",
      "TRAIN: 129 [4800/19125 (25%)]\tLoss: 0.262966, Accuracy: 7/8 (87.500%)\n",
      "TRAIN: LOSS-->0.5214 (0.3535)\tACC-->75.000% (83.396%)\n",
      "TRAIN: 129 [6400/19125 (33%)]\tLoss: 0.521403, Accuracy: 6/8 (75.000%)\n",
      "TRAIN: LOSS-->0.4300 (0.3574)\tACC-->87.500% (83.079%)\n",
      "TRAIN: 129 [8000/19125 (42%)]\tLoss: 0.430020, Accuracy: 7/8 (87.500%)\n",
      "TRAIN: LOSS-->0.5540 (0.3590)\tACC-->75.000% (82.983%)\n",
      "TRAIN: 129 [9600/19125 (50%)]\tLoss: 0.554025, Accuracy: 6/8 (75.000%)\n",
      "TRAIN: LOSS-->0.7404 (0.3599)\tACC-->50.000% (82.976%)\n",
      "TRAIN: 129 [11200/19125 (59%)]\tLoss: 0.740420, Accuracy: 4/8 (50.000%)\n",
      "TRAIN: LOSS-->0.3394 (0.3601)\tACC-->87.500% (82.901%)\n",
      "TRAIN: 129 [12800/19125 (67%)]\tLoss: 0.339384, Accuracy: 7/8 (87.500%)\n",
      "TRAIN: LOSS-->0.4452 (0.3603)\tACC-->75.000% (82.850%)\n",
      "TRAIN: 129 [14400/19125 (75%)]\tLoss: 0.445158, Accuracy: 6/8 (75.000%)\n",
      "TRAIN: LOSS-->0.3605 (0.3606)\tACC-->75.000% (82.740%)\n",
      "TRAIN: 129 [16000/19125 (84%)]\tLoss: 0.360518, Accuracy: 6/8 (75.000%)\n",
      "TRAIN: LOSS-->0.4842 (0.3601)\tACC-->75.000% (82.673%)\n",
      "TRAIN: 129 [17600/19125 (92%)]\tLoss: 0.484247, Accuracy: 6/8 (75.000%)\n",
      "VAL:   LOSS--> 0.1052 (0.1052)\tACC-->100.000 (100.000)\n",
      "VAL:   LOSS--> 0.1609 (0.1683)\tACC-->100.000 (93.781)\n",
      "VAL:   LOSS--> 0.3061 (0.1716)\tACC-->87.500 (93.579)\n",
      " * Accuracy 93.5704\n"
     ]
    },
    {
     "name": "stderr",
     "output_type": "stream",
     "text": [
      "\r",
      " 87%|███████████████████████████████████████████████████████████████████████████████████████████████████████████████████████████                   | 130/150 [5:00:29<46:13, 138.69s/it]"
     ]
    },
    {
     "name": "stdout",
     "output_type": "stream",
     "text": [
      "TRAIN: LOSS-->0.1621 (0.1621)\tACC-->100.000% (100.000%)\n",
      "TRAIN: 130 [0/19125 (0%)]\tLoss: 0.162070, Accuracy: 8/8 (100.000%)\n",
      "TRAIN: LOSS-->0.6137 (0.3584)\tACC-->62.500% (83.022%)\n",
      "TRAIN: 130 [1600/19125 (8%)]\tLoss: 0.613653, Accuracy: 5/8 (62.500%)\n",
      "TRAIN: LOSS-->0.3437 (0.3542)\tACC-->87.500% (83.292%)\n",
      "TRAIN: 130 [3200/19125 (17%)]\tLoss: 0.343714, Accuracy: 7/8 (87.500%)\n",
      "TRAIN: LOSS-->0.4602 (0.3554)\tACC-->50.000% (83.049%)\n",
      "TRAIN: 130 [4800/19125 (25%)]\tLoss: 0.460243, Accuracy: 4/8 (50.000%)\n",
      "TRAIN: LOSS-->0.3091 (0.3548)\tACC-->87.500% (83.052%)\n",
      "TRAIN: 130 [6400/19125 (33%)]\tLoss: 0.309071, Accuracy: 7/8 (87.500%)\n",
      "TRAIN: LOSS-->0.1769 (0.3537)\tACC-->100.000% (82.967%)\n",
      "TRAIN: 130 [8000/19125 (42%)]\tLoss: 0.176891, Accuracy: 8/8 (100.000%)\n",
      "TRAIN: LOSS-->0.4224 (0.3561)\tACC-->87.500% (82.837%)\n",
      "TRAIN: 130 [9600/19125 (50%)]\tLoss: 0.422362, Accuracy: 7/8 (87.500%)\n",
      "TRAIN: LOSS-->0.8338 (0.3560)\tACC-->75.000% (82.798%)\n",
      "TRAIN: 130 [11200/19125 (59%)]\tLoss: 0.833821, Accuracy: 6/8 (75.000%)\n",
      "TRAIN: LOSS-->0.3268 (0.3577)\tACC-->100.000% (82.745%)\n",
      "TRAIN: 130 [12800/19125 (67%)]\tLoss: 0.326785, Accuracy: 8/8 (100.000%)\n",
      "TRAIN: LOSS-->0.4195 (0.3584)\tACC-->75.000% (82.732%)\n",
      "TRAIN: 130 [14400/19125 (75%)]\tLoss: 0.419507, Accuracy: 6/8 (75.000%)\n",
      "TRAIN: LOSS-->0.3297 (0.3586)\tACC-->75.000% (82.759%)\n",
      "TRAIN: 130 [16000/19125 (84%)]\tLoss: 0.329682, Accuracy: 6/8 (75.000%)\n",
      "TRAIN: LOSS-->0.2443 (0.3577)\tACC-->100.000% (82.764%)\n",
      "TRAIN: 130 [17600/19125 (92%)]\tLoss: 0.244275, Accuracy: 8/8 (100.000%)\n",
      "VAL:   LOSS--> 0.1373 (0.1373)\tACC-->100.000 (100.000)\n",
      "VAL:   LOSS--> 0.0596 (0.1943)\tACC-->100.000 (92.164)\n",
      "VAL:   LOSS--> 0.1999 (0.1953)\tACC-->87.500 (92.519)\n",
      " * Accuracy 92.3852\n"
     ]
    },
    {
     "name": "stderr",
     "output_type": "stream",
     "text": [
      "\r",
      " 87%|████████████████████████████████████████████████████████████████████████████████████████████████████████████████████████████                  | 131/150 [5:02:47<43:54, 138.68s/it]"
     ]
    },
    {
     "name": "stdout",
     "output_type": "stream",
     "text": [
      "TRAIN: LOSS-->0.3971 (0.3971)\tACC-->75.000% (75.000%)\n",
      "TRAIN: 131 [0/19125 (0%)]\tLoss: 0.397053, Accuracy: 6/8 (75.000%)\n",
      "TRAIN: LOSS-->0.1897 (0.3665)\tACC-->87.500% (82.836%)\n",
      "TRAIN: 131 [1600/19125 (8%)]\tLoss: 0.189734, Accuracy: 7/8 (87.500%)\n",
      "TRAIN: LOSS-->0.4239 (0.3536)\tACC-->62.500% (83.541%)\n",
      "TRAIN: 131 [3200/19125 (17%)]\tLoss: 0.423866, Accuracy: 5/8 (62.500%)\n",
      "TRAIN: LOSS-->0.0946 (0.3573)\tACC-->100.000% (83.257%)\n",
      "TRAIN: 131 [4800/19125 (25%)]\tLoss: 0.094551, Accuracy: 8/8 (100.000%)\n",
      "TRAIN: LOSS-->0.4122 (0.3557)\tACC-->75.000% (83.287%)\n",
      "TRAIN: 131 [6400/19125 (33%)]\tLoss: 0.412248, Accuracy: 6/8 (75.000%)\n",
      "TRAIN: LOSS-->0.0441 (0.3517)\tACC-->100.000% (83.604%)\n",
      "TRAIN: 131 [8000/19125 (42%)]\tLoss: 0.044125, Accuracy: 8/8 (100.000%)\n",
      "TRAIN: LOSS-->0.3474 (0.3523)\tACC-->75.000% (83.410%)\n",
      "TRAIN: 131 [9600/19125 (50%)]\tLoss: 0.347442, Accuracy: 6/8 (75.000%)\n",
      "TRAIN: LOSS-->0.2618 (0.3552)\tACC-->87.500% (83.253%)\n",
      "TRAIN: 131 [11200/19125 (59%)]\tLoss: 0.261807, Accuracy: 7/8 (87.500%)\n",
      "TRAIN: LOSS-->0.5197 (0.3563)\tACC-->75.000% (83.214%)\n",
      "TRAIN: 131 [12800/19125 (67%)]\tLoss: 0.519698, Accuracy: 6/8 (75.000%)\n",
      "TRAIN: LOSS-->0.3962 (0.3567)\tACC-->62.500% (83.051%)\n",
      "TRAIN: 131 [14400/19125 (75%)]\tLoss: 0.396218, Accuracy: 5/8 (62.500%)\n",
      "TRAIN: LOSS-->0.4459 (0.3593)\tACC-->75.000% (82.965%)\n",
      "TRAIN: 131 [16000/19125 (84%)]\tLoss: 0.445869, Accuracy: 6/8 (75.000%)\n",
      "TRAIN: LOSS-->0.6492 (0.3595)\tACC-->62.500% (83.013%)\n",
      "TRAIN: 131 [17600/19125 (92%)]\tLoss: 0.649187, Accuracy: 5/8 (62.500%)\n",
      "VAL:   LOSS--> 0.1097 (0.1097)\tACC-->100.000 (100.000)\n",
      "VAL:   LOSS--> 0.4378 (0.2023)\tACC-->87.500 (91.791)\n",
      "VAL:   LOSS--> 0.1247 (0.1939)\tACC-->100.000 (92.612)\n",
      " * Accuracy 92.4444\n"
     ]
    },
    {
     "name": "stderr",
     "output_type": "stream",
     "text": [
      "\r",
      " 88%|████████████████████████████████████████████████████████████████████████████████████████████████████████████████████████████▉                 | 132/150 [5:05:05<41:36, 138.68s/it]"
     ]
    },
    {
     "name": "stdout",
     "output_type": "stream",
     "text": [
      "TRAIN: LOSS-->0.2487 (0.2487)\tACC-->100.000% (100.000%)\n",
      "TRAIN: 132 [0/19125 (0%)]\tLoss: 0.248651, Accuracy: 8/8 (100.000%)\n",
      "TRAIN: LOSS-->0.0985 (0.3429)\tACC-->100.000% (84.639%)\n",
      "TRAIN: 132 [1600/19125 (8%)]\tLoss: 0.098471, Accuracy: 8/8 (100.000%)\n",
      "TRAIN: LOSS-->0.3045 (0.3622)\tACC-->87.500% (83.229%)\n",
      "TRAIN: 132 [3200/19125 (17%)]\tLoss: 0.304488, Accuracy: 7/8 (87.500%)\n",
      "TRAIN: LOSS-->0.4487 (0.3558)\tACC-->75.000% (83.423%)\n",
      "TRAIN: 132 [4800/19125 (25%)]\tLoss: 0.448720, Accuracy: 6/8 (75.000%)\n",
      "TRAIN: LOSS-->0.3013 (0.3578)\tACC-->87.500% (83.567%)\n",
      "TRAIN: 132 [6400/19125 (33%)]\tLoss: 0.301299, Accuracy: 7/8 (87.500%)\n",
      "TRAIN: LOSS-->0.2592 (0.3554)\tACC-->87.500% (83.641%)\n",
      "TRAIN: 132 [8000/19125 (42%)]\tLoss: 0.259167, Accuracy: 7/8 (87.500%)\n",
      "TRAIN: LOSS-->0.2931 (0.3542)\tACC-->87.500% (83.493%)\n",
      "TRAIN: 132 [9600/19125 (50%)]\tLoss: 0.293138, Accuracy: 7/8 (87.500%)\n",
      "TRAIN: LOSS-->0.5321 (0.3537)\tACC-->62.500% (83.476%)\n",
      "TRAIN: 132 [11200/19125 (59%)]\tLoss: 0.532058, Accuracy: 5/8 (62.500%)\n",
      "TRAIN: LOSS-->0.4496 (0.3545)\tACC-->75.000% (83.339%)\n",
      "TRAIN: 132 [12800/19125 (67%)]\tLoss: 0.449553, Accuracy: 6/8 (75.000%)\n",
      "TRAIN: LOSS-->0.6634 (0.3557)\tACC-->75.000% (83.204%)\n",
      "TRAIN: 132 [14400/19125 (75%)]\tLoss: 0.663438, Accuracy: 6/8 (75.000%)\n",
      "TRAIN: LOSS-->0.3857 (0.3548)\tACC-->75.000% (83.140%)\n",
      "TRAIN: 132 [16000/19125 (84%)]\tLoss: 0.385668, Accuracy: 6/8 (75.000%)\n",
      "TRAIN: LOSS-->0.4746 (0.3533)\tACC-->87.500% (83.229%)\n",
      "TRAIN: 132 [17600/19125 (92%)]\tLoss: 0.474563, Accuracy: 7/8 (87.500%)\n",
      "VAL:   LOSS--> 0.1222 (0.1222)\tACC-->100.000 (100.000)\n",
      "VAL:   LOSS--> 0.1696 (0.1814)\tACC-->100.000 (93.035)\n",
      "VAL:   LOSS--> 0.1438 (0.1704)\tACC-->87.500 (93.360)\n",
      " * Accuracy 93.3926\n"
     ]
    },
    {
     "name": "stderr",
     "output_type": "stream",
     "text": [
      "\r",
      " 89%|█████████████████████████████████████████████████████████████████████████████████████████████████████████████████████████████▉                | 133/150 [5:07:23<39:17, 138.67s/it]"
     ]
    },
    {
     "name": "stdout",
     "output_type": "stream",
     "text": [
      "TRAIN: LOSS-->0.0907 (0.0907)\tACC-->100.000% (100.000%)\n",
      "TRAIN: 133 [0/19125 (0%)]\tLoss: 0.090674, Accuracy: 8/8 (100.000%)\n",
      "TRAIN: LOSS-->0.1674 (0.3755)\tACC-->87.500% (81.654%)\n",
      "TRAIN: 133 [1600/19125 (8%)]\tLoss: 0.167357, Accuracy: 7/8 (87.500%)\n",
      "TRAIN: LOSS-->0.3268 (0.3570)\tACC-->87.500% (83.198%)\n",
      "TRAIN: 133 [3200/19125 (17%)]\tLoss: 0.326788, Accuracy: 7/8 (87.500%)\n",
      "TRAIN: LOSS-->0.5062 (0.3593)\tACC-->75.000% (82.987%)\n",
      "TRAIN: 133 [4800/19125 (25%)]\tLoss: 0.506161, Accuracy: 6/8 (75.000%)\n",
      "TRAIN: LOSS-->0.2626 (0.3529)\tACC-->87.500% (83.318%)\n",
      "TRAIN: 133 [6400/19125 (33%)]\tLoss: 0.262632, Accuracy: 7/8 (87.500%)\n",
      "TRAIN: LOSS-->0.7451 (0.3542)\tACC-->87.500% (83.229%)\n",
      "TRAIN: 133 [8000/19125 (42%)]\tLoss: 0.745086, Accuracy: 7/8 (87.500%)\n",
      "TRAIN: LOSS-->0.8326 (0.3530)\tACC-->75.000% (83.201%)\n",
      "TRAIN: 133 [9600/19125 (50%)]\tLoss: 0.832590, Accuracy: 6/8 (75.000%)\n",
      "TRAIN: LOSS-->0.5262 (0.3527)\tACC-->62.500% (83.298%)\n",
      "TRAIN: 133 [11200/19125 (59%)]\tLoss: 0.526162, Accuracy: 5/8 (62.500%)\n",
      "TRAIN: LOSS-->0.4475 (0.3563)\tACC-->87.500% (83.159%)\n",
      "TRAIN: 133 [12800/19125 (67%)]\tLoss: 0.447512, Accuracy: 7/8 (87.500%)\n",
      "TRAIN: LOSS-->0.4126 (0.3575)\tACC-->75.000% (83.100%)\n",
      "TRAIN: 133 [14400/19125 (75%)]\tLoss: 0.412578, Accuracy: 6/8 (75.000%)\n",
      "TRAIN: LOSS-->0.2044 (0.3555)\tACC-->87.500% (83.177%)\n",
      "TRAIN: 133 [16000/19125 (84%)]\tLoss: 0.204359, Accuracy: 7/8 (87.500%)\n",
      "TRAIN: LOSS-->0.3764 (0.3547)\tACC-->75.000% (83.184%)\n",
      "TRAIN: 133 [17600/19125 (92%)]\tLoss: 0.376436, Accuracy: 6/8 (75.000%)\n",
      "VAL:   LOSS--> 0.0376 (0.0376)\tACC-->100.000 (100.000)\n",
      "VAL:   LOSS--> 0.1366 (0.2040)\tACC-->100.000 (91.978)\n",
      "VAL:   LOSS--> 0.3176 (0.1954)\tACC-->75.000 (92.488)\n",
      " * Accuracy 92.6815\n"
     ]
    },
    {
     "name": "stderr",
     "output_type": "stream",
     "text": [
      "\r",
      " 89%|██████████████████████████████████████████████████████████████████████████████████████████████████████████████████████████████▊               | 134/150 [5:09:41<36:58, 138.67s/it]"
     ]
    },
    {
     "name": "stdout",
     "output_type": "stream",
     "text": [
      "TRAIN: LOSS-->0.2939 (0.2939)\tACC-->100.000% (100.000%)\n",
      "TRAIN: 134 [0/19125 (0%)]\tLoss: 0.293932, Accuracy: 8/8 (100.000%)\n",
      "TRAIN: LOSS-->0.2081 (0.3621)\tACC-->100.000% (82.338%)\n",
      "TRAIN: 134 [1600/19125 (8%)]\tLoss: 0.208128, Accuracy: 8/8 (100.000%)\n",
      "TRAIN: LOSS-->0.3897 (0.3643)\tACC-->75.000% (82.294%)\n",
      "TRAIN: 134 [3200/19125 (17%)]\tLoss: 0.389675, Accuracy: 6/8 (75.000%)\n",
      "TRAIN: LOSS-->0.1776 (0.3622)\tACC-->100.000% (82.467%)\n",
      "TRAIN: 134 [4800/19125 (25%)]\tLoss: 0.177583, Accuracy: 8/8 (100.000%)\n",
      "TRAIN: LOSS-->0.4332 (0.3649)\tACC-->75.000% (82.444%)\n",
      "TRAIN: 134 [6400/19125 (33%)]\tLoss: 0.433203, Accuracy: 6/8 (75.000%)\n",
      "TRAIN: LOSS-->0.1913 (0.3608)\tACC-->87.500% (82.655%)\n",
      "TRAIN: 134 [8000/19125 (42%)]\tLoss: 0.191285, Accuracy: 7/8 (87.500%)\n",
      "TRAIN: LOSS-->0.2872 (0.3625)\tACC-->87.500% (82.515%)\n",
      "TRAIN: 134 [9600/19125 (50%)]\tLoss: 0.287153, Accuracy: 7/8 (87.500%)\n",
      "TRAIN: LOSS-->0.3963 (0.3593)\tACC-->87.500% (82.682%)\n",
      "TRAIN: 134 [11200/19125 (59%)]\tLoss: 0.396267, Accuracy: 7/8 (87.500%)\n",
      "TRAIN: LOSS-->0.1242 (0.3573)\tACC-->100.000% (82.722%)\n",
      "TRAIN: 134 [12800/19125 (67%)]\tLoss: 0.124224, Accuracy: 8/8 (100.000%)\n",
      "TRAIN: LOSS-->0.3321 (0.3574)\tACC-->87.500% (82.739%)\n",
      "TRAIN: 134 [14400/19125 (75%)]\tLoss: 0.332149, Accuracy: 7/8 (87.500%)\n",
      "TRAIN: LOSS-->0.2963 (0.3582)\tACC-->75.000% (82.627%)\n",
      "TRAIN: 134 [16000/19125 (84%)]\tLoss: 0.296269, Accuracy: 6/8 (75.000%)\n",
      "TRAIN: LOSS-->0.4992 (0.3576)\tACC-->62.500% (82.746%)\n",
      "TRAIN: 134 [17600/19125 (92%)]\tLoss: 0.499192, Accuracy: 5/8 (62.500%)\n",
      "VAL:   LOSS--> 0.0759 (0.0759)\tACC-->100.000 (100.000)\n",
      "VAL:   LOSS--> 0.1521 (0.1726)\tACC-->100.000 (93.284)\n",
      "VAL:   LOSS--> 0.2014 (0.1761)\tACC-->100.000 (92.830)\n",
      " * Accuracy 92.8593\n"
     ]
    },
    {
     "name": "stderr",
     "output_type": "stream",
     "text": [
      "\r",
      " 90%|███████████████████████████████████████████████████████████████████████████████████████████████████████████████████████████████▊              | 135/150 [5:11:59<34:39, 138.66s/it]"
     ]
    },
    {
     "name": "stdout",
     "output_type": "stream",
     "text": [
      "TRAIN: LOSS-->0.5540 (0.5540)\tACC-->75.000% (75.000%)\n",
      "TRAIN: 135 [0/19125 (0%)]\tLoss: 0.554002, Accuracy: 6/8 (75.000%)\n",
      "TRAIN: LOSS-->0.1121 (0.3391)\tACC-->100.000% (84.639%)\n",
      "TRAIN: 135 [1600/19125 (8%)]\tLoss: 0.112068, Accuracy: 8/8 (100.000%)\n",
      "TRAIN: LOSS-->0.2675 (0.3454)\tACC-->87.500% (84.476%)\n",
      "TRAIN: 135 [3200/19125 (17%)]\tLoss: 0.267522, Accuracy: 7/8 (87.500%)\n",
      "TRAIN: LOSS-->0.5133 (0.3436)\tACC-->62.500% (84.671%)\n",
      "TRAIN: 135 [4800/19125 (25%)]\tLoss: 0.513255, Accuracy: 5/8 (62.500%)\n",
      "TRAIN: LOSS-->0.2281 (0.3489)\tACC-->87.500% (84.270%)\n",
      "TRAIN: 135 [6400/19125 (33%)]\tLoss: 0.228056, Accuracy: 7/8 (87.500%)\n",
      "TRAIN: LOSS-->0.5669 (0.3479)\tACC-->87.500% (84.203%)\n",
      "TRAIN: 135 [8000/19125 (42%)]\tLoss: 0.566868, Accuracy: 7/8 (87.500%)\n",
      "TRAIN: LOSS-->0.2005 (0.3483)\tACC-->100.000% (83.982%)\n",
      "TRAIN: 135 [9600/19125 (50%)]\tLoss: 0.200490, Accuracy: 8/8 (100.000%)\n",
      "TRAIN: LOSS-->0.3921 (0.3507)\tACC-->87.500% (83.735%)\n",
      "TRAIN: 135 [11200/19125 (59%)]\tLoss: 0.392113, Accuracy: 7/8 (87.500%)\n",
      "TRAIN: LOSS-->0.4561 (0.3510)\tACC-->75.000% (83.620%)\n",
      "TRAIN: 135 [12800/19125 (67%)]\tLoss: 0.456069, Accuracy: 6/8 (75.000%)\n",
      "TRAIN: LOSS-->0.2892 (0.3519)\tACC-->87.500% (83.579%)\n",
      "TRAIN: 135 [14400/19125 (75%)]\tLoss: 0.289226, Accuracy: 7/8 (87.500%)\n",
      "TRAIN: LOSS-->0.1411 (0.3527)\tACC-->100.000% (83.571%)\n",
      "TRAIN: 135 [16000/19125 (84%)]\tLoss: 0.141055, Accuracy: 8/8 (100.000%)\n",
      "TRAIN: LOSS-->0.3827 (0.3551)\tACC-->87.500% (83.383%)\n",
      "TRAIN: 135 [17600/19125 (92%)]\tLoss: 0.382689, Accuracy: 7/8 (87.500%)\n",
      "VAL:   LOSS--> 0.3583 (0.3583)\tACC-->75.000 (75.000)\n",
      "VAL:   LOSS--> 0.2901 (0.1688)\tACC-->87.500 (92.724)\n",
      "VAL:   LOSS--> 0.6279 (0.1923)\tACC-->87.500 (92.176)\n",
      " * Accuracy 92.2667\n"
     ]
    },
    {
     "name": "stderr",
     "output_type": "stream",
     "text": [
      "\r",
      " 91%|████████████████████████████████████████████████████████████████████████████████████████████████████████████████████████████████▋             | 136/150 [5:14:17<32:21, 138.66s/it]"
     ]
    },
    {
     "name": "stdout",
     "output_type": "stream",
     "text": [
      "TRAIN: LOSS-->0.4763 (0.4763)\tACC-->75.000% (75.000%)\n",
      "TRAIN: 136 [0/19125 (0%)]\tLoss: 0.476341, Accuracy: 6/8 (75.000%)\n",
      "TRAIN: LOSS-->0.1029 (0.3640)\tACC-->100.000% (82.090%)\n",
      "TRAIN: 136 [1600/19125 (8%)]\tLoss: 0.102907, Accuracy: 8/8 (100.000%)\n",
      "TRAIN: LOSS-->0.4086 (0.3710)\tACC-->62.500% (81.951%)\n",
      "TRAIN: 136 [3200/19125 (17%)]\tLoss: 0.408580, Accuracy: 5/8 (62.500%)\n",
      "TRAIN: LOSS-->0.4100 (0.3693)\tACC-->62.500% (81.947%)\n",
      "TRAIN: 136 [4800/19125 (25%)]\tLoss: 0.409995, Accuracy: 5/8 (62.500%)\n",
      "TRAIN: LOSS-->0.6693 (0.3675)\tACC-->75.000% (82.116%)\n",
      "TRAIN: 136 [6400/19125 (33%)]\tLoss: 0.669330, Accuracy: 6/8 (75.000%)\n",
      "TRAIN: LOSS-->0.2409 (0.3680)\tACC-->87.500% (82.143%)\n",
      "TRAIN: 136 [8000/19125 (42%)]\tLoss: 0.240926, Accuracy: 7/8 (87.500%)\n",
      "TRAIN: LOSS-->0.3804 (0.3681)\tACC-->87.500% (82.275%)\n",
      "TRAIN: 136 [9600/19125 (50%)]\tLoss: 0.380363, Accuracy: 7/8 (87.500%)\n",
      "TRAIN: LOSS-->0.3287 (0.3647)\tACC-->75.000% (82.432%)\n",
      "TRAIN: 136 [11200/19125 (59%)]\tLoss: 0.328668, Accuracy: 6/8 (75.000%)\n",
      "TRAIN: LOSS-->0.5189 (0.3652)\tACC-->75.000% (82.534%)\n",
      "TRAIN: 136 [12800/19125 (67%)]\tLoss: 0.518871, Accuracy: 6/8 (75.000%)\n",
      "TRAIN: LOSS-->0.3534 (0.3641)\tACC-->75.000% (82.642%)\n",
      "TRAIN: 136 [14400/19125 (75%)]\tLoss: 0.353390, Accuracy: 6/8 (75.000%)\n",
      "TRAIN: LOSS-->0.1277 (0.3624)\tACC-->100.000% (82.715%)\n",
      "TRAIN: 136 [16000/19125 (84%)]\tLoss: 0.127735, Accuracy: 8/8 (100.000%)\n",
      "TRAIN: LOSS-->0.4001 (0.3598)\tACC-->75.000% (82.911%)\n",
      "TRAIN: 136 [17600/19125 (92%)]\tLoss: 0.400128, Accuracy: 6/8 (75.000%)\n",
      "VAL:   LOSS--> 0.4862 (0.4862)\tACC-->87.500 (87.500)\n",
      "VAL:   LOSS--> 0.1607 (0.1818)\tACC-->87.500 (92.164)\n",
      "VAL:   LOSS--> 0.0879 (0.1768)\tACC-->100.000 (92.893)\n",
      " * Accuracy 92.9185\n"
     ]
    },
    {
     "name": "stderr",
     "output_type": "stream",
     "text": [
      "\r",
      " 91%|█████████████████████████████████████████████████████████████████████████████████████████████████████████████████████████████████▋            | 137/150 [5:16:35<30:02, 138.65s/it]"
     ]
    },
    {
     "name": "stdout",
     "output_type": "stream",
     "text": [
      "TRAIN: LOSS-->0.2236 (0.2236)\tACC-->87.500% (87.500%)\n",
      "TRAIN: 137 [0/19125 (0%)]\tLoss: 0.223591, Accuracy: 7/8 (87.500%)\n",
      "TRAIN: LOSS-->0.2383 (0.3576)\tACC-->87.500% (84.391%)\n",
      "TRAIN: 137 [1600/19125 (8%)]\tLoss: 0.238302, Accuracy: 7/8 (87.500%)\n",
      "TRAIN: LOSS-->0.1926 (0.3518)\tACC-->87.500% (84.663%)\n",
      "TRAIN: 137 [3200/19125 (17%)]\tLoss: 0.192623, Accuracy: 7/8 (87.500%)\n",
      "TRAIN: LOSS-->0.2567 (0.3512)\tACC-->87.500% (84.567%)\n",
      "TRAIN: 137 [4800/19125 (25%)]\tLoss: 0.256717, Accuracy: 7/8 (87.500%)\n",
      "TRAIN: LOSS-->0.6783 (0.3558)\tACC-->50.000% (84.020%)\n",
      "TRAIN: 137 [6400/19125 (33%)]\tLoss: 0.678258, Accuracy: 4/8 (50.000%)\n",
      "TRAIN: LOSS-->0.1683 (0.3558)\tACC-->100.000% (83.779%)\n",
      "TRAIN: 137 [8000/19125 (42%)]\tLoss: 0.168334, Accuracy: 8/8 (100.000%)\n",
      "TRAIN: LOSS-->0.0977 (0.3529)\tACC-->100.000% (83.753%)\n",
      "TRAIN: 137 [9600/19125 (50%)]\tLoss: 0.097744, Accuracy: 8/8 (100.000%)\n",
      "TRAIN: LOSS-->0.2050 (0.3507)\tACC-->100.000% (83.842%)\n",
      "TRAIN: 137 [11200/19125 (59%)]\tLoss: 0.204990, Accuracy: 8/8 (100.000%)\n",
      "TRAIN: LOSS-->0.1841 (0.3529)\tACC-->100.000% (83.659%)\n",
      "TRAIN: 137 [12800/19125 (67%)]\tLoss: 0.184064, Accuracy: 8/8 (100.000%)\n",
      "TRAIN: LOSS-->0.3925 (0.3544)\tACC-->75.000% (83.586%)\n",
      "TRAIN: 137 [14400/19125 (75%)]\tLoss: 0.392499, Accuracy: 6/8 (75.000%)\n",
      "TRAIN: LOSS-->0.1686 (0.3549)\tACC-->100.000% (83.458%)\n",
      "TRAIN: 137 [16000/19125 (84%)]\tLoss: 0.168622, Accuracy: 8/8 (100.000%)\n",
      "TRAIN: LOSS-->0.3557 (0.3557)\tACC-->87.500% (83.292%)\n",
      "TRAIN: 137 [17600/19125 (92%)]\tLoss: 0.355676, Accuracy: 7/8 (87.500%)\n",
      "VAL:   LOSS--> 0.0191 (0.0191)\tACC-->100.000 (100.000)\n",
      "VAL:   LOSS--> 0.5766 (0.1865)\tACC-->75.000 (92.786)\n",
      "VAL:   LOSS--> 0.2068 (0.1714)\tACC-->87.500 (93.392)\n",
      " * Accuracy 93.4815\n"
     ]
    },
    {
     "name": "stderr",
     "output_type": "stream",
     "text": [
      "\r",
      " 92%|██████████████████████████████████████████████████████████████████████████████████████████████████████████████████████████████████▋           | 138/150 [5:18:53<27:43, 138.65s/it]"
     ]
    },
    {
     "name": "stdout",
     "output_type": "stream",
     "text": [
      "TRAIN: LOSS-->0.1019 (0.1019)\tACC-->100.000% (100.000%)\n",
      "TRAIN: 138 [0/19125 (0%)]\tLoss: 0.101948, Accuracy: 8/8 (100.000%)\n",
      "TRAIN: LOSS-->0.2996 (0.3624)\tACC-->75.000% (83.396%)\n",
      "TRAIN: 138 [1600/19125 (8%)]\tLoss: 0.299639, Accuracy: 6/8 (75.000%)\n",
      "TRAIN: LOSS-->0.2158 (0.3503)\tACC-->100.000% (83.791%)\n",
      "TRAIN: 138 [3200/19125 (17%)]\tLoss: 0.215840, Accuracy: 8/8 (100.000%)\n",
      "TRAIN: LOSS-->0.3968 (0.3486)\tACC-->75.000% (83.735%)\n",
      "TRAIN: 138 [4800/19125 (25%)]\tLoss: 0.396780, Accuracy: 6/8 (75.000%)\n",
      "TRAIN: LOSS-->0.6418 (0.3451)\tACC-->50.000% (83.755%)\n",
      "TRAIN: 138 [6400/19125 (33%)]\tLoss: 0.641754, Accuracy: 4/8 (50.000%)\n",
      "TRAIN: LOSS-->1.0169 (0.3449)\tACC-->50.000% (83.641%)\n",
      "TRAIN: 138 [8000/19125 (42%)]\tLoss: 1.016877, Accuracy: 4/8 (50.000%)\n",
      "TRAIN: LOSS-->0.6188 (0.3415)\tACC-->50.000% (83.899%)\n",
      "TRAIN: 138 [9600/19125 (50%)]\tLoss: 0.618763, Accuracy: 4/8 (50.000%)\n",
      "TRAIN: LOSS-->0.0824 (0.3431)\tACC-->100.000% (83.869%)\n",
      "TRAIN: 138 [11200/19125 (59%)]\tLoss: 0.082397, Accuracy: 8/8 (100.000%)\n",
      "TRAIN: LOSS-->0.3288 (0.3454)\tACC-->87.500% (83.620%)\n",
      "TRAIN: 138 [12800/19125 (67%)]\tLoss: 0.328791, Accuracy: 7/8 (87.500%)\n",
      "TRAIN: LOSS-->0.2489 (0.3484)\tACC-->87.500% (83.509%)\n",
      "TRAIN: 138 [14400/19125 (75%)]\tLoss: 0.248941, Accuracy: 7/8 (87.500%)\n",
      "TRAIN: LOSS-->0.1873 (0.3504)\tACC-->100.000% (83.427%)\n",
      "TRAIN: 138 [16000/19125 (84%)]\tLoss: 0.187329, Accuracy: 8/8 (100.000%)\n",
      "TRAIN: LOSS-->0.2089 (0.3495)\tACC-->100.000% (83.445%)\n",
      "TRAIN: 138 [17600/19125 (92%)]\tLoss: 0.208893, Accuracy: 8/8 (100.000%)\n",
      "VAL:   LOSS--> 0.1319 (0.1319)\tACC-->100.000 (100.000)\n",
      "VAL:   LOSS--> 0.3230 (0.1991)\tACC-->87.500 (91.978)\n",
      "VAL:   LOSS--> 0.1070 (0.2094)\tACC-->100.000 (92.176)\n",
      " * Accuracy 92.2667\n"
     ]
    },
    {
     "name": "stderr",
     "output_type": "stream",
     "text": [
      "\r",
      " 93%|███████████████████████████████████████████████████████████████████████████████████████████████████████████████████████████████████▌          | 139/150 [5:21:11<25:25, 138.65s/it]"
     ]
    },
    {
     "name": "stdout",
     "output_type": "stream",
     "text": [
      "TRAIN: LOSS-->0.3983 (0.3983)\tACC-->75.000% (75.000%)\n",
      "TRAIN: 139 [0/19125 (0%)]\tLoss: 0.398288, Accuracy: 6/8 (75.000%)\n",
      "TRAIN: LOSS-->0.3706 (0.3706)\tACC-->75.000% (82.525%)\n",
      "TRAIN: 139 [1600/19125 (8%)]\tLoss: 0.370646, Accuracy: 6/8 (75.000%)\n",
      "TRAIN: LOSS-->0.1307 (0.3513)\tACC-->100.000% (83.011%)\n",
      "TRAIN: 139 [3200/19125 (17%)]\tLoss: 0.130730, Accuracy: 8/8 (100.000%)\n",
      "TRAIN: LOSS-->0.3893 (0.3571)\tACC-->62.500% (82.488%)\n",
      "TRAIN: 139 [4800/19125 (25%)]\tLoss: 0.389293, Accuracy: 5/8 (62.500%)\n",
      "TRAIN: LOSS-->0.4110 (0.3573)\tACC-->75.000% (82.553%)\n",
      "TRAIN: 139 [6400/19125 (33%)]\tLoss: 0.411023, Accuracy: 6/8 (75.000%)\n",
      "TRAIN: LOSS-->0.3675 (0.3573)\tACC-->75.000% (82.368%)\n",
      "TRAIN: 139 [8000/19125 (42%)]\tLoss: 0.367479, Accuracy: 6/8 (75.000%)\n",
      "TRAIN: LOSS-->0.2951 (0.3508)\tACC-->87.500% (82.692%)\n",
      "TRAIN: 139 [9600/19125 (50%)]\tLoss: 0.295142, Accuracy: 7/8 (87.500%)\n",
      "TRAIN: LOSS-->0.5544 (0.3493)\tACC-->62.500% (82.896%)\n",
      "TRAIN: 139 [11200/19125 (59%)]\tLoss: 0.554367, Accuracy: 5/8 (62.500%)\n",
      "TRAIN: LOSS-->0.3200 (0.3551)\tACC-->87.500% (82.620%)\n",
      "TRAIN: 139 [12800/19125 (67%)]\tLoss: 0.319999, Accuracy: 7/8 (87.500%)\n",
      "TRAIN: LOSS-->0.4444 (0.3540)\tACC-->75.000% (82.794%)\n",
      "TRAIN: 139 [14400/19125 (75%)]\tLoss: 0.444402, Accuracy: 6/8 (75.000%)\n",
      "TRAIN: LOSS-->0.3420 (0.3522)\tACC-->75.000% (82.896%)\n",
      "TRAIN: 139 [16000/19125 (84%)]\tLoss: 0.342036, Accuracy: 6/8 (75.000%)\n",
      "TRAIN: LOSS-->0.2339 (0.3523)\tACC-->87.500% (82.934%)\n",
      "TRAIN: 139 [17600/19125 (92%)]\tLoss: 0.233856, Accuracy: 7/8 (87.500%)\n",
      "VAL:   LOSS--> 0.3215 (0.3215)\tACC-->87.500 (87.500)\n",
      "VAL:   LOSS--> 0.0899 (0.2123)\tACC-->100.000 (91.978)\n",
      "VAL:   LOSS--> 0.0722 (0.1881)\tACC-->100.000 (92.581)\n",
      " * Accuracy 92.4741\n"
     ]
    },
    {
     "name": "stderr",
     "output_type": "stream",
     "text": [
      "\r",
      " 93%|████████████████████████████████████████████████████████████████████████████████████████████████████████████████████████████████████▌         | 140/150 [5:23:30<23:06, 138.64s/it]"
     ]
    },
    {
     "name": "stdout",
     "output_type": "stream",
     "text": [
      "TRAIN: LOSS-->0.2324 (0.2324)\tACC-->87.500% (87.500%)\n",
      "TRAIN: 140 [0/19125 (0%)]\tLoss: 0.232403, Accuracy: 7/8 (87.500%)\n",
      "TRAIN: LOSS-->0.1535 (0.3393)\tACC-->87.500% (85.510%)\n",
      "TRAIN: 140 [1600/19125 (8%)]\tLoss: 0.153478, Accuracy: 7/8 (87.500%)\n",
      "TRAIN: LOSS-->0.4996 (0.3426)\tACC-->62.500% (84.445%)\n",
      "TRAIN: 140 [3200/19125 (17%)]\tLoss: 0.499631, Accuracy: 5/8 (62.500%)\n",
      "TRAIN: LOSS-->0.1531 (0.3458)\tACC-->100.000% (84.027%)\n",
      "TRAIN: 140 [4800/19125 (25%)]\tLoss: 0.153144, Accuracy: 8/8 (100.000%)\n",
      "TRAIN: LOSS-->0.1821 (0.3453)\tACC-->100.000% (84.051%)\n",
      "TRAIN: 140 [6400/19125 (33%)]\tLoss: 0.182105, Accuracy: 8/8 (100.000%)\n",
      "TRAIN: LOSS-->0.2646 (0.3437)\tACC-->87.500% (84.066%)\n",
      "TRAIN: 140 [8000/19125 (42%)]\tLoss: 0.264605, Accuracy: 7/8 (87.500%)\n",
      "TRAIN: LOSS-->0.4543 (0.3493)\tACC-->87.500% (83.764%)\n",
      "TRAIN: 140 [9600/19125 (50%)]\tLoss: 0.454294, Accuracy: 7/8 (87.500%)\n",
      "TRAIN: LOSS-->0.2781 (0.3495)\tACC-->87.500% (83.788%)\n",
      "TRAIN: 140 [11200/19125 (59%)]\tLoss: 0.278114, Accuracy: 7/8 (87.500%)\n",
      "TRAIN: LOSS-->0.4351 (0.3486)\tACC-->75.000% (83.807%)\n",
      "TRAIN: 140 [12800/19125 (67%)]\tLoss: 0.435066, Accuracy: 6/8 (75.000%)\n",
      "TRAIN: LOSS-->0.3354 (0.3500)\tACC-->87.500% (83.586%)\n",
      "TRAIN: 140 [14400/19125 (75%)]\tLoss: 0.335414, Accuracy: 7/8 (87.500%)\n",
      "TRAIN: LOSS-->0.2695 (0.3497)\tACC-->87.500% (83.608%)\n",
      "TRAIN: 140 [16000/19125 (84%)]\tLoss: 0.269527, Accuracy: 7/8 (87.500%)\n",
      "TRAIN: LOSS-->0.1587 (0.3493)\tACC-->100.000% (83.627%)\n",
      "TRAIN: 140 [17600/19125 (92%)]\tLoss: 0.158653, Accuracy: 8/8 (100.000%)\n",
      "VAL:   LOSS--> 0.2464 (0.2464)\tACC-->87.500 (87.500)\n",
      "VAL:   LOSS--> 0.0764 (0.1863)\tACC-->100.000 (92.413)\n",
      "VAL:   LOSS--> 0.0473 (0.1836)\tACC-->100.000 (93.049)\n",
      " * Accuracy 93.0667\n"
     ]
    },
    {
     "name": "stderr",
     "output_type": "stream",
     "text": [
      "\r",
      " 94%|█████████████████████████████████████████████████████████████████████████████████████████████████████████████████████████████████████▍        | 141/150 [5:25:48<20:47, 138.64s/it]"
     ]
    },
    {
     "name": "stdout",
     "output_type": "stream",
     "text": [
      "TRAIN: LOSS-->0.1610 (0.1610)\tACC-->87.500% (87.500%)\n",
      "TRAIN: 141 [0/19125 (0%)]\tLoss: 0.161026, Accuracy: 7/8 (87.500%)\n",
      "TRAIN: LOSS-->0.2030 (0.3510)\tACC-->87.500% (84.391%)\n",
      "TRAIN: 141 [1600/19125 (8%)]\tLoss: 0.202986, Accuracy: 7/8 (87.500%)\n",
      "TRAIN: LOSS-->0.3144 (0.3533)\tACC-->75.000% (84.009%)\n",
      "TRAIN: 141 [3200/19125 (17%)]\tLoss: 0.314396, Accuracy: 6/8 (75.000%)\n",
      "TRAIN: LOSS-->0.3179 (0.3505)\tACC-->87.500% (84.027%)\n",
      "TRAIN: 141 [4800/19125 (25%)]\tLoss: 0.317943, Accuracy: 7/8 (87.500%)\n",
      "TRAIN: LOSS-->0.3025 (0.3459)\tACC-->75.000% (84.223%)\n",
      "TRAIN: 141 [6400/19125 (33%)]\tLoss: 0.302471, Accuracy: 6/8 (75.000%)\n",
      "TRAIN: LOSS-->0.2146 (0.3489)\tACC-->100.000% (83.929%)\n",
      "TRAIN: 141 [8000/19125 (42%)]\tLoss: 0.214589, Accuracy: 8/8 (100.000%)\n",
      "TRAIN: LOSS-->0.4193 (0.3472)\tACC-->75.000% (83.795%)\n",
      "TRAIN: 141 [9600/19125 (50%)]\tLoss: 0.419257, Accuracy: 6/8 (75.000%)\n",
      "TRAIN: LOSS-->0.3449 (0.3475)\tACC-->75.000% (83.699%)\n",
      "TRAIN: 141 [11200/19125 (59%)]\tLoss: 0.344907, Accuracy: 6/8 (75.000%)\n",
      "TRAIN: LOSS-->0.2741 (0.3474)\tACC-->87.500% (83.815%)\n",
      "TRAIN: 141 [12800/19125 (67%)]\tLoss: 0.274147, Accuracy: 7/8 (87.500%)\n",
      "TRAIN: LOSS-->0.8013 (0.3478)\tACC-->50.000% (83.780%)\n",
      "TRAIN: 141 [14400/19125 (75%)]\tLoss: 0.801323, Accuracy: 4/8 (50.000%)\n",
      "TRAIN: LOSS-->0.2921 (0.3487)\tACC-->87.500% (83.714%)\n",
      "TRAIN: 141 [16000/19125 (84%)]\tLoss: 0.292068, Accuracy: 7/8 (87.500%)\n",
      "TRAIN: LOSS-->0.4335 (0.3464)\tACC-->87.500% (83.905%)\n",
      "TRAIN: 141 [17600/19125 (92%)]\tLoss: 0.433548, Accuracy: 7/8 (87.500%)\n",
      "VAL:   LOSS--> 0.3474 (0.3474)\tACC-->87.500 (87.500)\n",
      "VAL:   LOSS--> 0.3406 (0.1832)\tACC-->87.500 (92.600)\n",
      "VAL:   LOSS--> 0.1042 (0.1861)\tACC-->100.000 (92.706)\n",
      " * Accuracy 92.6222\n"
     ]
    },
    {
     "name": "stderr",
     "output_type": "stream",
     "text": [
      "\r",
      " 95%|██████████████████████████████████████████████████████████████████████████████████████████████████████████████████████████████████████▍       | 142/150 [5:28:05<18:29, 138.63s/it]"
     ]
    },
    {
     "name": "stdout",
     "output_type": "stream",
     "text": [
      "TRAIN: LOSS-->0.6521 (0.6521)\tACC-->75.000% (75.000%)\n",
      "TRAIN: 142 [0/19125 (0%)]\tLoss: 0.652126, Accuracy: 6/8 (75.000%)\n",
      "TRAIN: LOSS-->0.3140 (0.3536)\tACC-->75.000% (83.085%)\n",
      "TRAIN: 142 [1600/19125 (8%)]\tLoss: 0.313951, Accuracy: 6/8 (75.000%)\n",
      "TRAIN: LOSS-->0.6036 (0.3576)\tACC-->62.500% (83.042%)\n",
      "TRAIN: 142 [3200/19125 (17%)]\tLoss: 0.603637, Accuracy: 5/8 (62.500%)\n",
      "TRAIN: LOSS-->0.0922 (0.3527)\tACC-->100.000% (83.153%)\n",
      "TRAIN: 142 [4800/19125 (25%)]\tLoss: 0.092186, Accuracy: 8/8 (100.000%)\n",
      "TRAIN: LOSS-->0.2696 (0.3505)\tACC-->87.500% (83.177%)\n",
      "TRAIN: 142 [6400/19125 (33%)]\tLoss: 0.269616, Accuracy: 7/8 (87.500%)\n",
      "TRAIN: LOSS-->0.2017 (0.3477)\tACC-->87.500% (83.529%)\n",
      "TRAIN: 142 [8000/19125 (42%)]\tLoss: 0.201673, Accuracy: 7/8 (87.500%)\n",
      "TRAIN: LOSS-->0.3119 (0.3507)\tACC-->87.500% (83.285%)\n",
      "TRAIN: 142 [9600/19125 (50%)]\tLoss: 0.311860, Accuracy: 7/8 (87.500%)\n",
      "TRAIN: LOSS-->0.4258 (0.3545)\tACC-->75.000% (83.173%)\n",
      "TRAIN: 142 [11200/19125 (59%)]\tLoss: 0.425759, Accuracy: 6/8 (75.000%)\n",
      "TRAIN: LOSS-->0.9335 (0.3554)\tACC-->50.000% (83.034%)\n",
      "TRAIN: 142 [12800/19125 (67%)]\tLoss: 0.933517, Accuracy: 4/8 (50.000%)\n",
      "TRAIN: LOSS-->0.1066 (0.3541)\tACC-->100.000% (83.065%)\n",
      "TRAIN: 142 [14400/19125 (75%)]\tLoss: 0.106625, Accuracy: 8/8 (100.000%)\n",
      "TRAIN: LOSS-->0.7256 (0.3526)\tACC-->62.500% (83.208%)\n",
      "TRAIN: 142 [16000/19125 (84%)]\tLoss: 0.725609, Accuracy: 5/8 (62.500%)\n",
      "TRAIN: LOSS-->0.1862 (0.3559)\tACC-->100.000% (83.082%)\n",
      "TRAIN: 142 [17600/19125 (92%)]\tLoss: 0.186220, Accuracy: 8/8 (100.000%)\n",
      "VAL:   LOSS--> 0.0385 (0.0385)\tACC-->100.000 (100.000)\n",
      "VAL:   LOSS--> 0.1680 (0.1761)\tACC-->87.500 (92.910)\n",
      "VAL:   LOSS--> 0.0471 (0.1807)\tACC-->100.000 (93.204)\n",
      " * Accuracy 93.1556\n"
     ]
    },
    {
     "name": "stderr",
     "output_type": "stream",
     "text": [
      "\r",
      " 95%|███████████████████████████████████████████████████████████████████████████████████████████████████████████████████████████████████████▎      | 143/150 [5:30:23<16:10, 138.63s/it]"
     ]
    },
    {
     "name": "stdout",
     "output_type": "stream",
     "text": [
      "TRAIN: LOSS-->0.1049 (0.1049)\tACC-->100.000% (100.000%)\n",
      "TRAIN: 143 [0/19125 (0%)]\tLoss: 0.104850, Accuracy: 8/8 (100.000%)\n",
      "TRAIN: LOSS-->0.1312 (0.3408)\tACC-->100.000% (84.577%)\n",
      "TRAIN: 143 [1600/19125 (8%)]\tLoss: 0.131201, Accuracy: 8/8 (100.000%)\n",
      "TRAIN: LOSS-->0.4044 (0.3467)\tACC-->87.500% (83.479%)\n",
      "TRAIN: 143 [3200/19125 (17%)]\tLoss: 0.404418, Accuracy: 7/8 (87.500%)\n",
      "TRAIN: LOSS-->0.2091 (0.3565)\tACC-->87.500% (82.592%)\n",
      "TRAIN: 143 [4800/19125 (25%)]\tLoss: 0.209129, Accuracy: 7/8 (87.500%)\n",
      "TRAIN: LOSS-->0.2951 (0.3539)\tACC-->87.500% (82.740%)\n",
      "TRAIN: 143 [6400/19125 (33%)]\tLoss: 0.295088, Accuracy: 7/8 (87.500%)\n",
      "TRAIN: LOSS-->0.4691 (0.3545)\tACC-->75.000% (83.004%)\n",
      "TRAIN: 143 [8000/19125 (42%)]\tLoss: 0.469074, Accuracy: 6/8 (75.000%)\n",
      "TRAIN: LOSS-->0.1869 (0.3531)\tACC-->100.000% (83.139%)\n",
      "TRAIN: 143 [9600/19125 (50%)]\tLoss: 0.186903, Accuracy: 8/8 (100.000%)\n",
      "TRAIN: LOSS-->0.2001 (0.3513)\tACC-->100.000% (83.208%)\n",
      "TRAIN: 143 [11200/19125 (59%)]\tLoss: 0.200076, Accuracy: 8/8 (100.000%)\n",
      "TRAIN: LOSS-->0.1472 (0.3496)\tACC-->87.500% (83.315%)\n",
      "TRAIN: 143 [12800/19125 (67%)]\tLoss: 0.147178, Accuracy: 7/8 (87.500%)\n",
      "TRAIN: LOSS-->0.1965 (0.3495)\tACC-->100.000% (83.315%)\n",
      "TRAIN: 143 [14400/19125 (75%)]\tLoss: 0.196454, Accuracy: 8/8 (100.000%)\n",
      "TRAIN: LOSS-->0.4850 (0.3498)\tACC-->75.000% (83.296%)\n",
      "TRAIN: 143 [16000/19125 (84%)]\tLoss: 0.485013, Accuracy: 6/8 (75.000%)\n",
      "TRAIN: LOSS-->0.4373 (0.3491)\tACC-->75.000% (83.241%)\n",
      "TRAIN: 143 [17600/19125 (92%)]\tLoss: 0.437322, Accuracy: 6/8 (75.000%)\n",
      "VAL:   LOSS--> 0.0921 (0.0921)\tACC-->100.000 (100.000)\n",
      "VAL:   LOSS--> 0.1864 (0.1769)\tACC-->87.500 (93.284)\n",
      "VAL:   LOSS--> 0.0287 (0.1867)\tACC-->100.000 (93.298)\n",
      " * Accuracy 93.0667\n"
     ]
    },
    {
     "name": "stderr",
     "output_type": "stream",
     "text": [
      "\r",
      " 96%|████████████████████████████████████████████████████████████████████████████████████████████████████████████████████████████████████████▎     | 144/150 [5:32:41<13:51, 138.62s/it]"
     ]
    },
    {
     "name": "stdout",
     "output_type": "stream",
     "text": [
      "TRAIN: LOSS-->0.2478 (0.2478)\tACC-->87.500% (87.500%)\n",
      "TRAIN: 144 [0/19125 (0%)]\tLoss: 0.247807, Accuracy: 7/8 (87.500%)\n",
      "TRAIN: LOSS-->0.4844 (0.3596)\tACC-->87.500% (82.152%)\n",
      "TRAIN: 144 [1600/19125 (8%)]\tLoss: 0.484360, Accuracy: 7/8 (87.500%)\n",
      "TRAIN: LOSS-->0.1980 (0.3433)\tACC-->100.000% (83.198%)\n",
      "TRAIN: 144 [3200/19125 (17%)]\tLoss: 0.197990, Accuracy: 8/8 (100.000%)\n",
      "TRAIN: LOSS-->0.8888 (0.3521)\tACC-->50.000% (82.903%)\n",
      "TRAIN: 144 [4800/19125 (25%)]\tLoss: 0.888814, Accuracy: 4/8 (50.000%)\n",
      "TRAIN: LOSS-->0.4307 (0.3539)\tACC-->87.500% (82.943%)\n",
      "TRAIN: 144 [6400/19125 (33%)]\tLoss: 0.430716, Accuracy: 7/8 (87.500%)\n",
      "TRAIN: LOSS-->0.2220 (0.3536)\tACC-->100.000% (83.092%)\n",
      "TRAIN: 144 [8000/19125 (42%)]\tLoss: 0.222008, Accuracy: 8/8 (100.000%)\n",
      "TRAIN: LOSS-->0.1040 (0.3493)\tACC-->100.000% (83.337%)\n",
      "TRAIN: 144 [9600/19125 (50%)]\tLoss: 0.104007, Accuracy: 8/8 (100.000%)\n",
      "TRAIN: LOSS-->0.1024 (0.3472)\tACC-->100.000% (83.539%)\n",
      "TRAIN: 144 [11200/19125 (59%)]\tLoss: 0.102369, Accuracy: 8/8 (100.000%)\n",
      "TRAIN: LOSS-->0.5272 (0.3469)\tACC-->87.500% (83.565%)\n",
      "TRAIN: 144 [12800/19125 (67%)]\tLoss: 0.527221, Accuracy: 7/8 (87.500%)\n",
      "TRAIN: LOSS-->0.2704 (0.3448)\tACC-->100.000% (83.766%)\n",
      "TRAIN: 144 [14400/19125 (75%)]\tLoss: 0.270440, Accuracy: 8/8 (100.000%)\n",
      "TRAIN: LOSS-->0.4480 (0.3448)\tACC-->75.000% (83.702%)\n",
      "TRAIN: 144 [16000/19125 (84%)]\tLoss: 0.448014, Accuracy: 6/8 (75.000%)\n",
      "TRAIN: LOSS-->0.3448 (0.3450)\tACC-->87.500% (83.831%)\n",
      "TRAIN: 144 [17600/19125 (92%)]\tLoss: 0.344819, Accuracy: 7/8 (87.500%)\n",
      "VAL:   LOSS--> 0.1136 (0.1136)\tACC-->87.500 (87.500)\n",
      "VAL:   LOSS--> 0.4989 (0.1822)\tACC-->87.500 (93.159)\n",
      "VAL:   LOSS--> 0.1319 (0.1784)\tACC-->100.000 (93.298)\n",
      " * Accuracy 93.2444\n"
     ]
    },
    {
     "name": "stderr",
     "output_type": "stream",
     "text": [
      "\r",
      " 97%|█████████████████████████████████████████████████████████████████████████████████████████████████████████████████████████████████████████▎    | 145/150 [5:34:59<11:33, 138.62s/it]"
     ]
    },
    {
     "name": "stdout",
     "output_type": "stream",
     "text": [
      "TRAIN: LOSS-->0.1195 (0.1195)\tACC-->100.000% (100.000%)\n",
      "TRAIN: 145 [0/19125 (0%)]\tLoss: 0.119516, Accuracy: 8/8 (100.000%)\n",
      "TRAIN: LOSS-->0.4423 (0.3360)\tACC-->75.000% (84.204%)\n",
      "TRAIN: 145 [1600/19125 (8%)]\tLoss: 0.442278, Accuracy: 6/8 (75.000%)\n",
      "TRAIN: LOSS-->0.5559 (0.3439)\tACC-->62.500% (83.666%)\n",
      "TRAIN: 145 [3200/19125 (17%)]\tLoss: 0.555891, Accuracy: 5/8 (62.500%)\n",
      "TRAIN: LOSS-->0.5268 (0.3517)\tACC-->62.500% (83.839%)\n",
      "TRAIN: 145 [4800/19125 (25%)]\tLoss: 0.526842, Accuracy: 5/8 (62.500%)\n",
      "TRAIN: LOSS-->0.2608 (0.3508)\tACC-->87.500% (83.880%)\n",
      "TRAIN: 145 [6400/19125 (33%)]\tLoss: 0.260793, Accuracy: 7/8 (87.500%)\n",
      "TRAIN: LOSS-->0.3832 (0.3533)\tACC-->75.000% (83.604%)\n",
      "TRAIN: 145 [8000/19125 (42%)]\tLoss: 0.383154, Accuracy: 6/8 (75.000%)\n",
      "TRAIN: LOSS-->0.3593 (0.3553)\tACC-->87.500% (83.347%)\n",
      "TRAIN: 145 [9600/19125 (50%)]\tLoss: 0.359256, Accuracy: 7/8 (87.500%)\n",
      "TRAIN: LOSS-->0.4995 (0.3524)\tACC-->75.000% (83.592%)\n",
      "TRAIN: 145 [11200/19125 (59%)]\tLoss: 0.499538, Accuracy: 6/8 (75.000%)\n",
      "TRAIN: LOSS-->0.4334 (0.3532)\tACC-->75.000% (83.495%)\n",
      "TRAIN: 145 [12800/19125 (67%)]\tLoss: 0.433367, Accuracy: 6/8 (75.000%)\n",
      "TRAIN: LOSS-->0.2698 (0.3533)\tACC-->87.500% (83.537%)\n",
      "TRAIN: 145 [14400/19125 (75%)]\tLoss: 0.269795, Accuracy: 7/8 (87.500%)\n",
      "TRAIN: LOSS-->0.3331 (0.3544)\tACC-->75.000% (83.421%)\n",
      "TRAIN: 145 [16000/19125 (84%)]\tLoss: 0.333099, Accuracy: 6/8 (75.000%)\n",
      "TRAIN: LOSS-->0.4864 (0.3520)\tACC-->75.000% (83.468%)\n",
      "TRAIN: 145 [17600/19125 (92%)]\tLoss: 0.486437, Accuracy: 6/8 (75.000%)\n",
      "VAL:   LOSS--> 0.3832 (0.3832)\tACC-->87.500 (87.500)\n",
      "VAL:   LOSS--> 0.1212 (0.1761)\tACC-->100.000 (92.973)\n",
      "VAL:   LOSS--> 0.0548 (0.1665)\tACC-->100.000 (93.329)\n",
      " * Accuracy 93.3333\n"
     ]
    },
    {
     "name": "stderr",
     "output_type": "stream",
     "text": [
      "\r",
      " 97%|██████████████████████████████████████████████████████████████████████████████████████████████████████████████████████████████████████████▏   | 146/150 [5:37:17<09:14, 138.61s/it]"
     ]
    },
    {
     "name": "stdout",
     "output_type": "stream",
     "text": [
      "TRAIN: LOSS-->0.2283 (0.2283)\tACC-->100.000% (100.000%)\n",
      "TRAIN: 146 [0/19125 (0%)]\tLoss: 0.228258, Accuracy: 8/8 (100.000%)\n",
      "TRAIN: LOSS-->0.3841 (0.3571)\tACC-->87.500% (82.960%)\n",
      "TRAIN: 146 [1600/19125 (8%)]\tLoss: 0.384141, Accuracy: 7/8 (87.500%)\n",
      "TRAIN: LOSS-->0.1228 (0.3510)\tACC-->100.000% (83.292%)\n",
      "TRAIN: 146 [3200/19125 (17%)]\tLoss: 0.122788, Accuracy: 8/8 (100.000%)\n",
      "TRAIN: LOSS-->0.2124 (0.3546)\tACC-->87.500% (82.716%)\n",
      "TRAIN: 146 [4800/19125 (25%)]\tLoss: 0.212416, Accuracy: 7/8 (87.500%)\n",
      "TRAIN: LOSS-->0.2824 (0.3525)\tACC-->75.000% (82.990%)\n",
      "TRAIN: 146 [6400/19125 (33%)]\tLoss: 0.282446, Accuracy: 6/8 (75.000%)\n",
      "TRAIN: LOSS-->0.8349 (0.3518)\tACC-->62.500% (82.992%)\n",
      "TRAIN: 146 [8000/19125 (42%)]\tLoss: 0.834881, Accuracy: 5/8 (62.500%)\n",
      "TRAIN: LOSS-->0.3449 (0.3539)\tACC-->75.000% (82.764%)\n",
      "TRAIN: 146 [9600/19125 (50%)]\tLoss: 0.344855, Accuracy: 6/8 (75.000%)\n",
      "TRAIN: LOSS-->0.1710 (0.3540)\tACC-->87.500% (82.771%)\n",
      "TRAIN: 146 [11200/19125 (59%)]\tLoss: 0.171011, Accuracy: 7/8 (87.500%)\n",
      "TRAIN: LOSS-->0.2070 (0.3563)\tACC-->87.500% (82.589%)\n",
      "TRAIN: 146 [12800/19125 (67%)]\tLoss: 0.206987, Accuracy: 7/8 (87.500%)\n",
      "TRAIN: LOSS-->0.2516 (0.3563)\tACC-->87.500% (82.690%)\n",
      "TRAIN: 146 [14400/19125 (75%)]\tLoss: 0.251591, Accuracy: 7/8 (87.500%)\n",
      "TRAIN: LOSS-->0.1738 (0.3563)\tACC-->100.000% (82.740%)\n",
      "TRAIN: 146 [16000/19125 (84%)]\tLoss: 0.173837, Accuracy: 8/8 (100.000%)\n",
      "TRAIN: LOSS-->0.3826 (0.3552)\tACC-->75.000% (82.832%)\n",
      "TRAIN: 146 [17600/19125 (92%)]\tLoss: 0.382602, Accuracy: 6/8 (75.000%)\n",
      "VAL:   LOSS--> 0.2847 (0.2847)\tACC-->87.500 (87.500)\n",
      "VAL:   LOSS--> 0.1853 (0.2201)\tACC-->87.500 (91.356)\n",
      "VAL:   LOSS--> 0.6148 (0.2122)\tACC-->75.000 (92.145)\n",
      " * Accuracy 92.1185\n"
     ]
    },
    {
     "name": "stderr",
     "output_type": "stream",
     "text": [
      "\r",
      " 98%|███████████████████████████████████████████████████████████████████████████████████████████████████████████████████████████████████████████▏  | 147/150 [5:39:35<06:55, 138.61s/it]"
     ]
    },
    {
     "name": "stdout",
     "output_type": "stream",
     "text": [
      "TRAIN: LOSS-->0.3239 (0.3239)\tACC-->87.500% (87.500%)\n",
      "TRAIN: 147 [0/19125 (0%)]\tLoss: 0.323907, Accuracy: 7/8 (87.500%)\n",
      "TRAIN: LOSS-->0.2033 (0.3496)\tACC-->87.500% (83.209%)\n",
      "TRAIN: 147 [1600/19125 (8%)]\tLoss: 0.203255, Accuracy: 7/8 (87.500%)\n",
      "TRAIN: LOSS-->0.3945 (0.3360)\tACC-->87.500% (84.165%)\n",
      "TRAIN: 147 [3200/19125 (17%)]\tLoss: 0.394520, Accuracy: 7/8 (87.500%)\n",
      "TRAIN: LOSS-->0.5666 (0.3417)\tACC-->62.500% (83.902%)\n",
      "TRAIN: 147 [4800/19125 (25%)]\tLoss: 0.566605, Accuracy: 5/8 (62.500%)\n",
      "TRAIN: LOSS-->0.5530 (0.3418)\tACC-->62.500% (83.989%)\n",
      "TRAIN: 147 [6400/19125 (33%)]\tLoss: 0.552975, Accuracy: 5/8 (62.500%)\n",
      "TRAIN: LOSS-->0.1933 (0.3416)\tACC-->100.000% (83.916%)\n",
      "TRAIN: 147 [8000/19125 (42%)]\tLoss: 0.193313, Accuracy: 8/8 (100.000%)\n",
      "TRAIN: LOSS-->0.4970 (0.3429)\tACC-->75.000% (83.816%)\n",
      "TRAIN: 147 [9600/19125 (50%)]\tLoss: 0.497033, Accuracy: 6/8 (75.000%)\n",
      "TRAIN: LOSS-->0.3163 (0.3440)\tACC-->87.500% (83.655%)\n",
      "TRAIN: 147 [11200/19125 (59%)]\tLoss: 0.316348, Accuracy: 7/8 (87.500%)\n",
      "TRAIN: LOSS-->0.2744 (0.3437)\tACC-->87.500% (83.643%)\n",
      "TRAIN: 147 [12800/19125 (67%)]\tLoss: 0.274430, Accuracy: 7/8 (87.500%)\n",
      "TRAIN: LOSS-->0.1580 (0.3452)\tACC-->100.000% (83.551%)\n",
      "TRAIN: 147 [14400/19125 (75%)]\tLoss: 0.158011, Accuracy: 8/8 (100.000%)\n",
      "TRAIN: LOSS-->0.2629 (0.3446)\tACC-->87.500% (83.546%)\n",
      "TRAIN: 147 [16000/19125 (84%)]\tLoss: 0.262887, Accuracy: 7/8 (87.500%)\n",
      "TRAIN: LOSS-->0.0911 (0.3471)\tACC-->100.000% (83.331%)\n",
      "TRAIN: 147 [17600/19125 (92%)]\tLoss: 0.091137, Accuracy: 8/8 (100.000%)\n",
      "VAL:   LOSS--> 0.1133 (0.1133)\tACC-->100.000 (100.000)\n",
      "VAL:   LOSS--> 0.1947 (0.1734)\tACC-->87.500 (93.221)\n",
      "VAL:   LOSS--> 0.0389 (0.1758)\tACC-->100.000 (93.173)\n",
      " * Accuracy 92.9778\n"
     ]
    },
    {
     "name": "stderr",
     "output_type": "stream",
     "text": [
      "\r",
      " 99%|████████████████████████████████████████████████████████████████████████████████████████████████████████████████████████████████████████████  | 148/150 [5:41:53<04:37, 138.60s/it]"
     ]
    },
    {
     "name": "stdout",
     "output_type": "stream",
     "text": [
      "TRAIN: LOSS-->0.5443 (0.5443)\tACC-->87.500% (87.500%)\n",
      "TRAIN: 148 [0/19125 (0%)]\tLoss: 0.544302, Accuracy: 7/8 (87.500%)\n",
      "TRAIN: LOSS-->0.1958 (0.3125)\tACC-->87.500% (84.950%)\n",
      "TRAIN: 148 [1600/19125 (8%)]\tLoss: 0.195781, Accuracy: 7/8 (87.500%)\n",
      "TRAIN: LOSS-->0.1590 (0.3231)\tACC-->100.000% (84.383%)\n",
      "TRAIN: 148 [3200/19125 (17%)]\tLoss: 0.159000, Accuracy: 8/8 (100.000%)\n",
      "TRAIN: LOSS-->0.4770 (0.3295)\tACC-->62.500% (84.214%)\n",
      "TRAIN: 148 [4800/19125 (25%)]\tLoss: 0.477008, Accuracy: 5/8 (62.500%)\n",
      "TRAIN: LOSS-->0.3062 (0.3342)\tACC-->75.000% (83.958%)\n",
      "TRAIN: 148 [6400/19125 (33%)]\tLoss: 0.306213, Accuracy: 6/8 (75.000%)\n",
      "TRAIN: LOSS-->0.0843 (0.3395)\tACC-->100.000% (83.654%)\n",
      "TRAIN: 148 [8000/19125 (42%)]\tLoss: 0.084287, Accuracy: 8/8 (100.000%)\n",
      "TRAIN: LOSS-->0.5847 (0.3407)\tACC-->62.500% (83.462%)\n",
      "TRAIN: 148 [9600/19125 (50%)]\tLoss: 0.584717, Accuracy: 5/8 (62.500%)\n",
      "TRAIN: LOSS-->0.2619 (0.3433)\tACC-->87.500% (83.191%)\n",
      "TRAIN: 148 [11200/19125 (59%)]\tLoss: 0.261920, Accuracy: 7/8 (87.500%)\n",
      "TRAIN: LOSS-->0.2808 (0.3452)\tACC-->87.500% (83.253%)\n",
      "TRAIN: 148 [12800/19125 (67%)]\tLoss: 0.280841, Accuracy: 7/8 (87.500%)\n",
      "TRAIN: LOSS-->0.1903 (0.3465)\tACC-->100.000% (83.169%)\n",
      "TRAIN: 148 [14400/19125 (75%)]\tLoss: 0.190273, Accuracy: 8/8 (100.000%)\n",
      "TRAIN: LOSS-->0.6084 (0.3454)\tACC-->62.500% (83.208%)\n",
      "TRAIN: 148 [16000/19125 (84%)]\tLoss: 0.608370, Accuracy: 5/8 (62.500%)\n",
      "TRAIN: LOSS-->0.2612 (0.3440)\tACC-->87.500% (83.377%)\n",
      "TRAIN: 148 [17600/19125 (92%)]\tLoss: 0.261189, Accuracy: 7/8 (87.500%)\n",
      "VAL:   LOSS--> 0.0993 (0.0993)\tACC-->87.500 (87.500)\n",
      "VAL:   LOSS--> 0.1418 (0.1695)\tACC-->100.000 (93.284)\n",
      "VAL:   LOSS--> 0.3006 (0.1823)\tACC-->87.500 (92.706)\n",
      " * Accuracy 92.5926\n"
     ]
    },
    {
     "name": "stderr",
     "output_type": "stream",
     "text": [
      "\r",
      " 99%|█████████████████████████████████████████████████████████████████████████████████████████████████████████████████████████████████████████████ | 149/150 [5:44:11<02:18, 138.60s/it]"
     ]
    },
    {
     "name": "stdout",
     "output_type": "stream",
     "text": [
      "TRAIN: LOSS-->0.3499 (0.3499)\tACC-->87.500% (87.500%)\n",
      "TRAIN: 149 [0/19125 (0%)]\tLoss: 0.349857, Accuracy: 7/8 (87.500%)\n",
      "TRAIN: LOSS-->0.4115 (0.3543)\tACC-->75.000% (83.458%)\n",
      "TRAIN: 149 [1600/19125 (8%)]\tLoss: 0.411532, Accuracy: 6/8 (75.000%)\n",
      "TRAIN: LOSS-->0.2927 (0.3527)\tACC-->87.500% (83.074%)\n",
      "TRAIN: 149 [3200/19125 (17%)]\tLoss: 0.292674, Accuracy: 7/8 (87.500%)\n",
      "TRAIN: LOSS-->0.2248 (0.3383)\tACC-->87.500% (83.756%)\n",
      "TRAIN: 149 [4800/19125 (25%)]\tLoss: 0.224784, Accuracy: 7/8 (87.500%)\n",
      "TRAIN: LOSS-->0.4563 (0.3483)\tACC-->75.000% (82.912%)\n",
      "TRAIN: 149 [6400/19125 (33%)]\tLoss: 0.456344, Accuracy: 6/8 (75.000%)\n",
      "TRAIN: LOSS-->0.2029 (0.3498)\tACC-->87.500% (82.867%)\n",
      "TRAIN: 149 [8000/19125 (42%)]\tLoss: 0.202916, Accuracy: 7/8 (87.500%)\n",
      "TRAIN: LOSS-->0.2948 (0.3520)\tACC-->87.500% (82.535%)\n",
      "TRAIN: 149 [9600/19125 (50%)]\tLoss: 0.294764, Accuracy: 7/8 (87.500%)\n",
      "TRAIN: LOSS-->0.4607 (0.3481)\tACC-->87.500% (82.852%)\n",
      "TRAIN: 149 [11200/19125 (59%)]\tLoss: 0.460726, Accuracy: 7/8 (87.500%)\n",
      "TRAIN: LOSS-->0.2125 (0.3479)\tACC-->100.000% (82.940%)\n",
      "TRAIN: 149 [12800/19125 (67%)]\tLoss: 0.212457, Accuracy: 8/8 (100.000%)\n",
      "TRAIN: LOSS-->0.1030 (0.3441)\tACC-->100.000% (83.259%)\n",
      "TRAIN: 149 [14400/19125 (75%)]\tLoss: 0.102983, Accuracy: 8/8 (100.000%)\n",
      "TRAIN: LOSS-->0.5596 (0.3438)\tACC-->75.000% (83.265%)\n",
      "TRAIN: 149 [16000/19125 (84%)]\tLoss: 0.559631, Accuracy: 6/8 (75.000%)\n",
      "TRAIN: LOSS-->0.1574 (0.3440)\tACC-->87.500% (83.314%)\n",
      "TRAIN: 149 [17600/19125 (92%)]\tLoss: 0.157422, Accuracy: 7/8 (87.500%)\n",
      "VAL:   LOSS--> 0.1709 (0.1709)\tACC-->87.500 (87.500)\n",
      "VAL:   LOSS--> 0.1725 (0.1939)\tACC-->87.500 (92.164)\n",
      "VAL:   LOSS--> 0.0508 (0.1747)\tACC-->100.000 (93.360)\n",
      " * Accuracy 93.2741\n"
     ]
    },
    {
     "name": "stderr",
     "output_type": "stream",
     "text": [
      "100%|██████████████████████████████████████████████████████████████████████████████████████████████████████████████████████████████████████████████| 150/150 [5:46:29<00:00, 138.60s/it]\n"
     ]
    }
   ],
   "source": [
    "sample_submission = pd.read_csv('sample_submission.csv')\n",
    "sample_submission.columns = ['file', 'species']\n",
    "# sample_submission['category_id'] = 0\n",
    "sample_submission.head(3)\n",
    "\n",
    "if __name__ == '__main__':  \n",
    "    epochs=150\n",
    "    runId = datetime.datetime.now().strftime('%Y-%m-%d_%H-%M-%S')    \n",
    "    recorder = RecorderMeter(epochs)  # epoc is updated\n",
    "#     model_name = (type(model).__name__)\n",
    "\n",
    "    exp_name = datetime.datetime.now().strftime(model_name + '_' + dataset + '_%Y-%m-%d_%H-%M-%S')    \n",
    "    mPath = './logs' + '/' + dataset + '/' + model_name + '/'    \n",
    "    if not os.path.isdir(mPath):\n",
    "        os.makedirs(mPath)    \n",
    "    print(\"Random Seed: {}\".format(manualSeed))\n",
    "    print(\"python version : {}\".format(sys.version.replace('\\n', ' ')))\n",
    "    print(\"torch  version : {}\".format(torch.__version__))\n",
    "    print(\"cudnn  version : {}\".format(torch.backends.cudnn.version()))    \n",
    "    print(\"=> Final model name '{}'\".format(model_name))            \n",
    "    print (\"MODEL: {}\".format( str(model_name)))\n",
    "    print (\"dataset: {}\".format(dataset))\n",
    "    print('    Total params: %.2fM' % (sum(p.numel() for p in model.parameters()) / 1000000.0))    \n",
    "    \n",
    "    print (\"MODEL: {}\".format( str(type(model).__name__)))\n",
    "    \n",
    "    start_training_time = time.time()\n",
    "    training_time=time.time()\n",
    "    for epoch in tqdm(range(0, epochs)):        \n",
    "        train_result, accuracy_tr=train(t_loader, model, epoch, optimizer)\n",
    "        val_loss, val_accuracy= validate(v_loader, model, epoch)  \n",
    "        \n",
    "        recorder.update(epoch, train_result, accuracy_tr, val_loss, val_accuracy) \n",
    "        training_time=time.time() - start_training_time\n",
    "        recorder.plot_curve(os.path.join(mPath, model_name + '_' + exp_name + '.png'),training_time, model, model_name,\n",
    "                            str(dataset_sizes),\n",
    "                        batch_size, lr,dataset,manualSeed,len(classes))\n",
    "        \n",
    "        if float(val_accuracy) > float(95.0):            \n",
    "            print (\"EARLY STOP\")            \n",
    "#             df_pred=testModel(test_data_dir,model)\n",
    "#             df_pred.to_csv(str(type(model).__name__) + '_' + str(val_accuracy) + '_' + \n",
    "#                            str(epoch) + \"_sub.csv\", columns=('file', 'species'), index=None)\n",
    "#             torch.save(model.state_dict(), os.path.join(mPath, model_name + '_' + runId + '_' + str(val_accuracy) + '_.pth'))                        "
   ]
  },
  {
   "cell_type": "code",
   "execution_count": 14,
   "metadata": {
    "collapsed": true
   },
   "outputs": [],
   "source": [
    "torch.save(model.state_dict(), os.path.join(mPath, model_name + '_' + runId + '_' + str(val_accuracy) + 'FINAL_.pth'))"
   ]
  },
  {
   "cell_type": "markdown",
   "metadata": {},
   "source": [
    "In this step, participants will be asked to provide the following classification rates:\n",
    "\n",
    "-- TP (True Positive, which is the number of OP people correctly identified),\n",
    "\n",
    "-- FP (False Positive, which is the number of CT people incorrectly identified),\n",
    "\n",
    "-- TN (True Negative, which is the number of CT people correctly identified),\n",
    "\n",
    "-- FN (False Negative, which is the number of OP people incorrectly identified),\n",
    "\n",
    "-- Sn (True positive rate or sensitivity) as Sn = TP/(TP + FN),\n",
    "\n",
    "-- Sp (Specificity or True Negative Rate) as Sp = TN/(FP + TN)."
   ]
  },
  {
   "cell_type": "markdown",
   "metadata": {},
   "source": [
    "## Confusion matrix code, from the scikit documentation"
   ]
  },
  {
   "cell_type": "code",
   "execution_count": 15,
   "metadata": {
    "collapsed": true
   },
   "outputs": [],
   "source": [
    "import itertools\n",
    "\n",
    "# Performance monitoring\n",
    "from time import process_time\n",
    "import matplotlib.pyplot as plt\n",
    "import numpy as np\n",
    "%matplotlib nbagg\n",
    "from sklearn.metrics import confusion_matrix\n",
    "\n",
    "def plot_confusion_matrix(cm, classes,\n",
    "                          normalize=False,\n",
    "                          title='Confusion matrix',\n",
    "                          cmap=plt.cm.Blues):\n",
    "    \"\"\"\n",
    "    This function prints and plots the confusion matrix.\n",
    "    Normalization can be applied by setting `normalize=True`.\n",
    "    \"\"\"\n",
    "    if normalize:\n",
    "        cm = cm.astype('float') / cm.sum(axis=1)[:, np.newaxis]\n",
    "        print(\"Normalized confusion matrix\")\n",
    "    else:\n",
    "        print('Confusion matrix, without normalization')\n",
    "\n",
    "    #print(cm)\n",
    "\n",
    "    plt.imshow(cm, interpolation='nearest', cmap=cmap)\n",
    "    plt.title(title)\n",
    "    plt.colorbar()\n",
    "    tick_marks = np.arange(len(classes))\n",
    "    plt.xticks(tick_marks, classes, rotation=45)\n",
    "    plt.yticks(tick_marks, classes)\n",
    "\n",
    "    fmt = '.2f' if normalize else 'd'\n",
    "    thresh = cm.max() / 2.\n",
    "    for i, j in itertools.product(range(cm.shape[0]), range(cm.shape[1])):\n",
    "        plt.text(j, i, format(cm[i, j], fmt),\n",
    "                 horizontalalignment=\"center\",\n",
    "                 color=\"white\" if cm[i, j] > thresh else \"black\")\n",
    "\n",
    "    plt.tight_layout()\n",
    "    plt.ylabel('True label')\n",
    "    plt.xlabel('Predicted label')\n",
    "\n",
    "def confusion_diagnostic(model) :\n",
    "    \"Displays a synthetic matrix, which represents our classifier performances.\"\n",
    "    y_test    = [] ; y_pred    = [] ; \n",
    "    for data, target in v_loader: # We won't load the testing dataset all at once:\n",
    "        # Load the data on the GPU if needed, and wrap it into an autodiff object ----\n",
    "        if use_cuda: data, target = data.cuda(), target.cuda()\n",
    "        data, target = Variable(data, volatile=True), Variable(target)\n",
    "        # Evaluation of our model on the test mini-batch -----------------------------\n",
    "        output     = model(data) # Forward pass through the model\n",
    "        pred       = output.data.max(1, keepdim=True)[1] # get the index of the max log-probability\n",
    "        y_test.append(target.data.cpu().numpy()) ; y_pred.append(pred.view(-1).cpu().numpy())\n",
    "    y_test = np.hstack(y_test) ; y_pred = np.hstack(y_pred)\n",
    "    \n",
    "    # Display --------------------------------------------------------------------   \n",
    "    cnf_matrix = confusion_matrix(y_test, y_pred)\n",
    "    fig = plt.figure(dpi=150)\n",
    "    plot_confusion_matrix(cnf_matrix, classes=classes,\n",
    "                      title='Confusion matrix')\n",
    "    fig.canvas.draw()"
   ]
  },
  {
   "cell_type": "code",
   "execution_count": 16,
   "metadata": {},
   "outputs": [
    {
     "data": {
      "text/plain": [
       "<IPython.core.display.Javascript object>"
      ]
     },
     "metadata": {},
     "output_type": "display_data"
    },
    {
     "data": {
      "text/html": [
       "<img src=\"data:image/png;base64,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\" width=\"900\">"
      ],
      "text/plain": [
       "<IPython.core.display.HTML object>"
      ]
     },
     "metadata": {},
     "output_type": "execute_result"
    },
    {
     "name": "stdout",
     "output_type": "stream",
     "text": [
      "Confusion matrix, without normalization\n"
     ]
    },
    {
     "data": {
      "text/plain": [
       "<IPython.core.display.Javascript object>"
      ]
     },
     "metadata": {},
     "output_type": "display_data"
    },
    {
     "data": {
      "text/html": [
       "<img src=\"data:image/png;base64,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\" width=\"900\">"
      ],
      "text/plain": [
       "<IPython.core.display.HTML object>"
      ]
     },
     "metadata": {},
     "output_type": "execute_result"
    }
   ],
   "source": [
    "confusion_diagnostic(model)"
   ]
  },
  {
   "cell_type": "code",
   "execution_count": null,
   "metadata": {
    "collapsed": true
   },
   "outputs": [],
   "source": []
  }
 ],
 "metadata": {
  "kernelspec": {
   "display_name": "Python 3",
   "language": "python",
   "name": "python3"
  },
  "language_info": {
   "codemirror_mode": {
    "name": "ipython",
    "version": 3
   },
   "file_extension": ".py",
   "mimetype": "text/x-python",
   "name": "python",
   "nbconvert_exporter": "python",
   "pygments_lexer": "ipython3",
   "version": "3.6.2"
  }
 },
 "nbformat": 4,
 "nbformat_minor": 1
}
