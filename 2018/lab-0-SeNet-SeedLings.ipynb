{
 "cells": [
  {
   "cell_type": "markdown",
   "metadata": {
    "colab_type": "text",
    "id": "EDgSCpeOzpR8"
   },
   "source": [
    "# Tel-Aviv Deep Learning Boot-camp: 12 Applied Deep Learning Labs\n",
    "\n",
    "## Lab 0: Plant Seedlings Classification (PyTorch): The most basic lab :)  \n",
    "\n",
    "<img src=\"assets/seedlings.png\" align=\"center\">\n",
    "\n",
    "### Instructors:\n",
    "\n",
    "- Shlomo Kashani: shlomo@bayesian.io ,\n",
    "- Nathaniel Shimoni nathaniel.shimoni@grid4c.com \n",
    "\n",
    "<img src=\"assets/pt.jpg\" width=\"35%\" align=\"center\">\n",
    "\n",
    "## Progress\n",
    "\n",
    "- [x] PyTorch DataSet\n",
    "- [x] PyTorch DataLoader\n",
    "- [x] Augmentations\n",
    "- [x] Simple CNN\n",
    "- [x] Training + train test split\n",
    "- [x] TensorBoard Support from PyTorch\n",
    "- [x] Accuray and Log Loss\n",
    "- [x] Tqdm progress\n",
    "- [x] Persisting the model\n",
    "- [x] Testing on a test set\n",
    "\n",
    "\n",
    "\n",
    "### Links:\n",
    "\n",
    "- https://www.meetup.com/Tel-Aviv-Deep-Learning-Bootcamp/ \n",
    "- Git: https://github.com/bayesianio/applied-dl-2018\n",
    "- Full info: https://www.evernote.com/shard/s341/sh/3855640e-2b0b-42e5-b5b9-00216d02ac9a/b47968226e49a81ee813901cd41d3924\n",
    "\n",
    "### Date and Location: \n",
    "- July 2018\n",
    "\n",
    "\n",
    "### Requirements:\n",
    "- Python 3.5, CUDA 9, cuDNN 7, PyTorch 2.0 or above, Keras 2 or above\n",
    "\n",
    "#### For Windows 10 and Windows Server 2016, CUDA 9\n",
    "`conda install -c peterjc123 pytorch cuda90`\n",
    "\n",
    "\n",
    "### Data\n",
    "- Download: https://www.kaggle.com/c/plant-seedlings-classification\n",
    "\n",
    "- Please make sure you have already set up a Pytorch tree structure of your dataset:\n",
    "- `data_dir= '/home/data/bone/train/' `\n",
    "\n",
    "```\n",
    "    data_dir= '/home/data/bone/train/\n",
    "    \n",
    "    ├── valid\n",
    "    │   └── Type_1\n",
    "        ├── Type_2\n",
    "        └── Type_3\n",
    "    └── train\n",
    "        ├── Type_1\n",
    "        ├── Type_2\n",
    "        └── Type_3\n",
    "```\n",
    "\n",
    "### PyTorch Datasets\n",
    "\n",
    "To create a dataset, we subclass Dataset and define a constructor, a `__len__` method, and a `__getitem__` method. \n",
    "Here is full example:\n",
    "\n",
    "```python\n",
    "class BoneDataset(Dataset):\n",
    "    def __init__(self, labels, root_dir, subset=False, transform=None):\n",
    "        self.labels = labels\n",
    "        self.root_dir = root_dir\n",
    "        self.transform = transform\n",
    "    \n",
    "    def __len__(self):\n",
    "        return len(self.labels)\n",
    "    \n",
    "    def __getitem__(self, idx):\n",
    "        img_name = self.labels.iloc[idx, 0] # file name\n",
    "        fullname = join(self.root_dir, img_name)\n",
    "        image = Image.open(fullname).convert('RGB')\n",
    "        labels = self.labels.iloc[idx, 2] # category_id\n",
    "        if self.transform:\n",
    "            image = self.transform(image)\n",
    "        return image, labels\n",
    "```\n",
    "\n",
    "### The PyTorch DataLoader Class¶\n",
    "- Will load our BoneDataset\n",
    "- Can be regarded as a list (or iterator, technically).\n",
    "- Each time it is invoked will provide a minibatch of (img, label) pairs.\n",
    "\n",
    "\n",
    "### Training with TensorBoard\n",
    "\n",
    "With the aid of [Crayon](https://github.com/torrvision/crayon),\n",
    "we can access the visualisation power of TensorBoard for any \n",
    "deep learning framework.\n",
    "\n",
    "To use the TensorBoard, install Crayon (https://github.com/torrvision/crayon)\n",
    "and set `use_tensorboard = True`\n",
    "\n",
    "\n",
    "## Google Colab links:\n",
    "- https://medium.com/deep-learning-turkey/google-colab-free-gpu-tutorial-e113627b9f5d\n",
    "- https://jovianlin.io/pytorch-with-gpu-in-google-colab/"
   ]
  },
  {
   "cell_type": "code",
   "execution_count": 1,
   "metadata": {
    "colab": {
     "autoexec": {
      "startup": false,
      "wait_interval": 0
     },
     "base_uri": "https://localhost:8080/",
     "height": 105,
     "output_extras": [
      {
       "item_id": 4
      }
     ]
    },
    "colab_type": "code",
    "collapsed": true,
    "executionInfo": {
     "elapsed": 14961,
     "status": "ok",
     "timestamp": 1521474027916,
     "user": {
      "displayName": "Shlomo Kashani",
      "photoUrl": "https://lh3.googleusercontent.com/a/default-user=s128",
      "userId": "110613709458758208639"
     },
     "user_tz": -120
    },
    "id": "t2YZ6BK06iNd",
    "outputId": "027cd22f-df7e-42cf-8190-870ce9d5e734"
   },
   "outputs": [],
   "source": [
    "# Google specific code\n",
    "\n",
    "# !pip3 install http://download.pytorch.org/whl/cu80/torch-0.3.0.post4-cp36-cp36m-linux_x86_64.whl \n",
    "# !pip3 install torchvision\n",
    "# !pip3 install tqdm\n",
    "\n",
    "# !apt-get install -y -qq software-properties-common python-software-properties module-init-tools\n",
    "# !add-apt-repository -y ppa:alessandro-strada/ppa 2>&1 > /dev/null\n",
    "# !apt-get update -qq 2>&1 > /dev/null\n",
    "# !apt-get -y install -qq google-drive-ocamlfuse fuse\n",
    "# from google.colab import auth\n",
    "# auth.authenticate_user()\n",
    "# from oauth2client.client import GoogleCredentials\n",
    "# creds = GoogleCredentials.get_application_default()\n",
    "# import getpass\n",
    "# !google-drive-ocamlfuse -headless -id={creds.client_id} -secret={creds.client_secret} < /dev/null 2>&1 | grep URL\n",
    "# vcode = getpass.getpass()\n",
    "# !echo {vcode} | google-drive-ocamlfuse -headless -id={creds.client_id} -secret={creds.client_secret}\n",
    "\n",
    "# !mkdir -p med-drive\n",
    "# !google-drive-ocamlfuse med-drive"
   ]
  },
  {
   "cell_type": "code",
   "execution_count": 14,
   "metadata": {
    "colab": {
     "autoexec": {
      "startup": false,
      "wait_interval": 0
     },
     "base_uri": "https://localhost:8080/",
     "height": 221,
     "output_extras": [
      {
       "item_id": 1
      }
     ]
    },
    "colab_type": "code",
    "executionInfo": {
     "elapsed": 883,
     "status": "ok",
     "timestamp": 1521474180497,
     "user": {
      "displayName": "Shlomo Kashani",
      "photoUrl": "https://lh3.googleusercontent.com/a/default-user=s128",
      "userId": "110613709458758208639"
     },
     "user_tz": -120
    },
    "id": "rmr9jTsazpR-",
    "outputId": "041c3cdd-b901-49c6-fc44-9c4a147cf089"
   },
   "outputs": [
    {
     "name": "stdout",
     "output_type": "stream",
     "text": [
      "__Python VERSION: 3.6.2 |Anaconda custom (64-bit)| (default, Sep 19 2017, 08:03:39) [MSC v.1900 64 bit (AMD64)]\n",
      "__pyTorch VERSION: 0.3.1.post2\n",
      "__CUDA VERSION\n",
      "nvcc: NVIDIA (R) Cuda compiler driver\n",
      "Copyright (c) 2005-2017 NVIDIA Corporation\n",
      "Built on Fri_Sep__1_21:08:32_Central_Daylight_Time_2017\n",
      "Cuda compilation tools, release 9.0, V9.0.176\n",
      "__CUDNN VERSION: 7003\n",
      "__Number CUDA Devices: 1\n",
      "__Devices\n",
      "Active CUDA Device: GPU 0\n",
      "Available devices  1\n",
      "Current cuda device  0\n",
      "USE CUDA=True\n"
     ]
    }
   ],
   "source": [
    "%reset -f \n",
    "%matplotlib inline\n",
    "\n",
    "\n",
    "import matplotlib.pyplot as plt\n",
    "import time\n",
    "from shutil import copyfile\n",
    "from os.path import isfile, join, abspath, exists, isdir, expanduser\n",
    "from os import listdir, makedirs, getcwd, remove\n",
    "from PIL import Image\n",
    "from mpl_toolkits.axes_grid1 import ImageGrid\n",
    "import pandas as pd\n",
    "import numpy as np\n",
    "import torch\n",
    "from torch.optim import lr_scheduler\n",
    "from torch.autograd import Variable\n",
    "from torch.utils.data import Dataset, DataLoader\n",
    "import torch.nn.functional as func\n",
    "import torchvision\n",
    "from torchvision import transforms, datasets, models\n",
    "import random \n",
    "\n",
    "\n",
    "import sys\n",
    "print('__Python VERSION:', sys.version)\n",
    "print('__pyTorch VERSION:', torch.__version__)\n",
    "print('__CUDA VERSION')\n",
    "from subprocess import call\n",
    "# call([\"nvcc\", \"--version\"]) does not work\n",
    "! nvcc --version\n",
    "print('__CUDNN VERSION:', torch.backends.cudnn.version())\n",
    "print('__Number CUDA Devices:', torch.cuda.device_count())\n",
    "print('__Devices')\n",
    "# call([\"nvidia-smi\", \"--format=csv\", \"--query-gpu=index,name,driver_version,memory.total,memory.used,memory.free\"])\n",
    "print('Active CUDA Device: GPU', torch.cuda.current_device())\n",
    "\n",
    "print ('Available devices ', torch.cuda.device_count())\n",
    "print ('Current cuda device ', torch.cuda.current_device())\n",
    "\n",
    "use_cuda = torch.cuda.is_available()\n",
    "# use_cuda = False\n",
    "\n",
    "print(\"USE CUDA=\" + str (use_cuda))\n",
    "FloatTensor = torch.cuda.FloatTensor if use_cuda else torch.FloatTensor\n",
    "LongTensor = torch.cuda.LongTensor if use_cuda else torch.LongTensor\n",
    "Tensor = FloatTensor\n",
    "\n",
    "manualSeed = 2222\n",
    "def fixSeed(seed):\n",
    "    random.seed(seed)\n",
    "    np.random.seed(seed)\n",
    "    torch.manual_seed(seed)\n",
    "    if use_cuda:\n",
    "        torch.cuda.manual_seed(seed)\n",
    "        torch.cuda.manual_seed_all(seed)\n",
    "\n",
    "\n",
    "if manualSeed is None:\n",
    "        manualSeed = 999\n",
    "fixSeed(manualSeed)\n",
    "\n"
   ]
  },
  {
   "cell_type": "code",
   "execution_count": 15,
   "metadata": {
    "colab": {
     "autoexec": {
      "startup": false,
      "wait_interval": 0
     },
     "base_uri": "https://localhost:8080/",
     "height": 520,
     "output_extras": [
      {
       "item_id": 1
      },
      {
       "item_id": 2
      }
     ]
    },
    "colab_type": "code",
    "collapsed": true,
    "executionInfo": {
     "elapsed": 870,
     "status": "error",
     "timestamp": 1521473824394,
     "user": {
      "displayName": "Shlomo Kashani",
      "photoUrl": "https://lh3.googleusercontent.com/a/default-user=s128",
      "userId": "110613709458758208639"
     },
     "user_tz": -120
    },
    "id": "0FfUc7TNzpSI",
    "outputId": "fc73b302-6037-4adc-e7af-cf9a49ac1007"
   },
   "outputs": [],
   "source": [
    "import os,sys,inspect\n",
    "currentdir = os.path.dirname(os.path.abspath(inspect.getfile(inspect.currentframe())))\n",
    "parentdir = os.path.dirname(currentdir)\n",
    "sys.path.insert(0,parentdir) \n",
    "\n",
    "from kmodels import *\n",
    "from kdataset import *"
   ]
  },
  {
   "cell_type": "markdown",
   "metadata": {
    "colab_type": "text",
    "id": "yHvMFEY0zpSJ"
   },
   "source": [
    "### Define Custom Dataset"
   ]
  },
  {
   "cell_type": "code",
   "execution_count": 16,
   "metadata": {
    "colab": {
     "autoexec": {
      "startup": false,
      "wait_interval": 0
     },
     "output_extras": [
      {},
      {}
     ]
    },
    "colab_type": "code",
    "id": "T2jcuWuYzpSL",
    "outputId": "2d841d05-260e-449f-e26d-5fdf69f18208"
   },
   "outputs": [
    {
     "name": "stdout",
     "output_type": "stream",
     "text": [
      "['Black-grass', 'Charlock', 'Cleavers', 'Common Chickweed', 'Common wheat', 'Fat Hen', 'Loose Silky-bent', 'Maize', 'Scentless Mayweed', 'Shepherds Purse', 'Small-flowered Cranesbill', 'Sugar beet']\n",
      "{'Black-grass': 0, 'Charlock': 1, 'Cleavers': 2, 'Common Chickweed': 3, 'Common wheat': 4, 'Fat Hen': 5, 'Loose Silky-bent': 6, 'Maize': 7, 'Scentless Mayweed': 8, 'Shepherds Purse': 9, 'Small-flowered Cranesbill': 10, 'Sugar beet': 11}\n",
      "{0: 'Black-grass', 1: 'Charlock', 2: 'Cleavers', 3: 'Common Chickweed', 4: 'Common wheat', 5: 'Fat Hen', 6: 'Loose Silky-bent', 7: 'Maize', 8: 'Scentless Mayweed', 9: 'Shepherds Purse', 10: 'Small-flowered Cranesbill', 11: 'Sugar beet'}\n"
     ]
    },
    {
     "data": {
      "text/html": [
       "<div>\n",
       "<style scoped>\n",
       "    .dataframe tbody tr th:only-of-type {\n",
       "        vertical-align: middle;\n",
       "    }\n",
       "\n",
       "    .dataframe tbody tr th {\n",
       "        vertical-align: top;\n",
       "    }\n",
       "\n",
       "    .dataframe thead th {\n",
       "        text-align: right;\n",
       "    }\n",
       "</style>\n",
       "<table border=\"1\" class=\"dataframe\">\n",
       "  <thead>\n",
       "    <tr style=\"text-align: right;\">\n",
       "      <th></th>\n",
       "      <th>file</th>\n",
       "      <th>category</th>\n",
       "      <th>category_id</th>\n",
       "    </tr>\n",
       "  </thead>\n",
       "  <tbody>\n",
       "    <tr>\n",
       "      <th>0</th>\n",
       "      <td>Black-grass/0050f38b3.png</td>\n",
       "      <td>Black-grass</td>\n",
       "      <td>0</td>\n",
       "    </tr>\n",
       "    <tr>\n",
       "      <th>1</th>\n",
       "      <td>Black-grass/0183fdf68.png</td>\n",
       "      <td>Black-grass</td>\n",
       "      <td>0</td>\n",
       "    </tr>\n",
       "    <tr>\n",
       "      <th>2</th>\n",
       "      <td>Black-grass/0260cffa8.png</td>\n",
       "      <td>Black-grass</td>\n",
       "      <td>0</td>\n",
       "    </tr>\n",
       "    <tr>\n",
       "      <th>3</th>\n",
       "      <td>Black-grass/05eedce4d.png</td>\n",
       "      <td>Black-grass</td>\n",
       "      <td>0</td>\n",
       "    </tr>\n",
       "    <tr>\n",
       "      <th>4</th>\n",
       "      <td>Black-grass/075d004bc.png</td>\n",
       "      <td>Black-grass</td>\n",
       "      <td>0</td>\n",
       "    </tr>\n",
       "  </tbody>\n",
       "</table>\n",
       "</div>"
      ],
      "text/plain": [
       "                        file     category  category_id\n",
       "0  Black-grass/0050f38b3.png  Black-grass            0\n",
       "1  Black-grass/0183fdf68.png  Black-grass            0\n",
       "2  Black-grass/0260cffa8.png  Black-grass            0\n",
       "3  Black-grass/05eedce4d.png  Black-grass            0\n",
       "4  Black-grass/075d004bc.png  Black-grass            0"
      ]
     },
     "execution_count": 16,
     "metadata": {},
     "output_type": "execute_result"
    }
   ],
   "source": [
    "import os\n",
    "dataset='seedlings' # bone , cat-dog   d:/db/data/cat-dog/train/ ISIC2017\n",
    "data_dir= 'd:/db/data/' +  dataset + '/train/'\n",
    "# data_dir_valid= 'd:/db/data/' +  dataset + '/valid/'\n",
    "\n",
    "classes, class_to_idx, num_to_class, df =GenericDataset.find_classes (data_dir )\n",
    "\n",
    "print (classes)\n",
    "print (class_to_idx)\n",
    "print (num_to_class)\n",
    "df.head(5)    "
   ]
  },
  {
   "cell_type": "code",
   "execution_count": 17,
   "metadata": {
    "colab": {
     "autoexec": {
      "startup": false,
      "wait_interval": 0
     },
     "output_extras": [
      {}
     ]
    },
    "colab_type": "code",
    "id": "kocQq6yLzpSN",
    "outputId": "8d66b443-5e8b-4c12-b38b-a0e4c3a5242c"
   },
   "outputs": [
    {
     "data": {
      "text/plain": [
       "12"
      ]
     },
     "execution_count": 17,
     "metadata": {},
     "output_type": "execute_result"
    }
   ],
   "source": [
    "len(classes)"
   ]
  },
  {
   "cell_type": "markdown",
   "metadata": {
    "colab_type": "text",
    "id": "aY-XSyxWzpSR"
   },
   "source": [
    "# Target distribution : Train set"
   ]
  },
  {
   "cell_type": "code",
   "execution_count": 18,
   "metadata": {
    "colab": {
     "autoexec": {
      "startup": false,
      "wait_interval": 0
     },
     "output_extras": [
      {},
      {}
     ]
    },
    "colab_type": "code",
    "id": "vNJsLwcEzpSR",
    "outputId": "beb4caeb-f462-46a9-94bd-55f47d2c89a1"
   },
   "outputs": [
    {
     "name": "stderr",
     "output_type": "stream",
     "text": [
      "c:\\Anaconda3\\lib\\site-packages\\seaborn\\categorical.py:1460: FutureWarning: remove_na is deprecated and is a private function. Do not use.\n",
      "  stat_data = remove_na(group_data)\n"
     ]
    },
    {
     "data": {
      "image/png": "[encoded data removed]",
      "text/plain": [
       "<matplotlib.figure.Figure at 0x1ce14d5b470>"
      ]
     },
     "metadata": {},
     "output_type": "display_data"
    }
   ],
   "source": [
    "import seaborn as sns\n",
    "sns.set(color_codes=True)\n",
    "pal = sns.color_palette()\n",
    "sns.set_style(\"whitegrid\")\n",
    "\n",
    "labels = df['category'].apply(lambda x: x.split(' '))\n",
    "from collections import Counter, defaultdict\n",
    "counts = defaultdict(int)\n",
    "for l in labels:\n",
    "    for l2 in l:\n",
    "        counts[l2] += 1\n",
    "\n",
    "counts_df = pd.DataFrame.from_dict(counts, orient='index')\n",
    "counts_df.columns = ['count']\n",
    "counts_df.sort_values('count', ascending=False, inplace=True)\n",
    "\n",
    "fig, ax = plt.subplots()\n",
    "ax = sns.barplot(x=counts_df.index, y=counts_df['count'], ax=ax)\n",
    "fig.set_size_inches(20,8)\n",
    "ax.set_xticklabels(ax.xaxis.get_majorticklabels(), rotation=-45);"
   ]
  },
  {
   "cell_type": "markdown",
   "metadata": {
    "colab_type": "text",
    "id": "8pPClZv8zpSW"
   },
   "source": [
    "# Augmentation "
   ]
  },
  {
   "cell_type": "code",
   "execution_count": 19,
   "metadata": {
    "colab": {
     "autoexec": {
      "startup": false,
      "wait_interval": 0
     }
    },
    "colab_type": "code",
    "collapsed": true,
    "id": "ij6OFiLBzpSW"
   },
   "outputs": [],
   "source": [
    "from __future__ import absolute_import\n",
    "\n",
    "from torchvision.transforms import *\n",
    "\n",
    "from PIL import Image, ImageDraw\n",
    "import numpy as np\n",
    "import torch\n",
    "\n",
    "import torchvision\n",
    "import random\n",
    "from PIL import Image, ImageOps\n",
    "import numpy as np\n",
    "import numbers\n",
    "import math\n",
    "import torch\n",
    "import torch\n",
    "import random\n",
    "import PIL.ImageEnhance as ie\n",
    "import PIL.Image as im\n",
    "\n",
    "# adapted from https://github.com/kuangliu/pytorch-retinanet/blob/master/transform.py\n",
    "# https://github.com/mratsim/Amazon-Forest-Computer-Vision/blob/master/src/p_data_augmentation.py\n",
    "\n",
    "normalize_img = torchvision.transforms.Normalize(mean=[0.485, 0.456, 0.406],\n",
    "                                     std=[0.229, 0.224, 0.225])\n",
    "\n",
    "from ktransforms import *"
   ]
  },
  {
   "cell_type": "markdown",
   "metadata": {
    "colab_type": "text",
    "id": "RmEroGFfzpSY"
   },
   "source": [
    "## Setup transforms, datasets, and dataloaders\n",
    "\n",
    "- Data loaders spit out data from a dataset in batches. This is what you actually feed the neural network during training."
   ]
  },
  {
   "cell_type": "code",
   "execution_count": 20,
   "metadata": {
    "colab": {
     "autoexec": {
      "startup": false,
      "wait_interval": 0
     },
     "output_extras": [
      {},
      {},
      {}
     ]
    },
    "colab_type": "code",
    "id": "38MhTpO4zpSY",
    "outputId": "d94a5935-288a-4bdd-d305-aacb4048b53e"
   },
   "outputs": [
    {
     "name": "stdout",
     "output_type": "stream",
     "text": [
      "{'train': 4038, 'valid': 712}\n",
      "6     566\n",
      "3     513\n",
      "8     445\n",
      "10    421\n",
      "5     408\n",
      "1     327\n",
      "11    316\n",
      "2     247\n",
      "0     225\n",
      "9     202\n",
      "7     185\n",
      "4     183\n",
      "Name: category_id, dtype: int64\n"
     ]
    },
    {
     "data": {
      "text/plain": [
       "<matplotlib.axes._subplots.AxesSubplot at 0x1ce0522d240>"
      ]
     },
     "execution_count": 20,
     "metadata": {},
     "output_type": "execute_result"
    },
    {
     "data": {
      "image/png": "[encoded data removed]",
      "text/plain": [
       "<matplotlib.figure.Figure at 0x1ce137434e0>"
      ]
     },
     "metadata": {},
     "output_type": "display_data"
    }
   ],
   "source": [
    "image_size = 224\n",
    "\n",
    "normalize_img = torchvision.transforms.Normalize(mean=[0.485, 0.456, 0.406],\n",
    "                                     std=[0.229, 0.224, 0.225])\n",
    "\n",
    "\n",
    "train_trans = transforms.Compose([\n",
    "    transforms.RandomSizedCrop(image_size),\n",
    "    PowerPIL(),\n",
    "    transforms.ToTensor(),\n",
    "#     normalize_img,\n",
    "    RandomErasing()\n",
    "])\n",
    "\n",
    "## Normalization only for validation and test\n",
    "valid_trans = transforms.Compose([\n",
    "    transforms.Scale(256),\n",
    "    transforms.CenterCrop(image_size),\n",
    "    transforms.ToTensor(),\n",
    "#     normalize_img\n",
    "])\n",
    "\n",
    "batch_size = 8\n",
    "train_data = df.sample(frac=0.85)\n",
    "valid_data = df[~df['file'].isin(train_data['file'])]\n",
    "\n",
    "train_set = GenericDataset(train_data, data_dir, transform = train_trans)\n",
    "valid_set = GenericDataset(valid_data, data_dir, transform = valid_trans)\n",
    "        \n",
    "\n",
    "t_loader = DataLoader(train_set, batch_size=batch_size, shuffle=True, num_workers=0)\n",
    "v_loader = DataLoader(valid_set, batch_size=batch_size, shuffle=True, num_workers=0)\n",
    "# test_loader  = DataLoader(test_set, batch_size=batch_size, shuffle=False, num_workers=4)\n",
    "\n",
    "dataset_sizes = {\n",
    "    'train': len(t_loader.dataset), \n",
    "    'valid': len(v_loader.dataset)\n",
    "}\n",
    "\n",
    "\n",
    "print (dataset_sizes)\n",
    "print (train_data[\"category_id\"].value_counts())\n",
    "\n",
    "train_data['category_id'].value_counts().plot(kind='bar')"
   ]
  },
  {
   "cell_type": "code",
   "execution_count": 21,
   "metadata": {
    "colab": {
     "autoexec": {
      "startup": false,
      "wait_interval": 0
     },
     "output_extras": [
      {},
      {}
     ]
    },
    "colab_type": "code",
    "id": "noA4FHS7zpSb",
    "outputId": "a514a7ec-d0ad-4be8-b43b-8baca8882e3b"
   },
   "outputs": [
    {
     "data": {
      "text/plain": [
       "<matplotlib.axes._subplots.AxesSubplot at 0x1ce130c95c0>"
      ]
     },
     "execution_count": 21,
     "metadata": {},
     "output_type": "execute_result"
    },
    {
     "data": {
      "image/png": "[encoded data removed]",
      "text/plain": [
       "<matplotlib.figure.Figure at 0x1ce130c9518>"
      ]
     },
     "metadata": {},
     "output_type": "display_data"
    }
   ],
   "source": [
    "valid_data['category_id'].value_counts().plot(kind='bar')"
   ]
  },
  {
   "cell_type": "markdown",
   "metadata": {
    "colab_type": "text",
    "id": "f53b3rbpzpSg"
   },
   "source": [
    "### Test the DataLoader Class"
   ]
  },
  {
   "cell_type": "code",
   "execution_count": 22,
   "metadata": {
    "colab": {
     "autoexec": {
      "startup": false,
      "wait_interval": 0
     },
     "output_extras": [
      {},
      {}
     ]
    },
    "colab_type": "code",
    "id": "o6o2BlVMzpSh",
    "outputId": "4e1095e8-b70b-407f-ffd3-3425f6bfa919"
   },
   "outputs": [
    {
     "name": "stdout",
     "output_type": "stream",
     "text": [
      "i=0: \n",
      "i=1: \n",
      "i=2: \n",
      "i=3: \n"
     ]
    },
    {
     "data": {
      "image/png": "[encoded data removed]",
      "text/plain": [
       "<matplotlib.figure.Figure at 0x1ce05205198>"
      ]
     },
     "metadata": {},
     "output_type": "display_data"
    }
   ],
   "source": [
    "imagesToShow=4\n",
    "\n",
    "def flaotTensorToImage(img, mean=0, std=1):\n",
    "        \"\"\"convert a tensor to an image\"\"\"\n",
    "        img = np.transpose(img.numpy(), (1, 2, 0))\n",
    "        img = (img*std+ mean)*255\n",
    "        img = img.astype(np.uint8)    \n",
    "        return img    \n",
    "\n",
    "if __name__ == '__main__':  \n",
    "    for i, data in enumerate(t_loader, 0):\n",
    "        print('i=%d: '%(i))            \n",
    "        images, labels = data            \n",
    "        num = len(images)\n",
    "\n",
    "        ax = plt.subplot(1, imagesToShow, i + 1)\n",
    "        plt.tight_layout()\n",
    "        ax.set_title('Sample #{}'.format(i))\n",
    "        ax.axis('off')\n",
    "\n",
    "        for n in range(num):\n",
    "            image=images[n]\n",
    "            label=labels[n]\n",
    "            plt.imshow (flaotTensorToImage(image))\n",
    "\n",
    "        if i==imagesToShow-1:\n",
    "            break"
   ]
  },
  {
   "cell_type": "markdown",
   "metadata": {
    "colab_type": "text",
    "id": "OqiMkF2nzpSk"
   },
   "source": [
    "## Define the model\n",
    "- A simple CNN with great performance (95% accuracy) \n",
    "- In PyTorch, a model is defined by a subclass of nn.Module. It has two methods:\n",
    "\n",
    "`__init__:` constructor. Create layers here. Note that we don't define the connections between layers in this function.\n",
    "\n",
    "`forward(x):` forward function. Receives an input variable x. Returns a output variable. Note that we actually connect the layers here dynamically."
   ]
  },
  {
   "cell_type": "code",
   "execution_count": 23,
   "metadata": {
    "colab": {
     "autoexec": {
      "startup": false,
      "wait_interval": 0
     },
     "output_extras": [
      {}
     ]
    },
    "colab_type": "code",
    "id": "wrb3DsUazpSl",
    "outputId": "aa46ae96-dea2-4531-a919-223526ae5a2c"
   },
   "outputs": [
    {
     "name": "stdout",
     "output_type": "stream",
     "text": [
      "DPN(\n",
      "  (features): Sequential(\n",
      "    (conv1): Sequential(\n",
      "      (0): Conv2d(3, 64, kernel_size=(7, 7), stride=(2, 2), padding=(3, 3), bias=False)\n",
      "      (1): BatchNorm2d(64, eps=1e-05, momentum=0.1, affine=True)\n",
      "      (2): ReLU(inplace)\n",
      "      (3): MaxPool2d(kernel_size=(3, 3), stride=(2, 2), padding=(1, 1), dilation=(1, 1), ceil_mode=False)\n",
      "    )\n",
      "    (conv2_1): DualPathBlock(\n",
      "      (c1x1_w): Sequential(\n",
      "        (norm): BatchNorm2d(64, eps=1e-05, momentum=0.1, affine=True)\n",
      "        (relu): ReLU(inplace)\n",
      "        (conv): Conv2d(64, 288, kernel_size=(1, 1), stride=(1, 1), bias=False)\n",
      "      )\n",
      "      (layers): Sequential(\n",
      "        (c1x1_a): Sequential(\n",
      "          (norm): BatchNorm2d(64, eps=1e-05, momentum=0.1, affine=True)\n",
      "          (relu): ReLU(inplace)\n",
      "          (conv): Conv2d(64, 96, kernel_size=(1, 1), stride=(1, 1), bias=False)\n",
      "        )\n",
      "        (c3x3_b): Sequential(\n",
      "          (norm): BatchNorm2d(96, eps=1e-05, momentum=0.1, affine=True)\n",
      "          (relu): ReLU(inplace)\n",
      "          (conv): Conv2d(96, 96, kernel_size=(3, 3), stride=(1, 1), padding=(1, 1), groups=32, bias=False)\n",
      "        )\n",
      "        (c1x1_c): Sequential(\n",
      "          (norm): BatchNorm2d(96, eps=1e-05, momentum=0.1, affine=True)\n",
      "          (relu): ReLU(inplace)\n",
      "          (conv): Conv2d(96, 272, kernel_size=(1, 1), stride=(1, 1), bias=False)\n",
      "        )\n",
      "      )\n",
      "    )\n",
      "    (conv2_2): DualPathBlock(\n",
      "      (layers): Sequential(\n",
      "        (c1x1_a): Sequential(\n",
      "          (norm): BatchNorm2d(304, eps=1e-05, momentum=0.1, affine=True)\n",
      "          (relu): ReLU(inplace)\n",
      "          (conv): Conv2d(304, 96, kernel_size=(1, 1), stride=(1, 1), bias=False)\n",
      "        )\n",
      "        (c3x3_b): Sequential(\n",
      "          (norm): BatchNorm2d(96, eps=1e-05, momentum=0.1, affine=True)\n",
      "          (relu): ReLU(inplace)\n",
      "          (conv): Conv2d(96, 96, kernel_size=(3, 3), stride=(1, 1), padding=(1, 1), groups=32, bias=False)\n",
      "        )\n",
      "        (c1x1_c): Sequential(\n",
      "          (norm): BatchNorm2d(96, eps=1e-05, momentum=0.1, affine=True)\n",
      "          (relu): ReLU(inplace)\n",
      "          (conv): Conv2d(96, 272, kernel_size=(1, 1), stride=(1, 1), bias=False)\n",
      "        )\n",
      "      )\n",
      "    )\n",
      "    (conv2_3): DualPathBlock(\n",
      "      (layers): Sequential(\n",
      "        (c1x1_a): Sequential(\n",
      "          (norm): BatchNorm2d(320, eps=1e-05, momentum=0.1, affine=True)\n",
      "          (relu): ReLU(inplace)\n",
      "          (conv): Conv2d(320, 96, kernel_size=(1, 1), stride=(1, 1), bias=False)\n",
      "        )\n",
      "        (c3x3_b): Sequential(\n",
      "          (norm): BatchNorm2d(96, eps=1e-05, momentum=0.1, affine=True)\n",
      "          (relu): ReLU(inplace)\n",
      "          (conv): Conv2d(96, 96, kernel_size=(3, 3), stride=(1, 1), padding=(1, 1), groups=32, bias=False)\n",
      "        )\n",
      "        (c1x1_c): Sequential(\n",
      "          (norm): BatchNorm2d(96, eps=1e-05, momentum=0.1, affine=True)\n",
      "          (relu): ReLU(inplace)\n",
      "          (conv): Conv2d(96, 272, kernel_size=(1, 1), stride=(1, 1), bias=False)\n",
      "        )\n",
      "      )\n",
      "    )\n",
      "    (conv3_1): DualPathBlock(\n",
      "      (c1x1_w): Sequential(\n",
      "        (norm): BatchNorm2d(336, eps=1e-05, momentum=0.1, affine=True)\n",
      "        (relu): ReLU(inplace)\n",
      "        (conv): Conv2d(336, 576, kernel_size=(1, 1), stride=(2, 2), bias=False)\n",
      "      )\n",
      "      (layers): Sequential(\n",
      "        (c1x1_a): Sequential(\n",
      "          (norm): BatchNorm2d(336, eps=1e-05, momentum=0.1, affine=True)\n",
      "          (relu): ReLU(inplace)\n",
      "          (conv): Conv2d(336, 192, kernel_size=(1, 1), stride=(1, 1), bias=False)\n",
      "        )\n",
      "        (c3x3_b): Sequential(\n",
      "          (norm): BatchNorm2d(192, eps=1e-05, momentum=0.1, affine=True)\n",
      "          (relu): ReLU(inplace)\n",
      "          (conv): Conv2d(192, 192, kernel_size=(3, 3), stride=(2, 2), padding=(1, 1), groups=32, bias=False)\n",
      "        )\n",
      "        (c1x1_c): Sequential(\n",
      "          (norm): BatchNorm2d(192, eps=1e-05, momentum=0.1, affine=True)\n",
      "          (relu): ReLU(inplace)\n",
      "          (conv): Conv2d(192, 544, kernel_size=(1, 1), stride=(1, 1), bias=False)\n",
      "        )\n",
      "      )\n",
      "    )\n",
      "    (conv3_2): DualPathBlock(\n",
      "      (layers): Sequential(\n",
      "        (c1x1_a): Sequential(\n",
      "          (norm): BatchNorm2d(608, eps=1e-05, momentum=0.1, affine=True)\n",
      "          (relu): ReLU(inplace)\n",
      "          (conv): Conv2d(608, 192, kernel_size=(1, 1), stride=(1, 1), bias=False)\n",
      "        )\n",
      "        (c3x3_b): Sequential(\n",
      "          (norm): BatchNorm2d(192, eps=1e-05, momentum=0.1, affine=True)\n",
      "          (relu): ReLU(inplace)\n",
      "          (conv): Conv2d(192, 192, kernel_size=(3, 3), stride=(1, 1), padding=(1, 1), groups=32, bias=False)\n",
      "        )\n",
      "        (c1x1_c): Sequential(\n",
      "          (norm): BatchNorm2d(192, eps=1e-05, momentum=0.1, affine=True)\n",
      "          (relu): ReLU(inplace)\n",
      "          (conv): Conv2d(192, 544, kernel_size=(1, 1), stride=(1, 1), bias=False)\n",
      "        )\n",
      "      )\n",
      "    )\n",
      "    (conv3_3): DualPathBlock(\n",
      "      (layers): Sequential(\n",
      "        (c1x1_a): Sequential(\n",
      "          (norm): BatchNorm2d(640, eps=1e-05, momentum=0.1, affine=True)\n",
      "          (relu): ReLU(inplace)\n",
      "          (conv): Conv2d(640, 192, kernel_size=(1, 1), stride=(1, 1), bias=False)\n",
      "        )\n",
      "        (c3x3_b): Sequential(\n",
      "          (norm): BatchNorm2d(192, eps=1e-05, momentum=0.1, affine=True)\n",
      "          (relu): ReLU(inplace)\n",
      "          (conv): Conv2d(192, 192, kernel_size=(3, 3), stride=(1, 1), padding=(1, 1), groups=32, bias=False)\n",
      "        )\n",
      "        (c1x1_c): Sequential(\n",
      "          (norm): BatchNorm2d(192, eps=1e-05, momentum=0.1, affine=True)\n",
      "          (relu): ReLU(inplace)\n",
      "          (conv): Conv2d(192, 544, kernel_size=(1, 1), stride=(1, 1), bias=False)\n",
      "        )\n",
      "      )\n",
      "    )\n",
      "    (conv3_4): DualPathBlock(\n",
      "      (layers): Sequential(\n",
      "        (c1x1_a): Sequential(\n",
      "          (norm): BatchNorm2d(672, eps=1e-05, momentum=0.1, affine=True)\n",
      "          (relu): ReLU(inplace)\n",
      "          (conv): Conv2d(672, 192, kernel_size=(1, 1), stride=(1, 1), bias=False)\n",
      "        )\n",
      "        (c3x3_b): Sequential(\n",
      "          (norm): BatchNorm2d(192, eps=1e-05, momentum=0.1, affine=True)\n",
      "          (relu): ReLU(inplace)\n",
      "          (conv): Conv2d(192, 192, kernel_size=(3, 3), stride=(1, 1), padding=(1, 1), groups=32, bias=False)\n",
      "        )\n",
      "        (c1x1_c): Sequential(\n",
      "          (norm): BatchNorm2d(192, eps=1e-05, momentum=0.1, affine=True)\n",
      "          (relu): ReLU(inplace)\n",
      "          (conv): Conv2d(192, 544, kernel_size=(1, 1), stride=(1, 1), bias=False)\n",
      "        )\n",
      "      )\n",
      "    )\n",
      "    (conv4_1): DualPathBlock(\n",
      "      (c1x1_w): Sequential(\n",
      "        (norm): BatchNorm2d(704, eps=1e-05, momentum=0.1, affine=True)\n",
      "        (relu): ReLU(inplace)\n",
      "        (conv): Conv2d(704, 1072, kernel_size=(1, 1), stride=(2, 2), bias=False)\n",
      "      )\n",
      "      (layers): Sequential(\n",
      "        (c1x1_a): Sequential(\n",
      "          (norm): BatchNorm2d(704, eps=1e-05, momentum=0.1, affine=True)\n",
      "          (relu): ReLU(inplace)\n",
      "          (conv): Conv2d(704, 384, kernel_size=(1, 1), stride=(1, 1), bias=False)\n",
      "        )\n",
      "        (c3x3_b): Sequential(\n",
      "          (norm): BatchNorm2d(384, eps=1e-05, momentum=0.1, affine=True)\n",
      "          (relu): ReLU(inplace)\n",
      "          (conv): Conv2d(384, 384, kernel_size=(3, 3), stride=(2, 2), padding=(1, 1), groups=32, bias=False)\n",
      "        )\n",
      "        (c1x1_c): Sequential(\n",
      "          (norm): BatchNorm2d(384, eps=1e-05, momentum=0.1, affine=True)\n",
      "          (relu): ReLU(inplace)\n",
      "          (conv): Conv2d(384, 1048, kernel_size=(1, 1), stride=(1, 1), bias=False)\n",
      "        )\n",
      "      )\n",
      "    )\n",
      "    (conv4_2): DualPathBlock(\n",
      "      (layers): Sequential(\n",
      "        (c1x1_a): Sequential(\n",
      "          (norm): BatchNorm2d(1096, eps=1e-05, momentum=0.1, affine=True)\n",
      "          (relu): ReLU(inplace)\n",
      "          (conv): Conv2d(1096, 384, kernel_size=(1, 1), stride=(1, 1), bias=False)\n",
      "        )\n",
      "        (c3x3_b): Sequential(\n",
      "          (norm): BatchNorm2d(384, eps=1e-05, momentum=0.1, affine=True)\n",
      "          (relu): ReLU(inplace)\n",
      "          (conv): Conv2d(384, 384, kernel_size=(3, 3), stride=(1, 1), padding=(1, 1), groups=32, bias=False)\n",
      "        )\n",
      "        (c1x1_c): Sequential(\n",
      "          (norm): BatchNorm2d(384, eps=1e-05, momentum=0.1, affine=True)\n",
      "          (relu): ReLU(inplace)\n",
      "          (conv): Conv2d(384, 1048, kernel_size=(1, 1), stride=(1, 1), bias=False)\n",
      "        )\n",
      "      )\n",
      "    )\n",
      "    (conv4_3): DualPathBlock(\n",
      "      (layers): Sequential(\n",
      "        (c1x1_a): Sequential(\n",
      "          (norm): BatchNorm2d(1120, eps=1e-05, momentum=0.1, affine=True)\n",
      "          (relu): ReLU(inplace)\n",
      "          (conv): Conv2d(1120, 384, kernel_size=(1, 1), stride=(1, 1), bias=False)\n",
      "        )\n",
      "        (c3x3_b): Sequential(\n",
      "          (norm): BatchNorm2d(384, eps=1e-05, momentum=0.1, affine=True)\n",
      "          (relu): ReLU(inplace)\n",
      "          (conv): Conv2d(384, 384, kernel_size=(3, 3), stride=(1, 1), padding=(1, 1), groups=32, bias=False)\n",
      "        )\n",
      "        (c1x1_c): Sequential(\n",
      "          (norm): BatchNorm2d(384, eps=1e-05, momentum=0.1, affine=True)\n",
      "          (relu): ReLU(inplace)\n",
      "          (conv): Conv2d(384, 1048, kernel_size=(1, 1), stride=(1, 1), bias=False)\n",
      "        )\n",
      "      )\n",
      "    )\n",
      "    (conv4_4): DualPathBlock(\n",
      "      (layers): Sequential(\n",
      "        (c1x1_a): Sequential(\n",
      "          (norm): BatchNorm2d(1144, eps=1e-05, momentum=0.1, affine=True)\n",
      "          (relu): ReLU(inplace)\n",
      "          (conv): Conv2d(1144, 384, kernel_size=(1, 1), stride=(1, 1), bias=False)\n",
      "        )\n",
      "        (c3x3_b): Sequential(\n",
      "          (norm): BatchNorm2d(384, eps=1e-05, momentum=0.1, affine=True)\n",
      "          (relu): ReLU(inplace)\n",
      "          (conv): Conv2d(384, 384, kernel_size=(3, 3), stride=(1, 1), padding=(1, 1), groups=32, bias=False)\n",
      "        )\n",
      "        (c1x1_c): Sequential(\n",
      "          (norm): BatchNorm2d(384, eps=1e-05, momentum=0.1, affine=True)\n",
      "          (relu): ReLU(inplace)\n",
      "          (conv): Conv2d(384, 1048, kernel_size=(1, 1), stride=(1, 1), bias=False)\n",
      "        )\n",
      "      )\n",
      "    )\n",
      "    (conv4_5): DualPathBlock(\n",
      "      (layers): Sequential(\n",
      "        (c1x1_a): Sequential(\n",
      "          (norm): BatchNorm2d(1168, eps=1e-05, momentum=0.1, affine=True)\n",
      "          (relu): ReLU(inplace)\n",
      "          (conv): Conv2d(1168, 384, kernel_size=(1, 1), stride=(1, 1), bias=False)\n",
      "        )\n",
      "        (c3x3_b): Sequential(\n",
      "          (norm): BatchNorm2d(384, eps=1e-05, momentum=0.1, affine=True)\n",
      "          (relu): ReLU(inplace)\n",
      "          (conv): Conv2d(384, 384, kernel_size=(3, 3), stride=(1, 1), padding=(1, 1), groups=32, bias=False)\n",
      "        )\n",
      "        (c1x1_c): Sequential(\n",
      "          (norm): BatchNorm2d(384, eps=1e-05, momentum=0.1, affine=True)\n",
      "          (relu): ReLU(inplace)\n",
      "          (conv): Conv2d(384, 1048, kernel_size=(1, 1), stride=(1, 1), bias=False)\n",
      "        )\n",
      "      )\n",
      "    )\n",
      "    (conv4_6): DualPathBlock(\n",
      "      (layers): Sequential(\n",
      "        (c1x1_a): Sequential(\n",
      "          (norm): BatchNorm2d(1192, eps=1e-05, momentum=0.1, affine=True)\n",
      "          (relu): ReLU(inplace)\n",
      "          (conv): Conv2d(1192, 384, kernel_size=(1, 1), stride=(1, 1), bias=False)\n",
      "        )\n",
      "        (c3x3_b): Sequential(\n",
      "          (norm): BatchNorm2d(384, eps=1e-05, momentum=0.1, affine=True)\n",
      "          (relu): ReLU(inplace)\n",
      "          (conv): Conv2d(384, 384, kernel_size=(3, 3), stride=(1, 1), padding=(1, 1), groups=32, bias=False)\n",
      "        )\n",
      "        (c1x1_c): Sequential(\n",
      "          (norm): BatchNorm2d(384, eps=1e-05, momentum=0.1, affine=True)\n",
      "          (relu): ReLU(inplace)\n",
      "          (conv): Conv2d(384, 1048, kernel_size=(1, 1), stride=(1, 1), bias=False)\n",
      "        )\n",
      "      )\n",
      "    )\n",
      "    (conv4_7): DualPathBlock(\n",
      "      (layers): Sequential(\n",
      "        (c1x1_a): Sequential(\n",
      "          (norm): BatchNorm2d(1216, eps=1e-05, momentum=0.1, affine=True)\n",
      "          (relu): ReLU(inplace)\n",
      "          (conv): Conv2d(1216, 384, kernel_size=(1, 1), stride=(1, 1), bias=False)\n",
      "        )\n",
      "        (c3x3_b): Sequential(\n",
      "          (norm): BatchNorm2d(384, eps=1e-05, momentum=0.1, affine=True)\n",
      "          (relu): ReLU(inplace)\n",
      "          (conv): Conv2d(384, 384, kernel_size=(3, 3), stride=(1, 1), padding=(1, 1), groups=32, bias=False)\n",
      "        )\n",
      "        (c1x1_c): Sequential(\n",
      "          (norm): BatchNorm2d(384, eps=1e-05, momentum=0.1, affine=True)\n",
      "          (relu): ReLU(inplace)\n",
      "          (conv): Conv2d(384, 1048, kernel_size=(1, 1), stride=(1, 1), bias=False)\n",
      "        )\n",
      "      )\n",
      "    )\n",
      "    (conv4_8): DualPathBlock(\n",
      "      (layers): Sequential(\n",
      "        (c1x1_a): Sequential(\n",
      "          (norm): BatchNorm2d(1240, eps=1e-05, momentum=0.1, affine=True)\n",
      "          (relu): ReLU(inplace)\n",
      "          (conv): Conv2d(1240, 384, kernel_size=(1, 1), stride=(1, 1), bias=False)\n",
      "        )\n",
      "        (c3x3_b): Sequential(\n",
      "          (norm): BatchNorm2d(384, eps=1e-05, momentum=0.1, affine=True)\n",
      "          (relu): ReLU(inplace)\n",
      "          (conv): Conv2d(384, 384, kernel_size=(3, 3), stride=(1, 1), padding=(1, 1), groups=32, bias=False)\n",
      "        )\n",
      "        (c1x1_c): Sequential(\n",
      "          (norm): BatchNorm2d(384, eps=1e-05, momentum=0.1, affine=True)\n",
      "          (relu): ReLU(inplace)\n",
      "          (conv): Conv2d(384, 1048, kernel_size=(1, 1), stride=(1, 1), bias=False)\n",
      "        )\n",
      "      )\n",
      "    )\n",
      "    (conv4_9): DualPathBlock(\n",
      "      (layers): Sequential(\n",
      "        (c1x1_a): Sequential(\n",
      "          (norm): BatchNorm2d(1264, eps=1e-05, momentum=0.1, affine=True)\n",
      "          (relu): ReLU(inplace)\n",
      "          (conv): Conv2d(1264, 384, kernel_size=(1, 1), stride=(1, 1), bias=False)\n",
      "        )\n",
      "        (c3x3_b): Sequential(\n",
      "          (norm): BatchNorm2d(384, eps=1e-05, momentum=0.1, affine=True)\n",
      "          (relu): ReLU(inplace)\n",
      "          (conv): Conv2d(384, 384, kernel_size=(3, 3), stride=(1, 1), padding=(1, 1), groups=32, bias=False)\n",
      "        )\n",
      "        (c1x1_c): Sequential(\n",
      "          (norm): BatchNorm2d(384, eps=1e-05, momentum=0.1, affine=True)\n",
      "          (relu): ReLU(inplace)\n",
      "          (conv): Conv2d(384, 1048, kernel_size=(1, 1), stride=(1, 1), bias=False)\n",
      "        )\n",
      "      )\n",
      "    )\n",
      "    (conv4_10): DualPathBlock(\n",
      "      (layers): Sequential(\n",
      "        (c1x1_a): Sequential(\n",
      "          (norm): BatchNorm2d(1288, eps=1e-05, momentum=0.1, affine=True)\n",
      "          (relu): ReLU(inplace)\n",
      "          (conv): Conv2d(1288, 384, kernel_size=(1, 1), stride=(1, 1), bias=False)\n",
      "        )\n",
      "        (c3x3_b): Sequential(\n",
      "          (norm): BatchNorm2d(384, eps=1e-05, momentum=0.1, affine=True)\n",
      "          (relu): ReLU(inplace)\n",
      "          (conv): Conv2d(384, 384, kernel_size=(3, 3), stride=(1, 1), padding=(1, 1), groups=32, bias=False)\n",
      "        )\n",
      "        (c1x1_c): Sequential(\n",
      "          (norm): BatchNorm2d(384, eps=1e-05, momentum=0.1, affine=True)\n",
      "          (relu): ReLU(inplace)\n",
      "          (conv): Conv2d(384, 1048, kernel_size=(1, 1), stride=(1, 1), bias=False)\n",
      "        )\n",
      "      )\n",
      "    )\n",
      "    (conv4_11): DualPathBlock(\n",
      "      (layers): Sequential(\n",
      "        (c1x1_a): Sequential(\n",
      "          (norm): BatchNorm2d(1312, eps=1e-05, momentum=0.1, affine=True)\n",
      "          (relu): ReLU(inplace)\n",
      "          (conv): Conv2d(1312, 384, kernel_size=(1, 1), stride=(1, 1), bias=False)\n",
      "        )\n",
      "        (c3x3_b): Sequential(\n",
      "          (norm): BatchNorm2d(384, eps=1e-05, momentum=0.1, affine=True)\n",
      "          (relu): ReLU(inplace)\n",
      "          (conv): Conv2d(384, 384, kernel_size=(3, 3), stride=(1, 1), padding=(1, 1), groups=32, bias=False)\n",
      "        )\n",
      "        (c1x1_c): Sequential(\n",
      "          (norm): BatchNorm2d(384, eps=1e-05, momentum=0.1, affine=True)\n",
      "          (relu): ReLU(inplace)\n",
      "          (conv): Conv2d(384, 1048, kernel_size=(1, 1), stride=(1, 1), bias=False)\n",
      "        )\n",
      "      )\n",
      "    )\n",
      "    (conv4_12): DualPathBlock(\n",
      "      (layers): Sequential(\n",
      "        (c1x1_a): Sequential(\n",
      "          (norm): BatchNorm2d(1336, eps=1e-05, momentum=0.1, affine=True)\n",
      "          (relu): ReLU(inplace)\n",
      "          (conv): Conv2d(1336, 384, kernel_size=(1, 1), stride=(1, 1), bias=False)\n",
      "        )\n",
      "        (c3x3_b): Sequential(\n",
      "          (norm): BatchNorm2d(384, eps=1e-05, momentum=0.1, affine=True)\n",
      "          (relu): ReLU(inplace)\n",
      "          (conv): Conv2d(384, 384, kernel_size=(3, 3), stride=(1, 1), padding=(1, 1), groups=32, bias=False)\n",
      "        )\n",
      "        (c1x1_c): Sequential(\n",
      "          (norm): BatchNorm2d(384, eps=1e-05, momentum=0.1, affine=True)\n",
      "          (relu): ReLU(inplace)\n",
      "          (conv): Conv2d(384, 1048, kernel_size=(1, 1), stride=(1, 1), bias=False)\n",
      "        )\n",
      "      )\n",
      "    )\n",
      "    (conv4_13): DualPathBlock(\n",
      "      (layers): Sequential(\n",
      "        (c1x1_a): Sequential(\n",
      "          (norm): BatchNorm2d(1360, eps=1e-05, momentum=0.1, affine=True)\n",
      "          (relu): ReLU(inplace)\n",
      "          (conv): Conv2d(1360, 384, kernel_size=(1, 1), stride=(1, 1), bias=False)\n",
      "        )\n",
      "        (c3x3_b): Sequential(\n",
      "          (norm): BatchNorm2d(384, eps=1e-05, momentum=0.1, affine=True)\n",
      "          (relu): ReLU(inplace)\n",
      "          (conv): Conv2d(384, 384, kernel_size=(3, 3), stride=(1, 1), padding=(1, 1), groups=32, bias=False)\n",
      "        )\n",
      "        (c1x1_c): Sequential(\n",
      "          (norm): BatchNorm2d(384, eps=1e-05, momentum=0.1, affine=True)\n",
      "          (relu): ReLU(inplace)\n",
      "          (conv): Conv2d(384, 1048, kernel_size=(1, 1), stride=(1, 1), bias=False)\n",
      "        )\n",
      "      )\n",
      "    )\n",
      "    (conv4_14): DualPathBlock(\n",
      "      (layers): Sequential(\n",
      "        (c1x1_a): Sequential(\n",
      "          (norm): BatchNorm2d(1384, eps=1e-05, momentum=0.1, affine=True)\n",
      "          (relu): ReLU(inplace)\n",
      "          (conv): Conv2d(1384, 384, kernel_size=(1, 1), stride=(1, 1), bias=False)\n",
      "        )\n",
      "        (c3x3_b): Sequential(\n",
      "          (norm): BatchNorm2d(384, eps=1e-05, momentum=0.1, affine=True)\n",
      "          (relu): ReLU(inplace)\n",
      "          (conv): Conv2d(384, 384, kernel_size=(3, 3), stride=(1, 1), padding=(1, 1), groups=32, bias=False)\n",
      "        )\n",
      "        (c1x1_c): Sequential(\n",
      "          (norm): BatchNorm2d(384, eps=1e-05, momentum=0.1, affine=True)\n",
      "          (relu): ReLU(inplace)\n",
      "          (conv): Conv2d(384, 1048, kernel_size=(1, 1), stride=(1, 1), bias=False)\n",
      "        )\n",
      "      )\n",
      "    )\n",
      "    (conv4_15): DualPathBlock(\n",
      "      (layers): Sequential(\n",
      "        (c1x1_a): Sequential(\n",
      "          (norm): BatchNorm2d(1408, eps=1e-05, momentum=0.1, affine=True)\n",
      "          (relu): ReLU(inplace)\n",
      "          (conv): Conv2d(1408, 384, kernel_size=(1, 1), stride=(1, 1), bias=False)\n",
      "        )\n",
      "        (c3x3_b): Sequential(\n",
      "          (norm): BatchNorm2d(384, eps=1e-05, momentum=0.1, affine=True)\n",
      "          (relu): ReLU(inplace)\n",
      "          (conv): Conv2d(384, 384, kernel_size=(3, 3), stride=(1, 1), padding=(1, 1), groups=32, bias=False)\n",
      "        )\n",
      "        (c1x1_c): Sequential(\n",
      "          (norm): BatchNorm2d(384, eps=1e-05, momentum=0.1, affine=True)\n",
      "          (relu): ReLU(inplace)\n",
      "          (conv): Conv2d(384, 1048, kernel_size=(1, 1), stride=(1, 1), bias=False)\n",
      "        )\n",
      "      )\n",
      "    )\n",
      "    (conv4_16): DualPathBlock(\n",
      "      (layers): Sequential(\n",
      "        (c1x1_a): Sequential(\n",
      "          (norm): BatchNorm2d(1432, eps=1e-05, momentum=0.1, affine=True)\n",
      "          (relu): ReLU(inplace)\n",
      "          (conv): Conv2d(1432, 384, kernel_size=(1, 1), stride=(1, 1), bias=False)\n",
      "        )\n",
      "        (c3x3_b): Sequential(\n",
      "          (norm): BatchNorm2d(384, eps=1e-05, momentum=0.1, affine=True)\n",
      "          (relu): ReLU(inplace)\n",
      "          (conv): Conv2d(384, 384, kernel_size=(3, 3), stride=(1, 1), padding=(1, 1), groups=32, bias=False)\n",
      "        )\n",
      "        (c1x1_c): Sequential(\n",
      "          (norm): BatchNorm2d(384, eps=1e-05, momentum=0.1, affine=True)\n",
      "          (relu): ReLU(inplace)\n",
      "          (conv): Conv2d(384, 1048, kernel_size=(1, 1), stride=(1, 1), bias=False)\n",
      "        )\n",
      "      )\n",
      "    )\n",
      "    (conv4_17): DualPathBlock(\n",
      "      (layers): Sequential(\n",
      "        (c1x1_a): Sequential(\n",
      "          (norm): BatchNorm2d(1456, eps=1e-05, momentum=0.1, affine=True)\n",
      "          (relu): ReLU(inplace)\n",
      "          (conv): Conv2d(1456, 384, kernel_size=(1, 1), stride=(1, 1), bias=False)\n",
      "        )\n",
      "        (c3x3_b): Sequential(\n",
      "          (norm): BatchNorm2d(384, eps=1e-05, momentum=0.1, affine=True)\n",
      "          (relu): ReLU(inplace)\n",
      "          (conv): Conv2d(384, 384, kernel_size=(3, 3), stride=(1, 1), padding=(1, 1), groups=32, bias=False)\n",
      "        )\n",
      "        (c1x1_c): Sequential(\n",
      "          (norm): BatchNorm2d(384, eps=1e-05, momentum=0.1, affine=True)\n",
      "          (relu): ReLU(inplace)\n",
      "          (conv): Conv2d(384, 1048, kernel_size=(1, 1), stride=(1, 1), bias=False)\n",
      "        )\n",
      "      )\n",
      "    )\n",
      "    (conv4_18): DualPathBlock(\n",
      "      (layers): Sequential(\n",
      "        (c1x1_a): Sequential(\n",
      "          (norm): BatchNorm2d(1480, eps=1e-05, momentum=0.1, affine=True)\n",
      "          (relu): ReLU(inplace)\n",
      "          (conv): Conv2d(1480, 384, kernel_size=(1, 1), stride=(1, 1), bias=False)\n",
      "        )\n",
      "        (c3x3_b): Sequential(\n",
      "          (norm): BatchNorm2d(384, eps=1e-05, momentum=0.1, affine=True)\n",
      "          (relu): ReLU(inplace)\n",
      "          (conv): Conv2d(384, 384, kernel_size=(3, 3), stride=(1, 1), padding=(1, 1), groups=32, bias=False)\n",
      "        )\n",
      "        (c1x1_c): Sequential(\n",
      "          (norm): BatchNorm2d(384, eps=1e-05, momentum=0.1, affine=True)\n",
      "          (relu): ReLU(inplace)\n",
      "          (conv): Conv2d(384, 1048, kernel_size=(1, 1), stride=(1, 1), bias=False)\n",
      "        )\n",
      "      )\n",
      "    )\n",
      "    (conv4_19): DualPathBlock(\n",
      "      (layers): Sequential(\n",
      "        (c1x1_a): Sequential(\n",
      "          (norm): BatchNorm2d(1504, eps=1e-05, momentum=0.1, affine=True)\n",
      "          (relu): ReLU(inplace)\n",
      "          (conv): Conv2d(1504, 384, kernel_size=(1, 1), stride=(1, 1), bias=False)\n",
      "        )\n",
      "        (c3x3_b): Sequential(\n",
      "          (norm): BatchNorm2d(384, eps=1e-05, momentum=0.1, affine=True)\n",
      "          (relu): ReLU(inplace)\n",
      "          (conv): Conv2d(384, 384, kernel_size=(3, 3), stride=(1, 1), padding=(1, 1), groups=32, bias=False)\n",
      "        )\n",
      "        (c1x1_c): Sequential(\n",
      "          (norm): BatchNorm2d(384, eps=1e-05, momentum=0.1, affine=True)\n",
      "          (relu): ReLU(inplace)\n",
      "          (conv): Conv2d(384, 1048, kernel_size=(1, 1), stride=(1, 1), bias=False)\n",
      "        )\n",
      "      )\n",
      "    )\n",
      "    (conv4_20): DualPathBlock(\n",
      "      (layers): Sequential(\n",
      "        (c1x1_a): Sequential(\n",
      "          (norm): BatchNorm2d(1528, eps=1e-05, momentum=0.1, affine=True)\n",
      "          (relu): ReLU(inplace)\n",
      "          (conv): Conv2d(1528, 384, kernel_size=(1, 1), stride=(1, 1), bias=False)\n",
      "        )\n",
      "        (c3x3_b): Sequential(\n",
      "          (norm): BatchNorm2d(384, eps=1e-05, momentum=0.1, affine=True)\n",
      "          (relu): ReLU(inplace)\n",
      "          (conv): Conv2d(384, 384, kernel_size=(3, 3), stride=(1, 1), padding=(1, 1), groups=32, bias=False)\n",
      "        )\n",
      "        (c1x1_c): Sequential(\n",
      "          (norm): BatchNorm2d(384, eps=1e-05, momentum=0.1, affine=True)\n",
      "          (relu): ReLU(inplace)\n",
      "          (conv): Conv2d(384, 1048, kernel_size=(1, 1), stride=(1, 1), bias=False)\n",
      "        )\n",
      "      )\n",
      "    )\n",
      "    (conv5_1): DualPathBlock(\n",
      "      (c1x1_w): Sequential(\n",
      "        (norm): BatchNorm2d(1552, eps=1e-05, momentum=0.1, affine=True)\n",
      "        (relu): ReLU(inplace)\n",
      "        (conv): Conv2d(1552, 2304, kernel_size=(1, 1), stride=(2, 2), bias=False)\n",
      "      )\n",
      "      (layers): Sequential(\n",
      "        (c1x1_a): Sequential(\n",
      "          (norm): BatchNorm2d(1552, eps=1e-05, momentum=0.1, affine=True)\n",
      "          (relu): ReLU(inplace)\n",
      "          (conv): Conv2d(1552, 768, kernel_size=(1, 1), stride=(1, 1), bias=False)\n",
      "        )\n",
      "        (c3x3_b): Sequential(\n",
      "          (norm): BatchNorm2d(768, eps=1e-05, momentum=0.1, affine=True)\n",
      "          (relu): ReLU(inplace)\n",
      "          (conv): Conv2d(768, 768, kernel_size=(3, 3), stride=(2, 2), padding=(1, 1), groups=32, bias=False)\n",
      "        )\n",
      "        (c1x1_c): Sequential(\n",
      "          (norm): BatchNorm2d(768, eps=1e-05, momentum=0.1, affine=True)\n",
      "          (relu): ReLU(inplace)\n",
      "          (conv): Conv2d(768, 2176, kernel_size=(1, 1), stride=(1, 1), bias=False)\n",
      "        )\n",
      "      )\n",
      "    )\n",
      "    (conv5_2): DualPathBlock(\n",
      "      (layers): Sequential(\n",
      "        (c1x1_a): Sequential(\n",
      "          (norm): BatchNorm2d(2432, eps=1e-05, momentum=0.1, affine=True)\n",
      "          (relu): ReLU(inplace)\n",
      "          (conv): Conv2d(2432, 768, kernel_size=(1, 1), stride=(1, 1), bias=False)\n",
      "        )\n",
      "        (c3x3_b): Sequential(\n",
      "          (norm): BatchNorm2d(768, eps=1e-05, momentum=0.1, affine=True)\n",
      "          (relu): ReLU(inplace)\n",
      "          (conv): Conv2d(768, 768, kernel_size=(3, 3), stride=(1, 1), padding=(1, 1), groups=32, bias=False)\n",
      "        )\n",
      "        (c1x1_c): Sequential(\n",
      "          (norm): BatchNorm2d(768, eps=1e-05, momentum=0.1, affine=True)\n",
      "          (relu): ReLU(inplace)\n",
      "          (conv): Conv2d(768, 2176, kernel_size=(1, 1), stride=(1, 1), bias=False)\n",
      "        )\n",
      "      )\n",
      "    )\n",
      "    (conv5_3): DualPathBlock(\n",
      "      (layers): Sequential(\n",
      "        (c1x1_a): Sequential(\n",
      "          (norm): BatchNorm2d(2560, eps=1e-05, momentum=0.1, affine=True)\n",
      "          (relu): ReLU(inplace)\n",
      "          (conv): Conv2d(2560, 768, kernel_size=(1, 1), stride=(1, 1), bias=False)\n",
      "        )\n",
      "        (c3x3_b): Sequential(\n",
      "          (norm): BatchNorm2d(768, eps=1e-05, momentum=0.1, affine=True)\n",
      "          (relu): ReLU(inplace)\n",
      "          (conv): Conv2d(768, 768, kernel_size=(3, 3), stride=(1, 1), padding=(1, 1), groups=32, bias=False)\n",
      "        )\n",
      "        (c1x1_c): Sequential(\n",
      "          (norm): BatchNorm2d(768, eps=1e-05, momentum=0.1, affine=True)\n",
      "          (relu): ReLU(inplace)\n",
      "          (conv): Conv2d(768, 2176, kernel_size=(1, 1), stride=(1, 1), bias=False)\n",
      "        )\n",
      "      )\n",
      "    )\n",
      "  )\n",
      "  (classifier): Linear(in_features=2688, out_features=12, bias=True)\n"
     ]
    },
    {
     "name": "stdout",
     "output_type": "stream",
     "text": [
      ")\n"
     ]
    }
   ],
   "source": [
    "import torch\n",
    "import torch.nn as nn\n",
    "import torch.nn.functional as F\n",
    "import torch.optim as optim\n",
    "from torchvision import datasets, transforms\n",
    "from torch.autograd import Variable\n",
    "import math \n",
    "import torch\n",
    "import torch.nn as nn\n",
    "import torch.nn.functional as F\n",
    "from torch.autograd import Variable\n",
    "from collections import OrderedDict\n",
    "from torch.nn import init\n",
    "import numpy as np\n",
    "\n",
    "# model = SimpleNet(len(classes), 3)\n",
    "# model =vggnetXX_generic(len(classes), 3)\n",
    "# model =lenetXX_generic(len(classes), 3)\n",
    "# model =resnetxtXX_generic(len(classes), 3)\n",
    "# model =wrnXX_generic(len(classes), 3)\n",
    "model =dpn92(len(classes))\n",
    "# model = senetXX_generic(len(classes), 3, 32)\n",
    "\n",
    "\n",
    "criterion = torch.nn.CrossEntropyLoss()\n",
    "lr= 0.00005 * 2 * 2\n",
    "optimizer = torch.optim.Adam(model.parameters(),lr=lr)\n",
    "\n",
    "if use_cuda:\n",
    "    model = model.cuda()\n",
    "# model = senetXX_generic(len(classes), 3, 32)\n",
    "model_name = (type(model).__name__) # remember the real name\n",
    "# model = torch.nn.DataParallel(model, device_ids=list(range(4)))\n",
    "print(model)"
   ]
  },
  {
   "cell_type": "markdown",
   "metadata": {
    "colab_type": "text",
    "id": "v4YEou5EzpSq"
   },
   "source": [
    "# Metrics and Tensorboard"
   ]
  },
  {
   "cell_type": "code",
   "execution_count": 24,
   "metadata": {
    "colab": {
     "autoexec": {
      "startup": false,
      "wait_interval": 0
     },
     "output_extras": [
      {}
     ]
    },
    "colab_type": "code",
    "id": "KZiIF6zYzpSs",
    "outputId": "25793eed-e107-433b-e174-39e8ce5308c3"
   },
   "outputs": [
    {
     "data": {
      "text/plain": [
       "'0:16:40.00'"
      ]
     },
     "execution_count": 24,
     "metadata": {},
     "output_type": "execute_result"
    }
   ],
   "source": [
    "import datetime \n",
    "\n",
    "from utils import *\n",
    "\n",
    "NOW_TIME = datetime.datetime.now()\n",
    "NOW_TIME =NOW_TIME.strftime(\"%Y-%m-%d %H:%M\")\n",
    "\n",
    "use_tensorboard=False\n",
    "\n",
    "hms_string(1000)"
   ]
  },
  {
   "cell_type": "markdown",
   "metadata": {
    "colab_type": "text",
    "id": "tZ3OlGCxzpSw"
   },
   "source": [
    "### Training"
   ]
  },
  {
   "cell_type": "code",
   "execution_count": 25,
   "metadata": {
    "colab": {
     "autoexec": {
      "startup": false,
      "wait_interval": 0
     },
     "output_extras": [
      {}
     ]
    },
    "colab_type": "code",
    "id": "HDwDNmfUzpSz",
    "outputId": "2921aeb9-53a5-4fbe-ff89-9ac0d19923e3"
   },
   "outputs": [],
   "source": [
    "from tqdm import tqdm \n",
    "from sklearn import metrics\n",
    "import torch\n",
    "import numpy as np\n",
    "from sklearn import cross_validation\n",
    "from sklearn import metrics\n",
    "from sklearn.metrics import roc_auc_score, log_loss, roc_auc_score, roc_curve, auc\n",
    "\n",
    "def train(train_loader, model, epoch, optimizer):\n",
    "    if use_cuda:\n",
    "        model.cuda()\n",
    "        criterion.cuda()\n",
    "\n",
    "    batch_time = AverageMeter()\n",
    "    data_time = AverageMeter()\n",
    "    losses = AverageMeter()\n",
    "    acc = AverageMeter()\n",
    "   \n",
    "    # switch to train mode\n",
    "    model.train()\n",
    "\n",
    "    end = time.time()\n",
    "    for batch_idx, (images, target) in enumerate(train_loader): \n",
    "        correct = 0\n",
    "        # measure data loading time\n",
    "        data_time.update(time.time() - end)\n",
    "\n",
    "        if use_cuda:\n",
    "            images, target = images.cuda(), target.cuda()\n",
    "            images, target = Variable(images), Variable(target)\n",
    "        # compute y_pred\n",
    "        y_pred = model(images)\n",
    "        loss = criterion(y_pred, target)\n",
    "\n",
    "        # measure accuracy and record loss\n",
    "        prec1, prec1 = accuracy2(y_pred.data, target.data, topk=(1, 1))\n",
    "        losses.update(loss.data[0], images.size(0))\n",
    "        acc.update(prec1[0], images.size(0))\n",
    "        \n",
    "        pred = y_pred.data.max(1)[1] # get the index of the max log-probability\n",
    "        correct += pred.eq(target.data).cpu().sum()\n",
    "        accuracy = 100. * correct / len(images)\n",
    "        \n",
    "        # compute gradient and do SGD step\n",
    "        optimizer.zero_grad()\n",
    "        loss.backward()\n",
    "        optimizer.step()\n",
    "\n",
    "        # measure elapsed time\n",
    "        batch_time.update(time.time() - end)\n",
    "        end = time.time()\n",
    "\n",
    "        if batch_idx % 200  == 0:\n",
    "            print('TRAIN: LOSS-->{loss.val:.4f} ({loss.avg:.4f})\\t' 'ACC-->{acc.val:.3f}% ({acc.avg:.3f}%)'.format(loss=losses, acc=acc))\n",
    "            if use_tensorboard:\n",
    "                exp.add_scalar_value('tr_epoch_loss', losses.avg, step=epoch)\n",
    "                exp.add_scalar_value('tr_epoch_acc', acc.avg, step=epoch)\n",
    "                \n",
    "            print('TRAIN: {} [{}/{} ({:.0f}%)]\\tLoss: {:.6f}, Accuracy: {}/{} ({:.3f}%)'.format(\n",
    "                epoch, batch_idx * len(images), len(train_loader.dataset),\n",
    "                100. * batch_idx / len(train_loader), loss.data[0],\n",
    "                correct, len(images),\n",
    "                accuracy))            \n",
    "    \n",
    "\n",
    "    return float('{loss.avg:.4f}'.format(loss=losses)), float('{acc.avg:.4f}'.format(acc=acc))\n",
    "\n",
    "def validate(val_loader, model, epoch):\n",
    "    if use_cuda:\n",
    "        model.cuda()\n",
    "        criterion.cuda()\n",
    "\n",
    "    batch_time = AverageMeter()\n",
    "    losses = AverageMeter()\n",
    "    acc = AverageMeter()\n",
    "\n",
    "    # switch to evaluate mode\n",
    "    model.eval()\n",
    "\n",
    "    end = time.time()\n",
    "    for i, (images, labels) in enumerate(val_loader):\n",
    "\n",
    "        if use_cuda:\n",
    "            images, labels = images.cuda(), labels.cuda()\n",
    "            images, labels = Variable(images, volatile=True), Variable(labels)\n",
    "\n",
    "        # compute y_pred\n",
    "        y_pred = model(images)\n",
    "        loss = criterion(y_pred, labels)\n",
    "\n",
    "        # measure accuracy and record loss\n",
    "        prec1, temp_var = accuracy2(y_pred.data, labels.data, topk=(1, 1))\n",
    "        losses.update(loss.data[0], images.size(0))\n",
    "        acc.update(prec1[0], images.size(0))\n",
    "\n",
    "        # measure elapsed time\n",
    "        batch_time.update(time.time() - end)\n",
    "        end = time.time()\n",
    "\n",
    "        if i % 200== 0:\n",
    "            print('VAL:   LOSS--> {loss.val:.4f} ({loss.avg:.4f})\\t''ACC-->{acc.val:.3f} ({acc.avg:.3f})'.format(loss=losses, acc=acc))\n",
    "\n",
    "        if i % 50 == 0:\n",
    "            if use_tensorboard:\n",
    "                exp.add_scalar_value('val_epoch_loss', losses.avg, step=epoch)\n",
    "                exp.add_scalar_value('val_epoch_acc', acc.avg, step=epoch)\n",
    "\n",
    "    print(' * Accuracy {acc.avg:.4f}'.format(acc=acc))\n",
    "    return float('{loss.avg:.6f}'.format(loss=losses)), float('{acc.avg:.6f}'.format(acc=acc))\n",
    "\n",
    "\n",
    "def testImageLoader(image_name):\n",
    "    \"\"\"load image, returns cuda tensor\"\"\"\n",
    "#     image = Image.open(image_name)\n",
    "    image = Image.open(image_name).convert('RGB')\n",
    "    image = test_trans(image)\n",
    "#     image = Variable(image, requires_grad=True)\n",
    "    image = image.unsqueeze(0)  \n",
    "    if use_cuda:\n",
    "#         print (\"cuda\")\n",
    "        image.cuda()         \n",
    "    return image  \n",
    "\n",
    "def testModel(test_dir, local_model):    \n",
    "    if use_cuda:\n",
    "        local_model.cuda()\n",
    "    \n",
    "    local_model.eval()\n",
    "    \n",
    "    columns = ['file', 'species']\n",
    "    df_pred = pd.DataFrame(data=np.zeros((0, len(columns))), columns=columns)\n",
    "#     df_pred.species.astype(int)\n",
    "    for index, row in (sample_submission.iterrows()):\n",
    "#         for file in os.listdir(test_dir):            \n",
    "        currImage=os.path.join(test_dir, row['file'])\n",
    "        if os.path.isfile(currImage):\n",
    "            X_tensor_test=testImageLoader (currImage)            \n",
    "#             print (type(X_tensor_test))\n",
    "            if use_cuda:\n",
    "                X_tensor_test = Variable(X_tensor_test.cuda()) \n",
    "            else:\n",
    "                X_tensor_test = Variable(X_tensor_test)        \n",
    "            \n",
    "            # get the index of the max log-probability\n",
    "            predicted_val = (local_model(X_tensor_test)).data.max(1)[1] # get the index of the max log-probability\n",
    "#             predicted_val = predicted_val.data.max(1, keepdim=True)[1]\n",
    "            p_test = (predicted_val.cpu().numpy().item())\n",
    "            df_pred = df_pred.append({'file': row['file'], 'species': num_to_class[int(p_test)]}, ignore_index=True)             \n",
    "    \n",
    "    return df_pred"
   ]
  },
  {
   "cell_type": "markdown",
   "metadata": {
    "colab_type": "text",
    "id": "rTtKoAUczpS6"
   },
   "source": [
    "### Train the model"
   ]
  },
  {
   "cell_type": "code",
   "execution_count": null,
   "metadata": {
    "colab": {
     "autoexec": {
      "startup": false,
      "wait_interval": 0
     },
     "output_extras": [
      {},
      {},
      {},
      {},
      {},
      {},
      {},
      {},
      {},
      {},
      {},
      {},
      {},
      {},
      {},
      {},
      {},
      {},
      {},
      {},
      {},
      {},
      {},
      {},
      {},
      {},
      {},
      {},
      {},
      {},
      {},
      {},
      {},
      {},
      {},
      {},
      {},
      {},
      {},
      {},
      {},
      {},
      {},
      {},
      {},
      {},
      {},
      {},
      {},
      {},
      {},
      {},
      {},
      {},
      {},
      {},
      {},
      {},
      {},
      {},
      {},
      {},
      {},
      {},
      {},
      {},
      {},
      {},
      {},
      {},
      {},
      {},
      {},
      {},
      {},
      {},
      {},
      {},
      {},
      {},
      {},
      {},
      {},
      {},
      {},
      {},
      {},
      {},
      {},
      {},
      {},
      {},
      {},
      {},
      {},
      {},
      {},
      {},
      {},
      {},
      {},
      {},
      {},
      {},
      {},
      {},
      {},
      {},
      {},
      {},
      {},
      {},
      {},
      {},
      {},
      {},
      {},
      {},
      {},
      {},
      {},
      {},
      {},
      {},
      {},
      {},
      {},
      {},
      {},
      {},
      {},
      {},
      {},
      {},
      {},
      {},
      {},
      {},
      {},
      {},
      {},
      {},
      {},
      {},
      {},
      {},
      {},
      {},
      {},
      {},
      {},
      {},
      {},
      {},
      {},
      {},
      {},
      {},
      {},
      {},
      {},
      {},
      {},
      {},
      {},
      {},
      {},
      {},
      {},
      {},
      {},
      {},
      {},
      {},
      {},
      {},
      {},
      {},
      {},
      {},
      {},
      {},
      {},
      {},
      {},
      {},
      {},
      {},
      {},
      {},
      {},
      {},
      {},
      {},
      {},
      {},
      {},
      {},
      {},
      {},
      {},
      {},
      {},
      {},
      {},
      {},
      {},
      {},
      {},
      {},
      {},
      {},
      {},
      {},
      {},
      {},
      {},
      {},
      {},
      {},
      {},
      {},
      {},
      {},
      {},
      {},
      {},
      {},
      {},
      {},
      {},
      {},
      {},
      {},
      {},
      {},
      {},
      {},
      {},
      {},
      {},
      {},
      {},
      {},
      {},
      {},
      {},
      {},
      {},
      {},
      {},
      {},
      {},
      {},
      {},
      {},
      {},
      {},
      {},
      {},
      {},
      {},
      {},
      {},
      {},
      {},
      {},
      {},
      {},
      {},
      {},
      {},
      {},
      {},
      {},
      {},
      {},
      {},
      {},
      {},
      {},
      {},
      {},
      {},
      {},
      {},
      {},
      {},
      {},
      {},
      {},
      {},
      {},
      {},
      {},
      {},
      {},
      {},
      {},
      {},
      {},
      {}
     ]
    },
    "colab_type": "code",
    "id": "tYY0L_BkzpS7",
    "outputId": "be6367a0-8bb0-485f-94c8-4ac8136bebe2"
   },
   "outputs": [
    {
     "name": "stdout",
     "output_type": "stream",
     "text": [
      "Random Seed: 2222\n",
      "python version : 3.6.2 |Anaconda custom (64-bit)| (default, Sep 19 2017, 08:03:39) [MSC v.1900 64 bit (AMD64)]\n",
      "torch  version : 0.3.1.post2\n",
      "cudnn  version : 7003\n",
      "=> Final model name 'DPN'\n",
      "MODEL: DPN\n",
      "dataset: seedlings\n",
      "    Total params: 35.01M\n",
      "MODEL: DPN\n"
     ]
    },
    {
     "name": "stderr",
     "output_type": "stream",
     "text": [
      "\r",
      "  0%|                                                                                                                                                           | 0/220 [00:00<?, ?it/s]"
     ]
    },
    {
     "name": "stdout",
     "output_type": "stream",
     "text": [
      "TRAIN: LOSS-->2.4876 (2.4876)\tACC-->0.000% (0.000%)\n",
      "TRAIN: 0 [0/4038 (0%)]\tLoss: 2.487592, Accuracy: 0/8 (0.000%)\n",
      "TRAIN: LOSS-->2.1794 (2.4797)\tACC-->25.000% (16.915%)\n",
      "TRAIN: 0 [1600/4038 (40%)]\tLoss: 2.179369, Accuracy: 2/8 (25.000%)\n",
      "TRAIN: LOSS-->1.8762 (2.3380)\tACC-->25.000% (20.667%)\n",
      "TRAIN: 0 [3200/4038 (79%)]\tLoss: 1.876172, Accuracy: 2/8 (25.000%)\n",
      "VAL:   LOSS--> 1.8210 (1.8210)\tACC-->37.500 (37.500)\n",
      " * Accuracy 31.4607\n"
     ]
    },
    {
     "name": "stderr",
     "output_type": "stream",
     "text": [
      "\r",
      "  0%|▋                                                                                                                                               | 1/220 [02:40<9:44:47, 160.21s/it]"
     ]
    },
    {
     "name": "stdout",
     "output_type": "stream",
     "text": [
      "TRAIN: LOSS-->2.8310 (2.8310)\tACC-->12.500% (12.500%)\n",
      "TRAIN: 1 [0/4038 (0%)]\tLoss: 2.830983, Accuracy: 1/8 (12.500%)\n",
      "TRAIN: LOSS-->1.8975 (2.0213)\tACC-->37.500% (31.032%)\n",
      "TRAIN: 1 [1600/4038 (40%)]\tLoss: 1.897545, Accuracy: 3/8 (37.500%)\n",
      "TRAIN: LOSS-->1.6882 (1.9702)\tACC-->50.000% (33.292%)\n",
      "TRAIN: 1 [3200/4038 (79%)]\tLoss: 1.688155, Accuracy: 4/8 (50.000%)\n",
      "VAL:   LOSS--> 1.0810 (1.0810)\tACC-->62.500 (62.500)\n",
      " * Accuracy 41.7135\n"
     ]
    },
    {
     "name": "stderr",
     "output_type": "stream",
     "text": [
      "\r",
      "  1%|█▎                                                                                                                                              | 2/220 [05:18<9:39:19, 159.45s/it]"
     ]
    },
    {
     "name": "stdout",
     "output_type": "stream",
     "text": [
      "TRAIN: LOSS-->2.7716 (2.7716)\tACC-->12.500% (12.500%)\n",
      "TRAIN: 2 [0/4038 (0%)]\tLoss: 2.771613, Accuracy: 1/8 (12.500%)\n",
      "TRAIN: LOSS-->2.1086 (1.8379)\tACC-->37.500% (36.505%)\n",
      "TRAIN: 2 [1600/4038 (40%)]\tLoss: 2.108582, Accuracy: 3/8 (37.500%)\n",
      "TRAIN: LOSS-->2.0125 (1.8215)\tACC-->25.000% (37.531%)\n",
      "TRAIN: 2 [3200/4038 (79%)]\tLoss: 2.012476, Accuracy: 2/8 (25.000%)\n",
      "VAL:   LOSS--> 1.2555 (1.2555)\tACC-->62.500 (62.500)\n",
      " * Accuracy 53.7921\n"
     ]
    },
    {
     "name": "stderr",
     "output_type": "stream",
     "text": [
      "\r",
      "  1%|█▉                                                                                                                                              | 3/220 [07:57<9:35:51, 159.22s/it]"
     ]
    },
    {
     "name": "stdout",
     "output_type": "stream",
     "text": [
      "TRAIN: LOSS-->1.5207 (1.5207)\tACC-->25.000% (25.000%)\n",
      "TRAIN: 3 [0/4038 (0%)]\tLoss: 1.520744, Accuracy: 2/8 (25.000%)\n",
      "TRAIN: LOSS-->1.4634 (1.6676)\tACC-->50.000% (42.724%)\n",
      "TRAIN: 3 [1600/4038 (40%)]\tLoss: 1.463439, Accuracy: 4/8 (50.000%)\n",
      "TRAIN: LOSS-->0.9793 (1.6502)\tACC-->75.000% (43.890%)\n",
      "TRAIN: 3 [3200/4038 (79%)]\tLoss: 0.979265, Accuracy: 6/8 (75.000%)\n",
      "VAL:   LOSS--> 1.0562 (1.0562)\tACC-->50.000 (50.000)\n",
      " * Accuracy 57.0225\n"
     ]
    },
    {
     "name": "stderr",
     "output_type": "stream",
     "text": [
      "\r",
      "  2%|██▌                                                                                                                                             | 4/220 [10:36<9:32:49, 159.12s/it]"
     ]
    },
    {
     "name": "stdout",
     "output_type": "stream",
     "text": [
      "TRAIN: LOSS-->1.2748 (1.2748)\tACC-->62.500% (62.500%)\n",
      "TRAIN: 4 [0/4038 (0%)]\tLoss: 1.274846, Accuracy: 5/8 (62.500%)\n",
      "TRAIN: LOSS-->2.0716 (1.5953)\tACC-->37.500% (44.341%)\n",
      "TRAIN: 4 [1600/4038 (40%)]\tLoss: 2.071552, Accuracy: 3/8 (37.500%)\n",
      "TRAIN: LOSS-->1.4450 (1.5777)\tACC-->62.500% (45.480%)\n",
      "TRAIN: 4 [3200/4038 (79%)]\tLoss: 1.445018, Accuracy: 5/8 (62.500%)\n",
      "VAL:   LOSS--> 1.3914 (1.3914)\tACC-->62.500 (62.500)\n",
      " * Accuracy 59.8315\n"
     ]
    },
    {
     "name": "stderr",
     "output_type": "stream",
     "text": [
      "\r",
      "  2%|███▎                                                                                                                                            | 5/220 [13:14<9:29:44, 159.00s/it]"
     ]
    },
    {
     "name": "stdout",
     "output_type": "stream",
     "text": [
      "TRAIN: LOSS-->1.3404 (1.3404)\tACC-->50.000% (50.000%)\n",
      "TRAIN: 5 [0/4038 (0%)]\tLoss: 1.340355, Accuracy: 4/8 (50.000%)\n",
      "TRAIN: LOSS-->1.8233 (1.4606)\tACC-->25.000% (48.694%)\n",
      "TRAIN: 5 [1600/4038 (40%)]\tLoss: 1.823300, Accuracy: 2/8 (25.000%)\n",
      "TRAIN: LOSS-->1.1691 (1.4411)\tACC-->50.000% (49.751%)\n",
      "TRAIN: 5 [3200/4038 (79%)]\tLoss: 1.169054, Accuracy: 4/8 (50.000%)\n",
      "VAL:   LOSS--> 0.6989 (0.6989)\tACC-->87.500 (87.500)\n",
      " * Accuracy 64.1854\n"
     ]
    },
    {
     "name": "stderr",
     "output_type": "stream",
     "text": [
      "\r",
      "  3%|███▉                                                                                                                                            | 6/220 [15:53<9:26:41, 158.89s/it]"
     ]
    },
    {
     "name": "stdout",
     "output_type": "stream",
     "text": [
      "TRAIN: LOSS-->0.9702 (0.9702)\tACC-->62.500% (62.500%)\n",
      "TRAIN: 6 [0/4038 (0%)]\tLoss: 0.970168, Accuracy: 5/8 (62.500%)\n",
      "TRAIN: LOSS-->1.1699 (1.3441)\tACC-->50.000% (54.104%)\n",
      "TRAIN: 6 [1600/4038 (40%)]\tLoss: 1.169942, Accuracy: 4/8 (50.000%)\n",
      "TRAIN: LOSS-->0.9112 (1.3153)\tACC-->75.000% (54.738%)\n",
      "TRAIN: 6 [3200/4038 (79%)]\tLoss: 0.911197, Accuracy: 6/8 (75.000%)\n",
      "VAL:   LOSS--> 1.2636 (1.2636)\tACC-->62.500 (62.500)\n",
      " * Accuracy 65.0281\n"
     ]
    },
    {
     "name": "stderr",
     "output_type": "stream",
     "text": [
      "\r",
      "  3%|████▌                                                                                                                                           | 7/220 [18:31<9:23:51, 158.83s/it]"
     ]
    },
    {
     "name": "stdout",
     "output_type": "stream",
     "text": [
      "TRAIN: LOSS-->1.7077 (1.7077)\tACC-->50.000% (50.000%)\n",
      "TRAIN: 7 [0/4038 (0%)]\tLoss: 1.707706, Accuracy: 4/8 (50.000%)\n",
      "TRAIN: LOSS-->2.2554 (1.2211)\tACC-->25.000% (59.017%)\n",
      "TRAIN: 7 [1600/4038 (40%)]\tLoss: 2.255445, Accuracy: 2/8 (25.000%)\n",
      "TRAIN: LOSS-->1.9064 (1.2368)\tACC-->37.500% (58.074%)\n",
      "TRAIN: 7 [3200/4038 (79%)]\tLoss: 1.906396, Accuracy: 3/8 (37.500%)\n",
      "VAL:   LOSS--> 0.1512 (0.1512)\tACC-->100.000 (100.000)\n",
      " * Accuracy 74.7191\n"
     ]
    },
    {
     "name": "stderr",
     "output_type": "stream",
     "text": [
      "\r",
      "  4%|█████▏                                                                                                                                          | 8/220 [21:09<9:20:51, 158.74s/it]"
     ]
    },
    {
     "name": "stdout",
     "output_type": "stream",
     "text": [
      "TRAIN: LOSS-->0.5032 (0.5032)\tACC-->87.500% (87.500%)\n",
      "TRAIN: 8 [0/4038 (0%)]\tLoss: 0.503199, Accuracy: 7/8 (87.500%)\n",
      "TRAIN: LOSS-->0.3627 (1.1634)\tACC-->100.000% (61.381%)\n",
      "TRAIN: 8 [1600/4038 (40%)]\tLoss: 0.362664, Accuracy: 8/8 (100.000%)\n",
      "TRAIN: LOSS-->1.0700 (1.1451)\tACC-->50.000% (61.908%)\n",
      "TRAIN: 8 [3200/4038 (79%)]\tLoss: 1.069963, Accuracy: 4/8 (50.000%)\n",
      "VAL:   LOSS--> 1.1663 (1.1663)\tACC-->75.000 (75.000)\n",
      " * Accuracy 76.1236\n"
     ]
    },
    {
     "name": "stderr",
     "output_type": "stream",
     "text": [
      "\r",
      "  4%|█████▉                                                                                                                                          | 9/220 [23:48<9:18:11, 158.73s/it]"
     ]
    },
    {
     "name": "stdout",
     "output_type": "stream",
     "text": [
      "TRAIN: LOSS-->1.1870 (1.1870)\tACC-->62.500% (62.500%)\n",
      "TRAIN: 9 [0/4038 (0%)]\tLoss: 1.187040, Accuracy: 5/8 (62.500%)\n",
      "TRAIN: LOSS-->2.2966 (1.1651)\tACC-->25.000% (60.945%)\n",
      "TRAIN: 9 [1600/4038 (40%)]\tLoss: 2.296613, Accuracy: 2/8 (25.000%)\n",
      "TRAIN: LOSS-->0.7222 (1.1183)\tACC-->75.000% (61.596%)\n",
      "TRAIN: 9 [3200/4038 (79%)]\tLoss: 0.722152, Accuracy: 6/8 (75.000%)\n",
      "VAL:   LOSS--> 0.3919 (0.3919)\tACC-->87.500 (87.500)\n",
      " * Accuracy 77.2472\n"
     ]
    },
    {
     "name": "stderr",
     "output_type": "stream",
     "text": [
      "\r",
      "  5%|██████▌                                                                                                                                        | 10/220 [26:27<9:15:33, 158.73s/it]"
     ]
    },
    {
     "name": "stdout",
     "output_type": "stream",
     "text": [
      "TRAIN: LOSS-->1.4551 (1.4551)\tACC-->25.000% (25.000%)\n",
      "TRAIN: 10 [0/4038 (0%)]\tLoss: 1.455114, Accuracy: 2/8 (25.000%)\n",
      "TRAIN: LOSS-->0.7128 (1.0018)\tACC-->75.000% (66.107%)\n",
      "TRAIN: 10 [1600/4038 (40%)]\tLoss: 0.712834, Accuracy: 6/8 (75.000%)\n",
      "TRAIN: LOSS-->0.4101 (1.0028)\tACC-->87.500% (66.739%)\n",
      "TRAIN: 10 [3200/4038 (79%)]\tLoss: 0.410130, Accuracy: 7/8 (87.500%)\n",
      "VAL:   LOSS--> 2.1863 (2.1863)\tACC-->62.500 (62.500)\n",
      " * Accuracy 71.2079\n"
     ]
    },
    {
     "name": "stderr",
     "output_type": "stream",
     "text": [
      "\r",
      "  5%|███████▏                                                                                                                                       | 11/220 [29:06<9:12:55, 158.73s/it]"
     ]
    },
    {
     "name": "stdout",
     "output_type": "stream",
     "text": [
      "TRAIN: LOSS-->1.5684 (1.5684)\tACC-->62.500% (62.500%)\n",
      "TRAIN: 11 [0/4038 (0%)]\tLoss: 1.568399, Accuracy: 5/8 (62.500%)\n",
      "TRAIN: LOSS-->0.9281 (1.0045)\tACC-->62.500% (65.050%)\n",
      "TRAIN: 11 [1600/4038 (40%)]\tLoss: 0.928113, Accuracy: 5/8 (62.500%)\n",
      "TRAIN: LOSS-->1.0517 (0.9974)\tACC-->50.000% (65.680%)\n",
      "TRAIN: 11 [3200/4038 (79%)]\tLoss: 1.051731, Accuracy: 4/8 (50.000%)\n",
      "VAL:   LOSS--> 0.7237 (0.7237)\tACC-->75.000 (75.000)\n",
      " * Accuracy 81.1798\n"
     ]
    },
    {
     "name": "stderr",
     "output_type": "stream",
     "text": [
      "\r",
      "  5%|███████▊                                                                                                                                       | 12/220 [31:44<9:10:10, 158.71s/it]"
     ]
    },
    {
     "name": "stdout",
     "output_type": "stream",
     "text": [
      "TRAIN: LOSS-->0.9507 (0.9507)\tACC-->75.000% (75.000%)\n",
      "TRAIN: 12 [0/4038 (0%)]\tLoss: 0.950652, Accuracy: 6/8 (75.000%)\n",
      "TRAIN: LOSS-->0.4818 (0.9331)\tACC-->75.000% (67.973%)\n",
      "TRAIN: 12 [1600/4038 (40%)]\tLoss: 0.481806, Accuracy: 6/8 (75.000%)\n",
      "TRAIN: LOSS-->1.1790 (0.9234)\tACC-->62.500% (68.547%)\n",
      "TRAIN: 12 [3200/4038 (79%)]\tLoss: 1.178977, Accuracy: 5/8 (62.500%)\n",
      "VAL:   LOSS--> 0.3664 (0.3664)\tACC-->87.500 (87.500)\n",
      " * Accuracy 71.9101\n"
     ]
    },
    {
     "name": "stderr",
     "output_type": "stream",
     "text": [
      "\r",
      "  6%|████████▍                                                                                                                                      | 13/220 [34:23<9:07:30, 158.70s/it]"
     ]
    },
    {
     "name": "stdout",
     "output_type": "stream",
     "text": [
      "TRAIN: LOSS-->1.0658 (1.0658)\tACC-->62.500% (62.500%)\n",
      "TRAIN: 13 [0/4038 (0%)]\tLoss: 1.065802, Accuracy: 5/8 (62.500%)\n",
      "TRAIN: LOSS-->0.8818 (0.9136)\tACC-->50.000% (68.532%)\n",
      "TRAIN: 13 [1600/4038 (40%)]\tLoss: 0.881802, Accuracy: 4/8 (50.000%)\n",
      "TRAIN: LOSS-->0.8210 (0.9162)\tACC-->62.500% (68.392%)\n",
      "TRAIN: 13 [3200/4038 (79%)]\tLoss: 0.821032, Accuracy: 5/8 (62.500%)\n",
      "VAL:   LOSS--> 0.4501 (0.4501)\tACC-->87.500 (87.500)\n",
      " * Accuracy 82.7247\n"
     ]
    },
    {
     "name": "stderr",
     "output_type": "stream",
     "text": [
      "\r",
      "  6%|█████████                                                                                                                                      | 14/220 [37:01<9:04:53, 158.71s/it]"
     ]
    },
    {
     "name": "stdout",
     "output_type": "stream",
     "text": [
      "TRAIN: LOSS-->1.2219 (1.2219)\tACC-->75.000% (75.000%)\n",
      "TRAIN: 14 [0/4038 (0%)]\tLoss: 1.221859, Accuracy: 6/8 (75.000%)\n",
      "TRAIN: LOSS-->1.4146 (0.8367)\tACC-->50.000% (72.388%)\n",
      "TRAIN: 14 [1600/4038 (40%)]\tLoss: 1.414559, Accuracy: 4/8 (50.000%)\n",
      "TRAIN: LOSS-->1.0058 (0.8549)\tACC-->87.500% (71.072%)\n",
      "TRAIN: 14 [3200/4038 (79%)]\tLoss: 1.005817, Accuracy: 7/8 (87.500%)\n",
      "VAL:   LOSS--> 0.1154 (0.1154)\tACC-->100.000 (100.000)\n",
      " * Accuracy 86.0955\n"
     ]
    },
    {
     "name": "stderr",
     "output_type": "stream",
     "text": [
      "\r",
      "  7%|█████████▊                                                                                                                                     | 15/220 [39:40<9:02:10, 158.68s/it]"
     ]
    },
    {
     "name": "stdout",
     "output_type": "stream",
     "text": [
      "TRAIN: LOSS-->1.0150 (1.0150)\tACC-->62.500% (62.500%)\n",
      "TRAIN: 15 [0/4038 (0%)]\tLoss: 1.015031, Accuracy: 5/8 (62.500%)\n",
      "TRAIN: LOSS-->1.2241 (0.8620)\tACC-->50.000% (70.087%)\n",
      "TRAIN: 15 [1600/4038 (40%)]\tLoss: 1.224064, Accuracy: 4/8 (50.000%)\n",
      "TRAIN: LOSS-->0.6226 (0.8478)\tACC-->75.000% (70.948%)\n",
      "TRAIN: 15 [3200/4038 (79%)]\tLoss: 0.622630, Accuracy: 6/8 (75.000%)\n",
      "VAL:   LOSS--> 0.4759 (0.4759)\tACC-->87.500 (87.500)\n",
      " * Accuracy 83.5674\n"
     ]
    },
    {
     "name": "stderr",
     "output_type": "stream",
     "text": [
      "\r",
      "  7%|██████████▍                                                                                                                                    | 16/220 [42:18<8:59:30, 158.68s/it]"
     ]
    },
    {
     "name": "stdout",
     "output_type": "stream",
     "text": [
      "TRAIN: LOSS-->0.2623 (0.2623)\tACC-->100.000% (100.000%)\n",
      "TRAIN: 16 [0/4038 (0%)]\tLoss: 0.262262, Accuracy: 8/8 (100.000%)\n",
      "TRAIN: LOSS-->0.3827 (0.8036)\tACC-->100.000% (72.201%)\n",
      "TRAIN: 16 [1600/4038 (40%)]\tLoss: 0.382695, Accuracy: 8/8 (100.000%)\n",
      "TRAIN: LOSS-->0.4776 (0.8006)\tACC-->75.000% (72.319%)\n",
      "TRAIN: 16 [3200/4038 (79%)]\tLoss: 0.477594, Accuracy: 6/8 (75.000%)\n",
      "VAL:   LOSS--> 1.4568 (1.4568)\tACC-->62.500 (62.500)\n",
      " * Accuracy 83.2865\n"
     ]
    },
    {
     "name": "stderr",
     "output_type": "stream",
     "text": [
      "\r",
      "  8%|███████████                                                                                                                                    | 17/220 [44:56<8:56:35, 158.60s/it]"
     ]
    },
    {
     "name": "stdout",
     "output_type": "stream",
     "text": [
      "TRAIN: LOSS-->1.0967 (1.0967)\tACC-->75.000% (75.000%)\n",
      "TRAIN: 17 [0/4038 (0%)]\tLoss: 1.096667, Accuracy: 6/8 (75.000%)\n",
      "TRAIN: LOSS-->0.2692 (0.7729)\tACC-->87.500% (73.383%)\n",
      "TRAIN: 17 [1600/4038 (40%)]\tLoss: 0.269154, Accuracy: 7/8 (87.500%)\n",
      "TRAIN: LOSS-->0.5624 (0.7767)\tACC-->62.500% (73.473%)\n",
      "TRAIN: 17 [3200/4038 (79%)]\tLoss: 0.562419, Accuracy: 5/8 (62.500%)\n",
      "VAL:   LOSS--> 0.1509 (0.1509)\tACC-->87.500 (87.500)\n",
      " * Accuracy 86.7978\n"
     ]
    },
    {
     "name": "stderr",
     "output_type": "stream",
     "text": [
      "\r",
      "  8%|███████████▋                                                                                                                                   | 18/220 [47:34<8:53:54, 158.59s/it]"
     ]
    },
    {
     "name": "stdout",
     "output_type": "stream",
     "text": [
      "TRAIN: LOSS-->0.2461 (0.2461)\tACC-->100.000% (100.000%)\n",
      "TRAIN: 18 [0/4038 (0%)]\tLoss: 0.246105, Accuracy: 8/8 (100.000%)\n",
      "TRAIN: LOSS-->0.8146 (0.7841)\tACC-->62.500% (73.756%)\n",
      "TRAIN: 18 [1600/4038 (40%)]\tLoss: 0.814622, Accuracy: 5/8 (62.500%)\n",
      "TRAIN: LOSS-->1.6855 (0.7727)\tACC-->50.000% (74.002%)\n",
      "TRAIN: 18 [3200/4038 (79%)]\tLoss: 1.685504, Accuracy: 4/8 (50.000%)\n",
      "VAL:   LOSS--> 2.2272 (2.2272)\tACC-->75.000 (75.000)\n",
      " * Accuracy 86.3764\n"
     ]
    },
    {
     "name": "stderr",
     "output_type": "stream",
     "text": [
      "\r",
      "  9%|████████████▎                                                                                                                                  | 19/220 [50:13<8:51:15, 158.59s/it]"
     ]
    },
    {
     "name": "stdout",
     "output_type": "stream",
     "text": [
      "TRAIN: LOSS-->0.4714 (0.4714)\tACC-->75.000% (75.000%)\n",
      "TRAIN: 19 [0/4038 (0%)]\tLoss: 0.471412, Accuracy: 6/8 (75.000%)\n",
      "TRAIN: LOSS-->0.0972 (0.7326)\tACC-->100.000% (74.751%)\n",
      "TRAIN: 19 [1600/4038 (40%)]\tLoss: 0.097229, Accuracy: 8/8 (100.000%)\n",
      "TRAIN: LOSS-->0.6978 (0.7398)\tACC-->87.500% (74.688%)\n",
      "TRAIN: 19 [3200/4038 (79%)]\tLoss: 0.697793, Accuracy: 7/8 (87.500%)\n",
      "VAL:   LOSS--> 0.1831 (0.1831)\tACC-->100.000 (100.000)\n",
      " * Accuracy 87.9213\n"
     ]
    },
    {
     "name": "stderr",
     "output_type": "stream",
     "text": [
      "\r",
      "  9%|█████████████                                                                                                                                  | 20/220 [52:51<8:48:36, 158.58s/it]"
     ]
    },
    {
     "name": "stdout",
     "output_type": "stream",
     "text": [
      "TRAIN: LOSS-->0.7707 (0.7707)\tACC-->87.500% (87.500%)\n",
      "TRAIN: 20 [0/4038 (0%)]\tLoss: 0.770720, Accuracy: 7/8 (87.500%)\n",
      "TRAIN: LOSS-->0.3477 (0.7528)\tACC-->100.000% (73.756%)\n",
      "TRAIN: 20 [1600/4038 (40%)]\tLoss: 0.347696, Accuracy: 8/8 (100.000%)\n",
      "TRAIN: LOSS-->0.5601 (0.7514)\tACC-->75.000% (73.847%)\n",
      "TRAIN: 20 [3200/4038 (79%)]\tLoss: 0.560067, Accuracy: 6/8 (75.000%)\n",
      "VAL:   LOSS--> 0.1043 (0.1043)\tACC-->100.000 (100.000)\n",
      " * Accuracy 85.1124\n"
     ]
    },
    {
     "name": "stderr",
     "output_type": "stream",
     "text": [
      "\r",
      " 10%|█████████████▋                                                                                                                                 | 21/220 [55:30<8:45:57, 158.58s/it]"
     ]
    },
    {
     "name": "stdout",
     "output_type": "stream",
     "text": [
      "TRAIN: LOSS-->1.5033 (1.5033)\tACC-->62.500% (62.500%)\n",
      "TRAIN: 21 [0/4038 (0%)]\tLoss: 1.503293, Accuracy: 5/8 (62.500%)\n",
      "TRAIN: LOSS-->0.4670 (0.7370)\tACC-->87.500% (75.560%)\n",
      "TRAIN: 21 [1600/4038 (40%)]\tLoss: 0.466959, Accuracy: 7/8 (87.500%)\n",
      "TRAIN: LOSS-->2.0581 (0.7498)\tACC-->50.000% (74.532%)\n",
      "TRAIN: 21 [3200/4038 (79%)]\tLoss: 2.058067, Accuracy: 4/8 (50.000%)\n",
      "VAL:   LOSS--> 0.7338 (0.7338)\tACC-->87.500 (87.500)\n",
      " * Accuracy 83.5674\n"
     ]
    },
    {
     "name": "stderr",
     "output_type": "stream",
     "text": [
      "\r",
      " 10%|██████████████▎                                                                                                                                | 22/220 [58:08<8:43:16, 158.57s/it]"
     ]
    },
    {
     "name": "stdout",
     "output_type": "stream",
     "text": [
      "TRAIN: LOSS-->0.7509 (0.7509)\tACC-->75.000% (75.000%)\n",
      "TRAIN: 22 [0/4038 (0%)]\tLoss: 0.750878, Accuracy: 6/8 (75.000%)\n",
      "TRAIN: LOSS-->1.0479 (0.7723)\tACC-->75.000% (73.259%)\n",
      "TRAIN: 22 [1600/4038 (40%)]\tLoss: 1.047857, Accuracy: 6/8 (75.000%)\n",
      "TRAIN: LOSS-->0.8517 (0.7184)\tACC-->62.500% (75.125%)\n",
      "TRAIN: 22 [3200/4038 (79%)]\tLoss: 0.851660, Accuracy: 5/8 (62.500%)\n",
      "VAL:   LOSS--> 0.4150 (0.4150)\tACC-->75.000 (75.000)\n",
      " * Accuracy 88.4831\n"
     ]
    },
    {
     "name": "stderr",
     "output_type": "stream",
     "text": [
      "\r",
      " 10%|██████████████▋                                                                                                                              | 23/220 [1:00:45<8:40:28, 158.52s/it]"
     ]
    },
    {
     "name": "stdout",
     "output_type": "stream",
     "text": [
      "TRAIN: LOSS-->0.7339 (0.7339)\tACC-->87.500% (87.500%)\n",
      "TRAIN: 23 [0/4038 (0%)]\tLoss: 0.733872, Accuracy: 7/8 (87.500%)\n",
      "TRAIN: LOSS-->0.8662 (0.6669)\tACC-->50.000% (76.368%)\n",
      "TRAIN: 23 [1600/4038 (40%)]\tLoss: 0.866202, Accuracy: 4/8 (50.000%)\n",
      "TRAIN: LOSS-->0.7679 (0.6691)\tACC-->62.500% (76.808%)\n",
      "TRAIN: 23 [3200/4038 (79%)]\tLoss: 0.767851, Accuracy: 5/8 (62.500%)\n",
      "VAL:   LOSS--> 0.5422 (0.5422)\tACC-->75.000 (75.000)\n",
      " * Accuracy 87.2191\n"
     ]
    },
    {
     "name": "stderr",
     "output_type": "stream",
     "text": [
      "\r",
      " 11%|███████████████▍                                                                                                                             | 24/220 [1:03:24<8:37:49, 158.52s/it]"
     ]
    },
    {
     "name": "stdout",
     "output_type": "stream",
     "text": [
      "TRAIN: LOSS-->0.3651 (0.3651)\tACC-->87.500% (87.500%)\n",
      "TRAIN: 24 [0/4038 (0%)]\tLoss: 0.365087, Accuracy: 7/8 (87.500%)\n",
      "TRAIN: LOSS-->0.8618 (0.6649)\tACC-->75.000% (77.612%)\n",
      "TRAIN: 24 [1600/4038 (40%)]\tLoss: 0.861804, Accuracy: 6/8 (75.000%)\n",
      "TRAIN: LOSS-->0.4945 (0.6519)\tACC-->87.500% (77.837%)\n",
      "TRAIN: 24 [3200/4038 (79%)]\tLoss: 0.494465, Accuracy: 7/8 (87.500%)\n",
      "VAL:   LOSS--> 0.0369 (0.0369)\tACC-->100.000 (100.000)\n",
      " * Accuracy 88.4831\n"
     ]
    },
    {
     "name": "stderr",
     "output_type": "stream",
     "text": [
      "\r",
      " 11%|████████████████                                                                                                                             | 25/220 [1:06:02<8:35:10, 158.51s/it]"
     ]
    },
    {
     "name": "stdout",
     "output_type": "stream",
     "text": [
      "TRAIN: LOSS-->0.7208 (0.7208)\tACC-->75.000% (75.000%)\n",
      "TRAIN: 25 [0/4038 (0%)]\tLoss: 0.720845, Accuracy: 6/8 (75.000%)\n",
      "TRAIN: LOSS-->0.7865 (0.5862)\tACC-->62.500% (79.726%)\n",
      "TRAIN: 25 [1600/4038 (40%)]\tLoss: 0.786525, Accuracy: 5/8 (62.500%)\n",
      "TRAIN: LOSS-->1.2589 (0.6480)\tACC-->62.500% (77.868%)\n",
      "TRAIN: 25 [3200/4038 (79%)]\tLoss: 1.258940, Accuracy: 5/8 (62.500%)\n",
      "VAL:   LOSS--> 0.6194 (0.6194)\tACC-->87.500 (87.500)\n",
      " * Accuracy 83.4270\n"
     ]
    },
    {
     "name": "stderr",
     "output_type": "stream",
     "text": [
      "\r",
      " 12%|████████████████▋                                                                                                                            | 26/220 [1:08:41<8:32:31, 158.51s/it]"
     ]
    },
    {
     "name": "stdout",
     "output_type": "stream",
     "text": [
      "TRAIN: LOSS-->0.3341 (0.3341)\tACC-->100.000% (100.000%)\n",
      "TRAIN: 26 [0/4038 (0%)]\tLoss: 0.334062, Accuracy: 8/8 (100.000%)\n",
      "TRAIN: LOSS-->0.1332 (0.6668)\tACC-->100.000% (77.550%)\n",
      "TRAIN: 26 [1600/4038 (40%)]\tLoss: 0.133206, Accuracy: 8/8 (100.000%)\n",
      "TRAIN: LOSS-->1.4049 (0.6474)\tACC-->50.000% (78.180%)\n",
      "TRAIN: 26 [3200/4038 (79%)]\tLoss: 1.404896, Accuracy: 4/8 (50.000%)\n",
      "VAL:   LOSS--> 0.1563 (0.1563)\tACC-->100.000 (100.000)\n",
      " * Accuracy 89.3258\n"
     ]
    },
    {
     "name": "stderr",
     "output_type": "stream",
     "text": [
      "\r",
      " 12%|█████████████████▎                                                                                                                           | 27/220 [1:11:19<8:29:53, 158.52s/it]"
     ]
    },
    {
     "name": "stdout",
     "output_type": "stream",
     "text": [
      "TRAIN: LOSS-->1.3684 (1.3684)\tACC-->75.000% (75.000%)\n",
      "TRAIN: 27 [0/4038 (0%)]\tLoss: 1.368351, Accuracy: 6/8 (75.000%)\n",
      "TRAIN: LOSS-->0.4802 (0.6064)\tACC-->87.500% (79.291%)\n",
      "TRAIN: 27 [1600/4038 (40%)]\tLoss: 0.480216, Accuracy: 7/8 (87.500%)\n",
      "TRAIN: LOSS-->0.5553 (0.6132)\tACC-->87.500% (79.676%)\n",
      "TRAIN: 27 [3200/4038 (79%)]\tLoss: 0.555335, Accuracy: 7/8 (87.500%)\n",
      "VAL:   LOSS--> 0.0119 (0.0119)\tACC-->100.000 (100.000)\n",
      " * Accuracy 90.1685\n"
     ]
    },
    {
     "name": "stderr",
     "output_type": "stream",
     "text": [
      "\r",
      " 13%|█████████████████▉                                                                                                                           | 28/220 [1:13:58<8:27:13, 158.51s/it]"
     ]
    },
    {
     "name": "stdout",
     "output_type": "stream",
     "text": [
      "TRAIN: LOSS-->0.7362 (0.7362)\tACC-->87.500% (87.500%)\n",
      "TRAIN: 28 [0/4038 (0%)]\tLoss: 0.736203, Accuracy: 7/8 (87.500%)\n",
      "TRAIN: LOSS-->0.5797 (0.6161)\tACC-->75.000% (78.545%)\n",
      "TRAIN: 28 [1600/4038 (40%)]\tLoss: 0.579736, Accuracy: 6/8 (75.000%)\n",
      "TRAIN: LOSS-->0.4981 (0.6077)\tACC-->75.000% (78.897%)\n",
      "TRAIN: 28 [3200/4038 (79%)]\tLoss: 0.498088, Accuracy: 6/8 (75.000%)\n",
      "VAL:   LOSS--> 0.0686 (0.0686)\tACC-->100.000 (100.000)\n",
      " * Accuracy 88.4831\n"
     ]
    },
    {
     "name": "stderr",
     "output_type": "stream",
     "text": [
      "\r",
      " 13%|██████████████████▌                                                                                                                          | 29/220 [1:16:36<8:24:30, 158.49s/it]"
     ]
    },
    {
     "name": "stdout",
     "output_type": "stream",
     "text": [
      "TRAIN: LOSS-->1.0864 (1.0864)\tACC-->62.500% (62.500%)\n",
      "TRAIN: 29 [0/4038 (0%)]\tLoss: 1.086436, Accuracy: 5/8 (62.500%)\n",
      "TRAIN: LOSS-->0.5384 (0.6192)\tACC-->75.000% (77.923%)\n",
      "TRAIN: 29 [1600/4038 (40%)]\tLoss: 0.538437, Accuracy: 6/8 (75.000%)\n",
      "TRAIN: LOSS-->0.3111 (0.6110)\tACC-->87.500% (78.772%)\n",
      "TRAIN: 29 [3200/4038 (79%)]\tLoss: 0.311078, Accuracy: 7/8 (87.500%)\n",
      "VAL:   LOSS--> 0.0313 (0.0313)\tACC-->100.000 (100.000)\n",
      " * Accuracy 90.4494\n"
     ]
    },
    {
     "name": "stderr",
     "output_type": "stream",
     "text": [
      "\r",
      " 14%|███████████████████▏                                                                                                                         | 30/220 [1:19:14<8:21:51, 158.48s/it]"
     ]
    },
    {
     "name": "stdout",
     "output_type": "stream",
     "text": [
      "TRAIN: LOSS-->0.3601 (0.3601)\tACC-->87.500% (87.500%)\n",
      "TRAIN: 30 [0/4038 (0%)]\tLoss: 0.360064, Accuracy: 7/8 (87.500%)\n",
      "TRAIN: LOSS-->0.0580 (0.5852)\tACC-->100.000% (80.037%)\n",
      "TRAIN: 30 [1600/4038 (40%)]\tLoss: 0.058009, Accuracy: 8/8 (100.000%)\n",
      "TRAIN: LOSS-->0.3554 (0.5974)\tACC-->87.500% (79.769%)\n",
      "TRAIN: 30 [3200/4038 (79%)]\tLoss: 0.355421, Accuracy: 7/8 (87.500%)\n",
      "VAL:   LOSS--> 0.1567 (0.1567)\tACC-->87.500 (87.500)\n",
      " * Accuracy 91.4326\n"
     ]
    },
    {
     "name": "stderr",
     "output_type": "stream",
     "text": [
      "\r",
      " 14%|███████████████████▊                                                                                                                         | 31/220 [1:21:52<8:19:13, 158.48s/it]"
     ]
    },
    {
     "name": "stdout",
     "output_type": "stream",
     "text": [
      "TRAIN: LOSS-->0.7845 (0.7845)\tACC-->75.000% (75.000%)\n",
      "TRAIN: 31 [0/4038 (0%)]\tLoss: 0.784500, Accuracy: 6/8 (75.000%)\n",
      "TRAIN: LOSS-->0.1038 (0.5976)\tACC-->100.000% (79.913%)\n",
      "TRAIN: 31 [1600/4038 (40%)]\tLoss: 0.103761, Accuracy: 8/8 (100.000%)\n",
      "TRAIN: LOSS-->0.3827 (0.5729)\tACC-->87.500% (80.330%)\n",
      "TRAIN: 31 [3200/4038 (79%)]\tLoss: 0.382701, Accuracy: 7/8 (87.500%)\n",
      "VAL:   LOSS--> 0.2447 (0.2447)\tACC-->87.500 (87.500)\n",
      " * Accuracy 89.4663\n"
     ]
    },
    {
     "name": "stderr",
     "output_type": "stream",
     "text": [
      "\r",
      " 15%|████████████████████▌                                                                                                                        | 32/220 [1:24:31<8:16:34, 158.48s/it]"
     ]
    },
    {
     "name": "stdout",
     "output_type": "stream",
     "text": [
      "TRAIN: LOSS-->0.2890 (0.2890)\tACC-->100.000% (100.000%)\n",
      "TRAIN: 32 [0/4038 (0%)]\tLoss: 0.288984, Accuracy: 8/8 (100.000%)\n",
      "TRAIN: LOSS-->0.6913 (0.5502)\tACC-->75.000% (80.908%)\n",
      "TRAIN: 32 [1600/4038 (40%)]\tLoss: 0.691340, Accuracy: 6/8 (75.000%)\n",
      "TRAIN: LOSS-->1.6745 (0.5750)\tACC-->62.500% (80.143%)\n",
      "TRAIN: 32 [3200/4038 (79%)]\tLoss: 1.674517, Accuracy: 5/8 (62.500%)\n",
      "VAL:   LOSS--> 0.4731 (0.4731)\tACC-->87.500 (87.500)\n",
      " * Accuracy 88.7640\n"
     ]
    },
    {
     "name": "stderr",
     "output_type": "stream",
     "text": [
      "\r",
      " 15%|█████████████████████▏                                                                                                                       | 33/220 [1:27:09<8:13:51, 158.46s/it]"
     ]
    },
    {
     "name": "stdout",
     "output_type": "stream",
     "text": [
      "TRAIN: LOSS-->0.3376 (0.3376)\tACC-->100.000% (100.000%)\n",
      "TRAIN: 33 [0/4038 (0%)]\tLoss: 0.337613, Accuracy: 8/8 (100.000%)\n",
      "TRAIN: LOSS-->0.6249 (0.5353)\tACC-->75.000% (80.970%)\n",
      "TRAIN: 33 [1600/4038 (40%)]\tLoss: 0.624945, Accuracy: 6/8 (75.000%)\n",
      "TRAIN: LOSS-->0.5492 (0.5574)\tACC-->75.000% (80.299%)\n",
      "TRAIN: 33 [3200/4038 (79%)]\tLoss: 0.549189, Accuracy: 6/8 (75.000%)\n",
      "VAL:   LOSS--> 0.6393 (0.6393)\tACC-->75.000 (75.000)\n",
      " * Accuracy 87.0787\n"
     ]
    },
    {
     "name": "stderr",
     "output_type": "stream",
     "text": [
      "\r",
      " 15%|█████████████████████▊                                                                                                                       | 34/220 [1:29:46<8:11:09, 158.44s/it]"
     ]
    },
    {
     "name": "stdout",
     "output_type": "stream",
     "text": [
      "TRAIN: LOSS-->1.1823 (1.1823)\tACC-->75.000% (75.000%)\n",
      "TRAIN: 34 [0/4038 (0%)]\tLoss: 1.182288, Accuracy: 6/8 (75.000%)\n",
      "TRAIN: LOSS-->1.0723 (0.5423)\tACC-->62.500% (81.032%)\n",
      "TRAIN: 34 [1600/4038 (40%)]\tLoss: 1.072342, Accuracy: 5/8 (62.500%)\n",
      "TRAIN: LOSS-->0.3356 (0.5869)\tACC-->87.500% (80.081%)\n",
      "TRAIN: 34 [3200/4038 (79%)]\tLoss: 0.335611, Accuracy: 7/8 (87.500%)\n",
      "VAL:   LOSS--> 1.0279 (1.0279)\tACC-->62.500 (62.500)\n",
      " * Accuracy 87.9213\n"
     ]
    },
    {
     "name": "stderr",
     "output_type": "stream",
     "text": [
      "\r",
      " 16%|██████████████████████▍                                                                                                                      | 35/220 [1:32:25<8:08:32, 158.45s/it]"
     ]
    },
    {
     "name": "stdout",
     "output_type": "stream",
     "text": [
      "TRAIN: LOSS-->0.1428 (0.1428)\tACC-->100.000% (100.000%)\n",
      "TRAIN: 35 [0/4038 (0%)]\tLoss: 0.142822, Accuracy: 8/8 (100.000%)\n",
      "TRAIN: LOSS-->0.6747 (0.5413)\tACC-->62.500% (80.659%)\n",
      "TRAIN: 35 [1600/4038 (40%)]\tLoss: 0.674741, Accuracy: 5/8 (62.500%)\n",
      "TRAIN: LOSS-->1.1746 (0.5480)\tACC-->62.500% (80.330%)\n",
      "TRAIN: 35 [3200/4038 (79%)]\tLoss: 1.174597, Accuracy: 5/8 (62.500%)\n",
      "VAL:   LOSS--> 0.4509 (0.4509)\tACC-->75.000 (75.000)\n",
      " * Accuracy 85.6742\n"
     ]
    },
    {
     "name": "stderr",
     "output_type": "stream",
     "text": [
      "\r",
      " 16%|███████████████████████                                                                                                                      | 36/220 [1:35:04<8:05:56, 158.46s/it]"
     ]
    },
    {
     "name": "stdout",
     "output_type": "stream",
     "text": [
      "TRAIN: LOSS-->0.3133 (0.3133)\tACC-->87.500% (87.500%)\n",
      "TRAIN: 36 [0/4038 (0%)]\tLoss: 0.313309, Accuracy: 7/8 (87.500%)\n",
      "TRAIN: LOSS-->0.2356 (0.5284)\tACC-->87.500% (80.970%)\n",
      "TRAIN: 36 [1600/4038 (40%)]\tLoss: 0.235556, Accuracy: 7/8 (87.500%)\n",
      "TRAIN: LOSS-->0.2421 (0.5227)\tACC-->87.500% (81.203%)\n",
      "TRAIN: 36 [3200/4038 (79%)]\tLoss: 0.242138, Accuracy: 7/8 (87.500%)\n",
      "VAL:   LOSS--> 0.2892 (0.2892)\tACC-->87.500 (87.500)\n",
      " * Accuracy 89.4663\n"
     ]
    },
    {
     "name": "stderr",
     "output_type": "stream",
     "text": [
      "\r",
      " 17%|███████████████████████▋                                                                                                                     | 37/220 [1:37:42<8:03:14, 158.44s/it]"
     ]
    },
    {
     "name": "stdout",
     "output_type": "stream",
     "text": [
      "TRAIN: LOSS-->0.6429 (0.6429)\tACC-->62.500% (62.500%)\n",
      "TRAIN: 37 [0/4038 (0%)]\tLoss: 0.642876, Accuracy: 5/8 (62.500%)\n",
      "TRAIN: LOSS-->0.2260 (0.5198)\tACC-->87.500% (82.400%)\n",
      "TRAIN: 37 [1600/4038 (40%)]\tLoss: 0.225956, Accuracy: 7/8 (87.500%)\n",
      "TRAIN: LOSS-->0.7678 (0.5377)\tACC-->75.000% (80.673%)\n",
      "TRAIN: 37 [3200/4038 (79%)]\tLoss: 0.767797, Accuracy: 6/8 (75.000%)\n",
      "VAL:   LOSS--> 0.0160 (0.0160)\tACC-->100.000 (100.000)\n",
      " * Accuracy 92.5562\n"
     ]
    },
    {
     "name": "stderr",
     "output_type": "stream",
     "text": [
      "\r",
      " 17%|████████████████████████▎                                                                                                                    | 38/220 [1:40:19<8:00:32, 158.42s/it]"
     ]
    },
    {
     "name": "stdout",
     "output_type": "stream",
     "text": [
      "TRAIN: LOSS-->0.3975 (0.3975)\tACC-->87.500% (87.500%)\n",
      "TRAIN: 38 [0/4038 (0%)]\tLoss: 0.397479, Accuracy: 7/8 (87.500%)\n",
      "TRAIN: LOSS-->1.1974 (0.4884)\tACC-->62.500% (82.400%)\n",
      "TRAIN: 38 [1600/4038 (40%)]\tLoss: 1.197354, Accuracy: 5/8 (62.500%)\n",
      "TRAIN: LOSS-->0.2060 (0.4993)\tACC-->100.000% (82.170%)\n",
      "TRAIN: 38 [3200/4038 (79%)]\tLoss: 0.206001, Accuracy: 8/8 (100.000%)\n",
      "VAL:   LOSS--> 0.0015 (0.0015)\tACC-->100.000 (100.000)\n",
      " * Accuracy 92.5562\n"
     ]
    },
    {
     "name": "stderr",
     "output_type": "stream",
     "text": [
      "\r",
      " 18%|████████████████████████▉                                                                                                                    | 39/220 [1:42:58<7:57:54, 158.42s/it]"
     ]
    },
    {
     "name": "stdout",
     "output_type": "stream",
     "text": [
      "TRAIN: LOSS-->0.5254 (0.5254)\tACC-->87.500% (87.500%)\n",
      "TRAIN: 39 [0/4038 (0%)]\tLoss: 0.525439, Accuracy: 7/8 (87.500%)\n",
      "TRAIN: LOSS-->0.5597 (0.4937)\tACC-->75.000% (82.960%)\n",
      "TRAIN: 39 [1600/4038 (40%)]\tLoss: 0.559654, Accuracy: 6/8 (75.000%)\n",
      "TRAIN: LOSS-->0.8585 (0.4948)\tACC-->62.500% (83.074%)\n",
      "TRAIN: 39 [3200/4038 (79%)]\tLoss: 0.858452, Accuracy: 5/8 (62.500%)\n",
      "VAL:   LOSS--> 0.2856 (0.2856)\tACC-->87.500 (87.500)\n",
      " * Accuracy 92.2753\n"
     ]
    },
    {
     "name": "stderr",
     "output_type": "stream",
     "text": [
      "\r",
      " 18%|█████████████████████████▋                                                                                                                   | 40/220 [1:45:37<7:55:17, 158.43s/it]"
     ]
    },
    {
     "name": "stdout",
     "output_type": "stream",
     "text": [
      "TRAIN: LOSS-->0.2105 (0.2105)\tACC-->87.500% (87.500%)\n",
      "TRAIN: 40 [0/4038 (0%)]\tLoss: 0.210520, Accuracy: 7/8 (87.500%)\n",
      "TRAIN: LOSS-->0.4163 (0.5578)\tACC-->75.000% (80.100%)\n",
      "TRAIN: 40 [1600/4038 (40%)]\tLoss: 0.416310, Accuracy: 6/8 (75.000%)\n",
      "TRAIN: LOSS-->0.5381 (0.5059)\tACC-->62.500% (82.232%)\n",
      "TRAIN: 40 [3200/4038 (79%)]\tLoss: 0.538080, Accuracy: 5/8 (62.500%)\n",
      "VAL:   LOSS--> 0.0106 (0.0106)\tACC-->100.000 (100.000)\n",
      " * Accuracy 89.7472\n"
     ]
    },
    {
     "name": "stderr",
     "output_type": "stream",
     "text": [
      "\r",
      " 19%|██████████████████████████▎                                                                                                                  | 41/220 [1:48:15<7:52:39, 158.43s/it]"
     ]
    },
    {
     "name": "stdout",
     "output_type": "stream",
     "text": [
      "TRAIN: LOSS-->0.1443 (0.1443)\tACC-->100.000% (100.000%)\n",
      "TRAIN: 41 [0/4038 (0%)]\tLoss: 0.144347, Accuracy: 8/8 (100.000%)\n",
      "TRAIN: LOSS-->0.5279 (0.4844)\tACC-->75.000% (82.587%)\n",
      "TRAIN: 41 [1600/4038 (40%)]\tLoss: 0.527927, Accuracy: 6/8 (75.000%)\n",
      "TRAIN: LOSS-->0.3508 (0.4861)\tACC-->100.000% (82.762%)\n",
      "TRAIN: 41 [3200/4038 (79%)]\tLoss: 0.350775, Accuracy: 8/8 (100.000%)\n",
      "VAL:   LOSS--> 0.0152 (0.0152)\tACC-->100.000 (100.000)\n",
      " * Accuracy 90.8708\n"
     ]
    },
    {
     "name": "stderr",
     "output_type": "stream",
     "text": [
      "\r",
      " 19%|██████████████████████████▉                                                                                                                  | 42/220 [1:50:54<7:50:00, 158.43s/it]"
     ]
    },
    {
     "name": "stdout",
     "output_type": "stream",
     "text": [
      "TRAIN: LOSS-->0.2151 (0.2151)\tACC-->100.000% (100.000%)\n",
      "TRAIN: 42 [0/4038 (0%)]\tLoss: 0.215067, Accuracy: 8/8 (100.000%)\n",
      "TRAIN: LOSS-->0.7430 (0.4951)\tACC-->62.500% (83.209%)\n",
      "TRAIN: 42 [1600/4038 (40%)]\tLoss: 0.743021, Accuracy: 5/8 (62.500%)\n",
      "TRAIN: LOSS-->0.1555 (0.4835)\tACC-->100.000% (82.918%)\n",
      "TRAIN: 42 [3200/4038 (79%)]\tLoss: 0.155462, Accuracy: 8/8 (100.000%)\n",
      "VAL:   LOSS--> 0.1207 (0.1207)\tACC-->100.000 (100.000)\n",
      " * Accuracy 90.7303\n"
     ]
    },
    {
     "name": "stderr",
     "output_type": "stream",
     "text": [
      "\r",
      " 20%|███████████████████████████▌                                                                                                                 | 43/220 [1:53:32<7:47:21, 158.43s/it]"
     ]
    },
    {
     "name": "stdout",
     "output_type": "stream",
     "text": [
      "TRAIN: LOSS-->0.5927 (0.5927)\tACC-->87.500% (87.500%)\n",
      "TRAIN: 43 [0/4038 (0%)]\tLoss: 0.592668, Accuracy: 7/8 (87.500%)\n",
      "TRAIN: LOSS-->0.6211 (0.4651)\tACC-->50.000% (83.955%)\n",
      "TRAIN: 43 [1600/4038 (40%)]\tLoss: 0.621132, Accuracy: 4/8 (50.000%)\n",
      "TRAIN: LOSS-->0.0564 (0.4814)\tACC-->100.000% (82.980%)\n",
      "TRAIN: 43 [3200/4038 (79%)]\tLoss: 0.056433, Accuracy: 8/8 (100.000%)\n",
      "VAL:   LOSS--> 0.0052 (0.0052)\tACC-->100.000 (100.000)\n",
      " * Accuracy 93.2584\n"
     ]
    },
    {
     "name": "stderr",
     "output_type": "stream",
     "text": [
      "\r",
      " 20%|████████████████████████████▏                                                                                                                | 44/220 [1:56:11<7:44:44, 158.43s/it]"
     ]
    },
    {
     "name": "stdout",
     "output_type": "stream",
     "text": [
      "TRAIN: LOSS-->0.2587 (0.2587)\tACC-->100.000% (100.000%)\n",
      "TRAIN: 44 [0/4038 (0%)]\tLoss: 0.258656, Accuracy: 8/8 (100.000%)\n",
      "TRAIN: LOSS-->0.4752 (0.4583)\tACC-->75.000% (84.266%)\n",
      "TRAIN: 44 [1600/4038 (40%)]\tLoss: 0.475240, Accuracy: 6/8 (75.000%)\n",
      "TRAIN: LOSS-->0.6494 (0.4746)\tACC-->75.000% (83.385%)\n",
      "TRAIN: 44 [3200/4038 (79%)]\tLoss: 0.649438, Accuracy: 6/8 (75.000%)\n",
      "VAL:   LOSS--> 0.1908 (0.1908)\tACC-->100.000 (100.000)\n",
      " * Accuracy 90.3090\n"
     ]
    },
    {
     "name": "stderr",
     "output_type": "stream",
     "text": [
      "\r",
      " 20%|████████████████████████████▊                                                                                                                | 45/220 [1:58:51<7:42:12, 158.47s/it]"
     ]
    },
    {
     "name": "stdout",
     "output_type": "stream",
     "text": [
      "TRAIN: LOSS-->0.2578 (0.2578)\tACC-->87.500% (87.500%)\n",
      "TRAIN: 45 [0/4038 (0%)]\tLoss: 0.257789, Accuracy: 7/8 (87.500%)\n",
      "TRAIN: LOSS-->0.2833 (0.4579)\tACC-->87.500% (83.520%)\n",
      "TRAIN: 45 [1600/4038 (40%)]\tLoss: 0.283258, Accuracy: 7/8 (87.500%)\n",
      "TRAIN: LOSS-->0.4447 (0.4812)\tACC-->87.500% (82.731%)\n",
      "TRAIN: 45 [3200/4038 (79%)]\tLoss: 0.444725, Accuracy: 7/8 (87.500%)\n",
      "VAL:   LOSS--> 0.0425 (0.0425)\tACC-->100.000 (100.000)\n",
      " * Accuracy 92.5562\n"
     ]
    },
    {
     "name": "stderr",
     "output_type": "stream",
     "text": [
      "\r",
      " 21%|█████████████████████████████▍                                                                                                               | 46/220 [2:01:29<7:39:33, 158.47s/it]"
     ]
    },
    {
     "name": "stdout",
     "output_type": "stream",
     "text": [
      "TRAIN: LOSS-->0.1827 (0.1827)\tACC-->100.000% (100.000%)\n",
      "TRAIN: 46 [0/4038 (0%)]\tLoss: 0.182749, Accuracy: 8/8 (100.000%)\n",
      "TRAIN: LOSS-->0.2761 (0.4634)\tACC-->100.000% (84.826%)\n",
      "TRAIN: 46 [1600/4038 (40%)]\tLoss: 0.276132, Accuracy: 8/8 (100.000%)\n",
      "TRAIN: LOSS-->0.3680 (0.4338)\tACC-->87.500% (85.817%)\n",
      "TRAIN: 46 [3200/4038 (79%)]\tLoss: 0.368005, Accuracy: 7/8 (87.500%)\n",
      "VAL:   LOSS--> 0.0421 (0.0421)\tACC-->100.000 (100.000)\n",
      " * Accuracy 91.8539\n"
     ]
    },
    {
     "name": "stderr",
     "output_type": "stream",
     "text": [
      "\r",
      " 21%|██████████████████████████████                                                                                                               | 47/220 [2:04:08<7:36:56, 158.48s/it]"
     ]
    },
    {
     "name": "stdout",
     "output_type": "stream",
     "text": [
      "TRAIN: LOSS-->0.9026 (0.9026)\tACC-->75.000% (75.000%)\n",
      "TRAIN: 47 [0/4038 (0%)]\tLoss: 0.902650, Accuracy: 6/8 (75.000%)\n",
      "TRAIN: LOSS-->0.1670 (0.4656)\tACC-->100.000% (84.515%)\n",
      "TRAIN: 47 [1600/4038 (40%)]\tLoss: 0.167040, Accuracy: 8/8 (100.000%)\n",
      "TRAIN: LOSS-->0.4949 (0.4486)\tACC-->75.000% (84.601%)\n",
      "TRAIN: 47 [3200/4038 (79%)]\tLoss: 0.494929, Accuracy: 6/8 (75.000%)\n",
      "VAL:   LOSS--> 0.0401 (0.0401)\tACC-->100.000 (100.000)\n",
      " * Accuracy 93.9607\n"
     ]
    },
    {
     "name": "stderr",
     "output_type": "stream",
     "text": [
      "\r",
      " 22%|██████████████████████████████▊                                                                                                              | 48/220 [2:06:46<7:34:16, 158.47s/it]"
     ]
    },
    {
     "name": "stdout",
     "output_type": "stream",
     "text": [
      "TRAIN: LOSS-->0.2444 (0.2444)\tACC-->100.000% (100.000%)\n",
      "TRAIN: 48 [0/4038 (0%)]\tLoss: 0.244359, Accuracy: 8/8 (100.000%)\n",
      "TRAIN: LOSS-->1.5015 (0.5019)\tACC-->37.500% (82.587%)\n",
      "TRAIN: 48 [1600/4038 (40%)]\tLoss: 1.501501, Accuracy: 3/8 (37.500%)\n",
      "TRAIN: LOSS-->0.1709 (0.4674)\tACC-->100.000% (84.009%)\n",
      "TRAIN: 48 [3200/4038 (79%)]\tLoss: 0.170915, Accuracy: 8/8 (100.000%)\n",
      "VAL:   LOSS--> 0.7843 (0.7843)\tACC-->87.500 (87.500)\n",
      " * Accuracy 91.2921\n"
     ]
    },
    {
     "name": "stderr",
     "output_type": "stream",
     "text": [
      "\r",
      " 22%|███████████████████████████████▍                                                                                                             | 49/220 [2:09:24<7:31:38, 158.47s/it]"
     ]
    },
    {
     "name": "stdout",
     "output_type": "stream",
     "text": [
      "TRAIN: LOSS-->0.6168 (0.6168)\tACC-->75.000% (75.000%)\n",
      "TRAIN: 49 [0/4038 (0%)]\tLoss: 0.616786, Accuracy: 6/8 (75.000%)\n",
      "TRAIN: LOSS-->1.3449 (0.4927)\tACC-->62.500% (82.649%)\n",
      "TRAIN: 49 [1600/4038 (40%)]\tLoss: 1.344899, Accuracy: 5/8 (62.500%)\n",
      "TRAIN: LOSS-->0.0827 (0.4666)\tACC-->100.000% (83.541%)\n",
      "TRAIN: 49 [3200/4038 (79%)]\tLoss: 0.082693, Accuracy: 8/8 (100.000%)\n",
      "VAL:   LOSS--> 0.0654 (0.0654)\tACC-->100.000 (100.000)\n",
      " * Accuracy 91.4326\n"
     ]
    },
    {
     "name": "stderr",
     "output_type": "stream",
     "text": [
      "\r",
      " 23%|████████████████████████████████                                                                                                             | 50/220 [2:12:03<7:28:58, 158.46s/it]"
     ]
    },
    {
     "name": "stdout",
     "output_type": "stream",
     "text": [
      "TRAIN: LOSS-->0.3640 (0.3640)\tACC-->87.500% (87.500%)\n",
      "TRAIN: 50 [0/4038 (0%)]\tLoss: 0.363986, Accuracy: 7/8 (87.500%)\n",
      "TRAIN: LOSS-->0.7408 (0.4423)\tACC-->75.000% (84.701%)\n",
      "TRAIN: 50 [1600/4038 (40%)]\tLoss: 0.740779, Accuracy: 6/8 (75.000%)\n",
      "TRAIN: LOSS-->0.1972 (0.4490)\tACC-->87.500% (84.258%)\n",
      "TRAIN: 50 [3200/4038 (79%)]\tLoss: 0.197152, Accuracy: 7/8 (87.500%)\n",
      "VAL:   LOSS--> 0.1480 (0.1480)\tACC-->87.500 (87.500)\n",
      " * Accuracy 93.1180\n"
     ]
    },
    {
     "name": "stderr",
     "output_type": "stream",
     "text": [
      "\r",
      " 23%|████████████████████████████████▋                                                                                                            | 51/220 [2:14:41<7:26:19, 158.46s/it]"
     ]
    },
    {
     "name": "stdout",
     "output_type": "stream",
     "text": [
      "TRAIN: LOSS-->0.4274 (0.4274)\tACC-->87.500% (87.500%)\n",
      "TRAIN: 51 [0/4038 (0%)]\tLoss: 0.427439, Accuracy: 7/8 (87.500%)\n",
      "TRAIN: LOSS-->0.5444 (0.4159)\tACC-->62.500% (85.821%)\n",
      "TRAIN: 51 [1600/4038 (40%)]\tLoss: 0.544401, Accuracy: 5/8 (62.500%)\n",
      "TRAIN: LOSS-->0.2639 (0.4263)\tACC-->87.500% (85.100%)\n",
      "TRAIN: 51 [3200/4038 (79%)]\tLoss: 0.263948, Accuracy: 7/8 (87.500%)\n",
      "VAL:   LOSS--> 0.0171 (0.0171)\tACC-->100.000 (100.000)\n",
      " * Accuracy 91.4326\n"
     ]
    },
    {
     "name": "stderr",
     "output_type": "stream",
     "text": [
      "\r",
      " 24%|█████████████████████████████████▎                                                                                                           | 52/220 [2:17:19<7:23:39, 158.45s/it]"
     ]
    },
    {
     "name": "stdout",
     "output_type": "stream",
     "text": [
      "TRAIN: LOSS-->0.2330 (0.2330)\tACC-->87.500% (87.500%)\n",
      "TRAIN: 52 [0/4038 (0%)]\tLoss: 0.232966, Accuracy: 7/8 (87.500%)\n",
      "TRAIN: LOSS-->0.0609 (0.4380)\tACC-->100.000% (85.697%)\n",
      "TRAIN: 52 [1600/4038 (40%)]\tLoss: 0.060897, Accuracy: 8/8 (100.000%)\n",
      "TRAIN: LOSS-->0.2236 (0.4428)\tACC-->87.500% (85.069%)\n",
      "TRAIN: 52 [3200/4038 (79%)]\tLoss: 0.223577, Accuracy: 7/8 (87.500%)\n",
      "VAL:   LOSS--> 0.1197 (0.1197)\tACC-->100.000 (100.000)\n",
      " * Accuracy 91.8539\n"
     ]
    },
    {
     "name": "stderr",
     "output_type": "stream",
     "text": [
      "\r",
      " 24%|█████████████████████████████████▉                                                                                                           | 53/220 [2:19:57<7:21:00, 158.44s/it]"
     ]
    },
    {
     "name": "stdout",
     "output_type": "stream",
     "text": [
      "TRAIN: LOSS-->0.4381 (0.4381)\tACC-->87.500% (87.500%)\n",
      "TRAIN: 53 [0/4038 (0%)]\tLoss: 0.438095, Accuracy: 7/8 (87.500%)\n",
      "TRAIN: LOSS-->0.7802 (0.4782)\tACC-->75.000% (83.458%)\n",
      "TRAIN: 53 [1600/4038 (40%)]\tLoss: 0.780156, Accuracy: 6/8 (75.000%)\n",
      "TRAIN: LOSS-->0.7847 (0.4544)\tACC-->75.000% (84.663%)\n",
      "TRAIN: 53 [3200/4038 (79%)]\tLoss: 0.784693, Accuracy: 6/8 (75.000%)\n",
      "VAL:   LOSS--> 0.0109 (0.0109)\tACC-->100.000 (100.000)\n",
      " * Accuracy 91.5730\n"
     ]
    },
    {
     "name": "stderr",
     "output_type": "stream",
     "text": [
      "\r",
      " 25%|██████████████████████████████████▌                                                                                                          | 54/220 [2:22:36<7:18:22, 158.45s/it]"
     ]
    },
    {
     "name": "stdout",
     "output_type": "stream",
     "text": [
      "TRAIN: LOSS-->0.0233 (0.0233)\tACC-->100.000% (100.000%)\n",
      "TRAIN: 54 [0/4038 (0%)]\tLoss: 0.023334, Accuracy: 8/8 (100.000%)\n",
      "TRAIN: LOSS-->0.0233 (0.4173)\tACC-->100.000% (85.697%)\n",
      "TRAIN: 54 [1600/4038 (40%)]\tLoss: 0.023257, Accuracy: 8/8 (100.000%)\n",
      "TRAIN: LOSS-->0.7239 (0.4243)\tACC-->87.500% (85.630%)\n",
      "TRAIN: 54 [3200/4038 (79%)]\tLoss: 0.723890, Accuracy: 7/8 (87.500%)\n",
      "VAL:   LOSS--> 0.0527 (0.0527)\tACC-->100.000 (100.000)\n",
      " * Accuracy 91.7135\n"
     ]
    },
    {
     "name": "stderr",
     "output_type": "stream",
     "text": [
      "\r",
      " 25%|███████████████████████████████████▎                                                                                                         | 55/220 [2:25:14<7:15:43, 158.44s/it]"
     ]
    },
    {
     "name": "stdout",
     "output_type": "stream",
     "text": [
      "TRAIN: LOSS-->0.7655 (0.7655)\tACC-->87.500% (87.500%)\n",
      "TRAIN: 55 [0/4038 (0%)]\tLoss: 0.765481, Accuracy: 7/8 (87.500%)\n",
      "TRAIN: LOSS-->0.2387 (0.4332)\tACC-->87.500% (84.142%)\n",
      "TRAIN: 55 [1600/4038 (40%)]\tLoss: 0.238727, Accuracy: 7/8 (87.500%)\n",
      "TRAIN: LOSS-->0.3457 (0.4334)\tACC-->87.500% (84.944%)\n",
      "TRAIN: 55 [3200/4038 (79%)]\tLoss: 0.345722, Accuracy: 7/8 (87.500%)\n",
      "VAL:   LOSS--> 0.0393 (0.0393)\tACC-->100.000 (100.000)\n",
      " * Accuracy 92.2753\n"
     ]
    },
    {
     "name": "stderr",
     "output_type": "stream",
     "text": [
      "\r",
      " 25%|███████████████████████████████████▉                                                                                                         | 56/220 [2:27:52<7:13:04, 158.44s/it]"
     ]
    },
    {
     "name": "stdout",
     "output_type": "stream",
     "text": [
      "TRAIN: LOSS-->0.5818 (0.5818)\tACC-->75.000% (75.000%)\n",
      "TRAIN: 56 [0/4038 (0%)]\tLoss: 0.581786, Accuracy: 6/8 (75.000%)\n",
      "TRAIN: LOSS-->0.7097 (0.4228)\tACC-->87.500% (83.893%)\n",
      "TRAIN: 56 [1600/4038 (40%)]\tLoss: 0.709657, Accuracy: 7/8 (87.500%)\n",
      "TRAIN: LOSS-->0.6933 (0.4083)\tACC-->75.000% (85.193%)\n",
      "TRAIN: 56 [3200/4038 (79%)]\tLoss: 0.693256, Accuracy: 6/8 (75.000%)\n",
      "VAL:   LOSS--> 0.0626 (0.0626)\tACC-->100.000 (100.000)\n",
      " * Accuracy 91.7135\n"
     ]
    },
    {
     "name": "stderr",
     "output_type": "stream",
     "text": [
      "\r",
      " 26%|████████████████████████████████████▌                                                                                                        | 57/220 [2:30:31<7:10:25, 158.44s/it]"
     ]
    },
    {
     "name": "stdout",
     "output_type": "stream",
     "text": [
      "TRAIN: LOSS-->0.2752 (0.2752)\tACC-->87.500% (87.500%)\n",
      "TRAIN: 57 [0/4038 (0%)]\tLoss: 0.275196, Accuracy: 7/8 (87.500%)\n",
      "TRAIN: LOSS-->0.0220 (0.3908)\tACC-->100.000% (86.194%)\n",
      "TRAIN: 57 [1600/4038 (40%)]\tLoss: 0.022049, Accuracy: 8/8 (100.000%)\n",
      "TRAIN: LOSS-->0.2100 (0.3852)\tACC-->87.500% (86.004%)\n",
      "TRAIN: 57 [3200/4038 (79%)]\tLoss: 0.209983, Accuracy: 7/8 (87.500%)\n",
      "VAL:   LOSS--> 0.4031 (0.4031)\tACC-->87.500 (87.500)\n",
      " * Accuracy 91.4326\n"
     ]
    },
    {
     "name": "stderr",
     "output_type": "stream",
     "text": [
      "\r",
      " 26%|█████████████████████████████████████▏                                                                                                       | 58/220 [2:33:09<7:07:47, 158.44s/it]"
     ]
    },
    {
     "name": "stdout",
     "output_type": "stream",
     "text": [
      "TRAIN: LOSS-->0.0998 (0.0998)\tACC-->100.000% (100.000%)\n",
      "TRAIN: 58 [0/4038 (0%)]\tLoss: 0.099778, Accuracy: 8/8 (100.000%)\n",
      "TRAIN: LOSS-->0.3669 (0.3946)\tACC-->87.500% (86.070%)\n",
      "TRAIN: 58 [1600/4038 (40%)]\tLoss: 0.366870, Accuracy: 7/8 (87.500%)\n",
      "TRAIN: LOSS-->0.1812 (0.3830)\tACC-->87.500% (86.409%)\n",
      "TRAIN: 58 [3200/4038 (79%)]\tLoss: 0.181239, Accuracy: 7/8 (87.500%)\n",
      "VAL:   LOSS--> 0.3222 (0.3222)\tACC-->75.000 (75.000)\n",
      " * Accuracy 95.3652\n"
     ]
    },
    {
     "name": "stderr",
     "output_type": "stream",
     "text": [
      "\r",
      " 27%|█████████████████████████████████████▊                                                                                                       | 59/220 [2:35:48<7:05:09, 158.44s/it]"
     ]
    },
    {
     "name": "stdout",
     "output_type": "stream",
     "text": [
      "TRAIN: LOSS-->1.2461 (1.2461)\tACC-->50.000% (50.000%)\n",
      "TRAIN: 59 [0/4038 (0%)]\tLoss: 1.246063, Accuracy: 4/8 (50.000%)\n",
      "TRAIN: LOSS-->0.3287 (0.4730)\tACC-->75.000% (84.080%)\n",
      "TRAIN: 59 [1600/4038 (40%)]\tLoss: 0.328674, Accuracy: 6/8 (75.000%)\n",
      "TRAIN: LOSS-->0.2426 (0.4526)\tACC-->100.000% (84.975%)\n",
      "TRAIN: 59 [3200/4038 (79%)]\tLoss: 0.242630, Accuracy: 8/8 (100.000%)\n",
      "VAL:   LOSS--> 0.0721 (0.0721)\tACC-->100.000 (100.000)\n",
      " * Accuracy 93.1180\n"
     ]
    },
    {
     "name": "stderr",
     "output_type": "stream",
     "text": [
      "\r",
      " 27%|██████████████████████████████████████▍                                                                                                      | 60/220 [2:38:26<7:02:31, 158.45s/it]"
     ]
    },
    {
     "name": "stdout",
     "output_type": "stream",
     "text": [
      "TRAIN: LOSS-->0.5175 (0.5175)\tACC-->75.000% (75.000%)\n",
      "TRAIN: 60 [0/4038 (0%)]\tLoss: 0.517535, Accuracy: 6/8 (75.000%)\n",
      "TRAIN: LOSS-->0.0198 (0.3891)\tACC-->100.000% (86.816%)\n",
      "TRAIN: 60 [1600/4038 (40%)]\tLoss: 0.019815, Accuracy: 8/8 (100.000%)\n",
      "TRAIN: LOSS-->0.5290 (0.4014)\tACC-->62.500% (86.222%)\n",
      "TRAIN: 60 [3200/4038 (79%)]\tLoss: 0.529005, Accuracy: 5/8 (62.500%)\n",
      "VAL:   LOSS--> 0.0643 (0.0643)\tACC-->100.000 (100.000)\n",
      " * Accuracy 93.5393\n"
     ]
    },
    {
     "name": "stderr",
     "output_type": "stream",
     "text": [
      "\r",
      " 28%|███████████████████████████████████████                                                                                                      | 61/220 [2:41:05<6:59:52, 158.45s/it]"
     ]
    },
    {
     "name": "stdout",
     "output_type": "stream",
     "text": [
      "TRAIN: LOSS-->0.3523 (0.3523)\tACC-->87.500% (87.500%)\n",
      "TRAIN: 61 [0/4038 (0%)]\tLoss: 0.352316, Accuracy: 7/8 (87.500%)\n",
      "TRAIN: LOSS-->0.0094 (0.3915)\tACC-->100.000% (86.505%)\n",
      "TRAIN: 61 [1600/4038 (40%)]\tLoss: 0.009423, Accuracy: 8/8 (100.000%)\n",
      "TRAIN: LOSS-->0.3414 (0.3892)\tACC-->87.500% (86.814%)\n",
      "TRAIN: 61 [3200/4038 (79%)]\tLoss: 0.341356, Accuracy: 7/8 (87.500%)\n",
      "VAL:   LOSS--> 0.0130 (0.0130)\tACC-->100.000 (100.000)\n",
      " * Accuracy 93.2584\n"
     ]
    },
    {
     "name": "stderr",
     "output_type": "stream",
     "text": [
      "\r",
      " 28%|███████████████████████████████████████▋                                                                                                     | 62/220 [2:43:44<6:57:15, 158.45s/it]"
     ]
    },
    {
     "name": "stdout",
     "output_type": "stream",
     "text": [
      "TRAIN: LOSS-->0.2974 (0.2974)\tACC-->87.500% (87.500%)\n",
      "TRAIN: 62 [0/4038 (0%)]\tLoss: 0.297434, Accuracy: 7/8 (87.500%)\n",
      "TRAIN: LOSS-->0.2922 (0.3855)\tACC-->87.500% (86.256%)\n",
      "TRAIN: 62 [1600/4038 (40%)]\tLoss: 0.292191, Accuracy: 7/8 (87.500%)\n",
      "TRAIN: LOSS-->0.8102 (0.3853)\tACC-->62.500% (86.409%)\n",
      "TRAIN: 62 [3200/4038 (79%)]\tLoss: 0.810238, Accuracy: 5/8 (62.500%)\n",
      "VAL:   LOSS--> 0.0016 (0.0016)\tACC-->100.000 (100.000)\n",
      " * Accuracy 91.8539\n"
     ]
    },
    {
     "name": "stderr",
     "output_type": "stream",
     "text": [
      "\r",
      " 29%|████████████████████████████████████████▍                                                                                                    | 63/220 [2:46:27<6:54:49, 158.53s/it]"
     ]
    },
    {
     "name": "stdout",
     "output_type": "stream",
     "text": [
      "TRAIN: LOSS-->0.1131 (0.1131)\tACC-->100.000% (100.000%)\n",
      "TRAIN: 63 [0/4038 (0%)]\tLoss: 0.113072, Accuracy: 8/8 (100.000%)\n",
      "TRAIN: LOSS-->1.2951 (0.3946)\tACC-->62.500% (85.759%)\n",
      "TRAIN: 63 [1600/4038 (40%)]\tLoss: 1.295128, Accuracy: 5/8 (62.500%)\n",
      "TRAIN: LOSS-->0.2096 (0.3910)\tACC-->100.000% (86.222%)\n",
      "TRAIN: 63 [3200/4038 (79%)]\tLoss: 0.209595, Accuracy: 8/8 (100.000%)\n",
      "VAL:   LOSS--> 0.4982 (0.4982)\tACC-->75.000 (75.000)\n",
      " * Accuracy 93.2584\n"
     ]
    },
    {
     "name": "stderr",
     "output_type": "stream",
     "text": [
      "\r",
      " 29%|█████████████████████████████████████████                                                                                                    | 64/220 [2:49:06<6:52:12, 158.54s/it]"
     ]
    },
    {
     "name": "stdout",
     "output_type": "stream",
     "text": [
      "TRAIN: LOSS-->1.1101 (1.1101)\tACC-->75.000% (75.000%)\n",
      "TRAIN: 64 [0/4038 (0%)]\tLoss: 1.110115, Accuracy: 6/8 (75.000%)\n",
      "TRAIN: LOSS-->0.3451 (0.3937)\tACC-->87.500% (86.629%)\n",
      "TRAIN: 64 [1600/4038 (40%)]\tLoss: 0.345134, Accuracy: 7/8 (87.500%)\n",
      "TRAIN: LOSS-->0.8323 (0.3860)\tACC-->87.500% (86.908%)\n",
      "TRAIN: 64 [3200/4038 (79%)]\tLoss: 0.832269, Accuracy: 7/8 (87.500%)\n",
      "VAL:   LOSS--> 0.1083 (0.1083)\tACC-->87.500 (87.500)\n",
      " * Accuracy 93.3989\n"
     ]
    },
    {
     "name": "stderr",
     "output_type": "stream",
     "text": [
      "\r",
      " 30%|█████████████████████████████████████████▋                                                                                                   | 65/220 [2:51:45<6:49:35, 158.55s/it]"
     ]
    },
    {
     "name": "stdout",
     "output_type": "stream",
     "text": [
      "TRAIN: LOSS-->0.2464 (0.2464)\tACC-->75.000% (75.000%)\n",
      "TRAIN: 65 [0/4038 (0%)]\tLoss: 0.246391, Accuracy: 6/8 (75.000%)\n",
      "TRAIN: LOSS-->1.1351 (0.3913)\tACC-->75.000% (85.572%)\n",
      "TRAIN: 65 [1600/4038 (40%)]\tLoss: 1.135112, Accuracy: 6/8 (75.000%)\n",
      "TRAIN: LOSS-->0.0698 (0.3958)\tACC-->100.000% (85.567%)\n",
      "TRAIN: 65 [3200/4038 (79%)]\tLoss: 0.069827, Accuracy: 8/8 (100.000%)\n",
      "VAL:   LOSS--> 0.4468 (0.4468)\tACC-->87.500 (87.500)\n",
      " * Accuracy 89.3258\n"
     ]
    },
    {
     "name": "stderr",
     "output_type": "stream",
     "text": [
      "\r",
      " 30%|██████████████████████████████████████████▎                                                                                                  | 66/220 [2:54:24<6:46:57, 158.55s/it]"
     ]
    },
    {
     "name": "stdout",
     "output_type": "stream",
     "text": [
      "TRAIN: LOSS-->0.2860 (0.2860)\tACC-->87.500% (87.500%)\n",
      "TRAIN: 66 [0/4038 (0%)]\tLoss: 0.285987, Accuracy: 7/8 (87.500%)\n",
      "TRAIN: LOSS-->0.0875 (0.3655)\tACC-->100.000% (87.065%)\n",
      "TRAIN: 66 [1600/4038 (40%)]\tLoss: 0.087491, Accuracy: 8/8 (100.000%)\n",
      "TRAIN: LOSS-->0.3513 (0.3609)\tACC-->87.500% (87.406%)\n",
      "TRAIN: 66 [3200/4038 (79%)]\tLoss: 0.351297, Accuracy: 7/8 (87.500%)\n",
      "VAL:   LOSS--> 0.0527 (0.0527)\tACC-->100.000 (100.000)\n",
      " * Accuracy 91.5730\n"
     ]
    },
    {
     "name": "stderr",
     "output_type": "stream",
     "text": [
      "\r",
      " 30%|██████████████████████████████████████████▉                                                                                                  | 67/220 [2:57:03<6:44:19, 158.56s/it]"
     ]
    },
    {
     "name": "stdout",
     "output_type": "stream",
     "text": [
      "TRAIN: LOSS-->0.2875 (0.2875)\tACC-->100.000% (100.000%)\n",
      "TRAIN: 67 [0/4038 (0%)]\tLoss: 0.287536, Accuracy: 8/8 (100.000%)\n",
      "TRAIN: LOSS-->0.8749 (0.3484)\tACC-->87.500% (87.998%)\n",
      "TRAIN: 67 [1600/4038 (40%)]\tLoss: 0.874934, Accuracy: 7/8 (87.500%)\n",
      "TRAIN: LOSS-->0.5303 (0.3635)\tACC-->87.500% (87.282%)\n",
      "TRAIN: 67 [3200/4038 (79%)]\tLoss: 0.530349, Accuracy: 7/8 (87.500%)\n",
      "VAL:   LOSS--> 0.0855 (0.0855)\tACC-->100.000 (100.000)\n",
      " * Accuracy 93.1180\n"
     ]
    },
    {
     "name": "stderr",
     "output_type": "stream",
     "text": [
      "\r",
      " 31%|███████████████████████████████████████████▌                                                                                                 | 68/220 [2:59:42<6:41:41, 158.56s/it]"
     ]
    },
    {
     "name": "stdout",
     "output_type": "stream",
     "text": [
      "TRAIN: LOSS-->0.4943 (0.4943)\tACC-->75.000% (75.000%)\n",
      "TRAIN: 68 [0/4038 (0%)]\tLoss: 0.494262, Accuracy: 6/8 (75.000%)\n",
      "TRAIN: LOSS-->0.0919 (0.3445)\tACC-->100.000% (88.060%)\n",
      "TRAIN: 68 [1600/4038 (40%)]\tLoss: 0.091920, Accuracy: 8/8 (100.000%)\n",
      "TRAIN: LOSS-->0.2724 (0.3574)\tACC-->87.500% (87.874%)\n",
      "TRAIN: 68 [3200/4038 (79%)]\tLoss: 0.272367, Accuracy: 7/8 (87.500%)\n",
      "VAL:   LOSS--> 0.0558 (0.0558)\tACC-->100.000 (100.000)\n",
      " * Accuracy 95.0843\n"
     ]
    },
    {
     "name": "stderr",
     "output_type": "stream",
     "text": [
      "\r",
      " 31%|████████████████████████████████████████████▏                                                                                                | 69/220 [3:02:21<6:39:03, 158.57s/it]"
     ]
    },
    {
     "name": "stdout",
     "output_type": "stream",
     "text": [
      "TRAIN: LOSS-->0.0736 (0.0736)\tACC-->100.000% (100.000%)\n",
      "TRAIN: 69 [0/4038 (0%)]\tLoss: 0.073554, Accuracy: 8/8 (100.000%)\n",
      "TRAIN: LOSS-->0.0685 (0.3293)\tACC-->100.000% (89.055%)\n",
      "TRAIN: 69 [1600/4038 (40%)]\tLoss: 0.068465, Accuracy: 8/8 (100.000%)\n",
      "TRAIN: LOSS-->0.2652 (0.3716)\tACC-->87.500% (87.562%)\n",
      "TRAIN: 69 [3200/4038 (79%)]\tLoss: 0.265225, Accuracy: 7/8 (87.500%)\n",
      "VAL:   LOSS--> 0.0332 (0.0332)\tACC-->100.000 (100.000)\n",
      " * Accuracy 94.6629\n"
     ]
    },
    {
     "name": "stderr",
     "output_type": "stream",
     "text": [
      "\r",
      " 32%|████████████████████████████████████████████▊                                                                                                | 70/220 [3:05:00<6:36:27, 158.58s/it]"
     ]
    },
    {
     "name": "stdout",
     "output_type": "stream",
     "text": [
      "TRAIN: LOSS-->0.7797 (0.7797)\tACC-->50.000% (50.000%)\n",
      "TRAIN: 70 [0/4038 (0%)]\tLoss: 0.779747, Accuracy: 4/8 (50.000%)\n",
      "TRAIN: LOSS-->0.1694 (0.3457)\tACC-->87.500% (87.624%)\n",
      "TRAIN: 70 [1600/4038 (40%)]\tLoss: 0.169373, Accuracy: 7/8 (87.500%)\n",
      "TRAIN: LOSS-->0.3277 (0.3555)\tACC-->87.500% (87.687%)\n",
      "TRAIN: 70 [3200/4038 (79%)]\tLoss: 0.327683, Accuracy: 7/8 (87.500%)\n",
      "VAL:   LOSS--> 0.0125 (0.0125)\tACC-->100.000 (100.000)\n",
      " * Accuracy 94.1011\n"
     ]
    },
    {
     "name": "stderr",
     "output_type": "stream",
     "text": [
      "\r",
      " 32%|█████████████████████████████████████████████▌                                                                                               | 71/220 [3:07:39<6:33:49, 158.59s/it]"
     ]
    },
    {
     "name": "stdout",
     "output_type": "stream",
     "text": [
      "TRAIN: LOSS-->2.4001 (2.4001)\tACC-->50.000% (50.000%)\n",
      "TRAIN: 71 [0/4038 (0%)]\tLoss: 2.400136, Accuracy: 4/8 (50.000%)\n",
      "TRAIN: LOSS-->0.3141 (0.4063)\tACC-->87.500% (86.381%)\n",
      "TRAIN: 71 [1600/4038 (40%)]\tLoss: 0.314071, Accuracy: 7/8 (87.500%)\n",
      "TRAIN: LOSS-->0.3752 (0.3832)\tACC-->87.500% (86.970%)\n",
      "TRAIN: 71 [3200/4038 (79%)]\tLoss: 0.375167, Accuracy: 7/8 (87.500%)\n",
      "VAL:   LOSS--> 0.0015 (0.0015)\tACC-->100.000 (100.000)\n",
      " * Accuracy 94.1011\n"
     ]
    },
    {
     "name": "stderr",
     "output_type": "stream",
     "text": [
      "\r",
      " 33%|██████████████████████████████████████████████▏                                                                                              | 72/220 [3:10:19<6:31:12, 158.60s/it]"
     ]
    },
    {
     "name": "stdout",
     "output_type": "stream",
     "text": [
      "TRAIN: LOSS-->0.3590 (0.3590)\tACC-->87.500% (87.500%)\n",
      "TRAIN: 72 [0/4038 (0%)]\tLoss: 0.359045, Accuracy: 7/8 (87.500%)\n",
      "TRAIN: LOSS-->0.2946 (0.3947)\tACC-->87.500% (86.692%)\n",
      "TRAIN: 72 [1600/4038 (40%)]\tLoss: 0.294627, Accuracy: 7/8 (87.500%)\n",
      "TRAIN: LOSS-->0.4053 (0.3693)\tACC-->87.500% (87.282%)\n",
      "TRAIN: 72 [3200/4038 (79%)]\tLoss: 0.405337, Accuracy: 7/8 (87.500%)\n",
      "VAL:   LOSS--> 0.2336 (0.2336)\tACC-->87.500 (87.500)\n",
      " * Accuracy 93.1180\n"
     ]
    },
    {
     "name": "stderr",
     "output_type": "stream",
     "text": [
      "\r",
      " 33%|██████████████████████████████████████████████▊                                                                                              | 73/220 [3:12:57<6:28:33, 158.60s/it]"
     ]
    },
    {
     "name": "stdout",
     "output_type": "stream",
     "text": [
      "TRAIN: LOSS-->0.4793 (0.4793)\tACC-->87.500% (87.500%)\n",
      "TRAIN: 73 [0/4038 (0%)]\tLoss: 0.479337, Accuracy: 7/8 (87.500%)\n",
      "TRAIN: LOSS-->0.4809 (0.3477)\tACC-->87.500% (88.246%)\n",
      "TRAIN: 73 [1600/4038 (40%)]\tLoss: 0.480927, Accuracy: 7/8 (87.500%)\n",
      "TRAIN: LOSS-->0.1694 (0.3681)\tACC-->87.500% (87.313%)\n",
      "TRAIN: 73 [3200/4038 (79%)]\tLoss: 0.169442, Accuracy: 7/8 (87.500%)\n",
      "VAL:   LOSS--> 0.0552 (0.0552)\tACC-->100.000 (100.000)\n",
      " * Accuracy 93.8202\n"
     ]
    },
    {
     "name": "stderr",
     "output_type": "stream",
     "text": [
      "\r",
      " 34%|███████████████████████████████████████████████▍                                                                                             | 74/220 [3:15:36<6:25:55, 158.60s/it]"
     ]
    },
    {
     "name": "stdout",
     "output_type": "stream",
     "text": [
      "TRAIN: LOSS-->0.1820 (0.1820)\tACC-->87.500% (87.500%)\n",
      "TRAIN: 74 [0/4038 (0%)]\tLoss: 0.182021, Accuracy: 7/8 (87.500%)\n",
      "TRAIN: LOSS-->0.8085 (0.3594)\tACC-->75.000% (87.313%)\n",
      "TRAIN: 74 [1600/4038 (40%)]\tLoss: 0.808472, Accuracy: 6/8 (75.000%)\n",
      "TRAIN: LOSS-->0.1094 (0.3415)\tACC-->100.000% (87.843%)\n",
      "TRAIN: 74 [3200/4038 (79%)]\tLoss: 0.109362, Accuracy: 8/8 (100.000%)\n",
      "VAL:   LOSS--> 0.3009 (0.3009)\tACC-->75.000 (75.000)\n",
      " * Accuracy 92.2753\n"
     ]
    },
    {
     "name": "stderr",
     "output_type": "stream",
     "text": [
      "\r",
      " 34%|████████████████████████████████████████████████                                                                                             | 75/220 [3:18:15<6:23:17, 158.61s/it]"
     ]
    },
    {
     "name": "stdout",
     "output_type": "stream",
     "text": [
      "TRAIN: LOSS-->0.2036 (0.2036)\tACC-->87.500% (87.500%)\n",
      "TRAIN: 75 [0/4038 (0%)]\tLoss: 0.203638, Accuracy: 7/8 (87.500%)\n",
      "TRAIN: LOSS-->0.2022 (0.4037)\tACC-->87.500% (86.132%)\n",
      "TRAIN: 75 [1600/4038 (40%)]\tLoss: 0.202188, Accuracy: 7/8 (87.500%)\n",
      "TRAIN: LOSS-->0.3103 (0.3909)\tACC-->87.500% (86.783%)\n",
      "TRAIN: 75 [3200/4038 (79%)]\tLoss: 0.310321, Accuracy: 7/8 (87.500%)\n",
      "VAL:   LOSS--> 0.2682 (0.2682)\tACC-->87.500 (87.500)\n",
      " * Accuracy 92.5562\n"
     ]
    },
    {
     "name": "stderr",
     "output_type": "stream",
     "text": [
      "\r",
      " 35%|████████████████████████████████████████████████▋                                                                                            | 76/220 [3:20:54<6:20:39, 158.61s/it]"
     ]
    },
    {
     "name": "stdout",
     "output_type": "stream",
     "text": [
      "TRAIN: LOSS-->0.0094 (0.0094)\tACC-->100.000% (100.000%)\n",
      "TRAIN: 76 [0/4038 (0%)]\tLoss: 0.009423, Accuracy: 8/8 (100.000%)\n",
      "TRAIN: LOSS-->0.9169 (0.3430)\tACC-->62.500% (88.246%)\n",
      "TRAIN: 76 [1600/4038 (40%)]\tLoss: 0.916905, Accuracy: 5/8 (62.500%)\n",
      "TRAIN: LOSS-->0.2487 (0.3574)\tACC-->87.500% (87.251%)\n",
      "TRAIN: 76 [3200/4038 (79%)]\tLoss: 0.248664, Accuracy: 7/8 (87.500%)\n",
      "VAL:   LOSS--> 0.0768 (0.0768)\tACC-->100.000 (100.000)\n",
      " * Accuracy 92.8371\n"
     ]
    },
    {
     "name": "stderr",
     "output_type": "stream",
     "text": [
      "\r",
      " 35%|█████████████████████████████████████████████████▎                                                                                           | 77/220 [3:23:33<6:18:02, 158.62s/it]"
     ]
    },
    {
     "name": "stdout",
     "output_type": "stream",
     "text": [
      "TRAIN: LOSS-->0.1904 (0.1904)\tACC-->100.000% (100.000%)\n",
      "TRAIN: 77 [0/4038 (0%)]\tLoss: 0.190374, Accuracy: 8/8 (100.000%)\n",
      "TRAIN: LOSS-->1.3689 (0.3430)\tACC-->75.000% (88.246%)\n",
      "TRAIN: 77 [1600/4038 (40%)]\tLoss: 1.368945, Accuracy: 6/8 (75.000%)\n",
      "TRAIN: LOSS-->0.1829 (0.3466)\tACC-->100.000% (88.310%)\n",
      "TRAIN: 77 [3200/4038 (79%)]\tLoss: 0.182867, Accuracy: 8/8 (100.000%)\n",
      "VAL:   LOSS--> 0.0001 (0.0001)\tACC-->100.000 (100.000)\n",
      " * Accuracy 91.8539\n"
     ]
    },
    {
     "name": "stderr",
     "output_type": "stream",
     "text": [
      "\r",
      " 35%|█████████████████████████████████████████████████▉                                                                                           | 78/220 [3:26:11<6:15:23, 158.61s/it]"
     ]
    },
    {
     "name": "stdout",
     "output_type": "stream",
     "text": [
      "TRAIN: LOSS-->0.1887 (0.1887)\tACC-->100.000% (100.000%)\n",
      "TRAIN: 78 [0/4038 (0%)]\tLoss: 0.188679, Accuracy: 8/8 (100.000%)\n",
      "TRAIN: LOSS-->0.2923 (0.3801)\tACC-->75.000% (87.189%)\n",
      "TRAIN: 78 [1600/4038 (40%)]\tLoss: 0.292255, Accuracy: 6/8 (75.000%)\n",
      "TRAIN: LOSS-->0.0997 (0.3593)\tACC-->100.000% (87.781%)\n",
      "TRAIN: 78 [3200/4038 (79%)]\tLoss: 0.099695, Accuracy: 8/8 (100.000%)\n",
      "VAL:   LOSS--> 0.0037 (0.0037)\tACC-->100.000 (100.000)\n",
      " * Accuracy 94.6629\n"
     ]
    },
    {
     "name": "stderr",
     "output_type": "stream",
     "text": [
      "\r",
      " 36%|██████████████████████████████████████████████████▋                                                                                          | 79/220 [3:28:53<6:12:50, 158.66s/it]"
     ]
    },
    {
     "name": "stdout",
     "output_type": "stream",
     "text": [
      "TRAIN: LOSS-->0.5778 (0.5778)\tACC-->87.500% (87.500%)\n",
      "TRAIN: 79 [0/4038 (0%)]\tLoss: 0.577847, Accuracy: 7/8 (87.500%)\n",
      "TRAIN: LOSS-->0.0358 (0.3342)\tACC-->100.000% (88.495%)\n",
      "TRAIN: 79 [1600/4038 (40%)]\tLoss: 0.035783, Accuracy: 8/8 (100.000%)\n",
      "TRAIN: LOSS-->0.2817 (0.3271)\tACC-->87.500% (88.435%)\n",
      "TRAIN: 79 [3200/4038 (79%)]\tLoss: 0.281719, Accuracy: 7/8 (87.500%)\n",
      "VAL:   LOSS--> 0.0280 (0.0280)\tACC-->100.000 (100.000)\n",
      " * Accuracy 92.8371\n"
     ]
    },
    {
     "name": "stderr",
     "output_type": "stream",
     "text": [
      "\r",
      " 36%|███████████████████████████████████████████████████▎                                                                                         | 80/220 [3:31:38<6:10:21, 158.73s/it]"
     ]
    },
    {
     "name": "stdout",
     "output_type": "stream",
     "text": [
      "TRAIN: LOSS-->0.6180 (0.6180)\tACC-->62.500% (62.500%)\n",
      "TRAIN: 80 [0/4038 (0%)]\tLoss: 0.618041, Accuracy: 5/8 (62.500%)\n",
      "TRAIN: LOSS-->0.1095 (0.3307)\tACC-->100.000% (88.371%)\n",
      "TRAIN: 80 [1600/4038 (40%)]\tLoss: 0.109455, Accuracy: 8/8 (100.000%)\n",
      "TRAIN: LOSS-->0.0762 (0.3228)\tACC-->100.000% (88.279%)\n",
      "TRAIN: 80 [3200/4038 (79%)]\tLoss: 0.076233, Accuracy: 8/8 (100.000%)\n",
      "VAL:   LOSS--> 0.0671 (0.0671)\tACC-->100.000 (100.000)\n",
      " * Accuracy 95.0843\n"
     ]
    },
    {
     "name": "stderr",
     "output_type": "stream",
     "text": [
      "\r",
      " 37%|███████████████████████████████████████████████████▉                                                                                         | 81/220 [3:34:22<6:07:52, 158.79s/it]"
     ]
    },
    {
     "name": "stdout",
     "output_type": "stream",
     "text": [
      "TRAIN: LOSS-->0.4493 (0.4493)\tACC-->75.000% (75.000%)\n",
      "TRAIN: 81 [0/4038 (0%)]\tLoss: 0.449349, Accuracy: 6/8 (75.000%)\n",
      "TRAIN: LOSS-->1.0442 (0.3506)\tACC-->62.500% (88.122%)\n",
      "TRAIN: 81 [1600/4038 (40%)]\tLoss: 1.044241, Accuracy: 5/8 (62.500%)\n",
      "TRAIN: LOSS-->0.3698 (0.3318)\tACC-->87.500% (88.030%)\n",
      "TRAIN: 81 [3200/4038 (79%)]\tLoss: 0.369825, Accuracy: 7/8 (87.500%)\n",
      "VAL:   LOSS--> 0.0004 (0.0004)\tACC-->100.000 (100.000)\n",
      " * Accuracy 95.5056\n"
     ]
    },
    {
     "name": "stderr",
     "output_type": "stream",
     "text": [
      "\r",
      " 37%|████████████████████████████████████████████████████▌                                                                                        | 82/220 [3:37:06<6:05:21, 158.85s/it]"
     ]
    },
    {
     "name": "stdout",
     "output_type": "stream",
     "text": [
      "TRAIN: LOSS-->0.5016 (0.5016)\tACC-->87.500% (87.500%)\n",
      "TRAIN: 82 [0/4038 (0%)]\tLoss: 0.501602, Accuracy: 7/8 (87.500%)\n",
      "TRAIN: LOSS-->0.0870 (0.3458)\tACC-->100.000% (88.246%)\n",
      "TRAIN: 82 [1600/4038 (40%)]\tLoss: 0.087014, Accuracy: 8/8 (100.000%)\n",
      "TRAIN: LOSS-->0.3586 (0.3462)\tACC-->75.000% (88.279%)\n",
      "TRAIN: 82 [3200/4038 (79%)]\tLoss: 0.358561, Accuracy: 6/8 (75.000%)\n",
      "VAL:   LOSS--> 0.0650 (0.0650)\tACC-->100.000 (100.000)\n",
      " * Accuracy 93.2584\n"
     ]
    },
    {
     "name": "stderr",
     "output_type": "stream",
     "text": [
      "\r",
      " 38%|█████████████████████████████████████████████████████▏                                                                                       | 83/220 [3:39:49<6:02:51, 158.92s/it]"
     ]
    },
    {
     "name": "stdout",
     "output_type": "stream",
     "text": [
      "TRAIN: LOSS-->0.0367 (0.0367)\tACC-->100.000% (100.000%)\n",
      "TRAIN: 83 [0/4038 (0%)]\tLoss: 0.036739, Accuracy: 8/8 (100.000%)\n",
      "TRAIN: LOSS-->0.0837 (0.3046)\tACC-->100.000% (89.366%)\n",
      "TRAIN: 83 [1600/4038 (40%)]\tLoss: 0.083673, Accuracy: 8/8 (100.000%)\n",
      "TRAIN: LOSS-->0.0895 (0.3158)\tACC-->100.000% (88.747%)\n",
      "TRAIN: 83 [3200/4038 (79%)]\tLoss: 0.089515, Accuracy: 8/8 (100.000%)\n",
      "VAL:   LOSS--> 1.4645 (1.4645)\tACC-->75.000 (75.000)\n",
      " * Accuracy 92.5562\n"
     ]
    },
    {
     "name": "stderr",
     "output_type": "stream",
     "text": [
      "\r",
      " 38%|█████████████████████████████████████████████████████▊                                                                                       | 84/220 [3:42:33<6:00:20, 158.97s/it]"
     ]
    },
    {
     "name": "stdout",
     "output_type": "stream",
     "text": [
      "TRAIN: LOSS-->0.4125 (0.4125)\tACC-->75.000% (75.000%)\n",
      "TRAIN: 84 [0/4038 (0%)]\tLoss: 0.412473, Accuracy: 6/8 (75.000%)\n",
      "TRAIN: LOSS-->0.2989 (0.3279)\tACC-->87.500% (89.055%)\n",
      "TRAIN: 84 [1600/4038 (40%)]\tLoss: 0.298866, Accuracy: 7/8 (87.500%)\n",
      "TRAIN: LOSS-->0.4830 (0.3488)\tACC-->87.500% (88.061%)\n",
      "TRAIN: 84 [3200/4038 (79%)]\tLoss: 0.482967, Accuracy: 7/8 (87.500%)\n",
      "VAL:   LOSS--> 0.0510 (0.0510)\tACC-->100.000 (100.000)\n",
      " * Accuracy 94.8034\n"
     ]
    },
    {
     "name": "stderr",
     "output_type": "stream",
     "text": [
      "\r",
      " 39%|██████████████████████████████████████████████████████▍                                                                                      | 85/220 [3:45:17<5:57:48, 159.03s/it]"
     ]
    },
    {
     "name": "stdout",
     "output_type": "stream",
     "text": [
      "TRAIN: LOSS-->0.5112 (0.5112)\tACC-->87.500% (87.500%)\n",
      "TRAIN: 85 [0/4038 (0%)]\tLoss: 0.511182, Accuracy: 7/8 (87.500%)\n",
      "TRAIN: LOSS-->0.0395 (0.3155)\tACC-->100.000% (88.557%)\n",
      "TRAIN: 85 [1600/4038 (40%)]\tLoss: 0.039453, Accuracy: 8/8 (100.000%)\n",
      "TRAIN: LOSS-->0.0463 (0.3227)\tACC-->100.000% (88.591%)\n",
      "TRAIN: 85 [3200/4038 (79%)]\tLoss: 0.046295, Accuracy: 8/8 (100.000%)\n",
      "VAL:   LOSS--> 0.0297 (0.0297)\tACC-->100.000 (100.000)\n",
      " * Accuracy 96.7697\n"
     ]
    },
    {
     "name": "stderr",
     "output_type": "stream",
     "text": [
      "\r",
      " 39%|███████████████████████████████████████████████████████                                                                                      | 86/220 [3:47:56<5:55:10, 159.03s/it]"
     ]
    },
    {
     "name": "stdout",
     "output_type": "stream",
     "text": [
      "TRAIN: LOSS-->0.6878 (0.6878)\tACC-->62.500% (62.500%)\n",
      "TRAIN: 86 [0/4038 (0%)]\tLoss: 0.687775, Accuracy: 5/8 (62.500%)\n",
      "TRAIN: LOSS-->0.0350 (0.3753)\tACC-->100.000% (87.127%)\n",
      "TRAIN: 86 [1600/4038 (40%)]\tLoss: 0.034985, Accuracy: 8/8 (100.000%)\n",
      "TRAIN: LOSS-->1.4054 (0.3534)\tACC-->62.500% (88.030%)\n",
      "TRAIN: 86 [3200/4038 (79%)]\tLoss: 1.405399, Accuracy: 5/8 (62.500%)\n",
      "VAL:   LOSS--> 0.0293 (0.0293)\tACC-->100.000 (100.000)\n",
      " * Accuracy 93.8202\n"
     ]
    },
    {
     "name": "stderr",
     "output_type": "stream",
     "text": [
      "\r",
      " 40%|███████████████████████████████████████████████████████▊                                                                                     | 87/220 [3:50:35<5:52:30, 159.02s/it]"
     ]
    },
    {
     "name": "stdout",
     "output_type": "stream",
     "text": [
      "TRAIN: LOSS-->0.5436 (0.5436)\tACC-->75.000% (75.000%)\n",
      "TRAIN: 87 [0/4038 (0%)]\tLoss: 0.543620, Accuracy: 6/8 (75.000%)\n",
      "TRAIN: LOSS-->0.1155 (0.2774)\tACC-->100.000% (89.241%)\n",
      "TRAIN: 87 [1600/4038 (40%)]\tLoss: 0.115517, Accuracy: 8/8 (100.000%)\n",
      "TRAIN: LOSS-->0.6885 (0.3078)\tACC-->75.000% (88.591%)\n",
      "TRAIN: 87 [3200/4038 (79%)]\tLoss: 0.688534, Accuracy: 6/8 (75.000%)\n",
      "VAL:   LOSS--> 0.0540 (0.0540)\tACC-->100.000 (100.000)\n",
      " * Accuracy 93.5393\n"
     ]
    },
    {
     "name": "stderr",
     "output_type": "stream",
     "text": [
      "\r",
      " 40%|████████████████████████████████████████████████████████▍                                                                                    | 88/220 [3:53:13<5:49:50, 159.02s/it]"
     ]
    },
    {
     "name": "stdout",
     "output_type": "stream",
     "text": [
      "TRAIN: LOSS-->0.8086 (0.8086)\tACC-->62.500% (62.500%)\n",
      "TRAIN: 88 [0/4038 (0%)]\tLoss: 0.808608, Accuracy: 5/8 (62.500%)\n",
      "TRAIN: LOSS-->0.4928 (0.3401)\tACC-->62.500% (88.246%)\n",
      "TRAIN: 88 [1600/4038 (40%)]\tLoss: 0.492753, Accuracy: 5/8 (62.500%)\n",
      "TRAIN: LOSS-->0.3888 (0.3454)\tACC-->87.500% (87.874%)\n",
      "TRAIN: 88 [3200/4038 (79%)]\tLoss: 0.388768, Accuracy: 7/8 (87.500%)\n",
      "VAL:   LOSS--> 0.0079 (0.0079)\tACC-->100.000 (100.000)\n",
      " * Accuracy 91.8539\n"
     ]
    },
    {
     "name": "stderr",
     "output_type": "stream",
     "text": [
      "\r",
      " 40%|█████████████████████████████████████████████████████████                                                                                    | 89/220 [3:55:52<5:47:11, 159.02s/it]"
     ]
    },
    {
     "name": "stdout",
     "output_type": "stream",
     "text": [
      "TRAIN: LOSS-->0.4851 (0.4851)\tACC-->87.500% (87.500%)\n",
      "TRAIN: 89 [0/4038 (0%)]\tLoss: 0.485142, Accuracy: 7/8 (87.500%)\n",
      "TRAIN: LOSS-->0.0210 (0.3523)\tACC-->100.000% (87.002%)\n",
      "TRAIN: 89 [1600/4038 (40%)]\tLoss: 0.021044, Accuracy: 8/8 (100.000%)\n",
      "TRAIN: LOSS-->0.4103 (0.3296)\tACC-->87.500% (87.999%)\n",
      "TRAIN: 89 [3200/4038 (79%)]\tLoss: 0.410317, Accuracy: 7/8 (87.500%)\n",
      "VAL:   LOSS--> 0.1185 (0.1185)\tACC-->100.000 (100.000)\n",
      " * Accuracy 94.9438\n"
     ]
    },
    {
     "name": "stderr",
     "output_type": "stream",
     "text": [
      "\r",
      " 41%|█████████████████████████████████████████████████████████▋                                                                                   | 90/220 [3:58:31<5:44:32, 159.02s/it]"
     ]
    },
    {
     "name": "stdout",
     "output_type": "stream",
     "text": [
      "TRAIN: LOSS-->0.0372 (0.0372)\tACC-->100.000% (100.000%)\n",
      "TRAIN: 90 [0/4038 (0%)]\tLoss: 0.037218, Accuracy: 8/8 (100.000%)\n",
      "TRAIN: LOSS-->0.1754 (0.3292)\tACC-->100.000% (89.179%)\n",
      "TRAIN: 90 [1600/4038 (40%)]\tLoss: 0.175427, Accuracy: 8/8 (100.000%)\n",
      "TRAIN: LOSS-->0.3716 (0.3269)\tACC-->87.500% (89.246%)\n",
      "TRAIN: 90 [3200/4038 (79%)]\tLoss: 0.371604, Accuracy: 7/8 (87.500%)\n",
      "VAL:   LOSS--> 0.0230 (0.0230)\tACC-->100.000 (100.000)\n",
      " * Accuracy 94.3820\n"
     ]
    },
    {
     "name": "stderr",
     "output_type": "stream",
     "text": [
      "\r",
      " 41%|██████████████████████████████████████████████████████████▎                                                                                  | 91/220 [4:01:09<5:41:52, 159.01s/it]"
     ]
    },
    {
     "name": "stdout",
     "output_type": "stream",
     "text": [
      "TRAIN: LOSS-->0.2511 (0.2511)\tACC-->87.500% (87.500%)\n",
      "TRAIN: 91 [0/4038 (0%)]\tLoss: 0.251115, Accuracy: 7/8 (87.500%)\n",
      "TRAIN: LOSS-->0.1381 (0.3348)\tACC-->87.500% (87.251%)\n",
      "TRAIN: 91 [1600/4038 (40%)]\tLoss: 0.138050, Accuracy: 7/8 (87.500%)\n",
      "TRAIN: LOSS-->0.4661 (0.3247)\tACC-->75.000% (88.310%)\n",
      "TRAIN: 91 [3200/4038 (79%)]\tLoss: 0.466081, Accuracy: 6/8 (75.000%)\n",
      "VAL:   LOSS--> 0.7905 (0.7905)\tACC-->75.000 (75.000)\n",
      " * Accuracy 91.1517\n"
     ]
    },
    {
     "name": "stderr",
     "output_type": "stream",
     "text": [
      "\r",
      " 42%|██████████████████████████████████████████████████████████▉                                                                                  | 92/220 [4:03:48<5:39:13, 159.01s/it]"
     ]
    },
    {
     "name": "stdout",
     "output_type": "stream",
     "text": [
      "TRAIN: LOSS-->0.2274 (0.2274)\tACC-->100.000% (100.000%)\n",
      "TRAIN: 92 [0/4038 (0%)]\tLoss: 0.227362, Accuracy: 8/8 (100.000%)\n",
      "TRAIN: LOSS-->0.1936 (0.3363)\tACC-->87.500% (87.998%)\n",
      "TRAIN: 92 [1600/4038 (40%)]\tLoss: 0.193635, Accuracy: 7/8 (87.500%)\n",
      "TRAIN: LOSS-->0.3903 (0.3405)\tACC-->87.500% (87.812%)\n",
      "TRAIN: 92 [3200/4038 (79%)]\tLoss: 0.390305, Accuracy: 7/8 (87.500%)\n",
      "VAL:   LOSS--> 0.0384 (0.0384)\tACC-->100.000 (100.000)\n",
      " * Accuracy 94.5225\n"
     ]
    },
    {
     "name": "stderr",
     "output_type": "stream",
     "text": [
      "\r",
      " 42%|███████████████████████████████████████████████████████████▌                                                                                 | 93/220 [4:06:27<5:36:33, 159.00s/it]"
     ]
    },
    {
     "name": "stdout",
     "output_type": "stream",
     "text": [
      "TRAIN: LOSS-->0.0475 (0.0475)\tACC-->100.000% (100.000%)\n",
      "TRAIN: 93 [0/4038 (0%)]\tLoss: 0.047530, Accuracy: 8/8 (100.000%)\n",
      "TRAIN: LOSS-->0.2215 (0.2665)\tACC-->87.500% (90.672%)\n",
      "TRAIN: 93 [1600/4038 (40%)]\tLoss: 0.221520, Accuracy: 7/8 (87.500%)\n",
      "TRAIN: LOSS-->0.1437 (0.2783)\tACC-->100.000% (90.056%)\n",
      "TRAIN: 93 [3200/4038 (79%)]\tLoss: 0.143656, Accuracy: 8/8 (100.000%)\n",
      "VAL:   LOSS--> 0.3457 (0.3457)\tACC-->87.500 (87.500)\n",
      " * Accuracy 93.3989\n"
     ]
    },
    {
     "name": "stderr",
     "output_type": "stream",
     "text": [
      "\r",
      " 43%|████████████████████████████████████████████████████████████▏                                                                                | 94/220 [4:09:05<5:33:53, 159.00s/it]"
     ]
    },
    {
     "name": "stdout",
     "output_type": "stream",
     "text": [
      "TRAIN: LOSS-->0.3700 (0.3700)\tACC-->87.500% (87.500%)\n",
      "TRAIN: 94 [0/4038 (0%)]\tLoss: 0.370012, Accuracy: 7/8 (87.500%)\n",
      "TRAIN: LOSS-->0.1377 (0.3085)\tACC-->100.000% (89.303%)\n",
      "TRAIN: 94 [1600/4038 (40%)]\tLoss: 0.137750, Accuracy: 8/8 (100.000%)\n",
      "TRAIN: LOSS-->0.3500 (0.3052)\tACC-->87.500% (89.464%)\n",
      "TRAIN: 94 [3200/4038 (79%)]\tLoss: 0.349985, Accuracy: 7/8 (87.500%)\n",
      "VAL:   LOSS--> 0.0189 (0.0189)\tACC-->100.000 (100.000)\n",
      " * Accuracy 95.7865\n"
     ]
    },
    {
     "name": "stderr",
     "output_type": "stream",
     "text": [
      "\r",
      " 43%|████████████████████████████████████████████████████████████▉                                                                                | 95/220 [4:11:44<5:31:14, 158.99s/it]"
     ]
    },
    {
     "name": "stdout",
     "output_type": "stream",
     "text": [
      "TRAIN: LOSS-->0.1707 (0.1707)\tACC-->100.000% (100.000%)\n",
      "TRAIN: 95 [0/4038 (0%)]\tLoss: 0.170705, Accuracy: 8/8 (100.000%)\n",
      "TRAIN: LOSS-->0.0282 (0.3081)\tACC-->100.000% (89.490%)\n",
      "TRAIN: 95 [1600/4038 (40%)]\tLoss: 0.028199, Accuracy: 8/8 (100.000%)\n",
      "TRAIN: LOSS-->0.2638 (0.3036)\tACC-->87.500% (89.495%)\n",
      "TRAIN: 95 [3200/4038 (79%)]\tLoss: 0.263792, Accuracy: 7/8 (87.500%)\n",
      "VAL:   LOSS--> 0.1471 (0.1471)\tACC-->87.500 (87.500)\n",
      " * Accuracy 93.3989\n"
     ]
    },
    {
     "name": "stderr",
     "output_type": "stream",
     "text": [
      "\r",
      " 44%|█████████████████████████████████████████████████████████████▌                                                                               | 96/220 [4:14:22<5:28:34, 158.99s/it]"
     ]
    },
    {
     "name": "stdout",
     "output_type": "stream",
     "text": [
      "TRAIN: LOSS-->0.1970 (0.1970)\tACC-->87.500% (87.500%)\n",
      "TRAIN: 96 [0/4038 (0%)]\tLoss: 0.196962, Accuracy: 7/8 (87.500%)\n",
      "TRAIN: LOSS-->0.2762 (0.2966)\tACC-->87.500% (89.925%)\n",
      "TRAIN: 96 [1600/4038 (40%)]\tLoss: 0.276190, Accuracy: 7/8 (87.500%)\n",
      "TRAIN: LOSS-->0.3942 (0.3099)\tACC-->87.500% (89.557%)\n",
      "TRAIN: 96 [3200/4038 (79%)]\tLoss: 0.394164, Accuracy: 7/8 (87.500%)\n",
      "VAL:   LOSS--> 0.0028 (0.0028)\tACC-->100.000 (100.000)\n",
      " * Accuracy 94.9438\n"
     ]
    },
    {
     "name": "stderr",
     "output_type": "stream",
     "text": [
      "\r",
      " 44%|██████████████████████████████████████████████████████████████▏                                                                              | 97/220 [4:17:01<5:25:55, 158.99s/it]"
     ]
    },
    {
     "name": "stdout",
     "output_type": "stream",
     "text": [
      "TRAIN: LOSS-->0.2202 (0.2202)\tACC-->87.500% (87.500%)\n",
      "TRAIN: 97 [0/4038 (0%)]\tLoss: 0.220250, Accuracy: 7/8 (87.500%)\n",
      "TRAIN: LOSS-->0.5969 (0.3151)\tACC-->75.000% (89.552%)\n",
      "TRAIN: 97 [1600/4038 (40%)]\tLoss: 0.596853, Accuracy: 6/8 (75.000%)\n",
      "TRAIN: LOSS-->0.3725 (0.3139)\tACC-->87.500% (89.308%)\n",
      "TRAIN: 97 [3200/4038 (79%)]\tLoss: 0.372501, Accuracy: 7/8 (87.500%)\n",
      "VAL:   LOSS--> 0.0040 (0.0040)\tACC-->100.000 (100.000)\n",
      " * Accuracy 94.6629\n"
     ]
    },
    {
     "name": "stderr",
     "output_type": "stream",
     "text": [
      "\r",
      " 45%|██████████████████████████████████████████████████████████████▊                                                                              | 98/220 [4:19:40<5:23:15, 158.98s/it]"
     ]
    },
    {
     "name": "stdout",
     "output_type": "stream",
     "text": [
      "TRAIN: LOSS-->0.2413 (0.2413)\tACC-->87.500% (87.500%)\n",
      "TRAIN: 98 [0/4038 (0%)]\tLoss: 0.241335, Accuracy: 7/8 (87.500%)\n",
      "TRAIN: LOSS-->0.0903 (0.2929)\tACC-->100.000% (89.925%)\n",
      "TRAIN: 98 [1600/4038 (40%)]\tLoss: 0.090348, Accuracy: 8/8 (100.000%)\n",
      "TRAIN: LOSS-->0.0165 (0.3016)\tACC-->100.000% (89.557%)\n",
      "TRAIN: 98 [3200/4038 (79%)]\tLoss: 0.016509, Accuracy: 8/8 (100.000%)\n",
      "VAL:   LOSS--> 0.0010 (0.0010)\tACC-->100.000 (100.000)\n",
      " * Accuracy 95.7865\n"
     ]
    },
    {
     "name": "stderr",
     "output_type": "stream",
     "text": [
      "\r",
      " 45%|███████████████████████████████████████████████████████████████▍                                                                             | 99/220 [4:22:19<5:20:36, 158.98s/it]"
     ]
    },
    {
     "name": "stdout",
     "output_type": "stream",
     "text": [
      "TRAIN: LOSS-->0.3130 (0.3130)\tACC-->87.500% (87.500%)\n",
      "TRAIN: 99 [0/4038 (0%)]\tLoss: 0.312955, Accuracy: 7/8 (87.500%)\n",
      "TRAIN: LOSS-->0.0778 (0.2925)\tACC-->100.000% (89.055%)\n",
      "TRAIN: 99 [1600/4038 (40%)]\tLoss: 0.077810, Accuracy: 8/8 (100.000%)\n",
      "TRAIN: LOSS-->0.2008 (0.2935)\tACC-->87.500% (89.682%)\n",
      "TRAIN: 99 [3200/4038 (79%)]\tLoss: 0.200785, Accuracy: 7/8 (87.500%)\n",
      "VAL:   LOSS--> 0.0049 (0.0049)\tACC-->100.000 (100.000)\n",
      " * Accuracy 95.9270\n"
     ]
    },
    {
     "name": "stderr",
     "output_type": "stream",
     "text": [
      "\r",
      " 45%|███████████████████████████████████████████████████████████████▋                                                                            | 100/220 [4:24:57<5:17:57, 158.98s/it]"
     ]
    },
    {
     "name": "stdout",
     "output_type": "stream",
     "text": [
      "TRAIN: LOSS-->0.0578 (0.0578)\tACC-->100.000% (100.000%)\n",
      "TRAIN: 100 [0/4038 (0%)]\tLoss: 0.057815, Accuracy: 8/8 (100.000%)\n",
      "TRAIN: LOSS-->0.7122 (0.3324)\tACC-->62.500% (88.184%)\n",
      "TRAIN: 100 [1600/4038 (40%)]\tLoss: 0.712166, Accuracy: 5/8 (62.500%)\n",
      "TRAIN: LOSS-->0.4251 (0.3129)\tACC-->75.000% (88.560%)\n",
      "TRAIN: 100 [3200/4038 (79%)]\tLoss: 0.425108, Accuracy: 6/8 (75.000%)\n",
      "VAL:   LOSS--> 0.0064 (0.0064)\tACC-->100.000 (100.000)\n",
      " * Accuracy 94.1011\n"
     ]
    },
    {
     "name": "stderr",
     "output_type": "stream",
     "text": [
      "\r",
      " 46%|████████████████████████████████████████████████████████████████▎                                                                           | 101/220 [4:27:36<5:15:18, 158.98s/it]"
     ]
    },
    {
     "name": "stdout",
     "output_type": "stream",
     "text": [
      "TRAIN: LOSS-->0.1688 (0.1688)\tACC-->100.000% (100.000%)\n",
      "TRAIN: 101 [0/4038 (0%)]\tLoss: 0.168833, Accuracy: 8/8 (100.000%)\n",
      "TRAIN: LOSS-->0.3548 (0.2845)\tACC-->87.500% (89.988%)\n",
      "TRAIN: 101 [1600/4038 (40%)]\tLoss: 0.354799, Accuracy: 7/8 (87.500%)\n",
      "TRAIN: LOSS-->0.2971 (0.2949)\tACC-->87.500% (89.807%)\n",
      "TRAIN: 101 [3200/4038 (79%)]\tLoss: 0.297111, Accuracy: 7/8 (87.500%)\n",
      "VAL:   LOSS--> 0.0115 (0.0115)\tACC-->100.000 (100.000)\n",
      " * Accuracy 94.6629\n"
     ]
    },
    {
     "name": "stderr",
     "output_type": "stream",
     "text": [
      "\r",
      " 46%|████████████████████████████████████████████████████████████████▉                                                                           | 102/220 [4:30:15<5:12:38, 158.97s/it]"
     ]
    },
    {
     "name": "stdout",
     "output_type": "stream",
     "text": [
      "TRAIN: LOSS-->0.0270 (0.0270)\tACC-->100.000% (100.000%)\n",
      "TRAIN: 102 [0/4038 (0%)]\tLoss: 0.027002, Accuracy: 8/8 (100.000%)\n",
      "TRAIN: LOSS-->0.0483 (0.2789)\tACC-->100.000% (89.801%)\n",
      "TRAIN: 102 [1600/4038 (40%)]\tLoss: 0.048284, Accuracy: 8/8 (100.000%)\n",
      "TRAIN: LOSS-->0.0569 (0.2883)\tACC-->100.000% (89.682%)\n",
      "TRAIN: 102 [3200/4038 (79%)]\tLoss: 0.056859, Accuracy: 8/8 (100.000%)\n",
      "VAL:   LOSS--> 0.0656 (0.0656)\tACC-->100.000 (100.000)\n",
      " * Accuracy 96.4888\n"
     ]
    },
    {
     "name": "stderr",
     "output_type": "stream",
     "text": [
      "\r",
      " 47%|█████████████████████████████████████████████████████████████████▌                                                                          | 103/220 [4:32:54<5:09:59, 158.97s/it]"
     ]
    },
    {
     "name": "stdout",
     "output_type": "stream",
     "text": [
      "TRAIN: LOSS-->0.1817 (0.1817)\tACC-->87.500% (87.500%)\n",
      "TRAIN: 103 [0/4038 (0%)]\tLoss: 0.181666, Accuracy: 7/8 (87.500%)\n",
      "TRAIN: LOSS-->0.0480 (0.3190)\tACC-->100.000% (88.682%)\n",
      "TRAIN: 103 [1600/4038 (40%)]\tLoss: 0.048016, Accuracy: 8/8 (100.000%)\n",
      "TRAIN: LOSS-->0.2152 (0.3214)\tACC-->87.500% (88.435%)\n",
      "TRAIN: 103 [3200/4038 (79%)]\tLoss: 0.215163, Accuracy: 7/8 (87.500%)\n",
      "VAL:   LOSS--> 0.0278 (0.0278)\tACC-->100.000 (100.000)\n",
      " * Accuracy 95.7865\n"
     ]
    },
    {
     "name": "stderr",
     "output_type": "stream",
     "text": [
      "\r",
      " 47%|██████████████████████████████████████████████████████████████████▏                                                                         | 104/220 [4:35:33<5:07:20, 158.97s/it]"
     ]
    },
    {
     "name": "stdout",
     "output_type": "stream",
     "text": [
      "TRAIN: LOSS-->0.0879 (0.0879)\tACC-->100.000% (100.000%)\n",
      "TRAIN: 104 [0/4038 (0%)]\tLoss: 0.087910, Accuracy: 8/8 (100.000%)\n",
      "TRAIN: LOSS-->0.1095 (0.2931)\tACC-->100.000% (89.925%)\n",
      "TRAIN: 104 [1600/4038 (40%)]\tLoss: 0.109488, Accuracy: 8/8 (100.000%)\n",
      "TRAIN: LOSS-->0.0917 (0.2899)\tACC-->100.000% (90.087%)\n",
      "TRAIN: 104 [3200/4038 (79%)]\tLoss: 0.091674, Accuracy: 8/8 (100.000%)\n",
      "VAL:   LOSS--> 0.0036 (0.0036)\tACC-->100.000 (100.000)\n",
      " * Accuracy 95.5056\n"
     ]
    },
    {
     "name": "stderr",
     "output_type": "stream",
     "text": [
      "\r",
      " 48%|██████████████████████████████████████████████████████████████████▊                                                                         | 105/220 [4:38:11<5:04:41, 158.97s/it]"
     ]
    },
    {
     "name": "stdout",
     "output_type": "stream",
     "text": [
      "TRAIN: LOSS-->0.2971 (0.2971)\tACC-->87.500% (87.500%)\n",
      "TRAIN: 105 [0/4038 (0%)]\tLoss: 0.297053, Accuracy: 7/8 (87.500%)\n",
      "TRAIN: LOSS-->0.2483 (0.2652)\tACC-->100.000% (90.796%)\n",
      "TRAIN: 105 [1600/4038 (40%)]\tLoss: 0.248267, Accuracy: 8/8 (100.000%)\n",
      "TRAIN: LOSS-->0.3751 (0.2707)\tACC-->75.000% (90.524%)\n",
      "TRAIN: 105 [3200/4038 (79%)]\tLoss: 0.375132, Accuracy: 6/8 (75.000%)\n",
      "VAL:   LOSS--> 0.5229 (0.5229)\tACC-->75.000 (75.000)\n",
      " * Accuracy 92.4157\n"
     ]
    },
    {
     "name": "stderr",
     "output_type": "stream",
     "text": [
      "\r",
      " 48%|███████████████████████████████████████████████████████████████████▍                                                                        | 106/220 [4:40:50<5:02:02, 158.97s/it]"
     ]
    },
    {
     "name": "stdout",
     "output_type": "stream",
     "text": [
      "TRAIN: LOSS-->0.0902 (0.0902)\tACC-->100.000% (100.000%)\n",
      "TRAIN: 106 [0/4038 (0%)]\tLoss: 0.090237, Accuracy: 8/8 (100.000%)\n",
      "TRAIN: LOSS-->0.1722 (0.3116)\tACC-->87.500% (89.179%)\n",
      "TRAIN: 106 [1600/4038 (40%)]\tLoss: 0.172168, Accuracy: 7/8 (87.500%)\n",
      "TRAIN: LOSS-->0.2288 (0.3091)\tACC-->87.500% (89.464%)\n",
      "TRAIN: 106 [3200/4038 (79%)]\tLoss: 0.228772, Accuracy: 7/8 (87.500%)\n",
      "VAL:   LOSS--> 0.0056 (0.0056)\tACC-->100.000 (100.000)\n",
      " * Accuracy 95.2247\n"
     ]
    },
    {
     "name": "stderr",
     "output_type": "stream",
     "text": [
      "\r",
      " 49%|████████████████████████████████████████████████████████████████████                                                                        | 107/220 [4:43:29<4:59:23, 158.97s/it]"
     ]
    },
    {
     "name": "stdout",
     "output_type": "stream",
     "text": [
      "TRAIN: LOSS-->0.7398 (0.7398)\tACC-->87.500% (87.500%)\n",
      "TRAIN: 107 [0/4038 (0%)]\tLoss: 0.739791, Accuracy: 7/8 (87.500%)\n",
      "TRAIN: LOSS-->0.1578 (0.3270)\tACC-->100.000% (88.308%)\n",
      "TRAIN: 107 [1600/4038 (40%)]\tLoss: 0.157818, Accuracy: 8/8 (100.000%)\n",
      "TRAIN: LOSS-->0.7677 (0.3066)\tACC-->75.000% (89.495%)\n",
      "TRAIN: 107 [3200/4038 (79%)]\tLoss: 0.767687, Accuracy: 6/8 (75.000%)\n",
      "VAL:   LOSS--> 0.4479 (0.4479)\tACC-->75.000 (75.000)\n",
      " * Accuracy 95.2247\n"
     ]
    },
    {
     "name": "stderr",
     "output_type": "stream",
     "text": [
      "\r",
      " 49%|████████████████████████████████████████████████████████████████████▋                                                                       | 108/220 [4:46:08<4:56:43, 158.96s/it]"
     ]
    },
    {
     "name": "stdout",
     "output_type": "stream",
     "text": [
      "TRAIN: LOSS-->0.0811 (0.0811)\tACC-->100.000% (100.000%)\n",
      "TRAIN: 108 [0/4038 (0%)]\tLoss: 0.081067, Accuracy: 8/8 (100.000%)\n",
      "TRAIN: LOSS-->0.1968 (0.2958)\tACC-->87.500% (89.614%)\n",
      "TRAIN: 108 [1600/4038 (40%)]\tLoss: 0.196812, Accuracy: 7/8 (87.500%)\n",
      "TRAIN: LOSS-->0.2200 (0.2955)\tACC-->100.000% (89.433%)\n",
      "TRAIN: 108 [3200/4038 (79%)]\tLoss: 0.219996, Accuracy: 8/8 (100.000%)\n",
      "VAL:   LOSS--> 0.0006 (0.0006)\tACC-->100.000 (100.000)\n",
      " * Accuracy 96.4888\n"
     ]
    },
    {
     "name": "stderr",
     "output_type": "stream",
     "text": [
      "\r",
      " 50%|█████████████████████████████████████████████████████████████████████▎                                                                      | 109/220 [4:48:45<4:54:03, 158.95s/it]"
     ]
    },
    {
     "name": "stdout",
     "output_type": "stream",
     "text": [
      "TRAIN: LOSS-->0.1142 (0.1142)\tACC-->100.000% (100.000%)\n",
      "TRAIN: 109 [0/4038 (0%)]\tLoss: 0.114215, Accuracy: 8/8 (100.000%)\n",
      "TRAIN: LOSS-->0.0180 (0.3012)\tACC-->100.000% (90.174%)\n",
      "TRAIN: 109 [1600/4038 (40%)]\tLoss: 0.017961, Accuracy: 8/8 (100.000%)\n",
      "TRAIN: LOSS-->1.0670 (0.3042)\tACC-->62.500% (89.589%)\n",
      "TRAIN: 109 [3200/4038 (79%)]\tLoss: 1.066996, Accuracy: 5/8 (62.500%)\n",
      "VAL:   LOSS--> 0.0347 (0.0347)\tACC-->100.000 (100.000)\n",
      " * Accuracy 94.3820\n"
     ]
    },
    {
     "name": "stderr",
     "output_type": "stream",
     "text": [
      "\r",
      " 50%|██████████████████████████████████████████████████████████████████████                                                                      | 110/220 [4:51:22<4:51:22, 158.94s/it]"
     ]
    },
    {
     "name": "stdout",
     "output_type": "stream",
     "text": [
      "TRAIN: LOSS-->0.0783 (0.0783)\tACC-->100.000% (100.000%)\n",
      "TRAIN: 110 [0/4038 (0%)]\tLoss: 0.078268, Accuracy: 8/8 (100.000%)\n",
      "TRAIN: LOSS-->0.0822 (0.2620)\tACC-->100.000% (91.418%)\n",
      "TRAIN: 110 [1600/4038 (40%)]\tLoss: 0.082244, Accuracy: 8/8 (100.000%)\n",
      "TRAIN: LOSS-->0.5081 (0.2800)\tACC-->75.000% (90.337%)\n",
      "TRAIN: 110 [3200/4038 (79%)]\tLoss: 0.508119, Accuracy: 6/8 (75.000%)\n",
      "VAL:   LOSS--> 0.0063 (0.0063)\tACC-->100.000 (100.000)\n",
      " * Accuracy 96.3483\n"
     ]
    },
    {
     "name": "stderr",
     "output_type": "stream",
     "text": [
      "\r",
      " 50%|██████████████████████████████████████████████████████████████████████▋                                                                     | 111/220 [4:53:59<4:48:41, 158.91s/it]"
     ]
    },
    {
     "name": "stdout",
     "output_type": "stream",
     "text": [
      "TRAIN: LOSS-->0.8480 (0.8480)\tACC-->75.000% (75.000%)\n",
      "TRAIN: 111 [0/4038 (0%)]\tLoss: 0.847958, Accuracy: 6/8 (75.000%)\n",
      "TRAIN: LOSS-->0.0673 (0.3095)\tACC-->100.000% (89.055%)\n",
      "TRAIN: 111 [1600/4038 (40%)]\tLoss: 0.067294, Accuracy: 8/8 (100.000%)\n",
      "TRAIN: LOSS-->0.0227 (0.2870)\tACC-->100.000% (89.464%)\n",
      "TRAIN: 111 [3200/4038 (79%)]\tLoss: 0.022664, Accuracy: 8/8 (100.000%)\n",
      "VAL:   LOSS--> 0.0334 (0.0334)\tACC-->100.000 (100.000)\n",
      " * Accuracy 93.6798\n"
     ]
    },
    {
     "name": "stderr",
     "output_type": "stream",
     "text": [
      "\r",
      " 51%|███████████████████████████████████████████████████████████████████████▎                                                                    | 112/220 [4:56:36<4:46:01, 158.90s/it]"
     ]
    },
    {
     "name": "stdout",
     "output_type": "stream",
     "text": [
      "TRAIN: LOSS-->0.2266 (0.2266)\tACC-->87.500% (87.500%)\n",
      "TRAIN: 112 [0/4038 (0%)]\tLoss: 0.226592, Accuracy: 7/8 (87.500%)\n",
      "TRAIN: LOSS-->0.9943 (0.2567)\tACC-->62.500% (90.299%)\n",
      "TRAIN: 112 [1600/4038 (40%)]\tLoss: 0.994317, Accuracy: 5/8 (62.500%)\n",
      "TRAIN: LOSS-->0.4859 (0.2838)\tACC-->87.500% (89.744%)\n",
      "TRAIN: 112 [3200/4038 (79%)]\tLoss: 0.485862, Accuracy: 7/8 (87.500%)\n",
      "VAL:   LOSS--> 0.0079 (0.0079)\tACC-->100.000 (100.000)\n",
      " * Accuracy 96.3483\n"
     ]
    },
    {
     "name": "stderr",
     "output_type": "stream",
     "text": [
      "\r",
      " 51%|███████████████████████████████████████████████████████████████████████▉                                                                    | 113/220 [4:59:14<4:43:20, 158.89s/it]"
     ]
    },
    {
     "name": "stdout",
     "output_type": "stream",
     "text": [
      "TRAIN: LOSS-->0.2029 (0.2029)\tACC-->100.000% (100.000%)\n",
      "TRAIN: 113 [0/4038 (0%)]\tLoss: 0.202869, Accuracy: 8/8 (100.000%)\n",
      "TRAIN: LOSS-->0.1764 (0.2949)\tACC-->100.000% (90.236%)\n",
      "TRAIN: 113 [1600/4038 (40%)]\tLoss: 0.176350, Accuracy: 8/8 (100.000%)\n",
      "TRAIN: LOSS-->0.0119 (0.2748)\tACC-->100.000% (90.617%)\n",
      "TRAIN: 113 [3200/4038 (79%)]\tLoss: 0.011862, Accuracy: 8/8 (100.000%)\n",
      "VAL:   LOSS--> 0.7865 (0.7865)\tACC-->75.000 (75.000)\n",
      " * Accuracy 94.3820\n"
     ]
    },
    {
     "name": "stderr",
     "output_type": "stream",
     "text": [
      "\r",
      " 52%|████████████████████████████████████████████████████████████████████████▌                                                                   | 114/220 [5:01:51<4:40:40, 158.87s/it]"
     ]
    },
    {
     "name": "stdout",
     "output_type": "stream",
     "text": [
      "TRAIN: LOSS-->0.0116 (0.0116)\tACC-->100.000% (100.000%)\n",
      "TRAIN: 114 [0/4038 (0%)]\tLoss: 0.011647, Accuracy: 8/8 (100.000%)\n",
      "TRAIN: LOSS-->1.1307 (0.2961)\tACC-->75.000% (90.236%)\n",
      "TRAIN: 114 [1600/4038 (40%)]\tLoss: 1.130731, Accuracy: 6/8 (75.000%)\n",
      "TRAIN: LOSS-->0.2326 (0.2889)\tACC-->87.500% (89.744%)\n",
      "TRAIN: 114 [3200/4038 (79%)]\tLoss: 0.232593, Accuracy: 7/8 (87.500%)\n",
      "VAL:   LOSS--> 0.1605 (0.1605)\tACC-->87.500 (87.500)\n",
      " * Accuracy 95.3652\n"
     ]
    },
    {
     "name": "stderr",
     "output_type": "stream",
     "text": [
      "\r",
      " 52%|█████████████████████████████████████████████████████████████████████████▏                                                                  | 115/220 [5:04:28<4:38:00, 158.86s/it]"
     ]
    },
    {
     "name": "stdout",
     "output_type": "stream",
     "text": [
      "TRAIN: LOSS-->0.1637 (0.1637)\tACC-->87.500% (87.500%)\n",
      "TRAIN: 115 [0/4038 (0%)]\tLoss: 0.163728, Accuracy: 7/8 (87.500%)\n",
      "TRAIN: LOSS-->0.4327 (0.2863)\tACC-->87.500% (90.112%)\n",
      "TRAIN: 115 [1600/4038 (40%)]\tLoss: 0.432721, Accuracy: 7/8 (87.500%)\n",
      "TRAIN: LOSS-->0.3240 (0.2962)\tACC-->87.500% (89.620%)\n",
      "TRAIN: 115 [3200/4038 (79%)]\tLoss: 0.324014, Accuracy: 7/8 (87.500%)\n",
      "VAL:   LOSS--> 0.2068 (0.2068)\tACC-->87.500 (87.500)\n",
      " * Accuracy 95.7865\n"
     ]
    },
    {
     "name": "stderr",
     "output_type": "stream",
     "text": [
      "\r",
      " 53%|█████████████████████████████████████████████████████████████████████████▊                                                                  | 116/220 [5:07:05<4:35:19, 158.84s/it]"
     ]
    },
    {
     "name": "stdout",
     "output_type": "stream",
     "text": [
      "TRAIN: LOSS-->0.0453 (0.0453)\tACC-->100.000% (100.000%)\n",
      "TRAIN: 116 [0/4038 (0%)]\tLoss: 0.045262, Accuracy: 8/8 (100.000%)\n",
      "TRAIN: LOSS-->0.4775 (0.2870)\tACC-->75.000% (90.174%)\n",
      "TRAIN: 116 [1600/4038 (40%)]\tLoss: 0.477488, Accuracy: 6/8 (75.000%)\n",
      "TRAIN: LOSS-->0.2601 (0.2886)\tACC-->87.500% (90.056%)\n",
      "TRAIN: 116 [3200/4038 (79%)]\tLoss: 0.260090, Accuracy: 7/8 (87.500%)\n",
      "VAL:   LOSS--> 0.0038 (0.0038)\tACC-->100.000 (100.000)\n",
      " * Accuracy 95.7865\n"
     ]
    },
    {
     "name": "stderr",
     "output_type": "stream",
     "text": [
      "\r",
      " 53%|██████████████████████████████████████████████████████████████████████████▍                                                                 | 117/220 [5:09:41<4:32:38, 158.82s/it]"
     ]
    },
    {
     "name": "stdout",
     "output_type": "stream",
     "text": [
      "TRAIN: LOSS-->0.0381 (0.0381)\tACC-->100.000% (100.000%)\n",
      "TRAIN: 117 [0/4038 (0%)]\tLoss: 0.038146, Accuracy: 8/8 (100.000%)\n",
      "TRAIN: LOSS-->0.0869 (0.2788)\tACC-->100.000% (90.547%)\n",
      "TRAIN: 117 [1600/4038 (40%)]\tLoss: 0.086943, Accuracy: 8/8 (100.000%)\n",
      "TRAIN: LOSS-->0.0598 (0.2871)\tACC-->100.000% (90.337%)\n",
      "TRAIN: 117 [3200/4038 (79%)]\tLoss: 0.059802, Accuracy: 8/8 (100.000%)\n",
      "VAL:   LOSS--> 0.1175 (0.1175)\tACC-->87.500 (87.500)\n",
      " * Accuracy 95.9270\n"
     ]
    },
    {
     "name": "stderr",
     "output_type": "stream",
     "text": [
      "\r",
      " 54%|███████████████████████████████████████████████████████████████████████████                                                                 | 118/220 [5:12:18<4:29:57, 158.80s/it]"
     ]
    },
    {
     "name": "stdout",
     "output_type": "stream",
     "text": [
      "TRAIN: LOSS-->0.3326 (0.3326)\tACC-->87.500% (87.500%)\n",
      "TRAIN: 118 [0/4038 (0%)]\tLoss: 0.332618, Accuracy: 7/8 (87.500%)\n",
      "TRAIN: LOSS-->0.0698 (0.3031)\tACC-->100.000% (89.117%)\n",
      "TRAIN: 118 [1600/4038 (40%)]\tLoss: 0.069791, Accuracy: 8/8 (100.000%)\n",
      "TRAIN: LOSS-->0.0718 (0.2959)\tACC-->100.000% (89.557%)\n",
      "TRAIN: 118 [3200/4038 (79%)]\tLoss: 0.071761, Accuracy: 8/8 (100.000%)\n",
      "VAL:   LOSS--> 3.0469 (3.0469)\tACC-->87.500 (87.500)\n",
      " * Accuracy 95.2247\n"
     ]
    },
    {
     "name": "stderr",
     "output_type": "stream",
     "text": [
      "\r",
      " 54%|███████████████████████████████████████████████████████████████████████████▋                                                                | 119/220 [5:14:56<4:27:17, 158.79s/it]"
     ]
    },
    {
     "name": "stdout",
     "output_type": "stream",
     "text": [
      "TRAIN: LOSS-->0.5980 (0.5980)\tACC-->87.500% (87.500%)\n",
      "TRAIN: 119 [0/4038 (0%)]\tLoss: 0.597976, Accuracy: 7/8 (87.500%)\n",
      "TRAIN: LOSS-->0.1545 (0.3098)\tACC-->100.000% (89.863%)\n",
      "TRAIN: 119 [1600/4038 (40%)]\tLoss: 0.154455, Accuracy: 8/8 (100.000%)\n",
      "TRAIN: LOSS-->0.1870 (0.2901)\tACC-->100.000% (89.994%)\n",
      "TRAIN: 119 [3200/4038 (79%)]\tLoss: 0.187030, Accuracy: 8/8 (100.000%)\n",
      "VAL:   LOSS--> 0.3252 (0.3252)\tACC-->75.000 (75.000)\n",
      " * Accuracy 94.9438\n"
     ]
    },
    {
     "name": "stderr",
     "output_type": "stream",
     "text": [
      "\r",
      " 55%|████████████████████████████████████████████████████████████████████████████▎                                                               | 120/220 [5:17:33<4:24:37, 158.78s/it]"
     ]
    },
    {
     "name": "stdout",
     "output_type": "stream",
     "text": [
      "TRAIN: LOSS-->0.4504 (0.4504)\tACC-->87.500% (87.500%)\n",
      "TRAIN: 120 [0/4038 (0%)]\tLoss: 0.450435, Accuracy: 7/8 (87.500%)\n",
      "TRAIN: LOSS-->0.3573 (0.2704)\tACC-->87.500% (90.423%)\n",
      "TRAIN: 120 [1600/4038 (40%)]\tLoss: 0.357263, Accuracy: 7/8 (87.500%)\n",
      "TRAIN: LOSS-->0.0484 (0.2766)\tACC-->100.000% (90.461%)\n",
      "TRAIN: 120 [3200/4038 (79%)]\tLoss: 0.048434, Accuracy: 8/8 (100.000%)\n",
      "VAL:   LOSS--> 0.0158 (0.0158)\tACC-->100.000 (100.000)\n",
      " * Accuracy 95.9270\n"
     ]
    },
    {
     "name": "stderr",
     "output_type": "stream",
     "text": [
      "\r",
      " 55%|█████████████████████████████████████████████████████████████████████████████                                                               | 121/220 [5:20:10<4:21:57, 158.76s/it]"
     ]
    },
    {
     "name": "stdout",
     "output_type": "stream",
     "text": [
      "TRAIN: LOSS-->0.0340 (0.0340)\tACC-->100.000% (100.000%)\n",
      "TRAIN: 121 [0/4038 (0%)]\tLoss: 0.033960, Accuracy: 8/8 (100.000%)\n",
      "TRAIN: LOSS-->0.5390 (0.2548)\tACC-->75.000% (90.858%)\n",
      "TRAIN: 121 [1600/4038 (40%)]\tLoss: 0.538951, Accuracy: 6/8 (75.000%)\n",
      "TRAIN: LOSS-->0.1663 (0.2825)\tACC-->100.000% (89.900%)\n",
      "TRAIN: 121 [3200/4038 (79%)]\tLoss: 0.166252, Accuracy: 8/8 (100.000%)\n",
      "VAL:   LOSS--> 0.0917 (0.0917)\tACC-->87.500 (87.500)\n",
      " * Accuracy 95.6461\n"
     ]
    },
    {
     "name": "stderr",
     "output_type": "stream",
     "text": [
      "\r",
      " 55%|█████████████████████████████████████████████████████████████████████████████▋                                                              | 122/220 [5:22:48<4:19:17, 158.75s/it]"
     ]
    },
    {
     "name": "stdout",
     "output_type": "stream",
     "text": [
      "TRAIN: LOSS-->0.0046 (0.0046)\tACC-->100.000% (100.000%)\n",
      "TRAIN: 122 [0/4038 (0%)]\tLoss: 0.004567, Accuracy: 8/8 (100.000%)\n",
      "TRAIN: LOSS-->0.1700 (0.2693)\tACC-->87.500% (89.801%)\n",
      "TRAIN: 122 [1600/4038 (40%)]\tLoss: 0.170024, Accuracy: 7/8 (87.500%)\n",
      "TRAIN: LOSS-->0.3148 (0.2661)\tACC-->87.500% (90.181%)\n",
      "TRAIN: 122 [3200/4038 (79%)]\tLoss: 0.314818, Accuracy: 7/8 (87.500%)\n",
      "VAL:   LOSS--> 1.9197 (1.9197)\tACC-->87.500 (87.500)\n",
      " * Accuracy 95.0843\n"
     ]
    },
    {
     "name": "stderr",
     "output_type": "stream",
     "text": [
      "\r",
      " 56%|██████████████████████████████████████████████████████████████████████████████▎                                                             | 123/220 [5:25:25<4:16:37, 158.74s/it]"
     ]
    },
    {
     "name": "stdout",
     "output_type": "stream",
     "text": [
      "TRAIN: LOSS-->0.3215 (0.3215)\tACC-->87.500% (87.500%)\n",
      "TRAIN: 123 [0/4038 (0%)]\tLoss: 0.321518, Accuracy: 7/8 (87.500%)\n",
      "TRAIN: LOSS-->0.2787 (0.2708)\tACC-->87.500% (90.361%)\n",
      "TRAIN: 123 [1600/4038 (40%)]\tLoss: 0.278746, Accuracy: 7/8 (87.500%)\n",
      "TRAIN: LOSS-->0.0096 (0.2713)\tACC-->100.000% (90.586%)\n",
      "TRAIN: 123 [3200/4038 (79%)]\tLoss: 0.009608, Accuracy: 8/8 (100.000%)\n",
      "VAL:   LOSS--> 3.1676 (3.1676)\tACC-->75.000 (75.000)\n",
      " * Accuracy 97.3315\n"
     ]
    },
    {
     "name": "stderr",
     "output_type": "stream",
     "text": [
      "\r",
      " 56%|██████████████████████████████████████████████████████████████████████████████▉                                                             | 124/220 [5:28:02<4:13:58, 158.73s/it]"
     ]
    },
    {
     "name": "stdout",
     "output_type": "stream",
     "text": [
      "TRAIN: LOSS-->0.1496 (0.1496)\tACC-->100.000% (100.000%)\n",
      "TRAIN: 124 [0/4038 (0%)]\tLoss: 0.149625, Accuracy: 8/8 (100.000%)\n",
      "TRAIN: LOSS-->0.6580 (0.2503)\tACC-->75.000% (91.978%)\n",
      "TRAIN: 124 [1600/4038 (40%)]\tLoss: 0.658043, Accuracy: 6/8 (75.000%)\n",
      "TRAIN: LOSS-->0.3767 (0.2577)\tACC-->87.500% (91.241%)\n",
      "TRAIN: 124 [3200/4038 (79%)]\tLoss: 0.376744, Accuracy: 7/8 (87.500%)\n",
      "VAL:   LOSS--> 0.0785 (0.0785)\tACC-->100.000 (100.000)\n",
      " * Accuracy 95.6461\n"
     ]
    },
    {
     "name": "stderr",
     "output_type": "stream",
     "text": [
      "\r",
      " 57%|███████████████████████████████████████████████████████████████████████████████▌                                                            | 125/220 [5:30:39<4:11:18, 158.72s/it]"
     ]
    },
    {
     "name": "stdout",
     "output_type": "stream",
     "text": [
      "TRAIN: LOSS-->0.0222 (0.0222)\tACC-->100.000% (100.000%)\n",
      "TRAIN: 125 [0/4038 (0%)]\tLoss: 0.022226, Accuracy: 8/8 (100.000%)\n",
      "TRAIN: LOSS-->0.8159 (0.2725)\tACC-->62.500% (90.423%)\n",
      "TRAIN: 125 [1600/4038 (40%)]\tLoss: 0.815904, Accuracy: 5/8 (62.500%)\n",
      "TRAIN: LOSS-->0.4165 (0.2692)\tACC-->75.000% (90.929%)\n",
      "TRAIN: 125 [3200/4038 (79%)]\tLoss: 0.416539, Accuracy: 6/8 (75.000%)\n",
      "VAL:   LOSS--> 0.0008 (0.0008)\tACC-->100.000 (100.000)\n",
      " * Accuracy 96.2079\n"
     ]
    },
    {
     "name": "stderr",
     "output_type": "stream",
     "text": [
      "\r",
      " 57%|████████████████████████████████████████████████████████████████████████████████▏                                                           | 126/220 [5:33:16<4:08:38, 158.70s/it]"
     ]
    },
    {
     "name": "stdout",
     "output_type": "stream",
     "text": [
      "TRAIN: LOSS-->0.3599 (0.3599)\tACC-->87.500% (87.500%)\n",
      "TRAIN: 126 [0/4038 (0%)]\tLoss: 0.359873, Accuracy: 7/8 (87.500%)\n",
      "TRAIN: LOSS-->0.1921 (0.3015)\tACC-->87.500% (89.428%)\n",
      "TRAIN: 126 [1600/4038 (40%)]\tLoss: 0.192067, Accuracy: 7/8 (87.500%)\n",
      "TRAIN: LOSS-->0.2390 (0.2876)\tACC-->87.500% (90.118%)\n",
      "TRAIN: 126 [3200/4038 (79%)]\tLoss: 0.238968, Accuracy: 7/8 (87.500%)\n",
      "VAL:   LOSS--> 0.4176 (0.4176)\tACC-->87.500 (87.500)\n",
      " * Accuracy 94.9438\n"
     ]
    },
    {
     "name": "stderr",
     "output_type": "stream",
     "text": [
      "\r",
      " 58%|████████████████████████████████████████████████████████████████████████████████▊                                                           | 127/220 [5:35:54<4:05:58, 158.69s/it]"
     ]
    },
    {
     "name": "stdout",
     "output_type": "stream",
     "text": [
      "TRAIN: LOSS-->0.1612 (0.1612)\tACC-->100.000% (100.000%)\n",
      "TRAIN: 127 [0/4038 (0%)]\tLoss: 0.161205, Accuracy: 8/8 (100.000%)\n",
      "TRAIN: LOSS-->0.2086 (0.2598)\tACC-->87.500% (90.547%)\n",
      "TRAIN: 127 [1600/4038 (40%)]\tLoss: 0.208603, Accuracy: 7/8 (87.500%)\n",
      "TRAIN: LOSS-->0.0884 (0.2821)\tACC-->100.000% (90.586%)\n",
      "TRAIN: 127 [3200/4038 (79%)]\tLoss: 0.088391, Accuracy: 8/8 (100.000%)\n",
      "VAL:   LOSS--> 0.0173 (0.0173)\tACC-->100.000 (100.000)\n",
      " * Accuracy 94.5225\n"
     ]
    },
    {
     "name": "stderr",
     "output_type": "stream",
     "text": [
      "\r",
      " 58%|█████████████████████████████████████████████████████████████████████████████████▍                                                          | 128/220 [5:38:32<4:03:19, 158.69s/it]"
     ]
    },
    {
     "name": "stdout",
     "output_type": "stream",
     "text": [
      "TRAIN: LOSS-->0.1394 (0.1394)\tACC-->87.500% (87.500%)\n",
      "TRAIN: 128 [0/4038 (0%)]\tLoss: 0.139441, Accuracy: 7/8 (87.500%)\n",
      "TRAIN: LOSS-->0.0332 (0.2851)\tACC-->100.000% (90.112%)\n",
      "TRAIN: 128 [1600/4038 (40%)]\tLoss: 0.033163, Accuracy: 8/8 (100.000%)\n",
      "TRAIN: LOSS-->0.0065 (0.2865)\tACC-->100.000% (90.118%)\n",
      "TRAIN: 128 [3200/4038 (79%)]\tLoss: 0.006548, Accuracy: 8/8 (100.000%)\n",
      "VAL:   LOSS--> 0.1319 (0.1319)\tACC-->87.500 (87.500)\n",
      " * Accuracy 96.2079\n"
     ]
    },
    {
     "name": "stderr",
     "output_type": "stream",
     "text": [
      "\r",
      " 59%|██████████████████████████████████████████████████████████████████████████████████                                                          | 129/220 [5:41:09<4:00:39, 158.68s/it]"
     ]
    },
    {
     "name": "stdout",
     "output_type": "stream",
     "text": [
      "TRAIN: LOSS-->0.0046 (0.0046)\tACC-->100.000% (100.000%)\n",
      "TRAIN: 129 [0/4038 (0%)]\tLoss: 0.004636, Accuracy: 8/8 (100.000%)\n",
      "TRAIN: LOSS-->0.5354 (0.2527)\tACC-->87.500% (90.299%)\n",
      "TRAIN: 129 [1600/4038 (40%)]\tLoss: 0.535423, Accuracy: 7/8 (87.500%)\n",
      "TRAIN: LOSS-->0.2949 (0.2514)\tACC-->87.500% (90.555%)\n",
      "TRAIN: 129 [3200/4038 (79%)]\tLoss: 0.294927, Accuracy: 7/8 (87.500%)\n",
      "VAL:   LOSS--> 0.0338 (0.0338)\tACC-->100.000 (100.000)\n",
      " * Accuracy 96.3483\n"
     ]
    },
    {
     "name": "stderr",
     "output_type": "stream",
     "text": [
      "\r",
      " 59%|██████████████████████████████████████████████████████████████████████████████████▋                                                         | 130/220 [5:43:46<3:58:00, 158.67s/it]"
     ]
    },
    {
     "name": "stdout",
     "output_type": "stream",
     "text": [
      "TRAIN: LOSS-->0.0143 (0.0143)\tACC-->100.000% (100.000%)\n",
      "TRAIN: 130 [0/4038 (0%)]\tLoss: 0.014260, Accuracy: 8/8 (100.000%)\n",
      "TRAIN: LOSS-->0.0747 (0.2557)\tACC-->100.000% (91.356%)\n",
      "TRAIN: 130 [1600/4038 (40%)]\tLoss: 0.074702, Accuracy: 8/8 (100.000%)\n",
      "TRAIN: LOSS-->0.0872 (0.2622)\tACC-->100.000% (91.178%)\n",
      "TRAIN: 130 [3200/4038 (79%)]\tLoss: 0.087198, Accuracy: 8/8 (100.000%)\n",
      "VAL:   LOSS--> 0.0574 (0.0574)\tACC-->100.000 (100.000)\n",
      " * Accuracy 94.3820\n"
     ]
    },
    {
     "name": "stderr",
     "output_type": "stream",
     "text": [
      "\r",
      " 60%|███████████████████████████████████████████████████████████████████████████████████▎                                                        | 131/220 [5:46:24<3:55:20, 158.66s/it]"
     ]
    },
    {
     "name": "stdout",
     "output_type": "stream",
     "text": [
      "TRAIN: LOSS-->0.0518 (0.0518)\tACC-->100.000% (100.000%)\n",
      "TRAIN: 131 [0/4038 (0%)]\tLoss: 0.051848, Accuracy: 8/8 (100.000%)\n",
      "TRAIN: LOSS-->0.1501 (0.2837)\tACC-->100.000% (90.609%)\n",
      "TRAIN: 131 [1600/4038 (40%)]\tLoss: 0.150067, Accuracy: 8/8 (100.000%)\n",
      "TRAIN: LOSS-->0.1259 (0.2578)\tACC-->100.000% (91.022%)\n",
      "TRAIN: 131 [3200/4038 (79%)]\tLoss: 0.125871, Accuracy: 8/8 (100.000%)\n",
      "VAL:   LOSS--> 0.1246 (0.1246)\tACC-->87.500 (87.500)\n",
      " * Accuracy 93.3989\n"
     ]
    },
    {
     "name": "stderr",
     "output_type": "stream",
     "text": [
      "\r",
      " 60%|████████████████████████████████████████████████████████████████████████████████████                                                        | 132/220 [5:49:01<3:52:41, 158.65s/it]"
     ]
    },
    {
     "name": "stdout",
     "output_type": "stream",
     "text": [
      "TRAIN: LOSS-->0.0235 (0.0235)\tACC-->100.000% (100.000%)\n",
      "TRAIN: 132 [0/4038 (0%)]\tLoss: 0.023542, Accuracy: 8/8 (100.000%)\n",
      "TRAIN: LOSS-->0.3083 (0.2557)\tACC-->87.500% (91.294%)\n",
      "TRAIN: 132 [1600/4038 (40%)]\tLoss: 0.308267, Accuracy: 7/8 (87.500%)\n",
      "TRAIN: LOSS-->0.0132 (0.2405)\tACC-->100.000% (91.708%)\n",
      "TRAIN: 132 [3200/4038 (79%)]\tLoss: 0.013173, Accuracy: 8/8 (100.000%)\n",
      "VAL:   LOSS--> 0.0407 (0.0407)\tACC-->100.000 (100.000)\n",
      " * Accuracy 93.9607\n"
     ]
    },
    {
     "name": "stderr",
     "output_type": "stream",
     "text": [
      "\r",
      " 60%|████████████████████████████████████████████████████████████████████████████████████▋                                                       | 133/220 [5:51:39<3:50:01, 158.64s/it]"
     ]
    },
    {
     "name": "stdout",
     "output_type": "stream",
     "text": [
      "TRAIN: LOSS-->0.0142 (0.0142)\tACC-->100.000% (100.000%)\n",
      "TRAIN: 133 [0/4038 (0%)]\tLoss: 0.014202, Accuracy: 8/8 (100.000%)\n",
      "TRAIN: LOSS-->0.2609 (0.3228)\tACC-->87.500% (88.930%)\n",
      "TRAIN: 133 [1600/4038 (40%)]\tLoss: 0.260912, Accuracy: 7/8 (87.500%)\n",
      "TRAIN: LOSS-->0.4299 (0.2772)\tACC-->75.000% (90.368%)\n",
      "TRAIN: 133 [3200/4038 (79%)]\tLoss: 0.429904, Accuracy: 6/8 (75.000%)\n",
      "VAL:   LOSS--> 0.0920 (0.0920)\tACC-->100.000 (100.000)\n",
      " * Accuracy 94.8034\n"
     ]
    },
    {
     "name": "stderr",
     "output_type": "stream",
     "text": [
      "\r",
      " 61%|█████████████████████████████████████████████████████████████████████████████████████▎                                                      | 134/220 [5:54:16<3:47:22, 158.63s/it]"
     ]
    },
    {
     "name": "stdout",
     "output_type": "stream",
     "text": [
      "TRAIN: LOSS-->0.0830 (0.0830)\tACC-->100.000% (100.000%)\n",
      "TRAIN: 134 [0/4038 (0%)]\tLoss: 0.082996, Accuracy: 8/8 (100.000%)\n",
      "TRAIN: LOSS-->0.2978 (0.2588)\tACC-->87.500% (91.169%)\n",
      "TRAIN: 134 [1600/4038 (40%)]\tLoss: 0.297784, Accuracy: 7/8 (87.500%)\n",
      "TRAIN: LOSS-->0.1737 (0.2705)\tACC-->87.500% (91.209%)\n",
      "TRAIN: 134 [3200/4038 (79%)]\tLoss: 0.173673, Accuracy: 7/8 (87.500%)\n",
      "VAL:   LOSS--> 0.0706 (0.0706)\tACC-->100.000 (100.000)\n",
      " * Accuracy 95.5056\n"
     ]
    },
    {
     "name": "stderr",
     "output_type": "stream",
     "text": [
      "\r",
      " 61%|█████████████████████████████████████████████████████████████████████████████████████▉                                                      | 135/220 [5:56:53<3:44:42, 158.62s/it]"
     ]
    },
    {
     "name": "stdout",
     "output_type": "stream",
     "text": [
      "TRAIN: LOSS-->0.1143 (0.1143)\tACC-->100.000% (100.000%)\n",
      "TRAIN: 135 [0/4038 (0%)]\tLoss: 0.114271, Accuracy: 8/8 (100.000%)\n",
      "TRAIN: LOSS-->0.0594 (0.2303)\tACC-->100.000% (92.786%)\n",
      "TRAIN: 135 [1600/4038 (40%)]\tLoss: 0.059368, Accuracy: 8/8 (100.000%)\n",
      "TRAIN: LOSS-->0.2567 (0.2509)\tACC-->87.500% (92.176%)\n",
      "TRAIN: 135 [3200/4038 (79%)]\tLoss: 0.256659, Accuracy: 7/8 (87.500%)\n",
      "VAL:   LOSS--> 0.0042 (0.0042)\tACC-->100.000 (100.000)\n",
      " * Accuracy 96.2079\n"
     ]
    },
    {
     "name": "stderr",
     "output_type": "stream",
     "text": [
      "\r",
      " 62%|██████████████████████████████████████████████████████████████████████████████████████▌                                                     | 136/220 [5:59:31<3:42:03, 158.61s/it]"
     ]
    },
    {
     "name": "stdout",
     "output_type": "stream",
     "text": [
      "TRAIN: LOSS-->0.2979 (0.2979)\tACC-->100.000% (100.000%)\n",
      "TRAIN: 136 [0/4038 (0%)]\tLoss: 0.297889, Accuracy: 8/8 (100.000%)\n",
      "TRAIN: LOSS-->0.0595 (0.2509)\tACC-->100.000% (91.294%)\n",
      "TRAIN: 136 [1600/4038 (40%)]\tLoss: 0.059468, Accuracy: 8/8 (100.000%)\n",
      "TRAIN: LOSS-->0.1771 (0.2466)\tACC-->87.500% (91.085%)\n",
      "TRAIN: 136 [3200/4038 (79%)]\tLoss: 0.177061, Accuracy: 7/8 (87.500%)\n",
      "VAL:   LOSS--> 0.1687 (0.1687)\tACC-->87.500 (87.500)\n",
      " * Accuracy 95.5056\n"
     ]
    },
    {
     "name": "stderr",
     "output_type": "stream",
     "text": [
      "\r",
      " 62%|███████████████████████████████████████████████████████████████████████████████████████▏                                                    | 137/220 [6:02:07<3:39:23, 158.59s/it]"
     ]
    },
    {
     "name": "stdout",
     "output_type": "stream",
     "text": [
      "TRAIN: LOSS-->0.2120 (0.2120)\tACC-->87.500% (87.500%)\n",
      "TRAIN: 137 [0/4038 (0%)]\tLoss: 0.212036, Accuracy: 7/8 (87.500%)\n",
      "TRAIN: LOSS-->0.2678 (0.2478)\tACC-->100.000% (90.796%)\n",
      "TRAIN: 137 [1600/4038 (40%)]\tLoss: 0.267809, Accuracy: 8/8 (100.000%)\n",
      "TRAIN: LOSS-->0.2747 (0.2621)\tACC-->87.500% (90.742%)\n",
      "TRAIN: 137 [3200/4038 (79%)]\tLoss: 0.274726, Accuracy: 7/8 (87.500%)\n",
      "VAL:   LOSS--> 0.0005 (0.0005)\tACC-->100.000 (100.000)\n",
      " * Accuracy 92.9775\n"
     ]
    },
    {
     "name": "stderr",
     "output_type": "stream",
     "text": [
      "\r",
      " 63%|███████████████████████████████████████████████████████████████████████████████████████▊                                                    | 138/220 [6:04:44<3:36:43, 158.58s/it]"
     ]
    },
    {
     "name": "stdout",
     "output_type": "stream",
     "text": [
      "TRAIN: LOSS-->0.0302 (0.0302)\tACC-->100.000% (100.000%)\n",
      "TRAIN: 138 [0/4038 (0%)]\tLoss: 0.030226, Accuracy: 8/8 (100.000%)\n",
      "TRAIN: LOSS-->0.0360 (0.2476)\tACC-->100.000% (91.915%)\n",
      "TRAIN: 138 [1600/4038 (40%)]\tLoss: 0.035978, Accuracy: 8/8 (100.000%)\n",
      "TRAIN: LOSS-->0.0277 (0.2456)\tACC-->100.000% (91.739%)\n",
      "TRAIN: 138 [3200/4038 (79%)]\tLoss: 0.027697, Accuracy: 8/8 (100.000%)\n",
      "VAL:   LOSS--> 0.1765 (0.1765)\tACC-->87.500 (87.500)\n",
      " * Accuracy 96.6292\n"
     ]
    },
    {
     "name": "stderr",
     "output_type": "stream",
     "text": [
      "\r",
      " 63%|████████████████████████████████████████████████████████████████████████████████████████▍                                                   | 139/220 [6:07:21<3:34:04, 158.57s/it]"
     ]
    },
    {
     "name": "stdout",
     "output_type": "stream",
     "text": [
      "TRAIN: LOSS-->0.0935 (0.0935)\tACC-->100.000% (100.000%)\n",
      "TRAIN: 139 [0/4038 (0%)]\tLoss: 0.093522, Accuracy: 8/8 (100.000%)\n",
      "TRAIN: LOSS-->0.6913 (0.2668)\tACC-->75.000% (90.050%)\n",
      "TRAIN: 139 [1600/4038 (40%)]\tLoss: 0.691335, Accuracy: 6/8 (75.000%)\n",
      "TRAIN: LOSS-->0.4424 (0.2532)\tACC-->87.500% (91.334%)\n",
      "TRAIN: 139 [3200/4038 (79%)]\tLoss: 0.442442, Accuracy: 7/8 (87.500%)\n",
      "VAL:   LOSS--> 0.0069 (0.0069)\tACC-->100.000 (100.000)\n",
      " * Accuracy 92.9775\n"
     ]
    },
    {
     "name": "stderr",
     "output_type": "stream",
     "text": [
      "\r",
      " 64%|█████████████████████████████████████████████████████████████████████████████████████████                                                   | 140/220 [6:09:59<3:31:25, 158.56s/it]"
     ]
    },
    {
     "name": "stdout",
     "output_type": "stream",
     "text": [
      "TRAIN: LOSS-->0.0900 (0.0900)\tACC-->100.000% (100.000%)\n",
      "TRAIN: 140 [0/4038 (0%)]\tLoss: 0.090023, Accuracy: 8/8 (100.000%)\n",
      "TRAIN: LOSS-->0.0590 (0.2706)\tACC-->100.000% (90.112%)\n",
      "TRAIN: 140 [1600/4038 (40%)]\tLoss: 0.058992, Accuracy: 8/8 (100.000%)\n",
      "TRAIN: LOSS-->0.0491 (0.2674)\tACC-->100.000% (90.461%)\n",
      "TRAIN: 140 [3200/4038 (79%)]\tLoss: 0.049150, Accuracy: 8/8 (100.000%)\n",
      "VAL:   LOSS--> 0.1262 (0.1262)\tACC-->100.000 (100.000)\n",
      " * Accuracy 95.6461\n"
     ]
    },
    {
     "name": "stderr",
     "output_type": "stream",
     "text": [
      "\r",
      " 64%|█████████████████████████████████████████████████████████████████████████████████████████▋                                                  | 141/220 [6:12:35<3:28:45, 158.55s/it]"
     ]
    },
    {
     "name": "stdout",
     "output_type": "stream",
     "text": [
      "TRAIN: LOSS-->0.4795 (0.4795)\tACC-->75.000% (75.000%)\n",
      "TRAIN: 141 [0/4038 (0%)]\tLoss: 0.479466, Accuracy: 6/8 (75.000%)\n",
      "TRAIN: LOSS-->0.0739 (0.2536)\tACC-->100.000% (91.294%)\n",
      "TRAIN: 141 [1600/4038 (40%)]\tLoss: 0.073867, Accuracy: 8/8 (100.000%)\n",
      "TRAIN: LOSS-->0.4663 (0.2439)\tACC-->75.000% (91.708%)\n",
      "TRAIN: 141 [3200/4038 (79%)]\tLoss: 0.466313, Accuracy: 6/8 (75.000%)\n",
      "VAL:   LOSS--> 0.1351 (0.1351)\tACC-->100.000 (100.000)\n",
      " * Accuracy 94.5225\n"
     ]
    },
    {
     "name": "stderr",
     "output_type": "stream",
     "text": [
      "\r",
      " 65%|██████████████████████████████████████████████████████████████████████████████████████████▎                                                 | 142/220 [6:15:12<3:26:06, 158.54s/it]"
     ]
    },
    {
     "name": "stdout",
     "output_type": "stream",
     "text": [
      "TRAIN: LOSS-->0.2962 (0.2962)\tACC-->87.500% (87.500%)\n",
      "TRAIN: 142 [0/4038 (0%)]\tLoss: 0.296168, Accuracy: 7/8 (87.500%)\n",
      "TRAIN: LOSS-->0.6788 (0.2683)\tACC-->75.000% (91.107%)\n",
      "TRAIN: 142 [1600/4038 (40%)]\tLoss: 0.678824, Accuracy: 6/8 (75.000%)\n",
      "TRAIN: LOSS-->0.5695 (0.2599)\tACC-->75.000% (90.991%)\n",
      "TRAIN: 142 [3200/4038 (79%)]\tLoss: 0.569483, Accuracy: 6/8 (75.000%)\n",
      "VAL:   LOSS--> 0.0026 (0.0026)\tACC-->100.000 (100.000)\n",
      " * Accuracy 96.6292\n"
     ]
    },
    {
     "name": "stderr",
     "output_type": "stream",
     "text": [
      "\r",
      " 65%|███████████████████████████████████████████████████████████████████████████████████████████                                                 | 143/220 [6:17:49<3:23:26, 158.53s/it]"
     ]
    },
    {
     "name": "stdout",
     "output_type": "stream",
     "text": [
      "TRAIN: LOSS-->1.0746 (1.0746)\tACC-->75.000% (75.000%)\n",
      "TRAIN: 143 [0/4038 (0%)]\tLoss: 1.074621, Accuracy: 6/8 (75.000%)\n",
      "TRAIN: LOSS-->0.0184 (0.2389)\tACC-->100.000% (92.040%)\n",
      "TRAIN: 143 [1600/4038 (40%)]\tLoss: 0.018433, Accuracy: 8/8 (100.000%)\n",
      "TRAIN: LOSS-->0.2572 (0.2324)\tACC-->87.500% (92.363%)\n",
      "TRAIN: 143 [3200/4038 (79%)]\tLoss: 0.257240, Accuracy: 7/8 (87.500%)\n",
      "VAL:   LOSS--> 0.0343 (0.0343)\tACC-->100.000 (100.000)\n",
      " * Accuracy 96.0674\n"
     ]
    },
    {
     "name": "stderr",
     "output_type": "stream",
     "text": [
      "\r",
      " 65%|███████████████████████████████████████████████████████████████████████████████████████████▋                                                | 144/220 [6:20:26<3:20:47, 158.52s/it]"
     ]
    },
    {
     "name": "stdout",
     "output_type": "stream",
     "text": [
      "TRAIN: LOSS-->0.2241 (0.2241)\tACC-->87.500% (87.500%)\n",
      "TRAIN: 144 [0/4038 (0%)]\tLoss: 0.224097, Accuracy: 7/8 (87.500%)\n",
      "TRAIN: LOSS-->0.4711 (0.2914)\tACC-->87.500% (89.863%)\n",
      "TRAIN: 144 [1600/4038 (40%)]\tLoss: 0.471105, Accuracy: 7/8 (87.500%)\n",
      "TRAIN: LOSS-->0.0144 (0.2612)\tACC-->100.000% (90.960%)\n",
      "TRAIN: 144 [3200/4038 (79%)]\tLoss: 0.014432, Accuracy: 8/8 (100.000%)\n",
      "VAL:   LOSS--> 0.0011 (0.0011)\tACC-->100.000 (100.000)\n",
      " * Accuracy 96.7697\n"
     ]
    },
    {
     "name": "stderr",
     "output_type": "stream",
     "text": [
      "\r",
      " 66%|████████████████████████████████████████████████████████████████████████████████████████████▎                                               | 145/220 [6:23:04<3:18:08, 158.51s/it]"
     ]
    },
    {
     "name": "stdout",
     "output_type": "stream",
     "text": [
      "TRAIN: LOSS-->0.0593 (0.0593)\tACC-->100.000% (100.000%)\n",
      "TRAIN: 145 [0/4038 (0%)]\tLoss: 0.059314, Accuracy: 8/8 (100.000%)\n",
      "TRAIN: LOSS-->0.1784 (0.2426)\tACC-->100.000% (90.920%)\n",
      "TRAIN: 145 [1600/4038 (40%)]\tLoss: 0.178447, Accuracy: 8/8 (100.000%)\n",
      "TRAIN: LOSS-->0.2793 (0.2540)\tACC-->100.000% (90.711%)\n",
      "TRAIN: 145 [3200/4038 (79%)]\tLoss: 0.279321, Accuracy: 8/8 (100.000%)\n",
      "VAL:   LOSS--> 0.0280 (0.0280)\tACC-->100.000 (100.000)\n",
      " * Accuracy 95.2247\n"
     ]
    },
    {
     "name": "stderr",
     "output_type": "stream",
     "text": [
      "\r",
      " 66%|████████████████████████████████████████████████████████████████████████████████████████████▉                                               | 146/220 [6:25:41<3:15:29, 158.50s/it]"
     ]
    },
    {
     "name": "stdout",
     "output_type": "stream",
     "text": [
      "TRAIN: LOSS-->0.0212 (0.0212)\tACC-->100.000% (100.000%)\n",
      "TRAIN: 146 [0/4038 (0%)]\tLoss: 0.021246, Accuracy: 8/8 (100.000%)\n",
      "TRAIN: LOSS-->0.8312 (0.2393)\tACC-->62.500% (91.604%)\n",
      "TRAIN: 146 [1600/4038 (40%)]\tLoss: 0.831152, Accuracy: 5/8 (62.500%)\n",
      "TRAIN: LOSS-->0.0604 (0.2505)\tACC-->100.000% (91.428%)\n",
      "TRAIN: 146 [3200/4038 (79%)]\tLoss: 0.060385, Accuracy: 8/8 (100.000%)\n",
      "VAL:   LOSS--> 0.0476 (0.0476)\tACC-->100.000 (100.000)\n",
      " * Accuracy 96.4888\n"
     ]
    },
    {
     "name": "stderr",
     "output_type": "stream",
     "text": [
      "\r",
      " 67%|█████████████████████████████████████████████████████████████████████████████████████████████▌                                              | 147/220 [6:28:18<3:12:49, 158.49s/it]"
     ]
    },
    {
     "name": "stdout",
     "output_type": "stream",
     "text": [
      "TRAIN: LOSS-->0.1699 (0.1699)\tACC-->100.000% (100.000%)\n",
      "TRAIN: 147 [0/4038 (0%)]\tLoss: 0.169902, Accuracy: 8/8 (100.000%)\n",
      "TRAIN: LOSS-->0.4641 (0.2190)\tACC-->75.000% (93.035%)\n",
      "TRAIN: 147 [1600/4038 (40%)]\tLoss: 0.464111, Accuracy: 6/8 (75.000%)\n",
      "TRAIN: LOSS-->0.0065 (0.2428)\tACC-->100.000% (91.771%)\n",
      "TRAIN: 147 [3200/4038 (79%)]\tLoss: 0.006459, Accuracy: 8/8 (100.000%)\n",
      "VAL:   LOSS--> 0.0003 (0.0003)\tACC-->100.000 (100.000)\n",
      " * Accuracy 97.1910\n"
     ]
    },
    {
     "name": "stderr",
     "output_type": "stream",
     "text": [
      "\r",
      " 67%|██████████████████████████████████████████████████████████████████████████████████████████████▏                                             | 148/220 [6:30:55<3:10:10, 158.48s/it]"
     ]
    },
    {
     "name": "stdout",
     "output_type": "stream",
     "text": [
      "TRAIN: LOSS-->0.0219 (0.0219)\tACC-->100.000% (100.000%)\n",
      "TRAIN: 148 [0/4038 (0%)]\tLoss: 0.021906, Accuracy: 8/8 (100.000%)\n",
      "TRAIN: LOSS-->0.2116 (0.2326)\tACC-->87.500% (91.791%)\n",
      "TRAIN: 148 [1600/4038 (40%)]\tLoss: 0.211600, Accuracy: 7/8 (87.500%)\n",
      "TRAIN: LOSS-->0.0478 (0.2267)\tACC-->100.000% (91.802%)\n",
      "TRAIN: 148 [3200/4038 (79%)]\tLoss: 0.047829, Accuracy: 8/8 (100.000%)\n",
      "VAL:   LOSS--> 0.1429 (0.1429)\tACC-->87.500 (87.500)\n",
      " * Accuracy 95.0843\n"
     ]
    },
    {
     "name": "stderr",
     "output_type": "stream",
     "text": [
      "\r",
      " 68%|██████████████████████████████████████████████████████████████████████████████████████████████▊                                             | 149/220 [6:33:32<3:07:31, 158.48s/it]"
     ]
    },
    {
     "name": "stdout",
     "output_type": "stream",
     "text": [
      "TRAIN: LOSS-->0.1106 (0.1106)\tACC-->100.000% (100.000%)\n",
      "TRAIN: 149 [0/4038 (0%)]\tLoss: 0.110621, Accuracy: 8/8 (100.000%)\n",
      "TRAIN: LOSS-->0.3670 (0.2780)\tACC-->87.500% (90.734%)\n",
      "TRAIN: 149 [1600/4038 (40%)]\tLoss: 0.367031, Accuracy: 7/8 (87.500%)\n",
      "TRAIN: LOSS-->0.0945 (0.2611)\tACC-->100.000% (91.054%)\n",
      "TRAIN: 149 [3200/4038 (79%)]\tLoss: 0.094484, Accuracy: 8/8 (100.000%)\n",
      "VAL:   LOSS--> 0.0156 (0.0156)\tACC-->100.000 (100.000)\n",
      " * Accuracy 95.0843\n"
     ]
    },
    {
     "name": "stderr",
     "output_type": "stream",
     "text": [
      "\r",
      " 68%|███████████████████████████████████████████████████████████████████████████████████████████████▍                                            | 150/220 [6:36:09<3:04:52, 158.47s/it]"
     ]
    },
    {
     "name": "stdout",
     "output_type": "stream",
     "text": [
      "TRAIN: LOSS-->0.0224 (0.0224)\tACC-->100.000% (100.000%)\n",
      "TRAIN: 150 [0/4038 (0%)]\tLoss: 0.022436, Accuracy: 8/8 (100.000%)\n",
      "TRAIN: LOSS-->0.2203 (0.2582)\tACC-->87.500% (91.107%)\n",
      "TRAIN: 150 [1600/4038 (40%)]\tLoss: 0.220291, Accuracy: 7/8 (87.500%)\n",
      "TRAIN: LOSS-->0.3214 (0.2482)\tACC-->87.500% (91.147%)\n",
      "TRAIN: 150 [3200/4038 (79%)]\tLoss: 0.321390, Accuracy: 7/8 (87.500%)\n",
      "VAL:   LOSS--> 0.0270 (0.0270)\tACC-->100.000 (100.000)\n",
      " * Accuracy 96.7697\n"
     ]
    },
    {
     "name": "stderr",
     "output_type": "stream",
     "text": [
      "\r",
      " 69%|████████████████████████████████████████████████████████████████████████████████████████████████                                            | 151/220 [6:38:46<3:02:13, 158.45s/it]"
     ]
    },
    {
     "name": "stdout",
     "output_type": "stream",
     "text": [
      "TRAIN: LOSS-->0.1593 (0.1593)\tACC-->87.500% (87.500%)\n",
      "TRAIN: 151 [0/4038 (0%)]\tLoss: 0.159260, Accuracy: 7/8 (87.500%)\n",
      "TRAIN: LOSS-->0.2639 (0.2710)\tACC-->87.500% (89.988%)\n",
      "TRAIN: 151 [1600/4038 (40%)]\tLoss: 0.263946, Accuracy: 7/8 (87.500%)\n",
      "TRAIN: LOSS-->0.4267 (0.2484)\tACC-->75.000% (90.960%)\n",
      "TRAIN: 151 [3200/4038 (79%)]\tLoss: 0.426745, Accuracy: 6/8 (75.000%)\n",
      "VAL:   LOSS--> 0.0003 (0.0003)\tACC-->100.000 (100.000)\n",
      " * Accuracy 96.7697\n"
     ]
    },
    {
     "name": "stderr",
     "output_type": "stream",
     "text": [
      "\r",
      " 69%|████████████████████████████████████████████████████████████████████████████████████████████████▋                                           | 152/220 [6:41:23<2:59:34, 158.44s/it]"
     ]
    },
    {
     "name": "stdout",
     "output_type": "stream",
     "text": [
      "TRAIN: LOSS-->0.1384 (0.1384)\tACC-->87.500% (87.500%)\n",
      "TRAIN: 152 [0/4038 (0%)]\tLoss: 0.138373, Accuracy: 7/8 (87.500%)\n",
      "TRAIN: LOSS-->0.0639 (0.2565)\tACC-->100.000% (91.294%)\n",
      "TRAIN: 152 [1600/4038 (40%)]\tLoss: 0.063950, Accuracy: 8/8 (100.000%)\n",
      "TRAIN: LOSS-->0.0084 (0.2309)\tACC-->100.000% (91.958%)\n",
      "TRAIN: 152 [3200/4038 (79%)]\tLoss: 0.008400, Accuracy: 8/8 (100.000%)\n",
      "VAL:   LOSS--> 0.0971 (0.0971)\tACC-->100.000 (100.000)\n",
      " * Accuracy 97.6124\n"
     ]
    },
    {
     "name": "stderr",
     "output_type": "stream",
     "text": [
      "\r",
      " 70%|█████████████████████████████████████████████████████████████████████████████████████████████████▎                                          | 153/220 [6:44:00<2:56:55, 158.44s/it]"
     ]
    },
    {
     "name": "stdout",
     "output_type": "stream",
     "text": [
      "TRAIN: LOSS-->0.0397 (0.0397)\tACC-->100.000% (100.000%)\n",
      "TRAIN: 153 [0/4038 (0%)]\tLoss: 0.039733, Accuracy: 8/8 (100.000%)\n",
      "TRAIN: LOSS-->0.1220 (0.2464)\tACC-->87.500% (91.604%)\n",
      "TRAIN: 153 [1600/4038 (40%)]\tLoss: 0.122048, Accuracy: 7/8 (87.500%)\n",
      "TRAIN: LOSS-->0.0549 (0.2423)\tACC-->100.000% (91.334%)\n",
      "TRAIN: 153 [3200/4038 (79%)]\tLoss: 0.054863, Accuracy: 8/8 (100.000%)\n",
      "VAL:   LOSS--> 0.0797 (0.0797)\tACC-->100.000 (100.000)\n",
      " * Accuracy 94.9438\n"
     ]
    },
    {
     "name": "stderr",
     "output_type": "stream",
     "text": [
      "\r",
      " 70%|██████████████████████████████████████████████████████████████████████████████████████████████████                                          | 154/220 [6:46:38<2:54:16, 158.43s/it]"
     ]
    },
    {
     "name": "stdout",
     "output_type": "stream",
     "text": [
      "TRAIN: LOSS-->0.0357 (0.0357)\tACC-->100.000% (100.000%)\n",
      "TRAIN: 154 [0/4038 (0%)]\tLoss: 0.035689, Accuracy: 8/8 (100.000%)\n",
      "TRAIN: LOSS-->0.2383 (0.2184)\tACC-->87.500% (92.164%)\n",
      "TRAIN: 154 [1600/4038 (40%)]\tLoss: 0.238313, Accuracy: 7/8 (87.500%)\n",
      "TRAIN: LOSS-->0.0418 (0.2285)\tACC-->100.000% (91.552%)\n",
      "TRAIN: 154 [3200/4038 (79%)]\tLoss: 0.041786, Accuracy: 8/8 (100.000%)\n",
      "VAL:   LOSS--> 0.1191 (0.1191)\tACC-->87.500 (87.500)\n",
      " * Accuracy 97.1910\n"
     ]
    },
    {
     "name": "stderr",
     "output_type": "stream",
     "text": [
      "\r",
      " 70%|██████████████████████████████████████████████████████████████████████████████████████████████████▋                                         | 155/220 [6:49:16<2:51:37, 158.43s/it]"
     ]
    },
    {
     "name": "stdout",
     "output_type": "stream",
     "text": [
      "TRAIN: LOSS-->0.0957 (0.0957)\tACC-->87.500% (87.500%)\n",
      "TRAIN: 155 [0/4038 (0%)]\tLoss: 0.095682, Accuracy: 7/8 (87.500%)\n",
      "TRAIN: LOSS-->0.1318 (0.2149)\tACC-->100.000% (92.848%)\n",
      "TRAIN: 155 [1600/4038 (40%)]\tLoss: 0.131780, Accuracy: 8/8 (100.000%)\n",
      "TRAIN: LOSS-->0.0764 (0.2158)\tACC-->100.000% (92.737%)\n",
      "TRAIN: 155 [3200/4038 (79%)]\tLoss: 0.076389, Accuracy: 8/8 (100.000%)\n",
      "VAL:   LOSS--> 0.0098 (0.0098)\tACC-->100.000 (100.000)\n",
      " * Accuracy 97.0506\n"
     ]
    },
    {
     "name": "stderr",
     "output_type": "stream",
     "text": [
      "\r",
      " 71%|███████████████████████████████████████████████████████████████████████████████████████████████████▎                                        | 156/220 [6:51:53<2:48:58, 158.42s/it]"
     ]
    },
    {
     "name": "stdout",
     "output_type": "stream",
     "text": [
      "TRAIN: LOSS-->0.1281 (0.1281)\tACC-->87.500% (87.500%)\n",
      "TRAIN: 156 [0/4038 (0%)]\tLoss: 0.128086, Accuracy: 7/8 (87.500%)\n",
      "TRAIN: LOSS-->0.1107 (0.2407)\tACC-->100.000% (91.542%)\n",
      "TRAIN: 156 [1600/4038 (40%)]\tLoss: 0.110717, Accuracy: 8/8 (100.000%)\n",
      "TRAIN: LOSS-->0.2647 (0.2256)\tACC-->87.500% (91.708%)\n",
      "TRAIN: 156 [3200/4038 (79%)]\tLoss: 0.264658, Accuracy: 7/8 (87.500%)\n",
      "VAL:   LOSS--> 0.0028 (0.0028)\tACC-->100.000 (100.000)\n",
      " * Accuracy 95.3652\n"
     ]
    },
    {
     "name": "stderr",
     "output_type": "stream",
     "text": [
      "\r",
      " 71%|███████████████████████████████████████████████████████████████████████████████████████████████████▉                                        | 157/220 [6:54:30<2:46:20, 158.41s/it]"
     ]
    },
    {
     "name": "stdout",
     "output_type": "stream",
     "text": [
      "TRAIN: LOSS-->0.0471 (0.0471)\tACC-->100.000% (100.000%)\n",
      "TRAIN: 157 [0/4038 (0%)]\tLoss: 0.047052, Accuracy: 8/8 (100.000%)\n",
      "TRAIN: LOSS-->0.0711 (0.2469)\tACC-->100.000% (91.045%)\n",
      "TRAIN: 157 [1600/4038 (40%)]\tLoss: 0.071109, Accuracy: 8/8 (100.000%)\n",
      "TRAIN: LOSS-->0.0703 (0.2431)\tACC-->100.000% (91.521%)\n",
      "TRAIN: 157 [3200/4038 (79%)]\tLoss: 0.070307, Accuracy: 8/8 (100.000%)\n",
      "VAL:   LOSS--> 0.2925 (0.2925)\tACC-->75.000 (75.000)\n",
      " * Accuracy 94.3820\n"
     ]
    },
    {
     "name": "stderr",
     "output_type": "stream",
     "text": [
      "\r",
      " 72%|████████████████████████████████████████████████████████████████████████████████████████████████████▌                                       | 158/220 [6:57:07<2:43:41, 158.40s/it]"
     ]
    },
    {
     "name": "stdout",
     "output_type": "stream",
     "text": [
      "TRAIN: LOSS-->0.1030 (0.1030)\tACC-->100.000% (100.000%)\n",
      "TRAIN: 158 [0/4038 (0%)]\tLoss: 0.102964, Accuracy: 8/8 (100.000%)\n",
      "TRAIN: LOSS-->0.4411 (0.2425)\tACC-->87.500% (91.294%)\n",
      "TRAIN: 158 [1600/4038 (40%)]\tLoss: 0.441077, Accuracy: 7/8 (87.500%)\n",
      "TRAIN: LOSS-->0.0123 (0.2412)\tACC-->100.000% (91.521%)\n",
      "TRAIN: 158 [3200/4038 (79%)]\tLoss: 0.012275, Accuracy: 8/8 (100.000%)\n",
      "VAL:   LOSS--> 0.0198 (0.0198)\tACC-->100.000 (100.000)\n",
      " * Accuracy 96.3483\n"
     ]
    },
    {
     "name": "stderr",
     "output_type": "stream",
     "text": [
      "\r",
      " 72%|█████████████████████████████████████████████████████████████████████████████████████████████████████▏                                      | 159/220 [6:59:45<2:41:02, 158.40s/it]"
     ]
    },
    {
     "name": "stdout",
     "output_type": "stream",
     "text": [
      "TRAIN: LOSS-->0.5253 (0.5253)\tACC-->75.000% (75.000%)\n",
      "TRAIN: 159 [0/4038 (0%)]\tLoss: 0.525268, Accuracy: 6/8 (75.000%)\n",
      "TRAIN: LOSS-->0.0680 (0.2451)\tACC-->100.000% (91.356%)\n",
      "TRAIN: 159 [1600/4038 (40%)]\tLoss: 0.067978, Accuracy: 8/8 (100.000%)\n",
      "TRAIN: LOSS-->0.0066 (0.2345)\tACC-->100.000% (91.926%)\n",
      "TRAIN: 159 [3200/4038 (79%)]\tLoss: 0.006583, Accuracy: 8/8 (100.000%)\n",
      "VAL:   LOSS--> 0.0005 (0.0005)\tACC-->100.000 (100.000)\n",
      " * Accuracy 95.5056\n"
     ]
    },
    {
     "name": "stderr",
     "output_type": "stream",
     "text": [
      "\r",
      " 73%|█████████████████████████████████████████████████████████████████████████████████████████████████████▊                                      | 160/220 [7:02:21<2:38:23, 158.39s/it]"
     ]
    },
    {
     "name": "stdout",
     "output_type": "stream",
     "text": [
      "TRAIN: LOSS-->0.3801 (0.3801)\tACC-->87.500% (87.500%)\n",
      "TRAIN: 160 [0/4038 (0%)]\tLoss: 0.380050, Accuracy: 7/8 (87.500%)\n",
      "TRAIN: LOSS-->0.0151 (0.2262)\tACC-->100.000% (91.978%)\n",
      "TRAIN: 160 [1600/4038 (40%)]\tLoss: 0.015075, Accuracy: 8/8 (100.000%)\n",
      "TRAIN: LOSS-->0.1915 (0.2465)\tACC-->87.500% (91.272%)\n",
      "TRAIN: 160 [3200/4038 (79%)]\tLoss: 0.191508, Accuracy: 7/8 (87.500%)\n",
      "VAL:   LOSS--> 0.5498 (0.5498)\tACC-->75.000 (75.000)\n",
      " * Accuracy 96.0674\n"
     ]
    },
    {
     "name": "stderr",
     "output_type": "stream",
     "text": [
      "\r",
      " 73%|██████████████████████████████████████████████████████████████████████████████████████████████████████▍                                     | 161/220 [7:04:58<2:35:44, 158.38s/it]"
     ]
    },
    {
     "name": "stdout",
     "output_type": "stream",
     "text": [
      "TRAIN: LOSS-->0.1237 (0.1237)\tACC-->87.500% (87.500%)\n",
      "TRAIN: 161 [0/4038 (0%)]\tLoss: 0.123735, Accuracy: 7/8 (87.500%)\n",
      "TRAIN: LOSS-->0.0483 (0.2382)\tACC-->100.000% (91.791%)\n",
      "TRAIN: 161 [1600/4038 (40%)]\tLoss: 0.048301, Accuracy: 8/8 (100.000%)\n",
      "TRAIN: LOSS-->0.2154 (0.2470)\tACC-->100.000% (91.459%)\n",
      "TRAIN: 161 [3200/4038 (79%)]\tLoss: 0.215400, Accuracy: 8/8 (100.000%)\n",
      "VAL:   LOSS--> 0.5231 (0.5231)\tACC-->75.000 (75.000)\n",
      " * Accuracy 97.7528\n"
     ]
    },
    {
     "name": "stderr",
     "output_type": "stream",
     "text": [
      "\r",
      " 74%|███████████████████████████████████████████████████████████████████████████████████████████████████████                                     | 162/220 [7:07:36<2:33:05, 158.37s/it]"
     ]
    },
    {
     "name": "stdout",
     "output_type": "stream",
     "text": [
      "TRAIN: LOSS-->0.2792 (0.2792)\tACC-->87.500% (87.500%)\n",
      "TRAIN: 162 [0/4038 (0%)]\tLoss: 0.279201, Accuracy: 7/8 (87.500%)\n",
      "TRAIN: LOSS-->0.1834 (0.2225)\tACC-->87.500% (91.729%)\n",
      "TRAIN: 162 [1600/4038 (40%)]\tLoss: 0.183393, Accuracy: 7/8 (87.500%)\n",
      "TRAIN: LOSS-->0.1758 (0.2388)\tACC-->87.500% (91.397%)\n",
      "TRAIN: 162 [3200/4038 (79%)]\tLoss: 0.175850, Accuracy: 7/8 (87.500%)\n",
      "VAL:   LOSS--> 0.0318 (0.0318)\tACC-->100.000 (100.000)\n",
      " * Accuracy 95.5056\n"
     ]
    },
    {
     "name": "stderr",
     "output_type": "stream",
     "text": [
      "\r",
      " 74%|███████████████████████████████████████████████████████████████████████████████████████████████████████▋                                    | 163/220 [7:10:13<2:30:26, 158.36s/it]"
     ]
    },
    {
     "name": "stdout",
     "output_type": "stream",
     "text": [
      "TRAIN: LOSS-->0.3631 (0.3631)\tACC-->75.000% (75.000%)\n",
      "TRAIN: 163 [0/4038 (0%)]\tLoss: 0.363129, Accuracy: 6/8 (75.000%)\n",
      "TRAIN: LOSS-->0.1402 (0.2230)\tACC-->100.000% (92.040%)\n",
      "TRAIN: 163 [1600/4038 (40%)]\tLoss: 0.140211, Accuracy: 8/8 (100.000%)\n",
      "TRAIN: LOSS-->0.0582 (0.2385)\tACC-->100.000% (91.365%)\n",
      "TRAIN: 163 [3200/4038 (79%)]\tLoss: 0.058179, Accuracy: 8/8 (100.000%)\n",
      "VAL:   LOSS--> 0.0022 (0.0022)\tACC-->100.000 (100.000)\n",
      " * Accuracy 95.5056\n"
     ]
    },
    {
     "name": "stderr",
     "output_type": "stream",
     "text": [
      "\r",
      " 75%|████████████████████████████████████████████████████████████████████████████████████████████████████████▎                                   | 164/220 [7:12:51<2:27:48, 158.36s/it]"
     ]
    },
    {
     "name": "stdout",
     "output_type": "stream",
     "text": [
      "TRAIN: LOSS-->0.0192 (0.0192)\tACC-->100.000% (100.000%)\n",
      "TRAIN: 164 [0/4038 (0%)]\tLoss: 0.019211, Accuracy: 8/8 (100.000%)\n",
      "TRAIN: LOSS-->0.7181 (0.2419)\tACC-->87.500% (91.915%)\n",
      "TRAIN: 164 [1600/4038 (40%)]\tLoss: 0.718140, Accuracy: 7/8 (87.500%)\n",
      "TRAIN: LOSS-->0.1254 (0.2357)\tACC-->100.000% (91.989%)\n",
      "TRAIN: 164 [3200/4038 (79%)]\tLoss: 0.125365, Accuracy: 8/8 (100.000%)\n",
      "VAL:   LOSS--> 0.0524 (0.0524)\tACC-->100.000 (100.000)\n",
      " * Accuracy 95.5056\n"
     ]
    },
    {
     "name": "stderr",
     "output_type": "stream",
     "text": [
      "\r",
      " 75%|█████████████████████████████████████████████████████████████████████████████████████████████████████████                                   | 165/220 [7:15:27<2:25:09, 158.35s/it]"
     ]
    },
    {
     "name": "stdout",
     "output_type": "stream",
     "text": [
      "TRAIN: LOSS-->0.5595 (0.5595)\tACC-->87.500% (87.500%)\n",
      "TRAIN: 165 [0/4038 (0%)]\tLoss: 0.559483, Accuracy: 7/8 (87.500%)\n",
      "TRAIN: LOSS-->0.1283 (0.2508)\tACC-->87.500% (91.418%)\n",
      "TRAIN: 165 [1600/4038 (40%)]\tLoss: 0.128290, Accuracy: 7/8 (87.500%)\n",
      "TRAIN: LOSS-->0.3936 (0.2340)\tACC-->62.500% (91.926%)\n",
      "TRAIN: 165 [3200/4038 (79%)]\tLoss: 0.393601, Accuracy: 5/8 (62.500%)\n",
      "VAL:   LOSS--> 0.0250 (0.0250)\tACC-->100.000 (100.000)\n",
      " * Accuracy 96.2079\n"
     ]
    },
    {
     "name": "stderr",
     "output_type": "stream",
     "text": [
      "\r",
      " 75%|█████████████████████████████████████████████████████████████████████████████████████████████████████████▋                                  | 166/220 [7:18:04<2:22:30, 158.34s/it]"
     ]
    },
    {
     "name": "stdout",
     "output_type": "stream",
     "text": [
      "TRAIN: LOSS-->0.4324 (0.4324)\tACC-->87.500% (87.500%)\n",
      "TRAIN: 166 [0/4038 (0%)]\tLoss: 0.432434, Accuracy: 7/8 (87.500%)\n",
      "TRAIN: LOSS-->0.0684 (0.2457)\tACC-->100.000% (92.475%)\n",
      "TRAIN: 166 [1600/4038 (40%)]\tLoss: 0.068357, Accuracy: 8/8 (100.000%)\n",
      "TRAIN: LOSS-->0.2466 (0.2445)\tACC-->87.500% (92.082%)\n",
      "TRAIN: 166 [3200/4038 (79%)]\tLoss: 0.246628, Accuracy: 7/8 (87.500%)\n",
      "VAL:   LOSS--> 0.2308 (0.2308)\tACC-->87.500 (87.500)\n",
      " * Accuracy 93.5393\n"
     ]
    },
    {
     "name": "stderr",
     "output_type": "stream",
     "text": [
      "\r",
      " 76%|██████████████████████████████████████████████████████████████████████████████████████████████████████████▎                                 | 167/220 [7:20:41<2:19:51, 158.33s/it]"
     ]
    },
    {
     "name": "stdout",
     "output_type": "stream",
     "text": [
      "TRAIN: LOSS-->0.0086 (0.0086)\tACC-->100.000% (100.000%)\n",
      "TRAIN: 167 [0/4038 (0%)]\tLoss: 0.008608, Accuracy: 8/8 (100.000%)\n",
      "TRAIN: LOSS-->0.0367 (0.2509)\tACC-->100.000% (91.356%)\n",
      "TRAIN: 167 [1600/4038 (40%)]\tLoss: 0.036678, Accuracy: 8/8 (100.000%)\n",
      "TRAIN: LOSS-->0.0846 (0.2289)\tACC-->100.000% (91.895%)\n",
      "TRAIN: 167 [3200/4038 (79%)]\tLoss: 0.084646, Accuracy: 8/8 (100.000%)\n",
      "VAL:   LOSS--> 0.0521 (0.0521)\tACC-->100.000 (100.000)\n",
      " * Accuracy 97.4719\n"
     ]
    },
    {
     "name": "stderr",
     "output_type": "stream",
     "text": [
      "\r",
      " 76%|██████████████████████████████████████████████████████████████████████████████████████████████████████████▉                                 | 168/220 [7:23:19<2:17:13, 158.33s/it]"
     ]
    },
    {
     "name": "stdout",
     "output_type": "stream",
     "text": [
      "TRAIN: LOSS-->0.2049 (0.2049)\tACC-->87.500% (87.500%)\n",
      "TRAIN: 168 [0/4038 (0%)]\tLoss: 0.204877, Accuracy: 7/8 (87.500%)\n",
      "TRAIN: LOSS-->0.3201 (0.2383)\tACC-->87.500% (91.418%)\n",
      "TRAIN: 168 [1600/4038 (40%)]\tLoss: 0.320100, Accuracy: 7/8 (87.500%)\n",
      "TRAIN: LOSS-->0.0225 (0.2315)\tACC-->100.000% (91.833%)\n",
      "TRAIN: 168 [3200/4038 (79%)]\tLoss: 0.022522, Accuracy: 8/8 (100.000%)\n",
      "VAL:   LOSS--> 0.0240 (0.0240)\tACC-->100.000 (100.000)\n",
      " * Accuracy 92.8371\n"
     ]
    },
    {
     "name": "stderr",
     "output_type": "stream",
     "text": [
      "\r",
      " 77%|███████████████████████████████████████████████████████████████████████████████████████████████████████████▌                                | 169/220 [7:25:56<2:14:34, 158.32s/it]"
     ]
    },
    {
     "name": "stdout",
     "output_type": "stream",
     "text": [
      "TRAIN: LOSS-->0.0588 (0.0588)\tACC-->100.000% (100.000%)\n",
      "TRAIN: 169 [0/4038 (0%)]\tLoss: 0.058756, Accuracy: 8/8 (100.000%)\n",
      "TRAIN: LOSS-->0.0029 (0.2293)\tACC-->100.000% (92.226%)\n",
      "TRAIN: 169 [1600/4038 (40%)]\tLoss: 0.002933, Accuracy: 8/8 (100.000%)\n",
      "TRAIN: LOSS-->0.1469 (0.2268)\tACC-->87.500% (92.519%)\n",
      "TRAIN: 169 [3200/4038 (79%)]\tLoss: 0.146903, Accuracy: 7/8 (87.500%)\n",
      "VAL:   LOSS--> 0.1689 (0.1689)\tACC-->87.500 (87.500)\n",
      " * Accuracy 96.3483\n"
     ]
    },
    {
     "name": "stderr",
     "output_type": "stream",
     "text": [
      "\r",
      " 77%|████████████████████████████████████████████████████████████████████████████████████████████████████████████▏                               | 170/220 [7:28:33<2:11:55, 158.32s/it]"
     ]
    },
    {
     "name": "stdout",
     "output_type": "stream",
     "text": [
      "TRAIN: LOSS-->0.0335 (0.0335)\tACC-->100.000% (100.000%)\n",
      "TRAIN: 170 [0/4038 (0%)]\tLoss: 0.033503, Accuracy: 8/8 (100.000%)\n",
      "TRAIN: LOSS-->0.5490 (0.2402)\tACC-->75.000% (92.102%)\n",
      "TRAIN: 170 [1600/4038 (40%)]\tLoss: 0.549001, Accuracy: 6/8 (75.000%)\n",
      "TRAIN: LOSS-->0.2561 (0.2512)\tACC-->100.000% (91.490%)\n",
      "TRAIN: 170 [3200/4038 (79%)]\tLoss: 0.256085, Accuracy: 8/8 (100.000%)\n",
      "VAL:   LOSS--> 0.0000 (0.0000)\tACC-->100.000 (100.000)\n",
      " * Accuracy 95.7865\n"
     ]
    },
    {
     "name": "stderr",
     "output_type": "stream",
     "text": [
      "\r",
      " 78%|████████████████████████████████████████████████████████████████████████████████████████████████████████████▊                               | 171/220 [7:31:11<2:09:17, 158.31s/it]"
     ]
    },
    {
     "name": "stdout",
     "output_type": "stream",
     "text": [
      "TRAIN: LOSS-->0.0869 (0.0869)\tACC-->100.000% (100.000%)\n",
      "TRAIN: 171 [0/4038 (0%)]\tLoss: 0.086899, Accuracy: 8/8 (100.000%)\n",
      "TRAIN: LOSS-->1.3285 (0.2299)\tACC-->62.500% (92.164%)\n",
      "TRAIN: 171 [1600/4038 (40%)]\tLoss: 1.328461, Accuracy: 5/8 (62.500%)\n"
     ]
    }
   ],
   "source": [
    "sample_submission = pd.read_csv('sample_submission.csv')\n",
    "sample_submission.columns = ['file', 'species']\n",
    "# sample_submission['category_id'] = 0\n",
    "sample_submission.head(3)\n",
    "\n",
    "test_trans = valid_trans\n",
    "test_data_dir = 'd:/db/data/seedlings/test/'\n",
    "\n",
    "if __name__ == '__main__':  \n",
    "    epochs=220\n",
    "    runId = datetime.datetime.now().strftime('%Y-%m-%d_%H-%M-%S')    \n",
    "    recorder = RecorderMeter(epochs)  # epoc is updated\n",
    "#     model_name = (type(model).__name__)\n",
    "\n",
    "    exp_name = datetime.datetime.now().strftime(model_name + '_' + dataset + '_%Y-%m-%d_%H-%M-%S')    \n",
    "    mPath = './logs' + '/' + dataset + '/' + model_name + '/'    \n",
    "    if not os.path.isdir(mPath):\n",
    "        os.makedirs(mPath)    \n",
    "    print(\"Random Seed: {}\".format(manualSeed))\n",
    "    print(\"python version : {}\".format(sys.version.replace('\\n', ' ')))\n",
    "    print(\"torch  version : {}\".format(torch.__version__))\n",
    "    print(\"cudnn  version : {}\".format(torch.backends.cudnn.version()))    \n",
    "    print(\"=> Final model name '{}'\".format(model_name))            \n",
    "    print (\"MODEL: {}\".format( str(model_name)))\n",
    "    print (\"dataset: {}\".format(dataset))\n",
    "    print('    Total params: %.2fM' % (sum(p.numel() for p in model.parameters()) / 1000000.0))    \n",
    "    \n",
    "    print (\"MODEL: {}\".format( str(type(model).__name__)))\n",
    "    \n",
    "    start_training_time = time.time()\n",
    "    training_time=time.time()\n",
    "    for epoch in tqdm(range(0, epochs)):        \n",
    "        train_result, accuracy_tr=train(t_loader, model, epoch, optimizer)\n",
    "        val_loss, val_accuracy= validate(v_loader, model, epoch)  \n",
    "        \n",
    "        recorder.update(epoch, train_result, accuracy_tr, val_loss, val_accuracy) \n",
    "        training_time=time.time() - start_training_time\n",
    "        recorder.plot_curve(os.path.join(mPath, model_name + '_' + exp_name + '.png'),training_time, model, model_name,\n",
    "                            str(dataset_sizes),\n",
    "                        batch_size, lr,dataset,manualSeed,len(classes))\n",
    "        \n",
    "        if float(val_accuracy) > float(98.0):            \n",
    "            print (\"EARLY STOP\")            \n",
    "            df_pred=testModel(test_data_dir,model)\n",
    "            df_pred.to_csv(str(type(model).__name__) + '_' + str(val_accuracy) + '_' + \n",
    "                           str(epoch) + \"_sub.csv\", columns=('file', 'species'), index=None)\n",
    "            torch.save(model.state_dict(), os.path.join(mPath, model_name + '_' + runId + '_' + str(val_accuracy) + '_.pth'))                        "
   ]
  },
  {
   "cell_type": "code",
   "execution_count": null,
   "metadata": {
    "colab": {
     "autoexec": {
      "startup": false,
      "wait_interval": 0
     }
    },
    "colab_type": "code",
    "collapsed": true,
    "id": "9mH8koj_zpTc"
   },
   "outputs": [],
   "source": [
    "torch.save(model.state_dict(), os.path.join(mPath, model_name + '_' + runId + '_' + str(val_accuracy) + 'FINAL_.pth'))"
   ]
  },
  {
   "cell_type": "markdown",
   "metadata": {
    "colab_type": "text",
    "id": "CZbOD_cEzpTg"
   },
   "source": [
    "In this step, participants will be asked to provide the following classification rates:\n",
    "\n",
    "-- TP (True Positive, which is the number of OP people correctly identified),\n",
    "\n",
    "-- FP (False Positive, which is the number of CT people incorrectly identified),\n",
    "\n",
    "-- TN (True Negative, which is the number of CT people correctly identified),\n",
    "\n",
    "-- FN (False Negative, which is the number of OP people incorrectly identified),\n",
    "\n",
    "-- Sn (True positive rate or sensitivity) as Sn = TP/(TP + FN),\n",
    "\n",
    "-- Sp (Specificity or True Negative Rate) as Sp = TN/(FP + TN)."
   ]
  },
  {
   "cell_type": "markdown",
   "metadata": {
    "colab_type": "text",
    "id": "xJl5xk-izpTh"
   },
   "source": [
    "## Confusion matrix code, from the scikit documentation"
   ]
  },
  {
   "cell_type": "code",
   "execution_count": 15,
   "metadata": {
    "colab": {
     "autoexec": {
      "startup": false,
      "wait_interval": 0
     }
    },
    "colab_type": "code",
    "collapsed": true,
    "id": "zSJhsAEAzpTi"
   },
   "outputs": [],
   "source": [
    "import itertools\n",
    "\n",
    "# Performance monitoring\n",
    "from time import process_time\n",
    "import matplotlib.pyplot as plt\n",
    "import numpy as np\n",
    "%matplotlib nbagg\n",
    "from sklearn.metrics import confusion_matrix\n",
    "\n",
    "def plot_confusion_matrix(cm, classes,\n",
    "                          normalize=False,\n",
    "                          title='Confusion matrix',\n",
    "                          cmap=plt.cm.Blues):\n",
    "    \"\"\"\n",
    "    This function prints and plots the confusion matrix.\n",
    "    Normalization can be applied by setting `normalize=True`.\n",
    "    \"\"\"\n",
    "    if normalize:\n",
    "        cm = cm.astype('float') / cm.sum(axis=1)[:, np.newaxis]\n",
    "        print(\"Normalized confusion matrix\")\n",
    "    else:\n",
    "        print('Confusion matrix, without normalization')\n",
    "\n",
    "    #print(cm)\n",
    "\n",
    "    plt.imshow(cm, interpolation='nearest', cmap=cmap)\n",
    "    plt.title(title)\n",
    "    plt.colorbar()\n",
    "    tick_marks = np.arange(len(classes))\n",
    "    plt.xticks(tick_marks, classes, rotation=45)\n",
    "    plt.yticks(tick_marks, classes)\n",
    "\n",
    "    fmt = '.2f' if normalize else 'd'\n",
    "    thresh = cm.max() / 2.\n",
    "    for i, j in itertools.product(range(cm.shape[0]), range(cm.shape[1])):\n",
    "        plt.text(j, i, format(cm[i, j], fmt),\n",
    "                 horizontalalignment=\"center\",\n",
    "                 color=\"white\" if cm[i, j] > thresh else \"black\")\n",
    "\n",
    "    plt.tight_layout()\n",
    "    plt.ylabel('True label')\n",
    "    plt.xlabel('Predicted label')\n",
    "\n",
    "def confusion_diagnostic(model) :\n",
    "    \"Displays a synthetic matrix, which represents our classifier performances.\"\n",
    "    y_test    = [] ; y_pred    = [] ; \n",
    "    for data, target in v_loader: # We won't load the testing dataset all at once:\n",
    "        # Load the data on the GPU if needed, and wrap it into an autodiff object ----\n",
    "        if use_cuda: data, target = data.cuda(), target.cuda()\n",
    "        data, target = Variable(data, volatile=True), Variable(target)\n",
    "        # Evaluation of our model on the test mini-batch -----------------------------\n",
    "        output     = model(data) # Forward pass through the model\n",
    "        pred       = output.data.max(1, keepdim=True)[1] # get the index of the max log-probability\n",
    "        y_test.append(target.data.cpu().numpy()) ; y_pred.append(pred.view(-1).cpu().numpy())\n",
    "    y_test = np.hstack(y_test) ; y_pred = np.hstack(y_pred)\n",
    "    \n",
    "    # Display --------------------------------------------------------------------   \n",
    "    cnf_matrix = confusion_matrix(y_test, y_pred)\n",
    "    fig = plt.figure(dpi=150)\n",
    "    plot_confusion_matrix(cnf_matrix, classes=classes,\n",
    "                      title='Confusion matrix')\n",
    "    fig.canvas.draw()"
   ]
  },
  {
   "cell_type": "code",
   "execution_count": 0,
   "metadata": {
    "colab": {
     "autoexec": {
      "startup": false,
      "wait_interval": 0
     }
    },
    "colab_type": "code",
    "collapsed": true,
    "id": "uKXfEI9KzpTp"
   },
   "outputs": [],
   "source": []
  }
 ],
 "metadata": {
  "accelerator": "GPU",
  "colab": {
   "default_view": {},
   "name": "generic-SeNet-SeedLings.ipynb",
   "provenance": [],
   "toc_visible": true,
   "version": "0.3.2",
   "views": {}
  },
  "kernelspec": {
   "display_name": "Python 3",
   "language": "python",
   "name": "python3"
  },
  "language_info": {
   "codemirror_mode": {
    "name": "ipython",
    "version": 3
   },
   "file_extension": ".py",
   "mimetype": "text/x-python",
   "name": "python",
   "nbconvert_exporter": "python",
   "pygments_lexer": "ipython3",
   "version": "3.6.2"
  }
 },
 "nbformat": 4,
 "nbformat_minor": 1
}
